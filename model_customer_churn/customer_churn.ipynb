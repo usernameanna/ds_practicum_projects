{
 "cells": [
  {
   "cell_type": "markdown",
   "metadata": {
    "toc": true
   },
   "source": [
    "<h1>Содержание<span class=\"tocSkip\"></span></h1>\n",
    "<div class=\"toc\"><ul class=\"toc-item\"><li><span><a href=\"#Подготовка-данных\" data-toc-modified-id=\"Подготовка-данных-1\"><span class=\"toc-item-num\">1&nbsp;&nbsp;</span>Подготовка данных</a></span><ul class=\"toc-item\"><li><span><a href=\"#Изучение-данных\" data-toc-modified-id=\"Изучение-данных-1.1\"><span class=\"toc-item-num\">1.1&nbsp;&nbsp;</span>Изучение данных</a></span></li><li><span><a href=\"#Предобработка-данных\" data-toc-modified-id=\"Предобработка-данных-1.2\"><span class=\"toc-item-num\">1.2&nbsp;&nbsp;</span>Предобработка данных</a></span></li><li><span><a href=\"#Корреляция-признаков\" data-toc-modified-id=\"Корреляция-признаков-1.3\"><span class=\"toc-item-num\">1.3&nbsp;&nbsp;</span>Корреляция признаков</a></span></li><li><span><a href=\"#One-Hot-Encoding\" data-toc-modified-id=\"One-Hot-Encoding-1.4\"><span class=\"toc-item-num\">1.4&nbsp;&nbsp;</span>One-Hot Encoding</a></span></li><li><span><a href=\"#Разбиение-данных-на-выборки\" data-toc-modified-id=\"Разбиение-данных-на-выборки-1.5\"><span class=\"toc-item-num\">1.5&nbsp;&nbsp;</span>Разбиение данных на выборки</a></span></li><li><span><a href=\"#Масштабирование-признаков\" data-toc-modified-id=\"Масштабирование-признаков-1.6\"><span class=\"toc-item-num\">1.6&nbsp;&nbsp;</span>Масштабирование признаков</a></span></li></ul></li><li><span><a href=\"#Исследование-задачи\" data-toc-modified-id=\"Исследование-задачи-2\"><span class=\"toc-item-num\">2&nbsp;&nbsp;</span>Исследование задачи</a></span></li><li><span><a href=\"#Борьба-с-дисбалансом\" data-toc-modified-id=\"Борьба-с-дисбалансом-3\"><span class=\"toc-item-num\">3&nbsp;&nbsp;</span>Борьба с дисбалансом</a></span><ul class=\"toc-item\"><li><span><a href=\"#Увеличение-выборки\" data-toc-modified-id=\"Увеличение-выборки-3.1\"><span class=\"toc-item-num\">3.1&nbsp;&nbsp;</span>Увеличение выборки</a></span></li><li><span><a href=\"#Уменьшение-выборки\" data-toc-modified-id=\"Уменьшение-выборки-3.2\"><span class=\"toc-item-num\">3.2&nbsp;&nbsp;</span>Уменьшение выборки</a></span></li><li><span><a href=\"#Порог-классификации\" data-toc-modified-id=\"Порог-классификации-3.3\"><span class=\"toc-item-num\">3.3&nbsp;&nbsp;</span>Порог классификации</a></span></li><li><span><a href=\"#Обучение-модели-на-train+valid-выборке\" data-toc-modified-id=\"Обучение-модели-на-train+valid-выборке-3.4\"><span class=\"toc-item-num\">3.4&nbsp;&nbsp;</span>Обучение модели на train+valid выборке</a></span></li><li><span><a href=\"#Подбор-гиперпараметров\" data-toc-modified-id=\"Подбор-гиперпараметров-3.5\"><span class=\"toc-item-num\">3.5&nbsp;&nbsp;</span>Подбор гиперпараметров</a></span></li></ul></li><li><span><a href=\"#Тестирование-модели\" data-toc-modified-id=\"Тестирование-модели-4\"><span class=\"toc-item-num\">4&nbsp;&nbsp;</span>Тестирование модели</a></span></li><li><span><a href=\"#Общий-вывод\" data-toc-modified-id=\"Общий-вывод-5\"><span class=\"toc-item-num\">5&nbsp;&nbsp;</span>Общий вывод</a></span></li></ul></div>"
   ]
  },
  {
   "cell_type": "markdown",
   "metadata": {},
   "source": [
    "# Отток клиентов"
   ]
  },
  {
   "cell_type": "markdown",
   "metadata": {},
   "source": [
    "## Подготовка данных"
   ]
  },
  {
   "cell_type": "markdown",
   "metadata": {},
   "source": [
    "### Изучение данных"
   ]
  },
  {
   "cell_type": "code",
   "execution_count": 1,
   "metadata": {},
   "outputs": [],
   "source": [
    "import pandas as pd\n",
    "import numpy as np\n",
    "import random\n",
    "import matplotlib.pyplot as plt\n",
    "import seaborn as sns\n",
    "from sklearn.model_selection import train_test_split\n",
    "from sklearn.preprocessing import StandardScaler\n",
    "from sklearn.ensemble import RandomForestClassifier\n",
    "from sklearn.linear_model import LogisticRegression\n",
    "from sklearn.metrics import confusion_matrix, recall_score, precision_score, f1_score\n",
    "from sklearn.metrics import precision_recall_curve, roc_auc_score,roc_curve\n",
    "from sklearn.utils import shuffle\n",
    "from pprint import pprint"
   ]
  },
  {
   "cell_type": "code",
   "execution_count": 2,
   "metadata": {},
   "outputs": [],
   "source": [
    "df = pd.read_csv('/datasets/Churn.csv')"
   ]
  },
  {
   "cell_type": "code",
   "execution_count": 3,
   "metadata": {},
   "outputs": [
    {
     "name": "stdout",
     "output_type": "stream",
     "text": [
      "<class 'pandas.core.frame.DataFrame'>\n",
      "RangeIndex: 10000 entries, 0 to 9999\n",
      "Data columns (total 14 columns):\n",
      "RowNumber          10000 non-null int64\n",
      "CustomerId         10000 non-null int64\n",
      "Surname            10000 non-null object\n",
      "CreditScore        10000 non-null int64\n",
      "Geography          10000 non-null object\n",
      "Gender             10000 non-null object\n",
      "Age                10000 non-null int64\n",
      "Tenure             9091 non-null float64\n",
      "Balance            10000 non-null float64\n",
      "NumOfProducts      10000 non-null int64\n",
      "HasCrCard          10000 non-null int64\n",
      "IsActiveMember     10000 non-null int64\n",
      "EstimatedSalary    10000 non-null float64\n",
      "Exited             10000 non-null int64\n",
      "dtypes: float64(3), int64(8), object(3)\n",
      "memory usage: 1.1+ MB\n"
     ]
    },
    {
     "data": {
      "text/html": [
       "<div>\n",
       "<style scoped>\n",
       "    .dataframe tbody tr th:only-of-type {\n",
       "        vertical-align: middle;\n",
       "    }\n",
       "\n",
       "    .dataframe tbody tr th {\n",
       "        vertical-align: top;\n",
       "    }\n",
       "\n",
       "    .dataframe thead th {\n",
       "        text-align: right;\n",
       "    }\n",
       "</style>\n",
       "<table border=\"1\" class=\"dataframe\">\n",
       "  <thead>\n",
       "    <tr style=\"text-align: right;\">\n",
       "      <th></th>\n",
       "      <th>RowNumber</th>\n",
       "      <th>CustomerId</th>\n",
       "      <th>Surname</th>\n",
       "      <th>CreditScore</th>\n",
       "      <th>Geography</th>\n",
       "      <th>Gender</th>\n",
       "      <th>Age</th>\n",
       "      <th>Tenure</th>\n",
       "      <th>Balance</th>\n",
       "      <th>NumOfProducts</th>\n",
       "      <th>HasCrCard</th>\n",
       "      <th>IsActiveMember</th>\n",
       "      <th>EstimatedSalary</th>\n",
       "      <th>Exited</th>\n",
       "    </tr>\n",
       "  </thead>\n",
       "  <tbody>\n",
       "    <tr>\n",
       "      <td>0</td>\n",
       "      <td>1</td>\n",
       "      <td>15634602</td>\n",
       "      <td>Hargrave</td>\n",
       "      <td>619</td>\n",
       "      <td>France</td>\n",
       "      <td>Female</td>\n",
       "      <td>42</td>\n",
       "      <td>2.0</td>\n",
       "      <td>0.00</td>\n",
       "      <td>1</td>\n",
       "      <td>1</td>\n",
       "      <td>1</td>\n",
       "      <td>101348.88</td>\n",
       "      <td>1</td>\n",
       "    </tr>\n",
       "    <tr>\n",
       "      <td>1</td>\n",
       "      <td>2</td>\n",
       "      <td>15647311</td>\n",
       "      <td>Hill</td>\n",
       "      <td>608</td>\n",
       "      <td>Spain</td>\n",
       "      <td>Female</td>\n",
       "      <td>41</td>\n",
       "      <td>1.0</td>\n",
       "      <td>83807.86</td>\n",
       "      <td>1</td>\n",
       "      <td>0</td>\n",
       "      <td>1</td>\n",
       "      <td>112542.58</td>\n",
       "      <td>0</td>\n",
       "    </tr>\n",
       "    <tr>\n",
       "      <td>2</td>\n",
       "      <td>3</td>\n",
       "      <td>15619304</td>\n",
       "      <td>Onio</td>\n",
       "      <td>502</td>\n",
       "      <td>France</td>\n",
       "      <td>Female</td>\n",
       "      <td>42</td>\n",
       "      <td>8.0</td>\n",
       "      <td>159660.80</td>\n",
       "      <td>3</td>\n",
       "      <td>1</td>\n",
       "      <td>0</td>\n",
       "      <td>113931.57</td>\n",
       "      <td>1</td>\n",
       "    </tr>\n",
       "    <tr>\n",
       "      <td>3</td>\n",
       "      <td>4</td>\n",
       "      <td>15701354</td>\n",
       "      <td>Boni</td>\n",
       "      <td>699</td>\n",
       "      <td>France</td>\n",
       "      <td>Female</td>\n",
       "      <td>39</td>\n",
       "      <td>1.0</td>\n",
       "      <td>0.00</td>\n",
       "      <td>2</td>\n",
       "      <td>0</td>\n",
       "      <td>0</td>\n",
       "      <td>93826.63</td>\n",
       "      <td>0</td>\n",
       "    </tr>\n",
       "    <tr>\n",
       "      <td>4</td>\n",
       "      <td>5</td>\n",
       "      <td>15737888</td>\n",
       "      <td>Mitchell</td>\n",
       "      <td>850</td>\n",
       "      <td>Spain</td>\n",
       "      <td>Female</td>\n",
       "      <td>43</td>\n",
       "      <td>2.0</td>\n",
       "      <td>125510.82</td>\n",
       "      <td>1</td>\n",
       "      <td>1</td>\n",
       "      <td>1</td>\n",
       "      <td>79084.10</td>\n",
       "      <td>0</td>\n",
       "    </tr>\n",
       "  </tbody>\n",
       "</table>\n",
       "</div>"
      ],
      "text/plain": [
       "   RowNumber  CustomerId   Surname  CreditScore Geography  Gender  Age  \\\n",
       "0          1    15634602  Hargrave          619    France  Female   42   \n",
       "1          2    15647311      Hill          608     Spain  Female   41   \n",
       "2          3    15619304      Onio          502    France  Female   42   \n",
       "3          4    15701354      Boni          699    France  Female   39   \n",
       "4          5    15737888  Mitchell          850     Spain  Female   43   \n",
       "\n",
       "   Tenure    Balance  NumOfProducts  HasCrCard  IsActiveMember  \\\n",
       "0     2.0       0.00              1          1               1   \n",
       "1     1.0   83807.86              1          0               1   \n",
       "2     8.0  159660.80              3          1               0   \n",
       "3     1.0       0.00              2          0               0   \n",
       "4     2.0  125510.82              1          1               1   \n",
       "\n",
       "   EstimatedSalary  Exited  \n",
       "0        101348.88       1  \n",
       "1        112542.58       0  \n",
       "2        113931.57       1  \n",
       "3         93826.63       0  \n",
       "4         79084.10       0  "
      ]
     },
     "execution_count": 3,
     "metadata": {},
     "output_type": "execute_result"
    }
   ],
   "source": [
    "df.info()\n",
    "df.head()"
   ]
  },
  {
   "cell_type": "code",
   "execution_count": 4,
   "metadata": {},
   "outputs": [
    {
     "data": {
      "text/html": [
       "<div>\n",
       "<style scoped>\n",
       "    .dataframe tbody tr th:only-of-type {\n",
       "        vertical-align: middle;\n",
       "    }\n",
       "\n",
       "    .dataframe tbody tr th {\n",
       "        vertical-align: top;\n",
       "    }\n",
       "\n",
       "    .dataframe thead th {\n",
       "        text-align: right;\n",
       "    }\n",
       "</style>\n",
       "<table border=\"1\" class=\"dataframe\">\n",
       "  <thead>\n",
       "    <tr style=\"text-align: right;\">\n",
       "      <th></th>\n",
       "      <th>RowNumber</th>\n",
       "      <th>CustomerId</th>\n",
       "      <th>CreditScore</th>\n",
       "      <th>Age</th>\n",
       "      <th>Tenure</th>\n",
       "      <th>Balance</th>\n",
       "      <th>NumOfProducts</th>\n",
       "      <th>HasCrCard</th>\n",
       "      <th>IsActiveMember</th>\n",
       "      <th>EstimatedSalary</th>\n",
       "      <th>Exited</th>\n",
       "    </tr>\n",
       "  </thead>\n",
       "  <tbody>\n",
       "    <tr>\n",
       "      <td>count</td>\n",
       "      <td>10000.00000</td>\n",
       "      <td>1.000000e+04</td>\n",
       "      <td>10000.000000</td>\n",
       "      <td>10000.000000</td>\n",
       "      <td>9091.000000</td>\n",
       "      <td>10000.000000</td>\n",
       "      <td>10000.000000</td>\n",
       "      <td>10000.00000</td>\n",
       "      <td>10000.000000</td>\n",
       "      <td>10000.000000</td>\n",
       "      <td>10000.000000</td>\n",
       "    </tr>\n",
       "    <tr>\n",
       "      <td>mean</td>\n",
       "      <td>5000.50000</td>\n",
       "      <td>1.569094e+07</td>\n",
       "      <td>650.528800</td>\n",
       "      <td>38.921800</td>\n",
       "      <td>4.997690</td>\n",
       "      <td>76485.889288</td>\n",
       "      <td>1.530200</td>\n",
       "      <td>0.70550</td>\n",
       "      <td>0.515100</td>\n",
       "      <td>100090.239881</td>\n",
       "      <td>0.203700</td>\n",
       "    </tr>\n",
       "    <tr>\n",
       "      <td>std</td>\n",
       "      <td>2886.89568</td>\n",
       "      <td>7.193619e+04</td>\n",
       "      <td>96.653299</td>\n",
       "      <td>10.487806</td>\n",
       "      <td>2.894723</td>\n",
       "      <td>62397.405202</td>\n",
       "      <td>0.581654</td>\n",
       "      <td>0.45584</td>\n",
       "      <td>0.499797</td>\n",
       "      <td>57510.492818</td>\n",
       "      <td>0.402769</td>\n",
       "    </tr>\n",
       "    <tr>\n",
       "      <td>min</td>\n",
       "      <td>1.00000</td>\n",
       "      <td>1.556570e+07</td>\n",
       "      <td>350.000000</td>\n",
       "      <td>18.000000</td>\n",
       "      <td>0.000000</td>\n",
       "      <td>0.000000</td>\n",
       "      <td>1.000000</td>\n",
       "      <td>0.00000</td>\n",
       "      <td>0.000000</td>\n",
       "      <td>11.580000</td>\n",
       "      <td>0.000000</td>\n",
       "    </tr>\n",
       "    <tr>\n",
       "      <td>25%</td>\n",
       "      <td>2500.75000</td>\n",
       "      <td>1.562853e+07</td>\n",
       "      <td>584.000000</td>\n",
       "      <td>32.000000</td>\n",
       "      <td>2.000000</td>\n",
       "      <td>0.000000</td>\n",
       "      <td>1.000000</td>\n",
       "      <td>0.00000</td>\n",
       "      <td>0.000000</td>\n",
       "      <td>51002.110000</td>\n",
       "      <td>0.000000</td>\n",
       "    </tr>\n",
       "    <tr>\n",
       "      <td>50%</td>\n",
       "      <td>5000.50000</td>\n",
       "      <td>1.569074e+07</td>\n",
       "      <td>652.000000</td>\n",
       "      <td>37.000000</td>\n",
       "      <td>5.000000</td>\n",
       "      <td>97198.540000</td>\n",
       "      <td>1.000000</td>\n",
       "      <td>1.00000</td>\n",
       "      <td>1.000000</td>\n",
       "      <td>100193.915000</td>\n",
       "      <td>0.000000</td>\n",
       "    </tr>\n",
       "    <tr>\n",
       "      <td>75%</td>\n",
       "      <td>7500.25000</td>\n",
       "      <td>1.575323e+07</td>\n",
       "      <td>718.000000</td>\n",
       "      <td>44.000000</td>\n",
       "      <td>7.000000</td>\n",
       "      <td>127644.240000</td>\n",
       "      <td>2.000000</td>\n",
       "      <td>1.00000</td>\n",
       "      <td>1.000000</td>\n",
       "      <td>149388.247500</td>\n",
       "      <td>0.000000</td>\n",
       "    </tr>\n",
       "    <tr>\n",
       "      <td>max</td>\n",
       "      <td>10000.00000</td>\n",
       "      <td>1.581569e+07</td>\n",
       "      <td>850.000000</td>\n",
       "      <td>92.000000</td>\n",
       "      <td>10.000000</td>\n",
       "      <td>250898.090000</td>\n",
       "      <td>4.000000</td>\n",
       "      <td>1.00000</td>\n",
       "      <td>1.000000</td>\n",
       "      <td>199992.480000</td>\n",
       "      <td>1.000000</td>\n",
       "    </tr>\n",
       "  </tbody>\n",
       "</table>\n",
       "</div>"
      ],
      "text/plain": [
       "         RowNumber    CustomerId   CreditScore           Age       Tenure  \\\n",
       "count  10000.00000  1.000000e+04  10000.000000  10000.000000  9091.000000   \n",
       "mean    5000.50000  1.569094e+07    650.528800     38.921800     4.997690   \n",
       "std     2886.89568  7.193619e+04     96.653299     10.487806     2.894723   \n",
       "min        1.00000  1.556570e+07    350.000000     18.000000     0.000000   \n",
       "25%     2500.75000  1.562853e+07    584.000000     32.000000     2.000000   \n",
       "50%     5000.50000  1.569074e+07    652.000000     37.000000     5.000000   \n",
       "75%     7500.25000  1.575323e+07    718.000000     44.000000     7.000000   \n",
       "max    10000.00000  1.581569e+07    850.000000     92.000000    10.000000   \n",
       "\n",
       "             Balance  NumOfProducts    HasCrCard  IsActiveMember  \\\n",
       "count   10000.000000   10000.000000  10000.00000    10000.000000   \n",
       "mean    76485.889288       1.530200      0.70550        0.515100   \n",
       "std     62397.405202       0.581654      0.45584        0.499797   \n",
       "min         0.000000       1.000000      0.00000        0.000000   \n",
       "25%         0.000000       1.000000      0.00000        0.000000   \n",
       "50%     97198.540000       1.000000      1.00000        1.000000   \n",
       "75%    127644.240000       2.000000      1.00000        1.000000   \n",
       "max    250898.090000       4.000000      1.00000        1.000000   \n",
       "\n",
       "       EstimatedSalary        Exited  \n",
       "count     10000.000000  10000.000000  \n",
       "mean     100090.239881      0.203700  \n",
       "std       57510.492818      0.402769  \n",
       "min          11.580000      0.000000  \n",
       "25%       51002.110000      0.000000  \n",
       "50%      100193.915000      0.000000  \n",
       "75%      149388.247500      0.000000  \n",
       "max      199992.480000      1.000000  "
      ]
     },
     "execution_count": 4,
     "metadata": {},
     "output_type": "execute_result"
    }
   ],
   "source": [
    "df.describe()"
   ]
  },
  {
   "cell_type": "code",
   "execution_count": 5,
   "metadata": {},
   "outputs": [
    {
     "data": {
      "text/html": [
       "<div>\n",
       "<style scoped>\n",
       "    .dataframe tbody tr th:only-of-type {\n",
       "        vertical-align: middle;\n",
       "    }\n",
       "\n",
       "    .dataframe tbody tr th {\n",
       "        vertical-align: top;\n",
       "    }\n",
       "\n",
       "    .dataframe thead th {\n",
       "        text-align: right;\n",
       "    }\n",
       "</style>\n",
       "<table border=\"1\" class=\"dataframe\">\n",
       "  <thead>\n",
       "    <tr style=\"text-align: right;\">\n",
       "      <th></th>\n",
       "      <th>RowNumber</th>\n",
       "      <th>CustomerId</th>\n",
       "      <th>Surname</th>\n",
       "      <th>CreditScore</th>\n",
       "      <th>Geography</th>\n",
       "      <th>Gender</th>\n",
       "      <th>Age</th>\n",
       "      <th>Tenure</th>\n",
       "      <th>Balance</th>\n",
       "      <th>NumOfProducts</th>\n",
       "      <th>HasCrCard</th>\n",
       "      <th>IsActiveMember</th>\n",
       "      <th>EstimatedSalary</th>\n",
       "      <th>Exited</th>\n",
       "    </tr>\n",
       "  </thead>\n",
       "  <tbody>\n",
       "    <tr>\n",
       "      <td>2656</td>\n",
       "      <td>2657</td>\n",
       "      <td>15713267</td>\n",
       "      <td>Zimmer</td>\n",
       "      <td>779</td>\n",
       "      <td>Spain</td>\n",
       "      <td>Female</td>\n",
       "      <td>34</td>\n",
       "      <td>5.0</td>\n",
       "      <td>0.00</td>\n",
       "      <td>2</td>\n",
       "      <td>0</td>\n",
       "      <td>1</td>\n",
       "      <td>111676.63</td>\n",
       "      <td>0</td>\n",
       "    </tr>\n",
       "    <tr>\n",
       "      <td>445</td>\n",
       "      <td>446</td>\n",
       "      <td>15803406</td>\n",
       "      <td>Ross</td>\n",
       "      <td>748</td>\n",
       "      <td>France</td>\n",
       "      <td>Female</td>\n",
       "      <td>26</td>\n",
       "      <td>1.0</td>\n",
       "      <td>77780.29</td>\n",
       "      <td>1</td>\n",
       "      <td>0</td>\n",
       "      <td>1</td>\n",
       "      <td>183049.41</td>\n",
       "      <td>0</td>\n",
       "    </tr>\n",
       "    <tr>\n",
       "      <td>9505</td>\n",
       "      <td>9506</td>\n",
       "      <td>15571281</td>\n",
       "      <td>Ts'ao</td>\n",
       "      <td>651</td>\n",
       "      <td>France</td>\n",
       "      <td>Male</td>\n",
       "      <td>28</td>\n",
       "      <td>10.0</td>\n",
       "      <td>79562.98</td>\n",
       "      <td>1</td>\n",
       "      <td>1</td>\n",
       "      <td>1</td>\n",
       "      <td>74687.37</td>\n",
       "      <td>0</td>\n",
       "    </tr>\n",
       "  </tbody>\n",
       "</table>\n",
       "</div>"
      ],
      "text/plain": [
       "      RowNumber  CustomerId Surname  CreditScore Geography  Gender  Age  \\\n",
       "2656       2657    15713267  Zimmer          779     Spain  Female   34   \n",
       "445         446    15803406    Ross          748    France  Female   26   \n",
       "9505       9506    15571281   Ts'ao          651    France    Male   28   \n",
       "\n",
       "      Tenure   Balance  NumOfProducts  HasCrCard  IsActiveMember  \\\n",
       "2656     5.0      0.00              2          0               1   \n",
       "445      1.0  77780.29              1          0               1   \n",
       "9505    10.0  79562.98              1          1               1   \n",
       "\n",
       "      EstimatedSalary  Exited  \n",
       "2656        111676.63       0  \n",
       "445         183049.41       0  \n",
       "9505         74687.37       0  "
      ]
     },
     "execution_count": 5,
     "metadata": {},
     "output_type": "execute_result"
    }
   ],
   "source": [
    "df.sample(n=3, random_state=123)"
   ]
  },
  {
   "cell_type": "markdown",
   "metadata": {},
   "source": [
    "**Вывод**"
   ]
  },
  {
   "cell_type": "markdown",
   "metadata": {},
   "source": [
    "В предоставленном файле содержится информация личная информация о клиентах, такая как фамилия, пол, возраст, страна проживания, доход и кредитный рейтинг, а также информация, об активах клиентов внутри банка: баланс счета, количество используемых продуктов и карт, активность клиента, а также факт его ухода из банка, что является целевым признаком.\n",
    "\n",
    "Присутствуют пропущенные значение в столбце Tenure — сколько лет человек является клиентом банка."
   ]
  },
  {
   "cell_type": "markdown",
   "metadata": {},
   "source": [
    "### Предобработка данных"
   ]
  },
  {
   "cell_type": "code",
   "execution_count": 6,
   "metadata": {},
   "outputs": [
    {
     "data": {
      "text/plain": [
       "Index(['rownumber', 'customerid', 'surname', 'creditscore', 'geography',\n",
       "       'gender', 'age', 'tenure', 'balance', 'numofproducts', 'hascrcard',\n",
       "       'isactivemember', 'estimatedsalary', 'exited'],\n",
       "      dtype='object')"
      ]
     },
     "execution_count": 6,
     "metadata": {},
     "output_type": "execute_result"
    }
   ],
   "source": [
    "df.columns = df.columns.str.lower()\n",
    "df.columns"
   ]
  },
  {
   "cell_type": "code",
   "execution_count": 7,
   "metadata": {},
   "outputs": [],
   "source": [
    "df = df.drop(['rownumber', 'customerid', 'surname'], axis=1)"
   ]
  },
  {
   "cell_type": "code",
   "execution_count": 8,
   "metadata": {
    "scrolled": true
   },
   "outputs": [
    {
     "data": {
      "text/plain": [
       "1.0     952\n",
       "2.0     950\n",
       "8.0     933\n",
       "3.0     928\n",
       "5.0     927\n",
       "7.0     925\n",
       "NaN     909\n",
       "4.0     885\n",
       "9.0     882\n",
       "6.0     881\n",
       "10.0    446\n",
       "0.0     382\n",
       "Name: tenure, dtype: int64"
      ]
     },
     "execution_count": 8,
     "metadata": {},
     "output_type": "execute_result"
    }
   ],
   "source": [
    "df['tenure'].value_counts(dropna = False, ascending = False)"
   ]
  },
  {
   "cell_type": "code",
   "execution_count": 9,
   "metadata": {},
   "outputs": [
    {
     "data": {
      "text/plain": [
       "creditscore        0\n",
       "geography          0\n",
       "gender             0\n",
       "age                0\n",
       "tenure             0\n",
       "balance            0\n",
       "numofproducts      0\n",
       "hascrcard          0\n",
       "isactivemember     0\n",
       "estimatedsalary    0\n",
       "exited             0\n",
       "dtype: int64"
      ]
     },
     "execution_count": 9,
     "metadata": {},
     "output_type": "execute_result"
    }
   ],
   "source": [
    "df['tenure'] = df['tenure'].apply(\\\n",
    "    lambda x: np.random.choice(df['tenure'].dropna().values) if np.isnan(x) else x)      \n",
    "df.isna().sum()"
   ]
  },
  {
   "cell_type": "code",
   "execution_count": 10,
   "metadata": {},
   "outputs": [
    {
     "data": {
      "text/plain": [
       "2.0     1074\n",
       "1.0     1047\n",
       "5.0     1026\n",
       "3.0     1017\n",
       "7.0     1016\n",
       "8.0     1015\n",
       "9.0      970\n",
       "4.0      961\n",
       "6.0      954\n",
       "10.0     494\n",
       "0.0      426\n",
       "Name: tenure, dtype: int64"
      ]
     },
     "execution_count": 10,
     "metadata": {},
     "output_type": "execute_result"
    }
   ],
   "source": [
    "df['tenure'].value_counts(dropna = False, ascending = False)"
   ]
  },
  {
   "cell_type": "code",
   "execution_count": 11,
   "metadata": {},
   "outputs": [
    {
     "data": {
      "text/plain": [
       "0"
      ]
     },
     "execution_count": 11,
     "metadata": {},
     "output_type": "execute_result"
    }
   ],
   "source": [
    "df.duplicated().sum()"
   ]
  },
  {
   "cell_type": "markdown",
   "metadata": {},
   "source": [
    "**Вывод**"
   ]
  },
  {
   "cell_type": "markdown",
   "metadata": {},
   "source": [
    "Для удобства названия столбцов переведены в нижний регистр.\n",
    "\n",
    "Столбцы rownumber, customerid, surname удалены, так как они не понадобятся для модели.\n",
    "\n",
    "Пропущенные значения количества лет клиента в банке заменены на случайные значения из столбца.\n",
    "\n",
    "Дубликатов не обнаружено."
   ]
  },
  {
   "cell_type": "markdown",
   "metadata": {},
   "source": [
    "### Корреляция признаков"
   ]
  },
  {
   "cell_type": "code",
   "execution_count": 12,
   "metadata": {},
   "outputs": [
    {
     "data": {
      "text/html": [
       "<div>\n",
       "<style scoped>\n",
       "    .dataframe tbody tr th:only-of-type {\n",
       "        vertical-align: middle;\n",
       "    }\n",
       "\n",
       "    .dataframe tbody tr th {\n",
       "        vertical-align: top;\n",
       "    }\n",
       "\n",
       "    .dataframe thead th {\n",
       "        text-align: right;\n",
       "    }\n",
       "</style>\n",
       "<table border=\"1\" class=\"dataframe\">\n",
       "  <thead>\n",
       "    <tr style=\"text-align: right;\">\n",
       "      <th></th>\n",
       "      <th>creditscore</th>\n",
       "      <th>age</th>\n",
       "      <th>tenure</th>\n",
       "      <th>balance</th>\n",
       "      <th>numofproducts</th>\n",
       "      <th>hascrcard</th>\n",
       "      <th>isactivemember</th>\n",
       "      <th>estimatedsalary</th>\n",
       "      <th>exited</th>\n",
       "    </tr>\n",
       "  </thead>\n",
       "  <tbody>\n",
       "    <tr>\n",
       "      <td>creditscore</td>\n",
       "      <td>1.000000</td>\n",
       "      <td>-0.003965</td>\n",
       "      <td>0.000625</td>\n",
       "      <td>0.006268</td>\n",
       "      <td>0.012238</td>\n",
       "      <td>-0.005458</td>\n",
       "      <td>0.025651</td>\n",
       "      <td>-0.001384</td>\n",
       "      <td>-0.027094</td>\n",
       "    </tr>\n",
       "    <tr>\n",
       "      <td>age</td>\n",
       "      <td>-0.003965</td>\n",
       "      <td>1.000000</td>\n",
       "      <td>-0.005757</td>\n",
       "      <td>0.028308</td>\n",
       "      <td>-0.030680</td>\n",
       "      <td>-0.011721</td>\n",
       "      <td>0.085472</td>\n",
       "      <td>-0.007201</td>\n",
       "      <td>0.285323</td>\n",
       "    </tr>\n",
       "    <tr>\n",
       "      <td>tenure</td>\n",
       "      <td>0.000625</td>\n",
       "      <td>-0.005757</td>\n",
       "      <td>1.000000</td>\n",
       "      <td>-0.009433</td>\n",
       "      <td>0.008456</td>\n",
       "      <td>0.017901</td>\n",
       "      <td>-0.031368</td>\n",
       "      <td>0.008002</td>\n",
       "      <td>-0.011526</td>\n",
       "    </tr>\n",
       "    <tr>\n",
       "      <td>balance</td>\n",
       "      <td>0.006268</td>\n",
       "      <td>0.028308</td>\n",
       "      <td>-0.009433</td>\n",
       "      <td>1.000000</td>\n",
       "      <td>-0.304180</td>\n",
       "      <td>-0.014858</td>\n",
       "      <td>-0.010084</td>\n",
       "      <td>0.012797</td>\n",
       "      <td>0.118533</td>\n",
       "    </tr>\n",
       "    <tr>\n",
       "      <td>numofproducts</td>\n",
       "      <td>0.012238</td>\n",
       "      <td>-0.030680</td>\n",
       "      <td>0.008456</td>\n",
       "      <td>-0.304180</td>\n",
       "      <td>1.000000</td>\n",
       "      <td>0.003183</td>\n",
       "      <td>0.009612</td>\n",
       "      <td>0.014204</td>\n",
       "      <td>-0.047820</td>\n",
       "    </tr>\n",
       "    <tr>\n",
       "      <td>hascrcard</td>\n",
       "      <td>-0.005458</td>\n",
       "      <td>-0.011721</td>\n",
       "      <td>0.017901</td>\n",
       "      <td>-0.014858</td>\n",
       "      <td>0.003183</td>\n",
       "      <td>1.000000</td>\n",
       "      <td>-0.011866</td>\n",
       "      <td>-0.009933</td>\n",
       "      <td>-0.007138</td>\n",
       "    </tr>\n",
       "    <tr>\n",
       "      <td>isactivemember</td>\n",
       "      <td>0.025651</td>\n",
       "      <td>0.085472</td>\n",
       "      <td>-0.031368</td>\n",
       "      <td>-0.010084</td>\n",
       "      <td>0.009612</td>\n",
       "      <td>-0.011866</td>\n",
       "      <td>1.000000</td>\n",
       "      <td>-0.011421</td>\n",
       "      <td>-0.156128</td>\n",
       "    </tr>\n",
       "    <tr>\n",
       "      <td>estimatedsalary</td>\n",
       "      <td>-0.001384</td>\n",
       "      <td>-0.007201</td>\n",
       "      <td>0.008002</td>\n",
       "      <td>0.012797</td>\n",
       "      <td>0.014204</td>\n",
       "      <td>-0.009933</td>\n",
       "      <td>-0.011421</td>\n",
       "      <td>1.000000</td>\n",
       "      <td>0.012097</td>\n",
       "    </tr>\n",
       "    <tr>\n",
       "      <td>exited</td>\n",
       "      <td>-0.027094</td>\n",
       "      <td>0.285323</td>\n",
       "      <td>-0.011526</td>\n",
       "      <td>0.118533</td>\n",
       "      <td>-0.047820</td>\n",
       "      <td>-0.007138</td>\n",
       "      <td>-0.156128</td>\n",
       "      <td>0.012097</td>\n",
       "      <td>1.000000</td>\n",
       "    </tr>\n",
       "  </tbody>\n",
       "</table>\n",
       "</div>"
      ],
      "text/plain": [
       "                 creditscore       age    tenure   balance  numofproducts  \\\n",
       "creditscore         1.000000 -0.003965  0.000625  0.006268       0.012238   \n",
       "age                -0.003965  1.000000 -0.005757  0.028308      -0.030680   \n",
       "tenure              0.000625 -0.005757  1.000000 -0.009433       0.008456   \n",
       "balance             0.006268  0.028308 -0.009433  1.000000      -0.304180   \n",
       "numofproducts       0.012238 -0.030680  0.008456 -0.304180       1.000000   \n",
       "hascrcard          -0.005458 -0.011721  0.017901 -0.014858       0.003183   \n",
       "isactivemember      0.025651  0.085472 -0.031368 -0.010084       0.009612   \n",
       "estimatedsalary    -0.001384 -0.007201  0.008002  0.012797       0.014204   \n",
       "exited             -0.027094  0.285323 -0.011526  0.118533      -0.047820   \n",
       "\n",
       "                 hascrcard  isactivemember  estimatedsalary    exited  \n",
       "creditscore      -0.005458        0.025651        -0.001384 -0.027094  \n",
       "age              -0.011721        0.085472        -0.007201  0.285323  \n",
       "tenure            0.017901       -0.031368         0.008002 -0.011526  \n",
       "balance          -0.014858       -0.010084         0.012797  0.118533  \n",
       "numofproducts     0.003183        0.009612         0.014204 -0.047820  \n",
       "hascrcard         1.000000       -0.011866        -0.009933 -0.007138  \n",
       "isactivemember   -0.011866        1.000000        -0.011421 -0.156128  \n",
       "estimatedsalary  -0.009933       -0.011421         1.000000  0.012097  \n",
       "exited           -0.007138       -0.156128         0.012097  1.000000  "
      ]
     },
     "execution_count": 12,
     "metadata": {},
     "output_type": "execute_result"
    }
   ],
   "source": [
    "df.corr(method ='pearson')"
   ]
  },
  {
   "cell_type": "code",
   "execution_count": 13,
   "metadata": {
    "scrolled": false
   },
   "outputs": [
    {
     "data": {
      "image/png": "[encoded data removed]",
      "text/plain": [
       "<Figure size 1152x432 with 2 Axes>"
      ]
     },
     "metadata": {
      "needs_background": "light"
     },
     "output_type": "display_data"
    }
   ],
   "source": [
    "plt.figure(figsize=(16, 6))\n",
    "sns.heatmap(df.corr(method='pearson'), annot=True, vmin=-1, vmax=1, center=0, cmap='coolwarm')\n",
    "plt.show()"
   ]
  },
  {
   "cell_type": "markdown",
   "metadata": {},
   "source": [
    "**Вывод**"
   ]
  },
  {
   "cell_type": "markdown",
   "metadata": {},
   "source": [
    "Значимой корреляции между признаками не обнаружено."
   ]
  },
  {
   "cell_type": "markdown",
   "metadata": {},
   "source": [
    "### One-Hot Encoding"
   ]
  },
  {
   "cell_type": "code",
   "execution_count": 14,
   "metadata": {},
   "outputs": [
    {
     "data": {
      "text/plain": [
       "France     5014\n",
       "Germany    2509\n",
       "Spain      2477\n",
       "Name: geography, dtype: int64"
      ]
     },
     "execution_count": 14,
     "metadata": {},
     "output_type": "execute_result"
    }
   ],
   "source": [
    "df['geography'].value_counts()"
   ]
  },
  {
   "cell_type": "code",
   "execution_count": 15,
   "metadata": {},
   "outputs": [
    {
     "data": {
      "text/plain": [
       "Male      5457\n",
       "Female    4543\n",
       "Name: gender, dtype: int64"
      ]
     },
     "execution_count": 15,
     "metadata": {},
     "output_type": "execute_result"
    }
   ],
   "source": [
    "df['gender'].value_counts()"
   ]
  },
  {
   "cell_type": "code",
   "execution_count": 16,
   "metadata": {
    "scrolled": true
   },
   "outputs": [
    {
     "data": {
      "text/html": [
       "<div>\n",
       "<style scoped>\n",
       "    .dataframe tbody tr th:only-of-type {\n",
       "        vertical-align: middle;\n",
       "    }\n",
       "\n",
       "    .dataframe tbody tr th {\n",
       "        vertical-align: top;\n",
       "    }\n",
       "\n",
       "    .dataframe thead th {\n",
       "        text-align: right;\n",
       "    }\n",
       "</style>\n",
       "<table border=\"1\" class=\"dataframe\">\n",
       "  <thead>\n",
       "    <tr style=\"text-align: right;\">\n",
       "      <th></th>\n",
       "      <th>creditscore</th>\n",
       "      <th>age</th>\n",
       "      <th>tenure</th>\n",
       "      <th>balance</th>\n",
       "      <th>numofproducts</th>\n",
       "      <th>hascrcard</th>\n",
       "      <th>isactivemember</th>\n",
       "      <th>estimatedsalary</th>\n",
       "      <th>exited</th>\n",
       "      <th>France</th>\n",
       "      <th>Germany</th>\n",
       "      <th>Spain</th>\n",
       "      <th>Female</th>\n",
       "      <th>Male</th>\n",
       "    </tr>\n",
       "  </thead>\n",
       "  <tbody>\n",
       "    <tr>\n",
       "      <td>0</td>\n",
       "      <td>619</td>\n",
       "      <td>42</td>\n",
       "      <td>2.0</td>\n",
       "      <td>0.00</td>\n",
       "      <td>1</td>\n",
       "      <td>1</td>\n",
       "      <td>1</td>\n",
       "      <td>101348.88</td>\n",
       "      <td>1</td>\n",
       "      <td>1</td>\n",
       "      <td>0</td>\n",
       "      <td>0</td>\n",
       "      <td>1</td>\n",
       "      <td>0</td>\n",
       "    </tr>\n",
       "    <tr>\n",
       "      <td>1</td>\n",
       "      <td>608</td>\n",
       "      <td>41</td>\n",
       "      <td>1.0</td>\n",
       "      <td>83807.86</td>\n",
       "      <td>1</td>\n",
       "      <td>0</td>\n",
       "      <td>1</td>\n",
       "      <td>112542.58</td>\n",
       "      <td>0</td>\n",
       "      <td>0</td>\n",
       "      <td>0</td>\n",
       "      <td>1</td>\n",
       "      <td>1</td>\n",
       "      <td>0</td>\n",
       "    </tr>\n",
       "    <tr>\n",
       "      <td>2</td>\n",
       "      <td>502</td>\n",
       "      <td>42</td>\n",
       "      <td>8.0</td>\n",
       "      <td>159660.80</td>\n",
       "      <td>3</td>\n",
       "      <td>1</td>\n",
       "      <td>0</td>\n",
       "      <td>113931.57</td>\n",
       "      <td>1</td>\n",
       "      <td>1</td>\n",
       "      <td>0</td>\n",
       "      <td>0</td>\n",
       "      <td>1</td>\n",
       "      <td>0</td>\n",
       "    </tr>\n",
       "    <tr>\n",
       "      <td>3</td>\n",
       "      <td>699</td>\n",
       "      <td>39</td>\n",
       "      <td>1.0</td>\n",
       "      <td>0.00</td>\n",
       "      <td>2</td>\n",
       "      <td>0</td>\n",
       "      <td>0</td>\n",
       "      <td>93826.63</td>\n",
       "      <td>0</td>\n",
       "      <td>1</td>\n",
       "      <td>0</td>\n",
       "      <td>0</td>\n",
       "      <td>1</td>\n",
       "      <td>0</td>\n",
       "    </tr>\n",
       "    <tr>\n",
       "      <td>4</td>\n",
       "      <td>850</td>\n",
       "      <td>43</td>\n",
       "      <td>2.0</td>\n",
       "      <td>125510.82</td>\n",
       "      <td>1</td>\n",
       "      <td>1</td>\n",
       "      <td>1</td>\n",
       "      <td>79084.10</td>\n",
       "      <td>0</td>\n",
       "      <td>0</td>\n",
       "      <td>0</td>\n",
       "      <td>1</td>\n",
       "      <td>1</td>\n",
       "      <td>0</td>\n",
       "    </tr>\n",
       "  </tbody>\n",
       "</table>\n",
       "</div>"
      ],
      "text/plain": [
       "   creditscore  age  tenure    balance  numofproducts  hascrcard  \\\n",
       "0          619   42     2.0       0.00              1          1   \n",
       "1          608   41     1.0   83807.86              1          0   \n",
       "2          502   42     8.0  159660.80              3          1   \n",
       "3          699   39     1.0       0.00              2          0   \n",
       "4          850   43     2.0  125510.82              1          1   \n",
       "\n",
       "   isactivemember  estimatedsalary  exited  France  Germany  Spain  Female  \\\n",
       "0               1        101348.88       1       1        0      0       1   \n",
       "1               1        112542.58       0       0        0      1       1   \n",
       "2               0        113931.57       1       1        0      0       1   \n",
       "3               0         93826.63       0       1        0      0       1   \n",
       "4               1         79084.10       0       0        0      1       1   \n",
       "\n",
       "   Male  \n",
       "0     0  \n",
       "1     0  \n",
       "2     0  \n",
       "3     0  \n",
       "4     0  "
      ]
     },
     "execution_count": 16,
     "metadata": {},
     "output_type": "execute_result"
    }
   ],
   "source": [
    "df_ohe_geography = pd.get_dummies(df['geography'], drop_first=False)\n",
    "df_ohe_gender = pd.get_dummies(df['gender'], drop_first=False)\n",
    "\n",
    "df_ohe = pd.concat([df, df_ohe_geography, df_ohe_gender], axis=1)\n",
    "df_ohe.drop(['geography', 'gender'], axis=1, inplace=True)\n",
    "df_ohe.head()"
   ]
  },
  {
   "cell_type": "code",
   "execution_count": 17,
   "metadata": {
    "scrolled": true
   },
   "outputs": [
    {
     "data": {
      "text/plain": [
       "Index(['creditscore', 'age', 'tenure', 'balance', 'numofproducts', 'hascrcard',\n",
       "       'isactivemember', 'estimatedsalary', 'exited', 'france', 'germany',\n",
       "       'spain', 'female', 'male'],\n",
       "      dtype='object')"
      ]
     },
     "execution_count": 17,
     "metadata": {},
     "output_type": "execute_result"
    }
   ],
   "source": [
    "df_ohe.columns = df_ohe.columns.str.lower()\n",
    "df_ohe.columns"
   ]
  },
  {
   "cell_type": "markdown",
   "metadata": {},
   "source": [
    "**Вывод**"
   ]
  },
  {
   "cell_type": "markdown",
   "metadata": {},
   "source": [
    "С помощью One-Hot Encoding преобразованы столбцы geography и gender."
   ]
  },
  {
   "cell_type": "markdown",
   "metadata": {},
   "source": [
    "### Разбиение данных на выборки"
   ]
  },
  {
   "cell_type": "code",
   "execution_count": 18,
   "metadata": {
    "scrolled": true
   },
   "outputs": [
    {
     "name": "stdout",
     "output_type": "stream",
     "text": [
      "Размер обучающей выборки: (6000, 13), 6000\n",
      "Размер валидационной выборки: (2000, 13), 2000\n",
      "Размер тестовой выборки: (2000, 13), 2000\n"
     ]
    }
   ],
   "source": [
    "target = df_ohe['exited']\n",
    "features = df_ohe.drop(['exited'] , axis=1)\n",
    "\n",
    "features_train, features_valid, target_train, target_valid = train_test_split(\\\n",
    "                                            features, target, test_size=0.2, random_state=12345, stratify=target)\n",
    "features_train, features_test, target_train, target_test = train_test_split(\\\n",
    "                                            features_train, target_train, test_size=0.25, random_state=12345)\n",
    "\n",
    "print('Размер обучающей выборки: ', features_train.shape, ', ', target_train.shape[0], sep = '')\n",
    "print('Размер валидационной выборки: ', features_valid.shape, ', ', target_valid.shape[0], sep = '')\n",
    "print('Размер тестовой выборки: ',features_test.shape, ', ', target_test.shape[0], sep = '')"
   ]
  },
  {
   "cell_type": "markdown",
   "metadata": {},
   "source": [
    "**Вывод**"
   ]
  },
  {
   "cell_type": "markdown",
   "metadata": {},
   "source": [
    "Данные разбиты на features и target, после чего поделены на обучающую, валидационную и тестовую выборки в соотношении 3:1:1."
   ]
  },
  {
   "cell_type": "markdown",
   "metadata": {},
   "source": [
    "### Масштабирование признаков"
   ]
  },
  {
   "cell_type": "code",
   "execution_count": 19,
   "metadata": {},
   "outputs": [],
   "source": [
    "numeric = ['creditscore', 'age', 'balance', 'numofproducts', 'estimatedsalary']\n",
    "\n",
    "scaler = StandardScaler()\n",
    "scaler.fit(features_train[numeric])\n",
    "pd.options.mode.chained_assignment = None\n",
    "\n",
    "features_train[numeric] = scaler.transform(features_train[numeric])\n",
    "features_valid[numeric] = scaler.transform(features_valid[numeric])\n",
    "features_test[numeric] = scaler.transform(features_test[numeric])"
   ]
  },
  {
   "cell_type": "code",
   "execution_count": 20,
   "metadata": {},
   "outputs": [
    {
     "data": {
      "text/html": [
       "<div>\n",
       "<style scoped>\n",
       "    .dataframe tbody tr th:only-of-type {\n",
       "        vertical-align: middle;\n",
       "    }\n",
       "\n",
       "    .dataframe tbody tr th {\n",
       "        vertical-align: top;\n",
       "    }\n",
       "\n",
       "    .dataframe thead th {\n",
       "        text-align: right;\n",
       "    }\n",
       "</style>\n",
       "<table border=\"1\" class=\"dataframe\">\n",
       "  <thead>\n",
       "    <tr style=\"text-align: right;\">\n",
       "      <th></th>\n",
       "      <th>creditscore</th>\n",
       "      <th>age</th>\n",
       "      <th>tenure</th>\n",
       "      <th>balance</th>\n",
       "      <th>numofproducts</th>\n",
       "      <th>hascrcard</th>\n",
       "      <th>isactivemember</th>\n",
       "      <th>estimatedsalary</th>\n",
       "      <th>france</th>\n",
       "      <th>germany</th>\n",
       "      <th>spain</th>\n",
       "      <th>female</th>\n",
       "      <th>male</th>\n",
       "    </tr>\n",
       "  </thead>\n",
       "  <tbody>\n",
       "    <tr>\n",
       "      <td>8201</td>\n",
       "      <td>0.700234</td>\n",
       "      <td>0.966950</td>\n",
       "      <td>10.0</td>\n",
       "      <td>0.092397</td>\n",
       "      <td>-0.912623</td>\n",
       "      <td>0</td>\n",
       "      <td>1</td>\n",
       "      <td>-1.547205</td>\n",
       "      <td>0</td>\n",
       "      <td>0</td>\n",
       "      <td>1</td>\n",
       "      <td>1</td>\n",
       "      <td>0</td>\n",
       "    </tr>\n",
       "    <tr>\n",
       "      <td>9939</td>\n",
       "      <td>0.444023</td>\n",
       "      <td>1.731917</td>\n",
       "      <td>9.0</td>\n",
       "      <td>-1.223611</td>\n",
       "      <td>0.792152</td>\n",
       "      <td>1</td>\n",
       "      <td>1</td>\n",
       "      <td>0.603359</td>\n",
       "      <td>0</td>\n",
       "      <td>0</td>\n",
       "      <td>1</td>\n",
       "      <td>1</td>\n",
       "      <td>0</td>\n",
       "    </tr>\n",
       "    <tr>\n",
       "      <td>4823</td>\n",
       "      <td>1.397129</td>\n",
       "      <td>-0.658605</td>\n",
       "      <td>6.0</td>\n",
       "      <td>0.607001</td>\n",
       "      <td>-0.912623</td>\n",
       "      <td>1</td>\n",
       "      <td>0</td>\n",
       "      <td>-1.466752</td>\n",
       "      <td>0</td>\n",
       "      <td>0</td>\n",
       "      <td>1</td>\n",
       "      <td>1</td>\n",
       "      <td>0</td>\n",
       "    </tr>\n",
       "    <tr>\n",
       "      <td>7814</td>\n",
       "      <td>-0.027406</td>\n",
       "      <td>-0.562984</td>\n",
       "      <td>3.0</td>\n",
       "      <td>1.471017</td>\n",
       "      <td>0.792152</td>\n",
       "      <td>0</td>\n",
       "      <td>0</td>\n",
       "      <td>-0.178861</td>\n",
       "      <td>0</td>\n",
       "      <td>1</td>\n",
       "      <td>0</td>\n",
       "      <td>1</td>\n",
       "      <td>0</td>\n",
       "    </tr>\n",
       "    <tr>\n",
       "      <td>2046</td>\n",
       "      <td>-1.328959</td>\n",
       "      <td>-0.467363</td>\n",
       "      <td>8.0</td>\n",
       "      <td>0.695025</td>\n",
       "      <td>0.792152</td>\n",
       "      <td>1</td>\n",
       "      <td>1</td>\n",
       "      <td>-1.733990</td>\n",
       "      <td>0</td>\n",
       "      <td>1</td>\n",
       "      <td>0</td>\n",
       "      <td>0</td>\n",
       "      <td>1</td>\n",
       "    </tr>\n",
       "  </tbody>\n",
       "</table>\n",
       "</div>"
      ],
      "text/plain": [
       "      creditscore       age  tenure   balance  numofproducts  hascrcard  \\\n",
       "8201     0.700234  0.966950    10.0  0.092397      -0.912623          0   \n",
       "9939     0.444023  1.731917     9.0 -1.223611       0.792152          1   \n",
       "4823     1.397129 -0.658605     6.0  0.607001      -0.912623          1   \n",
       "7814    -0.027406 -0.562984     3.0  1.471017       0.792152          0   \n",
       "2046    -1.328959 -0.467363     8.0  0.695025       0.792152          1   \n",
       "\n",
       "      isactivemember  estimatedsalary  france  germany  spain  female  male  \n",
       "8201               1        -1.547205       0        0      1       1     0  \n",
       "9939               1         0.603359       0        0      1       1     0  \n",
       "4823               0        -1.466752       0        0      1       1     0  \n",
       "7814               0        -0.178861       0        1      0       1     0  \n",
       "2046               1        -1.733990       0        1      0       0     1  "
      ]
     },
     "execution_count": 20,
     "metadata": {},
     "output_type": "execute_result"
    }
   ],
   "source": [
    "features_train.head()"
   ]
  },
  {
   "cell_type": "markdown",
   "metadata": {},
   "source": [
    "**Вывод**"
   ]
  },
  {
   "cell_type": "markdown",
   "metadata": {},
   "source": [
    "Количественные признаки преобразованы в выборках."
   ]
  },
  {
   "cell_type": "markdown",
   "metadata": {},
   "source": [
    "## Исследование задачи"
   ]
  },
  {
   "cell_type": "markdown",
   "metadata": {},
   "source": [
    "**Случайный лес**"
   ]
  },
  {
   "cell_type": "code",
   "execution_count": 21,
   "metadata": {},
   "outputs": [
    {
     "name": "stderr",
     "output_type": "stream",
     "text": [
      "/opt/conda/lib/python3.7/site-packages/sklearn/metrics/classification.py:1437: UndefinedMetricWarning: F-score is ill-defined and being set to 0.0 due to no predicted samples.\n",
      "  'precision', 'predicted', average, warn_for)\n",
      "/opt/conda/lib/python3.7/site-packages/sklearn/metrics/classification.py:1437: UndefinedMetricWarning: F-score is ill-defined and being set to 0.0 due to no predicted samples.\n",
      "  'precision', 'predicted', average, warn_for)\n",
      "/opt/conda/lib/python3.7/site-packages/sklearn/metrics/classification.py:1437: UndefinedMetricWarning: F-score is ill-defined and being set to 0.0 due to no predicted samples.\n",
      "  'precision', 'predicted', average, warn_for)\n",
      "/opt/conda/lib/python3.7/site-packages/sklearn/metrics/classification.py:1437: UndefinedMetricWarning: F-score is ill-defined and being set to 0.0 due to no predicted samples.\n",
      "  'precision', 'predicted', average, warn_for)\n",
      "/opt/conda/lib/python3.7/site-packages/sklearn/metrics/classification.py:1437: UndefinedMetricWarning: F-score is ill-defined and being set to 0.0 due to no predicted samples.\n",
      "  'precision', 'predicted', average, warn_for)\n",
      "/opt/conda/lib/python3.7/site-packages/sklearn/metrics/classification.py:1437: UndefinedMetricWarning: F-score is ill-defined and being set to 0.0 due to no predicted samples.\n",
      "  'precision', 'predicted', average, warn_for)\n",
      "/opt/conda/lib/python3.7/site-packages/sklearn/metrics/classification.py:1437: UndefinedMetricWarning: F-score is ill-defined and being set to 0.0 due to no predicted samples.\n",
      "  'precision', 'predicted', average, warn_for)\n",
      "/opt/conda/lib/python3.7/site-packages/sklearn/metrics/classification.py:1437: UndefinedMetricWarning: F-score is ill-defined and being set to 0.0 due to no predicted samples.\n",
      "  'precision', 'predicted', average, warn_for)\n",
      "/opt/conda/lib/python3.7/site-packages/sklearn/metrics/classification.py:1437: UndefinedMetricWarning: F-score is ill-defined and being set to 0.0 due to no predicted samples.\n",
      "  'precision', 'predicted', average, warn_for)\n"
     ]
    },
    {
     "name": "stdout",
     "output_type": "stream",
     "text": [
      "F1 на модели случайного леса: 0.548076923076923\n"
     ]
    }
   ],
   "source": [
    "best_model_RandomForestClassifier = None\n",
    "best_result = 0\n",
    "for est in range(10, 51, 5):\n",
    "    for depth in range (1, 11):\n",
    "        model = RandomForestClassifier(random_state=12345, n_estimators=est, max_depth=depth)\n",
    "        model.fit(features_train, target_train)\n",
    "        predicted_valid = model.predict(features_valid)\n",
    "        result = f1_score(target_valid, predicted_valid)\n",
    "        if result > best_result:\n",
    "            best_model_RandomForestClassifier = model\n",
    "            best_result = result\n",
    "\n",
    "print(\"F1 на модели случайного леса:\", best_result)"
   ]
  },
  {
   "cell_type": "code",
   "execution_count": 22,
   "metadata": {},
   "outputs": [
    {
     "name": "stdout",
     "output_type": "stream",
     "text": [
      "Параметры лучшей модели случайного леса:\n",
      "{'bootstrap': True,\n",
      " 'class_weight': None,\n",
      " 'criterion': 'gini',\n",
      " 'max_depth': 10,\n",
      " 'max_features': 'auto',\n",
      " 'max_leaf_nodes': None,\n",
      " 'min_impurity_decrease': 0.0,\n",
      " 'min_impurity_split': None,\n",
      " 'min_samples_leaf': 1,\n",
      " 'min_samples_split': 2,\n",
      " 'min_weight_fraction_leaf': 0.0,\n",
      " 'n_estimators': 50,\n",
      " 'n_jobs': None,\n",
      " 'oob_score': False,\n",
      " 'random_state': 12345,\n",
      " 'verbose': 0,\n",
      " 'warm_start': False}\n"
     ]
    }
   ],
   "source": [
    "print('Параметры лучшей модели случайного леса:')\n",
    "pprint(best_model_RandomForestClassifier.get_params())"
   ]
  },
  {
   "cell_type": "markdown",
   "metadata": {},
   "source": [
    "**Логистическая регрессия**"
   ]
  },
  {
   "cell_type": "code",
   "execution_count": 23,
   "metadata": {},
   "outputs": [
    {
     "name": "stdout",
     "output_type": "stream",
     "text": [
      "F1 на модели логистической регрессии: 0.29158878504672897\n",
      "Матрица ошибок:\n",
      "[[1543   50]\n",
      " [ 329   78]]\n"
     ]
    }
   ],
   "source": [
    "model = LogisticRegression(random_state=12345, solver='liblinear')\n",
    "model.fit(features_train, target_train)\n",
    "predicted_valid = model.predict(features_valid)\n",
    "result = f1_score(target_valid, predicted_valid)\n",
    "\n",
    "print(\"F1 на модели логистической регрессии:\", result)\n",
    "print(\"Матрица ошибок:\")\n",
    "print(confusion_matrix(target_valid, predicted_valid))"
   ]
  },
  {
   "cell_type": "markdown",
   "metadata": {},
   "source": [
    "**Частота признаков**"
   ]
  },
  {
   "cell_type": "code",
   "execution_count": 24,
   "metadata": {},
   "outputs": [
    {
     "name": "stdout",
     "output_type": "stream",
     "text": [
      "   exited\n",
      "0  0.7963\n",
      "1  0.2037\n"
     ]
    },
    {
     "data": {
      "image/png": "[encoded data removed]",
      "text/plain": [
       "<Figure size 432x288 with 1 Axes>"
      ]
     },
     "metadata": {
      "needs_background": "light"
     },
     "output_type": "display_data"
    }
   ],
   "source": [
    "class_frequency = df['exited'].value_counts(normalize=True)\n",
    "print(class_frequency.to_frame())\n",
    "\n",
    "class_frequency.plot(kind='bar')\n",
    "plt.xlabel('Значение')\n",
    "plt.ylabel('Частота')\n",
    "plt.title('Частота признаков')\n",
    "plt.show()"
   ]
  },
  {
   "cell_type": "markdown",
   "metadata": {},
   "source": [
    "**Вывод**"
   ]
  },
  {
   "cell_type": "markdown",
   "metadata": {},
   "source": [
    "F1 на модели случайного леса: 0.548076923076923.\n",
    "\n",
    "F1 на модели логистической регрессии: 0.29158878504672897.\n",
    "\n",
    "Наблюдается дисбаланс классов. Отрицательный класс встречается примерно в 4 раза чаще, чем положительный."
   ]
  },
  {
   "cell_type": "markdown",
   "metadata": {},
   "source": [
    "## Борьба с дисбалансом"
   ]
  },
  {
   "cell_type": "markdown",
   "metadata": {},
   "source": [
    "### Увеличение выборки"
   ]
  },
  {
   "cell_type": "code",
   "execution_count": 25,
   "metadata": {},
   "outputs": [
    {
     "name": "stdout",
     "output_type": "stream",
     "text": [
      "(9618, 13)\n",
      "(9618,)\n"
     ]
    }
   ],
   "source": [
    "def upsample(features, target, repeat):\n",
    "    \n",
    "    features_zeros = features_train[target_train == 0]\n",
    "    features_ones = features_train[target_train == 1]\n",
    "    target_zeros = target_train[target_train == 0]\n",
    "    target_ones = target_train[target_train == 1]\n",
    "    \n",
    "    features_upsampled = pd.concat([features_zeros] + [features_ones] * repeat)\n",
    "    target_upsampled = pd.concat([target_zeros] + [target_ones] * repeat)\n",
    "    \n",
    "    features_upsampled, target_upsampled= shuffle(features_upsampled, target_upsampled, random_state=12345)\n",
    "    return features_upsampled, target_upsampled \n",
    "\n",
    "features_upsampled, target_upsampled = upsample(features_train, target_train, 4)\n",
    "\n",
    "print(features_upsampled.shape)\n",
    "print(target_upsampled.shape)"
   ]
  },
  {
   "cell_type": "code",
   "execution_count": 26,
   "metadata": {},
   "outputs": [
    {
     "name": "stdout",
     "output_type": "stream",
     "text": [
      "F1 на модели случайного леса: 0.6225769669327252\n",
      "Матрица ошибок:\n",
      "[[1396  197]\n",
      " [ 134  273]]\n"
     ]
    }
   ],
   "source": [
    "model = RandomForestClassifier(random_state=12345, n_estimators=45, max_depth=10)\n",
    "model.fit(features_upsampled, target_upsampled)\n",
    "predicted_valid = model.predict(features_valid)\n",
    "result = f1_score(target_valid, predicted_valid)\n",
    "\n",
    "print(\"F1 на модели случайного леса:\", result)\n",
    "print(\"Матрица ошибок:\")\n",
    "print(confusion_matrix(target_valid, predicted_valid))"
   ]
  },
  {
   "cell_type": "code",
   "execution_count": 27,
   "metadata": {
    "scrolled": true
   },
   "outputs": [
    {
     "name": "stdout",
     "output_type": "stream",
     "text": [
      "F1 на модели логистической регрессии: 0.5055131467345207\n",
      "Матрица ошибок:\n",
      "[[1119  474]\n",
      " [ 109  298]]\n"
     ]
    }
   ],
   "source": [
    "model = LogisticRegression(random_state=12345, solver='liblinear')\n",
    "model.fit(features_upsampled, target_upsampled)\n",
    "predicted_valid = model.predict(features_valid)\n",
    "result = f1_score(target_valid, predicted_valid)\n",
    "\n",
    "print(\"F1 на модели логистической регрессии:\", result)\n",
    "print(\"Матрица ошибок:\")\n",
    "print(confusion_matrix(target_valid, predicted_valid))"
   ]
  },
  {
   "cell_type": "markdown",
   "metadata": {},
   "source": [
    "**Вывод**"
   ]
  },
  {
   "cell_type": "markdown",
   "metadata": {},
   "source": [
    "Положительный класс увеличен в 4 раза.\n",
    "\n",
    "После увеличения выборки F1 на модели случайного леса составляет 0.6225769669327252.\n",
    "\n",
    "F1 на модели логистической регрессии: 0.5055131467345207."
   ]
  },
  {
   "cell_type": "markdown",
   "metadata": {},
   "source": [
    "### Уменьшение выборки"
   ]
  },
  {
   "cell_type": "code",
   "execution_count": 28,
   "metadata": {},
   "outputs": [
    {
     "name": "stdout",
     "output_type": "stream",
     "text": [
      "(1685, 13)\n",
      "(1685,)\n"
     ]
    }
   ],
   "source": [
    "def downsample(features, target, fraction):\n",
    "    \n",
    "    features_zeros = features_train[target_train == 0]\n",
    "    features_ones = features_train[target_train == 1]\n",
    "    target_zeros = target_train[target_train == 0]\n",
    "    target_ones = target_train[target_train == 1]\n",
    "    \n",
    "    features_downsampled = pd.concat([features_zeros.sample(frac=fraction, random_state=12345)] + [features_ones])\n",
    "    target_downsampled = pd.concat([target_zeros.sample(frac=fraction, random_state=12345)] + [target_ones])\n",
    "    \n",
    "    features_downsampled, target_downsampled = shuffle(features_downsampled, target_downsampled, random_state=12345)\n",
    "    return features_downsampled, target_downsampled\n",
    "\n",
    "features_downsampled, target_downsampled = downsample(features_train, target_train, 0.1)\n",
    "\n",
    "print(features_downsampled.shape)\n",
    "print(target_downsampled.shape)"
   ]
  },
  {
   "cell_type": "code",
   "execution_count": 29,
   "metadata": {},
   "outputs": [
    {
     "name": "stdout",
     "output_type": "stream",
     "text": [
      "F1 на модели случайного леса: 0.45787545787545786\n",
      "Матрица ошибок:\n",
      "[[737 856]\n",
      " [ 32 375]]\n"
     ]
    }
   ],
   "source": [
    "model = RandomForestClassifier(random_state=12345, n_estimators=45, max_depth=10)\n",
    "model.fit(features_downsampled, target_downsampled)\n",
    "predicted_valid = model.predict(features_valid)\n",
    "result = f1_score(target_valid, predicted_valid)\n",
    "\n",
    "print(\"F1 на модели случайного леса:\", result)\n",
    "print(\"Матрица ошибок:\")\n",
    "print(confusion_matrix(target_valid, predicted_valid))"
   ]
  },
  {
   "cell_type": "code",
   "execution_count": 30,
   "metadata": {},
   "outputs": [
    {
     "name": "stdout",
     "output_type": "stream",
     "text": [
      "F1 на модели логистической регрессии: 0.416210295728368\n",
      "Матрица ошибок:\n",
      "[[ 554 1039]\n",
      " [  27  380]]\n"
     ]
    }
   ],
   "source": [
    "model = LogisticRegression(random_state=12345, solver='liblinear')\n",
    "model.fit(features_downsampled, target_downsampled)\n",
    "predicted_valid = model.predict(features_valid)\n",
    "result = f1_score(target_valid, predicted_valid)\n",
    "\n",
    "print(\"F1 на модели логистической регрессии:\", result)\n",
    "print(\"Матрица ошибок:\")\n",
    "print(confusion_matrix(target_valid, predicted_valid))"
   ]
  },
  {
   "cell_type": "markdown",
   "metadata": {},
   "source": [
    "**Вывод**"
   ]
  },
  {
   "cell_type": "markdown",
   "metadata": {},
   "source": [
    "Отрицательный класс уменьшен до 1685 объектов.\n",
    "\n",
    "F1 на модели случайного леса: 0.45787545787545786.\n",
    "\n",
    "F1 на модели логистической регрессии: 0.416210295728368.\n",
    "\n",
    "Увеличение выборки показывает лучший результат метрики."
   ]
  },
  {
   "cell_type": "markdown",
   "metadata": {},
   "source": [
    "### Порог классификации"
   ]
  },
  {
   "cell_type": "code",
   "execution_count": 31,
   "metadata": {},
   "outputs": [],
   "source": [
    "def plot_precision_recall_curve(target_valid, probabilities_one_valid):\n",
    "    \n",
    "    for threshold in np.arange(0, 0.4, 0.02):\n",
    "        predicted_valid = probabilities_one_valid > threshold\n",
    "        precision = precision_score(target_valid, predicted_valid)\n",
    "        recall = recall_score(target_valid, predicted_valid)\n",
    "        print(\"Порог = {:.2f} | Точность = {:.3f}, Полнота = {:.3f}\".format(threshold, precision, recall))\n",
    "\n",
    "    precision, recall, thresholds = precision_recall_curve(target_valid, probabilities_one_valid)\n",
    "    \n",
    "    plt.figure(figsize=(10, 5))\n",
    "    plt.step(recall, precision, where='post')\n",
    "    plt.xlabel('Recall')\n",
    "    plt.ylabel('Precision')\n",
    "    plt.ylim([0.00, 1.00])\n",
    "    plt.xlim([0.00, 1.00])\n",
    "    plt.grid()\n",
    "    plt.title('Кривая Precision-Recall')\n",
    "    plt.show()"
   ]
  },
  {
   "cell_type": "markdown",
   "metadata": {},
   "source": [
    "**Случайный лес**"
   ]
  },
  {
   "cell_type": "code",
   "execution_count": 32,
   "metadata": {},
   "outputs": [
    {
     "name": "stdout",
     "output_type": "stream",
     "text": [
      "Порог = 0.00 | Точность = 0.203, Полнота = 1.000\n",
      "Порог = 0.02 | Точность = 0.210, Полнота = 0.995\n",
      "Порог = 0.04 | Точность = 0.232, Полнота = 0.985\n",
      "Порог = 0.06 | Точность = 0.260, Полнота = 0.971\n",
      "Порог = 0.08 | Точность = 0.286, Полнота = 0.946\n",
      "Порог = 0.10 | Точность = 0.322, Полнота = 0.929\n",
      "Порог = 0.12 | Точность = 0.356, Полнота = 0.894\n",
      "Порог = 0.14 | Точность = 0.392, Полнота = 0.867\n",
      "Порог = 0.16 | Точность = 0.426, Полнота = 0.818\n",
      "Порог = 0.18 | Точность = 0.463, Полнота = 0.794\n",
      "Порог = 0.20 | Точность = 0.491, Полнота = 0.764\n",
      "Порог = 0.22 | Точность = 0.523, Полнота = 0.732\n",
      "Порог = 0.24 | Точность = 0.552, Полнота = 0.710\n",
      "Порог = 0.26 | Точность = 0.588, Полнота = 0.676\n",
      "Порог = 0.28 | Точность = 0.610, Полнота = 0.649\n",
      "Порог = 0.30 | Точность = 0.639, Полнота = 0.639\n",
      "Порог = 0.32 | Точность = 0.651, Полнота = 0.609\n",
      "Порог = 0.34 | Точность = 0.672, Полнота = 0.580\n",
      "Порог = 0.36 | Точность = 0.693, Полнота = 0.560\n",
      "Порог = 0.38 | Точность = 0.713, Полнота = 0.538\n"
     ]
    },
    {
     "data": {
      "image/png": "[encoded data removed]",
      "text/plain": [
       "<Figure size 720x360 with 1 Axes>"
      ]
     },
     "metadata": {
      "needs_background": "light"
     },
     "output_type": "display_data"
    }
   ],
   "source": [
    "model = RandomForestClassifier(random_state=12345, n_estimators=45, max_depth=10)\n",
    "model.fit(features_train, target_train)\n",
    "probabilities_valid = model.predict_proba(features_valid)\n",
    "probabilities_one_valid = probabilities_valid[:, 1]\n",
    "\n",
    "plot_precision_recall_curve(target_valid, probabilities_one_valid)"
   ]
  },
  {
   "cell_type": "markdown",
   "metadata": {},
   "source": [
    "**Логистическая регрессия**"
   ]
  },
  {
   "cell_type": "code",
   "execution_count": 33,
   "metadata": {
    "scrolled": false
   },
   "outputs": [
    {
     "name": "stdout",
     "output_type": "stream",
     "text": [
      "Порог = 0.00 | Точность = 0.203, Полнота = 1.000\n",
      "Порог = 0.02 | Точность = 0.204, Полнота = 0.998\n",
      "Порог = 0.04 | Точность = 0.216, Полнота = 0.993\n",
      "Порог = 0.06 | Точность = 0.233, Полнота = 0.971\n",
      "Порог = 0.08 | Точность = 0.256, Полнота = 0.948\n",
      "Порог = 0.10 | Точность = 0.274, Полнота = 0.914\n",
      "Порог = 0.12 | Точность = 0.291, Полнота = 0.880\n",
      "Порог = 0.14 | Точность = 0.308, Полнота = 0.828\n",
      "Порог = 0.16 | Точность = 0.328, Полнота = 0.796\n",
      "Порог = 0.18 | Точность = 0.350, Полнота = 0.767\n",
      "Порог = 0.20 | Точность = 0.376, Полнота = 0.727\n",
      "Порог = 0.22 | Точность = 0.393, Полнота = 0.688\n",
      "Порог = 0.24 | Точность = 0.423, Полнота = 0.654\n",
      "Порог = 0.26 | Точность = 0.445, Полнота = 0.609\n",
      "Порог = 0.28 | Точность = 0.468, Полнота = 0.563\n",
      "Порог = 0.30 | Точность = 0.487, Полнота = 0.511\n",
      "Порог = 0.32 | Точность = 0.506, Полнота = 0.479\n",
      "Порог = 0.34 | Точность = 0.538, Полнота = 0.447\n",
      "Порог = 0.36 | Точность = 0.535, Полнота = 0.391\n",
      "Порог = 0.38 | Точность = 0.545, Полнота = 0.359\n"
     ]
    },
    {
     "data": {
      "image/png": "[encoded data removed]",
      "text/plain": [
       "<Figure size 720x360 with 1 Axes>"
      ]
     },
     "metadata": {
      "needs_background": "light"
     },
     "output_type": "display_data"
    }
   ],
   "source": [
    "model = LogisticRegression(random_state=12345, solver='liblinear')\n",
    "model.fit(features_train, target_train)\n",
    "probabilities_valid = model.predict_proba(features_valid)\n",
    "probabilities_one_valid = probabilities_valid[:, 1]\n",
    "\n",
    "plot_precision_recall_curve(target_valid, probabilities_one_valid)"
   ]
  },
  {
   "cell_type": "markdown",
   "metadata": {},
   "source": [
    "**Вывод**"
   ]
  },
  {
   "cell_type": "markdown",
   "metadata": {},
   "source": [
    "Для модели случайного леса лучшее пороговое значение около 0.1.\n",
    "\n",
    "Для модели логистической регрессии лучшее пороговое значение около 0.2."
   ]
  },
  {
   "cell_type": "markdown",
   "metadata": {},
   "source": [
    "###  Обучение модели на train+valid выборке"
   ]
  },
  {
   "cell_type": "code",
   "execution_count": 34,
   "metadata": {},
   "outputs": [
    {
     "name": "stdout",
     "output_type": "stream",
     "text": [
      "Размер объединенной train+valid выборки: (8000, 13) , 8000\n"
     ]
    }
   ],
   "source": [
    "features_frames = [features_train, features_valid]\n",
    "two_features = pd.concat(features_frames)\n",
    "\n",
    "target_frames = [target_train, target_valid]\n",
    "two_target = pd.concat(target_frames)\n",
    "\n",
    "print('Размер объединенной train+valid выборки:', two_features.shape, ',', two_target.shape[0])"
   ]
  },
  {
   "cell_type": "markdown",
   "metadata": {},
   "source": [
    "**Случайный лес**"
   ]
  },
  {
   "cell_type": "code",
   "execution_count": 35,
   "metadata": {},
   "outputs": [
    {
     "name": "stdout",
     "output_type": "stream",
     "text": [
      "F1 на модели случайного леса: 0.5391849529780564\n"
     ]
    }
   ],
   "source": [
    "model = RandomForestClassifier(random_state=12345, n_estimators=45, max_depth=10)\n",
    "model.fit(two_features, two_target)\n",
    "predicted_two = model.predict(features_test)\n",
    "result = f1_score(target_test, predicted_two)\n",
    "\n",
    "print(\"F1 на модели случайного леса:\", result)"
   ]
  },
  {
   "cell_type": "markdown",
   "metadata": {},
   "source": [
    "**Логистическая регрессия**"
   ]
  },
  {
   "cell_type": "code",
   "execution_count": 36,
   "metadata": {},
   "outputs": [
    {
     "name": "stdout",
     "output_type": "stream",
     "text": [
      "F1 на модели логистической регрессии: 0.3215547703180212\n"
     ]
    }
   ],
   "source": [
    "model = LogisticRegression(random_state=12345, solver='liblinear')\n",
    "model.fit(two_features, two_target)\n",
    "predicted_two = model.predict(features_test)\n",
    "result = f1_score(target_test, predicted_two)\n",
    "\n",
    "print(\"F1 на модели логистической регрессии:\", result)"
   ]
  },
  {
   "cell_type": "markdown",
   "metadata": {},
   "source": [
    "**Вывод**"
   ]
  },
  {
   "cell_type": "markdown",
   "metadata": {},
   "source": [
    "После объединения выборок F1 метрика на обоих моделях упала. Тестирование будет проводится на моделях без объединения."
   ]
  },
  {
   "cell_type": "markdown",
   "metadata": {},
   "source": [
    "### Подбор гиперпараметров"
   ]
  },
  {
   "cell_type": "code",
   "execution_count": 37,
   "metadata": {},
   "outputs": [],
   "source": [
    "def plot_auc_roc(target_valid, probabilities_one_valid):\n",
    "\n",
    "    auc_roc = roc_auc_score(target_valid, probabilities_one_valid)\n",
    "    print('auc_roc', auc_roc)\n",
    "\n",
    "    fpr, tpr, thresholds = roc_curve(target_valid, probabilities_one_valid)\n",
    "\n",
    "    plt.figure(figsize=(10, 5))\n",
    "    plt.plot(fpr, tpr)\n",
    "    plt.plot([0, 1], [0, 1], linestyle='--')\n",
    "    plt.xlim([0.0, 1.0])\n",
    "    plt.ylim([0.0, 1.0])\n",
    "    plt.xlabel('False Positive Rate')\n",
    "    plt.ylabel('True Positive Rate')\n",
    "    plt.title('ROC-AUC={0:0.5f}'.format(roc_auc_score(target_valid, probabilities_one_valid)))\n",
    "    plt.show()"
   ]
  },
  {
   "cell_type": "markdown",
   "metadata": {},
   "source": [
    "**Случайный лес**"
   ]
  },
  {
   "cell_type": "code",
   "execution_count": 38,
   "metadata": {},
   "outputs": [
    {
     "name": "stdout",
     "output_type": "stream",
     "text": [
      "F1 на модели случайного леса: 0.6326530612244897\n",
      "auc_roc 0.856546839597687\n"
     ]
    },
    {
     "data": {
      "image/png": "[encoded data removed]",
      "text/plain": [
       "<Figure size 720x360 with 1 Axes>"
      ]
     },
     "metadata": {
      "needs_background": "light"
     },
     "output_type": "display_data"
    }
   ],
   "source": [
    "model_rf = None\n",
    "best_result = 0\n",
    "for est in range(10, 31, 3):\n",
    "    for depth in range (1, 15):\n",
    "        model = RandomForestClassifier(random_state=12345, n_estimators=est, max_depth=depth)\n",
    "        model.fit(features_upsampled, target_upsampled)\n",
    "        predicted_valid = model.predict(features_valid)\n",
    "        result = f1_score(target_valid, predicted_valid)\n",
    "        if result > best_result:\n",
    "            model_rf = model\n",
    "            best_result = result\n",
    "\n",
    "print(\"F1 на модели случайного леса:\", best_result)\n",
    "\n",
    "probabilities_one_valid = model_rf.predict_proba(features_valid)[:, 1]\n",
    "plot_auc_roc(target_valid, probabilities_one_valid)"
   ]
  },
  {
   "cell_type": "code",
   "execution_count": 39,
   "metadata": {
    "scrolled": false
   },
   "outputs": [
    {
     "name": "stdout",
     "output_type": "stream",
     "text": [
      "Параметры лучшей модели случайного леса на тестовой выборке:\n",
      "{'bootstrap': True,\n",
      " 'class_weight': None,\n",
      " 'criterion': 'gini',\n",
      " 'max_depth': 10,\n",
      " 'max_features': 'auto',\n",
      " 'max_leaf_nodes': None,\n",
      " 'min_impurity_decrease': 0.0,\n",
      " 'min_impurity_split': None,\n",
      " 'min_samples_leaf': 1,\n",
      " 'min_samples_split': 2,\n",
      " 'min_weight_fraction_leaf': 0.0,\n",
      " 'n_estimators': 28,\n",
      " 'n_jobs': None,\n",
      " 'oob_score': False,\n",
      " 'random_state': 12345,\n",
      " 'verbose': 0,\n",
      " 'warm_start': False}\n"
     ]
    }
   ],
   "source": [
    "print('Параметры лучшей модели случайного леса на тестовой выборке:')\n",
    "pprint(model_rf.get_params())"
   ]
  },
  {
   "cell_type": "markdown",
   "metadata": {},
   "source": [
    "**Логистическая регрессия**"
   ]
  },
  {
   "cell_type": "code",
   "execution_count": 40,
   "metadata": {},
   "outputs": [
    {
     "name": "stdout",
     "output_type": "stream",
     "text": [
      "F1 на модели логистической регрессии: 0.5055131467345207\n",
      "auc_roc 0.7814301204131713\n"
     ]
    },
    {
     "data": {
      "image/png": "[encoded data removed]",
      "text/plain": [
       "<Figure size 720x360 with 1 Axes>"
      ]
     },
     "metadata": {
      "needs_background": "light"
     },
     "output_type": "display_data"
    }
   ],
   "source": [
    "model_lr = LogisticRegression(random_state=12345, solver='liblinear')\n",
    "model_lr.fit(features_upsampled, target_upsampled)\n",
    "predicted_valid = model_lr.predict(features_valid)\n",
    "result = f1_score(target_valid, predicted_valid)\n",
    "\n",
    "print(\"F1 на модели логистической регрессии:\", result)\n",
    "\n",
    "probabilities_one_valid = model_lr.predict_proba(features_valid)[:, 1]\n",
    "plot_auc_roc(target_valid, probabilities_one_valid)"
   ]
  },
  {
   "cell_type": "markdown",
   "metadata": {},
   "source": [
    "**Вывод**"
   ]
  },
  {
   "cell_type": "markdown",
   "metadata": {},
   "source": [
    "F1 на валидационной выборке финальной модели случайного леса: 0.6326530612244897. ROC-AUC 0.856546839597687.\n",
    "\n",
    "F1 на валидационной выборке финальной модели логистической регрессии: 0.5055131467345207. ROC-AUC 0.7814301204131713.\n",
    "\n",
    "В обоих случаях roc_auc больше 0,5. Это значит, что обе модели лучше, чем случайная."
   ]
  },
  {
   "cell_type": "markdown",
   "metadata": {},
   "source": [
    "## Тестирование модели"
   ]
  },
  {
   "cell_type": "markdown",
   "metadata": {},
   "source": [
    "**Случайный лес**"
   ]
  },
  {
   "cell_type": "code",
   "execution_count": 41,
   "metadata": {},
   "outputs": [
    {
     "name": "stdout",
     "output_type": "stream",
     "text": [
      "F1 на модели случайного леса на тестовой выборке: 0.6186252771618624\n"
     ]
    }
   ],
   "source": [
    "predicted_test = model_rf.predict(features_test)\n",
    "model_rf_f1_score = f1_score(target_test, predicted_test)\n",
    "\n",
    "print(\"F1 на модели случайного леса на тестовой выборке:\", model_rf_f1_score)"
   ]
  },
  {
   "cell_type": "markdown",
   "metadata": {},
   "source": [
    "**Логистическая регрессия**"
   ]
  },
  {
   "cell_type": "code",
   "execution_count": 42,
   "metadata": {},
   "outputs": [
    {
     "name": "stdout",
     "output_type": "stream",
     "text": [
      "F1 на модели логистической регрессии на тестовой выборке: 0.4970111016225449\n"
     ]
    }
   ],
   "source": [
    "predicted_test = model_lr.predict(features_test)\n",
    "model_lr_f1_score = f1_score(target_test, predicted_test)\n",
    "\n",
    "print(\"F1 на модели логистической регрессии на тестовой выборке:\", model_lr_f1_score)"
   ]
  },
  {
   "cell_type": "markdown",
   "metadata": {},
   "source": [
    "**Вывод**"
   ]
  },
  {
   "cell_type": "markdown",
   "metadata": {},
   "source": [
    "На тестовой выборке F1 на модели случайного леса: 0.6186252771618624.\n",
    "\n",
    "На тестовой выборке F1 на модели логистической регрессии: 0.4970111016225449."
   ]
  },
  {
   "cell_type": "markdown",
   "metadata": {},
   "source": [
    "## Общий вывод"
   ]
  },
  {
   "cell_type": "code",
   "execution_count": 43,
   "metadata": {},
   "outputs": [
    {
     "data": {
      "text/html": [
       "<div>\n",
       "<style scoped>\n",
       "    .dataframe tbody tr th:only-of-type {\n",
       "        vertical-align: middle;\n",
       "    }\n",
       "\n",
       "    .dataframe tbody tr th {\n",
       "        vertical-align: top;\n",
       "    }\n",
       "\n",
       "    .dataframe thead th {\n",
       "        text-align: right;\n",
       "    }\n",
       "</style>\n",
       "<table border=\"1\" class=\"dataframe\">\n",
       "  <thead>\n",
       "    <tr style=\"text-align: right;\">\n",
       "      <th></th>\n",
       "      <th>Model</th>\n",
       "      <th>F1 valid</th>\n",
       "      <th>F1 test</th>\n",
       "    </tr>\n",
       "  </thead>\n",
       "  <tbody>\n",
       "    <tr>\n",
       "      <td>0</td>\n",
       "      <td>RandomForestClassifier</td>\n",
       "      <td>0.632653</td>\n",
       "      <td>0.618625</td>\n",
       "    </tr>\n",
       "    <tr>\n",
       "      <td>1</td>\n",
       "      <td>LogisticRegression</td>\n",
       "      <td>0.505513</td>\n",
       "      <td>0.497011</td>\n",
       "    </tr>\n",
       "  </tbody>\n",
       "</table>\n",
       "</div>"
      ],
      "text/plain": [
       "                    Model  F1 valid   F1 test\n",
       "0  RandomForestClassifier  0.632653  0.618625\n",
       "1      LogisticRegression  0.505513  0.497011"
      ]
     },
     "execution_count": 43,
     "metadata": {},
     "output_type": "execute_result"
    }
   ],
   "source": [
    "model = pd.DataFrame({\n",
    "    'Model': ['RandomForestClassifier', 'LogisticRegression'], \n",
    "    'F1 valid': [best_result, result], \n",
    "    'F1 test': [model_rf_f1_score, model_lr_f1_score],\n",
    "})\n",
    "model"
   ]
  },
  {
   "cell_type": "markdown",
   "metadata": {},
   "source": [
    "Необходимый уровень F1 метрики достигнут на модели RandomForestClassifier."
   ]
  }
 ],
 "metadata": {
  "ExecuteTimeLog": [
   {
    "duration": 726,
    "start_time": "2021-06-30T18:10:50.868Z"
   },
   {
    "duration": 23,
    "start_time": "2021-06-30T18:10:53.340Z"
   },
   {
    "duration": 29,
    "start_time": "2021-06-30T18:10:54.683Z"
   },
   {
    "duration": 36,
    "start_time": "2021-06-30T18:11:11.620Z"
   },
   {
    "duration": 28,
    "start_time": "2021-06-30T18:11:13.213Z"
   },
   {
    "duration": 59,
    "start_time": "2021-06-30T18:12:41.060Z"
   },
   {
    "duration": 25,
    "start_time": "2021-06-30T18:12:44.068Z"
   },
   {
    "duration": 400,
    "start_time": "2021-07-01T10:42:51.871Z"
   },
   {
    "duration": 798,
    "start_time": "2021-07-01T10:43:01.342Z"
   },
   {
    "duration": 41,
    "start_time": "2021-07-01T10:43:02.143Z"
   },
   {
    "duration": 36,
    "start_time": "2021-07-01T10:43:02.187Z"
   },
   {
    "duration": 80,
    "start_time": "2021-07-01T10:43:02.225Z"
   },
   {
    "duration": 24,
    "start_time": "2021-07-01T10:43:02.308Z"
   },
   {
    "duration": 6,
    "start_time": "2021-07-01T10:43:02.334Z"
   },
   {
    "duration": 540,
    "start_time": "2021-07-01T10:48:36.327Z"
   },
   {
    "duration": 5,
    "start_time": "2021-07-01T10:48:45.306Z"
   },
   {
    "duration": 114,
    "start_time": "2021-07-01T11:51:00.844Z"
   },
   {
    "duration": 36375,
    "start_time": "2021-07-01T11:51:04.012Z"
   },
   {
    "duration": 548,
    "start_time": "2021-07-01T13:56:47.463Z"
   },
   {
    "duration": 1445,
    "start_time": "2021-07-01T13:57:15.913Z"
   },
   {
    "duration": 1527,
    "start_time": "2021-07-01T13:58:10.429Z"
   },
   {
    "duration": 1189,
    "start_time": "2021-07-01T13:58:26.003Z"
   },
   {
    "duration": 580,
    "start_time": "2021-07-01T13:58:48.356Z"
   },
   {
    "duration": 1125,
    "start_time": "2021-07-01T14:00:25.832Z"
   },
   {
    "duration": 1315,
    "start_time": "2021-07-01T14:00:54.754Z"
   },
   {
    "duration": 10,
    "start_time": "2021-07-01T14:04:09.257Z"
   },
   {
    "duration": 9,
    "start_time": "2021-07-01T14:04:23.814Z"
   },
   {
    "duration": 392,
    "start_time": "2021-07-01T14:08:31.222Z"
   },
   {
    "duration": 14,
    "start_time": "2021-07-01T14:08:39.064Z"
   },
   {
    "duration": 12,
    "start_time": "2021-07-01T14:08:54.826Z"
   },
   {
    "duration": 14,
    "start_time": "2021-07-01T14:10:43.964Z"
   },
   {
    "duration": 12,
    "start_time": "2021-07-01T14:11:06.678Z"
   },
   {
    "duration": 9,
    "start_time": "2021-07-01T14:11:58.717Z"
   },
   {
    "duration": 10,
    "start_time": "2021-07-01T14:12:02.644Z"
   },
   {
    "duration": 494,
    "start_time": "2021-07-01T14:14:10.209Z"
   },
   {
    "duration": 28,
    "start_time": "2021-07-01T14:14:16.242Z"
   },
   {
    "duration": 1459,
    "start_time": "2021-07-01T14:15:36.006Z"
   },
   {
    "duration": 422,
    "start_time": "2021-07-01T14:15:37.468Z"
   },
   {
    "duration": 32,
    "start_time": "2021-07-01T14:15:37.893Z"
   },
   {
    "duration": 78,
    "start_time": "2021-07-01T14:15:37.928Z"
   },
   {
    "duration": 6,
    "start_time": "2021-07-01T14:15:38.009Z"
   },
   {
    "duration": 10,
    "start_time": "2021-07-01T14:15:38.018Z"
   },
   {
    "duration": 13,
    "start_time": "2021-07-01T14:15:38.031Z"
   },
   {
    "duration": 60,
    "start_time": "2021-07-01T14:15:38.047Z"
   },
   {
    "duration": 26,
    "start_time": "2021-07-01T14:15:38.109Z"
   },
   {
    "duration": 1261,
    "start_time": "2021-07-01T14:15:38.137Z"
   },
   {
    "duration": 9313,
    "start_time": "2021-07-01T14:16:31.367Z"
   },
   {
    "duration": 1541,
    "start_time": "2021-07-01T14:17:28.056Z"
   },
   {
    "duration": 36,
    "start_time": "2021-07-01T14:17:29.600Z"
   },
   {
    "duration": 30,
    "start_time": "2021-07-01T14:17:29.639Z"
   },
   {
    "duration": 71,
    "start_time": "2021-07-01T14:17:29.671Z"
   },
   {
    "duration": 6,
    "start_time": "2021-07-01T14:17:29.744Z"
   },
   {
    "duration": 38,
    "start_time": "2021-07-01T14:17:29.752Z"
   },
   {
    "duration": 14,
    "start_time": "2021-07-01T14:17:29.792Z"
   },
   {
    "duration": 27,
    "start_time": "2021-07-01T14:17:29.809Z"
   },
   {
    "duration": 47,
    "start_time": "2021-07-01T14:17:29.839Z"
   },
   {
    "duration": 1233,
    "start_time": "2021-07-01T14:17:29.889Z"
   },
   {
    "duration": 1502,
    "start_time": "2021-07-01T14:19:58.307Z"
   },
   {
    "duration": 47,
    "start_time": "2021-07-01T14:19:59.813Z"
   },
   {
    "duration": 55,
    "start_time": "2021-07-01T14:19:59.869Z"
   },
   {
    "duration": 95,
    "start_time": "2021-07-01T14:19:59.927Z"
   },
   {
    "duration": 7,
    "start_time": "2021-07-01T14:20:00.024Z"
   },
   {
    "duration": 18,
    "start_time": "2021-07-01T14:20:00.033Z"
   },
   {
    "duration": 32,
    "start_time": "2021-07-01T14:20:00.055Z"
   },
   {
    "duration": 37,
    "start_time": "2021-07-01T14:20:00.090Z"
   },
   {
    "duration": 56,
    "start_time": "2021-07-01T14:20:00.130Z"
   },
   {
    "duration": 1251,
    "start_time": "2021-07-01T14:20:00.189Z"
   },
   {
    "duration": 32,
    "start_time": "2021-07-01T14:20:30.998Z"
   },
   {
    "duration": 1860,
    "start_time": "2021-07-01T14:20:42.450Z"
   },
   {
    "duration": 7,
    "start_time": "2021-07-01T14:22:52.788Z"
   },
   {
    "duration": 9362,
    "start_time": "2021-07-01T14:29:17.446Z"
   },
   {
    "duration": 1489,
    "start_time": "2021-07-01T14:30:01.587Z"
   },
   {
    "duration": 37,
    "start_time": "2021-07-01T14:30:03.231Z"
   },
   {
    "duration": 31,
    "start_time": "2021-07-01T14:30:04.999Z"
   },
   {
    "duration": 62,
    "start_time": "2021-07-01T14:30:08.590Z"
   },
   {
    "duration": 4,
    "start_time": "2021-07-01T14:30:10.345Z"
   },
   {
    "duration": 7,
    "start_time": "2021-07-01T14:30:29.866Z"
   },
   {
    "duration": 9,
    "start_time": "2021-07-01T14:30:34.850Z"
   },
   {
    "duration": 437,
    "start_time": "2021-07-01T14:32:15.460Z"
   },
   {
    "duration": 9,
    "start_time": "2021-07-01T14:32:39.396Z"
   },
   {
    "duration": 9,
    "start_time": "2021-07-01T14:32:53.435Z"
   },
   {
    "duration": 6,
    "start_time": "2021-07-01T14:34:56.929Z"
   },
   {
    "duration": 9,
    "start_time": "2021-07-01T14:36:43.543Z"
   },
   {
    "duration": 8,
    "start_time": "2021-07-01T14:39:23.390Z"
   },
   {
    "duration": 34,
    "start_time": "2021-07-01T14:39:31.471Z"
   },
   {
    "duration": 21,
    "start_time": "2021-07-01T14:40:26.987Z"
   },
   {
    "duration": 2012,
    "start_time": "2021-07-01T14:43:03.975Z"
   },
   {
    "duration": 75,
    "start_time": "2021-07-01T14:43:18.555Z"
   },
   {
    "duration": 1994,
    "start_time": "2021-07-01T14:44:17.936Z"
   },
   {
    "duration": 5,
    "start_time": "2021-07-01T14:47:29.086Z"
   },
   {
    "duration": 333,
    "start_time": "2021-07-01T14:47:43.421Z"
   },
   {
    "duration": 1622,
    "start_time": "2021-07-01T14:48:19.442Z"
   },
   {
    "duration": 47,
    "start_time": "2021-07-01T14:48:21.067Z"
   },
   {
    "duration": 45,
    "start_time": "2021-07-01T14:48:21.118Z"
   },
   {
    "duration": 73,
    "start_time": "2021-07-01T14:48:21.166Z"
   },
   {
    "duration": 6,
    "start_time": "2021-07-01T14:48:24.281Z"
   },
   {
    "duration": 9,
    "start_time": "2021-07-01T14:48:24.837Z"
   },
   {
    "duration": 10,
    "start_time": "2021-07-01T14:48:27.428Z"
   },
   {
    "duration": 451,
    "start_time": "2021-07-01T14:48:28.178Z"
   },
   {
    "duration": 3,
    "start_time": "2021-07-01T14:48:46.171Z"
   },
   {
    "duration": 1477,
    "start_time": "2021-07-01T14:54:11.098Z"
   },
   {
    "duration": 38,
    "start_time": "2021-07-01T14:54:12.578Z"
   },
   {
    "duration": 33,
    "start_time": "2021-07-01T14:54:12.619Z"
   },
   {
    "duration": 85,
    "start_time": "2021-07-01T14:54:12.655Z"
   },
   {
    "duration": 7,
    "start_time": "2021-07-01T14:54:14.396Z"
   },
   {
    "duration": 9,
    "start_time": "2021-07-01T14:54:15.369Z"
   },
   {
    "duration": 461,
    "start_time": "2021-07-01T14:54:16.127Z"
   },
   {
    "duration": 9,
    "start_time": "2021-07-01T14:54:28.640Z"
   },
   {
    "duration": 4,
    "start_time": "2021-07-01T14:54:30.051Z"
   },
   {
    "duration": 428,
    "start_time": "2021-07-01T14:55:29.224Z"
   },
   {
    "duration": 35,
    "start_time": "2021-07-01T14:55:50.379Z"
   },
   {
    "duration": 28,
    "start_time": "2021-07-01T14:55:50.717Z"
   },
   {
    "duration": 64,
    "start_time": "2021-07-01T14:55:51.231Z"
   },
   {
    "duration": 7,
    "start_time": "2021-07-01T14:55:53.082Z"
   },
   {
    "duration": 9,
    "start_time": "2021-07-01T14:55:54.304Z"
   },
   {
    "duration": 5,
    "start_time": "2021-07-01T14:55:55.508Z"
   },
   {
    "duration": 8,
    "start_time": "2021-07-01T14:55:56.045Z"
   },
   {
    "duration": 36,
    "start_time": "2021-07-01T14:56:13.466Z"
   },
   {
    "duration": 28,
    "start_time": "2021-07-01T14:56:13.924Z"
   },
   {
    "duration": 62,
    "start_time": "2021-07-01T14:56:14.325Z"
   },
   {
    "duration": 7,
    "start_time": "2021-07-01T14:56:14.812Z"
   },
   {
    "duration": 10,
    "start_time": "2021-07-01T14:56:15.526Z"
   },
   {
    "duration": 11,
    "start_time": "2021-07-01T14:56:17.766Z"
   },
   {
    "duration": 35,
    "start_time": "2021-07-01T14:56:18.139Z"
   },
   {
    "duration": 39,
    "start_time": "2021-07-01T14:58:45.124Z"
   },
   {
    "duration": 30,
    "start_time": "2021-07-01T14:58:45.240Z"
   },
   {
    "duration": 92,
    "start_time": "2021-07-01T14:58:45.498Z"
   },
   {
    "duration": 7,
    "start_time": "2021-07-01T14:58:47.220Z"
   },
   {
    "duration": 9,
    "start_time": "2021-07-01T14:58:48.175Z"
   },
   {
    "duration": 6,
    "start_time": "2021-07-01T14:58:48.982Z"
   },
   {
    "duration": 36,
    "start_time": "2021-07-01T14:58:49.605Z"
   },
   {
    "duration": 36,
    "start_time": "2021-07-01T14:59:04.544Z"
   },
   {
    "duration": 26,
    "start_time": "2021-07-01T14:59:04.677Z"
   },
   {
    "duration": 60,
    "start_time": "2021-07-01T14:59:04.823Z"
   },
   {
    "duration": 7,
    "start_time": "2021-07-01T14:59:05.051Z"
   },
   {
    "duration": 8,
    "start_time": "2021-07-01T14:59:06.315Z"
   },
   {
    "duration": 10,
    "start_time": "2021-07-01T14:59:08.890Z"
   },
   {
    "duration": 33,
    "start_time": "2021-07-01T14:59:19.899Z"
   },
   {
    "duration": 36,
    "start_time": "2021-07-01T14:59:44.098Z"
   },
   {
    "duration": 29,
    "start_time": "2021-07-01T14:59:44.258Z"
   },
   {
    "duration": 58,
    "start_time": "2021-07-01T14:59:44.424Z"
   },
   {
    "duration": 7,
    "start_time": "2021-07-01T14:59:44.575Z"
   },
   {
    "duration": 11,
    "start_time": "2021-07-01T14:59:47.193Z"
   },
   {
    "duration": 10,
    "start_time": "2021-07-01T14:59:48.551Z"
   },
   {
    "duration": 4,
    "start_time": "2021-07-01T14:59:49.447Z"
   },
   {
    "duration": 1601,
    "start_time": "2021-07-01T15:02:25.562Z"
   },
   {
    "duration": 40,
    "start_time": "2021-07-01T15:02:27.166Z"
   },
   {
    "duration": 31,
    "start_time": "2021-07-01T15:02:27.210Z"
   },
   {
    "duration": 65,
    "start_time": "2021-07-01T15:02:29.103Z"
   },
   {
    "duration": 7,
    "start_time": "2021-07-01T15:02:29.294Z"
   },
   {
    "duration": 10,
    "start_time": "2021-07-01T15:02:29.431Z"
   },
   {
    "duration": 10,
    "start_time": "2021-07-01T15:02:32.587Z"
   },
   {
    "duration": 33,
    "start_time": "2021-07-01T15:02:34.428Z"
   },
   {
    "duration": 37,
    "start_time": "2021-07-01T15:03:46.753Z"
   },
   {
    "duration": 29,
    "start_time": "2021-07-01T15:03:47.296Z"
   },
   {
    "duration": 57,
    "start_time": "2021-07-01T15:03:48.044Z"
   },
   {
    "duration": 36,
    "start_time": "2021-07-01T15:04:09.495Z"
   },
   {
    "duration": 29,
    "start_time": "2021-07-01T15:04:09.970Z"
   },
   {
    "duration": 65,
    "start_time": "2021-07-01T15:04:10.559Z"
   },
   {
    "duration": 1582,
    "start_time": "2021-07-01T15:04:49.452Z"
   },
   {
    "duration": 39,
    "start_time": "2021-07-01T15:04:51.037Z"
   },
   {
    "duration": 33,
    "start_time": "2021-07-01T15:04:51.079Z"
   },
   {
    "duration": 67,
    "start_time": "2021-07-01T15:04:51.216Z"
   },
   {
    "duration": 8,
    "start_time": "2021-07-01T15:04:52.488Z"
   },
   {
    "duration": 10,
    "start_time": "2021-07-01T15:04:55.262Z"
   },
   {
    "duration": 9,
    "start_time": "2021-07-01T15:04:57.373Z"
   },
   {
    "duration": 9,
    "start_time": "2021-07-01T15:05:09.167Z"
   },
   {
    "duration": 9,
    "start_time": "2021-07-01T15:05:09.930Z"
   },
   {
    "duration": 15,
    "start_time": "2021-07-01T15:05:28.942Z"
   },
   {
    "duration": 36,
    "start_time": "2021-07-01T15:06:10.694Z"
   },
   {
    "duration": 7,
    "start_time": "2021-07-01T15:06:25.879Z"
   },
   {
    "duration": 55,
    "start_time": "2021-07-01T15:07:35.868Z"
   },
   {
    "duration": 1454,
    "start_time": "2021-07-01T15:07:48.008Z"
   },
   {
    "duration": 38,
    "start_time": "2021-07-01T15:07:49.465Z"
   },
   {
    "duration": 32,
    "start_time": "2021-07-01T15:07:49.506Z"
   },
   {
    "duration": 87,
    "start_time": "2021-07-01T15:07:49.541Z"
   },
   {
    "duration": 7,
    "start_time": "2021-07-01T15:07:49.631Z"
   },
   {
    "duration": 12,
    "start_time": "2021-07-01T15:07:49.640Z"
   },
   {
    "duration": 39,
    "start_time": "2021-07-01T15:07:49.655Z"
   },
   {
    "duration": 9,
    "start_time": "2021-07-01T15:07:49.698Z"
   },
   {
    "duration": 15,
    "start_time": "2021-07-01T15:07:49.709Z"
   },
   {
    "duration": 95,
    "start_time": "2021-07-01T15:07:49.726Z"
   },
   {
    "duration": 6,
    "start_time": "2021-07-01T15:07:49.824Z"
   },
   {
    "duration": 54,
    "start_time": "2021-07-01T15:07:49.833Z"
   },
   {
    "duration": 1395,
    "start_time": "2021-07-01T15:07:49.889Z"
   },
   {
    "duration": 33,
    "start_time": "2021-07-01T15:08:18.630Z"
   },
   {
    "duration": 1561,
    "start_time": "2021-07-01T15:09:16.206Z"
   },
   {
    "duration": 38,
    "start_time": "2021-07-01T15:09:17.770Z"
   },
   {
    "duration": 34,
    "start_time": "2021-07-01T15:09:23.812Z"
   },
   {
    "duration": 63,
    "start_time": "2021-07-01T15:09:24.504Z"
   },
   {
    "duration": 7,
    "start_time": "2021-07-01T15:09:26.059Z"
   },
   {
    "duration": 13,
    "start_time": "2021-07-01T15:09:26.705Z"
   },
   {
    "duration": 15,
    "start_time": "2021-07-01T15:09:28.694Z"
   },
   {
    "duration": 9,
    "start_time": "2021-07-01T15:09:30.592Z"
   },
   {
    "duration": 9,
    "start_time": "2021-07-01T15:09:32.500Z"
   },
   {
    "duration": 31,
    "start_time": "2021-07-01T15:09:38.793Z"
   },
   {
    "duration": 13,
    "start_time": "2021-07-01T15:10:11.595Z"
   },
   {
    "duration": 13,
    "start_time": "2021-07-01T15:10:18.863Z"
   },
   {
    "duration": 7,
    "start_time": "2021-07-01T15:10:34.569Z"
   },
   {
    "duration": 52,
    "start_time": "2021-07-01T15:19:26.943Z"
   },
   {
    "duration": 2768,
    "start_time": "2021-07-01T15:19:35.539Z"
   },
   {
    "duration": 8581,
    "start_time": "2021-07-01T17:15:06.298Z"
   },
   {
    "duration": 334,
    "start_time": "2021-07-01T17:15:28.940Z"
   },
   {
    "duration": 47,
    "start_time": "2021-07-01T17:15:55.430Z"
   },
   {
    "duration": 22,
    "start_time": "2021-07-01T17:16:00.379Z"
   },
   {
    "duration": 21,
    "start_time": "2021-07-01T17:17:10.131Z"
   },
   {
    "duration": 21,
    "start_time": "2021-07-01T17:17:15.119Z"
   },
   {
    "duration": 22,
    "start_time": "2021-07-01T17:17:47.627Z"
   },
   {
    "duration": 25,
    "start_time": "2021-07-01T17:21:04.954Z"
   },
   {
    "duration": 33,
    "start_time": "2021-07-01T17:21:57.661Z"
   },
   {
    "duration": 37,
    "start_time": "2021-07-01T17:23:28.594Z"
   },
   {
    "duration": 21,
    "start_time": "2021-07-01T17:23:53.655Z"
   },
   {
    "duration": 1627,
    "start_time": "2021-07-01T17:24:24.595Z"
   },
   {
    "duration": 41,
    "start_time": "2021-07-01T17:24:26.225Z"
   },
   {
    "duration": 38,
    "start_time": "2021-07-01T17:24:26.269Z"
   },
   {
    "duration": 92,
    "start_time": "2021-07-01T17:24:26.310Z"
   },
   {
    "duration": 8,
    "start_time": "2021-07-01T17:24:26.404Z"
   },
   {
    "duration": 26,
    "start_time": "2021-07-01T17:24:26.414Z"
   },
   {
    "duration": 12,
    "start_time": "2021-07-01T17:24:26.442Z"
   },
   {
    "duration": 19,
    "start_time": "2021-07-01T17:24:26.485Z"
   },
   {
    "duration": 10,
    "start_time": "2021-07-01T17:24:26.510Z"
   },
   {
    "duration": 21,
    "start_time": "2021-07-01T17:24:26.523Z"
   },
   {
    "duration": 69,
    "start_time": "2021-07-01T17:24:26.547Z"
   },
   {
    "duration": 7,
    "start_time": "2021-07-01T17:24:26.618Z"
   },
   {
    "duration": 59,
    "start_time": "2021-07-01T17:24:26.628Z"
   },
   {
    "duration": 2031,
    "start_time": "2021-07-01T17:24:26.690Z"
   },
   {
    "duration": 22,
    "start_time": "2021-07-01T17:24:28.723Z"
   },
   {
    "duration": 533,
    "start_time": "2021-07-01T17:24:28.748Z"
   },
   {
    "duration": 563,
    "start_time": "2021-07-01T17:24:28.720Z"
   },
   {
    "duration": 3,
    "start_time": "2021-07-01T17:24:59.697Z"
   },
   {
    "duration": 35,
    "start_time": "2021-07-01T17:26:22.471Z"
   },
   {
    "duration": 51,
    "start_time": "2021-07-01T17:29:13.036Z"
   },
   {
    "duration": 44,
    "start_time": "2021-07-01T17:29:35.911Z"
   },
   {
    "duration": 37,
    "start_time": "2021-07-01T17:29:42.319Z"
   },
   {
    "duration": 5,
    "start_time": "2021-07-01T17:29:52.111Z"
   },
   {
    "duration": 30,
    "start_time": "2021-07-01T17:30:02.749Z"
   },
   {
    "duration": 1528,
    "start_time": "2021-07-01T17:31:23.333Z"
   },
   {
    "duration": 36,
    "start_time": "2021-07-01T17:31:24.864Z"
   },
   {
    "duration": 31,
    "start_time": "2021-07-01T17:31:24.903Z"
   },
   {
    "duration": 98,
    "start_time": "2021-07-01T17:31:24.937Z"
   },
   {
    "duration": 9,
    "start_time": "2021-07-01T17:31:25.038Z"
   },
   {
    "duration": 9,
    "start_time": "2021-07-01T17:31:25.050Z"
   },
   {
    "duration": 30,
    "start_time": "2021-07-01T17:31:25.062Z"
   },
   {
    "duration": 17,
    "start_time": "2021-07-01T17:31:25.095Z"
   },
   {
    "duration": 14,
    "start_time": "2021-07-01T17:31:25.116Z"
   },
   {
    "duration": 17,
    "start_time": "2021-07-01T17:31:25.133Z"
   },
   {
    "duration": 60,
    "start_time": "2021-07-01T17:31:25.153Z"
   },
   {
    "duration": 7,
    "start_time": "2021-07-01T17:31:25.217Z"
   },
   {
    "duration": 30,
    "start_time": "2021-07-01T17:31:25.227Z"
   },
   {
    "duration": 632,
    "start_time": "2021-07-01T17:31:25.287Z"
   },
   {
    "duration": 465,
    "start_time": "2021-07-01T17:31:25.922Z"
   },
   {
    "duration": 550,
    "start_time": "2021-07-01T17:31:25.840Z"
   },
   {
    "duration": 549,
    "start_time": "2021-07-01T17:31:25.842Z"
   },
   {
    "duration": 2193,
    "start_time": "2021-07-01T17:32:18.182Z"
   },
   {
    "duration": 39,
    "start_time": "2021-07-01T17:32:20.378Z"
   },
   {
    "duration": 37,
    "start_time": "2021-07-01T17:32:20.421Z"
   },
   {
    "duration": 104,
    "start_time": "2021-07-01T17:32:20.461Z"
   },
   {
    "duration": 7,
    "start_time": "2021-07-01T17:32:23.073Z"
   },
   {
    "duration": 20,
    "start_time": "2021-07-01T17:32:23.740Z"
   },
   {
    "duration": 9,
    "start_time": "2021-07-01T17:32:33.230Z"
   },
   {
    "duration": 16,
    "start_time": "2021-07-01T17:32:38.142Z"
   },
   {
    "duration": 9,
    "start_time": "2021-07-01T17:32:38.817Z"
   },
   {
    "duration": 10,
    "start_time": "2021-07-01T17:32:46.166Z"
   },
   {
    "duration": 33,
    "start_time": "2021-07-01T17:32:47.100Z"
   },
   {
    "duration": 34,
    "start_time": "2021-07-01T17:33:04.682Z"
   },
   {
    "duration": 21,
    "start_time": "2021-07-01T17:34:02.384Z"
   },
   {
    "duration": 48,
    "start_time": "2021-07-01T17:34:03.490Z"
   },
   {
    "duration": 8,
    "start_time": "2021-07-01T17:34:18.804Z"
   },
   {
    "duration": 22,
    "start_time": "2021-07-01T17:34:19.360Z"
   },
   {
    "duration": 16,
    "start_time": "2021-07-01T17:34:22.930Z"
   },
   {
    "duration": 1911,
    "start_time": "2021-07-01T17:34:59.829Z"
   },
   {
    "duration": 40,
    "start_time": "2021-07-01T17:35:01.742Z"
   },
   {
    "duration": 46,
    "start_time": "2021-07-01T17:35:02.689Z"
   },
   {
    "duration": 100,
    "start_time": "2021-07-01T17:35:03.287Z"
   },
   {
    "duration": 9,
    "start_time": "2021-07-01T17:35:04.856Z"
   },
   {
    "duration": 7,
    "start_time": "2021-07-01T17:35:07.228Z"
   },
   {
    "duration": 45,
    "start_time": "2021-07-01T17:35:08.026Z"
   },
   {
    "duration": 9,
    "start_time": "2021-07-01T17:35:18.904Z"
   },
   {
    "duration": 19,
    "start_time": "2021-07-01T17:35:19.438Z"
   },
   {
    "duration": 10,
    "start_time": "2021-07-01T17:35:19.964Z"
   },
   {
    "duration": 10,
    "start_time": "2021-07-01T17:35:22.311Z"
   },
   {
    "duration": 35,
    "start_time": "2021-07-01T17:35:22.752Z"
   },
   {
    "duration": 8,
    "start_time": "2021-07-01T17:35:23.181Z"
   },
   {
    "duration": 35,
    "start_time": "2021-07-01T17:35:24.647Z"
   },
   {
    "duration": 2076,
    "start_time": "2021-07-01T17:35:30.223Z"
   },
   {
    "duration": 24,
    "start_time": "2021-07-01T17:35:35.726Z"
   },
   {
    "duration": 3,
    "start_time": "2021-07-01T17:35:38.303Z"
   },
   {
    "duration": 43,
    "start_time": "2021-07-01T17:35:40.851Z"
   },
   {
    "duration": 9,
    "start_time": "2021-07-01T17:37:24.722Z"
   },
   {
    "duration": 31,
    "start_time": "2021-07-01T17:38:59.777Z"
   },
   {
    "duration": 31,
    "start_time": "2021-07-01T17:39:00.702Z"
   },
   {
    "duration": 18,
    "start_time": "2021-07-01T17:51:00.049Z"
   },
   {
    "duration": 528,
    "start_time": "2021-07-01T19:22:49.391Z"
   },
   {
    "duration": 49,
    "start_time": "2021-07-01T19:23:18.820Z"
   },
   {
    "duration": 355,
    "start_time": "2021-07-01T19:23:26.038Z"
   },
   {
    "duration": 325,
    "start_time": "2021-07-01T19:23:56.625Z"
   },
   {
    "duration": 1790,
    "start_time": "2021-07-01T19:25:53.684Z"
   },
   {
    "duration": 38,
    "start_time": "2021-07-01T19:25:55.477Z"
   },
   {
    "duration": 32,
    "start_time": "2021-07-01T19:25:55.518Z"
   },
   {
    "duration": 61,
    "start_time": "2021-07-01T19:25:56.715Z"
   },
   {
    "duration": 6,
    "start_time": "2021-07-01T19:25:58.326Z"
   },
   {
    "duration": 108,
    "start_time": "2021-07-01T19:26:02.707Z"
   },
   {
    "duration": 12,
    "start_time": "2021-07-01T19:26:03.107Z"
   },
   {
    "duration": 474,
    "start_time": "2021-07-01T19:26:26.342Z"
   },
   {
    "duration": 308,
    "start_time": "2021-07-01T19:26:43.439Z"
   },
   {
    "duration": 6,
    "start_time": "2021-07-01T19:26:55.039Z"
   },
   {
    "duration": 9,
    "start_time": "2021-07-01T19:26:55.936Z"
   },
   {
    "duration": 14,
    "start_time": "2021-07-01T19:27:03.602Z"
   },
   {
    "duration": 15,
    "start_time": "2021-07-01T19:27:04.212Z"
   },
   {
    "duration": 12,
    "start_time": "2021-07-01T19:27:06.843Z"
   },
   {
    "duration": 12,
    "start_time": "2021-07-01T19:27:07.195Z"
   },
   {
    "duration": 39,
    "start_time": "2021-07-01T19:27:07.753Z"
   },
   {
    "duration": 8,
    "start_time": "2021-07-01T19:27:12.664Z"
   },
   {
    "duration": 46,
    "start_time": "2021-07-01T19:27:14.560Z"
   },
   {
    "duration": 1847,
    "start_time": "2021-07-01T19:27:16.260Z"
   },
   {
    "duration": 22,
    "start_time": "2021-07-01T19:27:27.011Z"
   },
   {
    "duration": 28,
    "start_time": "2021-07-01T19:27:30.727Z"
   },
   {
    "duration": 220,
    "start_time": "2021-07-01T19:27:33.887Z"
   },
   {
    "duration": 28444,
    "start_time": "2021-07-01T19:27:43.820Z"
   },
   {
    "duration": 38,
    "start_time": "2021-07-01T19:28:33.915Z"
   },
   {
    "duration": 484,
    "start_time": "2021-07-01T19:35:38.055Z"
   },
   {
    "duration": 5,
    "start_time": "2021-07-01T19:37:58.045Z"
   },
   {
    "duration": 365,
    "start_time": "2021-07-01T19:38:05.103Z"
   },
   {
    "duration": 409,
    "start_time": "2021-07-01T19:41:56.384Z"
   },
   {
    "duration": 372,
    "start_time": "2021-07-01T19:42:20.583Z"
   },
   {
    "duration": 39491,
    "start_time": "2021-07-01T19:54:01.594Z"
   },
   {
    "duration": 38,
    "start_time": "2021-07-01T19:54:48.965Z"
   },
   {
    "duration": 29,
    "start_time": "2021-07-01T20:06:35.801Z"
   },
   {
    "duration": 330,
    "start_time": "2021-07-01T20:07:00.656Z"
   },
   {
    "duration": 323,
    "start_time": "2021-07-01T20:12:03.405Z"
   },
   {
    "duration": 316,
    "start_time": "2021-07-01T20:12:12.534Z"
   },
   {
    "duration": 228,
    "start_time": "2021-07-01T20:17:24.745Z"
   },
   {
    "duration": 222,
    "start_time": "2021-07-01T20:28:28.254Z"
   },
   {
    "duration": 217,
    "start_time": "2021-07-01T20:28:33.739Z"
   },
   {
    "duration": 581,
    "start_time": "2021-07-01T20:38:09.892Z"
   },
   {
    "duration": 389,
    "start_time": "2021-07-01T20:38:19.603Z"
   },
   {
    "duration": 322,
    "start_time": "2021-07-01T20:46:07.024Z"
   },
   {
    "duration": 534,
    "start_time": "2021-07-01T20:46:28.709Z"
   },
   {
    "duration": 221,
    "start_time": "2021-07-01T20:47:18.691Z"
   },
   {
    "duration": 319,
    "start_time": "2021-07-01T20:47:48.028Z"
   },
   {
    "duration": 233,
    "start_time": "2021-07-01T20:48:06.859Z"
   },
   {
    "duration": 9,
    "start_time": "2021-07-01T20:49:43.514Z"
   },
   {
    "duration": 8,
    "start_time": "2021-07-01T20:51:04.330Z"
   },
   {
    "duration": 7,
    "start_time": "2021-07-01T20:51:21.465Z"
   },
   {
    "duration": 2281,
    "start_time": "2021-07-02T15:34:36.955Z"
   },
   {
    "duration": 51,
    "start_time": "2021-07-02T15:34:39.240Z"
   },
   {
    "duration": 48,
    "start_time": "2021-07-02T15:34:39.295Z"
   },
   {
    "duration": 94,
    "start_time": "2021-07-02T15:34:39.346Z"
   },
   {
    "duration": 7,
    "start_time": "2021-07-02T15:34:39.443Z"
   },
   {
    "duration": 12,
    "start_time": "2021-07-02T15:34:46.702Z"
   },
   {
    "duration": 13,
    "start_time": "2021-07-02T15:34:46.851Z"
   },
   {
    "duration": 20,
    "start_time": "2021-07-02T15:34:47.035Z"
   },
   {
    "duration": 15,
    "start_time": "2021-07-02T15:34:49.124Z"
   },
   {
    "duration": 11,
    "start_time": "2021-07-02T15:34:50.230Z"
   },
   {
    "duration": 13,
    "start_time": "2021-07-02T15:34:50.458Z"
   },
   {
    "duration": 34,
    "start_time": "2021-07-02T15:34:52.273Z"
   },
   {
    "duration": 7,
    "start_time": "2021-07-02T15:34:52.663Z"
   },
   {
    "duration": 32,
    "start_time": "2021-07-02T15:34:55.138Z"
   },
   {
    "duration": 2498,
    "start_time": "2021-07-02T15:34:56.509Z"
   },
   {
    "duration": 22,
    "start_time": "2021-07-02T15:35:08.830Z"
   },
   {
    "duration": 28,
    "start_time": "2021-07-02T15:35:12.220Z"
   },
   {
    "duration": 19,
    "start_time": "2021-07-02T15:35:34.214Z"
   },
   {
    "duration": 30293,
    "start_time": "2021-07-02T15:35:46.467Z"
   },
   {
    "duration": 31874,
    "start_time": "2021-07-02T15:42:38.779Z"
   },
   {
    "duration": 92,
    "start_time": "2021-07-02T15:44:31.201Z"
   },
   {
    "duration": 290,
    "start_time": "2021-07-02T15:45:52.056Z"
   },
   {
    "duration": 5,
    "start_time": "2021-07-02T15:59:57.591Z"
   },
   {
    "duration": 41,
    "start_time": "2021-07-02T16:07:57.025Z"
   },
   {
    "duration": 95,
    "start_time": "2021-07-02T16:08:30.792Z"
   },
   {
    "duration": 13,
    "start_time": "2021-07-02T16:09:08.457Z"
   },
   {
    "duration": 92,
    "start_time": "2021-07-02T16:09:31.995Z"
   },
   {
    "duration": 115,
    "start_time": "2021-07-02T16:10:37.671Z"
   },
   {
    "duration": 109,
    "start_time": "2021-07-02T16:11:25.017Z"
   },
   {
    "duration": 96,
    "start_time": "2021-07-02T16:11:37.158Z"
   },
   {
    "duration": 104,
    "start_time": "2021-07-02T16:11:46.924Z"
   },
   {
    "duration": 100,
    "start_time": "2021-07-02T16:11:49.737Z"
   },
   {
    "duration": 52,
    "start_time": "2021-07-02T16:12:22.748Z"
   },
   {
    "duration": 12,
    "start_time": "2021-07-02T16:16:35.267Z"
   },
   {
    "duration": 14,
    "start_time": "2021-07-02T16:17:50.479Z"
   },
   {
    "duration": 9,
    "start_time": "2021-07-02T16:19:00.169Z"
   },
   {
    "duration": 478,
    "start_time": "2021-07-02T16:20:33.355Z"
   },
   {
    "duration": 5,
    "start_time": "2021-07-02T16:20:57.750Z"
   },
   {
    "duration": 327,
    "start_time": "2021-07-02T16:21:02.748Z"
   },
   {
    "duration": 8,
    "start_time": "2021-07-02T16:21:59.197Z"
   },
   {
    "duration": 10,
    "start_time": "2021-07-02T16:22:26.431Z"
   },
   {
    "duration": 14,
    "start_time": "2021-07-02T16:23:59.090Z"
   },
   {
    "duration": 143,
    "start_time": "2021-07-02T16:24:31.534Z"
   },
   {
    "duration": 17,
    "start_time": "2021-07-02T16:24:37.265Z"
   },
   {
    "duration": 45,
    "start_time": "2021-07-02T16:26:13.441Z"
   },
   {
    "duration": 14,
    "start_time": "2021-07-02T16:32:53.184Z"
   },
   {
    "duration": 15,
    "start_time": "2021-07-02T16:33:08.678Z"
   },
   {
    "duration": 18,
    "start_time": "2021-07-02T16:33:13.258Z"
   },
   {
    "duration": 15,
    "start_time": "2021-07-02T16:33:20.088Z"
   },
   {
    "duration": 49,
    "start_time": "2021-07-02T16:34:55.338Z"
   },
   {
    "duration": 15,
    "start_time": "2021-07-02T16:36:38.260Z"
   },
   {
    "duration": 36,
    "start_time": "2021-07-02T18:27:28.808Z"
   },
   {
    "duration": 36,
    "start_time": "2021-07-02T18:27:43.303Z"
   },
   {
    "duration": 70,
    "start_time": "2021-07-02T18:27:47.679Z"
   },
   {
    "duration": 51,
    "start_time": "2021-07-02T18:29:00.811Z"
   },
   {
    "duration": 67,
    "start_time": "2021-07-02T18:29:56.102Z"
   },
   {
    "duration": 1525,
    "start_time": "2021-07-02T19:13:49.301Z"
   },
   {
    "duration": 38,
    "start_time": "2021-07-02T19:13:50.829Z"
   },
   {
    "duration": 35,
    "start_time": "2021-07-02T19:13:50.870Z"
   },
   {
    "duration": 79,
    "start_time": "2021-07-02T19:13:50.908Z"
   },
   {
    "duration": 6,
    "start_time": "2021-07-02T19:13:50.990Z"
   },
   {
    "duration": 6,
    "start_time": "2021-07-02T19:13:50.999Z"
   },
   {
    "duration": 28,
    "start_time": "2021-07-02T19:13:51.008Z"
   },
   {
    "duration": 18,
    "start_time": "2021-07-02T19:13:51.040Z"
   },
   {
    "duration": 35,
    "start_time": "2021-07-02T19:13:51.061Z"
   },
   {
    "duration": 447,
    "start_time": "2021-07-02T19:13:51.098Z"
   },
   {
    "duration": -566,
    "start_time": "2021-07-02T19:13:52.114Z"
   },
   {
    "duration": -567,
    "start_time": "2021-07-02T19:13:52.117Z"
   },
   {
    "duration": -573,
    "start_time": "2021-07-02T19:13:52.124Z"
   },
   {
    "duration": -573,
    "start_time": "2021-07-02T19:13:52.126Z"
   },
   {
    "duration": -576,
    "start_time": "2021-07-02T19:13:52.130Z"
   },
   {
    "duration": -578,
    "start_time": "2021-07-02T19:13:52.133Z"
   },
   {
    "duration": -579,
    "start_time": "2021-07-02T19:13:52.135Z"
   },
   {
    "duration": -579,
    "start_time": "2021-07-02T19:13:52.137Z"
   },
   {
    "duration": -579,
    "start_time": "2021-07-02T19:13:52.139Z"
   },
   {
    "duration": -581,
    "start_time": "2021-07-02T19:13:52.142Z"
   },
   {
    "duration": -584,
    "start_time": "2021-07-02T19:13:52.147Z"
   },
   {
    "duration": -585,
    "start_time": "2021-07-02T19:13:52.149Z"
   },
   {
    "duration": -591,
    "start_time": "2021-07-02T19:13:52.157Z"
   },
   {
    "duration": -595,
    "start_time": "2021-07-02T19:13:52.162Z"
   },
   {
    "duration": -595,
    "start_time": "2021-07-02T19:13:52.164Z"
   },
   {
    "duration": -597,
    "start_time": "2021-07-02T19:13:52.167Z"
   },
   {
    "duration": -598,
    "start_time": "2021-07-02T19:13:52.170Z"
   },
   {
    "duration": -600,
    "start_time": "2021-07-02T19:13:52.173Z"
   },
   {
    "duration": -601,
    "start_time": "2021-07-02T19:13:52.176Z"
   },
   {
    "duration": 21,
    "start_time": "2021-07-02T19:14:03.650Z"
   },
   {
    "duration": 1116,
    "start_time": "2021-07-02T19:14:09.838Z"
   },
   {
    "duration": 1699,
    "start_time": "2021-07-02T19:15:03.150Z"
   },
   {
    "duration": 39,
    "start_time": "2021-07-02T19:15:04.853Z"
   },
   {
    "duration": 33,
    "start_time": "2021-07-02T19:15:04.895Z"
   },
   {
    "duration": 96,
    "start_time": "2021-07-02T19:15:04.932Z"
   },
   {
    "duration": 9,
    "start_time": "2021-07-02T19:15:05.031Z"
   },
   {
    "duration": 10,
    "start_time": "2021-07-02T19:15:05.043Z"
   },
   {
    "duration": 41,
    "start_time": "2021-07-02T19:15:05.056Z"
   },
   {
    "duration": 22,
    "start_time": "2021-07-02T19:15:05.100Z"
   },
   {
    "duration": 17,
    "start_time": "2021-07-02T19:15:05.128Z"
   },
   {
    "duration": 49,
    "start_time": "2021-07-02T19:15:05.149Z"
   },
   {
    "duration": 1044,
    "start_time": "2021-07-02T19:15:05.201Z"
   },
   {
    "duration": 10,
    "start_time": "2021-07-02T19:15:06.248Z"
   },
   {
    "duration": 31,
    "start_time": "2021-07-02T19:15:06.260Z"
   },
   {
    "duration": 32,
    "start_time": "2021-07-02T19:15:06.294Z"
   },
   {
    "duration": 6,
    "start_time": "2021-07-02T19:15:06.329Z"
   },
   {
    "duration": 52,
    "start_time": "2021-07-02T19:15:06.337Z"
   },
   {
    "duration": 28,
    "start_time": "2021-07-02T19:15:06.392Z"
   },
   {
    "duration": 18,
    "start_time": "2021-07-02T19:15:06.423Z"
   },
   {
    "duration": 28372,
    "start_time": "2021-07-02T19:15:06.443Z"
   },
   {
    "duration": 77,
    "start_time": "2021-07-02T19:15:34.818Z"
   },
   {
    "duration": 261,
    "start_time": "2021-07-02T19:15:34.987Z"
   },
   {
    "duration": 452,
    "start_time": "2021-07-02T19:15:35.250Z"
   },
   {
    "duration": -567,
    "start_time": "2021-07-02T19:15:36.272Z"
   },
   {
    "duration": -569,
    "start_time": "2021-07-02T19:15:36.275Z"
   },
   {
    "duration": -574,
    "start_time": "2021-07-02T19:15:36.282Z"
   },
   {
    "duration": -575,
    "start_time": "2021-07-02T19:15:36.284Z"
   },
   {
    "duration": -576,
    "start_time": "2021-07-02T19:15:36.286Z"
   },
   {
    "duration": -577,
    "start_time": "2021-07-02T19:15:36.288Z"
   },
   {
    "duration": -578,
    "start_time": "2021-07-02T19:15:36.291Z"
   },
   {
    "duration": 1605,
    "start_time": "2021-07-04T08:35:15.116Z"
   },
   {
    "duration": 34,
    "start_time": "2021-07-04T08:35:16.724Z"
   },
   {
    "duration": 32,
    "start_time": "2021-07-04T08:35:16.761Z"
   },
   {
    "duration": 88,
    "start_time": "2021-07-04T08:35:16.796Z"
   },
   {
    "duration": 7,
    "start_time": "2021-07-04T08:35:16.887Z"
   },
   {
    "duration": 5,
    "start_time": "2021-07-04T08:35:16.897Z"
   },
   {
    "duration": 10,
    "start_time": "2021-07-04T08:35:16.905Z"
   },
   {
    "duration": 53,
    "start_time": "2021-07-04T08:35:16.918Z"
   },
   {
    "duration": 14,
    "start_time": "2021-07-04T08:35:16.974Z"
   },
   {
    "duration": 22,
    "start_time": "2021-07-04T08:35:16.990Z"
   },
   {
    "duration": 1068,
    "start_time": "2021-07-04T08:35:17.014Z"
   },
   {
    "duration": 9,
    "start_time": "2021-07-04T08:35:18.084Z"
   },
   {
    "duration": 9,
    "start_time": "2021-07-04T08:35:18.096Z"
   },
   {
    "duration": 70,
    "start_time": "2021-07-04T08:35:18.107Z"
   },
   {
    "duration": 19,
    "start_time": "2021-07-04T08:35:18.181Z"
   },
   {
    "duration": 20,
    "start_time": "2021-07-04T08:35:18.202Z"
   },
   {
    "duration": 51,
    "start_time": "2021-07-04T08:35:18.225Z"
   },
   {
    "duration": 19,
    "start_time": "2021-07-04T08:35:18.278Z"
   },
   {
    "duration": 29759,
    "start_time": "2021-07-04T08:35:18.299Z"
   },
   {
    "duration": 101,
    "start_time": "2021-07-04T08:35:48.062Z"
   },
   {
    "duration": 337,
    "start_time": "2021-07-04T08:35:48.166Z"
   },
   {
    "duration": 12,
    "start_time": "2021-07-04T08:35:48.506Z"
   },
   {
    "duration": 15,
    "start_time": "2021-07-04T08:35:48.523Z"
   },
   {
    "duration": 106,
    "start_time": "2021-07-04T08:35:48.563Z"
   },
   {
    "duration": 15,
    "start_time": "2021-07-04T08:35:48.762Z"
   },
   {
    "duration": 89,
    "start_time": "2021-07-04T08:35:48.779Z"
   },
   {
    "duration": 119,
    "start_time": "2021-07-04T08:35:48.871Z"
   },
   {
    "duration": 224,
    "start_time": "2021-07-04T08:35:48.993Z"
   },
   {
    "duration": 7,
    "start_time": "2021-07-04T08:38:07.383Z"
   },
   {
    "duration": 14486,
    "start_time": "2021-07-04T08:38:43.478Z"
   },
   {
    "duration": 14488,
    "start_time": "2021-07-04T08:41:51.074Z"
   },
   {
    "duration": 6,
    "start_time": "2021-07-04T08:42:35.135Z"
   },
   {
    "duration": 14494,
    "start_time": "2021-07-04T08:44:06.619Z"
   },
   {
    "duration": 14490,
    "start_time": "2021-07-04T08:44:32.889Z"
   },
   {
    "duration": 6,
    "start_time": "2021-07-04T08:44:53.891Z"
   },
   {
    "duration": 330,
    "start_time": "2021-07-04T08:46:58.606Z"
   },
   {
    "duration": 332,
    "start_time": "2021-07-04T08:47:07.994Z"
   },
   {
    "duration": 335,
    "start_time": "2021-07-04T08:49:16.371Z"
   },
   {
    "duration": 477,
    "start_time": "2021-07-04T08:49:50.320Z"
   },
   {
    "duration": 167,
    "start_time": "2021-07-04T08:50:43.426Z"
   },
   {
    "duration": 217,
    "start_time": "2021-07-04T08:51:34.386Z"
   },
   {
    "duration": 548,
    "start_time": "2021-07-04T08:52:21.607Z"
   },
   {
    "duration": 832,
    "start_time": "2021-07-04T09:07:15.647Z"
   },
   {
    "duration": 538,
    "start_time": "2021-07-04T09:08:39.800Z"
   },
   {
    "duration": 281,
    "start_time": "2021-07-04T09:08:46.183Z"
   },
   {
    "duration": 4559,
    "start_time": "2021-07-04T09:09:15.422Z"
   },
   {
    "duration": 552,
    "start_time": "2021-07-04T09:09:23.038Z"
   },
   {
    "duration": 1239,
    "start_time": "2021-07-04T09:09:40.330Z"
   },
   {
    "duration": 822,
    "start_time": "2021-07-04T09:09:53.833Z"
   },
   {
    "duration": 720,
    "start_time": "2021-07-04T09:10:25.791Z"
   },
   {
    "duration": 7,
    "start_time": "2021-07-04T09:11:03.907Z"
   },
   {
    "duration": 460,
    "start_time": "2021-07-04T09:11:11.844Z"
   },
   {
    "duration": 1302,
    "start_time": "2021-07-04T09:11:37.460Z"
   },
   {
    "duration": 785,
    "start_time": "2021-07-04T09:12:25.994Z"
   },
   {
    "duration": 549,
    "start_time": "2021-07-04T09:13:19.893Z"
   },
   {
    "duration": 529,
    "start_time": "2021-07-04T09:13:39.092Z"
   },
   {
    "duration": 403,
    "start_time": "2021-07-04T09:18:59.375Z"
   },
   {
    "duration": 388,
    "start_time": "2021-07-04T09:19:36.911Z"
   },
   {
    "duration": 878,
    "start_time": "2021-07-04T09:20:33.497Z"
   },
   {
    "duration": 262,
    "start_time": "2021-07-04T09:20:36.703Z"
   },
   {
    "duration": 9,
    "start_time": "2021-07-04T09:30:59.358Z"
   },
   {
    "duration": 882,
    "start_time": "2021-07-04T09:35:14.580Z"
   },
   {
    "duration": 771,
    "start_time": "2021-07-04T09:36:10.095Z"
   },
   {
    "duration": 411,
    "start_time": "2021-07-04T09:37:38.807Z"
   },
   {
    "duration": 247,
    "start_time": "2021-07-04T09:45:23.015Z"
   },
   {
    "duration": 310,
    "start_time": "2021-07-04T09:45:39.757Z"
   },
   {
    "duration": 355,
    "start_time": "2021-07-04T09:45:46.185Z"
   },
   {
    "duration": 291,
    "start_time": "2021-07-04T09:45:57.358Z"
   },
   {
    "duration": 247,
    "start_time": "2021-07-04T09:46:06.467Z"
   },
   {
    "duration": 235,
    "start_time": "2021-07-04T09:46:11.931Z"
   },
   {
    "duration": 15,
    "start_time": "2021-07-04T09:59:10.413Z"
   },
   {
    "duration": 15,
    "start_time": "2021-07-04T09:59:15.857Z"
   },
   {
    "duration": 16,
    "start_time": "2021-07-04T09:59:20.702Z"
   },
   {
    "duration": 16,
    "start_time": "2021-07-04T09:59:30.372Z"
   },
   {
    "duration": 156,
    "start_time": "2021-07-04T09:59:43.134Z"
   },
   {
    "duration": 222,
    "start_time": "2021-07-04T09:59:45.241Z"
   },
   {
    "duration": 15,
    "start_time": "2021-07-04T09:59:52.556Z"
   },
   {
    "duration": 271,
    "start_time": "2021-07-04T09:59:53.065Z"
   },
   {
    "duration": 103,
    "start_time": "2021-07-04T09:59:55.559Z"
   },
   {
    "duration": 1050,
    "start_time": "2021-07-04T10:10:06.752Z"
   },
   {
    "duration": 404,
    "start_time": "2021-07-04T10:11:00.243Z"
   },
   {
    "duration": 606,
    "start_time": "2021-07-04T10:11:48.745Z"
   },
   {
    "duration": 270,
    "start_time": "2021-07-04T10:11:54.826Z"
   },
   {
    "duration": 10,
    "start_time": "2021-07-04T10:26:36.759Z"
   },
   {
    "duration": 10,
    "start_time": "2021-07-04T10:26:44.981Z"
   },
   {
    "duration": 9,
    "start_time": "2021-07-04T10:27:13.907Z"
   },
   {
    "duration": 18,
    "start_time": "2021-07-04T10:27:33.227Z"
   },
   {
    "duration": 568,
    "start_time": "2021-07-04T10:29:09.822Z"
   },
   {
    "duration": 681,
    "start_time": "2021-07-04T10:29:32.329Z"
   },
   {
    "duration": 1240,
    "start_time": "2021-07-04T10:30:05.034Z"
   },
   {
    "duration": 19,
    "start_time": "2021-07-04T10:31:27.105Z"
   },
   {
    "duration": 22,
    "start_time": "2021-07-04T10:32:17.458Z"
   },
   {
    "duration": 622,
    "start_time": "2021-07-04T10:33:33.631Z"
   },
   {
    "duration": 627,
    "start_time": "2021-07-04T10:34:24.171Z"
   },
   {
    "duration": 268,
    "start_time": "2021-07-04T10:34:39.627Z"
   },
   {
    "duration": 1430,
    "start_time": "2021-07-04T10:35:32.837Z"
   },
   {
    "duration": 420,
    "start_time": "2021-07-04T10:36:37.761Z"
   },
   {
    "duration": 1538,
    "start_time": "2021-07-04T10:36:50.358Z"
   },
   {
    "duration": 32,
    "start_time": "2021-07-04T10:36:51.899Z"
   },
   {
    "duration": 44,
    "start_time": "2021-07-04T10:36:51.934Z"
   },
   {
    "duration": 80,
    "start_time": "2021-07-04T10:36:51.981Z"
   },
   {
    "duration": 7,
    "start_time": "2021-07-04T10:36:52.064Z"
   },
   {
    "duration": 8,
    "start_time": "2021-07-04T10:36:52.073Z"
   },
   {
    "duration": 12,
    "start_time": "2021-07-04T10:36:52.084Z"
   },
   {
    "duration": 13,
    "start_time": "2021-07-04T10:36:52.100Z"
   },
   {
    "duration": 55,
    "start_time": "2021-07-04T10:36:52.116Z"
   },
   {
    "duration": 34,
    "start_time": "2021-07-04T10:36:52.176Z"
   },
   {
    "duration": 1590,
    "start_time": "2021-07-04T10:36:52.213Z"
   },
   {
    "duration": 12,
    "start_time": "2021-07-04T10:36:53.807Z"
   },
   {
    "duration": 39,
    "start_time": "2021-07-04T10:36:53.823Z"
   },
   {
    "duration": 29,
    "start_time": "2021-07-04T10:36:53.865Z"
   },
   {
    "duration": 7,
    "start_time": "2021-07-04T10:36:53.896Z"
   },
   {
    "duration": 56,
    "start_time": "2021-07-04T10:36:53.906Z"
   },
   {
    "duration": 29,
    "start_time": "2021-07-04T10:36:53.965Z"
   },
   {
    "duration": 20,
    "start_time": "2021-07-04T10:36:53.996Z"
   },
   {
    "duration": 14621,
    "start_time": "2021-07-04T10:36:54.018Z"
   },
   {
    "duration": 19,
    "start_time": "2021-07-04T10:37:08.642Z"
   },
   {
    "duration": 103,
    "start_time": "2021-07-04T10:37:08.664Z"
   },
   {
    "duration": 363,
    "start_time": "2021-07-04T10:37:08.771Z"
   },
   {
    "duration": 26,
    "start_time": "2021-07-04T10:37:09.139Z"
   },
   {
    "duration": 15,
    "start_time": "2021-07-04T10:37:09.168Z"
   },
   {
    "duration": 515,
    "start_time": "2021-07-04T10:37:09.186Z"
   },
   {
    "duration": 67,
    "start_time": "2021-07-04T10:37:09.705Z"
   },
   {
    "duration": 98,
    "start_time": "2021-07-04T10:37:09.775Z"
   },
   {
    "duration": 241,
    "start_time": "2021-07-04T10:37:09.876Z"
   },
   {
    "duration": 46,
    "start_time": "2021-07-04T10:37:10.119Z"
   },
   {
    "duration": 833,
    "start_time": "2021-07-04T10:37:10.167Z"
   },
   {
    "duration": 652,
    "start_time": "2021-07-04T10:37:11.002Z"
   },
   {
    "duration": 13,
    "start_time": "2021-07-04T10:37:11.657Z"
   },
   {
    "duration": 23,
    "start_time": "2021-07-04T10:37:11.673Z"
   },
   {
    "duration": 1158,
    "start_time": "2021-07-04T10:37:11.699Z"
   },
   {
    "duration": 21,
    "start_time": "2021-07-04T10:37:12.839Z"
   },
   {
    "duration": 19,
    "start_time": "2021-07-04T10:37:12.844Z"
   },
   {
    "duration": 19,
    "start_time": "2021-07-04T10:37:12.846Z"
   },
   {
    "duration": 830,
    "start_time": "2021-07-04T10:37:44.055Z"
   },
   {
    "duration": 90,
    "start_time": "2021-07-04T10:38:21.382Z"
   },
   {
    "duration": 408,
    "start_time": "2021-07-04T10:40:37.831Z"
   },
   {
    "duration": 10,
    "start_time": "2021-07-04T10:51:22.435Z"
   },
   {
    "duration": 10,
    "start_time": "2021-07-04T10:52:57.262Z"
   },
   {
    "duration": 12,
    "start_time": "2021-07-04T10:53:10.589Z"
   },
   {
    "duration": 9,
    "start_time": "2021-07-04T10:53:26.312Z"
   },
   {
    "duration": 11,
    "start_time": "2021-07-04T10:53:33.591Z"
   },
   {
    "duration": 14,
    "start_time": "2021-07-04T10:54:50.921Z"
   },
   {
    "duration": 902,
    "start_time": "2021-07-04T10:55:42.047Z"
   },
   {
    "duration": 1242,
    "start_time": "2021-07-04T10:56:02.824Z"
   },
   {
    "duration": 890,
    "start_time": "2021-07-04T10:56:13.568Z"
   },
   {
    "duration": 1494,
    "start_time": "2021-07-04T10:57:27.998Z"
   },
   {
    "duration": 35,
    "start_time": "2021-07-04T10:57:29.495Z"
   },
   {
    "duration": 46,
    "start_time": "2021-07-04T10:57:29.533Z"
   },
   {
    "duration": 83,
    "start_time": "2021-07-04T10:57:29.582Z"
   },
   {
    "duration": 9,
    "start_time": "2021-07-04T10:57:29.668Z"
   },
   {
    "duration": 8,
    "start_time": "2021-07-04T10:57:29.680Z"
   },
   {
    "duration": 13,
    "start_time": "2021-07-04T10:57:29.692Z"
   },
   {
    "duration": 56,
    "start_time": "2021-07-04T10:57:29.711Z"
   },
   {
    "duration": 14,
    "start_time": "2021-07-04T10:57:29.771Z"
   },
   {
    "duration": 20,
    "start_time": "2021-07-04T10:57:29.788Z"
   },
   {
    "duration": 1032,
    "start_time": "2021-07-04T10:57:29.811Z"
   },
   {
    "duration": 22,
    "start_time": "2021-07-04T10:57:30.846Z"
   },
   {
    "duration": 39,
    "start_time": "2021-07-04T10:57:30.871Z"
   },
   {
    "duration": 38,
    "start_time": "2021-07-04T10:57:30.913Z"
   },
   {
    "duration": 9,
    "start_time": "2021-07-04T10:57:30.960Z"
   },
   {
    "duration": 21,
    "start_time": "2021-07-04T10:57:30.972Z"
   },
   {
    "duration": 70,
    "start_time": "2021-07-04T10:57:30.996Z"
   },
   {
    "duration": 25,
    "start_time": "2021-07-04T10:57:31.069Z"
   },
   {
    "duration": 14554,
    "start_time": "2021-07-04T10:57:31.097Z"
   },
   {
    "duration": 12,
    "start_time": "2021-07-04T10:57:45.653Z"
   },
   {
    "duration": 102,
    "start_time": "2021-07-04T10:57:45.667Z"
   },
   {
    "duration": 511,
    "start_time": "2021-07-04T10:57:45.772Z"
   },
   {
    "duration": 19,
    "start_time": "2021-07-04T10:57:46.290Z"
   },
   {
    "duration": 16,
    "start_time": "2021-07-04T10:57:46.312Z"
   },
   {
    "duration": 510,
    "start_time": "2021-07-04T10:57:46.363Z"
   },
   {
    "duration": 92,
    "start_time": "2021-07-04T10:57:46.876Z"
   },
   {
    "duration": 99,
    "start_time": "2021-07-04T10:57:46.970Z"
   },
   {
    "duration": 185,
    "start_time": "2021-07-04T10:57:47.071Z"
   },
   {
    "duration": 205,
    "start_time": "2021-07-04T10:57:47.259Z"
   },
   {
    "duration": 713,
    "start_time": "2021-07-04T10:57:47.467Z"
   },
   {
    "duration": 663,
    "start_time": "2021-07-04T10:57:48.183Z"
   },
   {
    "duration": 17,
    "start_time": "2021-07-04T10:57:48.849Z"
   },
   {
    "duration": 495,
    "start_time": "2021-07-04T10:57:48.869Z"
   },
   {
    "duration": 102,
    "start_time": "2021-07-04T10:57:49.367Z"
   },
   {
    "duration": 94,
    "start_time": "2021-07-04T10:57:49.471Z"
   },
   {
    "duration": 322,
    "start_time": "2021-07-04T10:57:49.568Z"
   },
   {
    "duration": 519,
    "start_time": "2021-07-04T10:57:49.893Z"
   },
   {
    "duration": 414,
    "start_time": "2021-07-04T10:59:43.734Z"
   },
   {
    "duration": 110,
    "start_time": "2021-07-04T11:00:03.251Z"
   },
   {
    "duration": 474,
    "start_time": "2021-07-04T11:01:28.814Z"
   },
   {
    "duration": 329,
    "start_time": "2021-07-04T11:02:06.096Z"
   },
   {
    "duration": 10,
    "start_time": "2021-07-04T11:02:14.772Z"
   },
   {
    "duration": 542,
    "start_time": "2021-07-04T11:02:21.877Z"
   },
   {
    "duration": 1614,
    "start_time": "2021-07-04T11:03:25.786Z"
   },
   {
    "duration": 45,
    "start_time": "2021-07-04T11:03:27.403Z"
   },
   {
    "duration": 37,
    "start_time": "2021-07-04T11:03:27.451Z"
   },
   {
    "duration": 87,
    "start_time": "2021-07-04T11:03:27.491Z"
   },
   {
    "duration": 7,
    "start_time": "2021-07-04T11:03:27.581Z"
   },
   {
    "duration": 7,
    "start_time": "2021-07-04T11:03:27.591Z"
   },
   {
    "duration": 17,
    "start_time": "2021-07-04T11:03:27.601Z"
   },
   {
    "duration": 53,
    "start_time": "2021-07-04T11:03:27.623Z"
   },
   {
    "duration": 14,
    "start_time": "2021-07-04T11:03:27.679Z"
   },
   {
    "duration": 21,
    "start_time": "2021-07-04T11:03:27.696Z"
   },
   {
    "duration": 1053,
    "start_time": "2021-07-04T11:03:27.762Z"
   },
   {
    "duration": 9,
    "start_time": "2021-07-04T11:03:28.817Z"
   },
   {
    "duration": 35,
    "start_time": "2021-07-04T11:03:28.828Z"
   },
   {
    "duration": 34,
    "start_time": "2021-07-04T11:03:28.866Z"
   },
   {
    "duration": 7,
    "start_time": "2021-07-04T11:03:28.903Z"
   },
   {
    "duration": 60,
    "start_time": "2021-07-04T11:03:28.913Z"
   },
   {
    "duration": 30,
    "start_time": "2021-07-04T11:03:28.976Z"
   },
   {
    "duration": 22,
    "start_time": "2021-07-04T11:03:29.008Z"
   },
   {
    "duration": 14923,
    "start_time": "2021-07-04T11:03:29.032Z"
   },
   {
    "duration": 7,
    "start_time": "2021-07-04T11:03:43.961Z"
   },
   {
    "duration": 191,
    "start_time": "2021-07-04T11:03:43.971Z"
   },
   {
    "duration": 279,
    "start_time": "2021-07-04T11:03:44.164Z"
   },
   {
    "duration": 19,
    "start_time": "2021-07-04T11:03:44.447Z"
   },
   {
    "duration": 15,
    "start_time": "2021-07-04T11:03:44.469Z"
   },
   {
    "duration": 519,
    "start_time": "2021-07-04T11:03:44.487Z"
   },
   {
    "duration": 254,
    "start_time": "2021-07-04T11:03:45.009Z"
   },
   {
    "duration": 28,
    "start_time": "2021-07-04T11:03:45.265Z"
   },
   {
    "duration": 192,
    "start_time": "2021-07-04T11:03:45.296Z"
   },
   {
    "duration": 170,
    "start_time": "2021-07-04T11:03:45.492Z"
   },
   {
    "duration": 810,
    "start_time": "2021-07-04T11:03:45.666Z"
   },
   {
    "duration": 641,
    "start_time": "2021-07-04T11:03:46.479Z"
   },
   {
    "duration": 4,
    "start_time": "2021-07-04T11:03:47.122Z"
   },
   {
    "duration": 14,
    "start_time": "2021-07-04T11:03:47.128Z"
   },
   {
    "duration": 18,
    "start_time": "2021-07-04T11:03:47.145Z"
   },
   {
    "duration": 15,
    "start_time": "2021-07-04T11:03:47.166Z"
   },
   {
    "duration": 510,
    "start_time": "2021-07-04T11:03:47.184Z"
   },
   {
    "duration": 20132,
    "start_time": "2021-07-04T11:05:32.865Z"
   },
   {
    "duration": 99,
    "start_time": "2021-07-04T11:06:53.266Z"
   },
   {
    "duration": 494,
    "start_time": "2021-07-04T11:08:10.698Z"
   },
   {
    "duration": 47380,
    "start_time": "2021-07-04T11:11:25.107Z"
   },
   {
    "duration": 6,
    "start_time": "2021-07-04T11:12:39.084Z"
   },
   {
    "duration": 6,
    "start_time": "2021-07-04T11:13:02.782Z"
   },
   {
    "duration": 20685,
    "start_time": "2021-07-04T11:15:01.142Z"
   },
   {
    "duration": 13,
    "start_time": "2021-07-04T11:16:26.660Z"
   },
   {
    "duration": 16,
    "start_time": "2021-07-04T11:16:27.679Z"
   },
   {
    "duration": 658,
    "start_time": "2021-07-04T11:16:29.912Z"
   },
   {
    "duration": 1258,
    "start_time": "2021-07-04T11:16:31.692Z"
   },
   {
    "duration": 732,
    "start_time": "2021-07-04T11:16:50.868Z"
   },
   {
    "duration": 516987,
    "start_time": "2021-07-04T11:18:17.981Z"
   },
   {
    "duration": 6,
    "start_time": "2021-07-04T11:37:27.575Z"
   },
   {
    "duration": 2363,
    "start_time": "2021-07-04T11:41:07.629Z"
   },
   {
    "duration": 89,
    "start_time": "2021-07-04T11:41:09.995Z"
   },
   {
    "duration": 102,
    "start_time": "2021-07-04T11:41:10.088Z"
   },
   {
    "duration": 211,
    "start_time": "2021-07-04T11:41:10.195Z"
   },
   {
    "duration": 9,
    "start_time": "2021-07-04T11:41:10.409Z"
   },
   {
    "duration": 6,
    "start_time": "2021-07-04T11:41:10.462Z"
   },
   {
    "duration": 13,
    "start_time": "2021-07-04T11:41:10.471Z"
   },
   {
    "duration": 22,
    "start_time": "2021-07-04T11:41:10.487Z"
   },
   {
    "duration": 57,
    "start_time": "2021-07-04T11:41:10.514Z"
   },
   {
    "duration": 25,
    "start_time": "2021-07-04T11:41:10.575Z"
   },
   {
    "duration": 1455,
    "start_time": "2021-07-04T11:41:10.603Z"
   },
   {
    "duration": 12,
    "start_time": "2021-07-04T11:41:12.063Z"
   },
   {
    "duration": 21,
    "start_time": "2021-07-04T11:41:12.078Z"
   },
   {
    "duration": 62,
    "start_time": "2021-07-04T11:41:12.102Z"
   },
   {
    "duration": 6,
    "start_time": "2021-07-04T11:41:12.166Z"
   },
   {
    "duration": 22,
    "start_time": "2021-07-04T11:41:12.174Z"
   },
   {
    "duration": 28,
    "start_time": "2021-07-04T11:41:12.198Z"
   },
   {
    "duration": 52,
    "start_time": "2021-07-04T11:41:12.228Z"
   },
   {
    "duration": 577,
    "start_time": "2021-07-04T11:41:12.284Z"
   },
   {
    "duration": -55,
    "start_time": "2021-07-04T11:41:12.920Z"
   },
   {
    "duration": -57,
    "start_time": "2021-07-04T11:41:12.923Z"
   },
   {
    "duration": -58,
    "start_time": "2021-07-04T11:41:12.925Z"
   },
   {
    "duration": -58,
    "start_time": "2021-07-04T11:41:12.927Z"
   },
   {
    "duration": -60,
    "start_time": "2021-07-04T11:41:12.930Z"
   },
   {
    "duration": -66,
    "start_time": "2021-07-04T11:41:12.938Z"
   },
   {
    "duration": -69,
    "start_time": "2021-07-04T11:41:12.942Z"
   },
   {
    "duration": -70,
    "start_time": "2021-07-04T11:41:12.945Z"
   },
   {
    "duration": -71,
    "start_time": "2021-07-04T11:41:12.947Z"
   },
   {
    "duration": -79,
    "start_time": "2021-07-04T11:41:12.956Z"
   },
   {
    "duration": -78,
    "start_time": "2021-07-04T11:41:12.959Z"
   },
   {
    "duration": -79,
    "start_time": "2021-07-04T11:41:12.962Z"
   },
   {
    "duration": -80,
    "start_time": "2021-07-04T11:41:12.964Z"
   },
   {
    "duration": -82,
    "start_time": "2021-07-04T11:41:12.967Z"
   },
   {
    "duration": -87,
    "start_time": "2021-07-04T11:41:12.974Z"
   },
   {
    "duration": -89,
    "start_time": "2021-07-04T11:41:12.977Z"
   },
   {
    "duration": -119,
    "start_time": "2021-07-04T11:41:13.009Z"
   },
   {
    "duration": -124,
    "start_time": "2021-07-04T11:41:13.015Z"
   },
   {
    "duration": -126,
    "start_time": "2021-07-04T11:41:13.019Z"
   },
   {
    "duration": 24,
    "start_time": "2021-07-04T11:42:38.525Z"
   },
   {
    "duration": 14,
    "start_time": "2021-07-04T11:42:40.767Z"
   },
   {
    "duration": 27,
    "start_time": "2021-07-04T11:42:43.854Z"
   },
   {
    "duration": 1011,
    "start_time": "2021-07-04T11:42:44.006Z"
   },
   {
    "duration": 8,
    "start_time": "2021-07-04T11:42:47.846Z"
   },
   {
    "duration": 9,
    "start_time": "2021-07-04T11:42:47.981Z"
   },
   {
    "duration": 30,
    "start_time": "2021-07-04T11:42:48.131Z"
   },
   {
    "duration": 7,
    "start_time": "2021-07-04T11:42:48.301Z"
   },
   {
    "duration": 29,
    "start_time": "2021-07-04T11:42:51.177Z"
   },
   {
    "duration": 40,
    "start_time": "2021-07-04T11:42:53.362Z"
   },
   {
    "duration": 19,
    "start_time": "2021-07-04T11:42:53.846Z"
   },
   {
    "duration": 16336,
    "start_time": "2021-07-04T11:42:57.133Z"
   },
   {
    "duration": 9,
    "start_time": "2021-07-04T11:43:23.221Z"
   },
   {
    "duration": 57,
    "start_time": "2021-07-04T11:43:24.209Z"
   },
   {
    "duration": 332,
    "start_time": "2021-07-04T11:43:26.364Z"
   },
   {
    "duration": 22,
    "start_time": "2021-07-04T11:43:34.189Z"
   },
   {
    "duration": 20,
    "start_time": "2021-07-04T11:43:35.068Z"
   },
   {
    "duration": 591,
    "start_time": "2021-07-04T11:43:44.243Z"
   },
   {
    "duration": 127,
    "start_time": "2021-07-04T11:43:44.837Z"
   },
   {
    "duration": 14,
    "start_time": "2021-07-04T11:43:48.440Z"
   },
   {
    "duration": 172,
    "start_time": "2021-07-04T11:43:49.470Z"
   },
   {
    "duration": 48,
    "start_time": "2021-07-04T11:43:55.921Z"
   },
   {
    "duration": 764,
    "start_time": "2021-07-04T11:44:04.626Z"
   },
   {
    "duration": 550,
    "start_time": "2021-07-04T11:44:10.781Z"
   },
   {
    "duration": 10,
    "start_time": "2021-07-04T11:44:16.707Z"
   },
   {
    "duration": 508,
    "start_time": "2021-07-04T11:44:20.417Z"
   },
   {
    "duration": 138,
    "start_time": "2021-07-04T11:44:24.331Z"
   },
   {
    "duration": 13,
    "start_time": "2021-07-04T11:44:32.474Z"
   },
   {
    "duration": 32200,
    "start_time": "2021-07-04T11:44:34.522Z"
   },
   {
    "duration": 8,
    "start_time": "2021-07-04T11:45:22.928Z"
   },
   {
    "duration": 112,
    "start_time": "2021-07-04T11:45:35.755Z"
   },
   {
    "duration": 1643,
    "start_time": "2021-07-04T11:46:37.480Z"
   },
   {
    "duration": 36,
    "start_time": "2021-07-04T11:46:39.126Z"
   },
   {
    "duration": 32,
    "start_time": "2021-07-04T11:46:39.370Z"
   },
   {
    "duration": 61,
    "start_time": "2021-07-04T11:46:39.633Z"
   },
   {
    "duration": 7,
    "start_time": "2021-07-04T11:46:43.250Z"
   },
   {
    "duration": 7,
    "start_time": "2021-07-04T11:46:44.488Z"
   },
   {
    "duration": 9,
    "start_time": "2021-07-04T11:46:54.649Z"
   },
   {
    "duration": 7,
    "start_time": "2021-07-04T11:47:11.131Z"
   },
   {
    "duration": 7,
    "start_time": "2021-07-04T11:47:16.932Z"
   },
   {
    "duration": 24,
    "start_time": "2021-07-04T11:47:38.588Z"
   },
   {
    "duration": 14,
    "start_time": "2021-07-04T11:47:39.633Z"
   },
   {
    "duration": 21,
    "start_time": "2021-07-04T11:47:43.799Z"
   },
   {
    "duration": 1413,
    "start_time": "2021-07-04T11:47:43.940Z"
   },
   {
    "duration": 13,
    "start_time": "2021-07-04T11:47:45.364Z"
   },
   {
    "duration": 17,
    "start_time": "2021-07-04T11:47:45.382Z"
   },
   {
    "duration": 62,
    "start_time": "2021-07-04T11:47:45.402Z"
   },
   {
    "duration": 6,
    "start_time": "2021-07-04T11:47:45.467Z"
   },
   {
    "duration": 33,
    "start_time": "2021-07-04T11:47:45.521Z"
   },
   {
    "duration": 38,
    "start_time": "2021-07-04T11:47:46.721Z"
   },
   {
    "duration": 20,
    "start_time": "2021-07-04T11:47:46.856Z"
   },
   {
    "duration": 16509,
    "start_time": "2021-07-04T11:47:47.558Z"
   },
   {
    "duration": 6,
    "start_time": "2021-07-04T11:48:04.069Z"
   },
   {
    "duration": 93,
    "start_time": "2021-07-04T11:48:04.078Z"
   },
   {
    "duration": 358,
    "start_time": "2021-07-04T11:48:04.176Z"
   },
   {
    "duration": 12,
    "start_time": "2021-07-04T11:48:04.536Z"
   },
   {
    "duration": 23,
    "start_time": "2021-07-04T11:48:04.550Z"
   },
   {
    "duration": 594,
    "start_time": "2021-07-04T11:48:04.576Z"
   },
   {
    "duration": 198,
    "start_time": "2021-07-04T11:48:05.173Z"
   },
   {
    "duration": 16,
    "start_time": "2021-07-04T11:48:05.374Z"
   },
   {
    "duration": 299,
    "start_time": "2021-07-04T11:48:05.393Z"
   },
   {
    "duration": 73,
    "start_time": "2021-07-04T11:48:05.695Z"
   },
   {
    "duration": 1123,
    "start_time": "2021-07-04T11:48:05.772Z"
   },
   {
    "duration": 737,
    "start_time": "2021-07-04T11:48:06.898Z"
   },
   {
    "duration": 9,
    "start_time": "2021-07-04T11:48:07.637Z"
   },
   {
    "duration": 512,
    "start_time": "2021-07-04T11:48:07.662Z"
   },
   {
    "duration": 90,
    "start_time": "2021-07-04T11:48:08.176Z"
   },
   {
    "duration": 97,
    "start_time": "2021-07-04T11:48:08.271Z"
   },
   {
    "duration": 23533,
    "start_time": "2021-07-04T11:48:08.370Z"
   },
   {
    "duration": 1661,
    "start_time": "2021-07-04T11:49:48.646Z"
   },
   {
    "duration": 45,
    "start_time": "2021-07-04T11:49:50.309Z"
   },
   {
    "duration": 51,
    "start_time": "2021-07-04T11:49:50.364Z"
   },
   {
    "duration": 94,
    "start_time": "2021-07-04T11:49:50.419Z"
   },
   {
    "duration": 7,
    "start_time": "2021-07-04T11:49:50.516Z"
   },
   {
    "duration": 9,
    "start_time": "2021-07-04T11:49:50.526Z"
   },
   {
    "duration": 29,
    "start_time": "2021-07-04T11:49:50.538Z"
   },
   {
    "duration": 32,
    "start_time": "2021-07-04T11:49:50.574Z"
   },
   {
    "duration": 52,
    "start_time": "2021-07-04T11:49:50.610Z"
   },
   {
    "duration": 27,
    "start_time": "2021-07-04T11:49:50.666Z"
   },
   {
    "duration": 949,
    "start_time": "2021-07-04T11:49:50.696Z"
   },
   {
    "duration": 19,
    "start_time": "2021-07-04T11:49:51.649Z"
   },
   {
    "duration": 17,
    "start_time": "2021-07-04T11:49:51.672Z"
   },
   {
    "duration": 32,
    "start_time": "2021-07-04T11:49:51.691Z"
   },
   {
    "duration": 40,
    "start_time": "2021-07-04T11:49:51.725Z"
   },
   {
    "duration": 23,
    "start_time": "2021-07-04T11:49:51.768Z"
   },
   {
    "duration": 26,
    "start_time": "2021-07-04T11:49:51.794Z"
   },
   {
    "duration": 52,
    "start_time": "2021-07-04T11:49:51.823Z"
   },
   {
    "duration": 16922,
    "start_time": "2021-07-04T11:49:51.877Z"
   },
   {
    "duration": 6,
    "start_time": "2021-07-04T11:50:08.801Z"
   },
   {
    "duration": 160,
    "start_time": "2021-07-04T11:50:08.810Z"
   },
   {
    "duration": 450,
    "start_time": "2021-07-04T11:50:08.973Z"
   },
   {
    "duration": 38,
    "start_time": "2021-07-04T11:50:09.430Z"
   },
   {
    "duration": 24,
    "start_time": "2021-07-04T11:50:09.472Z"
   },
   {
    "duration": 798,
    "start_time": "2021-07-04T11:50:09.500Z"
   },
   {
    "duration": 171,
    "start_time": "2021-07-04T11:50:10.302Z"
   },
   {
    "duration": 22,
    "start_time": "2021-07-04T11:50:10.564Z"
   },
   {
    "duration": 334,
    "start_time": "2021-07-04T11:50:10.589Z"
   },
   {
    "duration": 144,
    "start_time": "2021-07-04T11:50:10.926Z"
   },
   {
    "duration": 878,
    "start_time": "2021-07-04T11:50:11.073Z"
   },
   {
    "duration": 924,
    "start_time": "2021-07-04T11:50:11.953Z"
   },
   {
    "duration": 15,
    "start_time": "2021-07-04T11:50:12.880Z"
   },
   {
    "duration": 750,
    "start_time": "2021-07-04T11:50:12.898Z"
   },
   {
    "duration": 120,
    "start_time": "2021-07-04T11:50:13.652Z"
   },
   {
    "duration": 99,
    "start_time": "2021-07-04T11:50:13.775Z"
   },
   {
    "duration": 23698,
    "start_time": "2021-07-04T11:50:13.876Z"
   },
   {
    "duration": 6,
    "start_time": "2021-07-04T11:50:37.576Z"
   },
   {
    "duration": 100,
    "start_time": "2021-07-04T11:50:37.584Z"
   },
   {
    "duration": 25,
    "start_time": "2021-07-04T11:51:07.246Z"
   },
   {
    "duration": 18,
    "start_time": "2021-07-04T11:51:08.515Z"
   },
   {
    "duration": 1884,
    "start_time": "2021-07-04T11:51:23.701Z"
   },
   {
    "duration": 35,
    "start_time": "2021-07-04T11:51:25.588Z"
   },
   {
    "duration": 45,
    "start_time": "2021-07-04T11:51:25.627Z"
   },
   {
    "duration": 63,
    "start_time": "2021-07-04T11:51:25.675Z"
   },
   {
    "duration": 7,
    "start_time": "2021-07-04T11:51:29.543Z"
   },
   {
    "duration": 6,
    "start_time": "2021-07-04T11:51:30.342Z"
   },
   {
    "duration": 9,
    "start_time": "2021-07-04T11:51:30.516Z"
   },
   {
    "duration": 23,
    "start_time": "2021-07-04T11:51:30.669Z"
   },
   {
    "duration": 14,
    "start_time": "2021-07-04T11:51:32.650Z"
   },
   {
    "duration": 20,
    "start_time": "2021-07-04T11:51:35.898Z"
   },
   {
    "duration": 920,
    "start_time": "2021-07-04T11:51:37.813Z"
   },
   {
    "duration": 9,
    "start_time": "2021-07-04T11:51:41.444Z"
   },
   {
    "duration": 9,
    "start_time": "2021-07-04T11:51:42.322Z"
   },
   {
    "duration": 31,
    "start_time": "2021-07-04T11:51:43.772Z"
   },
   {
    "duration": 7,
    "start_time": "2021-07-04T11:51:43.926Z"
   },
   {
    "duration": 23,
    "start_time": "2021-07-04T11:51:46.737Z"
   },
   {
    "duration": 25,
    "start_time": "2021-07-04T11:51:49.779Z"
   },
   {
    "duration": 19,
    "start_time": "2021-07-04T11:51:50.241Z"
   },
   {
    "duration": 2450,
    "start_time": "2021-07-04T11:52:46.066Z"
   },
   {
    "duration": 42,
    "start_time": "2021-07-04T11:52:48.520Z"
   },
   {
    "duration": 33,
    "start_time": "2021-07-04T11:52:48.565Z"
   },
   {
    "duration": 95,
    "start_time": "2021-07-04T11:52:48.601Z"
   },
   {
    "duration": 8,
    "start_time": "2021-07-04T11:52:51.631Z"
   },
   {
    "duration": 6,
    "start_time": "2021-07-04T11:52:52.364Z"
   },
   {
    "duration": 9,
    "start_time": "2021-07-04T11:52:55.800Z"
   },
   {
    "duration": 23,
    "start_time": "2021-07-04T11:52:57.890Z"
   },
   {
    "duration": 28,
    "start_time": "2021-07-04T11:53:05.566Z"
   },
   {
    "duration": 28,
    "start_time": "2021-07-04T11:54:37.221Z"
   },
   {
    "duration": 1652,
    "start_time": "2021-07-04T11:55:20.877Z"
   },
   {
    "duration": 35,
    "start_time": "2021-07-04T11:55:22.531Z"
   },
   {
    "duration": 32,
    "start_time": "2021-07-04T11:55:22.569Z"
   },
   {
    "duration": 62,
    "start_time": "2021-07-04T11:55:23.889Z"
   },
   {
    "duration": 6,
    "start_time": "2021-07-04T11:55:26.421Z"
   },
   {
    "duration": 6,
    "start_time": "2021-07-04T11:55:27.117Z"
   },
   {
    "duration": 10,
    "start_time": "2021-07-04T11:55:28.135Z"
   },
   {
    "duration": 17,
    "start_time": "2021-07-04T11:55:29.914Z"
   },
   {
    "duration": 32,
    "start_time": "2021-07-04T11:55:31.367Z"
   },
   {
    "duration": 1573,
    "start_time": "2021-07-04T11:55:54.141Z"
   },
   {
    "duration": 34,
    "start_time": "2021-07-04T11:55:55.717Z"
   },
   {
    "duration": 34,
    "start_time": "2021-07-04T11:55:55.754Z"
   },
   {
    "duration": 81,
    "start_time": "2021-07-04T11:55:55.790Z"
   },
   {
    "duration": 7,
    "start_time": "2021-07-04T11:55:58.434Z"
   },
   {
    "duration": 8,
    "start_time": "2021-07-04T11:55:58.938Z"
   },
   {
    "duration": 13,
    "start_time": "2021-07-04T11:55:59.615Z"
   },
   {
    "duration": 29,
    "start_time": "2021-07-04T11:56:00.224Z"
   },
   {
    "duration": 47,
    "start_time": "2021-07-04T11:56:02.484Z"
   },
   {
    "duration": 22,
    "start_time": "2021-07-04T11:56:38.544Z"
   },
   {
    "duration": 2091,
    "start_time": "2021-07-04T11:57:02.609Z"
   },
   {
    "duration": 44,
    "start_time": "2021-07-04T11:57:04.703Z"
   },
   {
    "duration": 55,
    "start_time": "2021-07-04T11:57:04.750Z"
   },
   {
    "duration": 91,
    "start_time": "2021-07-04T11:57:04.808Z"
   },
   {
    "duration": 7,
    "start_time": "2021-07-04T11:57:06.552Z"
   },
   {
    "duration": 7,
    "start_time": "2021-07-04T11:57:07.155Z"
   },
   {
    "duration": 12,
    "start_time": "2021-07-04T11:57:09.748Z"
   },
   {
    "duration": 35,
    "start_time": "2021-07-04T11:57:11.378Z"
   },
   {
    "duration": 45,
    "start_time": "2021-07-04T11:57:13.169Z"
   },
   {
    "duration": 16,
    "start_time": "2021-07-04T11:57:18.571Z"
   },
   {
    "duration": 2152,
    "start_time": "2021-07-04T11:57:58.591Z"
   },
   {
    "duration": 45,
    "start_time": "2021-07-04T11:58:00.746Z"
   },
   {
    "duration": 47,
    "start_time": "2021-07-04T11:58:00.794Z"
   },
   {
    "duration": 102,
    "start_time": "2021-07-04T11:58:00.863Z"
   },
   {
    "duration": 8,
    "start_time": "2021-07-04T11:58:04.243Z"
   },
   {
    "duration": 6,
    "start_time": "2021-07-04T11:58:04.768Z"
   },
   {
    "duration": 13,
    "start_time": "2021-07-04T11:58:05.784Z"
   },
   {
    "duration": 15,
    "start_time": "2021-07-04T11:58:06.393Z"
   },
   {
    "duration": 31,
    "start_time": "2021-07-04T11:58:08.444Z"
   },
   {
    "duration": 14,
    "start_time": "2021-07-04T11:58:10.914Z"
   },
   {
    "duration": 1633,
    "start_time": "2021-07-04T11:59:31.180Z"
   },
   {
    "duration": 32,
    "start_time": "2021-07-04T11:59:32.815Z"
   },
   {
    "duration": 37,
    "start_time": "2021-07-04T11:59:32.850Z"
   },
   {
    "duration": 82,
    "start_time": "2021-07-04T11:59:32.889Z"
   },
   {
    "duration": 7,
    "start_time": "2021-07-04T11:59:35.055Z"
   },
   {
    "duration": 8,
    "start_time": "2021-07-04T11:59:35.935Z"
   },
   {
    "duration": 13,
    "start_time": "2021-07-04T11:59:36.997Z"
   },
   {
    "duration": 17,
    "start_time": "2021-07-04T11:59:38.219Z"
   },
   {
    "duration": 44,
    "start_time": "2021-07-04T11:59:39.234Z"
   },
   {
    "duration": 12,
    "start_time": "2021-07-04T11:59:42.115Z"
   },
   {
    "duration": 15,
    "start_time": "2021-07-04T12:00:05.826Z"
   },
   {
    "duration": 21,
    "start_time": "2021-07-04T12:00:08.081Z"
   },
   {
    "duration": 1075,
    "start_time": "2021-07-04T12:00:08.210Z"
   },
   {
    "duration": 11,
    "start_time": "2021-07-04T12:00:10.655Z"
   },
   {
    "duration": 12,
    "start_time": "2021-07-04T12:00:10.784Z"
   },
   {
    "duration": 33,
    "start_time": "2021-07-04T12:00:10.917Z"
   },
   {
    "duration": 8,
    "start_time": "2021-07-04T12:00:11.047Z"
   },
   {
    "duration": 21,
    "start_time": "2021-07-04T12:00:13.466Z"
   },
   {
    "duration": 28,
    "start_time": "2021-07-04T12:00:14.016Z"
   },
   {
    "duration": 20,
    "start_time": "2021-07-04T12:00:14.147Z"
   },
   {
    "duration": 16261,
    "start_time": "2021-07-04T12:00:16.353Z"
   },
   {
    "duration": 7,
    "start_time": "2021-07-04T12:00:32.617Z"
   },
   {
    "duration": 134,
    "start_time": "2021-07-04T12:00:32.627Z"
   },
   {
    "duration": 357,
    "start_time": "2021-07-04T12:00:32.766Z"
   },
   {
    "duration": 13,
    "start_time": "2021-07-04T12:00:33.126Z"
   },
   {
    "duration": 32,
    "start_time": "2021-07-04T12:00:33.141Z"
   },
   {
    "duration": 560,
    "start_time": "2021-07-04T12:00:33.176Z"
   },
   {
    "duration": 55,
    "start_time": "2021-07-04T12:00:33.739Z"
   },
   {
    "duration": 163,
    "start_time": "2021-07-04T12:00:33.798Z"
   },
   {
    "duration": 189,
    "start_time": "2021-07-04T12:00:33.963Z"
   },
   {
    "duration": 118,
    "start_time": "2021-07-04T12:00:34.154Z"
   },
   {
    "duration": 835,
    "start_time": "2021-07-04T12:00:34.276Z"
   },
   {
    "duration": 694,
    "start_time": "2021-07-04T12:00:35.114Z"
   },
   {
    "duration": 10,
    "start_time": "2021-07-04T12:00:35.811Z"
   },
   {
    "duration": 471,
    "start_time": "2021-07-04T12:00:35.823Z"
   },
   {
    "duration": 78,
    "start_time": "2021-07-04T12:00:36.297Z"
   },
   {
    "duration": 10,
    "start_time": "2021-07-04T12:00:41.055Z"
   },
   {
    "duration": 21410,
    "start_time": "2021-07-04T12:00:42.295Z"
   },
   {
    "duration": 6,
    "start_time": "2021-07-04T12:01:11.429Z"
   },
   {
    "duration": 2204,
    "start_time": "2021-07-04T12:01:43.735Z"
   },
   {
    "duration": 42,
    "start_time": "2021-07-04T12:01:45.943Z"
   },
   {
    "duration": 32,
    "start_time": "2021-07-04T12:01:45.988Z"
   },
   {
    "duration": 86,
    "start_time": "2021-07-04T12:01:46.023Z"
   },
   {
    "duration": 6,
    "start_time": "2021-07-04T12:01:46.111Z"
   },
   {
    "duration": 8,
    "start_time": "2021-07-04T12:01:46.120Z"
   },
   {
    "duration": 37,
    "start_time": "2021-07-04T12:01:46.130Z"
   },
   {
    "duration": 11,
    "start_time": "2021-07-04T12:01:46.171Z"
   },
   {
    "duration": 20,
    "start_time": "2021-07-04T12:01:46.185Z"
   },
   {
    "duration": 67,
    "start_time": "2021-07-04T12:01:46.208Z"
   },
   {
    "duration": 1463,
    "start_time": "2021-07-04T12:01:46.278Z"
   },
   {
    "duration": 20,
    "start_time": "2021-07-04T12:01:47.744Z"
   },
   {
    "duration": 12,
    "start_time": "2021-07-04T12:01:47.768Z"
   },
   {
    "duration": 31,
    "start_time": "2021-07-04T12:01:47.782Z"
   },
   {
    "duration": 6,
    "start_time": "2021-07-04T12:01:47.816Z"
   },
   {
    "duration": 21,
    "start_time": "2021-07-04T12:01:47.863Z"
   },
   {
    "duration": 31,
    "start_time": "2021-07-04T12:01:47.887Z"
   },
   {
    "duration": 51,
    "start_time": "2021-07-04T12:01:47.921Z"
   },
   {
    "duration": 14900,
    "start_time": "2021-07-04T12:01:47.975Z"
   },
   {
    "duration": 6,
    "start_time": "2021-07-04T12:02:02.878Z"
   },
   {
    "duration": 178,
    "start_time": "2021-07-04T12:02:02.886Z"
   },
   {
    "duration": 384,
    "start_time": "2021-07-04T12:02:03.067Z"
   },
   {
    "duration": 18,
    "start_time": "2021-07-04T12:02:03.463Z"
   },
   {
    "duration": 20,
    "start_time": "2021-07-04T12:02:03.485Z"
   },
   {
    "duration": 554,
    "start_time": "2021-07-04T12:02:03.508Z"
   },
   {
    "duration": 111,
    "start_time": "2021-07-04T12:02:04.065Z"
   },
   {
    "duration": 23,
    "start_time": "2021-07-04T12:02:04.263Z"
   },
   {
    "duration": 240,
    "start_time": "2021-07-04T12:02:04.289Z"
   },
   {
    "duration": 132,
    "start_time": "2021-07-04T12:02:04.531Z"
   },
   {
    "duration": 839,
    "start_time": "2021-07-04T12:02:04.666Z"
   },
   {
    "duration": 634,
    "start_time": "2021-07-04T12:02:05.508Z"
   },
   {
    "duration": 22,
    "start_time": "2021-07-04T12:02:06.146Z"
   },
   {
    "duration": 696,
    "start_time": "2021-07-04T12:02:06.172Z"
   },
   {
    "duration": 104,
    "start_time": "2021-07-04T12:02:06.871Z"
   },
   {
    "duration": 94,
    "start_time": "2021-07-04T12:02:06.978Z"
   },
   {
    "duration": 26168,
    "start_time": "2021-07-04T12:02:07.075Z"
   },
   {
    "duration": 16,
    "start_time": "2021-07-04T12:02:33.246Z"
   },
   {
    "duration": 100,
    "start_time": "2021-07-04T12:02:33.265Z"
   },
   {
    "duration": 1619,
    "start_time": "2021-07-04T12:07:49.628Z"
   },
   {
    "duration": 35,
    "start_time": "2021-07-04T12:07:51.249Z"
   },
   {
    "duration": 31,
    "start_time": "2021-07-04T12:07:51.287Z"
   },
   {
    "duration": 83,
    "start_time": "2021-07-04T12:07:51.321Z"
   },
   {
    "duration": 6,
    "start_time": "2021-07-04T12:07:51.406Z"
   },
   {
    "duration": 12,
    "start_time": "2021-07-04T12:07:51.415Z"
   },
   {
    "duration": 33,
    "start_time": "2021-07-04T12:07:51.430Z"
   },
   {
    "duration": 11,
    "start_time": "2021-07-04T12:07:51.467Z"
   },
   {
    "duration": 16,
    "start_time": "2021-07-04T12:07:51.480Z"
   },
   {
    "duration": 21,
    "start_time": "2021-07-04T12:07:51.498Z"
   },
   {
    "duration": 1046,
    "start_time": "2021-07-04T12:07:51.521Z"
   },
   {
    "duration": 9,
    "start_time": "2021-07-04T12:07:52.570Z"
   },
   {
    "duration": 21,
    "start_time": "2021-07-04T12:07:52.582Z"
   },
   {
    "duration": 33,
    "start_time": "2021-07-04T12:07:52.606Z"
   },
   {
    "duration": 7,
    "start_time": "2021-07-04T12:07:52.662Z"
   },
   {
    "duration": 21,
    "start_time": "2021-07-04T12:07:52.671Z"
   },
   {
    "duration": 31,
    "start_time": "2021-07-04T12:07:52.694Z"
   },
   {
    "duration": 50,
    "start_time": "2021-07-04T12:07:52.727Z"
   },
   {
    "duration": 16981,
    "start_time": "2021-07-04T12:07:52.781Z"
   },
   {
    "duration": 7,
    "start_time": "2021-07-04T12:08:09.764Z"
   },
   {
    "duration": 92,
    "start_time": "2021-07-04T12:08:09.773Z"
   },
   {
    "duration": 509,
    "start_time": "2021-07-04T12:08:09.868Z"
   },
   {
    "duration": 19,
    "start_time": "2021-07-04T12:08:10.384Z"
   },
   {
    "duration": 22,
    "start_time": "2021-07-04T12:08:10.407Z"
   },
   {
    "duration": 802,
    "start_time": "2021-07-04T12:08:10.462Z"
   },
   {
    "duration": 98,
    "start_time": "2021-07-04T12:08:11.268Z"
   },
   {
    "duration": 112,
    "start_time": "2021-07-04T12:08:11.370Z"
   },
   {
    "duration": 199,
    "start_time": "2021-07-04T12:08:11.485Z"
   },
   {
    "duration": 81,
    "start_time": "2021-07-04T12:08:11.687Z"
   },
   {
    "duration": 1290,
    "start_time": "2021-07-04T12:08:11.772Z"
   },
   {
    "duration": 908,
    "start_time": "2021-07-04T12:08:13.065Z"
   },
   {
    "duration": 12,
    "start_time": "2021-07-04T12:08:13.977Z"
   },
   {
    "duration": 715,
    "start_time": "2021-07-04T12:08:13.992Z"
   },
   {
    "duration": 153,
    "start_time": "2021-07-04T12:08:14.710Z"
   },
   {
    "duration": 97,
    "start_time": "2021-07-04T12:08:14.867Z"
   },
   {
    "duration": 22415,
    "start_time": "2021-07-04T12:08:14.967Z"
   },
   {
    "duration": 7,
    "start_time": "2021-07-04T12:08:37.385Z"
   },
   {
    "duration": 74,
    "start_time": "2021-07-04T12:08:37.395Z"
   },
   {
    "duration": 15,
    "start_time": "2021-07-04T12:14:55.618Z"
   },
   {
    "duration": 510,
    "start_time": "2021-07-04T12:15:38.727Z"
   },
   {
    "duration": 41,
    "start_time": "2021-07-04T12:15:44.161Z"
   },
   {
    "duration": 442,
    "start_time": "2021-07-04T12:16:26.822Z"
   },
   {
    "duration": 448,
    "start_time": "2021-07-04T12:17:28.817Z"
   },
   {
    "duration": 47,
    "start_time": "2021-07-04T12:17:31.430Z"
   },
   {
    "duration": 503,
    "start_time": "2021-07-04T12:20:40.216Z"
   },
   {
    "duration": 356,
    "start_time": "2021-07-04T12:22:24.854Z"
   },
   {
    "duration": 6,
    "start_time": "2021-07-04T12:22:45.446Z"
   },
   {
    "duration": 346,
    "start_time": "2021-07-04T12:22:58.503Z"
   },
   {
    "duration": 350,
    "start_time": "2021-07-04T12:24:45.858Z"
   },
   {
    "duration": 1668,
    "start_time": "2021-07-04T12:30:14.781Z"
   },
   {
    "duration": 44,
    "start_time": "2021-07-04T12:30:16.451Z"
   },
   {
    "duration": 34,
    "start_time": "2021-07-04T12:30:16.498Z"
   },
   {
    "duration": 112,
    "start_time": "2021-07-04T12:30:16.535Z"
   },
   {
    "duration": 7,
    "start_time": "2021-07-04T12:30:16.663Z"
   },
   {
    "duration": 8,
    "start_time": "2021-07-04T12:30:16.672Z"
   },
   {
    "duration": 14,
    "start_time": "2021-07-04T12:30:16.682Z"
   },
   {
    "duration": 11,
    "start_time": "2021-07-04T12:30:16.700Z"
   },
   {
    "duration": 59,
    "start_time": "2021-07-04T12:30:16.714Z"
   },
   {
    "duration": 22,
    "start_time": "2021-07-04T12:30:16.775Z"
   },
   {
    "duration": 1322,
    "start_time": "2021-07-04T12:30:16.800Z"
   },
   {
    "duration": 10,
    "start_time": "2021-07-04T12:30:18.125Z"
   },
   {
    "duration": 33,
    "start_time": "2021-07-04T12:30:18.138Z"
   },
   {
    "duration": 57,
    "start_time": "2021-07-04T12:30:18.175Z"
   },
   {
    "duration": 8,
    "start_time": "2021-07-04T12:30:18.235Z"
   },
   {
    "duration": 43,
    "start_time": "2021-07-04T12:30:18.246Z"
   },
   {
    "duration": 33,
    "start_time": "2021-07-04T12:30:18.293Z"
   },
   {
    "duration": 48,
    "start_time": "2021-07-04T12:30:18.329Z"
   },
   {
    "duration": 16389,
    "start_time": "2021-07-04T12:30:18.379Z"
   },
   {
    "duration": 7,
    "start_time": "2021-07-04T12:30:34.771Z"
   },
   {
    "duration": 89,
    "start_time": "2021-07-04T12:30:34.782Z"
   },
   {
    "duration": 355,
    "start_time": "2021-07-04T12:30:34.874Z"
   },
   {
    "duration": 29,
    "start_time": "2021-07-04T12:30:35.235Z"
   },
   {
    "duration": 16,
    "start_time": "2021-07-04T12:30:35.267Z"
   },
   {
    "duration": 568,
    "start_time": "2021-07-04T12:30:35.286Z"
   },
   {
    "duration": 104,
    "start_time": "2021-07-04T12:30:35.861Z"
   },
   {
    "duration": 105,
    "start_time": "2021-07-04T12:30:35.968Z"
   },
   {
    "duration": 199,
    "start_time": "2021-07-04T12:30:36.076Z"
   },
   {
    "duration": 92,
    "start_time": "2021-07-04T12:30:36.280Z"
   },
   {
    "duration": 832,
    "start_time": "2021-07-04T12:30:36.375Z"
   },
   {
    "duration": 967,
    "start_time": "2021-07-04T12:30:37.211Z"
   },
   {
    "duration": 12,
    "start_time": "2021-07-04T12:30:38.181Z"
   },
   {
    "duration": 657,
    "start_time": "2021-07-04T12:30:38.196Z"
   },
   {
    "duration": 107,
    "start_time": "2021-07-04T12:30:38.856Z"
   },
   {
    "duration": 99,
    "start_time": "2021-07-04T12:30:38.967Z"
   },
   {
    "duration": 22956,
    "start_time": "2021-07-04T12:30:39.070Z"
   },
   {
    "duration": 8,
    "start_time": "2021-07-04T12:31:02.029Z"
   },
   {
    "duration": 122,
    "start_time": "2021-07-04T12:31:02.039Z"
   },
   {
    "duration": 40854,
    "start_time": "2021-07-04T12:32:47.389Z"
   },
   {
    "duration": 455,
    "start_time": "2021-07-04T12:33:38.357Z"
   },
   {
    "duration": 1621,
    "start_time": "2021-07-04T12:35:13.701Z"
   },
   {
    "duration": 38,
    "start_time": "2021-07-04T12:35:15.325Z"
   },
   {
    "duration": 31,
    "start_time": "2021-07-04T12:35:15.366Z"
   },
   {
    "duration": 134,
    "start_time": "2021-07-04T12:35:15.401Z"
   },
   {
    "duration": 8,
    "start_time": "2021-07-04T12:35:15.539Z"
   },
   {
    "duration": 6,
    "start_time": "2021-07-04T12:35:15.562Z"
   },
   {
    "duration": 10,
    "start_time": "2021-07-04T12:35:15.571Z"
   },
   {
    "duration": 12,
    "start_time": "2021-07-04T12:35:15.585Z"
   },
   {
    "duration": 68,
    "start_time": "2021-07-04T12:35:15.600Z"
   },
   {
    "duration": 21,
    "start_time": "2021-07-04T12:35:15.670Z"
   },
   {
    "duration": 1116,
    "start_time": "2021-07-04T12:35:15.693Z"
   },
   {
    "duration": 8,
    "start_time": "2021-07-04T12:35:16.812Z"
   },
   {
    "duration": 12,
    "start_time": "2021-07-04T12:35:16.823Z"
   },
   {
    "duration": 51,
    "start_time": "2021-07-04T12:35:16.838Z"
   },
   {
    "duration": 7,
    "start_time": "2021-07-04T12:35:16.892Z"
   },
   {
    "duration": 21,
    "start_time": "2021-07-04T12:35:16.902Z"
   },
   {
    "duration": 69,
    "start_time": "2021-07-04T12:35:16.926Z"
   },
   {
    "duration": 19,
    "start_time": "2021-07-04T12:35:16.998Z"
   },
   {
    "duration": 15838,
    "start_time": "2021-07-04T12:35:17.020Z"
   },
   {
    "duration": 8,
    "start_time": "2021-07-04T12:35:32.861Z"
   },
   {
    "duration": 191,
    "start_time": "2021-07-04T12:35:32.872Z"
   },
   {
    "duration": 274,
    "start_time": "2021-07-04T12:35:33.067Z"
   },
   {
    "duration": 24,
    "start_time": "2021-07-04T12:35:33.346Z"
   },
   {
    "duration": 18,
    "start_time": "2021-07-04T12:35:33.373Z"
   },
   {
    "duration": 556,
    "start_time": "2021-07-04T12:35:33.394Z"
   },
   {
    "duration": 113,
    "start_time": "2021-07-04T12:35:33.953Z"
   },
   {
    "duration": 105,
    "start_time": "2021-07-04T12:35:34.074Z"
   },
   {
    "duration": 295,
    "start_time": "2021-07-04T12:35:34.183Z"
   },
   {
    "duration": 84,
    "start_time": "2021-07-04T12:35:34.482Z"
   },
   {
    "duration": 840,
    "start_time": "2021-07-04T12:35:34.570Z"
   },
   {
    "duration": 685,
    "start_time": "2021-07-04T12:35:35.413Z"
   },
   {
    "duration": 8,
    "start_time": "2021-07-04T12:35:36.101Z"
   },
   {
    "duration": 471,
    "start_time": "2021-07-04T12:35:36.112Z"
   },
   {
    "duration": 179,
    "start_time": "2021-07-04T12:35:36.585Z"
   },
   {
    "duration": 14,
    "start_time": "2021-07-04T12:35:36.767Z"
   },
   {
    "duration": 33360,
    "start_time": "2021-07-04T12:35:36.784Z"
   },
   {
    "duration": 16,
    "start_time": "2021-07-04T12:36:10.147Z"
   },
   {
    "duration": 103,
    "start_time": "2021-07-04T12:36:10.167Z"
   },
   {
    "duration": 1599,
    "start_time": "2021-07-04T12:36:38.575Z"
   },
   {
    "duration": 35,
    "start_time": "2021-07-04T12:36:40.188Z"
   },
   {
    "duration": 53,
    "start_time": "2021-07-04T12:36:40.229Z"
   },
   {
    "duration": 89,
    "start_time": "2021-07-04T12:36:40.285Z"
   },
   {
    "duration": 6,
    "start_time": "2021-07-04T12:36:40.377Z"
   },
   {
    "duration": 10,
    "start_time": "2021-07-04T12:36:40.385Z"
   },
   {
    "duration": 15,
    "start_time": "2021-07-04T12:36:40.399Z"
   },
   {
    "duration": 48,
    "start_time": "2021-07-04T12:36:40.417Z"
   },
   {
    "duration": 21,
    "start_time": "2021-07-04T12:36:40.468Z"
   },
   {
    "duration": 30,
    "start_time": "2021-07-04T12:36:40.492Z"
   },
   {
    "duration": 1481,
    "start_time": "2021-07-04T12:36:40.563Z"
   },
   {
    "duration": 21,
    "start_time": "2021-07-04T12:36:42.047Z"
   },
   {
    "duration": 13,
    "start_time": "2021-07-04T12:36:42.070Z"
   },
   {
    "duration": 42,
    "start_time": "2021-07-04T12:36:42.086Z"
   },
   {
    "duration": 8,
    "start_time": "2021-07-04T12:36:42.163Z"
   },
   {
    "duration": 26,
    "start_time": "2021-07-04T12:36:42.174Z"
   },
   {
    "duration": 62,
    "start_time": "2021-07-04T12:36:42.203Z"
   },
   {
    "duration": 20,
    "start_time": "2021-07-04T12:36:42.267Z"
   },
   {
    "duration": 15549,
    "start_time": "2021-07-04T12:36:42.289Z"
   },
   {
    "duration": 23,
    "start_time": "2021-07-04T12:36:57.841Z"
   },
   {
    "duration": 197,
    "start_time": "2021-07-04T12:36:57.867Z"
   },
   {
    "duration": 300,
    "start_time": "2021-07-04T12:36:58.069Z"
   },
   {
    "duration": 13,
    "start_time": "2021-07-04T12:36:58.373Z"
   },
   {
    "duration": 16,
    "start_time": "2021-07-04T12:36:58.389Z"
   },
   {
    "duration": 560,
    "start_time": "2021-07-04T12:36:58.407Z"
   },
   {
    "duration": 194,
    "start_time": "2021-07-04T12:36:58.969Z"
   },
   {
    "duration": 16,
    "start_time": "2021-07-04T12:36:59.165Z"
   },
   {
    "duration": 204,
    "start_time": "2021-07-04T12:36:59.183Z"
   },
   {
    "duration": 173,
    "start_time": "2021-07-04T12:36:59.390Z"
   },
   {
    "duration": 762,
    "start_time": "2021-07-04T12:36:59.566Z"
   },
   {
    "duration": 952,
    "start_time": "2021-07-04T12:37:00.332Z"
   },
   {
    "duration": 12,
    "start_time": "2021-07-04T12:37:01.287Z"
   },
   {
    "duration": 656,
    "start_time": "2021-07-04T12:37:01.302Z"
   },
   {
    "duration": 108,
    "start_time": "2021-07-04T12:37:01.963Z"
   },
   {
    "duration": 99,
    "start_time": "2021-07-04T12:37:02.075Z"
   },
   {
    "duration": 29472,
    "start_time": "2021-07-04T12:37:02.178Z"
   },
   {
    "duration": 11,
    "start_time": "2021-07-04T12:37:31.653Z"
   },
   {
    "duration": 96,
    "start_time": "2021-07-04T12:37:31.666Z"
   },
   {
    "duration": 6,
    "start_time": "2021-07-04T12:55:06.625Z"
   },
   {
    "duration": 9,
    "start_time": "2021-07-04T12:55:37.415Z"
   },
   {
    "duration": 8,
    "start_time": "2021-07-04T12:56:19.139Z"
   },
   {
    "duration": 8,
    "start_time": "2021-07-04T12:56:27.350Z"
   },
   {
    "duration": 10,
    "start_time": "2021-07-04T12:59:36.699Z"
   },
   {
    "duration": 10,
    "start_time": "2021-07-04T13:00:10.033Z"
   },
   {
    "duration": 10,
    "start_time": "2021-07-04T13:00:44.029Z"
   },
   {
    "duration": 9,
    "start_time": "2021-07-04T13:00:49.789Z"
   },
   {
    "duration": 9,
    "start_time": "2021-07-04T13:01:13.492Z"
   },
   {
    "duration": 10,
    "start_time": "2021-07-04T13:01:29.562Z"
   },
   {
    "duration": 10,
    "start_time": "2021-07-04T13:01:37.733Z"
   },
   {
    "duration": 10,
    "start_time": "2021-07-04T13:01:47.074Z"
   },
   {
    "duration": 9,
    "start_time": "2021-07-04T13:01:59.534Z"
   },
   {
    "duration": 13,
    "start_time": "2021-07-04T13:03:00.154Z"
   },
   {
    "duration": 12,
    "start_time": "2021-07-04T13:03:07.058Z"
   },
   {
    "duration": 474,
    "start_time": "2021-07-04T13:03:49.335Z"
   },
   {
    "duration": 323,
    "start_time": "2021-07-04T13:04:11.147Z"
   },
   {
    "duration": 332,
    "start_time": "2021-07-04T13:06:01.881Z"
   },
   {
    "duration": 81121,
    "start_time": "2021-07-04T13:06:24.860Z"
   },
   {
    "duration": 6,
    "start_time": "2021-07-04T13:08:08.514Z"
   },
   {
    "duration": 28,
    "start_time": "2021-07-04T13:12:13.710Z"
   },
   {
    "duration": 502249,
    "start_time": "2021-07-04T13:12:55.875Z"
   },
   {
    "duration": 5,
    "start_time": "2021-07-04T13:22:15.021Z"
   },
   {
    "duration": 434,
    "start_time": "2021-07-04T13:22:53.651Z"
   },
   {
    "duration": 378,
    "start_time": "2021-07-04T13:23:02.064Z"
   },
   {
    "duration": 1636,
    "start_time": "2021-07-04T13:23:35.643Z"
   },
   {
    "duration": 45,
    "start_time": "2021-07-04T13:23:37.282Z"
   },
   {
    "duration": 63,
    "start_time": "2021-07-04T13:23:37.335Z"
   },
   {
    "duration": 86,
    "start_time": "2021-07-04T13:23:37.402Z"
   },
   {
    "duration": 8,
    "start_time": "2021-07-04T13:23:37.491Z"
   },
   {
    "duration": 8,
    "start_time": "2021-07-04T13:23:37.502Z"
   },
   {
    "duration": 11,
    "start_time": "2021-07-04T13:23:37.514Z"
   },
   {
    "duration": 42,
    "start_time": "2021-07-04T13:23:37.529Z"
   },
   {
    "duration": 17,
    "start_time": "2021-07-04T13:23:37.573Z"
   },
   {
    "duration": 28,
    "start_time": "2021-07-04T13:23:37.593Z"
   },
   {
    "duration": 1077,
    "start_time": "2021-07-04T13:23:37.623Z"
   },
   {
    "duration": 9,
    "start_time": "2021-07-04T13:23:38.702Z"
   },
   {
    "duration": 16,
    "start_time": "2021-07-04T13:23:38.713Z"
   },
   {
    "duration": 52,
    "start_time": "2021-07-04T13:23:38.731Z"
   },
   {
    "duration": 6,
    "start_time": "2021-07-04T13:23:38.785Z"
   },
   {
    "duration": 23,
    "start_time": "2021-07-04T13:23:38.794Z"
   },
   {
    "duration": 70,
    "start_time": "2021-07-04T13:23:38.819Z"
   },
   {
    "duration": 20,
    "start_time": "2021-07-04T13:23:38.891Z"
   },
   {
    "duration": 15939,
    "start_time": "2021-07-04T13:23:38.914Z"
   },
   {
    "duration": 11,
    "start_time": "2021-07-04T13:23:54.855Z"
   },
   {
    "duration": 99,
    "start_time": "2021-07-04T13:23:54.868Z"
   },
   {
    "duration": 358,
    "start_time": "2021-07-04T13:23:54.975Z"
   },
   {
    "duration": 30,
    "start_time": "2021-07-04T13:23:55.336Z"
   },
   {
    "duration": 15,
    "start_time": "2021-07-04T13:23:55.368Z"
   },
   {
    "duration": 649,
    "start_time": "2021-07-04T13:23:55.386Z"
   },
   {
    "duration": 126,
    "start_time": "2021-07-04T13:23:56.038Z"
   },
   {
    "duration": 105,
    "start_time": "2021-07-04T13:23:56.167Z"
   },
   {
    "duration": 220,
    "start_time": "2021-07-04T13:23:56.275Z"
   },
   {
    "duration": 67,
    "start_time": "2021-07-04T13:23:56.498Z"
   },
   {
    "duration": 1012,
    "start_time": "2021-07-04T13:23:56.569Z"
   },
   {
    "duration": 633,
    "start_time": "2021-07-04T13:23:57.584Z"
   },
   {
    "duration": 12,
    "start_time": "2021-07-04T13:23:58.220Z"
   },
   {
    "duration": 480,
    "start_time": "2021-07-04T13:23:58.235Z"
   },
   {
    "duration": 65,
    "start_time": "2021-07-04T13:23:58.718Z"
   },
   {
    "duration": 97,
    "start_time": "2021-07-04T13:23:58.865Z"
   },
   {
    "duration": 22144,
    "start_time": "2021-07-04T13:23:58.965Z"
   },
   {
    "duration": 10,
    "start_time": "2021-07-04T13:24:21.112Z"
   },
   {
    "duration": 56,
    "start_time": "2021-07-04T13:24:21.124Z"
   },
   {
    "duration": 24492,
    "start_time": "2021-07-04T13:26:49.154Z"
   },
   {
    "duration": 7,
    "start_time": "2021-07-04T13:27:27.455Z"
   },
   {
    "duration": 1667,
    "start_time": "2021-07-04T13:27:53.942Z"
   },
   {
    "duration": 36,
    "start_time": "2021-07-04T13:27:55.611Z"
   },
   {
    "duration": 35,
    "start_time": "2021-07-04T13:27:55.662Z"
   },
   {
    "duration": 95,
    "start_time": "2021-07-04T13:27:55.700Z"
   },
   {
    "duration": 7,
    "start_time": "2021-07-04T13:27:55.798Z"
   },
   {
    "duration": 9,
    "start_time": "2021-07-04T13:27:55.807Z"
   },
   {
    "duration": 13,
    "start_time": "2021-07-04T13:27:55.820Z"
   },
   {
    "duration": 11,
    "start_time": "2021-07-04T13:27:55.862Z"
   },
   {
    "duration": 16,
    "start_time": "2021-07-04T13:27:55.875Z"
   },
   {
    "duration": 21,
    "start_time": "2021-07-04T13:27:55.894Z"
   },
   {
    "duration": 1057,
    "start_time": "2021-07-04T13:27:55.917Z"
   },
   {
    "duration": 11,
    "start_time": "2021-07-04T13:27:56.976Z"
   },
   {
    "duration": 9,
    "start_time": "2021-07-04T13:27:56.990Z"
   },
   {
    "duration": 63,
    "start_time": "2021-07-04T13:27:57.001Z"
   },
   {
    "duration": 7,
    "start_time": "2021-07-04T13:27:57.066Z"
   },
   {
    "duration": 24,
    "start_time": "2021-07-04T13:27:57.075Z"
   },
   {
    "duration": 70,
    "start_time": "2021-07-04T13:27:57.101Z"
   },
   {
    "duration": 19,
    "start_time": "2021-07-04T13:27:57.173Z"
   },
   {
    "duration": 15479,
    "start_time": "2021-07-04T13:27:57.194Z"
   },
   {
    "duration": 7,
    "start_time": "2021-07-04T13:28:12.675Z"
   },
   {
    "duration": 88,
    "start_time": "2021-07-04T13:28:12.684Z"
   },
   {
    "duration": 277,
    "start_time": "2021-07-04T13:28:12.870Z"
   },
   {
    "duration": 20,
    "start_time": "2021-07-04T13:28:13.150Z"
   },
   {
    "duration": 18,
    "start_time": "2021-07-04T13:28:13.172Z"
   },
   {
    "duration": 539,
    "start_time": "2021-07-04T13:28:13.193Z"
   },
   {
    "duration": 127,
    "start_time": "2021-07-04T13:28:13.735Z"
   },
   {
    "duration": 103,
    "start_time": "2021-07-04T13:28:13.868Z"
   },
   {
    "duration": 197,
    "start_time": "2021-07-04T13:28:13.973Z"
   },
   {
    "duration": 93,
    "start_time": "2021-07-04T13:28:14.173Z"
   },
   {
    "duration": 836,
    "start_time": "2021-07-04T13:28:14.272Z"
   },
   {
    "duration": 679,
    "start_time": "2021-07-04T13:28:15.111Z"
   },
   {
    "duration": 9,
    "start_time": "2021-07-04T13:28:15.792Z"
   },
   {
    "duration": 479,
    "start_time": "2021-07-04T13:28:15.803Z"
   },
   {
    "duration": 77,
    "start_time": "2021-07-04T13:28:16.285Z"
   },
   {
    "duration": 102,
    "start_time": "2021-07-04T13:28:16.365Z"
   },
   {
    "duration": 18033,
    "start_time": "2021-07-04T13:28:16.470Z"
   },
   {
    "duration": 11,
    "start_time": "2021-07-04T13:28:34.506Z"
   },
   {
    "duration": 147,
    "start_time": "2021-07-04T13:28:34.519Z"
   },
   {
    "duration": 3,
    "start_time": "2021-07-04T13:38:53.661Z"
   },
   {
    "duration": 2234,
    "start_time": "2021-07-04T13:39:16.013Z"
   },
   {
    "duration": 45,
    "start_time": "2021-07-04T13:39:18.250Z"
   },
   {
    "duration": 47,
    "start_time": "2021-07-04T13:39:18.300Z"
   },
   {
    "duration": 107,
    "start_time": "2021-07-04T13:39:18.362Z"
   },
   {
    "duration": 8,
    "start_time": "2021-07-04T13:39:18.472Z"
   },
   {
    "duration": 8,
    "start_time": "2021-07-04T13:39:18.483Z"
   },
   {
    "duration": 14,
    "start_time": "2021-07-04T13:39:18.494Z"
   },
   {
    "duration": 51,
    "start_time": "2021-07-04T13:39:18.514Z"
   },
   {
    "duration": 20,
    "start_time": "2021-07-04T13:39:18.569Z"
   },
   {
    "duration": 26,
    "start_time": "2021-07-04T13:39:18.593Z"
   },
   {
    "duration": 1070,
    "start_time": "2021-07-04T13:39:18.621Z"
   },
   {
    "duration": 12,
    "start_time": "2021-07-04T13:39:19.694Z"
   },
   {
    "duration": 12,
    "start_time": "2021-07-04T13:39:19.709Z"
   },
   {
    "duration": 67,
    "start_time": "2021-07-04T13:39:19.724Z"
   },
   {
    "duration": 8,
    "start_time": "2021-07-04T13:39:19.794Z"
   },
   {
    "duration": 57,
    "start_time": "2021-07-04T13:39:19.805Z"
   },
   {
    "duration": 34,
    "start_time": "2021-07-04T13:39:19.865Z"
   },
   {
    "duration": 19,
    "start_time": "2021-07-04T13:39:19.902Z"
   },
   {
    "duration": 22290,
    "start_time": "2021-07-04T13:39:19.925Z"
   },
   {
    "duration": 10,
    "start_time": "2021-07-04T13:39:42.218Z"
   },
   {
    "duration": 234,
    "start_time": "2021-07-04T13:39:42.231Z"
   },
   {
    "duration": 249,
    "start_time": "2021-07-04T13:39:42.468Z"
   },
   {
    "duration": 12,
    "start_time": "2021-07-04T13:39:42.722Z"
   },
   {
    "duration": 45,
    "start_time": "2021-07-04T13:39:42.739Z"
   },
   {
    "duration": 809,
    "start_time": "2021-07-04T13:39:42.787Z"
   },
   {
    "duration": 169,
    "start_time": "2021-07-04T13:39:43.599Z"
   },
   {
    "duration": 105,
    "start_time": "2021-07-04T13:39:43.772Z"
   },
   {
    "duration": 596,
    "start_time": "2021-07-04T13:39:43.881Z"
   },
   {
    "duration": 89,
    "start_time": "2021-07-04T13:39:44.481Z"
   },
   {
    "duration": 1338,
    "start_time": "2021-07-04T13:39:44.574Z"
   },
   {
    "duration": 959,
    "start_time": "2021-07-04T13:39:45.916Z"
   },
   {
    "duration": 11,
    "start_time": "2021-07-04T13:39:46.879Z"
   },
   {
    "duration": 656,
    "start_time": "2021-07-04T13:39:46.893Z"
   },
   {
    "duration": 118,
    "start_time": "2021-07-04T13:39:47.552Z"
   },
   {
    "duration": 101,
    "start_time": "2021-07-04T13:39:47.673Z"
   },
   {
    "duration": 18218,
    "start_time": "2021-07-04T13:39:47.777Z"
   },
   {
    "duration": 9,
    "start_time": "2021-07-04T13:40:05.998Z"
   },
   {
    "duration": 326,
    "start_time": "2021-07-04T13:40:06.011Z"
   },
   {
    "duration": 124,
    "start_time": "2021-07-04T13:40:06.340Z"
   },
   {
    "duration": 540,
    "start_time": "2021-07-04T13:40:06.468Z"
   },
   {
    "duration": 18601,
    "start_time": "2021-07-04T13:42:09.575Z"
   },
   {
    "duration": 280,
    "start_time": "2021-07-04T13:44:02.930Z"
   },
   {
    "duration": 55,
    "start_time": "2021-07-04T13:44:32.008Z"
   },
   {
    "duration": 436,
    "start_time": "2021-07-04T13:44:32.565Z"
   },
   {
    "duration": 440,
    "start_time": "2021-07-04T13:59:41.694Z"
   },
   {
    "duration": 550,
    "start_time": "2021-07-04T14:01:34.347Z"
   },
   {
    "duration": 6,
    "start_time": "2021-07-04T14:02:32.524Z"
   },
   {
    "duration": 434,
    "start_time": "2021-07-04T14:02:38.152Z"
   },
   {
    "duration": 492,
    "start_time": "2021-07-04T14:03:34.435Z"
   },
   {
    "duration": 27158,
    "start_time": "2021-07-04T14:03:58.240Z"
   },
   {
    "duration": 12,
    "start_time": "2021-07-04T14:04:25.402Z"
   },
   {
    "duration": 511,
    "start_time": "2021-07-04T14:04:25.418Z"
   },
   {
    "duration": 18802,
    "start_time": "2021-07-04T14:11:30.729Z"
   },
   {
    "duration": 27,
    "start_time": "2021-07-04T14:11:49.534Z"
   },
   {
    "duration": 336,
    "start_time": "2021-07-04T14:11:49.565Z"
   },
   {
    "duration": 51,
    "start_time": "2021-07-04T14:11:59.324Z"
   },
   {
    "duration": 418,
    "start_time": "2021-07-04T14:11:59.906Z"
   },
   {
    "duration": 1596,
    "start_time": "2021-07-04T14:24:53.490Z"
   },
   {
    "duration": 34,
    "start_time": "2021-07-04T14:24:55.089Z"
   },
   {
    "duration": 49,
    "start_time": "2021-07-04T14:24:55.127Z"
   },
   {
    "duration": 62,
    "start_time": "2021-07-04T14:24:55.179Z"
   },
   {
    "duration": 24,
    "start_time": "2021-07-04T14:24:55.244Z"
   },
   {
    "duration": 7,
    "start_time": "2021-07-04T14:24:55.271Z"
   },
   {
    "duration": 11,
    "start_time": "2021-07-04T14:24:55.280Z"
   },
   {
    "duration": 11,
    "start_time": "2021-07-04T14:24:55.295Z"
   },
   {
    "duration": 65,
    "start_time": "2021-07-04T14:24:55.309Z"
   },
   {
    "duration": 20,
    "start_time": "2021-07-04T14:24:55.376Z"
   },
   {
    "duration": 1070,
    "start_time": "2021-07-04T14:24:55.398Z"
   },
   {
    "duration": 12,
    "start_time": "2021-07-04T14:24:56.471Z"
   },
   {
    "duration": 18,
    "start_time": "2021-07-04T14:24:56.487Z"
   },
   {
    "duration": 67,
    "start_time": "2021-07-04T14:24:56.508Z"
   },
   {
    "duration": 6,
    "start_time": "2021-07-04T14:24:56.578Z"
   },
   {
    "duration": 25,
    "start_time": "2021-07-04T14:24:56.586Z"
   },
   {
    "duration": 72,
    "start_time": "2021-07-04T14:24:56.614Z"
   },
   {
    "duration": 19,
    "start_time": "2021-07-04T14:24:56.689Z"
   },
   {
    "duration": 15838,
    "start_time": "2021-07-04T14:24:56.711Z"
   },
   {
    "duration": 15,
    "start_time": "2021-07-04T14:25:12.552Z"
   },
   {
    "duration": 193,
    "start_time": "2021-07-04T14:25:12.570Z"
   },
   {
    "duration": 266,
    "start_time": "2021-07-04T14:25:12.766Z"
   },
   {
    "duration": 25,
    "start_time": "2021-07-04T14:25:13.037Z"
   },
   {
    "duration": 15,
    "start_time": "2021-07-04T14:25:13.065Z"
   },
   {
    "duration": 554,
    "start_time": "2021-07-04T14:25:13.082Z"
   },
   {
    "duration": 122,
    "start_time": "2021-07-04T14:25:13.639Z"
   },
   {
    "duration": 100,
    "start_time": "2021-07-04T14:25:13.764Z"
   },
   {
    "duration": 199,
    "start_time": "2021-07-04T14:25:13.866Z"
   },
   {
    "duration": 101,
    "start_time": "2021-07-04T14:25:14.067Z"
   },
   {
    "duration": 820,
    "start_time": "2021-07-04T14:25:14.170Z"
   },
   {
    "duration": 668,
    "start_time": "2021-07-04T14:25:14.993Z"
   },
   {
    "duration": 13,
    "start_time": "2021-07-04T14:25:15.664Z"
   },
   {
    "duration": 703,
    "start_time": "2021-07-04T14:25:15.680Z"
   },
   {
    "duration": 82,
    "start_time": "2021-07-04T14:25:16.387Z"
   },
   {
    "duration": 18390,
    "start_time": "2021-07-04T14:25:16.472Z"
   },
   {
    "duration": 8,
    "start_time": "2021-07-04T14:25:34.864Z"
   },
   {
    "duration": 496,
    "start_time": "2021-07-04T14:25:34.874Z"
   },
   {
    "duration": 188,
    "start_time": "2021-07-04T14:25:35.374Z"
   },
   {
    "duration": 453,
    "start_time": "2021-07-04T14:25:35.564Z"
   },
   {
    "duration": 24,
    "start_time": "2021-07-04T15:55:17.047Z"
   },
   {
    "duration": 17,
    "start_time": "2021-07-04T15:55:38.599Z"
   },
   {
    "duration": 28,
    "start_time": "2021-07-04T16:03:23.135Z"
   },
   {
    "duration": 18,
    "start_time": "2021-07-04T16:03:28.737Z"
   },
   {
    "duration": 1818,
    "start_time": "2021-07-04T16:17:53.298Z"
   },
   {
    "duration": 34,
    "start_time": "2021-07-04T16:17:55.732Z"
   },
   {
    "duration": 32,
    "start_time": "2021-07-04T16:17:56.465Z"
   },
   {
    "duration": 68,
    "start_time": "2021-07-04T16:17:58.596Z"
   },
   {
    "duration": 26,
    "start_time": "2021-07-04T16:18:00.171Z"
   },
   {
    "duration": 123,
    "start_time": "2021-07-04T16:19:00.313Z"
   },
   {
    "duration": 7,
    "start_time": "2021-07-04T16:24:35.901Z"
   },
   {
    "duration": 6,
    "start_time": "2021-07-04T16:24:36.507Z"
   },
   {
    "duration": 11,
    "start_time": "2021-07-04T16:24:41.066Z"
   },
   {
    "duration": 7,
    "start_time": "2021-07-04T16:25:25.404Z"
   },
   {
    "duration": 11,
    "start_time": "2021-07-04T16:28:31.227Z"
   },
   {
    "duration": 9,
    "start_time": "2021-07-04T16:28:47.426Z"
   },
   {
    "duration": 2355,
    "start_time": "2021-07-04T16:34:26.324Z"
   },
   {
    "duration": 48,
    "start_time": "2021-07-04T16:34:29.829Z"
   },
   {
    "duration": 51,
    "start_time": "2021-07-04T16:34:30.082Z"
   },
   {
    "duration": 91,
    "start_time": "2021-07-04T16:34:30.389Z"
   },
   {
    "duration": 28,
    "start_time": "2021-07-04T16:34:32.087Z"
   },
   {
    "duration": 7,
    "start_time": "2021-07-04T16:34:49.324Z"
   },
   {
    "duration": 8,
    "start_time": "2021-07-04T16:34:50.166Z"
   },
   {
    "duration": 14,
    "start_time": "2021-07-04T16:34:53.356Z"
   },
   {
    "duration": 16,
    "start_time": "2021-07-04T16:34:56.156Z"
   },
   {
    "duration": 10,
    "start_time": "2021-07-04T16:35:00.524Z"
   },
   {
    "duration": 1719,
    "start_time": "2021-07-04T16:35:34.778Z"
   },
   {
    "duration": 35,
    "start_time": "2021-07-04T16:35:36.500Z"
   },
   {
    "duration": 46,
    "start_time": "2021-07-04T16:35:36.538Z"
   },
   {
    "duration": 89,
    "start_time": "2021-07-04T16:35:36.587Z"
   },
   {
    "duration": 22,
    "start_time": "2021-07-04T16:35:36.679Z"
   },
   {
    "duration": 9,
    "start_time": "2021-07-04T16:35:39.355Z"
   },
   {
    "duration": 9,
    "start_time": "2021-07-04T16:35:39.967Z"
   },
   {
    "duration": 14,
    "start_time": "2021-07-04T16:35:42.123Z"
   },
   {
    "duration": 16,
    "start_time": "2021-07-04T16:35:42.817Z"
   },
   {
    "duration": 1628,
    "start_time": "2021-07-04T16:36:43.322Z"
   },
   {
    "duration": 33,
    "start_time": "2021-07-04T16:36:44.953Z"
   },
   {
    "duration": 47,
    "start_time": "2021-07-04T16:36:44.989Z"
   },
   {
    "duration": 78,
    "start_time": "2021-07-04T16:36:45.038Z"
   },
   {
    "duration": 20,
    "start_time": "2021-07-04T16:36:46.026Z"
   },
   {
    "duration": 8,
    "start_time": "2021-07-04T16:36:48.849Z"
   },
   {
    "duration": 6,
    "start_time": "2021-07-04T16:36:49.268Z"
   },
   {
    "duration": 9,
    "start_time": "2021-07-04T16:36:51.327Z"
   },
   {
    "duration": 20,
    "start_time": "2021-07-04T16:36:52.061Z"
   },
   {
    "duration": 15,
    "start_time": "2021-07-04T16:36:55.159Z"
   },
   {
    "duration": 1992,
    "start_time": "2021-07-04T16:37:55.487Z"
   },
   {
    "duration": 42,
    "start_time": "2021-07-04T16:37:57.483Z"
   },
   {
    "duration": 59,
    "start_time": "2021-07-04T16:37:57.528Z"
   },
   {
    "duration": 86,
    "start_time": "2021-07-04T16:37:57.590Z"
   },
   {
    "duration": 20,
    "start_time": "2021-07-04T16:37:57.679Z"
   },
   {
    "duration": 16,
    "start_time": "2021-07-04T16:37:58.592Z"
   },
   {
    "duration": 7,
    "start_time": "2021-07-04T16:37:59.130Z"
   },
   {
    "duration": 16,
    "start_time": "2021-07-04T16:38:01.218Z"
   },
   {
    "duration": 19,
    "start_time": "2021-07-04T16:38:01.935Z"
   },
   {
    "duration": 14,
    "start_time": "2021-07-04T16:38:02.670Z"
   },
   {
    "duration": 2073,
    "start_time": "2021-07-04T16:40:03.854Z"
   },
   {
    "duration": 50,
    "start_time": "2021-07-04T16:40:05.930Z"
   },
   {
    "duration": 45,
    "start_time": "2021-07-04T16:40:05.984Z"
   },
   {
    "duration": 109,
    "start_time": "2021-07-04T16:40:06.033Z"
   },
   {
    "duration": 31,
    "start_time": "2021-07-04T16:40:06.145Z"
   },
   {
    "duration": 7,
    "start_time": "2021-07-04T16:40:07.789Z"
   },
   {
    "duration": 6,
    "start_time": "2021-07-04T16:40:07.918Z"
   },
   {
    "duration": 9,
    "start_time": "2021-07-04T16:40:09.986Z"
   },
   {
    "duration": 14,
    "start_time": "2021-07-04T16:40:10.688Z"
   },
   {
    "duration": 9,
    "start_time": "2021-07-04T16:40:11.307Z"
   },
   {
    "duration": 2016,
    "start_time": "2021-07-04T16:42:46.326Z"
   },
   {
    "duration": 46,
    "start_time": "2021-07-04T16:42:48.346Z"
   },
   {
    "duration": 66,
    "start_time": "2021-07-04T16:42:48.396Z"
   },
   {
    "duration": 107,
    "start_time": "2021-07-04T16:42:48.465Z"
   },
   {
    "duration": 40,
    "start_time": "2021-07-04T16:42:48.575Z"
   },
   {
    "duration": 9,
    "start_time": "2021-07-04T16:42:52.112Z"
   },
   {
    "duration": 6,
    "start_time": "2021-07-04T16:42:53.560Z"
   },
   {
    "duration": 13,
    "start_time": "2021-07-04T16:42:57.019Z"
   },
   {
    "duration": 1734,
    "start_time": "2021-07-04T16:42:58.182Z"
   },
   {
    "duration": 1508,
    "start_time": "2021-07-04T16:47:51.766Z"
   },
   {
    "duration": 1575,
    "start_time": "2021-07-04T16:48:18.221Z"
   },
   {
    "duration": 17,
    "start_time": "2021-07-04T16:48:33.076Z"
   },
   {
    "duration": 10,
    "start_time": "2021-07-04T16:48:33.935Z"
   },
   {
    "duration": 1647,
    "start_time": "2021-07-04T16:52:12.343Z"
   },
   {
    "duration": 34,
    "start_time": "2021-07-04T16:52:13.993Z"
   },
   {
    "duration": 43,
    "start_time": "2021-07-04T16:52:14.030Z"
   },
   {
    "duration": 63,
    "start_time": "2021-07-04T16:52:14.076Z"
   },
   {
    "duration": 42,
    "start_time": "2021-07-04T16:52:14.142Z"
   },
   {
    "duration": 7,
    "start_time": "2021-07-04T16:52:17.287Z"
   },
   {
    "duration": 6,
    "start_time": "2021-07-04T16:52:17.647Z"
   },
   {
    "duration": 11,
    "start_time": "2021-07-04T16:52:20.016Z"
   },
   {
    "duration": 106,
    "start_time": "2021-07-04T16:52:20.630Z"
   },
   {
    "duration": 199,
    "start_time": "2021-07-04T16:53:08.474Z"
   },
   {
    "duration": 15,
    "start_time": "2021-07-04T16:54:33.721Z"
   },
   {
    "duration": 14,
    "start_time": "2021-07-04T16:54:34.545Z"
   },
   {
    "duration": 1619,
    "start_time": "2021-07-04T16:56:13.577Z"
   },
   {
    "duration": 36,
    "start_time": "2021-07-04T16:56:15.198Z"
   },
   {
    "duration": 41,
    "start_time": "2021-07-04T16:56:15.237Z"
   },
   {
    "duration": 104,
    "start_time": "2021-07-04T16:56:15.280Z"
   },
   {
    "duration": 21,
    "start_time": "2021-07-04T16:56:15.387Z"
   },
   {
    "duration": 8,
    "start_time": "2021-07-04T16:56:18.458Z"
   },
   {
    "duration": 6,
    "start_time": "2021-07-04T16:56:19.037Z"
   },
   {
    "duration": 10,
    "start_time": "2021-07-04T16:56:21.329Z"
   },
   {
    "duration": 490,
    "start_time": "2021-07-04T16:56:21.925Z"
   },
   {
    "duration": 9,
    "start_time": "2021-07-04T16:56:23.879Z"
   },
   {
    "duration": 102,
    "start_time": "2021-07-04T16:57:46.611Z"
   },
   {
    "duration": 17,
    "start_time": "2021-07-04T16:58:24.233Z"
   },
   {
    "duration": 24,
    "start_time": "2021-07-04T16:58:29.233Z"
   },
   {
    "duration": 1150,
    "start_time": "2021-07-04T16:58:29.786Z"
   },
   {
    "duration": 9,
    "start_time": "2021-07-04T17:18:48.019Z"
   },
   {
    "duration": 9,
    "start_time": "2021-07-04T17:18:48.414Z"
   },
   {
    "duration": 33,
    "start_time": "2021-07-04T17:18:48.923Z"
   },
   {
    "duration": 7,
    "start_time": "2021-07-04T17:18:57.172Z"
   },
   {
    "duration": 489,
    "start_time": "2021-07-04T17:25:10.662Z"
   },
   {
    "duration": 28,
    "start_time": "2021-07-04T17:26:18.857Z"
   },
   {
    "duration": 34,
    "start_time": "2021-07-04T17:27:20.800Z"
   },
   {
    "duration": 20,
    "start_time": "2021-07-04T17:27:22.461Z"
   },
   {
    "duration": 18898,
    "start_time": "2021-07-04T17:27:36.420Z"
   },
   {
    "duration": 9,
    "start_time": "2021-07-04T17:27:55.321Z"
   },
   {
    "duration": 229,
    "start_time": "2021-07-04T17:27:55.334Z"
   },
   {
    "duration": 376,
    "start_time": "2021-07-04T17:27:55.566Z"
   },
   {
    "duration": 29,
    "start_time": "2021-07-04T17:29:49.126Z"
   },
   {
    "duration": 517,
    "start_time": "2021-07-04T17:30:18.499Z"
   },
   {
    "duration": 90,
    "start_time": "2021-07-04T17:30:20.577Z"
   },
   {
    "duration": 21,
    "start_time": "2021-07-04T17:30:58.785Z"
   },
   {
    "duration": 257,
    "start_time": "2021-07-04T17:31:03.826Z"
   },
   {
    "duration": 186,
    "start_time": "2021-07-04T17:31:06.877Z"
   },
   {
    "duration": 5,
    "start_time": "2021-07-04T17:52:15.056Z"
   },
   {
    "duration": 15,
    "start_time": "2021-07-04T17:52:24.506Z"
   },
   {
    "duration": 363,
    "start_time": "2021-07-04T18:04:31.727Z"
   },
   {
    "duration": 402,
    "start_time": "2021-07-04T18:04:44.559Z"
   },
   {
    "duration": 365,
    "start_time": "2021-07-04T18:04:52.358Z"
   },
   {
    "duration": 29,
    "start_time": "2021-07-04T18:04:54.259Z"
   },
   {
    "duration": 567,
    "start_time": "2021-07-04T18:04:58.597Z"
   },
   {
    "duration": 10,
    "start_time": "2021-07-04T18:48:33.211Z"
   },
   {
    "duration": 499,
    "start_time": "2021-07-04T18:48:33.937Z"
   },
   {
    "duration": 61,
    "start_time": "2021-07-04T18:48:35.212Z"
   },
   {
    "duration": 21256,
    "start_time": "2021-07-04T18:53:47.784Z"
   },
   {
    "duration": 10,
    "start_time": "2021-07-04T18:55:57.321Z"
   },
   {
    "duration": 30,
    "start_time": "2021-07-04T18:58:48.383Z"
   },
   {
    "duration": 518,
    "start_time": "2021-07-04T19:10:09.946Z"
   },
   {
    "duration": 1683,
    "start_time": "2021-07-04T19:21:02.753Z"
   },
   {
    "duration": 41,
    "start_time": "2021-07-04T19:21:04.440Z"
   },
   {
    "duration": 45,
    "start_time": "2021-07-04T19:21:04.485Z"
   },
   {
    "duration": 90,
    "start_time": "2021-07-04T19:21:04.533Z"
   },
   {
    "duration": 20,
    "start_time": "2021-07-04T19:21:04.625Z"
   },
   {
    "duration": 9,
    "start_time": "2021-07-04T19:21:11.181Z"
   },
   {
    "duration": 6,
    "start_time": "2021-07-04T19:21:11.788Z"
   },
   {
    "duration": 12,
    "start_time": "2021-07-04T19:21:13.915Z"
   },
   {
    "duration": 503,
    "start_time": "2021-07-04T19:21:14.494Z"
   },
   {
    "duration": 13,
    "start_time": "2021-07-04T19:21:14.999Z"
   },
   {
    "duration": 14,
    "start_time": "2021-07-04T19:21:18.698Z"
   },
   {
    "duration": 25,
    "start_time": "2021-07-04T19:21:20.955Z"
   },
   {
    "duration": 980,
    "start_time": "2021-07-04T19:21:21.165Z"
   },
   {
    "duration": 10,
    "start_time": "2021-07-04T19:21:25.430Z"
   },
   {
    "duration": 14,
    "start_time": "2021-07-04T19:21:25.581Z"
   },
   {
    "duration": 60,
    "start_time": "2021-07-04T19:21:25.723Z"
   },
   {
    "duration": 9,
    "start_time": "2021-07-04T19:21:28.396Z"
   },
   {
    "duration": 49,
    "start_time": "2021-07-04T19:21:30.844Z"
   },
   {
    "duration": 33,
    "start_time": "2021-07-04T19:21:36.081Z"
   },
   {
    "duration": 17,
    "start_time": "2021-07-04T19:21:38.351Z"
   },
   {
    "duration": 16436,
    "start_time": "2021-07-04T19:21:41.452Z"
   },
   {
    "duration": 9,
    "start_time": "2021-07-04T19:22:50.427Z"
   },
   {
    "duration": 54,
    "start_time": "2021-07-04T19:23:00.924Z"
   },
   {
    "duration": 257,
    "start_time": "2021-07-04T19:23:13.922Z"
   },
   {
    "duration": 249,
    "start_time": "2021-07-04T19:23:25.154Z"
   },
   {
    "duration": 27,
    "start_time": "2021-07-04T19:23:34.867Z"
   },
   {
    "duration": 573,
    "start_time": "2021-07-04T19:23:37.078Z"
   },
   {
    "duration": 149,
    "start_time": "2021-07-04T19:23:48.615Z"
   },
   {
    "duration": 21,
    "start_time": "2021-07-04T19:23:53.715Z"
   },
   {
    "duration": 260,
    "start_time": "2021-07-04T19:23:54.259Z"
   },
   {
    "duration": 45,
    "start_time": "2021-07-04T19:23:56.019Z"
   },
   {
    "duration": 372,
    "start_time": "2021-07-04T19:25:51.386Z"
   },
   {
    "duration": 29,
    "start_time": "2021-07-04T19:25:55.690Z"
   },
   {
    "duration": 111,
    "start_time": "2021-07-04T19:26:06.238Z"
   },
   {
    "duration": 9,
    "start_time": "2021-07-04T19:26:36.224Z"
   },
   {
    "duration": 6,
    "start_time": "2021-07-04T19:27:09.231Z"
   },
   {
    "duration": 7,
    "start_time": "2021-07-04T19:27:19.221Z"
   },
   {
    "duration": 7,
    "start_time": "2021-07-04T19:31:19.788Z"
   },
   {
    "duration": 378,
    "start_time": "2021-07-04T19:31:23.020Z"
   },
   {
    "duration": 5,
    "start_time": "2021-07-04T19:31:36.791Z"
   },
   {
    "duration": 487,
    "start_time": "2021-07-04T19:33:10.452Z"
   },
   {
    "duration": 920,
    "start_time": "2021-07-04T19:34:18.115Z"
   },
   {
    "duration": 6,
    "start_time": "2021-07-04T19:35:08.912Z"
   },
   {
    "duration": 354,
    "start_time": "2021-07-04T19:35:11.467Z"
   },
   {
    "duration": 279,
    "start_time": "2021-07-04T19:35:12.068Z"
   },
   {
    "duration": 7,
    "start_time": "2021-07-04T19:36:04.942Z"
   },
   {
    "duration": 378,
    "start_time": "2021-07-04T19:36:06.111Z"
   },
   {
    "duration": 278,
    "start_time": "2021-07-04T19:36:06.510Z"
   },
   {
    "duration": 6,
    "start_time": "2021-07-04T19:38:20.433Z"
   },
   {
    "duration": 667,
    "start_time": "2021-07-04T19:38:24.416Z"
   },
   {
    "duration": 6,
    "start_time": "2021-07-04T19:44:36.921Z"
   },
   {
    "duration": 730,
    "start_time": "2021-07-04T19:44:37.687Z"
   },
   {
    "duration": 6,
    "start_time": "2021-07-04T19:44:45.708Z"
   },
   {
    "duration": 751,
    "start_time": "2021-07-04T19:44:46.568Z"
   },
   {
    "duration": 6,
    "start_time": "2021-07-04T19:45:10.757Z"
   },
   {
    "duration": 800,
    "start_time": "2021-07-04T19:45:11.465Z"
   },
   {
    "duration": 11,
    "start_time": "2021-07-04T19:46:13.452Z"
   },
   {
    "duration": 835,
    "start_time": "2021-07-04T19:46:14.757Z"
   },
   {
    "duration": 764,
    "start_time": "2021-07-04T19:47:38.716Z"
   },
   {
    "duration": 10,
    "start_time": "2021-07-04T19:52:31.775Z"
   },
   {
    "duration": 865,
    "start_time": "2021-07-04T19:52:34.076Z"
   },
   {
    "duration": 823,
    "start_time": "2021-07-04T19:52:43.679Z"
   },
   {
    "duration": 7,
    "start_time": "2021-07-04T19:53:00.633Z"
   },
   {
    "duration": 758,
    "start_time": "2021-07-04T19:53:01.583Z"
   },
   {
    "duration": 10,
    "start_time": "2021-07-04T19:53:57.769Z"
   },
   {
    "duration": 807,
    "start_time": "2021-07-04T19:53:59.802Z"
   },
   {
    "duration": 664,
    "start_time": "2021-07-04T19:54:05.802Z"
   },
   {
    "duration": 12,
    "start_time": "2021-07-04T19:57:42.709Z"
   },
   {
    "duration": 463,
    "start_time": "2021-07-04T19:57:44.123Z"
   },
   {
    "duration": 183,
    "start_time": "2021-07-04T19:57:46.378Z"
   },
   {
    "duration": 18471,
    "start_time": "2021-07-04T19:58:02.024Z"
   },
   {
    "duration": 10,
    "start_time": "2021-07-04T19:59:42.517Z"
   },
   {
    "duration": 119,
    "start_time": "2021-07-04T20:02:45.049Z"
   },
   {
    "duration": 17677,
    "start_time": "2021-07-04T20:05:22.696Z"
   },
   {
    "duration": 10,
    "start_time": "2021-07-04T20:05:48.938Z"
   },
   {
    "duration": 17,
    "start_time": "2021-07-04T20:06:40.090Z"
   },
   {
    "duration": 70,
    "start_time": "2021-07-04T20:08:08.394Z"
   },
   {
    "duration": 15,
    "start_time": "2021-07-04T20:09:40.091Z"
   },
   {
    "duration": 97,
    "start_time": "2021-07-04T20:10:08.628Z"
   },
   {
    "duration": 17,
    "start_time": "2021-07-04T20:10:13.731Z"
   },
   {
    "duration": 96,
    "start_time": "2021-07-04T20:13:49.418Z"
   },
   {
    "duration": 423,
    "start_time": "2021-07-04T20:14:34.480Z"
   },
   {
    "duration": 7,
    "start_time": "2021-07-04T20:24:16.747Z"
   },
   {
    "duration": 18710,
    "start_time": "2021-07-04T20:25:10.826Z"
   },
   {
    "duration": 9,
    "start_time": "2021-07-04T20:27:22.163Z"
   },
   {
    "duration": 18949,
    "start_time": "2021-07-04T20:27:29.330Z"
   },
   {
    "duration": 13,
    "start_time": "2021-07-04T20:27:53.377Z"
   },
   {
    "duration": 500,
    "start_time": "2021-07-04T20:28:41.048Z"
   },
   {
    "duration": 9,
    "start_time": "2021-07-04T20:30:22.720Z"
   },
   {
    "duration": 458,
    "start_time": "2021-07-04T20:30:27.351Z"
   },
   {
    "duration": 585,
    "start_time": "2021-07-04T20:30:58.567Z"
   },
   {
    "duration": 18612,
    "start_time": "2021-07-04T20:31:56.908Z"
   },
   {
    "duration": 7,
    "start_time": "2021-07-04T20:34:50.449Z"
   },
   {
    "duration": 19083,
    "start_time": "2021-07-04T20:34:52.531Z"
   },
   {
    "duration": 9,
    "start_time": "2021-07-04T20:35:11.617Z"
   },
   {
    "duration": 494,
    "start_time": "2021-07-04T20:35:11.633Z"
   },
   {
    "duration": 6,
    "start_time": "2021-07-04T20:36:53.547Z"
   },
   {
    "duration": 20511,
    "start_time": "2021-07-04T20:36:54.796Z"
   },
   {
    "duration": 11,
    "start_time": "2021-07-04T20:37:15.310Z"
   },
   {
    "duration": 598,
    "start_time": "2021-07-04T20:37:15.324Z"
   },
   {
    "duration": 19154,
    "start_time": "2021-07-04T20:37:39.161Z"
   },
   {
    "duration": 671,
    "start_time": "2021-07-04T20:37:58.318Z"
   },
   {
    "duration": 6,
    "start_time": "2021-07-04T20:39:34.295Z"
   },
   {
    "duration": 17454,
    "start_time": "2021-07-04T20:39:35.920Z"
   },
   {
    "duration": 9,
    "start_time": "2021-07-04T20:39:53.377Z"
   },
   {
    "duration": 524,
    "start_time": "2021-07-04T20:39:53.389Z"
   },
   {
    "duration": 8,
    "start_time": "2021-07-04T20:41:10.701Z"
   },
   {
    "duration": 18901,
    "start_time": "2021-07-04T20:41:15.310Z"
   },
   {
    "duration": 10,
    "start_time": "2021-07-04T20:41:34.214Z"
   },
   {
    "duration": 641,
    "start_time": "2021-07-04T20:41:34.226Z"
   },
   {
    "duration": 130,
    "start_time": "2021-07-04T20:42:52.881Z"
   },
   {
    "duration": 16,
    "start_time": "2021-07-04T21:08:24.168Z"
   },
   {
    "duration": 345,
    "start_time": "2021-07-04T21:09:03.734Z"
   },
   {
    "duration": 11,
    "start_time": "2021-07-04T21:09:26.841Z"
   },
   {
    "duration": 19,
    "start_time": "2021-07-04T21:10:35.607Z"
   },
   {
    "duration": 12,
    "start_time": "2021-07-04T21:10:57.722Z"
   },
   {
    "duration": 13,
    "start_time": "2021-07-04T21:11:22.056Z"
   },
   {
    "duration": 19,
    "start_time": "2021-07-04T21:12:30.461Z"
   },
   {
    "duration": 13,
    "start_time": "2021-07-04T21:12:46.758Z"
   },
   {
    "duration": 145,
    "start_time": "2021-07-04T21:22:33.651Z"
   },
   {
    "duration": 13,
    "start_time": "2021-07-04T21:22:41.347Z"
   },
   {
    "duration": 323,
    "start_time": "2021-07-04T21:23:33.445Z"
   },
   {
    "duration": 329,
    "start_time": "2021-07-04T21:23:42.670Z"
   },
   {
    "duration": 13,
    "start_time": "2021-07-04T21:24:08.410Z"
   },
   {
    "duration": 13,
    "start_time": "2021-07-04T21:26:52.681Z"
   },
   {
    "duration": 2222,
    "start_time": "2021-07-04T21:28:42.319Z"
   },
   {
    "duration": 47,
    "start_time": "2021-07-04T21:28:44.544Z"
   },
   {
    "duration": 35,
    "start_time": "2021-07-04T21:28:44.596Z"
   },
   {
    "duration": 91,
    "start_time": "2021-07-04T21:28:44.635Z"
   },
   {
    "duration": 37,
    "start_time": "2021-07-04T21:28:44.729Z"
   },
   {
    "duration": 9,
    "start_time": "2021-07-04T21:28:44.769Z"
   },
   {
    "duration": 7,
    "start_time": "2021-07-04T21:28:44.781Z"
   },
   {
    "duration": 10,
    "start_time": "2021-07-04T21:28:44.794Z"
   },
   {
    "duration": 559,
    "start_time": "2021-07-04T21:28:44.808Z"
   },
   {
    "duration": 9,
    "start_time": "2021-07-04T21:28:45.369Z"
   },
   {
    "duration": 21,
    "start_time": "2021-07-04T21:28:45.381Z"
   },
   {
    "duration": 23,
    "start_time": "2021-07-04T21:28:45.404Z"
   },
   {
    "duration": 1687,
    "start_time": "2021-07-04T21:28:45.432Z"
   },
   {
    "duration": 12,
    "start_time": "2021-07-04T21:28:47.123Z"
   },
   {
    "duration": 45,
    "start_time": "2021-07-04T21:28:47.138Z"
   },
   {
    "duration": 38,
    "start_time": "2021-07-04T21:28:47.186Z"
   },
   {
    "duration": 6,
    "start_time": "2021-07-04T21:28:47.226Z"
   },
   {
    "duration": 46,
    "start_time": "2021-07-04T21:28:47.234Z"
   },
   {
    "duration": 49,
    "start_time": "2021-07-04T21:28:47.284Z"
   },
   {
    "duration": 41,
    "start_time": "2021-07-04T21:28:47.337Z"
   },
   {
    "duration": 16664,
    "start_time": "2021-07-04T21:28:47.381Z"
   },
   {
    "duration": 18,
    "start_time": "2021-07-04T21:29:04.047Z"
   },
   {
    "duration": 93,
    "start_time": "2021-07-04T21:29:04.073Z"
   },
   {
    "duration": 366,
    "start_time": "2021-07-04T21:29:04.170Z"
   },
   {
    "duration": 29,
    "start_time": "2021-07-04T21:29:04.538Z"
   },
   {
    "duration": 550,
    "start_time": "2021-07-04T21:29:04.569Z"
   },
   {
    "duration": 142,
    "start_time": "2021-07-04T21:29:05.121Z"
   },
   {
    "duration": 108,
    "start_time": "2021-07-04T21:29:05.267Z"
   },
   {
    "duration": 252,
    "start_time": "2021-07-04T21:29:05.377Z"
   },
   {
    "duration": 33,
    "start_time": "2021-07-04T21:29:05.631Z"
   },
   {
    "duration": 95,
    "start_time": "2021-07-04T21:29:05.667Z"
   },
   {
    "duration": 917,
    "start_time": "2021-07-04T21:29:05.766Z"
   },
   {
    "duration": 948,
    "start_time": "2021-07-04T21:29:06.685Z"
   },
   {
    "duration": 10,
    "start_time": "2021-07-04T21:29:07.636Z"
   },
   {
    "duration": 474,
    "start_time": "2021-07-04T21:29:07.663Z"
   },
   {
    "duration": 48,
    "start_time": "2021-07-04T21:29:08.140Z"
   },
   {
    "duration": 73,
    "start_time": "2021-07-04T21:29:08.190Z"
   },
   {
    "duration": 18637,
    "start_time": "2021-07-04T21:29:08.265Z"
   },
   {
    "duration": 12,
    "start_time": "2021-07-04T21:29:26.906Z"
   },
   {
    "duration": 707,
    "start_time": "2021-07-04T21:29:26.920Z"
   },
   {
    "duration": 33,
    "start_time": "2021-07-04T21:29:27.629Z"
   },
   {
    "duration": 106,
    "start_time": "2021-07-04T21:29:27.665Z"
   },
   {
    "duration": 99,
    "start_time": "2021-07-04T21:29:27.775Z"
   },
   {
    "duration": 1611,
    "start_time": "2021-07-04T21:56:42.529Z"
   },
   {
    "duration": 38,
    "start_time": "2021-07-04T21:56:44.143Z"
   },
   {
    "duration": 35,
    "start_time": "2021-07-04T21:56:44.184Z"
   },
   {
    "duration": 93,
    "start_time": "2021-07-04T21:56:44.223Z"
   },
   {
    "duration": 21,
    "start_time": "2021-07-04T21:56:44.319Z"
   },
   {
    "duration": 29,
    "start_time": "2021-07-04T21:56:44.342Z"
   },
   {
    "duration": 8,
    "start_time": "2021-07-04T21:56:44.374Z"
   },
   {
    "duration": 11,
    "start_time": "2021-07-04T21:56:44.388Z"
   },
   {
    "duration": 556,
    "start_time": "2021-07-04T21:56:44.403Z"
   },
   {
    "duration": 12,
    "start_time": "2021-07-04T21:56:44.962Z"
   },
   {
    "duration": 20,
    "start_time": "2021-07-04T21:56:44.977Z"
   },
   {
    "duration": 24,
    "start_time": "2021-07-04T21:56:45.000Z"
   },
   {
    "duration": 1069,
    "start_time": "2021-07-04T21:56:45.028Z"
   },
   {
    "duration": 9,
    "start_time": "2021-07-04T21:56:46.099Z"
   },
   {
    "duration": 12,
    "start_time": "2021-07-04T21:56:46.111Z"
   },
   {
    "duration": 63,
    "start_time": "2021-07-04T21:56:46.126Z"
   },
   {
    "duration": 9,
    "start_time": "2021-07-04T21:56:46.192Z"
   },
   {
    "duration": 67,
    "start_time": "2021-07-04T21:56:46.203Z"
   },
   {
    "duration": 33,
    "start_time": "2021-07-04T21:56:46.273Z"
   },
   {
    "duration": 18,
    "start_time": "2021-07-04T21:56:46.309Z"
   },
   {
    "duration": 15189,
    "start_time": "2021-07-04T21:56:46.362Z"
   },
   {
    "duration": 16,
    "start_time": "2021-07-04T21:57:01.554Z"
   },
   {
    "duration": 95,
    "start_time": "2021-07-04T21:57:01.575Z"
   },
   {
    "duration": 356,
    "start_time": "2021-07-04T21:57:01.674Z"
   },
   {
    "duration": 42,
    "start_time": "2021-07-04T21:57:02.033Z"
   },
   {
    "duration": 538,
    "start_time": "2021-07-04T21:57:02.077Z"
   },
   {
    "duration": 151,
    "start_time": "2021-07-04T21:57:02.618Z"
   },
   {
    "duration": 105,
    "start_time": "2021-07-04T21:57:02.774Z"
   },
   {
    "duration": 213,
    "start_time": "2021-07-04T21:57:02.882Z"
   },
   {
    "duration": 72,
    "start_time": "2021-07-04T21:57:03.097Z"
   },
   {
    "duration": 96,
    "start_time": "2021-07-04T21:57:03.172Z"
   },
   {
    "duration": 1256,
    "start_time": "2021-07-04T21:57:03.271Z"
   },
   {
    "duration": 1047,
    "start_time": "2021-07-04T21:57:04.531Z"
   },
   {
    "duration": 13,
    "start_time": "2021-07-04T21:57:05.581Z"
   },
   {
    "duration": 671,
    "start_time": "2021-07-04T21:57:05.597Z"
   },
   {
    "duration": 105,
    "start_time": "2021-07-04T21:57:06.272Z"
   },
   {
    "duration": 9,
    "start_time": "2021-07-04T21:57:06.464Z"
   },
   {
    "duration": 24878,
    "start_time": "2021-07-04T21:57:06.564Z"
   },
   {
    "duration": 27,
    "start_time": "2021-07-04T21:57:31.445Z"
   },
   {
    "duration": 664,
    "start_time": "2021-07-04T21:57:31.475Z"
   },
   {
    "duration": 41,
    "start_time": "2021-07-04T21:57:32.142Z"
   },
   {
    "duration": 80,
    "start_time": "2021-07-04T21:57:32.186Z"
   },
   {
    "duration": 96,
    "start_time": "2021-07-04T21:57:32.268Z"
   },
   {
    "duration": 1601,
    "start_time": "2021-07-04T21:58:38.551Z"
   },
   {
    "duration": 36,
    "start_time": "2021-07-04T21:58:40.155Z"
   },
   {
    "duration": 32,
    "start_time": "2021-07-04T21:58:40.198Z"
   },
   {
    "duration": 81,
    "start_time": "2021-07-04T21:58:40.233Z"
   },
   {
    "duration": 20,
    "start_time": "2021-07-04T21:58:40.316Z"
   },
   {
    "duration": 7,
    "start_time": "2021-07-04T21:58:40.362Z"
   },
   {
    "duration": 8,
    "start_time": "2021-07-04T21:58:40.375Z"
   },
   {
    "duration": 10,
    "start_time": "2021-07-04T21:58:40.386Z"
   },
   {
    "duration": 782,
    "start_time": "2021-07-04T21:58:40.398Z"
   },
   {
    "duration": 11,
    "start_time": "2021-07-04T21:58:41.183Z"
   },
   {
    "duration": 20,
    "start_time": "2021-07-04T21:58:41.197Z"
   },
   {
    "duration": 52,
    "start_time": "2021-07-04T21:58:41.220Z"
   },
   {
    "duration": 1015,
    "start_time": "2021-07-04T21:58:41.275Z"
   },
   {
    "duration": 10,
    "start_time": "2021-07-04T21:58:42.292Z"
   },
   {
    "duration": 30,
    "start_time": "2021-07-04T21:58:42.305Z"
   },
   {
    "duration": 42,
    "start_time": "2021-07-04T21:58:42.338Z"
   },
   {
    "duration": 6,
    "start_time": "2021-07-04T21:58:42.382Z"
   },
   {
    "duration": 40,
    "start_time": "2021-07-04T21:58:42.392Z"
   },
   {
    "duration": 66,
    "start_time": "2021-07-04T21:58:42.436Z"
   },
   {
    "duration": 28,
    "start_time": "2021-07-04T21:58:42.513Z"
   },
   {
    "duration": 22282,
    "start_time": "2021-07-04T21:58:42.544Z"
   },
   {
    "duration": 11,
    "start_time": "2021-07-04T21:59:04.834Z"
   },
   {
    "duration": 106,
    "start_time": "2021-07-04T21:59:04.864Z"
   },
   {
    "duration": 495,
    "start_time": "2021-07-04T21:59:04.973Z"
   },
   {
    "duration": 29,
    "start_time": "2021-07-04T21:59:05.472Z"
   },
   {
    "duration": 731,
    "start_time": "2021-07-04T21:59:05.504Z"
   },
   {
    "duration": 225,
    "start_time": "2021-07-04T21:59:06.238Z"
   },
   {
    "duration": 27,
    "start_time": "2021-07-04T21:59:06.466Z"
   },
   {
    "duration": 419,
    "start_time": "2021-07-04T21:59:06.497Z"
   },
   {
    "duration": 147,
    "start_time": "2021-07-04T21:59:06.920Z"
   },
   {
    "duration": 95,
    "start_time": "2021-07-04T21:59:07.072Z"
   },
   {
    "duration": 767,
    "start_time": "2021-07-04T21:59:07.170Z"
   },
   {
    "duration": 697,
    "start_time": "2021-07-04T21:59:07.939Z"
   },
   {
    "duration": 24,
    "start_time": "2021-07-04T21:59:08.638Z"
   },
   {
    "duration": 472,
    "start_time": "2021-07-04T21:59:08.664Z"
   },
   {
    "duration": 50,
    "start_time": "2021-07-04T21:59:09.139Z"
   },
   {
    "duration": 74,
    "start_time": "2021-07-04T21:59:09.192Z"
   },
   {
    "duration": 18695,
    "start_time": "2021-07-04T21:59:09.269Z"
   },
   {
    "duration": 9,
    "start_time": "2021-07-04T21:59:27.966Z"
   },
   {
    "duration": 591,
    "start_time": "2021-07-04T21:59:27.977Z"
   },
   {
    "duration": 23,
    "start_time": "2021-07-04T21:59:28.570Z"
   },
   {
    "duration": 72,
    "start_time": "2021-07-04T21:59:28.595Z"
   },
   {
    "duration": 100,
    "start_time": "2021-07-04T21:59:28.670Z"
   }
  ],
  "kernelspec": {
   "display_name": "Python 3",
   "language": "python",
   "name": "python3"
  },
  "language_info": {
   "codemirror_mode": {
    "name": "ipython",
    "version": 3
   },
   "file_extension": ".py",
   "mimetype": "text/x-python",
   "name": "python",
   "nbconvert_exporter": "python",
   "pygments_lexer": "ipython3",
   "version": "3.8.5"
  },
  "toc": {
   "base_numbering": 1,
   "nav_menu": {},
   "number_sections": true,
   "sideBar": true,
   "skip_h1_title": true,
   "title_cell": "Содержание",
   "title_sidebar": "Contents",
   "toc_cell": true,
   "toc_position": {
    "height": "calc(100% - 180px)",
    "left": "10px",
    "top": "150px",
    "width": "366.391px"
   },
   "toc_section_display": true,
   "toc_window_display": true
  },
  "varInspector": {
   "cols": {
    "lenName": 16,
    "lenType": 16,
    "lenVar": 40
   },
   "kernels_config": {
    "python": {
     "delete_cmd_postfix": "",
     "delete_cmd_prefix": "del ",
     "library": "var_list.py",
     "varRefreshCmd": "print(var_dic_list())"
    },
    "r": {
     "delete_cmd_postfix": ") ",
     "delete_cmd_prefix": "rm(",
     "library": "var_list.r",
     "varRefreshCmd": "cat(var_dic_list()) "
    }
   },
   "types_to_exclude": [
    "module",
    "function",
    "builtin_function_or_method",
    "instance",
    "_Feature"
   ],
   "window_display": false
  }
 },
 "nbformat": 4,
 "nbformat_minor": 2
}
