{
 "cells": [
  {
   "cell_type": "markdown",
   "metadata": {
    "toc": true
   },
   "source": [
    "<h1>Содержание<span class=\"tocSkip\"></span></h1>\n",
    "<div class=\"toc\"><ul class=\"toc-item\"><li><span><a href=\"#Загрузка-данных\" data-toc-modified-id=\"Загрузка-данных-1\"><span class=\"toc-item-num\">1&nbsp;&nbsp;</span>Загрузка данных</a></span></li><li><span><a href=\"#Умножение-матриц\" data-toc-modified-id=\"Умножение-матриц-2\"><span class=\"toc-item-num\">2&nbsp;&nbsp;</span>Умножение матриц</a></span></li><li><span><a href=\"#Алгоритм-преобразования\" data-toc-modified-id=\"Алгоритм-преобразования-3\"><span class=\"toc-item-num\">3&nbsp;&nbsp;</span>Алгоритм преобразования</a></span></li><li><span><a href=\"#Проверка-алгоритма\" data-toc-modified-id=\"Проверка-алгоритма-4\"><span class=\"toc-item-num\">4&nbsp;&nbsp;</span>Проверка алгоритма</a></span><ul class=\"toc-item\"><li><span><a href=\"#Применение-алгоритма\" data-toc-modified-id=\"Применение-алгоритма-4.1\"><span class=\"toc-item-num\">4.1&nbsp;&nbsp;</span>Применение алгоритма</a></span></li><li><span><a href=\"#Проверка-качества-линейной-регрессии\" data-toc-modified-id=\"Проверка-качества-линейной-регрессии-4.2\"><span class=\"toc-item-num\">4.2&nbsp;&nbsp;</span>Проверка качества линейной регрессии</a></span></li></ul></li><li><span><a href=\"#Общий-вывод\" data-toc-modified-id=\"Общий-вывод-5\"><span class=\"toc-item-num\">5&nbsp;&nbsp;</span>Общий вывод</a></span></li></ul></div>"
   ]
  },
  {
   "cell_type": "markdown",
   "metadata": {},
   "source": [
    "## Загрузка данных"
   ]
  },
  {
   "cell_type": "code",
   "execution_count": 1,
   "metadata": {},
   "outputs": [],
   "source": [
    "import pandas as pd\n",
    "import numpy as np\n",
    "from sklearn.model_selection import train_test_split\n",
    "from sklearn.linear_model import LinearRegression\n",
    "from sklearn.metrics import r2_score"
   ]
  },
  {
   "cell_type": "code",
   "execution_count": 2,
   "metadata": {},
   "outputs": [],
   "source": [
    "data = pd.read_csv('/datasets/insurance.csv')"
   ]
  },
  {
   "cell_type": "code",
   "execution_count": 3,
   "metadata": {
    "scrolled": false
   },
   "outputs": [
    {
     "name": "stdout",
     "output_type": "stream",
     "text": [
      "<class 'pandas.core.frame.DataFrame'>\n",
      "RangeIndex: 5000 entries, 0 to 4999\n",
      "Data columns (total 5 columns):\n",
      "Пол                  5000 non-null int64\n",
      "Возраст              5000 non-null float64\n",
      "Зарплата             5000 non-null float64\n",
      "Члены семьи          5000 non-null int64\n",
      "Страховые выплаты    5000 non-null int64\n",
      "dtypes: float64(2), int64(3)\n",
      "memory usage: 195.4 KB\n"
     ]
    },
    {
     "data": {
      "text/html": [
       "<div>\n",
       "<style scoped>\n",
       "    .dataframe tbody tr th:only-of-type {\n",
       "        vertical-align: middle;\n",
       "    }\n",
       "\n",
       "    .dataframe tbody tr th {\n",
       "        vertical-align: top;\n",
       "    }\n",
       "\n",
       "    .dataframe thead th {\n",
       "        text-align: right;\n",
       "    }\n",
       "</style>\n",
       "<table border=\"1\" class=\"dataframe\">\n",
       "  <thead>\n",
       "    <tr style=\"text-align: right;\">\n",
       "      <th></th>\n",
       "      <th>Пол</th>\n",
       "      <th>Возраст</th>\n",
       "      <th>Зарплата</th>\n",
       "      <th>Члены семьи</th>\n",
       "      <th>Страховые выплаты</th>\n",
       "    </tr>\n",
       "  </thead>\n",
       "  <tbody>\n",
       "    <tr>\n",
       "      <td>0</td>\n",
       "      <td>1</td>\n",
       "      <td>41.0</td>\n",
       "      <td>49600.0</td>\n",
       "      <td>1</td>\n",
       "      <td>0</td>\n",
       "    </tr>\n",
       "    <tr>\n",
       "      <td>1</td>\n",
       "      <td>0</td>\n",
       "      <td>46.0</td>\n",
       "      <td>38000.0</td>\n",
       "      <td>1</td>\n",
       "      <td>1</td>\n",
       "    </tr>\n",
       "    <tr>\n",
       "      <td>2</td>\n",
       "      <td>0</td>\n",
       "      <td>29.0</td>\n",
       "      <td>21000.0</td>\n",
       "      <td>0</td>\n",
       "      <td>0</td>\n",
       "    </tr>\n",
       "    <tr>\n",
       "      <td>3</td>\n",
       "      <td>0</td>\n",
       "      <td>21.0</td>\n",
       "      <td>41700.0</td>\n",
       "      <td>2</td>\n",
       "      <td>0</td>\n",
       "    </tr>\n",
       "    <tr>\n",
       "      <td>4</td>\n",
       "      <td>1</td>\n",
       "      <td>28.0</td>\n",
       "      <td>26100.0</td>\n",
       "      <td>0</td>\n",
       "      <td>0</td>\n",
       "    </tr>\n",
       "  </tbody>\n",
       "</table>\n",
       "</div>"
      ],
      "text/plain": [
       "   Пол  Возраст  Зарплата  Члены семьи  Страховые выплаты\n",
       "0    1     41.0   49600.0            1                  0\n",
       "1    0     46.0   38000.0            1                  1\n",
       "2    0     29.0   21000.0            0                  0\n",
       "3    0     21.0   41700.0            2                  0\n",
       "4    1     28.0   26100.0            0                  0"
      ]
     },
     "execution_count": 3,
     "metadata": {},
     "output_type": "execute_result"
    }
   ],
   "source": [
    "data.info()\n",
    "data.head()"
   ]
  },
  {
   "cell_type": "code",
   "execution_count": 4,
   "metadata": {},
   "outputs": [
    {
     "data": {
      "text/html": [
       "<div>\n",
       "<style scoped>\n",
       "    .dataframe tbody tr th:only-of-type {\n",
       "        vertical-align: middle;\n",
       "    }\n",
       "\n",
       "    .dataframe tbody tr th {\n",
       "        vertical-align: top;\n",
       "    }\n",
       "\n",
       "    .dataframe thead th {\n",
       "        text-align: right;\n",
       "    }\n",
       "</style>\n",
       "<table border=\"1\" class=\"dataframe\">\n",
       "  <thead>\n",
       "    <tr style=\"text-align: right;\">\n",
       "      <th></th>\n",
       "      <th>Пол</th>\n",
       "      <th>Возраст</th>\n",
       "      <th>Зарплата</th>\n",
       "      <th>Члены семьи</th>\n",
       "      <th>Страховые выплаты</th>\n",
       "    </tr>\n",
       "  </thead>\n",
       "  <tbody>\n",
       "    <tr>\n",
       "      <td>count</td>\n",
       "      <td>5000.000000</td>\n",
       "      <td>5000.000000</td>\n",
       "      <td>5000.000000</td>\n",
       "      <td>5000.000000</td>\n",
       "      <td>5000.000000</td>\n",
       "    </tr>\n",
       "    <tr>\n",
       "      <td>mean</td>\n",
       "      <td>0.499000</td>\n",
       "      <td>30.952800</td>\n",
       "      <td>39916.360000</td>\n",
       "      <td>1.194200</td>\n",
       "      <td>0.148000</td>\n",
       "    </tr>\n",
       "    <tr>\n",
       "      <td>std</td>\n",
       "      <td>0.500049</td>\n",
       "      <td>8.440807</td>\n",
       "      <td>9900.083569</td>\n",
       "      <td>1.091387</td>\n",
       "      <td>0.463183</td>\n",
       "    </tr>\n",
       "    <tr>\n",
       "      <td>min</td>\n",
       "      <td>0.000000</td>\n",
       "      <td>18.000000</td>\n",
       "      <td>5300.000000</td>\n",
       "      <td>0.000000</td>\n",
       "      <td>0.000000</td>\n",
       "    </tr>\n",
       "    <tr>\n",
       "      <td>25%</td>\n",
       "      <td>0.000000</td>\n",
       "      <td>24.000000</td>\n",
       "      <td>33300.000000</td>\n",
       "      <td>0.000000</td>\n",
       "      <td>0.000000</td>\n",
       "    </tr>\n",
       "    <tr>\n",
       "      <td>50%</td>\n",
       "      <td>0.000000</td>\n",
       "      <td>30.000000</td>\n",
       "      <td>40200.000000</td>\n",
       "      <td>1.000000</td>\n",
       "      <td>0.000000</td>\n",
       "    </tr>\n",
       "    <tr>\n",
       "      <td>75%</td>\n",
       "      <td>1.000000</td>\n",
       "      <td>37.000000</td>\n",
       "      <td>46600.000000</td>\n",
       "      <td>2.000000</td>\n",
       "      <td>0.000000</td>\n",
       "    </tr>\n",
       "    <tr>\n",
       "      <td>max</td>\n",
       "      <td>1.000000</td>\n",
       "      <td>65.000000</td>\n",
       "      <td>79000.000000</td>\n",
       "      <td>6.000000</td>\n",
       "      <td>5.000000</td>\n",
       "    </tr>\n",
       "  </tbody>\n",
       "</table>\n",
       "</div>"
      ],
      "text/plain": [
       "               Пол      Возраст      Зарплата  Члены семьи  Страховые выплаты\n",
       "count  5000.000000  5000.000000   5000.000000  5000.000000        5000.000000\n",
       "mean      0.499000    30.952800  39916.360000     1.194200           0.148000\n",
       "std       0.500049     8.440807   9900.083569     1.091387           0.463183\n",
       "min       0.000000    18.000000   5300.000000     0.000000           0.000000\n",
       "25%       0.000000    24.000000  33300.000000     0.000000           0.000000\n",
       "50%       0.000000    30.000000  40200.000000     1.000000           0.000000\n",
       "75%       1.000000    37.000000  46600.000000     2.000000           0.000000\n",
       "max       1.000000    65.000000  79000.000000     6.000000           5.000000"
      ]
     },
     "execution_count": 4,
     "metadata": {},
     "output_type": "execute_result"
    }
   ],
   "source": [
    "data.describe()"
   ]
  },
  {
   "cell_type": "code",
   "execution_count": 5,
   "metadata": {},
   "outputs": [
    {
     "data": {
      "text/plain": [
       "Пол                  0\n",
       "Возраст              0\n",
       "Зарплата             0\n",
       "Члены семьи          0\n",
       "Страховые выплаты    0\n",
       "dtype: int64"
      ]
     },
     "execution_count": 5,
     "metadata": {},
     "output_type": "execute_result"
    }
   ],
   "source": [
    "data.isna().sum()"
   ]
  },
  {
   "cell_type": "code",
   "execution_count": 6,
   "metadata": {},
   "outputs": [
    {
     "data": {
      "text/html": [
       "<div>\n",
       "<style scoped>\n",
       "    .dataframe tbody tr th:only-of-type {\n",
       "        vertical-align: middle;\n",
       "    }\n",
       "\n",
       "    .dataframe tbody tr th {\n",
       "        vertical-align: top;\n",
       "    }\n",
       "\n",
       "    .dataframe thead th {\n",
       "        text-align: right;\n",
       "    }\n",
       "</style>\n",
       "<table border=\"1\" class=\"dataframe\">\n",
       "  <thead>\n",
       "    <tr style=\"text-align: right;\">\n",
       "      <th></th>\n",
       "      <th>Пол</th>\n",
       "      <th>Возраст</th>\n",
       "      <th>Зарплата</th>\n",
       "      <th>Члены семьи</th>\n",
       "      <th>Страховые выплаты</th>\n",
       "    </tr>\n",
       "  </thead>\n",
       "  <tbody>\n",
       "    <tr>\n",
       "      <td>Пол</td>\n",
       "      <td>1.000000</td>\n",
       "      <td>0.002074</td>\n",
       "      <td>0.014910</td>\n",
       "      <td>-0.008991</td>\n",
       "      <td>0.010140</td>\n",
       "    </tr>\n",
       "    <tr>\n",
       "      <td>Возраст</td>\n",
       "      <td>0.002074</td>\n",
       "      <td>1.000000</td>\n",
       "      <td>-0.019093</td>\n",
       "      <td>-0.006692</td>\n",
       "      <td>0.651030</td>\n",
       "    </tr>\n",
       "    <tr>\n",
       "      <td>Зарплата</td>\n",
       "      <td>0.014910</td>\n",
       "      <td>-0.019093</td>\n",
       "      <td>1.000000</td>\n",
       "      <td>-0.030296</td>\n",
       "      <td>-0.014963</td>\n",
       "    </tr>\n",
       "    <tr>\n",
       "      <td>Члены семьи</td>\n",
       "      <td>-0.008991</td>\n",
       "      <td>-0.006692</td>\n",
       "      <td>-0.030296</td>\n",
       "      <td>1.000000</td>\n",
       "      <td>-0.036290</td>\n",
       "    </tr>\n",
       "    <tr>\n",
       "      <td>Страховые выплаты</td>\n",
       "      <td>0.010140</td>\n",
       "      <td>0.651030</td>\n",
       "      <td>-0.014963</td>\n",
       "      <td>-0.036290</td>\n",
       "      <td>1.000000</td>\n",
       "    </tr>\n",
       "  </tbody>\n",
       "</table>\n",
       "</div>"
      ],
      "text/plain": [
       "                        Пол   Возраст  Зарплата  Члены семьи  \\\n",
       "Пол                1.000000  0.002074  0.014910    -0.008991   \n",
       "Возраст            0.002074  1.000000 -0.019093    -0.006692   \n",
       "Зарплата           0.014910 -0.019093  1.000000    -0.030296   \n",
       "Члены семьи       -0.008991 -0.006692 -0.030296     1.000000   \n",
       "Страховые выплаты  0.010140  0.651030 -0.014963    -0.036290   \n",
       "\n",
       "                   Страховые выплаты  \n",
       "Пол                         0.010140  \n",
       "Возраст                     0.651030  \n",
       "Зарплата                   -0.014963  \n",
       "Члены семьи                -0.036290  \n",
       "Страховые выплаты           1.000000  "
      ]
     },
     "execution_count": 6,
     "metadata": {},
     "output_type": "execute_result"
    }
   ],
   "source": [
    "data.corr(method='pearson')"
   ]
  },
  {
   "cell_type": "code",
   "execution_count": 7,
   "metadata": {},
   "outputs": [],
   "source": [
    "y = data['Страховые выплаты']\n",
    "X = data.drop('Страховые выплаты', axis=1)\n",
    "X_train, X_valid, y_train, y_valid = train_test_split(X, y, test_size=0.25, random_state=123)"
   ]
  },
  {
   "cell_type": "markdown",
   "metadata": {},
   "source": [
    "**Вывод**\n",
    "\n",
    "Представлены данные клиентов страховой компании: пол, возраст, зарплата застрахованного и количество членов его семьи.\n",
    "\n",
    "Количество страховых выплат клиенту за последние 5 лет является целевым признаком.\n",
    "\n",
    "Пропусков в данных не обнаружено.\n",
    "\n",
    "Наблюдается небольшая корреляция между возрастом и совершением страховых выплат клиенту."
   ]
  },
  {
   "cell_type": "markdown",
   "metadata": {},
   "source": [
    "## Умножение матриц"
   ]
  },
  {
   "cell_type": "markdown",
   "metadata": {},
   "source": [
    "Обозначения:\n",
    "\n",
    "- $X$ — матрица признаков (нулевой столбец состоит из единиц)\n",
    "\n",
    "- $y$ — вектор целевого признака\n",
    "\n",
    "- $P$ — матрица, на которую умножаются признаки\n",
    "\n",
    "- $w$ — вектор весов линейной регрессии (нулевой элемент равен сдвигу)"
   ]
  },
  {
   "cell_type": "markdown",
   "metadata": {},
   "source": [
    "Предсказания:\n",
    "\n",
    "$$\n",
    "a = Xw\n",
    "$$\n",
    "\n",
    "Задача обучения:\n",
    "\n",
    "$$\n",
    "w = \\arg\\min_w MSE(Xw, y)\n",
    "$$\n",
    "\n",
    "Формула обучения:\n",
    "\n",
    "$$\n",
    "w = (X^T X)^{-1} X^T y\n",
    "$$"
   ]
  },
  {
   "cell_type": "markdown",
   "metadata": {},
   "source": [
    "**Ответ:** Качество линейной регрессии не изменится при умножении признаков на обратимую матрицу."
   ]
  },
  {
   "cell_type": "markdown",
   "metadata": {},
   "source": [
    "**Обоснование:**\n",
    "\n",
    "$(XP)^{−1}=P^{−1}X^{−1}$  \n",
    "$(XP)^{T}=P^{T}X^{T}$  \n",
    "$(X^{T})^{-1}=(X^{-1})^{T}$  \n",
    "$(P^{T})^{-1}P^{T}=E$\n",
    "\n",
    "\n",
    "$$w'=((XP)^{T}XP)^{-1}(XP)^{T}y$$\n",
    "\n",
    "$$w'=(P^{T}X^{T}XP)^{-1}P^{T}X^{T}y=(XP)^{-1}(X^{T})^{-1}(P^{T})^{-1}P^{T}X^{T}y$$\n",
    "\n",
    "$$a' = XPw' = XP(XP)^{-1}(X^{T})^{-1}EX^{T}y=XwE=Xw=a$$"
   ]
  },
  {
   "cell_type": "markdown",
   "metadata": {},
   "source": [
    "**Вывод**\n",
    "\n",
    "Если умножить матрицу признаков на обратимую матрицу по формуле обучения, то предсказания не изменятся. Обратимая матрица имеет обратную к себе матрицу, при умножении на которую получается единичная матрица при умножении на которую исходная матрица не изменяется."
   ]
  },
  {
   "cell_type": "markdown",
   "metadata": {},
   "source": [
    "## Алгоритм преобразования"
   ]
  },
  {
   "cell_type": "markdown",
   "metadata": {},
   "source": [
    "**Алгоритм**\n",
    "\n",
    "1. Создать случайную матрицу.\n",
    "2. Проверить матрицу на обратимость. Если матрица необратима создать новую матрицу.\n",
    "3. Если матрица обратима умножить матрицу признаков на случайную обратимую матрицу."
   ]
  },
  {
   "cell_type": "markdown",
   "metadata": {},
   "source": [
    "**Обоснование**\n",
    "\n",
    "Умножение матрицы признаков на случайную обратимую матрицу не изменяет предсказаний."
   ]
  },
  {
   "cell_type": "markdown",
   "metadata": {},
   "source": [
    "## Проверка алгоритма"
   ]
  },
  {
   "cell_type": "markdown",
   "metadata": {},
   "source": [
    "### Применение алгоритма"
   ]
  },
  {
   "cell_type": "code",
   "execution_count": 8,
   "metadata": {},
   "outputs": [
    {
     "name": "stdout",
     "output_type": "stream",
     "text": [
      "Размерность матрицы: 4 x 4\n"
     ]
    }
   ],
   "source": [
    "P_size = len(X.columns)\n",
    "print('Размерность матрицы:', P_size, 'x', P_size)"
   ]
  },
  {
   "cell_type": "code",
   "execution_count": 9,
   "metadata": {},
   "outputs": [
    {
     "data": {
      "text/plain": [
       "array([[0.18101152, 0.66991286, 0.39691883, 0.07590245],\n",
       "       [0.70130903, 0.67797507, 0.08615114, 0.81536661],\n",
       "       [0.50048135, 0.18645925, 0.33913074, 0.84899757],\n",
       "       [0.81773443, 0.35844226, 0.07551434, 0.48466028]])"
      ]
     },
     "execution_count": 9,
     "metadata": {},
     "output_type": "execute_result"
    }
   ],
   "source": [
    "P = np.random.rand(P_size, P_size)\n",
    "P"
   ]
  },
  {
   "cell_type": "code",
   "execution_count": 10,
   "metadata": {},
   "outputs": [
    {
     "name": "stdout",
     "output_type": "stream",
     "text": [
      "Матрица обратимая.\n"
     ]
    }
   ],
   "source": [
    "try:\n",
    "    np.linalg.inv(P)\n",
    "except np.linalg.LinAlgError:\n",
    "    print('Матрица необратимая.')\n",
    "    pass\n",
    "else:\n",
    "    print('Матрица обратимая.')"
   ]
  },
  {
   "cell_type": "code",
   "execution_count": 11,
   "metadata": {},
   "outputs": [],
   "source": [
    "encoded_X = X @ P"
   ]
  },
  {
   "cell_type": "code",
   "execution_count": 12,
   "metadata": {},
   "outputs": [
    {
     "data": {
      "text/html": [
       "<div>\n",
       "<style scoped>\n",
       "    .dataframe tbody tr th:only-of-type {\n",
       "        vertical-align: middle;\n",
       "    }\n",
       "\n",
       "    .dataframe tbody tr th {\n",
       "        vertical-align: top;\n",
       "    }\n",
       "\n",
       "    .dataframe thead th {\n",
       "        text-align: right;\n",
       "    }\n",
       "</style>\n",
       "<table border=\"1\" class=\"dataframe\">\n",
       "  <thead>\n",
       "    <tr style=\"text-align: right;\">\n",
       "      <th></th>\n",
       "      <th>0</th>\n",
       "      <th>1</th>\n",
       "      <th>2</th>\n",
       "      <th>3</th>\n",
       "    </tr>\n",
       "  </thead>\n",
       "  <tbody>\n",
       "    <tr>\n",
       "      <td>0</td>\n",
       "      <td>24853.627300</td>\n",
       "      <td>9277.204168</td>\n",
       "      <td>16824.889545</td>\n",
       "      <td>42144.269952</td>\n",
       "    </tr>\n",
       "    <tr>\n",
       "      <td>1</td>\n",
       "      <td>19051.369191</td>\n",
       "      <td>7116.996822</td>\n",
       "      <td>12891.006749</td>\n",
       "      <td>32299.899097</td>\n",
       "    </tr>\n",
       "    <tr>\n",
       "      <td>2</td>\n",
       "      <td>10530.446280</td>\n",
       "      <td>3935.305542</td>\n",
       "      <td>7124.244013</td>\n",
       "      <td>17852.594553</td>\n",
       "    </tr>\n",
       "    <tr>\n",
       "      <td>3</td>\n",
       "      <td>20886.435189</td>\n",
       "      <td>7790.305115</td>\n",
       "      <td>14143.712238</td>\n",
       "      <td>35421.290593</td>\n",
       "    </tr>\n",
       "    <tr>\n",
       "      <td>4</td>\n",
       "      <td>13082.380859</td>\n",
       "      <td>4886.239658</td>\n",
       "      <td>8854.121576</td>\n",
       "      <td>22181.742685</td>\n",
       "    </tr>\n",
       "  </tbody>\n",
       "</table>\n",
       "</div>"
      ],
      "text/plain": [
       "              0            1             2             3\n",
       "0  24853.627300  9277.204168  16824.889545  42144.269952\n",
       "1  19051.369191  7116.996822  12891.006749  32299.899097\n",
       "2  10530.446280  3935.305542   7124.244013  17852.594553\n",
       "3  20886.435189  7790.305115  14143.712238  35421.290593\n",
       "4  13082.380859  4886.239658   8854.121576  22181.742685"
      ]
     },
     "execution_count": 12,
     "metadata": {},
     "output_type": "execute_result"
    }
   ],
   "source": [
    "encoded_X.head()"
   ]
  },
  {
   "cell_type": "code",
   "execution_count": 13,
   "metadata": {},
   "outputs": [],
   "source": [
    "encoded_X_train, encoded_X_valid = train_test_split(encoded_X, test_size=0.25, random_state=123)"
   ]
  },
  {
   "cell_type": "markdown",
   "metadata": {},
   "source": [
    "### Проверка качества линейной регрессии"
   ]
  },
  {
   "cell_type": "code",
   "execution_count": 14,
   "metadata": {},
   "outputs": [],
   "source": [
    "model = LinearRegression()"
   ]
  },
  {
   "cell_type": "code",
   "execution_count": 15,
   "metadata": {},
   "outputs": [
    {
     "name": "stdout",
     "output_type": "stream",
     "text": [
      "R2 без кодирования: 0.4301847\n"
     ]
    }
   ],
   "source": [
    "model.fit(X_train, y_train)\n",
    "y_pred = model.predict(X_valid)\n",
    "r2_X = r2_score(y_valid, y_pred)\n",
    "print('R2 без кодирования:', '{:.7f}'.format(r2_X))"
   ]
  },
  {
   "cell_type": "code",
   "execution_count": 16,
   "metadata": {},
   "outputs": [
    {
     "name": "stdout",
     "output_type": "stream",
     "text": [
      "R2 с кодированием: 0.4301847\n"
     ]
    }
   ],
   "source": [
    "model.fit(encoded_X_train, y_train)\n",
    "y_pred = model.predict(encoded_X_valid)\n",
    "r2_encoded_X = r2_score(y_valid, y_pred)\n",
    "print('R2 с кодированием:', '{:.7f}'.format(r2_encoded_X))"
   ]
  },
  {
   "cell_type": "markdown",
   "metadata": {},
   "source": [
    "**Вывод**\n",
    "\n",
    "Качество модели линейной регрессии не отличается до и после преобразования."
   ]
  },
  {
   "cell_type": "markdown",
   "metadata": {},
   "source": [
    "## Общий вывод"
   ]
  },
  {
   "cell_type": "markdown",
   "metadata": {},
   "source": [
    "Кодирование признаков путем умножения их на любую обратимую матрицу не влияет на качество модели линейной регрессии."
   ]
  }
 ],
 "metadata": {
  "ExecuteTimeLog": [
   {
    "duration": 548,
    "start_time": "2021-08-11T15:25:22.712Z"
   },
   {
    "duration": 58,
    "start_time": "2021-08-11T15:26:09.976Z"
   },
   {
    "duration": 18,
    "start_time": "2021-08-11T15:26:36.361Z"
   },
   {
    "duration": 302,
    "start_time": "2021-08-12T08:34:02.099Z"
   },
   {
    "duration": 597,
    "start_time": "2021-08-12T08:34:06.515Z"
   },
   {
    "duration": 18,
    "start_time": "2021-08-12T08:34:07.113Z"
   },
   {
    "duration": 16,
    "start_time": "2021-08-12T08:34:07.395Z"
   },
   {
    "duration": 20,
    "start_time": "2021-08-12T08:34:09.852Z"
   },
   {
    "duration": 348,
    "start_time": "2021-08-12T08:34:57.148Z"
   },
   {
    "duration": 9,
    "start_time": "2021-08-12T08:35:05.243Z"
   },
   {
    "duration": 5,
    "start_time": "2021-08-12T12:39:40.116Z"
   },
   {
    "duration": 4,
    "start_time": "2021-08-12T15:23:08.186Z"
   },
   {
    "duration": 1014,
    "start_time": "2021-08-12T15:23:45.003Z"
   },
   {
    "duration": 301,
    "start_time": "2021-08-12T15:25:21.541Z"
   },
   {
    "duration": 3,
    "start_time": "2021-08-12T15:25:43.262Z"
   },
   {
    "duration": 2,
    "start_time": "2021-08-12T15:25:47.742Z"
   },
   {
    "duration": 3,
    "start_time": "2021-08-12T15:25:49.453Z"
   },
   {
    "duration": 3,
    "start_time": "2021-08-12T15:26:04.411Z"
   },
   {
    "duration": 4,
    "start_time": "2021-08-12T15:26:04.687Z"
   },
   {
    "duration": 2,
    "start_time": "2021-08-12T15:26:07.347Z"
   },
   {
    "duration": 4,
    "start_time": "2021-08-12T15:26:07.545Z"
   },
   {
    "duration": 5,
    "start_time": "2021-08-12T15:26:42.355Z"
   },
   {
    "duration": 268,
    "start_time": "2021-08-12T15:27:48.579Z"
   },
   {
    "duration": 4,
    "start_time": "2021-08-12T15:27:57.441Z"
   },
   {
    "duration": 10,
    "start_time": "2021-08-12T15:28:06.544Z"
   },
   {
    "duration": 3,
    "start_time": "2021-08-12T15:30:40.672Z"
   },
   {
    "duration": 3,
    "start_time": "2021-08-12T15:30:40.949Z"
   },
   {
    "duration": 4,
    "start_time": "2021-08-12T15:30:41.377Z"
   },
   {
    "duration": 3,
    "start_time": "2021-08-12T15:31:39.062Z"
   },
   {
    "duration": 3,
    "start_time": "2021-08-12T15:31:39.576Z"
   },
   {
    "duration": 4,
    "start_time": "2021-08-12T15:31:40.513Z"
   },
   {
    "duration": 3,
    "start_time": "2021-08-12T15:35:09.012Z"
   },
   {
    "duration": 90,
    "start_time": "2021-08-12T15:35:09.381Z"
   },
   {
    "duration": 81,
    "start_time": "2021-08-12T15:35:31.873Z"
   },
   {
    "duration": 506,
    "start_time": "2021-08-12T15:36:51.777Z"
   },
   {
    "duration": 281,
    "start_time": "2021-08-12T15:36:59.930Z"
   },
   {
    "duration": 331,
    "start_time": "2021-08-12T15:37:06.362Z"
   },
   {
    "duration": 2,
    "start_time": "2021-08-12T15:37:31.343Z"
   },
   {
    "duration": 12,
    "start_time": "2021-08-12T15:37:31.903Z"
   },
   {
    "duration": 3,
    "start_time": "2021-08-12T15:39:58.186Z"
   },
   {
    "duration": 3,
    "start_time": "2021-08-12T15:39:58.494Z"
   },
   {
    "duration": 3,
    "start_time": "2021-08-12T15:39:58.869Z"
   },
   {
    "duration": 11,
    "start_time": "2021-08-12T15:39:59.253Z"
   },
   {
    "duration": 261,
    "start_time": "2021-08-12T15:43:02.828Z"
   },
   {
    "duration": 2,
    "start_time": "2021-08-12T15:43:14.301Z"
   },
   {
    "duration": 280,
    "start_time": "2021-08-12T15:43:18.686Z"
   },
   {
    "duration": 265,
    "start_time": "2021-08-12T15:43:25.936Z"
   },
   {
    "duration": 2,
    "start_time": "2021-08-12T15:43:29.409Z"
   },
   {
    "duration": 9,
    "start_time": "2021-08-12T15:43:31.453Z"
   },
   {
    "duration": 3,
    "start_time": "2021-08-12T15:45:41.485Z"
   },
   {
    "duration": 3,
    "start_time": "2021-08-12T15:54:18.012Z"
   },
   {
    "duration": 84,
    "start_time": "2021-08-12T15:55:30.645Z"
   },
   {
    "duration": 265,
    "start_time": "2021-08-12T15:55:42.687Z"
   },
   {
    "duration": 3,
    "start_time": "2021-08-12T16:19:06.117Z"
   },
   {
    "duration": 4,
    "start_time": "2021-08-12T16:19:06.559Z"
   },
   {
    "duration": 312,
    "start_time": "2021-08-12T16:19:07.012Z"
   },
   {
    "duration": 2,
    "start_time": "2021-08-12T16:25:14.602Z"
   },
   {
    "duration": 84,
    "start_time": "2021-08-12T16:25:45.606Z"
   },
   {
    "duration": 80,
    "start_time": "2021-08-12T16:26:25.283Z"
   },
   {
    "duration": 8,
    "start_time": "2021-08-12T16:26:35.063Z"
   },
   {
    "duration": 4,
    "start_time": "2021-08-12T16:26:49.973Z"
   },
   {
    "duration": 2,
    "start_time": "2021-08-12T16:26:59.638Z"
   },
   {
    "duration": 2,
    "start_time": "2021-08-12T16:27:07.466Z"
   },
   {
    "duration": 4,
    "start_time": "2021-08-12T16:30:47.816Z"
   },
   {
    "duration": 4,
    "start_time": "2021-08-12T16:31:13.713Z"
   },
   {
    "duration": 3,
    "start_time": "2021-08-12T16:31:21.035Z"
   },
   {
    "duration": 3,
    "start_time": "2021-08-12T16:31:33.840Z"
   },
   {
    "duration": 3,
    "start_time": "2021-08-12T16:31:34.494Z"
   },
   {
    "duration": 2,
    "start_time": "2021-08-12T16:31:42.606Z"
   },
   {
    "duration": 3,
    "start_time": "2021-08-12T16:31:43.196Z"
   },
   {
    "duration": 3,
    "start_time": "2021-08-12T16:31:53.088Z"
   },
   {
    "duration": 3,
    "start_time": "2021-08-12T16:31:53.365Z"
   },
   {
    "duration": 2,
    "start_time": "2021-08-12T16:32:10.454Z"
   },
   {
    "duration": 3,
    "start_time": "2021-08-12T16:32:11.043Z"
   },
   {
    "duration": 3,
    "start_time": "2021-08-12T16:32:32.704Z"
   },
   {
    "duration": 3,
    "start_time": "2021-08-12T16:36:22.410Z"
   },
   {
    "duration": 3,
    "start_time": "2021-08-12T16:36:23.397Z"
   },
   {
    "duration": 2,
    "start_time": "2021-08-12T16:36:35.703Z"
   },
   {
    "duration": 3,
    "start_time": "2021-08-12T16:36:35.978Z"
   },
   {
    "duration": 102,
    "start_time": "2021-08-12T16:39:04.939Z"
   },
   {
    "duration": 78,
    "start_time": "2021-08-12T16:40:37.571Z"
   },
   {
    "duration": 81,
    "start_time": "2021-08-12T16:41:11.529Z"
   },
   {
    "duration": 4,
    "start_time": "2021-08-12T16:42:14.859Z"
   },
   {
    "duration": 5,
    "start_time": "2021-08-12T16:46:01.097Z"
   },
   {
    "duration": 4,
    "start_time": "2021-08-12T16:46:01.981Z"
   },
   {
    "duration": 5,
    "start_time": "2021-08-12T16:46:14.914Z"
   },
   {
    "duration": 4,
    "start_time": "2021-08-12T16:46:15.386Z"
   },
   {
    "duration": 3,
    "start_time": "2021-08-12T16:46:43.242Z"
   },
   {
    "duration": 5,
    "start_time": "2021-08-12T16:46:43.546Z"
   },
   {
    "duration": 4,
    "start_time": "2021-08-12T16:46:43.984Z"
   },
   {
    "duration": 3,
    "start_time": "2021-08-12T16:46:56.088Z"
   },
   {
    "duration": 5,
    "start_time": "2021-08-12T16:46:56.393Z"
   },
   {
    "duration": 4,
    "start_time": "2021-08-12T16:47:25.531Z"
   },
   {
    "duration": 4,
    "start_time": "2021-08-12T16:47:40.994Z"
   },
   {
    "duration": 5,
    "start_time": "2021-08-12T16:47:42.776Z"
   },
   {
    "duration": 5,
    "start_time": "2021-08-12T16:47:43.608Z"
   },
   {
    "duration": 5,
    "start_time": "2021-08-12T16:51:25.396Z"
   },
   {
    "duration": 4,
    "start_time": "2021-08-12T16:51:35.907Z"
   },
   {
    "duration": 5,
    "start_time": "2021-08-12T16:51:45.153Z"
   },
   {
    "duration": 246,
    "start_time": "2021-08-12T16:56:15.315Z"
   },
   {
    "duration": 1018,
    "start_time": "2021-08-12T16:56:55.117Z"
   },
   {
    "duration": 17,
    "start_time": "2021-08-12T16:56:56.137Z"
   },
   {
    "duration": 17,
    "start_time": "2021-08-12T16:56:56.158Z"
   },
   {
    "duration": 22,
    "start_time": "2021-08-12T16:56:56.176Z"
   },
   {
    "duration": 6,
    "start_time": "2021-08-12T16:56:56.199Z"
   },
   {
    "duration": 13,
    "start_time": "2021-08-12T16:56:56.206Z"
   },
   {
    "duration": 3,
    "start_time": "2021-08-12T16:56:56.242Z"
   },
   {
    "duration": 6,
    "start_time": "2021-08-12T16:56:56.247Z"
   },
   {
    "duration": 339,
    "start_time": "2021-08-12T16:56:56.255Z"
   },
   {
    "duration": 167,
    "start_time": "2021-08-12T16:56:56.428Z"
   },
   {
    "duration": 4,
    "start_time": "2021-08-12T16:57:10.441Z"
   },
   {
    "duration": 7,
    "start_time": "2021-08-12T16:57:11.405Z"
   },
   {
    "duration": 4,
    "start_time": "2021-08-12T16:59:38.729Z"
   },
   {
    "duration": 4,
    "start_time": "2021-08-12T16:59:39.405Z"
   },
   {
    "duration": 4,
    "start_time": "2021-08-12T16:59:40.039Z"
   },
   {
    "duration": 5,
    "start_time": "2021-08-12T17:02:01.135Z"
   },
   {
    "duration": 254,
    "start_time": "2021-08-12T17:02:47.449Z"
   },
   {
    "duration": 4,
    "start_time": "2021-08-12T17:06:03.959Z"
   },
   {
    "duration": 4,
    "start_time": "2021-08-12T17:06:10.454Z"
   },
   {
    "duration": 4,
    "start_time": "2021-08-12T17:06:22.797Z"
   },
   {
    "duration": 3,
    "start_time": "2021-08-12T17:06:37.238Z"
   },
   {
    "duration": 4,
    "start_time": "2021-08-12T17:06:37.713Z"
   },
   {
    "duration": 4,
    "start_time": "2021-08-12T17:06:45.467Z"
   },
   {
    "duration": 10,
    "start_time": "2021-08-12T17:06:46.647Z"
   },
   {
    "duration": 4,
    "start_time": "2021-08-12T17:07:56.341Z"
   },
   {
    "duration": 253,
    "start_time": "2021-08-12T17:12:57.925Z"
   },
   {
    "duration": 14,
    "start_time": "2021-08-12T17:13:19.838Z"
   },
   {
    "duration": 7,
    "start_time": "2021-08-12T17:13:24.770Z"
   },
   {
    "duration": 2,
    "start_time": "2021-08-12T17:14:16.061Z"
   },
   {
    "duration": 3,
    "start_time": "2021-08-12T17:14:40.869Z"
   },
   {
    "duration": 629,
    "start_time": "2021-08-12T17:15:06.700Z"
   },
   {
    "duration": 992,
    "start_time": "2021-08-12T17:15:23.757Z"
   },
   {
    "duration": 17,
    "start_time": "2021-08-12T17:15:24.750Z"
   },
   {
    "duration": 18,
    "start_time": "2021-08-12T17:15:24.769Z"
   },
   {
    "duration": 23,
    "start_time": "2021-08-12T17:15:24.789Z"
   },
   {
    "duration": 6,
    "start_time": "2021-08-12T17:15:24.814Z"
   },
   {
    "duration": 9,
    "start_time": "2021-08-12T17:15:24.841Z"
   },
   {
    "duration": 6,
    "start_time": "2021-08-12T17:15:24.852Z"
   },
   {
    "duration": 4,
    "start_time": "2021-08-12T17:15:24.861Z"
   },
   {
    "duration": 5,
    "start_time": "2021-08-12T17:15:24.867Z"
   },
   {
    "duration": 11,
    "start_time": "2021-08-12T17:15:24.873Z"
   },
   {
    "duration": 55,
    "start_time": "2021-08-12T17:15:24.886Z"
   },
   {
    "duration": 4,
    "start_time": "2021-08-12T17:15:24.944Z"
   },
   {
    "duration": 91,
    "start_time": "2021-08-12T17:15:24.950Z"
   },
   {
    "duration": 385,
    "start_time": "2021-08-12T17:15:25.043Z"
   },
   {
    "duration": 251,
    "start_time": "2021-08-12T17:16:31.188Z"
   },
   {
    "duration": 5,
    "start_time": "2021-08-12T17:16:34.296Z"
   },
   {
    "duration": 11,
    "start_time": "2021-08-12T17:16:43.579Z"
   },
   {
    "duration": 3,
    "start_time": "2021-08-12T17:16:47.477Z"
   },
   {
    "duration": 4,
    "start_time": "2021-08-12T17:19:39.334Z"
   },
   {
    "duration": 7,
    "start_time": "2021-08-12T17:20:29.088Z"
   },
   {
    "duration": 950,
    "start_time": "2021-08-12T17:20:46.081Z"
   },
   {
    "duration": 18,
    "start_time": "2021-08-12T17:20:47.033Z"
   },
   {
    "duration": 17,
    "start_time": "2021-08-12T17:20:47.053Z"
   },
   {
    "duration": 21,
    "start_time": "2021-08-12T17:20:47.072Z"
   },
   {
    "duration": 5,
    "start_time": "2021-08-12T17:20:47.094Z"
   },
   {
    "duration": 14,
    "start_time": "2021-08-12T17:20:47.100Z"
   },
   {
    "duration": 26,
    "start_time": "2021-08-12T17:20:47.116Z"
   },
   {
    "duration": 5,
    "start_time": "2021-08-12T17:20:47.144Z"
   },
   {
    "duration": 12,
    "start_time": "2021-08-12T17:20:47.151Z"
   },
   {
    "duration": 28,
    "start_time": "2021-08-12T17:20:47.164Z"
   },
   {
    "duration": 48,
    "start_time": "2021-08-12T17:20:47.194Z"
   },
   {
    "duration": 6,
    "start_time": "2021-08-12T17:20:47.243Z"
   },
   {
    "duration": 11,
    "start_time": "2021-08-12T17:20:47.250Z"
   },
   {
    "duration": 12,
    "start_time": "2021-08-12T17:20:47.341Z"
   },
   {
    "duration": 14,
    "start_time": "2021-08-12T17:20:47.354Z"
   },
   {
    "duration": 1105,
    "start_time": "2021-08-12T17:21:13.103Z"
   },
   {
    "duration": 17,
    "start_time": "2021-08-12T17:21:14.210Z"
   },
   {
    "duration": 24,
    "start_time": "2021-08-12T17:21:14.229Z"
   },
   {
    "duration": 23,
    "start_time": "2021-08-12T17:21:14.255Z"
   },
   {
    "duration": 6,
    "start_time": "2021-08-12T17:21:14.280Z"
   },
   {
    "duration": 27,
    "start_time": "2021-08-12T17:21:14.288Z"
   },
   {
    "duration": 11,
    "start_time": "2021-08-12T17:21:14.317Z"
   },
   {
    "duration": 7,
    "start_time": "2021-08-12T17:21:14.330Z"
   },
   {
    "duration": 5,
    "start_time": "2021-08-12T17:21:14.341Z"
   },
   {
    "duration": 11,
    "start_time": "2021-08-12T17:21:14.347Z"
   },
   {
    "duration": 13,
    "start_time": "2021-08-12T17:21:14.360Z"
   },
   {
    "duration": 6,
    "start_time": "2021-08-12T17:21:14.441Z"
   },
   {
    "duration": 4,
    "start_time": "2021-08-12T17:21:14.450Z"
   },
   {
    "duration": 87,
    "start_time": "2021-08-12T17:21:14.457Z"
   },
   {
    "duration": 6,
    "start_time": "2021-08-12T17:21:14.546Z"
   },
   {
    "duration": 317,
    "start_time": "2021-08-12T17:22:41.395Z"
   },
   {
    "duration": 262,
    "start_time": "2021-08-12T17:22:46.149Z"
   },
   {
    "duration": 7,
    "start_time": "2021-08-12T17:22:51.995Z"
   },
   {
    "duration": 4,
    "start_time": "2021-08-12T17:22:56.461Z"
   },
   {
    "duration": 3,
    "start_time": "2021-08-12T17:22:56.741Z"
   },
   {
    "duration": 7,
    "start_time": "2021-08-12T17:22:57.033Z"
   },
   {
    "duration": 8,
    "start_time": "2021-08-12T17:22:57.460Z"
   },
   {
    "duration": 6,
    "start_time": "2021-08-12T17:30:51.489Z"
   },
   {
    "duration": 7,
    "start_time": "2021-08-12T17:31:24.614Z"
   },
   {
    "duration": 7,
    "start_time": "2021-08-12T17:31:25.576Z"
   },
   {
    "duration": 6,
    "start_time": "2021-08-12T17:31:28.905Z"
   },
   {
    "duration": 7,
    "start_time": "2021-08-12T17:31:32.803Z"
   },
   {
    "duration": 7,
    "start_time": "2021-08-12T17:31:42.759Z"
   },
   {
    "duration": 85,
    "start_time": "2021-08-12T17:40:16.360Z"
   },
   {
    "duration": 1096,
    "start_time": "2021-08-12T17:41:59.146Z"
   },
   {
    "duration": 17,
    "start_time": "2021-08-12T17:42:00.244Z"
   },
   {
    "duration": 19,
    "start_time": "2021-08-12T17:42:00.263Z"
   },
   {
    "duration": 20,
    "start_time": "2021-08-12T17:42:00.284Z"
   },
   {
    "duration": 5,
    "start_time": "2021-08-12T17:42:00.305Z"
   },
   {
    "duration": 18,
    "start_time": "2021-08-12T17:42:00.311Z"
   },
   {
    "duration": 16,
    "start_time": "2021-08-12T17:42:00.331Z"
   },
   {
    "duration": 17,
    "start_time": "2021-08-12T17:42:00.350Z"
   },
   {
    "duration": 15,
    "start_time": "2021-08-12T17:42:00.370Z"
   },
   {
    "duration": 9,
    "start_time": "2021-08-12T17:42:00.387Z"
   },
   {
    "duration": 7,
    "start_time": "2021-08-12T17:42:00.398Z"
   },
   {
    "duration": 47,
    "start_time": "2021-08-12T17:42:00.407Z"
   },
   {
    "duration": 7,
    "start_time": "2021-08-12T17:42:00.455Z"
   },
   {
    "duration": 7,
    "start_time": "2021-08-12T17:42:00.542Z"
   },
   {
    "duration": 17,
    "start_time": "2021-08-12T17:42:00.551Z"
   },
   {
    "duration": 9,
    "start_time": "2021-08-12T17:42:38.130Z"
   },
   {
    "duration": 990,
    "start_time": "2021-08-12T17:42:46.659Z"
   },
   {
    "duration": 19,
    "start_time": "2021-08-12T17:42:47.651Z"
   },
   {
    "duration": 26,
    "start_time": "2021-08-12T17:42:47.672Z"
   },
   {
    "duration": 20,
    "start_time": "2021-08-12T17:42:47.700Z"
   },
   {
    "duration": 5,
    "start_time": "2021-08-12T17:42:47.721Z"
   },
   {
    "duration": 21,
    "start_time": "2021-08-12T17:42:47.728Z"
   },
   {
    "duration": 18,
    "start_time": "2021-08-12T17:42:47.750Z"
   },
   {
    "duration": 14,
    "start_time": "2021-08-12T17:42:47.770Z"
   },
   {
    "duration": 14,
    "start_time": "2021-08-12T17:42:47.785Z"
   },
   {
    "duration": 18,
    "start_time": "2021-08-12T17:42:47.800Z"
   },
   {
    "duration": 21,
    "start_time": "2021-08-12T17:42:47.820Z"
   },
   {
    "duration": 18,
    "start_time": "2021-08-12T17:42:47.843Z"
   },
   {
    "duration": 84,
    "start_time": "2021-08-12T17:42:47.863Z"
   },
   {
    "duration": 15,
    "start_time": "2021-08-12T17:42:47.949Z"
   },
   {
    "duration": 29,
    "start_time": "2021-08-12T17:42:47.965Z"
   },
   {
    "duration": 19,
    "start_time": "2021-08-12T17:42:47.996Z"
   },
   {
    "duration": 1286,
    "start_time": "2021-08-12T17:54:45.417Z"
   },
   {
    "duration": 17,
    "start_time": "2021-08-12T17:54:46.705Z"
   },
   {
    "duration": 25,
    "start_time": "2021-08-12T17:54:46.726Z"
   },
   {
    "duration": 55,
    "start_time": "2021-08-12T17:54:46.754Z"
   },
   {
    "duration": 7,
    "start_time": "2021-08-12T17:54:46.811Z"
   },
   {
    "duration": 15,
    "start_time": "2021-08-12T17:54:47.250Z"
   },
   {
    "duration": 10,
    "start_time": "2021-08-12T17:54:48.482Z"
   },
   {
    "duration": 5,
    "start_time": "2021-08-12T17:57:19.720Z"
   },
   {
    "duration": 6,
    "start_time": "2021-08-12T17:57:19.731Z"
   },
   {
    "duration": 5,
    "start_time": "2021-08-12T17:57:19.771Z"
   },
   {
    "duration": 5,
    "start_time": "2021-08-12T17:57:19.800Z"
   },
   {
    "duration": 11,
    "start_time": "2021-08-12T17:57:19.957Z"
   },
   {
    "duration": 8,
    "start_time": "2021-08-12T17:57:20.147Z"
   },
   {
    "duration": 3,
    "start_time": "2021-08-12T17:57:20.766Z"
   },
   {
    "duration": 10,
    "start_time": "2021-08-12T17:57:20.929Z"
   },
   {
    "duration": 10,
    "start_time": "2021-08-12T17:57:21.089Z"
   }
  ],
  "kernelspec": {
   "display_name": "Python 3",
   "language": "python",
   "name": "python3"
  },
  "language_info": {
   "codemirror_mode": {
    "name": "ipython",
    "version": 3
   },
   "file_extension": ".py",
   "mimetype": "text/x-python",
   "name": "python",
   "nbconvert_exporter": "python",
   "pygments_lexer": "ipython3",
   "version": "3.8.5"
  },
  "toc": {
   "base_numbering": 1,
   "nav_menu": {},
   "number_sections": true,
   "sideBar": true,
   "skip_h1_title": true,
   "title_cell": "Содержание",
   "title_sidebar": "Contents",
   "toc_cell": true,
   "toc_position": {
    "height": "calc(100% - 180px)",
    "left": "10px",
    "top": "150px",
    "width": "366.391px"
   },
   "toc_section_display": true,
   "toc_window_display": true
  },
  "varInspector": {
   "cols": {
    "lenName": 16,
    "lenType": 16,
    "lenVar": 40
   },
   "kernels_config": {
    "python": {
     "delete_cmd_postfix": "",
     "delete_cmd_prefix": "del ",
     "library": "var_list.py",
     "varRefreshCmd": "print(var_dic_list())"
    },
    "r": {
     "delete_cmd_postfix": ") ",
     "delete_cmd_prefix": "rm(",
     "library": "var_list.r",
     "varRefreshCmd": "cat(var_dic_list()) "
    }
   },
   "types_to_exclude": [
    "module",
    "function",
    "builtin_function_or_method",
    "instance",
    "_Feature"
   ],
   "window_display": false
  }
 },
 "nbformat": 4,
 "nbformat_minor": 2
}
