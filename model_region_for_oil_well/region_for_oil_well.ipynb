{
 "cells": [
  {
   "cell_type": "markdown",
   "metadata": {
    "toc": true
   },
   "source": [
    "<h1>Содержание<span class=\"tocSkip\"></span></h1>\n",
    "<div class=\"toc\"><ul class=\"toc-item\"><li><span><a href=\"#Загрузка-и-подготовка-данных\" data-toc-modified-id=\"Загрузка-и-подготовка-данных-1\"><span class=\"toc-item-num\">1&nbsp;&nbsp;</span>Загрузка и подготовка данных</a></span><ul class=\"toc-item\"><li><span><a href=\"#Изучение-данных\" data-toc-modified-id=\"Изучение-данных-1.1\"><span class=\"toc-item-num\">1.1&nbsp;&nbsp;</span>Изучение данных</a></span></li><li><span><a href=\"#Предобработка-данных\" data-toc-modified-id=\"Предобработка-данных-1.2\"><span class=\"toc-item-num\">1.2&nbsp;&nbsp;</span>Предобработка данных</a></span></li><li><span><a href=\"#Проверка-дубликатов\" data-toc-modified-id=\"Проверка-дубликатов-1.3\"><span class=\"toc-item-num\">1.3&nbsp;&nbsp;</span>Проверка дубликатов</a></span></li><li><span><a href=\"#Корреляция-признаков\" data-toc-modified-id=\"Корреляция-признаков-1.4\"><span class=\"toc-item-num\">1.4&nbsp;&nbsp;</span>Корреляция признаков</a></span></li></ul></li><li><span><a href=\"#Обучение-и-проверка-модели\" data-toc-modified-id=\"Обучение-и-проверка-модели-2\"><span class=\"toc-item-num\">2&nbsp;&nbsp;</span>Обучение и проверка модели</a></span></li><li><span><a href=\"#Подготовка-к-расчёту-прибыли\" data-toc-modified-id=\"Подготовка-к-расчёту-прибыли-3\"><span class=\"toc-item-num\">3&nbsp;&nbsp;</span>Подготовка к расчёту прибыли</a></span><ul class=\"toc-item\"><li><span><a href=\"#Ключевые-значения\" data-toc-modified-id=\"Ключевые-значения-3.1\"><span class=\"toc-item-num\">3.1&nbsp;&nbsp;</span>Ключевые значения</a></span></li><li><span><a href=\"#Средний-запас-сырья-по-регионам\" data-toc-modified-id=\"Средний-запас-сырья-по-регионам-3.2\"><span class=\"toc-item-num\">3.2&nbsp;&nbsp;</span>Средний запас сырья по регионам</a></span></li></ul></li><li><span><a href=\"#Расчёт-прибыли-и-рисков\" data-toc-modified-id=\"Расчёт-прибыли-и-рисков-4\"><span class=\"toc-item-num\">4&nbsp;&nbsp;</span>Расчёт прибыли и рисков</a></span><ul class=\"toc-item\"><li><span><a href=\"#Расчет-прибыли-каждого-региона\" data-toc-modified-id=\"Расчет-прибыли-каждого-региона-4.1\"><span class=\"toc-item-num\">4.1&nbsp;&nbsp;</span>Расчет прибыли каждого региона</a></span></li><li><span><a href=\"#Расчет-рисков-каждого-региона\" data-toc-modified-id=\"Расчет-рисков-каждого-региона-4.2\"><span class=\"toc-item-num\">4.2&nbsp;&nbsp;</span>Расчет рисков каждого региона</a></span></li></ul></li><li><span><a href=\"#Общий-вывод\" data-toc-modified-id=\"Общий-вывод-5\"><span class=\"toc-item-num\">5&nbsp;&nbsp;</span>Общий вывод</a></span></li></ul></div>"
   ]
  },
  {
   "cell_type": "markdown",
   "metadata": {},
   "source": [
    "# Выбор локации для скважины"
   ]
  },
  {
   "cell_type": "markdown",
   "metadata": {},
   "source": [
    "## Загрузка и подготовка данных"
   ]
  },
  {
   "cell_type": "markdown",
   "metadata": {},
   "source": [
    "### Изучение данных"
   ]
  },
  {
   "cell_type": "code",
   "execution_count": 1,
   "metadata": {},
   "outputs": [],
   "source": [
    "import pandas as pd\n",
    "import numpy as np\n",
    "import matplotlib.pyplot as plt\n",
    "import seaborn as sns\n",
    "from sklearn.model_selection import train_test_split\n",
    "from sklearn.linear_model import LinearRegression\n",
    "from sklearn.metrics import mean_squared_error\n",
    "from scipy import stats"
   ]
  },
  {
   "cell_type": "code",
   "execution_count": 2,
   "metadata": {},
   "outputs": [],
   "source": [
    "data_0 = pd.read_csv('/datasets/geo_data_0.csv')\n",
    "data_1 = pd.read_csv('/datasets/geo_data_1.csv')\n",
    "data_2 = pd.read_csv('/datasets/geo_data_2.csv')"
   ]
  },
  {
   "cell_type": "code",
   "execution_count": 3,
   "metadata": {},
   "outputs": [
    {
     "name": "stdout",
     "output_type": "stream",
     "text": [
      "<class 'pandas.core.frame.DataFrame'>\n",
      "RangeIndex: 100000 entries, 0 to 99999\n",
      "Data columns (total 5 columns):\n",
      "id         100000 non-null object\n",
      "f0         100000 non-null float64\n",
      "f1         100000 non-null float64\n",
      "f2         100000 non-null float64\n",
      "product    100000 non-null float64\n",
      "dtypes: float64(4), object(1)\n",
      "memory usage: 3.8+ MB\n"
     ]
    },
    {
     "data": {
      "text/html": [
       "<div>\n",
       "<style scoped>\n",
       "    .dataframe tbody tr th:only-of-type {\n",
       "        vertical-align: middle;\n",
       "    }\n",
       "\n",
       "    .dataframe tbody tr th {\n",
       "        vertical-align: top;\n",
       "    }\n",
       "\n",
       "    .dataframe thead th {\n",
       "        text-align: right;\n",
       "    }\n",
       "</style>\n",
       "<table border=\"1\" class=\"dataframe\">\n",
       "  <thead>\n",
       "    <tr style=\"text-align: right;\">\n",
       "      <th></th>\n",
       "      <th>id</th>\n",
       "      <th>f0</th>\n",
       "      <th>f1</th>\n",
       "      <th>f2</th>\n",
       "      <th>product</th>\n",
       "    </tr>\n",
       "  </thead>\n",
       "  <tbody>\n",
       "    <tr>\n",
       "      <td>0</td>\n",
       "      <td>txEyH</td>\n",
       "      <td>0.705745</td>\n",
       "      <td>-0.497823</td>\n",
       "      <td>1.221170</td>\n",
       "      <td>105.280062</td>\n",
       "    </tr>\n",
       "    <tr>\n",
       "      <td>1</td>\n",
       "      <td>2acmU</td>\n",
       "      <td>1.334711</td>\n",
       "      <td>-0.340164</td>\n",
       "      <td>4.365080</td>\n",
       "      <td>73.037750</td>\n",
       "    </tr>\n",
       "    <tr>\n",
       "      <td>2</td>\n",
       "      <td>409Wp</td>\n",
       "      <td>1.022732</td>\n",
       "      <td>0.151990</td>\n",
       "      <td>1.419926</td>\n",
       "      <td>85.265647</td>\n",
       "    </tr>\n",
       "    <tr>\n",
       "      <td>3</td>\n",
       "      <td>iJLyR</td>\n",
       "      <td>-0.032172</td>\n",
       "      <td>0.139033</td>\n",
       "      <td>2.978566</td>\n",
       "      <td>168.620776</td>\n",
       "    </tr>\n",
       "    <tr>\n",
       "      <td>4</td>\n",
       "      <td>Xdl7t</td>\n",
       "      <td>1.988431</td>\n",
       "      <td>0.155413</td>\n",
       "      <td>4.751769</td>\n",
       "      <td>154.036647</td>\n",
       "    </tr>\n",
       "  </tbody>\n",
       "</table>\n",
       "</div>"
      ],
      "text/plain": [
       "      id        f0        f1        f2     product\n",
       "0  txEyH  0.705745 -0.497823  1.221170  105.280062\n",
       "1  2acmU  1.334711 -0.340164  4.365080   73.037750\n",
       "2  409Wp  1.022732  0.151990  1.419926   85.265647\n",
       "3  iJLyR -0.032172  0.139033  2.978566  168.620776\n",
       "4  Xdl7t  1.988431  0.155413  4.751769  154.036647"
      ]
     },
     "execution_count": 3,
     "metadata": {},
     "output_type": "execute_result"
    }
   ],
   "source": [
    "data_0.info()\n",
    "data_0.head()"
   ]
  },
  {
   "cell_type": "code",
   "execution_count": 4,
   "metadata": {},
   "outputs": [
    {
     "name": "stdout",
     "output_type": "stream",
     "text": [
      "<class 'pandas.core.frame.DataFrame'>\n",
      "RangeIndex: 100000 entries, 0 to 99999\n",
      "Data columns (total 5 columns):\n",
      "id         100000 non-null object\n",
      "f0         100000 non-null float64\n",
      "f1         100000 non-null float64\n",
      "f2         100000 non-null float64\n",
      "product    100000 non-null float64\n",
      "dtypes: float64(4), object(1)\n",
      "memory usage: 3.8+ MB\n"
     ]
    },
    {
     "data": {
      "text/html": [
       "<div>\n",
       "<style scoped>\n",
       "    .dataframe tbody tr th:only-of-type {\n",
       "        vertical-align: middle;\n",
       "    }\n",
       "\n",
       "    .dataframe tbody tr th {\n",
       "        vertical-align: top;\n",
       "    }\n",
       "\n",
       "    .dataframe thead th {\n",
       "        text-align: right;\n",
       "    }\n",
       "</style>\n",
       "<table border=\"1\" class=\"dataframe\">\n",
       "  <thead>\n",
       "    <tr style=\"text-align: right;\">\n",
       "      <th></th>\n",
       "      <th>id</th>\n",
       "      <th>f0</th>\n",
       "      <th>f1</th>\n",
       "      <th>f2</th>\n",
       "      <th>product</th>\n",
       "    </tr>\n",
       "  </thead>\n",
       "  <tbody>\n",
       "    <tr>\n",
       "      <td>0</td>\n",
       "      <td>kBEdx</td>\n",
       "      <td>-15.001348</td>\n",
       "      <td>-8.276000</td>\n",
       "      <td>-0.005876</td>\n",
       "      <td>3.179103</td>\n",
       "    </tr>\n",
       "    <tr>\n",
       "      <td>1</td>\n",
       "      <td>62mP7</td>\n",
       "      <td>14.272088</td>\n",
       "      <td>-3.475083</td>\n",
       "      <td>0.999183</td>\n",
       "      <td>26.953261</td>\n",
       "    </tr>\n",
       "    <tr>\n",
       "      <td>2</td>\n",
       "      <td>vyE1P</td>\n",
       "      <td>6.263187</td>\n",
       "      <td>-5.948386</td>\n",
       "      <td>5.001160</td>\n",
       "      <td>134.766305</td>\n",
       "    </tr>\n",
       "    <tr>\n",
       "      <td>3</td>\n",
       "      <td>KcrkZ</td>\n",
       "      <td>-13.081196</td>\n",
       "      <td>-11.506057</td>\n",
       "      <td>4.999415</td>\n",
       "      <td>137.945408</td>\n",
       "    </tr>\n",
       "    <tr>\n",
       "      <td>4</td>\n",
       "      <td>AHL4O</td>\n",
       "      <td>12.702195</td>\n",
       "      <td>-8.147433</td>\n",
       "      <td>5.004363</td>\n",
       "      <td>134.766305</td>\n",
       "    </tr>\n",
       "  </tbody>\n",
       "</table>\n",
       "</div>"
      ],
      "text/plain": [
       "      id         f0         f1        f2     product\n",
       "0  kBEdx -15.001348  -8.276000 -0.005876    3.179103\n",
       "1  62mP7  14.272088  -3.475083  0.999183   26.953261\n",
       "2  vyE1P   6.263187  -5.948386  5.001160  134.766305\n",
       "3  KcrkZ -13.081196 -11.506057  4.999415  137.945408\n",
       "4  AHL4O  12.702195  -8.147433  5.004363  134.766305"
      ]
     },
     "execution_count": 4,
     "metadata": {},
     "output_type": "execute_result"
    }
   ],
   "source": [
    "data_1.info()\n",
    "data_1.head()"
   ]
  },
  {
   "cell_type": "code",
   "execution_count": 5,
   "metadata": {},
   "outputs": [
    {
     "name": "stdout",
     "output_type": "stream",
     "text": [
      "<class 'pandas.core.frame.DataFrame'>\n",
      "RangeIndex: 100000 entries, 0 to 99999\n",
      "Data columns (total 5 columns):\n",
      "id         100000 non-null object\n",
      "f0         100000 non-null float64\n",
      "f1         100000 non-null float64\n",
      "f2         100000 non-null float64\n",
      "product    100000 non-null float64\n",
      "dtypes: float64(4), object(1)\n",
      "memory usage: 3.8+ MB\n"
     ]
    },
    {
     "data": {
      "text/html": [
       "<div>\n",
       "<style scoped>\n",
       "    .dataframe tbody tr th:only-of-type {\n",
       "        vertical-align: middle;\n",
       "    }\n",
       "\n",
       "    .dataframe tbody tr th {\n",
       "        vertical-align: top;\n",
       "    }\n",
       "\n",
       "    .dataframe thead th {\n",
       "        text-align: right;\n",
       "    }\n",
       "</style>\n",
       "<table border=\"1\" class=\"dataframe\">\n",
       "  <thead>\n",
       "    <tr style=\"text-align: right;\">\n",
       "      <th></th>\n",
       "      <th>id</th>\n",
       "      <th>f0</th>\n",
       "      <th>f1</th>\n",
       "      <th>f2</th>\n",
       "      <th>product</th>\n",
       "    </tr>\n",
       "  </thead>\n",
       "  <tbody>\n",
       "    <tr>\n",
       "      <td>0</td>\n",
       "      <td>fwXo0</td>\n",
       "      <td>-1.146987</td>\n",
       "      <td>0.963328</td>\n",
       "      <td>-0.828965</td>\n",
       "      <td>27.758673</td>\n",
       "    </tr>\n",
       "    <tr>\n",
       "      <td>1</td>\n",
       "      <td>WJtFt</td>\n",
       "      <td>0.262778</td>\n",
       "      <td>0.269839</td>\n",
       "      <td>-2.530187</td>\n",
       "      <td>56.069697</td>\n",
       "    </tr>\n",
       "    <tr>\n",
       "      <td>2</td>\n",
       "      <td>ovLUW</td>\n",
       "      <td>0.194587</td>\n",
       "      <td>0.289035</td>\n",
       "      <td>-5.586433</td>\n",
       "      <td>62.871910</td>\n",
       "    </tr>\n",
       "    <tr>\n",
       "      <td>3</td>\n",
       "      <td>q6cA6</td>\n",
       "      <td>2.236060</td>\n",
       "      <td>-0.553760</td>\n",
       "      <td>0.930038</td>\n",
       "      <td>114.572842</td>\n",
       "    </tr>\n",
       "    <tr>\n",
       "      <td>4</td>\n",
       "      <td>WPMUX</td>\n",
       "      <td>-0.515993</td>\n",
       "      <td>1.716266</td>\n",
       "      <td>5.899011</td>\n",
       "      <td>149.600746</td>\n",
       "    </tr>\n",
       "  </tbody>\n",
       "</table>\n",
       "</div>"
      ],
      "text/plain": [
       "      id        f0        f1        f2     product\n",
       "0  fwXo0 -1.146987  0.963328 -0.828965   27.758673\n",
       "1  WJtFt  0.262778  0.269839 -2.530187   56.069697\n",
       "2  ovLUW  0.194587  0.289035 -5.586433   62.871910\n",
       "3  q6cA6  2.236060 -0.553760  0.930038  114.572842\n",
       "4  WPMUX -0.515993  1.716266  5.899011  149.600746"
      ]
     },
     "execution_count": 5,
     "metadata": {},
     "output_type": "execute_result"
    }
   ],
   "source": [
    "data_2.info()\n",
    "data_2.head()"
   ]
  },
  {
   "cell_type": "markdown",
   "metadata": {},
   "source": [
    "**Вывод**  \n",
    "\n",
    "Предоставлены пробы нефти в трёх регионах. В каждой таблице присутствует:\n",
    "* id — уникальный идентификатор скважины\n",
    "* f0, f1, f2 — три признака точек \n",
    "* product — объём запасов в скважине (тыс. баррелей)  \n",
    "\n",
    "Пропусков в данных не обнаружено."
   ]
  },
  {
   "cell_type": "markdown",
   "metadata": {},
   "source": [
    "### Предобработка данных"
   ]
  },
  {
   "cell_type": "code",
   "execution_count": 6,
   "metadata": {},
   "outputs": [],
   "source": [
    "data_0 = data_0.drop(['id'], axis=1)\n",
    "data_1 = data_1.drop(['id'], axis=1)\n",
    "data_2 = data_2.drop(['id'], axis=1)"
   ]
  },
  {
   "cell_type": "code",
   "execution_count": 7,
   "metadata": {},
   "outputs": [
    {
     "data": {
      "text/html": [
       "<div>\n",
       "<style scoped>\n",
       "    .dataframe tbody tr th:only-of-type {\n",
       "        vertical-align: middle;\n",
       "    }\n",
       "\n",
       "    .dataframe tbody tr th {\n",
       "        vertical-align: top;\n",
       "    }\n",
       "\n",
       "    .dataframe thead th {\n",
       "        text-align: right;\n",
       "    }\n",
       "</style>\n",
       "<table border=\"1\" class=\"dataframe\">\n",
       "  <thead>\n",
       "    <tr style=\"text-align: right;\">\n",
       "      <th></th>\n",
       "      <th>f0</th>\n",
       "      <th>f1</th>\n",
       "      <th>f2</th>\n",
       "      <th>product</th>\n",
       "    </tr>\n",
       "  </thead>\n",
       "  <tbody>\n",
       "    <tr>\n",
       "      <td>42083</td>\n",
       "      <td>0.331011</td>\n",
       "      <td>-0.288668</td>\n",
       "      <td>6.134432</td>\n",
       "      <td>145.825972</td>\n",
       "    </tr>\n",
       "    <tr>\n",
       "      <td>71825</td>\n",
       "      <td>-0.027196</td>\n",
       "      <td>0.189525</td>\n",
       "      <td>0.160777</td>\n",
       "      <td>134.020212</td>\n",
       "    </tr>\n",
       "    <tr>\n",
       "      <td>99535</td>\n",
       "      <td>-0.982324</td>\n",
       "      <td>0.286965</td>\n",
       "      <td>-2.163846</td>\n",
       "      <td>88.905826</td>\n",
       "    </tr>\n",
       "  </tbody>\n",
       "</table>\n",
       "</div>"
      ],
      "text/plain": [
       "             f0        f1        f2     product\n",
       "42083  0.331011 -0.288668  6.134432  145.825972\n",
       "71825 -0.027196  0.189525  0.160777  134.020212\n",
       "99535 -0.982324  0.286965 -2.163846   88.905826"
      ]
     },
     "execution_count": 7,
     "metadata": {},
     "output_type": "execute_result"
    }
   ],
   "source": [
    "data_0.sample(n=3, random_state=123)"
   ]
  },
  {
   "cell_type": "code",
   "execution_count": 8,
   "metadata": {},
   "outputs": [
    {
     "data": {
      "text/html": [
       "<div>\n",
       "<style scoped>\n",
       "    .dataframe tbody tr th:only-of-type {\n",
       "        vertical-align: middle;\n",
       "    }\n",
       "\n",
       "    .dataframe tbody tr th {\n",
       "        vertical-align: top;\n",
       "    }\n",
       "\n",
       "    .dataframe thead th {\n",
       "        text-align: right;\n",
       "    }\n",
       "</style>\n",
       "<table border=\"1\" class=\"dataframe\">\n",
       "  <thead>\n",
       "    <tr style=\"text-align: right;\">\n",
       "      <th></th>\n",
       "      <th>f0</th>\n",
       "      <th>f1</th>\n",
       "      <th>f2</th>\n",
       "      <th>product</th>\n",
       "    </tr>\n",
       "  </thead>\n",
       "  <tbody>\n",
       "    <tr>\n",
       "      <td>42083</td>\n",
       "      <td>-1.622009</td>\n",
       "      <td>-11.690538</td>\n",
       "      <td>2.000389</td>\n",
       "      <td>57.085625</td>\n",
       "    </tr>\n",
       "    <tr>\n",
       "      <td>71825</td>\n",
       "      <td>7.232615</td>\n",
       "      <td>-7.351703</td>\n",
       "      <td>2.998801</td>\n",
       "      <td>80.859783</td>\n",
       "    </tr>\n",
       "    <tr>\n",
       "      <td>99535</td>\n",
       "      <td>10.460238</td>\n",
       "      <td>-15.592718</td>\n",
       "      <td>2.003102</td>\n",
       "      <td>53.906522</td>\n",
       "    </tr>\n",
       "  </tbody>\n",
       "</table>\n",
       "</div>"
      ],
      "text/plain": [
       "              f0         f1        f2    product\n",
       "42083  -1.622009 -11.690538  2.000389  57.085625\n",
       "71825   7.232615  -7.351703  2.998801  80.859783\n",
       "99535  10.460238 -15.592718  2.003102  53.906522"
      ]
     },
     "execution_count": 8,
     "metadata": {},
     "output_type": "execute_result"
    }
   ],
   "source": [
    "data_1.sample(n=3, random_state=123)"
   ]
  },
  {
   "cell_type": "code",
   "execution_count": 9,
   "metadata": {},
   "outputs": [
    {
     "data": {
      "text/html": [
       "<div>\n",
       "<style scoped>\n",
       "    .dataframe tbody tr th:only-of-type {\n",
       "        vertical-align: middle;\n",
       "    }\n",
       "\n",
       "    .dataframe tbody tr th {\n",
       "        vertical-align: top;\n",
       "    }\n",
       "\n",
       "    .dataframe thead th {\n",
       "        text-align: right;\n",
       "    }\n",
       "</style>\n",
       "<table border=\"1\" class=\"dataframe\">\n",
       "  <thead>\n",
       "    <tr style=\"text-align: right;\">\n",
       "      <th></th>\n",
       "      <th>f0</th>\n",
       "      <th>f1</th>\n",
       "      <th>f2</th>\n",
       "      <th>product</th>\n",
       "    </tr>\n",
       "  </thead>\n",
       "  <tbody>\n",
       "    <tr>\n",
       "      <td>42083</td>\n",
       "      <td>0.711582</td>\n",
       "      <td>3.831002</td>\n",
       "      <td>2.352651</td>\n",
       "      <td>147.451978</td>\n",
       "    </tr>\n",
       "    <tr>\n",
       "      <td>71825</td>\n",
       "      <td>-0.098114</td>\n",
       "      <td>0.839851</td>\n",
       "      <td>7.261075</td>\n",
       "      <td>128.711794</td>\n",
       "    </tr>\n",
       "    <tr>\n",
       "      <td>99535</td>\n",
       "      <td>-0.818925</td>\n",
       "      <td>3.542305</td>\n",
       "      <td>-0.095631</td>\n",
       "      <td>106.628185</td>\n",
       "    </tr>\n",
       "  </tbody>\n",
       "</table>\n",
       "</div>"
      ],
      "text/plain": [
       "             f0        f1        f2     product\n",
       "42083  0.711582  3.831002  2.352651  147.451978\n",
       "71825 -0.098114  0.839851  7.261075  128.711794\n",
       "99535 -0.818925  3.542305 -0.095631  106.628185"
      ]
     },
     "execution_count": 9,
     "metadata": {},
     "output_type": "execute_result"
    }
   ],
   "source": [
    "data_2.sample(n=3, random_state=123)"
   ]
  },
  {
   "cell_type": "markdown",
   "metadata": {},
   "source": [
    "**Вывод**\n",
    "\n",
    "Во всех трех таблицах удален столбец id, так как он не понадобится для дальнейшего построения модели и анализа."
   ]
  },
  {
   "cell_type": "markdown",
   "metadata": {},
   "source": [
    "### Проверка дубликатов"
   ]
  },
  {
   "cell_type": "code",
   "execution_count": 10,
   "metadata": {},
   "outputs": [
    {
     "name": "stdout",
     "output_type": "stream",
     "text": [
      "Количество дубликатов в нулевом датасете: 0\n",
      "Количество дубликатов в первом датасете: 0\n",
      "Количество дубликатов во втором датасете: 0\n"
     ]
    }
   ],
   "source": [
    "print('Количество дубликатов в нулевом датасете:', data_0.duplicated().sum())\n",
    "print('Количество дубликатов в первом датасете:', data_1.duplicated().sum())\n",
    "print('Количество дубликатов во втором датасете:', data_2.duplicated().sum())"
   ]
  },
  {
   "cell_type": "markdown",
   "metadata": {},
   "source": [
    "**Вывод**\n",
    "\n",
    "Дубликатов не найдено."
   ]
  },
  {
   "cell_type": "markdown",
   "metadata": {},
   "source": [
    "### Корреляция признаков"
   ]
  },
  {
   "cell_type": "code",
   "execution_count": 11,
   "metadata": {},
   "outputs": [],
   "source": [
    "data_0.name = \"data_0\"\n",
    "data_1.name = \"data_1\"\n",
    "data_2.name = \"data_2\""
   ]
  },
  {
   "cell_type": "code",
   "execution_count": 12,
   "metadata": {},
   "outputs": [],
   "source": [
    "def corr_plot(data):\n",
    "    plt.figure(figsize=(8, 4))\n",
    "    sns.heatmap(data.corr(method='pearson'), annot=True, vmin=-1, vmax=1, center=0, cmap='coolwarm')\n",
    "    plt.title('Корреляция признаков ' + data.name)\n",
    "    plt.show()"
   ]
  },
  {
   "cell_type": "code",
   "execution_count": 13,
   "metadata": {},
   "outputs": [
    {
     "data": {
      "image/png": "[encoded data removed]",
      "text/plain": [
       "<Figure size 576x288 with 2 Axes>"
      ]
     },
     "metadata": {
      "needs_background": "light"
     },
     "output_type": "display_data"
    }
   ],
   "source": [
    "corr_plot(data_0)"
   ]
  },
  {
   "cell_type": "code",
   "execution_count": 14,
   "metadata": {},
   "outputs": [
    {
     "data": {
      "image/png": "[encoded data removed]",
      "text/plain": [
       "<Figure size 576x288 with 2 Axes>"
      ]
     },
     "metadata": {
      "needs_background": "light"
     },
     "output_type": "display_data"
    }
   ],
   "source": [
    "corr_plot(data_1)"
   ]
  },
  {
   "cell_type": "code",
   "execution_count": 15,
   "metadata": {
    "scrolled": true
   },
   "outputs": [
    {
     "data": {
      "image/png": "[encoded data removed]",
      "text/plain": [
       "<Figure size 576x288 with 2 Axes>"
      ]
     },
     "metadata": {
      "needs_background": "light"
     },
     "output_type": "display_data"
    }
   ],
   "source": [
    "corr_plot(data_2)"
   ]
  },
  {
   "cell_type": "markdown",
   "metadata": {},
   "source": [
    "**Вывод**\n",
    "\n",
    "Во всех трех регионах присутствует высокая корреляция между точкой f2 и количеством продукта.  \n",
    "\n",
    "В описании данных не указанно что именно значат эти точки, но указано что они значимы. Удаление значений может негативно сказаться на последующем анализе."
   ]
  },
  {
   "cell_type": "markdown",
   "metadata": {},
   "source": [
    "## Обучение и проверка модели"
   ]
  },
  {
   "cell_type": "code",
   "execution_count": 16,
   "metadata": {},
   "outputs": [],
   "source": [
    "def train_model(data):\n",
    "    target = data['product']\n",
    "    features = data.drop('product', axis=1)\n",
    "    \n",
    "    features_train, features_valid, target_train, target_valid = train_test_split(\\\n",
    "                                features, target, test_size=0.25, random_state=12345)\n",
    "    \n",
    "    model = LinearRegression()\n",
    "    model.fit(features_train, target_train)\n",
    "    predicted_valid = model.predict(features_valid)\n",
    "    \n",
    "    dict_valid = {'target_valid' : target_valid,\n",
    "                  'predicted_valid' : predicted_valid}\n",
    "    df_valid = pd.DataFrame(data=dict_valid)\n",
    "    \n",
    "    predicted_valid_mean = predicted_valid.mean()\n",
    "    RMSE = mean_squared_error(target_valid, predicted_valid) ** 0.5\n",
    "    \n",
    "    return df_valid, predicted_valid_mean, RMSE"
   ]
  },
  {
   "cell_type": "code",
   "execution_count": 17,
   "metadata": {},
   "outputs": [
    {
     "name": "stdout",
     "output_type": "stream",
     "text": [
      "data_0\n",
      "Средний запас: 92.59256778438038\n",
      "RMSE: 37.5794217150813\n"
     ]
    }
   ],
   "source": [
    "df_valid_data_0, predicted_valid_mean_data_0, RMSE_data_0 = train_model(data_0)\n",
    "\n",
    "print('data_0')\n",
    "print('Средний запас:', predicted_valid_mean_data_0)\n",
    "print('RMSE:', RMSE_data_0)"
   ]
  },
  {
   "cell_type": "code",
   "execution_count": 18,
   "metadata": {},
   "outputs": [
    {
     "name": "stdout",
     "output_type": "stream",
     "text": [
      "data_1\n",
      "Средний запас: 68.728546895446\n",
      "RMSE: 0.893099286775616\n"
     ]
    }
   ],
   "source": [
    "df_valid_data_1, predicted_valid_mean_data_1, RMSE_data_1 = train_model(data_1)\n",
    "\n",
    "print('data_1')\n",
    "print('Средний запас:', predicted_valid_mean_data_1)\n",
    "print('RMSE:', RMSE_data_1)"
   ]
  },
  {
   "cell_type": "code",
   "execution_count": 19,
   "metadata": {},
   "outputs": [
    {
     "name": "stdout",
     "output_type": "stream",
     "text": [
      "data_2\n",
      "Средний запас: 94.96504596800489\n",
      "RMSE: 40.02970873393434\n"
     ]
    }
   ],
   "source": [
    "df_valid_data_2, predicted_valid_mean_data_2, RMSE_data_2 = train_model(data_2)\n",
    "\n",
    "print('data_2')\n",
    "print('Средний запас:', predicted_valid_mean_data_2)\n",
    "print('RMSE:', RMSE_data_2)"
   ]
  },
  {
   "cell_type": "markdown",
   "metadata": {},
   "source": [
    "**Вывод**\n",
    "\n",
    "Максимальный средний запас в регионе data_2, но в этом же регионе максимальное значение RMSE.  \n",
    "Минимальный средний запас в регионе data_1, в этом же регионе минимальное значение RMSE."
   ]
  },
  {
   "cell_type": "markdown",
   "metadata": {},
   "source": [
    "## Подготовка к расчёту прибыли"
   ]
  },
  {
   "cell_type": "markdown",
   "metadata": {},
   "source": [
    "### Ключевые значения"
   ]
  },
  {
   "cell_type": "code",
   "execution_count": 20,
   "metadata": {},
   "outputs": [],
   "source": [
    "POINTS_ALL = 500            #при разведке региона исследуют 500 точек\n",
    "POINTS_SELECT = 200         #200 лучших точек для разработки\n",
    "\n",
    "BUDGET_FOR_REGION = 1e+10   #бюджет на разработку скважин в регионе — 10 млрд рублей\n",
    "BARREL_ONE = 450                #один баррель сырья приносит 450 рублей\n",
    "BARREL_INCOME = 450000             #доход с каждой единицы продукта 450 тыс. рублей, объём указан в тысячах баррелей\n",
    "LOSS = 2.5                #вероятность убытков меньше 2.5% в регионе"
   ]
  },
  {
   "cell_type": "markdown",
   "metadata": {},
   "source": [
    "*Расчет достаточного объёма сырья для безубыточной разработки новой скважины*"
   ]
  },
  {
   "cell_type": "code",
   "execution_count": 21,
   "metadata": {
    "scrolled": true
   },
   "outputs": [
    {
     "name": "stdout",
     "output_type": "stream",
     "text": [
      "Объём сырья для безубыточной разработки новой скважины: 111.11111111111111\n"
     ]
    }
   ],
   "source": [
    "capacity_for_new = (BUDGET_FOR_REGION / BARREL_INCOME) / POINTS_SELECT\n",
    "print('Объём сырья для безубыточной разработки новой скважины:', capacity_for_new)"
   ]
  },
  {
   "cell_type": "markdown",
   "metadata": {},
   "source": [
    "### Средний запас сырья по регионам"
   ]
  },
  {
   "cell_type": "code",
   "execution_count": 22,
   "metadata": {},
   "outputs": [
    {
     "name": "stdout",
     "output_type": "stream",
     "text": [
      "Средний запас сырья в data_0: 92.50000000000001\n",
      "Средний запас сырья в data_1: 68.82500000000002\n",
      "Средний запас сырья в data_2: 95.00000000000004\n"
     ]
    }
   ],
   "source": [
    "print('Средний запас сырья в data_0:', data_0['product'].mean())\n",
    "print('Средний запас сырья в data_1:', data_1['product'].mean())\n",
    "print('Средний запас сырья в data_2:', data_2['product'].mean())"
   ]
  },
  {
   "cell_type": "code",
   "execution_count": 23,
   "metadata": {},
   "outputs": [
    {
     "data": {
      "text/html": [
       "<div>\n",
       "<style scoped>\n",
       "    .dataframe tbody tr th:only-of-type {\n",
       "        vertical-align: middle;\n",
       "    }\n",
       "\n",
       "    .dataframe tbody tr th {\n",
       "        vertical-align: top;\n",
       "    }\n",
       "\n",
       "    .dataframe thead th {\n",
       "        text-align: right;\n",
       "    }\n",
       "</style>\n",
       "<table border=\"1\" class=\"dataframe\">\n",
       "  <thead>\n",
       "    <tr style=\"text-align: right;\">\n",
       "      <th></th>\n",
       "      <th>data_0</th>\n",
       "      <th>data_1</th>\n",
       "      <th>data_2</th>\n",
       "    </tr>\n",
       "  </thead>\n",
       "  <tbody>\n",
       "    <tr>\n",
       "      <td>count</td>\n",
       "      <td>100000.000000</td>\n",
       "      <td>100000.000000</td>\n",
       "      <td>100000.000000</td>\n",
       "    </tr>\n",
       "    <tr>\n",
       "      <td>mean</td>\n",
       "      <td>92.500000</td>\n",
       "      <td>68.825000</td>\n",
       "      <td>95.000000</td>\n",
       "    </tr>\n",
       "    <tr>\n",
       "      <td>std</td>\n",
       "      <td>44.288691</td>\n",
       "      <td>45.944423</td>\n",
       "      <td>44.749921</td>\n",
       "    </tr>\n",
       "    <tr>\n",
       "      <td>min</td>\n",
       "      <td>0.000000</td>\n",
       "      <td>0.000000</td>\n",
       "      <td>0.000000</td>\n",
       "    </tr>\n",
       "    <tr>\n",
       "      <td>25%</td>\n",
       "      <td>56.497507</td>\n",
       "      <td>26.953261</td>\n",
       "      <td>59.450441</td>\n",
       "    </tr>\n",
       "    <tr>\n",
       "      <td>50%</td>\n",
       "      <td>91.849972</td>\n",
       "      <td>57.085625</td>\n",
       "      <td>94.925613</td>\n",
       "    </tr>\n",
       "    <tr>\n",
       "      <td>75%</td>\n",
       "      <td>128.564089</td>\n",
       "      <td>107.813044</td>\n",
       "      <td>130.595027</td>\n",
       "    </tr>\n",
       "    <tr>\n",
       "      <td>max</td>\n",
       "      <td>185.364347</td>\n",
       "      <td>137.945408</td>\n",
       "      <td>190.029838</td>\n",
       "    </tr>\n",
       "  </tbody>\n",
       "</table>\n",
       "</div>"
      ],
      "text/plain": [
       "              data_0         data_1         data_2\n",
       "count  100000.000000  100000.000000  100000.000000\n",
       "mean       92.500000      68.825000      95.000000\n",
       "std        44.288691      45.944423      44.749921\n",
       "min         0.000000       0.000000       0.000000\n",
       "25%        56.497507      26.953261      59.450441\n",
       "50%        91.849972      57.085625      94.925613\n",
       "75%       128.564089     107.813044     130.595027\n",
       "max       185.364347     137.945408     190.029838"
      ]
     },
     "execution_count": 23,
     "metadata": {},
     "output_type": "execute_result"
    }
   ],
   "source": [
    "d_0 = data_0['product'].describe()\n",
    "d_1 = data_1['product'].describe()\n",
    "d_2 = data_2['product'].describe()\n",
    "\n",
    "desc_table = pd.concat([d_0, d_1, d_2], keys=['data_0', 'data_1', 'data_2'], axis=1)\n",
    "desc_table"
   ]
  },
  {
   "cell_type": "code",
   "execution_count": 24,
   "metadata": {
    "scrolled": false
   },
   "outputs": [
    {
     "data": {
      "image/png": "[encoded data removed]",
      "text/plain": [
       "<Figure size 1440x720 with 1 Axes>"
      ]
     },
     "metadata": {
      "needs_background": "light"
     },
     "output_type": "display_data"
    }
   ],
   "source": [
    "plt.figure(figsize=(20,10))\n",
    "\n",
    "data_0['product'].hist(bins=50, alpha=0.5)\n",
    "data_1['product'].hist(bins=50, alpha=0.5)\n",
    "data_2['product'].hist(bins=50, alpha=0.5)\n",
    "x1, y1 = [111.111, 111.111], [0, 8500]\n",
    "plt.plot(x1, y1, marker = '_')\n",
    "\n",
    "plt.title('Запас сырья по регионам')\n",
    "plt.ylabel('количество сырья в скважине')\n",
    "plt.xlabel('скважины')\n",
    "plt.legend(['Объём сырья для безубыточной разработки новой скважины', 'data_0','data_1', 'data_2'])\n",
    "plt.show()"
   ]
  },
  {
   "cell_type": "markdown",
   "metadata": {},
   "source": [
    "**Вывод**\n",
    "\n",
    "Средний запас сырья в трех выбранных регионах ниже необходимого среднего запаса для безубыточной разработки новой скважины.  \n",
    "В регионах data_0 и data_2 общий запас выше, чем в регионе data_1."
   ]
  },
  {
   "cell_type": "markdown",
   "metadata": {},
   "source": [
    "## Расчёт прибыли и рисков "
   ]
  },
  {
   "cell_type": "markdown",
   "metadata": {},
   "source": [
    "### Расчет прибыли каждого региона"
   ]
  },
  {
   "cell_type": "code",
   "execution_count": 25,
   "metadata": {},
   "outputs": [],
   "source": [
    "def profit(target_valid, predicted_valid):\n",
    "    probs_sorted = predicted_valid.sort_values(ascending=False)\n",
    "    selected = target_valid[probs_sorted.index][:POINTS_SELECT]\n",
    "    return (selected.sum() * BARREL_INCOME) - BUDGET_FOR_REGION"
   ]
  },
  {
   "cell_type": "code",
   "execution_count": 26,
   "metadata": {},
   "outputs": [
    {
     "name": "stdout",
     "output_type": "stream",
     "text": [
      "Прибыль в регионе data_0: 3.3208260431398524 млрд. рублей.\n"
     ]
    }
   ],
   "source": [
    "profit_data_0 = profit(df_valid_data_0['target_valid'], df_valid_data_0['predicted_valid'])\n",
    "print('Прибыль в регионе data_0:', profit_data_0 / 1e+9, 'млрд. рублей.')"
   ]
  },
  {
   "cell_type": "code",
   "execution_count": 27,
   "metadata": {},
   "outputs": [
    {
     "name": "stdout",
     "output_type": "stream",
     "text": [
      "Прибыль в регионе data_1: 2.4150866966815108 млрд. рублей.\n"
     ]
    }
   ],
   "source": [
    "profit_data_1 = profit(df_valid_data_1['target_valid'], df_valid_data_1['predicted_valid'])\n",
    "print('Прибыль в регионе data_1:', profit_data_1 / 1e+9, 'млрд. рублей.')"
   ]
  },
  {
   "cell_type": "code",
   "execution_count": 28,
   "metadata": {},
   "outputs": [
    {
     "name": "stdout",
     "output_type": "stream",
     "text": [
      "Прибыль в регионе data_2: 2.7103499635998327 млрд. рублей.\n"
     ]
    }
   ],
   "source": [
    "profit_data_2 = profit(df_valid_data_2['target_valid'], df_valid_data_2['predicted_valid'])\n",
    "print('Прибыль в регионе data_2:', profit_data_2 / 1e+9, 'млрд. рублей.')"
   ]
  },
  {
   "cell_type": "markdown",
   "metadata": {},
   "source": [
    "**Вывод**\n",
    "\n",
    "Возможная максимальная прибыль в регионе data_0."
   ]
  },
  {
   "cell_type": "markdown",
   "metadata": {},
   "source": [
    "### Расчет рисков каждого региона"
   ]
  },
  {
   "cell_type": "code",
   "execution_count": 29,
   "metadata": {},
   "outputs": [],
   "source": [
    "state = np.random.RandomState(12345)\n",
    "\n",
    "def bootstrap(target_valid, predicted_valid):\n",
    "    values = []\n",
    "    \n",
    "    for i in range(1000):\n",
    "        target_subsample = target_valid.sample(n=POINTS_ALL, replace=True, random_state=state)\n",
    "        probs_subsample = predicted_valid[target_subsample.index]\n",
    "        values.append(profit(target_subsample, probs_subsample))\n",
    "    values = pd.Series(values)\n",
    "\n",
    "    mean_val = values.mean()\n",
    "    lower = values.quantile(0.025)\n",
    "    upper = values.quantile(0.975)\n",
    "    \n",
    "    pos_risk = stats.percentileofscore(values, 0)\n",
    "    \n",
    "    print(\"Средняя выручка:\", mean_val)\n",
    "    print(\"95%-й доверительный интервал от:\", lower, \"до\", upper)\n",
    "    print(\"Риск убытков\", pos_risk, \"%\")\n",
    "    \n",
    "    return mean_val, lower, upper, pos_risk"
   ]
  },
  {
   "cell_type": "code",
   "execution_count": 30,
   "metadata": {},
   "outputs": [
    {
     "name": "stdout",
     "output_type": "stream",
     "text": [
      "Средняя выручка: 425938526.9105923\n",
      "95%-й доверительный интервал от: -102090094.83793654 до 947976353.358369\n",
      "Риск убытков 6.0 %\n"
     ]
    }
   ],
   "source": [
    "mean_val_data_0, lower_data_0, upper_data_0, pos_risk_data_0 = bootstrap(\n",
    "    df_valid_data_0['target_valid'], df_valid_data_0['predicted_valid'])"
   ]
  },
  {
   "cell_type": "code",
   "execution_count": 31,
   "metadata": {},
   "outputs": [
    {
     "name": "stdout",
     "output_type": "stream",
     "text": [
      "Средняя выручка: 518259493.69732493\n",
      "95%-й доверительный интервал от: 128123231.43308629 до 953612982.0669085\n",
      "Риск убытков 0.3 %\n"
     ]
    }
   ],
   "source": [
    "mean_val_data_1, lower_data_1, upper_data_1, pos_risk_data_1 = bootstrap(\n",
    "    df_valid_data_1['target_valid'], df_valid_data_1['predicted_valid'])"
   ]
  },
  {
   "cell_type": "code",
   "execution_count": 32,
   "metadata": {},
   "outputs": [
    {
     "name": "stdout",
     "output_type": "stream",
     "text": [
      "Средняя выручка: 420194005.34405005\n",
      "95%-й доверительный интервал от: -115852609.16001143 до 989629939.844574\n",
      "Риск убытков 6.2 %\n"
     ]
    }
   ],
   "source": [
    "mean_val_data_2, lower_data_2, upper_data_2, pos_risk_data_2 = bootstrap(\n",
    "    df_valid_data_2['target_valid'], df_valid_data_2['predicted_valid'])"
   ]
  },
  {
   "cell_type": "markdown",
   "metadata": {},
   "source": [
    "**Вывод**\n",
    "\n",
    "Для разработки нового региона риск убытков должен составлять менее 2,5%. Подходит только регион data_1."
   ]
  },
  {
   "cell_type": "markdown",
   "metadata": {},
   "source": [
    "## Общий вывод"
   ]
  },
  {
   "cell_type": "code",
   "execution_count": 33,
   "metadata": {},
   "outputs": [
    {
     "data": {
      "text/html": [
       "<div>\n",
       "<style scoped>\n",
       "    .dataframe tbody tr th:only-of-type {\n",
       "        vertical-align: middle;\n",
       "    }\n",
       "\n",
       "    .dataframe tbody tr th {\n",
       "        vertical-align: top;\n",
       "    }\n",
       "\n",
       "    .dataframe thead th {\n",
       "        text-align: right;\n",
       "    }\n",
       "</style>\n",
       "<table border=\"1\" class=\"dataframe\">\n",
       "  <thead>\n",
       "    <tr style=\"text-align: right;\">\n",
       "      <th></th>\n",
       "      <th>Регион</th>\n",
       "      <th>Средний запас сырья</th>\n",
       "      <th>Прибыль</th>\n",
       "      <th>Средняя выручка</th>\n",
       "      <th>Ниж. довер. инт.</th>\n",
       "      <th>Верх. довер. инт.</th>\n",
       "      <th>Риск убытков</th>\n",
       "    </tr>\n",
       "  </thead>\n",
       "  <tbody>\n",
       "    <tr>\n",
       "      <td>0</td>\n",
       "      <td>data_0</td>\n",
       "      <td>92.500</td>\n",
       "      <td>3.320826e+09</td>\n",
       "      <td>4.259385e+08</td>\n",
       "      <td>-1.020901e+08</td>\n",
       "      <td>9.479764e+08</td>\n",
       "      <td>6.0</td>\n",
       "    </tr>\n",
       "    <tr>\n",
       "      <td>1</td>\n",
       "      <td>data_1</td>\n",
       "      <td>68.825</td>\n",
       "      <td>2.415087e+09</td>\n",
       "      <td>5.182595e+08</td>\n",
       "      <td>1.281232e+08</td>\n",
       "      <td>9.536130e+08</td>\n",
       "      <td>0.3</td>\n",
       "    </tr>\n",
       "    <tr>\n",
       "      <td>2</td>\n",
       "      <td>data_2</td>\n",
       "      <td>95.000</td>\n",
       "      <td>2.710350e+09</td>\n",
       "      <td>4.201940e+08</td>\n",
       "      <td>-1.158526e+08</td>\n",
       "      <td>9.896299e+08</td>\n",
       "      <td>6.2</td>\n",
       "    </tr>\n",
       "  </tbody>\n",
       "</table>\n",
       "</div>"
      ],
      "text/plain": [
       "   Регион  Средний запас сырья       Прибыль  Средняя выручка  \\\n",
       "0  data_0               92.500  3.320826e+09     4.259385e+08   \n",
       "1  data_1               68.825  2.415087e+09     5.182595e+08   \n",
       "2  data_2               95.000  2.710350e+09     4.201940e+08   \n",
       "\n",
       "   Ниж. довер. инт.  Верх. довер. инт.  Риск убытков  \n",
       "0     -1.020901e+08       9.479764e+08           6.0  \n",
       "1      1.281232e+08       9.536130e+08           0.3  \n",
       "2     -1.158526e+08       9.896299e+08           6.2  "
      ]
     },
     "execution_count": 33,
     "metadata": {},
     "output_type": "execute_result"
    }
   ],
   "source": [
    "overall = pd.DataFrame({\n",
    "    'Регион': [data_0.name, data_1.name, data_2.name],\n",
    "    'Средний запас сырья': [data_0['product'].mean(), data_1['product'].mean(), data_2['product'].mean()],\n",
    "    'Прибыль': [profit_data_0, profit_data_1, profit_data_2],\n",
    "    'Средняя выручка': [mean_val_data_0, mean_val_data_1, mean_val_data_2],\n",
    "    'Ниж. довер. инт.': [lower_data_0, lower_data_1, lower_data_2],\n",
    "    'Верх. довер. инт.': [upper_data_0, upper_data_1, upper_data_2],\n",
    "    'Риск убытков': [pos_risk_data_0, pos_risk_data_1, pos_risk_data_2], })\n",
    "overall"
   ]
  },
  {
   "cell_type": "markdown",
   "metadata": {},
   "source": [
    "**Вывод**\n",
    "\n",
    "Для разработки подходит регион data_1, так как риск убытков составляет 0,3%, что меньше, чем 2,5%\n",
    "\n",
    "Самым прибыльным регионом является data_1, однако риск убытков составляет 6%."
   ]
  }
 ],
 "metadata": {
  "ExecuteTimeLog": [
   {
    "duration": 614,
    "start_time": "2021-07-13T18:32:11.402Z"
   },
   {
    "duration": 351,
    "start_time": "2021-07-13T18:33:04.109Z"
   },
   {
    "duration": 353,
    "start_time": "2021-07-13T18:33:40.030Z"
   },
   {
    "duration": 22,
    "start_time": "2021-07-13T18:33:52.097Z"
   },
   {
    "duration": 16,
    "start_time": "2021-07-13T18:34:07.014Z"
   },
   {
    "duration": 17,
    "start_time": "2021-07-13T18:34:14.758Z"
   },
   {
    "duration": 385,
    "start_time": "2021-07-14T06:42:20.000Z"
   },
   {
    "duration": 320,
    "start_time": "2021-07-14T06:42:36.230Z"
   },
   {
    "duration": 711,
    "start_time": "2021-07-14T06:42:48.554Z"
   },
   {
    "duration": 478,
    "start_time": "2021-07-14T06:42:49.267Z"
   },
   {
    "duration": 34,
    "start_time": "2021-07-14T06:42:49.751Z"
   },
   {
    "duration": 45,
    "start_time": "2021-07-14T06:42:49.787Z"
   },
   {
    "duration": 24,
    "start_time": "2021-07-14T06:42:49.834Z"
   },
   {
    "duration": 65,
    "start_time": "2021-07-14T06:42:49.861Z"
   },
   {
    "duration": 811,
    "start_time": "2021-07-14T06:43:07.741Z"
   },
   {
    "duration": 768,
    "start_time": "2021-07-14T06:43:37.490Z"
   },
   {
    "duration": 479,
    "start_time": "2021-07-14T06:43:38.262Z"
   },
   {
    "duration": 38,
    "start_time": "2021-07-14T06:43:38.744Z"
   },
   {
    "duration": 43,
    "start_time": "2021-07-14T06:43:38.784Z"
   },
   {
    "duration": 24,
    "start_time": "2021-07-14T06:43:38.829Z"
   },
   {
    "duration": 14,
    "start_time": "2021-07-14T06:43:38.855Z"
   },
   {
    "duration": 15,
    "start_time": "2021-07-14T06:43:57.744Z"
   },
   {
    "duration": 16,
    "start_time": "2021-07-14T06:44:14.134Z"
   },
   {
    "duration": 16,
    "start_time": "2021-07-14T06:44:14.477Z"
   },
   {
    "duration": 52,
    "start_time": "2021-07-14T07:47:39.454Z"
   },
   {
    "duration": 50,
    "start_time": "2021-07-14T07:47:42.673Z"
   },
   {
    "duration": 36,
    "start_time": "2021-07-14T07:47:46.011Z"
   },
   {
    "duration": 17,
    "start_time": "2021-07-14T07:48:05.913Z"
   },
   {
    "duration": 760,
    "start_time": "2021-07-14T07:50:04.129Z"
   },
   {
    "duration": 555,
    "start_time": "2021-07-14T07:50:09.919Z"
   },
   {
    "duration": 454,
    "start_time": "2021-07-14T07:50:21.305Z"
   },
   {
    "duration": 417,
    "start_time": "2021-07-14T07:50:33.603Z"
   },
   {
    "duration": 415,
    "start_time": "2021-07-14T07:50:54.230Z"
   },
   {
    "duration": 443,
    "start_time": "2021-07-14T07:51:51.844Z"
   },
   {
    "duration": 44,
    "start_time": "2021-07-14T07:59:51.948Z"
   },
   {
    "duration": 121,
    "start_time": "2021-07-14T08:36:10.934Z"
   },
   {
    "duration": 126,
    "start_time": "2021-07-14T08:37:36.790Z"
   },
   {
    "duration": 5,
    "start_time": "2021-07-14T08:51:59.434Z"
   },
   {
    "duration": 745,
    "start_time": "2021-07-14T08:52:00.708Z"
   },
   {
    "duration": 4,
    "start_time": "2021-07-14T08:52:11.252Z"
   },
   {
    "duration": 596,
    "start_time": "2021-07-14T08:52:11.725Z"
   },
   {
    "duration": 5,
    "start_time": "2021-07-14T08:52:27.848Z"
   },
   {
    "duration": 403,
    "start_time": "2021-07-14T08:52:28.101Z"
   },
   {
    "duration": 5,
    "start_time": "2021-07-14T08:52:46.878Z"
   },
   {
    "duration": 412,
    "start_time": "2021-07-14T08:52:47.196Z"
   },
   {
    "duration": 5,
    "start_time": "2021-07-14T08:54:21.321Z"
   },
   {
    "duration": 1025,
    "start_time": "2021-07-14T08:54:21.762Z"
   },
   {
    "duration": 6,
    "start_time": "2021-07-14T08:55:28.821Z"
   },
   {
    "duration": 493,
    "start_time": "2021-07-14T08:55:29.624Z"
   },
   {
    "duration": 5,
    "start_time": "2021-07-14T08:58:17.430Z"
   },
   {
    "duration": 960,
    "start_time": "2021-07-14T08:58:18.122Z"
   },
   {
    "duration": 5,
    "start_time": "2021-07-14T08:58:25.080Z"
   },
   {
    "duration": 939,
    "start_time": "2021-07-14T08:58:25.410Z"
   },
   {
    "duration": 5,
    "start_time": "2021-07-14T08:58:40.257Z"
   },
   {
    "duration": 535,
    "start_time": "2021-07-14T08:58:40.642Z"
   },
   {
    "duration": 6,
    "start_time": "2021-07-14T08:59:54.471Z"
   },
   {
    "duration": 984,
    "start_time": "2021-07-14T08:59:54.846Z"
   },
   {
    "duration": 5,
    "start_time": "2021-07-14T09:00:44.917Z"
   },
   {
    "duration": 545,
    "start_time": "2021-07-14T09:00:46.483Z"
   },
   {
    "duration": 5,
    "start_time": "2021-07-14T09:01:42.375Z"
   },
   {
    "duration": 1073,
    "start_time": "2021-07-14T09:01:42.908Z"
   },
   {
    "duration": 342,
    "start_time": "2021-07-14T09:04:47.024Z"
   },
   {
    "duration": 1488,
    "start_time": "2021-07-14T09:05:13.838Z"
   },
   {
    "duration": 483,
    "start_time": "2021-07-14T09:05:15.329Z"
   },
   {
    "duration": 31,
    "start_time": "2021-07-14T09:05:15.816Z"
   },
   {
    "duration": 25,
    "start_time": "2021-07-14T09:05:16.070Z"
   },
   {
    "duration": 26,
    "start_time": "2021-07-14T09:05:19.404Z"
   },
   {
    "duration": 15,
    "start_time": "2021-07-14T09:05:27.989Z"
   },
   {
    "duration": 19,
    "start_time": "2021-07-14T09:05:28.912Z"
   },
   {
    "duration": 16,
    "start_time": "2021-07-14T09:05:30.416Z"
   },
   {
    "duration": 16,
    "start_time": "2021-07-14T09:05:30.759Z"
   },
   {
    "duration": 130,
    "start_time": "2021-07-14T09:05:38.362Z"
   },
   {
    "duration": 6,
    "start_time": "2021-07-14T09:05:42.056Z"
   },
   {
    "duration": 546,
    "start_time": "2021-07-14T09:05:42.597Z"
   },
   {
    "duration": 4,
    "start_time": "2021-07-14T09:07:35.562Z"
   },
   {
    "duration": 439,
    "start_time": "2021-07-14T09:07:36.085Z"
   },
   {
    "duration": 452,
    "start_time": "2021-07-14T09:09:23.046Z"
   },
   {
    "duration": 5,
    "start_time": "2021-07-14T09:11:23.604Z"
   },
   {
    "duration": 1015,
    "start_time": "2021-07-14T09:11:23.839Z"
   },
   {
    "duration": 6,
    "start_time": "2021-07-14T09:11:31.788Z"
   },
   {
    "duration": 949,
    "start_time": "2021-07-14T09:11:32.093Z"
   },
   {
    "duration": 6,
    "start_time": "2021-07-14T09:11:38.581Z"
   },
   {
    "duration": 1088,
    "start_time": "2021-07-14T09:11:38.714Z"
   },
   {
    "duration": 5,
    "start_time": "2021-07-14T09:12:03.995Z"
   },
   {
    "duration": 1107,
    "start_time": "2021-07-14T09:12:04.457Z"
   },
   {
    "duration": 4,
    "start_time": "2021-07-14T09:17:01.359Z"
   },
   {
    "duration": 5,
    "start_time": "2021-07-14T09:17:09.862Z"
   },
   {
    "duration": 499,
    "start_time": "2021-07-14T09:17:10.538Z"
   },
   {
    "duration": 5,
    "start_time": "2021-07-14T09:17:17.498Z"
   },
   {
    "duration": 427,
    "start_time": "2021-07-14T09:17:20.801Z"
   },
   {
    "duration": 12,
    "start_time": "2021-07-14T09:17:49.558Z"
   },
   {
    "duration": 4,
    "start_time": "2021-07-14T09:18:40.364Z"
   },
   {
    "duration": 5,
    "start_time": "2021-07-14T09:18:41.040Z"
   },
   {
    "duration": 416,
    "start_time": "2021-07-14T09:18:41.825Z"
   },
   {
    "duration": 12,
    "start_time": "2021-07-14T09:18:42.726Z"
   },
   {
    "duration": 1494,
    "start_time": "2021-07-14T09:19:46.263Z"
   },
   {
    "duration": 469,
    "start_time": "2021-07-14T09:19:47.760Z"
   },
   {
    "duration": 28,
    "start_time": "2021-07-14T09:19:48.232Z"
   },
   {
    "duration": 25,
    "start_time": "2021-07-14T09:19:48.262Z"
   },
   {
    "duration": 24,
    "start_time": "2021-07-14T09:19:48.308Z"
   },
   {
    "duration": 19,
    "start_time": "2021-07-14T09:19:48.335Z"
   },
   {
    "duration": 28,
    "start_time": "2021-07-14T09:19:48.356Z"
   },
   {
    "duration": 35,
    "start_time": "2021-07-14T09:19:48.389Z"
   },
   {
    "duration": 42,
    "start_time": "2021-07-14T09:19:48.427Z"
   },
   {
    "duration": 141,
    "start_time": "2021-07-14T09:19:48.473Z"
   },
   {
    "duration": 6,
    "start_time": "2021-07-14T09:19:48.618Z"
   },
   {
    "duration": 1312,
    "start_time": "2021-07-14T09:19:48.627Z"
   },
   {
    "duration": -285,
    "start_time": "2021-07-14T09:19:50.226Z"
   },
   {
    "duration": -286,
    "start_time": "2021-07-14T09:19:50.228Z"
   },
   {
    "duration": -286,
    "start_time": "2021-07-14T09:19:50.230Z"
   },
   {
    "duration": 11,
    "start_time": "2021-07-14T09:19:58.627Z"
   },
   {
    "duration": 9,
    "start_time": "2021-07-14T09:20:04.699Z"
   },
   {
    "duration": 947,
    "start_time": "2021-07-14T09:21:25.482Z"
   },
   {
    "duration": 5,
    "start_time": "2021-07-14T09:21:37.988Z"
   },
   {
    "duration": 428,
    "start_time": "2021-07-14T09:21:38.494Z"
   },
   {
    "duration": 4,
    "start_time": "2021-07-14T09:23:13.193Z"
   },
   {
    "duration": 5,
    "start_time": "2021-07-14T09:23:55.081Z"
   },
   {
    "duration": 442,
    "start_time": "2021-07-14T09:23:55.461Z"
   },
   {
    "duration": 495,
    "start_time": "2021-07-14T09:24:02.248Z"
   },
   {
    "duration": 9,
    "start_time": "2021-07-14T09:24:22.488Z"
   },
   {
    "duration": 441,
    "start_time": "2021-07-14T09:24:34.592Z"
   },
   {
    "duration": 510,
    "start_time": "2021-07-14T09:24:44.516Z"
   },
   {
    "duration": 4,
    "start_time": "2021-07-14T10:33:15.429Z"
   },
   {
    "duration": 14,
    "start_time": "2021-07-14T10:36:52.746Z"
   },
   {
    "duration": 22,
    "start_time": "2021-07-14T10:47:46.685Z"
   },
   {
    "duration": 4,
    "start_time": "2021-07-14T10:55:20.021Z"
   },
   {
    "duration": 6,
    "start_time": "2021-07-14T11:01:06.687Z"
   },
   {
    "duration": 1129,
    "start_time": "2021-07-14T11:01:17.856Z"
   },
   {
    "duration": 412,
    "start_time": "2021-07-14T11:03:42.005Z"
   },
   {
    "duration": 5,
    "start_time": "2021-07-14T11:11:03.369Z"
   },
   {
    "duration": 5,
    "start_time": "2021-07-14T11:19:00.098Z"
   },
   {
    "duration": 635,
    "start_time": "2021-07-14T11:19:00.643Z"
   },
   {
    "duration": 7,
    "start_time": "2021-07-14T11:19:06.537Z"
   },
   {
    "duration": 662,
    "start_time": "2021-07-14T11:19:06.906Z"
   },
   {
    "duration": 6,
    "start_time": "2021-07-14T11:20:36.474Z"
   },
   {
    "duration": 746,
    "start_time": "2021-07-14T11:20:36.833Z"
   },
   {
    "duration": 5,
    "start_time": "2021-07-14T11:21:49.905Z"
   },
   {
    "duration": 639,
    "start_time": "2021-07-14T11:21:50.169Z"
   },
   {
    "duration": 340,
    "start_time": "2021-07-14T11:23:38.022Z"
   },
   {
    "duration": 315,
    "start_time": "2021-07-14T11:29:13.351Z"
   },
   {
    "duration": 324,
    "start_time": "2021-07-14T11:29:45.804Z"
   },
   {
    "duration": 29,
    "start_time": "2021-07-14T11:30:05.238Z"
   },
   {
    "duration": 6,
    "start_time": "2021-07-14T11:30:16.420Z"
   },
   {
    "duration": 713,
    "start_time": "2021-07-14T11:30:22.786Z"
   },
   {
    "duration": 31,
    "start_time": "2021-07-14T11:30:27.837Z"
   },
   {
    "duration": 385,
    "start_time": "2021-07-14T11:31:17.978Z"
   },
   {
    "duration": 358,
    "start_time": "2021-07-14T11:31:31.881Z"
   },
   {
    "duration": 1533,
    "start_time": "2021-07-14T11:31:58.130Z"
   },
   {
    "duration": 549,
    "start_time": "2021-07-14T11:31:59.666Z"
   },
   {
    "duration": 29,
    "start_time": "2021-07-14T11:32:00.219Z"
   },
   {
    "duration": 23,
    "start_time": "2021-07-14T11:32:00.251Z"
   },
   {
    "duration": 49,
    "start_time": "2021-07-14T11:32:00.277Z"
   },
   {
    "duration": 16,
    "start_time": "2021-07-14T11:32:00.329Z"
   },
   {
    "duration": 25,
    "start_time": "2021-07-14T11:32:00.347Z"
   },
   {
    "duration": 19,
    "start_time": "2021-07-14T11:32:00.376Z"
   },
   {
    "duration": 22,
    "start_time": "2021-07-14T11:32:00.408Z"
   },
   {
    "duration": 199,
    "start_time": "2021-07-14T11:32:00.433Z"
   },
   {
    "duration": 3,
    "start_time": "2021-07-14T11:32:00.635Z"
   },
   {
    "duration": 12,
    "start_time": "2021-07-14T11:32:00.641Z"
   },
   {
    "duration": 461,
    "start_time": "2021-07-14T11:32:00.656Z"
   },
   {
    "duration": 399,
    "start_time": "2021-07-14T11:32:01.120Z"
   },
   {
    "duration": 416,
    "start_time": "2021-07-14T11:32:01.522Z"
   },
   {
    "duration": 6,
    "start_time": "2021-07-14T11:32:01.940Z"
   },
   {
    "duration": 841,
    "start_time": "2021-07-14T11:32:01.949Z"
   },
   {
    "duration": 4,
    "start_time": "2021-07-14T11:33:00.933Z"
   },
   {
    "duration": 6,
    "start_time": "2021-07-14T11:33:04.229Z"
   },
   {
    "duration": 643,
    "start_time": "2021-07-14T11:33:04.996Z"
   },
   {
    "duration": 3,
    "start_time": "2021-07-14T11:39:54.624Z"
   },
   {
    "duration": 9,
    "start_time": "2021-07-14T11:39:56.851Z"
   },
   {
    "duration": 667,
    "start_time": "2021-07-14T11:39:57.790Z"
   },
   {
    "duration": 4,
    "start_time": "2021-07-14T11:43:16.919Z"
   },
   {
    "duration": 19,
    "start_time": "2021-07-14T11:43:26.700Z"
   },
   {
    "duration": 19,
    "start_time": "2021-07-14T11:43:51.012Z"
   },
   {
    "duration": 19,
    "start_time": "2021-07-14T11:43:51.333Z"
   },
   {
    "duration": 18,
    "start_time": "2021-07-14T11:44:49.036Z"
   },
   {
    "duration": 7,
    "start_time": "2021-07-14T11:45:12.101Z"
   },
   {
    "duration": 633,
    "start_time": "2021-07-14T11:45:12.565Z"
   },
   {
    "duration": 6,
    "start_time": "2021-07-14T11:45:51.382Z"
   },
   {
    "duration": 616,
    "start_time": "2021-07-14T11:45:51.582Z"
   },
   {
    "duration": 4,
    "start_time": "2021-07-14T11:52:59.281Z"
   },
   {
    "duration": 6,
    "start_time": "2021-07-14T11:53:02.951Z"
   },
   {
    "duration": 1102,
    "start_time": "2021-07-14T11:53:03.857Z"
   },
   {
    "duration": 1656,
    "start_time": "2021-07-14T11:53:11.779Z"
   },
   {
    "duration": 468,
    "start_time": "2021-07-14T11:53:13.438Z"
   },
   {
    "duration": 30,
    "start_time": "2021-07-14T11:53:13.912Z"
   },
   {
    "duration": 23,
    "start_time": "2021-07-14T11:53:13.944Z"
   },
   {
    "duration": 58,
    "start_time": "2021-07-14T11:53:13.970Z"
   },
   {
    "duration": 16,
    "start_time": "2021-07-14T11:53:14.031Z"
   },
   {
    "duration": 33,
    "start_time": "2021-07-14T11:53:14.050Z"
   },
   {
    "duration": 38,
    "start_time": "2021-07-14T11:53:14.085Z"
   },
   {
    "duration": 21,
    "start_time": "2021-07-14T11:53:14.125Z"
   },
   {
    "duration": 139,
    "start_time": "2021-07-14T11:53:14.148Z"
   },
   {
    "duration": 4,
    "start_time": "2021-07-14T11:53:14.290Z"
   },
   {
    "duration": 33,
    "start_time": "2021-07-14T11:53:14.296Z"
   },
   {
    "duration": 474,
    "start_time": "2021-07-14T11:53:14.332Z"
   },
   {
    "duration": 416,
    "start_time": "2021-07-14T11:53:14.808Z"
   },
   {
    "duration": 413,
    "start_time": "2021-07-14T11:53:15.226Z"
   },
   {
    "duration": 7,
    "start_time": "2021-07-14T11:53:15.641Z"
   },
   {
    "duration": 916,
    "start_time": "2021-07-14T11:53:15.650Z"
   },
   {
    "duration": 7,
    "start_time": "2021-07-14T11:54:55.838Z"
   },
   {
    "duration": 674,
    "start_time": "2021-07-14T11:54:56.069Z"
   },
   {
    "duration": 11,
    "start_time": "2021-07-14T11:56:35.945Z"
   },
   {
    "duration": 1131,
    "start_time": "2021-07-14T11:56:36.696Z"
   },
   {
    "duration": 7,
    "start_time": "2021-07-14T11:56:51.897Z"
   },
   {
    "duration": 1209,
    "start_time": "2021-07-14T11:56:52.256Z"
   },
   {
    "duration": 6,
    "start_time": "2021-07-14T11:57:01.081Z"
   },
   {
    "duration": 1600,
    "start_time": "2021-07-14T11:57:01.314Z"
   },
   {
    "duration": 7,
    "start_time": "2021-07-14T11:57:10.631Z"
   },
   {
    "duration": 1393,
    "start_time": "2021-07-14T11:57:12.841Z"
   },
   {
    "duration": 7,
    "start_time": "2021-07-14T11:57:22.970Z"
   },
   {
    "duration": 1418,
    "start_time": "2021-07-14T11:57:27.163Z"
   },
   {
    "duration": 1970,
    "start_time": "2021-07-14T12:25:05.272Z"
   },
   {
    "duration": 503,
    "start_time": "2021-07-14T12:25:07.245Z"
   },
   {
    "duration": 31,
    "start_time": "2021-07-14T12:25:07.752Z"
   },
   {
    "duration": 53,
    "start_time": "2021-07-14T12:25:07.787Z"
   },
   {
    "duration": 22,
    "start_time": "2021-07-14T12:25:07.842Z"
   },
   {
    "duration": 43,
    "start_time": "2021-07-14T12:25:07.867Z"
   },
   {
    "duration": 32,
    "start_time": "2021-07-14T12:25:07.912Z"
   },
   {
    "duration": 16,
    "start_time": "2021-07-14T12:25:07.947Z"
   },
   {
    "duration": 31,
    "start_time": "2021-07-14T12:25:07.966Z"
   },
   {
    "duration": 154,
    "start_time": "2021-07-14T12:25:07.999Z"
   },
   {
    "duration": 4,
    "start_time": "2021-07-14T12:25:08.156Z"
   },
   {
    "duration": 20,
    "start_time": "2021-07-14T12:25:08.163Z"
   },
   {
    "duration": 530,
    "start_time": "2021-07-14T12:25:08.186Z"
   },
   {
    "duration": 461,
    "start_time": "2021-07-14T12:25:08.718Z"
   },
   {
    "duration": 447,
    "start_time": "2021-07-14T12:25:09.182Z"
   },
   {
    "duration": 6,
    "start_time": "2021-07-14T12:25:09.632Z"
   },
   {
    "duration": 1529,
    "start_time": "2021-07-14T12:25:09.640Z"
   },
   {
    "duration": 7,
    "start_time": "2021-07-14T12:42:57.771Z"
   },
   {
    "duration": 687,
    "start_time": "2021-07-14T12:42:58.451Z"
   },
   {
    "duration": 6,
    "start_time": "2021-07-14T12:47:02.329Z"
   },
   {
    "duration": 625,
    "start_time": "2021-07-14T12:47:02.546Z"
   },
   {
    "duration": 4,
    "start_time": "2021-07-14T12:47:23.287Z"
   },
   {
    "duration": 7,
    "start_time": "2021-07-14T12:47:27.591Z"
   },
   {
    "duration": 934,
    "start_time": "2021-07-14T12:47:28.033Z"
   },
   {
    "duration": 4,
    "start_time": "2021-07-14T12:48:11.055Z"
   },
   {
    "duration": 6,
    "start_time": "2021-07-14T12:49:58.544Z"
   },
   {
    "duration": 36,
    "start_time": "2021-07-14T12:50:00.364Z"
   },
   {
    "duration": 4,
    "start_time": "2021-07-14T13:15:09.369Z"
   },
   {
    "duration": 6,
    "start_time": "2021-07-14T13:15:09.923Z"
   },
   {
    "duration": 867,
    "start_time": "2021-07-14T13:15:10.478Z"
   },
   {
    "duration": 12,
    "start_time": "2021-07-14T13:16:26.925Z"
   },
   {
    "duration": 652,
    "start_time": "2021-07-14T13:16:28.642Z"
   },
   {
    "duration": 7,
    "start_time": "2021-07-14T13:22:36.382Z"
   },
   {
    "duration": 36,
    "start_time": "2021-07-14T13:22:36.827Z"
   },
   {
    "duration": 36,
    "start_time": "2021-07-14T13:22:37.861Z"
   },
   {
    "duration": 33,
    "start_time": "2021-07-14T13:22:40.969Z"
   },
   {
    "duration": 30,
    "start_time": "2021-07-14T13:22:54.713Z"
   },
   {
    "duration": 30,
    "start_time": "2021-07-14T13:22:55.057Z"
   },
   {
    "duration": 31,
    "start_time": "2021-07-14T13:22:55.443Z"
   },
   {
    "duration": 5,
    "start_time": "2021-07-14T13:23:05.071Z"
   },
   {
    "duration": 6,
    "start_time": "2021-07-14T13:23:26.407Z"
   },
   {
    "duration": 28,
    "start_time": "2021-07-14T13:23:27.043Z"
   },
   {
    "duration": 30,
    "start_time": "2021-07-14T13:23:27.690Z"
   },
   {
    "duration": 31,
    "start_time": "2021-07-14T13:23:28.142Z"
   },
   {
    "duration": 5,
    "start_time": "2021-07-14T13:23:29.375Z"
   },
   {
    "duration": 1512,
    "start_time": "2021-07-14T13:32:14.239Z"
   },
   {
    "duration": 473,
    "start_time": "2021-07-14T13:32:15.754Z"
   },
   {
    "duration": 30,
    "start_time": "2021-07-14T13:32:16.234Z"
   },
   {
    "duration": 52,
    "start_time": "2021-07-14T13:32:16.267Z"
   },
   {
    "duration": 23,
    "start_time": "2021-07-14T13:32:16.321Z"
   },
   {
    "duration": 22,
    "start_time": "2021-07-14T13:32:16.347Z"
   },
   {
    "duration": 47,
    "start_time": "2021-07-14T13:32:16.373Z"
   },
   {
    "duration": 16,
    "start_time": "2021-07-14T13:32:16.424Z"
   },
   {
    "duration": 15,
    "start_time": "2021-07-14T13:32:16.442Z"
   },
   {
    "duration": 175,
    "start_time": "2021-07-14T13:32:16.459Z"
   },
   {
    "duration": 4,
    "start_time": "2021-07-14T13:32:16.636Z"
   },
   {
    "duration": 16,
    "start_time": "2021-07-14T13:32:16.642Z"
   },
   {
    "duration": 475,
    "start_time": "2021-07-14T13:32:16.660Z"
   },
   {
    "duration": 485,
    "start_time": "2021-07-14T13:32:17.138Z"
   },
   {
    "duration": 440,
    "start_time": "2021-07-14T13:32:17.626Z"
   },
   {
    "duration": 3,
    "start_time": "2021-07-14T13:32:18.069Z"
   },
   {
    "duration": 8,
    "start_time": "2021-07-14T13:32:18.075Z"
   },
   {
    "duration": 126,
    "start_time": "2021-07-14T13:32:18.086Z"
   },
   {
    "duration": 128,
    "start_time": "2021-07-14T13:32:18.216Z"
   },
   {
    "duration": 129,
    "start_time": "2021-07-14T13:32:18.411Z"
   },
   {
    "duration": 495,
    "start_time": "2021-07-14T13:32:18.611Z"
   },
   {
    "duration": 299,
    "start_time": "2021-07-14T13:40:59.040Z"
   },
   {
    "duration": 4,
    "start_time": "2021-07-14T13:41:02.447Z"
   },
   {
    "duration": 6,
    "start_time": "2021-07-14T13:41:03.017Z"
   },
   {
    "duration": 297,
    "start_time": "2021-07-14T15:08:41.137Z"
   },
   {
    "duration": 4,
    "start_time": "2021-07-14T15:08:48.277Z"
   },
   {
    "duration": 5,
    "start_time": "2021-07-14T15:08:49.111Z"
   },
   {
    "duration": 4,
    "start_time": "2021-07-14T15:20:23.438Z"
   },
   {
    "duration": 361,
    "start_time": "2021-07-14T15:21:51.235Z"
   },
   {
    "duration": 7,
    "start_time": "2021-07-14T15:22:04.100Z"
   },
   {
    "duration": 6,
    "start_time": "2021-07-14T15:23:47.045Z"
   },
   {
    "duration": 7,
    "start_time": "2021-07-14T15:23:53.031Z"
   },
   {
    "duration": 6,
    "start_time": "2021-07-14T15:25:16.726Z"
   },
   {
    "duration": 6,
    "start_time": "2021-07-14T15:29:23.226Z"
   },
   {
    "duration": 7,
    "start_time": "2021-07-14T15:29:53.691Z"
   },
   {
    "duration": 5,
    "start_time": "2021-07-14T15:30:03.047Z"
   },
   {
    "duration": 5,
    "start_time": "2021-07-14T15:30:15.493Z"
   },
   {
    "duration": 16,
    "start_time": "2021-07-14T15:45:33.208Z"
   },
   {
    "duration": 15,
    "start_time": "2021-07-14T15:45:43.738Z"
   },
   {
    "duration": 15,
    "start_time": "2021-07-14T15:45:46.837Z"
   },
   {
    "duration": 8,
    "start_time": "2021-07-15T08:13:50.966Z"
   },
   {
    "duration": 32,
    "start_time": "2021-07-15T08:26:12.366Z"
   },
   {
    "duration": 10,
    "start_time": "2021-07-15T08:26:37.601Z"
   },
   {
    "duration": 9,
    "start_time": "2021-07-15T08:26:45.791Z"
   },
   {
    "duration": 5,
    "start_time": "2021-07-15T08:26:50.970Z"
   },
   {
    "duration": 369,
    "start_time": "2021-07-15T08:32:25.119Z"
   },
   {
    "duration": 401,
    "start_time": "2021-07-15T08:34:15.030Z"
   },
   {
    "duration": 468,
    "start_time": "2021-07-15T08:36:36.480Z"
   },
   {
    "duration": 740,
    "start_time": "2021-07-15T08:37:33.308Z"
   },
   {
    "duration": 1053,
    "start_time": "2021-07-15T08:38:48.141Z"
   },
   {
    "duration": 915,
    "start_time": "2021-07-15T08:39:00.092Z"
   },
   {
    "duration": 1100,
    "start_time": "2021-07-15T08:39:42.017Z"
   },
   {
    "duration": 1218,
    "start_time": "2021-07-15T08:41:27.612Z"
   },
   {
    "duration": 1120,
    "start_time": "2021-07-15T08:43:48.742Z"
   },
   {
    "duration": 1152,
    "start_time": "2021-07-15T08:44:15.866Z"
   },
   {
    "duration": 1129,
    "start_time": "2021-07-15T08:45:09.271Z"
   },
   {
    "duration": 14,
    "start_time": "2021-07-15T08:45:44.255Z"
   },
   {
    "duration": 1260,
    "start_time": "2021-07-15T08:47:12.172Z"
   },
   {
    "duration": 1131,
    "start_time": "2021-07-15T08:47:27.421Z"
   },
   {
    "duration": 1103,
    "start_time": "2021-07-15T08:47:34.646Z"
   },
   {
    "duration": 1131,
    "start_time": "2021-07-15T08:50:36.032Z"
   },
   {
    "duration": 1275,
    "start_time": "2021-07-15T08:58:06.731Z"
   },
   {
    "duration": 239,
    "start_time": "2021-07-15T08:59:31.603Z"
   },
   {
    "duration": 1266,
    "start_time": "2021-07-15T08:59:45.867Z"
   },
   {
    "duration": 282,
    "start_time": "2021-07-15T09:00:54.441Z"
   },
   {
    "duration": 279,
    "start_time": "2021-07-15T09:01:08.284Z"
   },
   {
    "duration": 21,
    "start_time": "2021-07-15T09:01:18.539Z"
   },
   {
    "duration": 348,
    "start_time": "2021-07-15T09:06:36.652Z"
   },
   {
    "duration": 1284,
    "start_time": "2021-07-15T12:02:49.654Z"
   },
   {
    "duration": 1582,
    "start_time": "2021-07-17T07:48:53.825Z"
   },
   {
    "duration": 473,
    "start_time": "2021-07-17T07:48:55.410Z"
   },
   {
    "duration": 29,
    "start_time": "2021-07-17T07:48:55.886Z"
   },
   {
    "duration": 23,
    "start_time": "2021-07-17T07:48:55.917Z"
   },
   {
    "duration": 44,
    "start_time": "2021-07-17T07:48:55.942Z"
   },
   {
    "duration": 17,
    "start_time": "2021-07-17T07:48:55.988Z"
   },
   {
    "duration": 22,
    "start_time": "2021-07-17T07:48:56.007Z"
   },
   {
    "duration": 47,
    "start_time": "2021-07-17T07:48:56.032Z"
   },
   {
    "duration": 15,
    "start_time": "2021-07-17T07:48:56.083Z"
   },
   {
    "duration": 159,
    "start_time": "2021-07-17T07:48:56.100Z"
   },
   {
    "duration": 8,
    "start_time": "2021-07-17T07:48:56.261Z"
   },
   {
    "duration": 8,
    "start_time": "2021-07-17T07:48:56.271Z"
   },
   {
    "duration": 444,
    "start_time": "2021-07-17T07:48:56.281Z"
   },
   {
    "duration": 440,
    "start_time": "2021-07-17T07:48:56.727Z"
   },
   {
    "duration": 408,
    "start_time": "2021-07-17T07:48:57.169Z"
   },
   {
    "duration": 4,
    "start_time": "2021-07-17T07:48:57.579Z"
   },
   {
    "duration": 10,
    "start_time": "2021-07-17T07:48:57.585Z"
   },
   {
    "duration": 78,
    "start_time": "2021-07-17T07:48:57.597Z"
   },
   {
    "duration": 34,
    "start_time": "2021-07-17T07:48:57.767Z"
   },
   {
    "duration": 127,
    "start_time": "2021-07-17T07:48:57.868Z"
   },
   {
    "duration": 6,
    "start_time": "2021-07-17T07:48:58.069Z"
   },
   {
    "duration": 95,
    "start_time": "2021-07-17T07:48:58.077Z"
   },
   {
    "duration": 9,
    "start_time": "2021-07-17T07:48:58.177Z"
   },
   {
    "duration": 1382,
    "start_time": "2021-07-17T07:48:58.188Z"
   },
   {
    "duration": 1266,
    "start_time": "2021-07-17T07:49:12.866Z"
   },
   {
    "duration": 1604,
    "start_time": "2021-07-17T07:49:31.641Z"
   },
   {
    "duration": 1449,
    "start_time": "2021-07-17T07:49:35.947Z"
   },
   {
    "duration": 1424,
    "start_time": "2021-07-17T07:49:39.015Z"
   },
   {
    "duration": 1582,
    "start_time": "2021-07-17T07:49:42.428Z"
   },
   {
    "duration": 2008,
    "start_time": "2021-07-17T07:49:47.859Z"
   },
   {
    "duration": 1272,
    "start_time": "2021-07-17T07:50:30.850Z"
   },
   {
    "duration": 406,
    "start_time": "2021-07-17T08:12:25.485Z"
   },
   {
    "duration": 4,
    "start_time": "2021-07-17T08:13:16.791Z"
   },
   {
    "duration": 10,
    "start_time": "2021-07-17T08:13:17.573Z"
   },
   {
    "duration": 37,
    "start_time": "2021-07-17T08:13:22.461Z"
   },
   {
    "duration": 36,
    "start_time": "2021-07-17T08:13:24.756Z"
   },
   {
    "duration": 36,
    "start_time": "2021-07-17T08:13:25.542Z"
   },
   {
    "duration": 371,
    "start_time": "2021-07-17T08:13:30.709Z"
   },
   {
    "duration": 5,
    "start_time": "2021-07-17T08:13:58.100Z"
   },
   {
    "duration": 6,
    "start_time": "2021-07-17T08:14:03.342Z"
   },
   {
    "duration": 6,
    "start_time": "2021-07-17T08:14:09.962Z"
   },
   {
    "duration": 141,
    "start_time": "2021-07-17T08:15:06.525Z"
   },
   {
    "duration": 35,
    "start_time": "2021-07-17T08:15:07.093Z"
   },
   {
    "duration": 151,
    "start_time": "2021-07-17T08:15:52.325Z"
   },
   {
    "duration": 115,
    "start_time": "2021-07-17T08:16:02.547Z"
   },
   {
    "duration": 5,
    "start_time": "2021-07-17T08:16:33.496Z"
   },
   {
    "duration": 7,
    "start_time": "2021-07-17T08:17:44.593Z"
   },
   {
    "duration": 33,
    "start_time": "2021-07-17T08:17:46.407Z"
   },
   {
    "duration": 99,
    "start_time": "2021-07-17T08:17:46.968Z"
   },
   {
    "duration": 33,
    "start_time": "2021-07-17T08:17:47.667Z"
   },
   {
    "duration": 7,
    "start_time": "2021-07-17T08:17:54.353Z"
   },
   {
    "duration": 5,
    "start_time": "2021-07-17T08:19:01.589Z"
   },
   {
    "duration": 7,
    "start_time": "2021-07-17T08:19:02.077Z"
   },
   {
    "duration": 30,
    "start_time": "2021-07-17T08:19:02.596Z"
   },
   {
    "duration": 30,
    "start_time": "2021-07-17T08:19:04.659Z"
   },
   {
    "duration": 31,
    "start_time": "2021-07-17T08:19:05.057Z"
   },
   {
    "duration": 7,
    "start_time": "2021-07-17T08:19:05.493Z"
   },
   {
    "duration": 6,
    "start_time": "2021-07-17T08:20:37.083Z"
   },
   {
    "duration": 14,
    "start_time": "2021-07-17T08:20:43.996Z"
   },
   {
    "duration": 12,
    "start_time": "2021-07-17T08:24:19.895Z"
   },
   {
    "duration": 14,
    "start_time": "2021-07-17T08:24:45.058Z"
   },
   {
    "duration": 12,
    "start_time": "2021-07-17T08:29:38.833Z"
   },
   {
    "duration": 5,
    "start_time": "2021-07-17T08:33:40.921Z"
   },
   {
    "duration": 4,
    "start_time": "2021-07-17T08:37:21.335Z"
   },
   {
    "duration": 402,
    "start_time": "2021-07-17T08:38:22.911Z"
   },
   {
    "duration": 14,
    "start_time": "2021-07-17T08:38:50.980Z"
   },
   {
    "duration": 4,
    "start_time": "2021-07-17T08:40:19.437Z"
   },
   {
    "duration": 12,
    "start_time": "2021-07-17T08:40:20.071Z"
   },
   {
    "duration": 4,
    "start_time": "2021-07-17T08:40:52.570Z"
   },
   {
    "duration": 13,
    "start_time": "2021-07-17T08:40:53.004Z"
   },
   {
    "duration": 3,
    "start_time": "2021-07-17T08:49:04.168Z"
   },
   {
    "duration": 6,
    "start_time": "2021-07-17T08:49:04.647Z"
   },
   {
    "duration": 88,
    "start_time": "2021-07-17T08:49:06.181Z"
   },
   {
    "duration": 32,
    "start_time": "2021-07-17T08:49:08.580Z"
   },
   {
    "duration": 28,
    "start_time": "2021-07-17T08:49:09.989Z"
   },
   {
    "duration": 12,
    "start_time": "2021-07-17T08:49:11.111Z"
   },
   {
    "duration": 5,
    "start_time": "2021-07-17T08:49:27.938Z"
   },
   {
    "duration": 13,
    "start_time": "2021-07-17T08:49:28.582Z"
   },
   {
    "duration": 7,
    "start_time": "2021-07-17T08:58:30.504Z"
   },
   {
    "duration": 31,
    "start_time": "2021-07-17T08:58:32.859Z"
   },
   {
    "duration": 30,
    "start_time": "2021-07-17T08:58:34.692Z"
   },
   {
    "duration": 32,
    "start_time": "2021-07-17T08:58:36.354Z"
   },
   {
    "duration": 13,
    "start_time": "2021-07-17T08:58:38.470Z"
   },
   {
    "duration": 16,
    "start_time": "2021-07-17T08:58:53.713Z"
   },
   {
    "duration": 4,
    "start_time": "2021-07-17T09:07:35.716Z"
   },
   {
    "duration": 7,
    "start_time": "2021-07-17T09:07:36.285Z"
   },
   {
    "duration": 779,
    "start_time": "2021-07-17T09:07:37.026Z"
   },
   {
    "duration": 4,
    "start_time": "2021-07-17T09:07:56.035Z"
   },
   {
    "duration": 7,
    "start_time": "2021-07-17T09:08:00.462Z"
   },
   {
    "duration": 36,
    "start_time": "2021-07-17T09:08:01.384Z"
   },
   {
    "duration": 6,
    "start_time": "2021-07-17T09:09:32.160Z"
   },
   {
    "duration": 31,
    "start_time": "2021-07-17T09:09:32.553Z"
   },
   {
    "duration": 13,
    "start_time": "2021-07-17T09:09:39.502Z"
   },
   {
    "duration": 1529,
    "start_time": "2021-07-17T09:10:17.852Z"
   },
   {
    "duration": 480,
    "start_time": "2021-07-17T09:10:19.384Z"
   },
   {
    "duration": 29,
    "start_time": "2021-07-17T09:10:19.867Z"
   },
   {
    "duration": 23,
    "start_time": "2021-07-17T09:10:19.898Z"
   },
   {
    "duration": 54,
    "start_time": "2021-07-17T09:10:19.924Z"
   },
   {
    "duration": 16,
    "start_time": "2021-07-17T09:10:20.284Z"
   },
   {
    "duration": 16,
    "start_time": "2021-07-17T09:10:20.423Z"
   },
   {
    "duration": 20,
    "start_time": "2021-07-17T09:10:20.560Z"
   },
   {
    "duration": 16,
    "start_time": "2021-07-17T09:10:21.984Z"
   },
   {
    "duration": 126,
    "start_time": "2021-07-17T09:10:22.717Z"
   },
   {
    "duration": 4,
    "start_time": "2021-07-17T09:10:23.085Z"
   },
   {
    "duration": 5,
    "start_time": "2021-07-17T09:10:24.248Z"
   },
   {
    "duration": 419,
    "start_time": "2021-07-17T09:10:24.376Z"
   },
   {
    "duration": 453,
    "start_time": "2021-07-17T09:10:24.798Z"
   },
   {
    "duration": 409,
    "start_time": "2021-07-17T09:10:26.063Z"
   },
   {
    "duration": 5,
    "start_time": "2021-07-17T09:10:29.547Z"
   },
   {
    "duration": 7,
    "start_time": "2021-07-17T09:10:39.600Z"
   },
   {
    "duration": 100,
    "start_time": "2021-07-17T09:10:42.771Z"
   },
   {
    "duration": 7,
    "start_time": "2021-07-17T09:10:44.315Z"
   },
   {
    "duration": 8,
    "start_time": "2021-07-17T09:10:48.514Z"
   },
   {
    "duration": 76,
    "start_time": "2021-07-17T09:10:50.997Z"
   },
   {
    "duration": 507,
    "start_time": "2021-07-17T09:10:51.764Z"
   },
   {
    "duration": 14,
    "start_time": "2021-07-17T09:10:58.472Z"
   },
   {
    "duration": 4,
    "start_time": "2021-07-17T09:21:16.907Z"
   },
   {
    "duration": 7,
    "start_time": "2021-07-17T09:21:17.393Z"
   },
   {
    "duration": 109,
    "start_time": "2021-07-17T09:21:18.961Z"
   },
   {
    "duration": 8,
    "start_time": "2021-07-17T09:21:33.651Z"
   },
   {
    "duration": 7,
    "start_time": "2021-07-17T09:22:21.354Z"
   },
   {
    "duration": 67,
    "start_time": "2021-07-17T09:22:21.707Z"
   },
   {
    "duration": 6,
    "start_time": "2021-07-17T09:22:59.289Z"
   },
   {
    "duration": 68,
    "start_time": "2021-07-17T09:22:59.708Z"
   },
   {
    "duration": 7,
    "start_time": "2021-07-17T09:23:03.020Z"
   },
   {
    "duration": 58,
    "start_time": "2021-07-17T09:23:05.519Z"
   },
   {
    "duration": 4,
    "start_time": "2021-07-17T09:33:15.117Z"
   },
   {
    "duration": 6,
    "start_time": "2021-07-17T09:33:15.546Z"
   },
   {
    "duration": 68,
    "start_time": "2021-07-17T09:33:23.202Z"
   },
   {
    "duration": 6,
    "start_time": "2021-07-17T09:35:49.487Z"
   },
   {
    "duration": 32,
    "start_time": "2021-07-17T09:35:50.587Z"
   },
   {
    "duration": 40,
    "start_time": "2021-07-17T09:36:58.044Z"
   },
   {
    "duration": 31,
    "start_time": "2021-07-17T09:37:38.751Z"
   },
   {
    "duration": 1481,
    "start_time": "2021-07-17T09:38:35.511Z"
   },
   {
    "duration": 478,
    "start_time": "2021-07-17T09:38:36.995Z"
   },
   {
    "duration": 29,
    "start_time": "2021-07-17T09:38:37.476Z"
   },
   {
    "duration": 23,
    "start_time": "2021-07-17T09:38:37.507Z"
   },
   {
    "duration": 52,
    "start_time": "2021-07-17T09:38:37.532Z"
   },
   {
    "duration": 15,
    "start_time": "2021-07-17T09:38:37.586Z"
   },
   {
    "duration": 21,
    "start_time": "2021-07-17T09:38:37.604Z"
   },
   {
    "duration": 43,
    "start_time": "2021-07-17T09:38:37.627Z"
   },
   {
    "duration": 16,
    "start_time": "2021-07-17T09:38:37.673Z"
   },
   {
    "duration": 152,
    "start_time": "2021-07-17T09:38:37.692Z"
   },
   {
    "duration": 3,
    "start_time": "2021-07-17T09:38:37.847Z"
   },
   {
    "duration": 18,
    "start_time": "2021-07-17T09:38:37.852Z"
   },
   {
    "duration": 435,
    "start_time": "2021-07-17T09:38:37.872Z"
   },
   {
    "duration": 450,
    "start_time": "2021-07-17T09:38:38.310Z"
   },
   {
    "duration": 416,
    "start_time": "2021-07-17T09:38:38.763Z"
   },
   {
    "duration": 7,
    "start_time": "2021-07-17T09:38:39.182Z"
   },
   {
    "duration": 174,
    "start_time": "2021-07-17T09:38:39.192Z"
   },
   {
    "duration": 99,
    "start_time": "2021-07-17T09:38:39.369Z"
   },
   {
    "duration": 123,
    "start_time": "2021-07-17T09:38:39.472Z"
   },
   {
    "duration": 5,
    "start_time": "2021-07-17T09:38:39.668Z"
   },
   {
    "duration": 98,
    "start_time": "2021-07-17T09:38:39.676Z"
   },
   {
    "duration": 12,
    "start_time": "2021-07-17T09:38:39.776Z"
   },
   {
    "duration": 1352,
    "start_time": "2021-07-17T09:38:39.790Z"
   },
   {
    "duration": 4,
    "start_time": "2021-07-17T09:38:41.144Z"
   },
   {
    "duration": 534,
    "start_time": "2021-07-17T09:38:41.166Z"
   },
   {
    "duration": 55,
    "start_time": "2021-07-17T09:38:41.648Z"
   },
   {
    "duration": 8,
    "start_time": "2021-07-17T09:39:41.329Z"
   },
   {
    "duration": 4,
    "start_time": "2021-07-17T09:40:30.882Z"
   },
   {
    "duration": 731,
    "start_time": "2021-07-17T09:40:44.325Z"
   },
   {
    "duration": 1506,
    "start_time": "2021-07-17T09:42:19.192Z"
   },
   {
    "duration": 481,
    "start_time": "2021-07-17T09:42:20.700Z"
   },
   {
    "duration": 29,
    "start_time": "2021-07-17T09:42:21.184Z"
   },
   {
    "duration": 23,
    "start_time": "2021-07-17T09:42:21.215Z"
   },
   {
    "duration": 23,
    "start_time": "2021-07-17T09:42:21.268Z"
   },
   {
    "duration": 15,
    "start_time": "2021-07-17T09:42:21.294Z"
   },
   {
    "duration": 21,
    "start_time": "2021-07-17T09:42:21.312Z"
   },
   {
    "duration": 44,
    "start_time": "2021-07-17T09:42:21.336Z"
   },
   {
    "duration": 17,
    "start_time": "2021-07-17T09:42:21.383Z"
   },
   {
    "duration": 161,
    "start_time": "2021-07-17T09:42:21.403Z"
   },
   {
    "duration": 3,
    "start_time": "2021-07-17T09:42:21.568Z"
   },
   {
    "duration": 10,
    "start_time": "2021-07-17T09:42:21.574Z"
   },
   {
    "duration": 481,
    "start_time": "2021-07-17T09:42:21.586Z"
   },
   {
    "duration": 423,
    "start_time": "2021-07-17T09:42:22.069Z"
   },
   {
    "duration": 434,
    "start_time": "2021-07-17T09:42:22.495Z"
   },
   {
    "duration": 6,
    "start_time": "2021-07-17T09:42:22.932Z"
   },
   {
    "duration": 128,
    "start_time": "2021-07-17T09:42:22.940Z"
   },
   {
    "duration": 195,
    "start_time": "2021-07-17T09:42:23.072Z"
   },
   {
    "duration": 200,
    "start_time": "2021-07-17T09:42:23.270Z"
   },
   {
    "duration": 5,
    "start_time": "2021-07-17T09:42:23.566Z"
   },
   {
    "duration": 10,
    "start_time": "2021-07-17T09:42:23.573Z"
   },
   {
    "duration": 10,
    "start_time": "2021-07-17T09:42:23.585Z"
   },
   {
    "duration": 1330,
    "start_time": "2021-07-17T09:42:23.601Z"
   },
   {
    "duration": 8,
    "start_time": "2021-07-17T09:42:24.935Z"
   },
   {
    "duration": 22,
    "start_time": "2021-07-17T09:42:24.945Z"
   },
   {
    "duration": 889,
    "start_time": "2021-07-17T09:42:24.970Z"
   },
   {
    "duration": 49,
    "start_time": "2021-07-17T09:42:25.813Z"
   },
   {
    "duration": 1491,
    "start_time": "2021-07-17T09:43:28.204Z"
   },
   {
    "duration": 490,
    "start_time": "2021-07-17T09:43:29.698Z"
   },
   {
    "duration": 28,
    "start_time": "2021-07-17T09:43:30.191Z"
   },
   {
    "duration": 44,
    "start_time": "2021-07-17T09:43:30.223Z"
   },
   {
    "duration": 25,
    "start_time": "2021-07-17T09:43:30.271Z"
   },
   {
    "duration": 16,
    "start_time": "2021-07-17T09:43:30.303Z"
   },
   {
    "duration": 50,
    "start_time": "2021-07-17T09:43:30.322Z"
   },
   {
    "duration": 15,
    "start_time": "2021-07-17T09:43:30.376Z"
   },
   {
    "duration": 16,
    "start_time": "2021-07-17T09:43:30.394Z"
   },
   {
    "duration": 163,
    "start_time": "2021-07-17T09:43:30.413Z"
   },
   {
    "duration": 3,
    "start_time": "2021-07-17T09:43:30.579Z"
   },
   {
    "duration": 17,
    "start_time": "2021-07-17T09:43:30.584Z"
   },
   {
    "duration": 487,
    "start_time": "2021-07-17T09:43:30.604Z"
   },
   {
    "duration": 437,
    "start_time": "2021-07-17T09:43:31.093Z"
   },
   {
    "duration": 452,
    "start_time": "2021-07-17T09:43:31.533Z"
   },
   {
    "duration": 6,
    "start_time": "2021-07-17T09:43:31.988Z"
   },
   {
    "duration": 81,
    "start_time": "2021-07-17T09:43:31.996Z"
   },
   {
    "duration": 97,
    "start_time": "2021-07-17T09:43:32.170Z"
   },
   {
    "duration": 198,
    "start_time": "2021-07-17T09:43:32.270Z"
   },
   {
    "duration": 95,
    "start_time": "2021-07-17T09:43:32.472Z"
   },
   {
    "duration": 8,
    "start_time": "2021-07-17T09:43:32.570Z"
   },
   {
    "duration": 12,
    "start_time": "2021-07-17T09:43:32.580Z"
   },
   {
    "duration": 1348,
    "start_time": "2021-07-17T09:43:32.597Z"
   },
   {
    "duration": 22,
    "start_time": "2021-07-17T09:43:33.947Z"
   },
   {
    "duration": 5,
    "start_time": "2021-07-17T09:43:33.972Z"
   },
   {
    "duration": 494,
    "start_time": "2021-07-17T09:43:33.979Z"
   },
   {
    "duration": 52,
    "start_time": "2021-07-17T09:43:34.424Z"
   },
   {
    "duration": 15,
    "start_time": "2021-07-17T09:44:03.981Z"
   },
   {
    "duration": 14,
    "start_time": "2021-07-17T09:51:37.909Z"
   },
   {
    "duration": 14,
    "start_time": "2021-07-17T09:51:46.813Z"
   },
   {
    "duration": 110,
    "start_time": "2021-07-17T10:06:56.357Z"
   },
   {
    "duration": 362,
    "start_time": "2021-07-17T10:07:22.228Z"
   },
   {
    "duration": 345,
    "start_time": "2021-07-17T10:07:42.076Z"
   },
   {
    "duration": 359,
    "start_time": "2021-07-17T10:07:51.855Z"
   },
   {
    "duration": 389,
    "start_time": "2021-07-17T10:08:02.936Z"
   },
   {
    "duration": 7,
    "start_time": "2021-07-17T10:08:18.043Z"
   },
   {
    "duration": 726,
    "start_time": "2021-07-17T10:09:43.073Z"
   },
   {
    "duration": 7,
    "start_time": "2021-07-17T10:10:07.077Z"
   },
   {
    "duration": 771,
    "start_time": "2021-07-17T10:10:07.641Z"
   },
   {
    "duration": 7,
    "start_time": "2021-07-17T10:12:01.453Z"
   },
   {
    "duration": 5272,
    "start_time": "2021-07-17T10:12:01.866Z"
   },
   {
    "duration": 7,
    "start_time": "2021-07-17T10:12:22.932Z"
   },
   {
    "duration": 5165,
    "start_time": "2021-07-17T10:12:25.730Z"
   },
   {
    "duration": 6,
    "start_time": "2021-07-17T10:15:05.881Z"
   },
   {
    "duration": 5396,
    "start_time": "2021-07-17T10:15:06.567Z"
   },
   {
    "duration": 7,
    "start_time": "2021-07-17T10:22:29.967Z"
   },
   {
    "duration": 5324,
    "start_time": "2021-07-17T10:22:30.453Z"
   },
   {
    "duration": 1538,
    "start_time": "2021-07-17T10:22:44.861Z"
   },
   {
    "duration": 474,
    "start_time": "2021-07-17T10:22:46.403Z"
   },
   {
    "duration": 29,
    "start_time": "2021-07-17T10:22:46.880Z"
   },
   {
    "duration": 23,
    "start_time": "2021-07-17T10:22:46.911Z"
   },
   {
    "duration": 24,
    "start_time": "2021-07-17T10:22:46.968Z"
   },
   {
    "duration": 17,
    "start_time": "2021-07-17T10:22:46.994Z"
   },
   {
    "duration": 21,
    "start_time": "2021-07-17T10:22:47.013Z"
   },
   {
    "duration": 45,
    "start_time": "2021-07-17T10:22:47.038Z"
   },
   {
    "duration": 18,
    "start_time": "2021-07-17T10:22:47.086Z"
   },
   {
    "duration": 160,
    "start_time": "2021-07-17T10:22:47.107Z"
   },
   {
    "duration": 4,
    "start_time": "2021-07-17T10:22:47.269Z"
   },
   {
    "duration": 10,
    "start_time": "2021-07-17T10:22:47.275Z"
   },
   {
    "duration": 457,
    "start_time": "2021-07-17T10:22:47.287Z"
   },
   {
    "duration": 445,
    "start_time": "2021-07-17T10:22:47.746Z"
   },
   {
    "duration": 452,
    "start_time": "2021-07-17T10:22:48.194Z"
   },
   {
    "duration": 18,
    "start_time": "2021-07-17T10:22:48.649Z"
   },
   {
    "duration": 105,
    "start_time": "2021-07-17T10:22:48.669Z"
   },
   {
    "duration": 100,
    "start_time": "2021-07-17T10:22:48.866Z"
   },
   {
    "duration": 123,
    "start_time": "2021-07-17T10:22:48.970Z"
   },
   {
    "duration": 5,
    "start_time": "2021-07-17T10:22:49.170Z"
   },
   {
    "duration": 10,
    "start_time": "2021-07-17T10:22:49.268Z"
   },
   {
    "duration": 11,
    "start_time": "2021-07-17T10:22:49.280Z"
   },
   {
    "duration": 1350,
    "start_time": "2021-07-17T10:22:49.296Z"
   },
   {
    "duration": 22,
    "start_time": "2021-07-17T10:22:50.648Z"
   },
   {
    "duration": 13,
    "start_time": "2021-07-17T10:22:50.673Z"
   },
   {
    "duration": 27,
    "start_time": "2021-07-17T10:22:50.689Z"
   },
   {
    "duration": 14,
    "start_time": "2021-07-17T10:22:50.719Z"
   },
   {
    "duration": 32,
    "start_time": "2021-07-17T10:22:50.736Z"
   },
   {
    "duration": 7,
    "start_time": "2021-07-17T10:22:50.771Z"
   },
   {
    "duration": 5373,
    "start_time": "2021-07-17T10:22:50.780Z"
   },
   {
    "duration": 7,
    "start_time": "2021-07-17T10:26:59.119Z"
   },
   {
    "duration": 5323,
    "start_time": "2021-07-17T10:27:01.285Z"
   },
   {
    "duration": 5604,
    "start_time": "2021-07-17T10:27:27.402Z"
   },
   {
    "duration": 5527,
    "start_time": "2021-07-17T10:27:49.785Z"
   },
   {
    "duration": 1142,
    "start_time": "2021-07-19T08:23:50.668Z"
   },
   {
    "duration": 340,
    "start_time": "2021-07-19T08:23:51.812Z"
   },
   {
    "duration": 19,
    "start_time": "2021-07-19T08:23:52.154Z"
   },
   {
    "duration": 14,
    "start_time": "2021-07-19T08:23:52.175Z"
   },
   {
    "duration": 13,
    "start_time": "2021-07-19T08:23:52.191Z"
   },
   {
    "duration": 35,
    "start_time": "2021-07-19T08:23:52.206Z"
   },
   {
    "duration": 21,
    "start_time": "2021-07-19T08:23:52.243Z"
   },
   {
    "duration": 9,
    "start_time": "2021-07-19T08:23:52.266Z"
   },
   {
    "duration": 8,
    "start_time": "2021-07-19T08:23:52.277Z"
   },
   {
    "duration": 83,
    "start_time": "2021-07-19T08:23:52.287Z"
   },
   {
    "duration": 3,
    "start_time": "2021-07-19T08:23:52.371Z"
   },
   {
    "duration": 6,
    "start_time": "2021-07-19T08:23:52.375Z"
   },
   {
    "duration": 311,
    "start_time": "2021-07-19T08:23:52.382Z"
   },
   {
    "duration": 308,
    "start_time": "2021-07-19T08:23:52.695Z"
   },
   {
    "duration": 338,
    "start_time": "2021-07-19T08:23:53.005Z"
   },
   {
    "duration": 4,
    "start_time": "2021-07-19T08:23:53.344Z"
   },
   {
    "duration": 93,
    "start_time": "2021-07-19T08:23:53.350Z"
   },
   {
    "duration": 119,
    "start_time": "2021-07-19T08:23:53.445Z"
   },
   {
    "duration": 187,
    "start_time": "2021-07-19T08:23:53.566Z"
   },
   {
    "duration": 4,
    "start_time": "2021-07-19T08:23:53.754Z"
   },
   {
    "duration": 101,
    "start_time": "2021-07-19T08:23:53.842Z"
   },
   {
    "duration": 11,
    "start_time": "2021-07-19T08:23:53.945Z"
   },
   {
    "duration": 737,
    "start_time": "2021-07-19T08:23:53.959Z"
   },
   {
    "duration": 9,
    "start_time": "2021-07-19T08:23:54.698Z"
   },
   {
    "duration": 5,
    "start_time": "2021-07-19T08:23:54.709Z"
   },
   {
    "duration": 28,
    "start_time": "2021-07-19T08:23:54.716Z"
   },
   {
    "duration": 10,
    "start_time": "2021-07-19T08:23:54.746Z"
   },
   {
    "duration": 9,
    "start_time": "2021-07-19T08:23:54.758Z"
   },
   {
    "duration": 5,
    "start_time": "2021-07-19T08:23:54.769Z"
   },
   {
    "duration": 3257,
    "start_time": "2021-07-19T08:23:54.776Z"
   },
   {
    "duration": 3129,
    "start_time": "2021-07-19T08:23:58.034Z"
   },
   {
    "duration": 3055,
    "start_time": "2021-07-19T08:24:01.165Z"
   },
   {
    "duration": 5,
    "start_time": "2021-07-19T10:39:35.670Z"
   },
   {
    "duration": 2966,
    "start_time": "2021-07-19T10:39:36.527Z"
   },
   {
    "duration": 2959,
    "start_time": "2021-07-19T10:39:39.495Z"
   },
   {
    "duration": 3010,
    "start_time": "2021-07-19T10:39:42.456Z"
   },
   {
    "duration": 5,
    "start_time": "2021-07-19T11:16:13.465Z"
   },
   {
    "duration": 2973,
    "start_time": "2021-07-19T11:16:14.108Z"
   },
   {
    "duration": 3009,
    "start_time": "2021-07-19T11:16:21.141Z"
   },
   {
    "duration": 3022,
    "start_time": "2021-07-19T11:16:27.065Z"
   },
   {
    "duration": 3,
    "start_time": "2021-07-19T11:17:27.725Z"
   },
   {
    "duration": 5,
    "start_time": "2021-07-19T11:18:20.764Z"
   },
   {
    "duration": 3144,
    "start_time": "2021-07-19T11:18:21.259Z"
   },
   {
    "duration": 2989,
    "start_time": "2021-07-19T11:18:24.404Z"
   },
   {
    "duration": 2958,
    "start_time": "2021-07-19T11:18:27.394Z"
   },
   {
    "duration": 5,
    "start_time": "2021-07-19T11:23:52.699Z"
   },
   {
    "duration": 3055,
    "start_time": "2021-07-19T11:23:53.272Z"
   },
   {
    "duration": 3218,
    "start_time": "2021-07-19T11:23:56.328Z"
   },
   {
    "duration": 3087,
    "start_time": "2021-07-19T11:23:59.548Z"
   },
   {
    "duration": 5,
    "start_time": "2021-07-19T11:24:10.355Z"
   },
   {
    "duration": 2985,
    "start_time": "2021-07-19T11:24:10.588Z"
   },
   {
    "duration": 3161,
    "start_time": "2021-07-19T11:24:13.575Z"
   },
   {
    "duration": 3091,
    "start_time": "2021-07-19T11:24:16.742Z"
   },
   {
    "duration": 1118,
    "start_time": "2021-07-19T11:29:29.002Z"
   },
   {
    "duration": 363,
    "start_time": "2021-07-19T11:29:30.122Z"
   },
   {
    "duration": 21,
    "start_time": "2021-07-19T11:29:30.487Z"
   },
   {
    "duration": 16,
    "start_time": "2021-07-19T11:29:30.510Z"
   },
   {
    "duration": 26,
    "start_time": "2021-07-19T11:29:30.529Z"
   },
   {
    "duration": 11,
    "start_time": "2021-07-19T11:29:30.556Z"
   },
   {
    "duration": 15,
    "start_time": "2021-07-19T11:29:30.569Z"
   },
   {
    "duration": 10,
    "start_time": "2021-07-19T11:29:30.587Z"
   },
   {
    "duration": 17,
    "start_time": "2021-07-19T11:29:30.600Z"
   },
   {
    "duration": 87,
    "start_time": "2021-07-19T11:29:30.619Z"
   },
   {
    "duration": 2,
    "start_time": "2021-07-19T11:29:30.708Z"
   },
   {
    "duration": 16,
    "start_time": "2021-07-19T11:29:30.712Z"
   },
   {
    "duration": 304,
    "start_time": "2021-07-19T11:29:30.729Z"
   },
   {
    "duration": 287,
    "start_time": "2021-07-19T11:29:31.035Z"
   },
   {
    "duration": 300,
    "start_time": "2021-07-19T11:29:31.324Z"
   },
   {
    "duration": 14,
    "start_time": "2021-07-19T11:29:31.626Z"
   },
   {
    "duration": 99,
    "start_time": "2021-07-19T11:29:31.642Z"
   },
   {
    "duration": 119,
    "start_time": "2021-07-19T11:29:31.744Z"
   },
   {
    "duration": 116,
    "start_time": "2021-07-19T11:29:31.942Z"
   },
   {
    "duration": 88,
    "start_time": "2021-07-19T11:29:32.060Z"
   },
   {
    "duration": 94,
    "start_time": "2021-07-19T11:29:32.151Z"
   },
   {
    "duration": 11,
    "start_time": "2021-07-19T11:29:32.247Z"
   },
   {
    "duration": 757,
    "start_time": "2021-07-19T11:29:32.261Z"
   },
   {
    "duration": 3,
    "start_time": "2021-07-19T11:29:33.020Z"
   },
   {
    "duration": 22,
    "start_time": "2021-07-19T11:29:33.024Z"
   },
   {
    "duration": 9,
    "start_time": "2021-07-19T11:29:33.047Z"
   },
   {
    "duration": 9,
    "start_time": "2021-07-19T11:29:33.058Z"
   },
   {
    "duration": 5,
    "start_time": "2021-07-19T11:29:33.068Z"
   },
   {
    "duration": 2987,
    "start_time": "2021-07-19T11:29:33.075Z"
   },
   {
    "duration": 2948,
    "start_time": "2021-07-19T11:29:36.064Z"
   },
   {
    "duration": 2928,
    "start_time": "2021-07-19T11:29:39.014Z"
   },
   {
    "duration": 3,
    "start_time": "2021-07-19T13:19:43.579Z"
   },
   {
    "duration": 5,
    "start_time": "2021-07-19T13:21:03.699Z"
   },
   {
    "duration": 599,
    "start_time": "2021-07-19T13:21:06.692Z"
   },
   {
    "duration": 5,
    "start_time": "2021-07-19T13:22:17.151Z"
   },
   {
    "duration": 312,
    "start_time": "2021-07-19T13:22:17.634Z"
   },
   {
    "duration": 326,
    "start_time": "2021-07-19T13:22:43.007Z"
   },
   {
    "duration": 3,
    "start_time": "2021-07-19T13:23:33.389Z"
   },
   {
    "duration": 4,
    "start_time": "2021-07-19T13:23:37.330Z"
   },
   {
    "duration": 26,
    "start_time": "2021-07-19T13:23:37.937Z"
   },
   {
    "duration": 27,
    "start_time": "2021-07-19T13:23:42.012Z"
   },
   {
    "duration": 27,
    "start_time": "2021-07-19T13:23:42.767Z"
   },
   {
    "duration": 4,
    "start_time": "2021-07-19T13:51:40.209Z"
   },
   {
    "duration": 3,
    "start_time": "2021-07-19T13:52:13.788Z"
   },
   {
    "duration": 11,
    "start_time": "2021-07-19T13:59:17.019Z"
   },
   {
    "duration": 19,
    "start_time": "2021-07-19T14:00:19.635Z"
   },
   {
    "duration": 22,
    "start_time": "2021-07-19T14:00:29.141Z"
   },
   {
    "duration": 276,
    "start_time": "2021-07-19T14:01:42.503Z"
   },
   {
    "duration": 23,
    "start_time": "2021-07-19T14:01:59.574Z"
   },
   {
    "duration": 124,
    "start_time": "2021-07-19T14:02:09.354Z"
   },
   {
    "duration": 23,
    "start_time": "2021-07-19T14:03:11.697Z"
   },
   {
    "duration": 787,
    "start_time": "2021-07-19T14:06:06.838Z"
   },
   {
    "duration": 312,
    "start_time": "2021-07-19T14:06:28.551Z"
   },
   {
    "duration": 23,
    "start_time": "2021-07-19T14:07:54.773Z"
   },
   {
    "duration": 25,
    "start_time": "2021-07-19T14:08:57.905Z"
   },
   {
    "duration": 28,
    "start_time": "2021-07-19T14:10:52.027Z"
   },
   {
    "duration": 30,
    "start_time": "2021-07-19T14:11:00.980Z"
   },
   {
    "duration": 26,
    "start_time": "2021-07-19T14:11:24.902Z"
   },
   {
    "duration": 11,
    "start_time": "2021-07-19T14:19:14.498Z"
   },
   {
    "duration": 9,
    "start_time": "2021-07-19T14:21:17.599Z"
   },
   {
    "duration": 9,
    "start_time": "2021-07-19T14:24:16.873Z"
   },
   {
    "duration": 10,
    "start_time": "2021-07-19T14:24:27.225Z"
   },
   {
    "duration": 9,
    "start_time": "2021-07-19T14:27:27.169Z"
   },
   {
    "duration": 8,
    "start_time": "2021-07-19T14:27:54.459Z"
   },
   {
    "duration": 10,
    "start_time": "2021-07-19T14:28:21.125Z"
   },
   {
    "duration": 11,
    "start_time": "2021-07-19T14:28:43.394Z"
   },
   {
    "duration": 3183,
    "start_time": "2021-07-19T14:32:16.753Z"
   },
   {
    "duration": 2932,
    "start_time": "2021-07-19T14:32:26.585Z"
   },
   {
    "duration": 5,
    "start_time": "2021-07-19T14:33:29.069Z"
   },
   {
    "duration": 2925,
    "start_time": "2021-07-19T14:33:29.517Z"
   },
   {
    "duration": 2934,
    "start_time": "2021-07-19T14:33:32.444Z"
   },
   {
    "duration": 2896,
    "start_time": "2021-07-19T14:33:35.380Z"
   },
   {
    "duration": 96,
    "start_time": "2021-07-19T14:42:01.005Z"
   },
   {
    "duration": 3137,
    "start_time": "2021-07-19T14:42:01.426Z"
   },
   {
    "duration": 5,
    "start_time": "2021-07-19T14:43:40.534Z"
   },
   {
    "duration": 3026,
    "start_time": "2021-07-19T14:43:42.564Z"
   },
   {
    "duration": 5,
    "start_time": "2021-07-19T14:44:16.172Z"
   },
   {
    "duration": 2926,
    "start_time": "2021-07-19T14:44:16.530Z"
   },
   {
    "duration": 2953,
    "start_time": "2021-07-19T14:44:24.668Z"
   },
   {
    "duration": 2949,
    "start_time": "2021-07-19T14:44:27.623Z"
   },
   {
    "duration": 3,
    "start_time": "2021-07-19T14:45:59.210Z"
   },
   {
    "duration": 6,
    "start_time": "2021-07-19T14:46:02.618Z"
   },
   {
    "duration": 2925,
    "start_time": "2021-07-19T14:46:02.970Z"
   },
   {
    "duration": 2904,
    "start_time": "2021-07-19T14:46:05.897Z"
   },
   {
    "duration": 2933,
    "start_time": "2021-07-19T14:46:08.803Z"
   },
   {
    "duration": 3,
    "start_time": "2021-07-19T14:46:39.625Z"
   },
   {
    "duration": 4,
    "start_time": "2021-07-19T14:46:45.216Z"
   },
   {
    "duration": 2944,
    "start_time": "2021-07-19T14:46:45.563Z"
   },
   {
    "duration": 3015,
    "start_time": "2021-07-19T14:46:48.509Z"
   },
   {
    "duration": 3368,
    "start_time": "2021-07-19T14:46:51.526Z"
   },
   {
    "duration": 261,
    "start_time": "2021-07-19T14:55:04.234Z"
   },
   {
    "duration": 10,
    "start_time": "2021-07-19T14:56:04.342Z"
   },
   {
    "duration": 9,
    "start_time": "2021-07-19T14:56:40.503Z"
   },
   {
    "duration": 9,
    "start_time": "2021-07-19T14:57:08.370Z"
   },
   {
    "duration": 367,
    "start_time": "2021-07-19T14:57:26.144Z"
   },
   {
    "duration": 6,
    "start_time": "2021-07-19T14:58:07.030Z"
   },
   {
    "duration": 13,
    "start_time": "2021-07-19T14:58:17.197Z"
   },
   {
    "duration": 3164,
    "start_time": "2021-07-19T14:59:24.442Z"
   },
   {
    "duration": 3169,
    "start_time": "2021-07-19T14:59:35.050Z"
   },
   {
    "duration": 5,
    "start_time": "2021-07-19T15:02:05.113Z"
   },
   {
    "duration": 2934,
    "start_time": "2021-07-19T15:02:06.017Z"
   },
   {
    "duration": 3322,
    "start_time": "2021-07-19T15:04:35.011Z"
   },
   {
    "duration": 5,
    "start_time": "2021-07-19T15:04:58.328Z"
   },
   {
    "duration": 5850,
    "start_time": "2021-07-19T15:04:58.863Z"
   },
   {
    "duration": 5,
    "start_time": "2021-07-19T15:05:21.754Z"
   },
   {
    "duration": 3134,
    "start_time": "2021-07-19T15:05:22.349Z"
   },
   {
    "duration": 4,
    "start_time": "2021-07-19T15:06:10.729Z"
   },
   {
    "duration": 1183,
    "start_time": "2021-07-19T15:10:10.621Z"
   },
   {
    "duration": 343,
    "start_time": "2021-07-19T15:10:11.806Z"
   },
   {
    "duration": 18,
    "start_time": "2021-07-19T15:10:12.153Z"
   },
   {
    "duration": 14,
    "start_time": "2021-07-19T15:10:12.173Z"
   },
   {
    "duration": 15,
    "start_time": "2021-07-19T15:10:12.188Z"
   },
   {
    "duration": 11,
    "start_time": "2021-07-19T15:10:12.204Z"
   },
   {
    "duration": 11,
    "start_time": "2021-07-19T15:10:12.241Z"
   },
   {
    "duration": 10,
    "start_time": "2021-07-19T15:10:12.254Z"
   },
   {
    "duration": 10,
    "start_time": "2021-07-19T15:10:12.266Z"
   },
   {
    "duration": 92,
    "start_time": "2021-07-19T15:10:12.277Z"
   },
   {
    "duration": 2,
    "start_time": "2021-07-19T15:10:12.371Z"
   },
   {
    "duration": 5,
    "start_time": "2021-07-19T15:10:12.375Z"
   },
   {
    "duration": 317,
    "start_time": "2021-07-19T15:10:12.382Z"
   },
   {
    "duration": 332,
    "start_time": "2021-07-19T15:10:12.700Z"
   },
   {
    "duration": 319,
    "start_time": "2021-07-19T15:10:13.033Z"
   },
   {
    "duration": 4,
    "start_time": "2021-07-19T15:10:13.354Z"
   },
   {
    "duration": 86,
    "start_time": "2021-07-19T15:10:13.360Z"
   },
   {
    "duration": 118,
    "start_time": "2021-07-19T15:10:13.448Z"
   },
   {
    "duration": 115,
    "start_time": "2021-07-19T15:10:13.642Z"
   },
   {
    "duration": 82,
    "start_time": "2021-07-19T15:10:13.760Z"
   },
   {
    "duration": 7,
    "start_time": "2021-07-19T15:10:13.844Z"
   },
   {
    "duration": 6,
    "start_time": "2021-07-19T15:10:13.943Z"
   },
   {
    "duration": 24,
    "start_time": "2021-07-19T15:10:13.951Z"
   },
   {
    "duration": 743,
    "start_time": "2021-07-19T15:10:13.977Z"
   },
   {
    "duration": 3,
    "start_time": "2021-07-19T15:10:14.721Z"
   },
   {
    "duration": 21,
    "start_time": "2021-07-19T15:10:14.726Z"
   },
   {
    "duration": 10,
    "start_time": "2021-07-19T15:10:14.749Z"
   },
   {
    "duration": 10,
    "start_time": "2021-07-19T15:10:14.760Z"
   },
   {
    "duration": 5,
    "start_time": "2021-07-19T15:10:14.772Z"
   },
   {
    "duration": 2965,
    "start_time": "2021-07-19T15:10:14.779Z"
   },
   {
    "duration": 2915,
    "start_time": "2021-07-19T15:10:17.746Z"
   },
   {
    "duration": 2936,
    "start_time": "2021-07-19T15:10:20.663Z"
   },
   {
    "duration": 13,
    "start_time": "2021-07-19T15:10:23.601Z"
   },
   {
    "duration": 1143,
    "start_time": "2021-07-19T15:16:50.245Z"
   },
   {
    "duration": 341,
    "start_time": "2021-07-19T15:16:51.390Z"
   },
   {
    "duration": 120,
    "start_time": "2021-07-19T15:16:51.733Z"
   },
   {
    "duration": 14,
    "start_time": "2021-07-19T15:16:51.855Z"
   },
   {
    "duration": 13,
    "start_time": "2021-07-19T15:16:51.871Z"
   },
   {
    "duration": 10,
    "start_time": "2021-07-19T15:16:51.886Z"
   },
   {
    "duration": 18,
    "start_time": "2021-07-19T15:16:51.898Z"
   },
   {
    "duration": 31,
    "start_time": "2021-07-19T15:16:51.918Z"
   },
   {
    "duration": 13,
    "start_time": "2021-07-19T15:16:51.951Z"
   },
   {
    "duration": 76,
    "start_time": "2021-07-19T15:16:51.965Z"
   },
   {
    "duration": 3,
    "start_time": "2021-07-19T15:16:52.042Z"
   },
   {
    "duration": 7,
    "start_time": "2021-07-19T15:16:52.046Z"
   },
   {
    "duration": 288,
    "start_time": "2021-07-19T15:16:52.054Z"
   },
   {
    "duration": 304,
    "start_time": "2021-07-19T15:16:52.344Z"
   },
   {
    "duration": 300,
    "start_time": "2021-07-19T15:16:52.650Z"
   },
   {
    "duration": 4,
    "start_time": "2021-07-19T15:16:52.951Z"
   },
   {
    "duration": 85,
    "start_time": "2021-07-19T15:16:52.957Z"
   },
   {
    "duration": 117,
    "start_time": "2021-07-19T15:16:53.044Z"
   },
   {
    "duration": 184,
    "start_time": "2021-07-19T15:16:53.163Z"
   },
   {
    "duration": 4,
    "start_time": "2021-07-19T15:16:53.350Z"
   },
   {
    "duration": 6,
    "start_time": "2021-07-19T15:16:53.443Z"
   },
   {
    "duration": 112,
    "start_time": "2021-07-19T15:16:53.450Z"
   },
   {
    "duration": 27,
    "start_time": "2021-07-19T15:16:53.565Z"
   },
   {
    "duration": 737,
    "start_time": "2021-07-19T15:16:53.594Z"
   },
   {
    "duration": 3,
    "start_time": "2021-07-19T15:16:54.341Z"
   },
   {
    "duration": 21,
    "start_time": "2021-07-19T15:16:54.346Z"
   },
   {
    "duration": 20,
    "start_time": "2021-07-19T15:16:54.368Z"
   },
   {
    "duration": 13,
    "start_time": "2021-07-19T15:16:54.390Z"
   },
   {
    "duration": 19,
    "start_time": "2021-07-19T15:16:54.405Z"
   },
   {
    "duration": 3134,
    "start_time": "2021-07-19T15:16:54.426Z"
   },
   {
    "duration": 3213,
    "start_time": "2021-07-19T15:16:57.562Z"
   },
   {
    "duration": 2913,
    "start_time": "2021-07-19T15:17:00.777Z"
   },
   {
    "duration": 13,
    "start_time": "2021-07-19T15:17:03.692Z"
   },
   {
    "duration": 1160,
    "start_time": "2021-07-20T07:59:50.593Z"
   },
   {
    "duration": 363,
    "start_time": "2021-07-20T07:59:51.754Z"
   },
   {
    "duration": 21,
    "start_time": "2021-07-20T07:59:52.119Z"
   },
   {
    "duration": 16,
    "start_time": "2021-07-20T07:59:52.142Z"
   },
   {
    "duration": 35,
    "start_time": "2021-07-20T07:59:52.160Z"
   },
   {
    "duration": 14,
    "start_time": "2021-07-20T07:59:52.197Z"
   },
   {
    "duration": 13,
    "start_time": "2021-07-20T07:59:52.212Z"
   },
   {
    "duration": 10,
    "start_time": "2021-07-20T07:59:52.227Z"
   },
   {
    "duration": 10,
    "start_time": "2021-07-20T07:59:52.239Z"
   },
   {
    "duration": 97,
    "start_time": "2021-07-20T07:59:52.251Z"
   },
   {
    "duration": 3,
    "start_time": "2021-07-20T07:59:52.349Z"
   },
   {
    "duration": 6,
    "start_time": "2021-07-20T07:59:52.353Z"
   },
   {
    "duration": 334,
    "start_time": "2021-07-20T07:59:52.360Z"
   },
   {
    "duration": 304,
    "start_time": "2021-07-20T07:59:52.695Z"
   },
   {
    "duration": 344,
    "start_time": "2021-07-20T07:59:53.001Z"
   },
   {
    "duration": 4,
    "start_time": "2021-07-20T07:59:53.347Z"
   },
   {
    "duration": 61,
    "start_time": "2021-07-20T07:59:53.352Z"
   },
   {
    "duration": 117,
    "start_time": "2021-07-20T07:59:53.485Z"
   },
   {
    "duration": 192,
    "start_time": "2021-07-20T07:59:53.604Z"
   },
   {
    "duration": 86,
    "start_time": "2021-07-20T07:59:53.798Z"
   },
   {
    "duration": 6,
    "start_time": "2021-07-20T07:59:53.888Z"
   },
   {
    "duration": 6,
    "start_time": "2021-07-20T07:59:53.986Z"
   },
   {
    "duration": 28,
    "start_time": "2021-07-20T07:59:53.995Z"
   },
   {
    "duration": 839,
    "start_time": "2021-07-20T07:59:54.025Z"
   },
   {
    "duration": 3,
    "start_time": "2021-07-20T07:59:54.866Z"
   },
   {
    "duration": 16,
    "start_time": "2021-07-20T07:59:54.870Z"
   },
   {
    "duration": 9,
    "start_time": "2021-07-20T07:59:54.887Z"
   },
   {
    "duration": 9,
    "start_time": "2021-07-20T07:59:54.897Z"
   },
   {
    "duration": 5,
    "start_time": "2021-07-20T07:59:54.907Z"
   },
   {
    "duration": 458,
    "start_time": "2021-07-20T07:59:54.914Z"
   },
   {
    "duration": -129,
    "start_time": "2021-07-20T07:59:55.503Z"
   },
   {
    "duration": -141,
    "start_time": "2021-07-20T07:59:55.516Z"
   },
   {
    "duration": -144,
    "start_time": "2021-07-20T07:59:55.519Z"
   },
   {
    "duration": 7,
    "start_time": "2021-07-20T08:00:44.463Z"
   },
   {
    "duration": 3043,
    "start_time": "2021-07-20T08:00:47.260Z"
   },
   {
    "duration": 3006,
    "start_time": "2021-07-20T08:00:51.380Z"
   },
   {
    "duration": 2980,
    "start_time": "2021-07-20T08:00:54.388Z"
   },
   {
    "duration": 330,
    "start_time": "2021-07-20T08:01:02.610Z"
   },
   {
    "duration": 16,
    "start_time": "2021-07-20T08:01:20.478Z"
   },
   {
    "duration": 1108,
    "start_time": "2021-07-20T08:03:57.444Z"
   },
   {
    "duration": 366,
    "start_time": "2021-07-20T08:03:58.554Z"
   },
   {
    "duration": 19,
    "start_time": "2021-07-20T08:03:58.922Z"
   },
   {
    "duration": 14,
    "start_time": "2021-07-20T08:03:58.943Z"
   },
   {
    "duration": 32,
    "start_time": "2021-07-20T08:03:58.958Z"
   },
   {
    "duration": 13,
    "start_time": "2021-07-20T08:03:58.992Z"
   },
   {
    "duration": 14,
    "start_time": "2021-07-20T08:03:59.007Z"
   },
   {
    "duration": 10,
    "start_time": "2021-07-20T08:03:59.024Z"
   },
   {
    "duration": 10,
    "start_time": "2021-07-20T08:03:59.035Z"
   },
   {
    "duration": 95,
    "start_time": "2021-07-20T08:03:59.046Z"
   },
   {
    "duration": 2,
    "start_time": "2021-07-20T08:03:59.143Z"
   },
   {
    "duration": 6,
    "start_time": "2021-07-20T08:03:59.147Z"
   },
   {
    "duration": 332,
    "start_time": "2021-07-20T08:03:59.154Z"
   },
   {
    "duration": 304,
    "start_time": "2021-07-20T08:03:59.488Z"
   },
   {
    "duration": 308,
    "start_time": "2021-07-20T08:03:59.794Z"
   },
   {
    "duration": 5,
    "start_time": "2021-07-20T08:04:00.105Z"
   },
   {
    "duration": 81,
    "start_time": "2021-07-20T08:04:00.112Z"
   },
   {
    "duration": 27,
    "start_time": "2021-07-20T08:04:00.286Z"
   },
   {
    "duration": 181,
    "start_time": "2021-07-20T08:04:00.316Z"
   },
   {
    "duration": 89,
    "start_time": "2021-07-20T08:04:00.501Z"
   },
   {
    "duration": 96,
    "start_time": "2021-07-20T08:04:00.596Z"
   },
   {
    "duration": 19,
    "start_time": "2021-07-20T08:04:00.694Z"
   },
   {
    "duration": 26,
    "start_time": "2021-07-20T08:04:00.716Z"
   },
   {
    "duration": 808,
    "start_time": "2021-07-20T08:04:00.743Z"
   },
   {
    "duration": 3,
    "start_time": "2021-07-20T08:04:01.553Z"
   },
   {
    "duration": 23,
    "start_time": "2021-07-20T08:04:01.558Z"
   },
   {
    "duration": 16,
    "start_time": "2021-07-20T08:04:01.582Z"
   },
   {
    "duration": 10,
    "start_time": "2021-07-20T08:04:01.599Z"
   },
   {
    "duration": 5,
    "start_time": "2021-07-20T08:04:01.610Z"
   },
   {
    "duration": 3133,
    "start_time": "2021-07-20T08:04:01.617Z"
   },
   {
    "duration": 2981,
    "start_time": "2021-07-20T08:04:04.752Z"
   },
   {
    "duration": 3058,
    "start_time": "2021-07-20T08:04:07.735Z"
   },
   {
    "duration": 14,
    "start_time": "2021-07-20T08:04:10.794Z"
   }
  ],
  "kernelspec": {
   "display_name": "Python 3",
   "language": "python",
   "name": "python3"
  },
  "language_info": {
   "codemirror_mode": {
    "name": "ipython",
    "version": 3
   },
   "file_extension": ".py",
   "mimetype": "text/x-python",
   "name": "python",
   "nbconvert_exporter": "python",
   "pygments_lexer": "ipython3",
   "version": "3.8.5"
  },
  "toc": {
   "base_numbering": 1,
   "nav_menu": {
    "height": "259px",
    "width": "280px"
   },
   "number_sections": true,
   "sideBar": true,
   "skip_h1_title": true,
   "title_cell": "Содержание",
   "title_sidebar": "Contents",
   "toc_cell": true,
   "toc_position": {
    "height": "calc(100% - 180px)",
    "left": "10px",
    "top": "150px",
    "width": "366.391px"
   },
   "toc_section_display": true,
   "toc_window_display": true
  },
  "varInspector": {
   "cols": {
    "lenName": 16,
    "lenType": 16,
    "lenVar": 40
   },
   "kernels_config": {
    "python": {
     "delete_cmd_postfix": "",
     "delete_cmd_prefix": "del ",
     "library": "var_list.py",
     "varRefreshCmd": "print(var_dic_list())"
    },
    "r": {
     "delete_cmd_postfix": ") ",
     "delete_cmd_prefix": "rm(",
     "library": "var_list.r",
     "varRefreshCmd": "cat(var_dic_list()) "
    }
   },
   "types_to_exclude": [
    "module",
    "function",
    "builtin_function_or_method",
    "instance",
    "_Feature"
   ],
   "window_display": false
  }
 },
 "nbformat": 4,
 "nbformat_minor": 2
}
