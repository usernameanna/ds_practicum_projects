{
 "cells": [
  {
   "cell_type": "markdown",
   "metadata": {
    "toc": true
   },
   "source": [
    "<h1>Содержание<span class=\"tocSkip\"></span></h1>\n",
    "<div class=\"toc\"><ul class=\"toc-item\"><li><span><a href=\"#Подготовка-данных\" data-toc-modified-id=\"Подготовка-данных-1\"><span class=\"toc-item-num\">1&nbsp;&nbsp;</span>Подготовка данных</a></span><ul class=\"toc-item\"><li><span><a href=\"#Изучение-данных\" data-toc-modified-id=\"Изучение-данных-1.1\"><span class=\"toc-item-num\">1.1&nbsp;&nbsp;</span>Изучение данных</a></span></li><li><span><a href=\"#Расчет-эффективности-обогащения\" data-toc-modified-id=\"Расчет-эффективности-обогащения-1.2\"><span class=\"toc-item-num\">1.2&nbsp;&nbsp;</span>Расчет эффективности обогащения</a></span></li><li><span><a href=\"#Анализ-недоступных-признаков-в-тестовой-выборке\" data-toc-modified-id=\"Анализ-недоступных-признаков-в-тестовой-выборке-1.3\"><span class=\"toc-item-num\">1.3&nbsp;&nbsp;</span>Анализ недоступных признаков в тестовой выборке</a></span></li><li><span><a href=\"#Предобработка-данных\" data-toc-modified-id=\"Предобработка-данных-1.4\"><span class=\"toc-item-num\">1.4&nbsp;&nbsp;</span>Предобработка данных</a></span><ul class=\"toc-item\"><li><span><a href=\"#Восстановление-пропущенных-признаков-в-тестовом-датасете\" data-toc-modified-id=\"Восстановление-пропущенных-признаков-в-тестовом-датасете-1.4.1\"><span class=\"toc-item-num\">1.4.1&nbsp;&nbsp;</span>Восстановление пропущенных признаков в тестовом датасете</a></span></li><li><span><a href=\"#Удаление-признаков-в-обучающей-выборке\" data-toc-modified-id=\"Удаление-признаков-в-обучающей-выборке-1.4.2\"><span class=\"toc-item-num\">1.4.2&nbsp;&nbsp;</span>Удаление признаков в обучающей выборке</a></span></li><li><span><a href=\"#Обработка-пропусков\" data-toc-modified-id=\"Обработка-пропусков-1.4.3\"><span class=\"toc-item-num\">1.4.3&nbsp;&nbsp;</span>Обработка пропусков</a></span></li><li><span><a href=\"#Проверка-дубликатов\" data-toc-modified-id=\"Проверка-дубликатов-1.4.4\"><span class=\"toc-item-num\">1.4.4&nbsp;&nbsp;</span>Проверка дубликатов</a></span></li></ul></li></ul></li><li><span><a href=\"#Анализ-данных\" data-toc-modified-id=\"Анализ-данных-2\"><span class=\"toc-item-num\">2&nbsp;&nbsp;</span>Анализ данных</a></span><ul class=\"toc-item\"><li><span><a href=\"#Концентрация-металлов-на-различных-этапах\" data-toc-modified-id=\"Концентрация-металлов-на-различных-этапах-2.1\"><span class=\"toc-item-num\">2.1&nbsp;&nbsp;</span>Концентрация металлов на различных этапах</a></span></li><li><span><a href=\"#Сравнение-распределения-размеров-гранул-сырья-на-обучающей-и-тестовой-выборках\" data-toc-modified-id=\"Сравнение-распределения-размеров-гранул-сырья-на-обучающей-и-тестовой-выборках-2.2\"><span class=\"toc-item-num\">2.2&nbsp;&nbsp;</span>Сравнение распределения размеров гранул сырья на обучающей и тестовой выборках</a></span></li><li><span><a href=\"#Суммарная-концентрация-всех-веществ-на-разных-стадиях-обработки\" data-toc-modified-id=\"Суммарная-концентрация-всех-веществ-на-разных-стадиях-обработки-2.3\"><span class=\"toc-item-num\">2.3&nbsp;&nbsp;</span>Суммарная концентрация всех веществ на разных стадиях обработки</a></span></li></ul></li><li><span><a href=\"#Модель\" data-toc-modified-id=\"Модель-3\"><span class=\"toc-item-num\">3&nbsp;&nbsp;</span>Модель</a></span><ul class=\"toc-item\"><li><span><a href=\"#Функция-вычисления-sMAPE\" data-toc-modified-id=\"Функция-вычисления-sMAPE-3.1\"><span class=\"toc-item-num\">3.1&nbsp;&nbsp;</span>Функция вычисления sMAPE</a></span></li><li><span><a href=\"#Подбор-модели\" data-toc-modified-id=\"Подбор-модели-3.2\"><span class=\"toc-item-num\">3.2&nbsp;&nbsp;</span>Подбор модели</a></span></li><li><span><a href=\"#Тестирование-лучшей-модели\" data-toc-modified-id=\"Тестирование-лучшей-модели-3.3\"><span class=\"toc-item-num\">3.3&nbsp;&nbsp;</span>Тестирование лучшей модели</a></span></li></ul></li><li><span><a href=\"#Общий-вывод\" data-toc-modified-id=\"Общий-вывод-4\"><span class=\"toc-item-num\">4&nbsp;&nbsp;</span>Общий вывод</a></span></li></ul></div>"
   ]
  },
  {
   "cell_type": "markdown",
   "metadata": {},
   "source": [
    "# Восстановление золота из руды"
   ]
  },
  {
   "cell_type": "markdown",
   "metadata": {},
   "source": [
    "## Подготовка данных"
   ]
  },
  {
   "cell_type": "code",
   "execution_count": 1,
   "metadata": {},
   "outputs": [],
   "source": [
    "import pandas as pd\n",
    "import numpy as np\n",
    "import matplotlib.pyplot as plt\n",
    "from sklearn.metrics import mean_absolute_error, make_scorer\n",
    "from sklearn.model_selection import train_test_split, cross_val_score\n",
    "from sklearn.model_selection import GridSearchCV\n",
    "from sklearn.linear_model import LinearRegression\n",
    "from sklearn.ensemble import RandomForestRegressor\n",
    "from sklearn.dummy import DummyRegressor"
   ]
  },
  {
   "cell_type": "code",
   "execution_count": 2,
   "metadata": {},
   "outputs": [],
   "source": [
    "pd.set_option('display.max_rows', 100)"
   ]
  },
  {
   "cell_type": "markdown",
   "metadata": {},
   "source": [
    "### Изучение данных"
   ]
  },
  {
   "cell_type": "code",
   "execution_count": 3,
   "metadata": {},
   "outputs": [],
   "source": [
    "data_train = pd.read_csv('/datasets/gold_recovery_train_new.csv')\n",
    "data_test = pd.read_csv('/datasets/gold_recovery_test_new.csv')\n",
    "data_full = pd.read_csv('/datasets/gold_recovery_full_new.csv')"
   ]
  },
  {
   "cell_type": "code",
   "execution_count": 4,
   "metadata": {
    "scrolled": true
   },
   "outputs": [
    {
     "name": "stdout",
     "output_type": "stream",
     "text": [
      "<class 'pandas.core.frame.DataFrame'>\n",
      "RangeIndex: 14149 entries, 0 to 14148\n",
      "Data columns (total 87 columns):\n",
      "date                                                  14149 non-null object\n",
      "final.output.concentrate_ag                           14148 non-null float64\n",
      "final.output.concentrate_pb                           14148 non-null float64\n",
      "final.output.concentrate_sol                          13938 non-null float64\n",
      "final.output.concentrate_au                           14149 non-null float64\n",
      "final.output.recovery                                 14149 non-null float64\n",
      "final.output.tail_ag                                  14149 non-null float64\n",
      "final.output.tail_pb                                  14049 non-null float64\n",
      "final.output.tail_sol                                 14144 non-null float64\n",
      "final.output.tail_au                                  14149 non-null float64\n",
      "primary_cleaner.input.sulfate                         14129 non-null float64\n",
      "primary_cleaner.input.depressant                      14117 non-null float64\n",
      "primary_cleaner.input.feed_size                       14149 non-null float64\n",
      "primary_cleaner.input.xanthate                        14049 non-null float64\n",
      "primary_cleaner.output.concentrate_ag                 14149 non-null float64\n",
      "primary_cleaner.output.concentrate_pb                 14063 non-null float64\n",
      "primary_cleaner.output.concentrate_sol                13863 non-null float64\n",
      "primary_cleaner.output.concentrate_au                 14149 non-null float64\n",
      "primary_cleaner.output.tail_ag                        14148 non-null float64\n",
      "primary_cleaner.output.tail_pb                        14134 non-null float64\n",
      "primary_cleaner.output.tail_sol                       14103 non-null float64\n",
      "primary_cleaner.output.tail_au                        14149 non-null float64\n",
      "primary_cleaner.state.floatbank8_a_air                14145 non-null float64\n",
      "primary_cleaner.state.floatbank8_a_level              14148 non-null float64\n",
      "primary_cleaner.state.floatbank8_b_air                14145 non-null float64\n",
      "primary_cleaner.state.floatbank8_b_level              14148 non-null float64\n",
      "primary_cleaner.state.floatbank8_c_air                14147 non-null float64\n",
      "primary_cleaner.state.floatbank8_c_level              14148 non-null float64\n",
      "primary_cleaner.state.floatbank8_d_air                14146 non-null float64\n",
      "primary_cleaner.state.floatbank8_d_level              14148 non-null float64\n",
      "rougher.calculation.sulfate_to_au_concentrate         14148 non-null float64\n",
      "rougher.calculation.floatbank10_sulfate_to_au_feed    14148 non-null float64\n",
      "rougher.calculation.floatbank11_sulfate_to_au_feed    14148 non-null float64\n",
      "rougher.calculation.au_pb_ratio                       14149 non-null float64\n",
      "rougher.input.feed_ag                                 14149 non-null float64\n",
      "rougher.input.feed_pb                                 14049 non-null float64\n",
      "rougher.input.feed_rate                               14141 non-null float64\n",
      "rougher.input.feed_size                               14005 non-null float64\n",
      "rougher.input.feed_sol                                14071 non-null float64\n",
      "rougher.input.feed_au                                 14149 non-null float64\n",
      "rougher.input.floatbank10_sulfate                     14120 non-null float64\n",
      "rougher.input.floatbank10_xanthate                    14141 non-null float64\n",
      "rougher.input.floatbank11_sulfate                     14113 non-null float64\n",
      "rougher.input.floatbank11_xanthate                    13721 non-null float64\n",
      "rougher.output.concentrate_ag                         14149 non-null float64\n",
      "rougher.output.concentrate_pb                         14149 non-null float64\n",
      "rougher.output.concentrate_sol                        14127 non-null float64\n",
      "rougher.output.concentrate_au                         14149 non-null float64\n",
      "rougher.output.recovery                               14149 non-null float64\n",
      "rougher.output.tail_ag                                14148 non-null float64\n",
      "rougher.output.tail_pb                                14149 non-null float64\n",
      "rougher.output.tail_sol                               14149 non-null float64\n",
      "rougher.output.tail_au                                14149 non-null float64\n",
      "rougher.state.floatbank10_a_air                       14148 non-null float64\n",
      "rougher.state.floatbank10_a_level                     14148 non-null float64\n",
      "rougher.state.floatbank10_b_air                       14148 non-null float64\n",
      "rougher.state.floatbank10_b_level                     14148 non-null float64\n",
      "rougher.state.floatbank10_c_air                       14148 non-null float64\n",
      "rougher.state.floatbank10_c_level                     14148 non-null float64\n",
      "rougher.state.floatbank10_d_air                       14149 non-null float64\n",
      "rougher.state.floatbank10_d_level                     14149 non-null float64\n",
      "rougher.state.floatbank10_e_air                       13713 non-null float64\n",
      "rougher.state.floatbank10_e_level                     14149 non-null float64\n",
      "rougher.state.floatbank10_f_air                       14149 non-null float64\n",
      "rougher.state.floatbank10_f_level                     14149 non-null float64\n",
      "secondary_cleaner.output.tail_ag                      14147 non-null float64\n",
      "secondary_cleaner.output.tail_pb                      14139 non-null float64\n",
      "secondary_cleaner.output.tail_sol                     12544 non-null float64\n",
      "secondary_cleaner.output.tail_au                      14149 non-null float64\n",
      "secondary_cleaner.state.floatbank2_a_air              13932 non-null float64\n",
      "secondary_cleaner.state.floatbank2_a_level            14148 non-null float64\n",
      "secondary_cleaner.state.floatbank2_b_air              14128 non-null float64\n",
      "secondary_cleaner.state.floatbank2_b_level            14148 non-null float64\n",
      "secondary_cleaner.state.floatbank3_a_air              14145 non-null float64\n",
      "secondary_cleaner.state.floatbank3_a_level            14148 non-null float64\n",
      "secondary_cleaner.state.floatbank3_b_air              14148 non-null float64\n",
      "secondary_cleaner.state.floatbank3_b_level            14148 non-null float64\n",
      "secondary_cleaner.state.floatbank4_a_air              14143 non-null float64\n",
      "secondary_cleaner.state.floatbank4_a_level            14148 non-null float64\n",
      "secondary_cleaner.state.floatbank4_b_air              14148 non-null float64\n",
      "secondary_cleaner.state.floatbank4_b_level            14148 non-null float64\n",
      "secondary_cleaner.state.floatbank5_a_air              14148 non-null float64\n",
      "secondary_cleaner.state.floatbank5_a_level            14148 non-null float64\n",
      "secondary_cleaner.state.floatbank5_b_air              14148 non-null float64\n",
      "secondary_cleaner.state.floatbank5_b_level            14148 non-null float64\n",
      "secondary_cleaner.state.floatbank6_a_air              14147 non-null float64\n",
      "secondary_cleaner.state.floatbank6_a_level            14148 non-null float64\n",
      "dtypes: float64(86), object(1)\n",
      "memory usage: 9.4+ MB\n"
     ]
    },
    {
     "data": {
      "text/html": [
       "<div>\n",
       "<style scoped>\n",
       "    .dataframe tbody tr th:only-of-type {\n",
       "        vertical-align: middle;\n",
       "    }\n",
       "\n",
       "    .dataframe tbody tr th {\n",
       "        vertical-align: top;\n",
       "    }\n",
       "\n",
       "    .dataframe thead th {\n",
       "        text-align: right;\n",
       "    }\n",
       "</style>\n",
       "<table border=\"1\" class=\"dataframe\">\n",
       "  <thead>\n",
       "    <tr style=\"text-align: right;\">\n",
       "      <th></th>\n",
       "      <th>date</th>\n",
       "      <th>final.output.concentrate_ag</th>\n",
       "      <th>final.output.concentrate_pb</th>\n",
       "      <th>final.output.concentrate_sol</th>\n",
       "      <th>final.output.concentrate_au</th>\n",
       "      <th>final.output.recovery</th>\n",
       "      <th>final.output.tail_ag</th>\n",
       "      <th>final.output.tail_pb</th>\n",
       "      <th>final.output.tail_sol</th>\n",
       "      <th>final.output.tail_au</th>\n",
       "      <th>...</th>\n",
       "      <th>secondary_cleaner.state.floatbank4_a_air</th>\n",
       "      <th>secondary_cleaner.state.floatbank4_a_level</th>\n",
       "      <th>secondary_cleaner.state.floatbank4_b_air</th>\n",
       "      <th>secondary_cleaner.state.floatbank4_b_level</th>\n",
       "      <th>secondary_cleaner.state.floatbank5_a_air</th>\n",
       "      <th>secondary_cleaner.state.floatbank5_a_level</th>\n",
       "      <th>secondary_cleaner.state.floatbank5_b_air</th>\n",
       "      <th>secondary_cleaner.state.floatbank5_b_level</th>\n",
       "      <th>secondary_cleaner.state.floatbank6_a_air</th>\n",
       "      <th>secondary_cleaner.state.floatbank6_a_level</th>\n",
       "    </tr>\n",
       "  </thead>\n",
       "  <tbody>\n",
       "    <tr>\n",
       "      <td>0</td>\n",
       "      <td>2016-01-15 00:00:00</td>\n",
       "      <td>6.055403</td>\n",
       "      <td>9.889648</td>\n",
       "      <td>5.507324</td>\n",
       "      <td>42.192020</td>\n",
       "      <td>70.541216</td>\n",
       "      <td>10.411962</td>\n",
       "      <td>0.895447</td>\n",
       "      <td>16.904297</td>\n",
       "      <td>2.143149</td>\n",
       "      <td>...</td>\n",
       "      <td>14.016835</td>\n",
       "      <td>-502.488007</td>\n",
       "      <td>12.099931</td>\n",
       "      <td>-504.715942</td>\n",
       "      <td>9.925633</td>\n",
       "      <td>-498.310211</td>\n",
       "      <td>8.079666</td>\n",
       "      <td>-500.470978</td>\n",
       "      <td>14.151341</td>\n",
       "      <td>-605.841980</td>\n",
       "    </tr>\n",
       "    <tr>\n",
       "      <td>1</td>\n",
       "      <td>2016-01-15 01:00:00</td>\n",
       "      <td>6.029369</td>\n",
       "      <td>9.968944</td>\n",
       "      <td>5.257781</td>\n",
       "      <td>42.701629</td>\n",
       "      <td>69.266198</td>\n",
       "      <td>10.462676</td>\n",
       "      <td>0.927452</td>\n",
       "      <td>16.634514</td>\n",
       "      <td>2.224930</td>\n",
       "      <td>...</td>\n",
       "      <td>13.992281</td>\n",
       "      <td>-505.503262</td>\n",
       "      <td>11.950531</td>\n",
       "      <td>-501.331529</td>\n",
       "      <td>10.039245</td>\n",
       "      <td>-500.169983</td>\n",
       "      <td>7.984757</td>\n",
       "      <td>-500.582168</td>\n",
       "      <td>13.998353</td>\n",
       "      <td>-599.787184</td>\n",
       "    </tr>\n",
       "    <tr>\n",
       "      <td>2</td>\n",
       "      <td>2016-01-15 02:00:00</td>\n",
       "      <td>6.055926</td>\n",
       "      <td>10.213995</td>\n",
       "      <td>5.383759</td>\n",
       "      <td>42.657501</td>\n",
       "      <td>68.116445</td>\n",
       "      <td>10.507046</td>\n",
       "      <td>0.953716</td>\n",
       "      <td>16.208849</td>\n",
       "      <td>2.257889</td>\n",
       "      <td>...</td>\n",
       "      <td>14.015015</td>\n",
       "      <td>-502.520901</td>\n",
       "      <td>11.912783</td>\n",
       "      <td>-501.133383</td>\n",
       "      <td>10.070913</td>\n",
       "      <td>-500.129135</td>\n",
       "      <td>8.013877</td>\n",
       "      <td>-500.517572</td>\n",
       "      <td>14.028663</td>\n",
       "      <td>-601.427363</td>\n",
       "    </tr>\n",
       "    <tr>\n",
       "      <td>3</td>\n",
       "      <td>2016-01-15 03:00:00</td>\n",
       "      <td>6.047977</td>\n",
       "      <td>9.977019</td>\n",
       "      <td>4.858634</td>\n",
       "      <td>42.689819</td>\n",
       "      <td>68.347543</td>\n",
       "      <td>10.422762</td>\n",
       "      <td>0.883763</td>\n",
       "      <td>16.532835</td>\n",
       "      <td>2.146849</td>\n",
       "      <td>...</td>\n",
       "      <td>14.036510</td>\n",
       "      <td>-500.857308</td>\n",
       "      <td>11.999550</td>\n",
       "      <td>-501.193686</td>\n",
       "      <td>9.970366</td>\n",
       "      <td>-499.201640</td>\n",
       "      <td>7.977324</td>\n",
       "      <td>-500.255908</td>\n",
       "      <td>14.005551</td>\n",
       "      <td>-599.996129</td>\n",
       "    </tr>\n",
       "    <tr>\n",
       "      <td>4</td>\n",
       "      <td>2016-01-15 04:00:00</td>\n",
       "      <td>6.148599</td>\n",
       "      <td>10.142511</td>\n",
       "      <td>4.939416</td>\n",
       "      <td>42.774141</td>\n",
       "      <td>66.927016</td>\n",
       "      <td>10.360302</td>\n",
       "      <td>0.792826</td>\n",
       "      <td>16.525686</td>\n",
       "      <td>2.055292</td>\n",
       "      <td>...</td>\n",
       "      <td>14.027298</td>\n",
       "      <td>-499.838632</td>\n",
       "      <td>11.953070</td>\n",
       "      <td>-501.053894</td>\n",
       "      <td>9.925709</td>\n",
       "      <td>-501.686727</td>\n",
       "      <td>7.894242</td>\n",
       "      <td>-500.356035</td>\n",
       "      <td>13.996647</td>\n",
       "      <td>-601.496691</td>\n",
       "    </tr>\n",
       "  </tbody>\n",
       "</table>\n",
       "<p>5 rows × 87 columns</p>\n",
       "</div>"
      ],
      "text/plain": [
       "                  date  final.output.concentrate_ag  \\\n",
       "0  2016-01-15 00:00:00                     6.055403   \n",
       "1  2016-01-15 01:00:00                     6.029369   \n",
       "2  2016-01-15 02:00:00                     6.055926   \n",
       "3  2016-01-15 03:00:00                     6.047977   \n",
       "4  2016-01-15 04:00:00                     6.148599   \n",
       "\n",
       "   final.output.concentrate_pb  final.output.concentrate_sol  \\\n",
       "0                     9.889648                      5.507324   \n",
       "1                     9.968944                      5.257781   \n",
       "2                    10.213995                      5.383759   \n",
       "3                     9.977019                      4.858634   \n",
       "4                    10.142511                      4.939416   \n",
       "\n",
       "   final.output.concentrate_au  final.output.recovery  final.output.tail_ag  \\\n",
       "0                    42.192020              70.541216             10.411962   \n",
       "1                    42.701629              69.266198             10.462676   \n",
       "2                    42.657501              68.116445             10.507046   \n",
       "3                    42.689819              68.347543             10.422762   \n",
       "4                    42.774141              66.927016             10.360302   \n",
       "\n",
       "   final.output.tail_pb  final.output.tail_sol  final.output.tail_au  ...  \\\n",
       "0              0.895447              16.904297              2.143149  ...   \n",
       "1              0.927452              16.634514              2.224930  ...   \n",
       "2              0.953716              16.208849              2.257889  ...   \n",
       "3              0.883763              16.532835              2.146849  ...   \n",
       "4              0.792826              16.525686              2.055292  ...   \n",
       "\n",
       "   secondary_cleaner.state.floatbank4_a_air  \\\n",
       "0                                 14.016835   \n",
       "1                                 13.992281   \n",
       "2                                 14.015015   \n",
       "3                                 14.036510   \n",
       "4                                 14.027298   \n",
       "\n",
       "   secondary_cleaner.state.floatbank4_a_level  \\\n",
       "0                                 -502.488007   \n",
       "1                                 -505.503262   \n",
       "2                                 -502.520901   \n",
       "3                                 -500.857308   \n",
       "4                                 -499.838632   \n",
       "\n",
       "   secondary_cleaner.state.floatbank4_b_air  \\\n",
       "0                                 12.099931   \n",
       "1                                 11.950531   \n",
       "2                                 11.912783   \n",
       "3                                 11.999550   \n",
       "4                                 11.953070   \n",
       "\n",
       "   secondary_cleaner.state.floatbank4_b_level  \\\n",
       "0                                 -504.715942   \n",
       "1                                 -501.331529   \n",
       "2                                 -501.133383   \n",
       "3                                 -501.193686   \n",
       "4                                 -501.053894   \n",
       "\n",
       "   secondary_cleaner.state.floatbank5_a_air  \\\n",
       "0                                  9.925633   \n",
       "1                                 10.039245   \n",
       "2                                 10.070913   \n",
       "3                                  9.970366   \n",
       "4                                  9.925709   \n",
       "\n",
       "   secondary_cleaner.state.floatbank5_a_level  \\\n",
       "0                                 -498.310211   \n",
       "1                                 -500.169983   \n",
       "2                                 -500.129135   \n",
       "3                                 -499.201640   \n",
       "4                                 -501.686727   \n",
       "\n",
       "   secondary_cleaner.state.floatbank5_b_air  \\\n",
       "0                                  8.079666   \n",
       "1                                  7.984757   \n",
       "2                                  8.013877   \n",
       "3                                  7.977324   \n",
       "4                                  7.894242   \n",
       "\n",
       "   secondary_cleaner.state.floatbank5_b_level  \\\n",
       "0                                 -500.470978   \n",
       "1                                 -500.582168   \n",
       "2                                 -500.517572   \n",
       "3                                 -500.255908   \n",
       "4                                 -500.356035   \n",
       "\n",
       "   secondary_cleaner.state.floatbank6_a_air  \\\n",
       "0                                 14.151341   \n",
       "1                                 13.998353   \n",
       "2                                 14.028663   \n",
       "3                                 14.005551   \n",
       "4                                 13.996647   \n",
       "\n",
       "   secondary_cleaner.state.floatbank6_a_level  \n",
       "0                                 -605.841980  \n",
       "1                                 -599.787184  \n",
       "2                                 -601.427363  \n",
       "3                                 -599.996129  \n",
       "4                                 -601.496691  \n",
       "\n",
       "[5 rows x 87 columns]"
      ]
     },
     "execution_count": 4,
     "metadata": {},
     "output_type": "execute_result"
    }
   ],
   "source": [
    "data_train.info()\n",
    "data_train.head()"
   ]
  },
  {
   "cell_type": "code",
   "execution_count": 5,
   "metadata": {
    "scrolled": true
   },
   "outputs": [
    {
     "name": "stdout",
     "output_type": "stream",
     "text": [
      "<class 'pandas.core.frame.DataFrame'>\n",
      "RangeIndex: 5290 entries, 0 to 5289\n",
      "Data columns (total 53 columns):\n",
      "date                                          5290 non-null object\n",
      "primary_cleaner.input.sulfate                 5286 non-null float64\n",
      "primary_cleaner.input.depressant              5285 non-null float64\n",
      "primary_cleaner.input.feed_size               5290 non-null float64\n",
      "primary_cleaner.input.xanthate                5286 non-null float64\n",
      "primary_cleaner.state.floatbank8_a_air        5290 non-null float64\n",
      "primary_cleaner.state.floatbank8_a_level      5290 non-null float64\n",
      "primary_cleaner.state.floatbank8_b_air        5290 non-null float64\n",
      "primary_cleaner.state.floatbank8_b_level      5290 non-null float64\n",
      "primary_cleaner.state.floatbank8_c_air        5290 non-null float64\n",
      "primary_cleaner.state.floatbank8_c_level      5290 non-null float64\n",
      "primary_cleaner.state.floatbank8_d_air        5290 non-null float64\n",
      "primary_cleaner.state.floatbank8_d_level      5290 non-null float64\n",
      "rougher.input.feed_ag                         5290 non-null float64\n",
      "rougher.input.feed_pb                         5290 non-null float64\n",
      "rougher.input.feed_rate                       5287 non-null float64\n",
      "rougher.input.feed_size                       5289 non-null float64\n",
      "rougher.input.feed_sol                        5269 non-null float64\n",
      "rougher.input.feed_au                         5290 non-null float64\n",
      "rougher.input.floatbank10_sulfate             5285 non-null float64\n",
      "rougher.input.floatbank10_xanthate            5290 non-null float64\n",
      "rougher.input.floatbank11_sulfate             5282 non-null float64\n",
      "rougher.input.floatbank11_xanthate            5265 non-null float64\n",
      "rougher.state.floatbank10_a_air               5290 non-null float64\n",
      "rougher.state.floatbank10_a_level             5290 non-null float64\n",
      "rougher.state.floatbank10_b_air               5290 non-null float64\n",
      "rougher.state.floatbank10_b_level             5290 non-null float64\n",
      "rougher.state.floatbank10_c_air               5290 non-null float64\n",
      "rougher.state.floatbank10_c_level             5290 non-null float64\n",
      "rougher.state.floatbank10_d_air               5290 non-null float64\n",
      "rougher.state.floatbank10_d_level             5290 non-null float64\n",
      "rougher.state.floatbank10_e_air               5290 non-null float64\n",
      "rougher.state.floatbank10_e_level             5290 non-null float64\n",
      "rougher.state.floatbank10_f_air               5290 non-null float64\n",
      "rougher.state.floatbank10_f_level             5290 non-null float64\n",
      "secondary_cleaner.state.floatbank2_a_air      5287 non-null float64\n",
      "secondary_cleaner.state.floatbank2_a_level    5290 non-null float64\n",
      "secondary_cleaner.state.floatbank2_b_air      5288 non-null float64\n",
      "secondary_cleaner.state.floatbank2_b_level    5290 non-null float64\n",
      "secondary_cleaner.state.floatbank3_a_air      5281 non-null float64\n",
      "secondary_cleaner.state.floatbank3_a_level    5290 non-null float64\n",
      "secondary_cleaner.state.floatbank3_b_air      5290 non-null float64\n",
      "secondary_cleaner.state.floatbank3_b_level    5290 non-null float64\n",
      "secondary_cleaner.state.floatbank4_a_air      5290 non-null float64\n",
      "secondary_cleaner.state.floatbank4_a_level    5290 non-null float64\n",
      "secondary_cleaner.state.floatbank4_b_air      5290 non-null float64\n",
      "secondary_cleaner.state.floatbank4_b_level    5290 non-null float64\n",
      "secondary_cleaner.state.floatbank5_a_air      5290 non-null float64\n",
      "secondary_cleaner.state.floatbank5_a_level    5290 non-null float64\n",
      "secondary_cleaner.state.floatbank5_b_air      5290 non-null float64\n",
      "secondary_cleaner.state.floatbank5_b_level    5290 non-null float64\n",
      "secondary_cleaner.state.floatbank6_a_air      5290 non-null float64\n",
      "secondary_cleaner.state.floatbank6_a_level    5290 non-null float64\n",
      "dtypes: float64(52), object(1)\n",
      "memory usage: 2.1+ MB\n"
     ]
    },
    {
     "data": {
      "text/html": [
       "<div>\n",
       "<style scoped>\n",
       "    .dataframe tbody tr th:only-of-type {\n",
       "        vertical-align: middle;\n",
       "    }\n",
       "\n",
       "    .dataframe tbody tr th {\n",
       "        vertical-align: top;\n",
       "    }\n",
       "\n",
       "    .dataframe thead th {\n",
       "        text-align: right;\n",
       "    }\n",
       "</style>\n",
       "<table border=\"1\" class=\"dataframe\">\n",
       "  <thead>\n",
       "    <tr style=\"text-align: right;\">\n",
       "      <th></th>\n",
       "      <th>date</th>\n",
       "      <th>primary_cleaner.input.sulfate</th>\n",
       "      <th>primary_cleaner.input.depressant</th>\n",
       "      <th>primary_cleaner.input.feed_size</th>\n",
       "      <th>primary_cleaner.input.xanthate</th>\n",
       "      <th>primary_cleaner.state.floatbank8_a_air</th>\n",
       "      <th>primary_cleaner.state.floatbank8_a_level</th>\n",
       "      <th>primary_cleaner.state.floatbank8_b_air</th>\n",
       "      <th>primary_cleaner.state.floatbank8_b_level</th>\n",
       "      <th>primary_cleaner.state.floatbank8_c_air</th>\n",
       "      <th>...</th>\n",
       "      <th>secondary_cleaner.state.floatbank4_a_air</th>\n",
       "      <th>secondary_cleaner.state.floatbank4_a_level</th>\n",
       "      <th>secondary_cleaner.state.floatbank4_b_air</th>\n",
       "      <th>secondary_cleaner.state.floatbank4_b_level</th>\n",
       "      <th>secondary_cleaner.state.floatbank5_a_air</th>\n",
       "      <th>secondary_cleaner.state.floatbank5_a_level</th>\n",
       "      <th>secondary_cleaner.state.floatbank5_b_air</th>\n",
       "      <th>secondary_cleaner.state.floatbank5_b_level</th>\n",
       "      <th>secondary_cleaner.state.floatbank6_a_air</th>\n",
       "      <th>secondary_cleaner.state.floatbank6_a_level</th>\n",
       "    </tr>\n",
       "  </thead>\n",
       "  <tbody>\n",
       "    <tr>\n",
       "      <td>0</td>\n",
       "      <td>2016-09-01 00:59:59</td>\n",
       "      <td>210.800909</td>\n",
       "      <td>14.993118</td>\n",
       "      <td>8.080000</td>\n",
       "      <td>1.005021</td>\n",
       "      <td>1398.981301</td>\n",
       "      <td>-500.225577</td>\n",
       "      <td>1399.144926</td>\n",
       "      <td>-499.919735</td>\n",
       "      <td>1400.102998</td>\n",
       "      <td>...</td>\n",
       "      <td>12.023554</td>\n",
       "      <td>-497.795834</td>\n",
       "      <td>8.016656</td>\n",
       "      <td>-501.289139</td>\n",
       "      <td>7.946562</td>\n",
       "      <td>-432.317850</td>\n",
       "      <td>4.872511</td>\n",
       "      <td>-500.037437</td>\n",
       "      <td>26.705889</td>\n",
       "      <td>-499.709414</td>\n",
       "    </tr>\n",
       "    <tr>\n",
       "      <td>1</td>\n",
       "      <td>2016-09-01 01:59:59</td>\n",
       "      <td>215.392455</td>\n",
       "      <td>14.987471</td>\n",
       "      <td>8.080000</td>\n",
       "      <td>0.990469</td>\n",
       "      <td>1398.777912</td>\n",
       "      <td>-500.057435</td>\n",
       "      <td>1398.055362</td>\n",
       "      <td>-499.778182</td>\n",
       "      <td>1396.151033</td>\n",
       "      <td>...</td>\n",
       "      <td>12.058140</td>\n",
       "      <td>-498.695773</td>\n",
       "      <td>8.130979</td>\n",
       "      <td>-499.634209</td>\n",
       "      <td>7.958270</td>\n",
       "      <td>-525.839648</td>\n",
       "      <td>4.878850</td>\n",
       "      <td>-500.162375</td>\n",
       "      <td>25.019940</td>\n",
       "      <td>-499.819438</td>\n",
       "    </tr>\n",
       "    <tr>\n",
       "      <td>2</td>\n",
       "      <td>2016-09-01 02:59:59</td>\n",
       "      <td>215.259946</td>\n",
       "      <td>12.884934</td>\n",
       "      <td>7.786667</td>\n",
       "      <td>0.996043</td>\n",
       "      <td>1398.493666</td>\n",
       "      <td>-500.868360</td>\n",
       "      <td>1398.860436</td>\n",
       "      <td>-499.764529</td>\n",
       "      <td>1398.075709</td>\n",
       "      <td>...</td>\n",
       "      <td>11.962366</td>\n",
       "      <td>-498.767484</td>\n",
       "      <td>8.096893</td>\n",
       "      <td>-500.827423</td>\n",
       "      <td>8.071056</td>\n",
       "      <td>-500.801673</td>\n",
       "      <td>4.905125</td>\n",
       "      <td>-499.828510</td>\n",
       "      <td>24.994862</td>\n",
       "      <td>-500.622559</td>\n",
       "    </tr>\n",
       "    <tr>\n",
       "      <td>3</td>\n",
       "      <td>2016-09-01 03:59:59</td>\n",
       "      <td>215.336236</td>\n",
       "      <td>12.006805</td>\n",
       "      <td>7.640000</td>\n",
       "      <td>0.863514</td>\n",
       "      <td>1399.618111</td>\n",
       "      <td>-498.863574</td>\n",
       "      <td>1397.440120</td>\n",
       "      <td>-499.211024</td>\n",
       "      <td>1400.129303</td>\n",
       "      <td>...</td>\n",
       "      <td>12.033091</td>\n",
       "      <td>-498.350935</td>\n",
       "      <td>8.074946</td>\n",
       "      <td>-499.474407</td>\n",
       "      <td>7.897085</td>\n",
       "      <td>-500.868509</td>\n",
       "      <td>4.931400</td>\n",
       "      <td>-499.963623</td>\n",
       "      <td>24.948919</td>\n",
       "      <td>-498.709987</td>\n",
       "    </tr>\n",
       "    <tr>\n",
       "      <td>4</td>\n",
       "      <td>2016-09-01 04:59:59</td>\n",
       "      <td>199.099327</td>\n",
       "      <td>10.682530</td>\n",
       "      <td>7.530000</td>\n",
       "      <td>0.805575</td>\n",
       "      <td>1401.268123</td>\n",
       "      <td>-500.808305</td>\n",
       "      <td>1398.128818</td>\n",
       "      <td>-499.504543</td>\n",
       "      <td>1402.172226</td>\n",
       "      <td>...</td>\n",
       "      <td>12.025367</td>\n",
       "      <td>-500.786497</td>\n",
       "      <td>8.054678</td>\n",
       "      <td>-500.397500</td>\n",
       "      <td>8.107890</td>\n",
       "      <td>-509.526725</td>\n",
       "      <td>4.957674</td>\n",
       "      <td>-500.360026</td>\n",
       "      <td>25.003331</td>\n",
       "      <td>-500.856333</td>\n",
       "    </tr>\n",
       "  </tbody>\n",
       "</table>\n",
       "<p>5 rows × 53 columns</p>\n",
       "</div>"
      ],
      "text/plain": [
       "                  date  primary_cleaner.input.sulfate  \\\n",
       "0  2016-09-01 00:59:59                     210.800909   \n",
       "1  2016-09-01 01:59:59                     215.392455   \n",
       "2  2016-09-01 02:59:59                     215.259946   \n",
       "3  2016-09-01 03:59:59                     215.336236   \n",
       "4  2016-09-01 04:59:59                     199.099327   \n",
       "\n",
       "   primary_cleaner.input.depressant  primary_cleaner.input.feed_size  \\\n",
       "0                         14.993118                         8.080000   \n",
       "1                         14.987471                         8.080000   \n",
       "2                         12.884934                         7.786667   \n",
       "3                         12.006805                         7.640000   \n",
       "4                         10.682530                         7.530000   \n",
       "\n",
       "   primary_cleaner.input.xanthate  primary_cleaner.state.floatbank8_a_air  \\\n",
       "0                        1.005021                             1398.981301   \n",
       "1                        0.990469                             1398.777912   \n",
       "2                        0.996043                             1398.493666   \n",
       "3                        0.863514                             1399.618111   \n",
       "4                        0.805575                             1401.268123   \n",
       "\n",
       "   primary_cleaner.state.floatbank8_a_level  \\\n",
       "0                               -500.225577   \n",
       "1                               -500.057435   \n",
       "2                               -500.868360   \n",
       "3                               -498.863574   \n",
       "4                               -500.808305   \n",
       "\n",
       "   primary_cleaner.state.floatbank8_b_air  \\\n",
       "0                             1399.144926   \n",
       "1                             1398.055362   \n",
       "2                             1398.860436   \n",
       "3                             1397.440120   \n",
       "4                             1398.128818   \n",
       "\n",
       "   primary_cleaner.state.floatbank8_b_level  \\\n",
       "0                               -499.919735   \n",
       "1                               -499.778182   \n",
       "2                               -499.764529   \n",
       "3                               -499.211024   \n",
       "4                               -499.504543   \n",
       "\n",
       "   primary_cleaner.state.floatbank8_c_air  ...  \\\n",
       "0                             1400.102998  ...   \n",
       "1                             1396.151033  ...   \n",
       "2                             1398.075709  ...   \n",
       "3                             1400.129303  ...   \n",
       "4                             1402.172226  ...   \n",
       "\n",
       "   secondary_cleaner.state.floatbank4_a_air  \\\n",
       "0                                 12.023554   \n",
       "1                                 12.058140   \n",
       "2                                 11.962366   \n",
       "3                                 12.033091   \n",
       "4                                 12.025367   \n",
       "\n",
       "   secondary_cleaner.state.floatbank4_a_level  \\\n",
       "0                                 -497.795834   \n",
       "1                                 -498.695773   \n",
       "2                                 -498.767484   \n",
       "3                                 -498.350935   \n",
       "4                                 -500.786497   \n",
       "\n",
       "   secondary_cleaner.state.floatbank4_b_air  \\\n",
       "0                                  8.016656   \n",
       "1                                  8.130979   \n",
       "2                                  8.096893   \n",
       "3                                  8.074946   \n",
       "4                                  8.054678   \n",
       "\n",
       "   secondary_cleaner.state.floatbank4_b_level  \\\n",
       "0                                 -501.289139   \n",
       "1                                 -499.634209   \n",
       "2                                 -500.827423   \n",
       "3                                 -499.474407   \n",
       "4                                 -500.397500   \n",
       "\n",
       "   secondary_cleaner.state.floatbank5_a_air  \\\n",
       "0                                  7.946562   \n",
       "1                                  7.958270   \n",
       "2                                  8.071056   \n",
       "3                                  7.897085   \n",
       "4                                  8.107890   \n",
       "\n",
       "   secondary_cleaner.state.floatbank5_a_level  \\\n",
       "0                                 -432.317850   \n",
       "1                                 -525.839648   \n",
       "2                                 -500.801673   \n",
       "3                                 -500.868509   \n",
       "4                                 -509.526725   \n",
       "\n",
       "   secondary_cleaner.state.floatbank5_b_air  \\\n",
       "0                                  4.872511   \n",
       "1                                  4.878850   \n",
       "2                                  4.905125   \n",
       "3                                  4.931400   \n",
       "4                                  4.957674   \n",
       "\n",
       "   secondary_cleaner.state.floatbank5_b_level  \\\n",
       "0                                 -500.037437   \n",
       "1                                 -500.162375   \n",
       "2                                 -499.828510   \n",
       "3                                 -499.963623   \n",
       "4                                 -500.360026   \n",
       "\n",
       "   secondary_cleaner.state.floatbank6_a_air  \\\n",
       "0                                 26.705889   \n",
       "1                                 25.019940   \n",
       "2                                 24.994862   \n",
       "3                                 24.948919   \n",
       "4                                 25.003331   \n",
       "\n",
       "   secondary_cleaner.state.floatbank6_a_level  \n",
       "0                                 -499.709414  \n",
       "1                                 -499.819438  \n",
       "2                                 -500.622559  \n",
       "3                                 -498.709987  \n",
       "4                                 -500.856333  \n",
       "\n",
       "[5 rows x 53 columns]"
      ]
     },
     "execution_count": 5,
     "metadata": {},
     "output_type": "execute_result"
    }
   ],
   "source": [
    "data_test.info()\n",
    "data_test.head()"
   ]
  },
  {
   "cell_type": "code",
   "execution_count": 6,
   "metadata": {
    "scrolled": true
   },
   "outputs": [
    {
     "name": "stdout",
     "output_type": "stream",
     "text": [
      "<class 'pandas.core.frame.DataFrame'>\n",
      "RangeIndex: 19439 entries, 0 to 19438\n",
      "Data columns (total 87 columns):\n",
      "date                                                  19439 non-null object\n",
      "final.output.concentrate_ag                           19438 non-null float64\n",
      "final.output.concentrate_pb                           19438 non-null float64\n",
      "final.output.concentrate_sol                          19228 non-null float64\n",
      "final.output.concentrate_au                           19439 non-null float64\n",
      "final.output.recovery                                 19439 non-null float64\n",
      "final.output.tail_ag                                  19438 non-null float64\n",
      "final.output.tail_pb                                  19338 non-null float64\n",
      "final.output.tail_sol                                 19433 non-null float64\n",
      "final.output.tail_au                                  19439 non-null float64\n",
      "primary_cleaner.input.sulfate                         19415 non-null float64\n",
      "primary_cleaner.input.depressant                      19402 non-null float64\n",
      "primary_cleaner.input.feed_size                       19439 non-null float64\n",
      "primary_cleaner.input.xanthate                        19335 non-null float64\n",
      "primary_cleaner.output.concentrate_ag                 19439 non-null float64\n",
      "primary_cleaner.output.concentrate_pb                 19323 non-null float64\n",
      "primary_cleaner.output.concentrate_sol                19069 non-null float64\n",
      "primary_cleaner.output.concentrate_au                 19439 non-null float64\n",
      "primary_cleaner.output.tail_ag                        19435 non-null float64\n",
      "primary_cleaner.output.tail_pb                        19418 non-null float64\n",
      "primary_cleaner.output.tail_sol                       19377 non-null float64\n",
      "primary_cleaner.output.tail_au                        19439 non-null float64\n",
      "primary_cleaner.state.floatbank8_a_air                19435 non-null float64\n",
      "primary_cleaner.state.floatbank8_a_level              19438 non-null float64\n",
      "primary_cleaner.state.floatbank8_b_air                19435 non-null float64\n",
      "primary_cleaner.state.floatbank8_b_level              19438 non-null float64\n",
      "primary_cleaner.state.floatbank8_c_air                19437 non-null float64\n",
      "primary_cleaner.state.floatbank8_c_level              19438 non-null float64\n",
      "primary_cleaner.state.floatbank8_d_air                19436 non-null float64\n",
      "primary_cleaner.state.floatbank8_d_level              19438 non-null float64\n",
      "rougher.calculation.sulfate_to_au_concentrate         19437 non-null float64\n",
      "rougher.calculation.floatbank10_sulfate_to_au_feed    19437 non-null float64\n",
      "rougher.calculation.floatbank11_sulfate_to_au_feed    19437 non-null float64\n",
      "rougher.calculation.au_pb_ratio                       19439 non-null float64\n",
      "rougher.input.feed_ag                                 19439 non-null float64\n",
      "rougher.input.feed_pb                                 19339 non-null float64\n",
      "rougher.input.feed_rate                               19428 non-null float64\n",
      "rougher.input.feed_size                               19294 non-null float64\n",
      "rougher.input.feed_sol                                19340 non-null float64\n",
      "rougher.input.feed_au                                 19439 non-null float64\n",
      "rougher.input.floatbank10_sulfate                     19405 non-null float64\n",
      "rougher.input.floatbank10_xanthate                    19431 non-null float64\n",
      "rougher.input.floatbank11_sulfate                     19395 non-null float64\n",
      "rougher.input.floatbank11_xanthate                    18986 non-null float64\n",
      "rougher.output.concentrate_ag                         19439 non-null float64\n",
      "rougher.output.concentrate_pb                         19439 non-null float64\n",
      "rougher.output.concentrate_sol                        19416 non-null float64\n",
      "rougher.output.concentrate_au                         19439 non-null float64\n",
      "rougher.output.recovery                               19439 non-null float64\n",
      "rougher.output.tail_ag                                19438 non-null float64\n",
      "rougher.output.tail_pb                                19439 non-null float64\n",
      "rougher.output.tail_sol                               19439 non-null float64\n",
      "rougher.output.tail_au                                19439 non-null float64\n",
      "rougher.state.floatbank10_a_air                       19438 non-null float64\n",
      "rougher.state.floatbank10_a_level                     19438 non-null float64\n",
      "rougher.state.floatbank10_b_air                       19438 non-null float64\n",
      "rougher.state.floatbank10_b_level                     19438 non-null float64\n",
      "rougher.state.floatbank10_c_air                       19438 non-null float64\n",
      "rougher.state.floatbank10_c_level                     19438 non-null float64\n",
      "rougher.state.floatbank10_d_air                       19439 non-null float64\n",
      "rougher.state.floatbank10_d_level                     19439 non-null float64\n",
      "rougher.state.floatbank10_e_air                       19003 non-null float64\n",
      "rougher.state.floatbank10_e_level                     19439 non-null float64\n",
      "rougher.state.floatbank10_f_air                       19439 non-null float64\n",
      "rougher.state.floatbank10_f_level                     19439 non-null float64\n",
      "secondary_cleaner.output.tail_ag                      19437 non-null float64\n",
      "secondary_cleaner.output.tail_pb                      19427 non-null float64\n",
      "secondary_cleaner.output.tail_sol                     17691 non-null float64\n",
      "secondary_cleaner.output.tail_au                      19439 non-null float64\n",
      "secondary_cleaner.state.floatbank2_a_air              19219 non-null float64\n",
      "secondary_cleaner.state.floatbank2_a_level            19438 non-null float64\n",
      "secondary_cleaner.state.floatbank2_b_air              19416 non-null float64\n",
      "secondary_cleaner.state.floatbank2_b_level            19438 non-null float64\n",
      "secondary_cleaner.state.floatbank3_a_air              19426 non-null float64\n",
      "secondary_cleaner.state.floatbank3_a_level            19438 non-null float64\n",
      "secondary_cleaner.state.floatbank3_b_air              19438 non-null float64\n",
      "secondary_cleaner.state.floatbank3_b_level            19438 non-null float64\n",
      "secondary_cleaner.state.floatbank4_a_air              19433 non-null float64\n",
      "secondary_cleaner.state.floatbank4_a_level            19438 non-null float64\n",
      "secondary_cleaner.state.floatbank4_b_air              19438 non-null float64\n",
      "secondary_cleaner.state.floatbank4_b_level            19438 non-null float64\n",
      "secondary_cleaner.state.floatbank5_a_air              19438 non-null float64\n",
      "secondary_cleaner.state.floatbank5_a_level            19438 non-null float64\n",
      "secondary_cleaner.state.floatbank5_b_air              19438 non-null float64\n",
      "secondary_cleaner.state.floatbank5_b_level            19438 non-null float64\n",
      "secondary_cleaner.state.floatbank6_a_air              19437 non-null float64\n",
      "secondary_cleaner.state.floatbank6_a_level            19438 non-null float64\n",
      "dtypes: float64(86), object(1)\n",
      "memory usage: 12.9+ MB\n"
     ]
    },
    {
     "data": {
      "text/html": [
       "<div>\n",
       "<style scoped>\n",
       "    .dataframe tbody tr th:only-of-type {\n",
       "        vertical-align: middle;\n",
       "    }\n",
       "\n",
       "    .dataframe tbody tr th {\n",
       "        vertical-align: top;\n",
       "    }\n",
       "\n",
       "    .dataframe thead th {\n",
       "        text-align: right;\n",
       "    }\n",
       "</style>\n",
       "<table border=\"1\" class=\"dataframe\">\n",
       "  <thead>\n",
       "    <tr style=\"text-align: right;\">\n",
       "      <th></th>\n",
       "      <th>date</th>\n",
       "      <th>final.output.concentrate_ag</th>\n",
       "      <th>final.output.concentrate_pb</th>\n",
       "      <th>final.output.concentrate_sol</th>\n",
       "      <th>final.output.concentrate_au</th>\n",
       "      <th>final.output.recovery</th>\n",
       "      <th>final.output.tail_ag</th>\n",
       "      <th>final.output.tail_pb</th>\n",
       "      <th>final.output.tail_sol</th>\n",
       "      <th>final.output.tail_au</th>\n",
       "      <th>...</th>\n",
       "      <th>secondary_cleaner.state.floatbank4_a_air</th>\n",
       "      <th>secondary_cleaner.state.floatbank4_a_level</th>\n",
       "      <th>secondary_cleaner.state.floatbank4_b_air</th>\n",
       "      <th>secondary_cleaner.state.floatbank4_b_level</th>\n",
       "      <th>secondary_cleaner.state.floatbank5_a_air</th>\n",
       "      <th>secondary_cleaner.state.floatbank5_a_level</th>\n",
       "      <th>secondary_cleaner.state.floatbank5_b_air</th>\n",
       "      <th>secondary_cleaner.state.floatbank5_b_level</th>\n",
       "      <th>secondary_cleaner.state.floatbank6_a_air</th>\n",
       "      <th>secondary_cleaner.state.floatbank6_a_level</th>\n",
       "    </tr>\n",
       "  </thead>\n",
       "  <tbody>\n",
       "    <tr>\n",
       "      <td>0</td>\n",
       "      <td>2016-01-15 00:00:00</td>\n",
       "      <td>6.055403</td>\n",
       "      <td>9.889648</td>\n",
       "      <td>5.507324</td>\n",
       "      <td>42.192020</td>\n",
       "      <td>70.541216</td>\n",
       "      <td>10.411962</td>\n",
       "      <td>0.895447</td>\n",
       "      <td>16.904297</td>\n",
       "      <td>2.143149</td>\n",
       "      <td>...</td>\n",
       "      <td>14.016835</td>\n",
       "      <td>-502.488007</td>\n",
       "      <td>12.099931</td>\n",
       "      <td>-504.715942</td>\n",
       "      <td>9.925633</td>\n",
       "      <td>-498.310211</td>\n",
       "      <td>8.079666</td>\n",
       "      <td>-500.470978</td>\n",
       "      <td>14.151341</td>\n",
       "      <td>-605.841980</td>\n",
       "    </tr>\n",
       "    <tr>\n",
       "      <td>1</td>\n",
       "      <td>2016-01-15 01:00:00</td>\n",
       "      <td>6.029369</td>\n",
       "      <td>9.968944</td>\n",
       "      <td>5.257781</td>\n",
       "      <td>42.701629</td>\n",
       "      <td>69.266198</td>\n",
       "      <td>10.462676</td>\n",
       "      <td>0.927452</td>\n",
       "      <td>16.634514</td>\n",
       "      <td>2.224930</td>\n",
       "      <td>...</td>\n",
       "      <td>13.992281</td>\n",
       "      <td>-505.503262</td>\n",
       "      <td>11.950531</td>\n",
       "      <td>-501.331529</td>\n",
       "      <td>10.039245</td>\n",
       "      <td>-500.169983</td>\n",
       "      <td>7.984757</td>\n",
       "      <td>-500.582168</td>\n",
       "      <td>13.998353</td>\n",
       "      <td>-599.787184</td>\n",
       "    </tr>\n",
       "    <tr>\n",
       "      <td>2</td>\n",
       "      <td>2016-01-15 02:00:00</td>\n",
       "      <td>6.055926</td>\n",
       "      <td>10.213995</td>\n",
       "      <td>5.383759</td>\n",
       "      <td>42.657501</td>\n",
       "      <td>68.116445</td>\n",
       "      <td>10.507046</td>\n",
       "      <td>0.953716</td>\n",
       "      <td>16.208849</td>\n",
       "      <td>2.257889</td>\n",
       "      <td>...</td>\n",
       "      <td>14.015015</td>\n",
       "      <td>-502.520901</td>\n",
       "      <td>11.912783</td>\n",
       "      <td>-501.133383</td>\n",
       "      <td>10.070913</td>\n",
       "      <td>-500.129135</td>\n",
       "      <td>8.013877</td>\n",
       "      <td>-500.517572</td>\n",
       "      <td>14.028663</td>\n",
       "      <td>-601.427363</td>\n",
       "    </tr>\n",
       "    <tr>\n",
       "      <td>3</td>\n",
       "      <td>2016-01-15 03:00:00</td>\n",
       "      <td>6.047977</td>\n",
       "      <td>9.977019</td>\n",
       "      <td>4.858634</td>\n",
       "      <td>42.689819</td>\n",
       "      <td>68.347543</td>\n",
       "      <td>10.422762</td>\n",
       "      <td>0.883763</td>\n",
       "      <td>16.532835</td>\n",
       "      <td>2.146849</td>\n",
       "      <td>...</td>\n",
       "      <td>14.036510</td>\n",
       "      <td>-500.857308</td>\n",
       "      <td>11.999550</td>\n",
       "      <td>-501.193686</td>\n",
       "      <td>9.970366</td>\n",
       "      <td>-499.201640</td>\n",
       "      <td>7.977324</td>\n",
       "      <td>-500.255908</td>\n",
       "      <td>14.005551</td>\n",
       "      <td>-599.996129</td>\n",
       "    </tr>\n",
       "    <tr>\n",
       "      <td>4</td>\n",
       "      <td>2016-01-15 04:00:00</td>\n",
       "      <td>6.148599</td>\n",
       "      <td>10.142511</td>\n",
       "      <td>4.939416</td>\n",
       "      <td>42.774141</td>\n",
       "      <td>66.927016</td>\n",
       "      <td>10.360302</td>\n",
       "      <td>0.792826</td>\n",
       "      <td>16.525686</td>\n",
       "      <td>2.055292</td>\n",
       "      <td>...</td>\n",
       "      <td>14.027298</td>\n",
       "      <td>-499.838632</td>\n",
       "      <td>11.953070</td>\n",
       "      <td>-501.053894</td>\n",
       "      <td>9.925709</td>\n",
       "      <td>-501.686727</td>\n",
       "      <td>7.894242</td>\n",
       "      <td>-500.356035</td>\n",
       "      <td>13.996647</td>\n",
       "      <td>-601.496691</td>\n",
       "    </tr>\n",
       "  </tbody>\n",
       "</table>\n",
       "<p>5 rows × 87 columns</p>\n",
       "</div>"
      ],
      "text/plain": [
       "                  date  final.output.concentrate_ag  \\\n",
       "0  2016-01-15 00:00:00                     6.055403   \n",
       "1  2016-01-15 01:00:00                     6.029369   \n",
       "2  2016-01-15 02:00:00                     6.055926   \n",
       "3  2016-01-15 03:00:00                     6.047977   \n",
       "4  2016-01-15 04:00:00                     6.148599   \n",
       "\n",
       "   final.output.concentrate_pb  final.output.concentrate_sol  \\\n",
       "0                     9.889648                      5.507324   \n",
       "1                     9.968944                      5.257781   \n",
       "2                    10.213995                      5.383759   \n",
       "3                     9.977019                      4.858634   \n",
       "4                    10.142511                      4.939416   \n",
       "\n",
       "   final.output.concentrate_au  final.output.recovery  final.output.tail_ag  \\\n",
       "0                    42.192020              70.541216             10.411962   \n",
       "1                    42.701629              69.266198             10.462676   \n",
       "2                    42.657501              68.116445             10.507046   \n",
       "3                    42.689819              68.347543             10.422762   \n",
       "4                    42.774141              66.927016             10.360302   \n",
       "\n",
       "   final.output.tail_pb  final.output.tail_sol  final.output.tail_au  ...  \\\n",
       "0              0.895447              16.904297              2.143149  ...   \n",
       "1              0.927452              16.634514              2.224930  ...   \n",
       "2              0.953716              16.208849              2.257889  ...   \n",
       "3              0.883763              16.532835              2.146849  ...   \n",
       "4              0.792826              16.525686              2.055292  ...   \n",
       "\n",
       "   secondary_cleaner.state.floatbank4_a_air  \\\n",
       "0                                 14.016835   \n",
       "1                                 13.992281   \n",
       "2                                 14.015015   \n",
       "3                                 14.036510   \n",
       "4                                 14.027298   \n",
       "\n",
       "   secondary_cleaner.state.floatbank4_a_level  \\\n",
       "0                                 -502.488007   \n",
       "1                                 -505.503262   \n",
       "2                                 -502.520901   \n",
       "3                                 -500.857308   \n",
       "4                                 -499.838632   \n",
       "\n",
       "   secondary_cleaner.state.floatbank4_b_air  \\\n",
       "0                                 12.099931   \n",
       "1                                 11.950531   \n",
       "2                                 11.912783   \n",
       "3                                 11.999550   \n",
       "4                                 11.953070   \n",
       "\n",
       "   secondary_cleaner.state.floatbank4_b_level  \\\n",
       "0                                 -504.715942   \n",
       "1                                 -501.331529   \n",
       "2                                 -501.133383   \n",
       "3                                 -501.193686   \n",
       "4                                 -501.053894   \n",
       "\n",
       "   secondary_cleaner.state.floatbank5_a_air  \\\n",
       "0                                  9.925633   \n",
       "1                                 10.039245   \n",
       "2                                 10.070913   \n",
       "3                                  9.970366   \n",
       "4                                  9.925709   \n",
       "\n",
       "   secondary_cleaner.state.floatbank5_a_level  \\\n",
       "0                                 -498.310211   \n",
       "1                                 -500.169983   \n",
       "2                                 -500.129135   \n",
       "3                                 -499.201640   \n",
       "4                                 -501.686727   \n",
       "\n",
       "   secondary_cleaner.state.floatbank5_b_air  \\\n",
       "0                                  8.079666   \n",
       "1                                  7.984757   \n",
       "2                                  8.013877   \n",
       "3                                  7.977324   \n",
       "4                                  7.894242   \n",
       "\n",
       "   secondary_cleaner.state.floatbank5_b_level  \\\n",
       "0                                 -500.470978   \n",
       "1                                 -500.582168   \n",
       "2                                 -500.517572   \n",
       "3                                 -500.255908   \n",
       "4                                 -500.356035   \n",
       "\n",
       "   secondary_cleaner.state.floatbank6_a_air  \\\n",
       "0                                 14.151341   \n",
       "1                                 13.998353   \n",
       "2                                 14.028663   \n",
       "3                                 14.005551   \n",
       "4                                 13.996647   \n",
       "\n",
       "   secondary_cleaner.state.floatbank6_a_level  \n",
       "0                                 -605.841980  \n",
       "1                                 -599.787184  \n",
       "2                                 -601.427363  \n",
       "3                                 -599.996129  \n",
       "4                                 -601.496691  \n",
       "\n",
       "[5 rows x 87 columns]"
      ]
     },
     "execution_count": 6,
     "metadata": {},
     "output_type": "execute_result"
    }
   ],
   "source": [
    "data_full.info()\n",
    "data_full.head()"
   ]
  },
  {
   "cell_type": "markdown",
   "metadata": {},
   "source": [
    "**Вывод**\n",
    "\n",
    "Представленно три датасета:  \n",
    "* gold_recovery_train_new.csv — обучающая выборка;\n",
    "* gold_recovery_test_new.csv — тестовая выборка;\n",
    "* gold_recovery_full_new.csv — исходные данные: содержит обучающую и тестовую выборки со всеми признаками."
   ]
  },
  {
   "cell_type": "markdown",
   "metadata": {},
   "source": [
    "### Расчет эффективности обогащения"
   ]
  },
  {
   "cell_type": "code",
   "execution_count": 7,
   "metadata": {},
   "outputs": [],
   "source": [
    "def recover(data):\n",
    "    recovery = ((data['rougher.output.concentrate_au'] * (data['rougher.input.feed_au'] - data['rougher.output.tail_au'])\n",
    "                ) / (data['rougher.input.feed_au'] * (data['rougher.output.concentrate_au'] - data['rougher.output.tail_au']))\n",
    "               ) * 100\n",
    "    return recovery"
   ]
  },
  {
   "cell_type": "code",
   "execution_count": 8,
   "metadata": {
    "scrolled": true
   },
   "outputs": [
    {
     "name": "stdout",
     "output_type": "stream",
     "text": [
      "MAE: 9.682896147825551e-15\n"
     ]
    }
   ],
   "source": [
    "print('MAE:', mean_absolute_error(data_train['rougher.output.recovery'], recover(data_train)))"
   ]
  },
  {
   "cell_type": "markdown",
   "metadata": {},
   "source": [
    "**Вывод**\n",
    "\n",
    "Значение в рамках погрешности машинного эпсилона,  эффективность обогащения с выгруженных данных и по формуле одинаковая."
   ]
  },
  {
   "cell_type": "markdown",
   "metadata": {},
   "source": [
    "### Анализ недоступных признаков в тестовой выборке"
   ]
  },
  {
   "cell_type": "code",
   "execution_count": 9,
   "metadata": {
    "scrolled": true
   },
   "outputs": [
    {
     "data": {
      "text/plain": [
       "1                           final.output.concentrate_ag\n",
       "2                           final.output.concentrate_pb\n",
       "3                          final.output.concentrate_sol\n",
       "4                           final.output.concentrate_au\n",
       "5                                 final.output.recovery\n",
       "6                                  final.output.tail_ag\n",
       "7                                  final.output.tail_pb\n",
       "8                                 final.output.tail_sol\n",
       "9                                  final.output.tail_au\n",
       "14                primary_cleaner.output.concentrate_ag\n",
       "15                primary_cleaner.output.concentrate_pb\n",
       "16               primary_cleaner.output.concentrate_sol\n",
       "17                primary_cleaner.output.concentrate_au\n",
       "18                       primary_cleaner.output.tail_ag\n",
       "19                       primary_cleaner.output.tail_pb\n",
       "20                      primary_cleaner.output.tail_sol\n",
       "21                       primary_cleaner.output.tail_au\n",
       "30        rougher.calculation.sulfate_to_au_concentrate\n",
       "31    rougher.calculation.floatbank10_sulfate_to_au_...\n",
       "32    rougher.calculation.floatbank11_sulfate_to_au_...\n",
       "33                      rougher.calculation.au_pb_ratio\n",
       "44                        rougher.output.concentrate_ag\n",
       "45                        rougher.output.concentrate_pb\n",
       "46                       rougher.output.concentrate_sol\n",
       "47                        rougher.output.concentrate_au\n",
       "48                              rougher.output.recovery\n",
       "49                               rougher.output.tail_ag\n",
       "50                               rougher.output.tail_pb\n",
       "51                              rougher.output.tail_sol\n",
       "52                               rougher.output.tail_au\n",
       "65                     secondary_cleaner.output.tail_ag\n",
       "66                     secondary_cleaner.output.tail_pb\n",
       "67                    secondary_cleaner.output.tail_sol\n",
       "68                     secondary_cleaner.output.tail_au\n",
       "dtype: object"
      ]
     },
     "metadata": {},
     "output_type": "display_data"
    },
    {
     "name": "stdout",
     "output_type": "stream",
     "text": [
      "Всего пропущенных признаков: 34\n"
     ]
    }
   ],
   "source": [
    "full_columns = pd.Series(data_full.columns)\n",
    "test_columns = pd.Series(data_test.columns)\n",
    "missing_columns = full_columns[~full_columns.isin(test_columns)]\n",
    "\n",
    "display(missing_columns)\n",
    "print('Всего пропущенных признаков:', missing_columns.shape[0])"
   ]
  },
  {
   "cell_type": "code",
   "execution_count": 10,
   "metadata": {},
   "outputs": [
    {
     "name": "stdout",
     "output_type": "stream",
     "text": [
      "Target columns:\n",
      "5       final.output.recovery\n",
      "48    rougher.output.recovery\n",
      "dtype: object\n"
     ]
    }
   ],
   "source": [
    "missing_target = missing_columns[missing_columns.str.contains('recovery')]\n",
    "print('Target columns:')\n",
    "print(missing_target)"
   ]
  },
  {
   "cell_type": "markdown",
   "metadata": {},
   "source": [
    "**Вывод**\n",
    "\n",
    "* ag - серебро\n",
    "* pb - свинец\n",
    "* sol - коллоид\n",
    "* au - золото\n",
    "\n",
    "final.output.recovery, rougher.output.recovery - целевые признаки: коэффициенты восстановления золота из золотосодержащей руды.\n",
    "\n",
    "Столбцы calculation относятся к расчетным характеристикам.\n",
    "\n",
    "Остальные признаки относятся к содержанию в сырье или продукте концентрации веществ на разных этапах обработки.\n",
    "\n",
    "В тестовой выборке восстановим столбцы таргета. В обучающей выборке удалим остальные столбцы, которые пропущены в тестовой выборке."
   ]
  },
  {
   "cell_type": "markdown",
   "metadata": {},
   "source": [
    "### Предобработка данных"
   ]
  },
  {
   "cell_type": "markdown",
   "metadata": {},
   "source": [
    "#### Восстановление пропущенных признаков в тестовом датасете"
   ]
  },
  {
   "cell_type": "code",
   "execution_count": 11,
   "metadata": {},
   "outputs": [
    {
     "data": {
      "text/html": [
       "<div>\n",
       "<style scoped>\n",
       "    .dataframe tbody tr th:only-of-type {\n",
       "        vertical-align: middle;\n",
       "    }\n",
       "\n",
       "    .dataframe tbody tr th {\n",
       "        vertical-align: top;\n",
       "    }\n",
       "\n",
       "    .dataframe thead th {\n",
       "        text-align: right;\n",
       "    }\n",
       "</style>\n",
       "<table border=\"1\" class=\"dataframe\">\n",
       "  <thead>\n",
       "    <tr style=\"text-align: right;\">\n",
       "      <th></th>\n",
       "      <th>final.output.recovery</th>\n",
       "      <th>rougher.output.recovery</th>\n",
       "      <th>date</th>\n",
       "    </tr>\n",
       "  </thead>\n",
       "  <tbody>\n",
       "    <tr>\n",
       "      <td>0</td>\n",
       "      <td>70.541216</td>\n",
       "      <td>87.107763</td>\n",
       "      <td>2016-01-15 00:00:00</td>\n",
       "    </tr>\n",
       "    <tr>\n",
       "      <td>1</td>\n",
       "      <td>69.266198</td>\n",
       "      <td>86.843261</td>\n",
       "      <td>2016-01-15 01:00:00</td>\n",
       "    </tr>\n",
       "    <tr>\n",
       "      <td>2</td>\n",
       "      <td>68.116445</td>\n",
       "      <td>86.842308</td>\n",
       "      <td>2016-01-15 02:00:00</td>\n",
       "    </tr>\n",
       "    <tr>\n",
       "      <td>3</td>\n",
       "      <td>68.347543</td>\n",
       "      <td>87.226430</td>\n",
       "      <td>2016-01-15 03:00:00</td>\n",
       "    </tr>\n",
       "    <tr>\n",
       "      <td>4</td>\n",
       "      <td>66.927016</td>\n",
       "      <td>86.688794</td>\n",
       "      <td>2016-01-15 04:00:00</td>\n",
       "    </tr>\n",
       "  </tbody>\n",
       "</table>\n",
       "</div>"
      ],
      "text/plain": [
       "   final.output.recovery  rougher.output.recovery                 date\n",
       "0              70.541216                87.107763  2016-01-15 00:00:00\n",
       "1              69.266198                86.843261  2016-01-15 01:00:00\n",
       "2              68.116445                86.842308  2016-01-15 02:00:00\n",
       "3              68.347543                87.226430  2016-01-15 03:00:00\n",
       "4              66.927016                86.688794  2016-01-15 04:00:00"
      ]
     },
     "execution_count": 11,
     "metadata": {},
     "output_type": "execute_result"
    }
   ],
   "source": [
    "data_date_columns = data_full['date']\n",
    "data_target_columns = data_full[missing_target].join(data_date_columns)\n",
    "data_target_columns.head()"
   ]
  },
  {
   "cell_type": "code",
   "execution_count": 12,
   "metadata": {
    "scrolled": true
   },
   "outputs": [
    {
     "name": "stdout",
     "output_type": "stream",
     "text": [
      "<class 'pandas.core.frame.DataFrame'>\n",
      "Int64Index: 5290 entries, 0 to 5289\n",
      "Data columns (total 55 columns):\n",
      "date                                          5290 non-null object\n",
      "primary_cleaner.input.sulfate                 5286 non-null float64\n",
      "primary_cleaner.input.depressant              5285 non-null float64\n",
      "primary_cleaner.input.feed_size               5290 non-null float64\n",
      "primary_cleaner.input.xanthate                5286 non-null float64\n",
      "primary_cleaner.state.floatbank8_a_air        5290 non-null float64\n",
      "primary_cleaner.state.floatbank8_a_level      5290 non-null float64\n",
      "primary_cleaner.state.floatbank8_b_air        5290 non-null float64\n",
      "primary_cleaner.state.floatbank8_b_level      5290 non-null float64\n",
      "primary_cleaner.state.floatbank8_c_air        5290 non-null float64\n",
      "primary_cleaner.state.floatbank8_c_level      5290 non-null float64\n",
      "primary_cleaner.state.floatbank8_d_air        5290 non-null float64\n",
      "primary_cleaner.state.floatbank8_d_level      5290 non-null float64\n",
      "rougher.input.feed_ag                         5290 non-null float64\n",
      "rougher.input.feed_pb                         5290 non-null float64\n",
      "rougher.input.feed_rate                       5287 non-null float64\n",
      "rougher.input.feed_size                       5289 non-null float64\n",
      "rougher.input.feed_sol                        5269 non-null float64\n",
      "rougher.input.feed_au                         5290 non-null float64\n",
      "rougher.input.floatbank10_sulfate             5285 non-null float64\n",
      "rougher.input.floatbank10_xanthate            5290 non-null float64\n",
      "rougher.input.floatbank11_sulfate             5282 non-null float64\n",
      "rougher.input.floatbank11_xanthate            5265 non-null float64\n",
      "rougher.state.floatbank10_a_air               5290 non-null float64\n",
      "rougher.state.floatbank10_a_level             5290 non-null float64\n",
      "rougher.state.floatbank10_b_air               5290 non-null float64\n",
      "rougher.state.floatbank10_b_level             5290 non-null float64\n",
      "rougher.state.floatbank10_c_air               5290 non-null float64\n",
      "rougher.state.floatbank10_c_level             5290 non-null float64\n",
      "rougher.state.floatbank10_d_air               5290 non-null float64\n",
      "rougher.state.floatbank10_d_level             5290 non-null float64\n",
      "rougher.state.floatbank10_e_air               5290 non-null float64\n",
      "rougher.state.floatbank10_e_level             5290 non-null float64\n",
      "rougher.state.floatbank10_f_air               5290 non-null float64\n",
      "rougher.state.floatbank10_f_level             5290 non-null float64\n",
      "secondary_cleaner.state.floatbank2_a_air      5287 non-null float64\n",
      "secondary_cleaner.state.floatbank2_a_level    5290 non-null float64\n",
      "secondary_cleaner.state.floatbank2_b_air      5288 non-null float64\n",
      "secondary_cleaner.state.floatbank2_b_level    5290 non-null float64\n",
      "secondary_cleaner.state.floatbank3_a_air      5281 non-null float64\n",
      "secondary_cleaner.state.floatbank3_a_level    5290 non-null float64\n",
      "secondary_cleaner.state.floatbank3_b_air      5290 non-null float64\n",
      "secondary_cleaner.state.floatbank3_b_level    5290 non-null float64\n",
      "secondary_cleaner.state.floatbank4_a_air      5290 non-null float64\n",
      "secondary_cleaner.state.floatbank4_a_level    5290 non-null float64\n",
      "secondary_cleaner.state.floatbank4_b_air      5290 non-null float64\n",
      "secondary_cleaner.state.floatbank4_b_level    5290 non-null float64\n",
      "secondary_cleaner.state.floatbank5_a_air      5290 non-null float64\n",
      "secondary_cleaner.state.floatbank5_a_level    5290 non-null float64\n",
      "secondary_cleaner.state.floatbank5_b_air      5290 non-null float64\n",
      "secondary_cleaner.state.floatbank5_b_level    5290 non-null float64\n",
      "secondary_cleaner.state.floatbank6_a_air      5290 non-null float64\n",
      "secondary_cleaner.state.floatbank6_a_level    5290 non-null float64\n",
      "final.output.recovery                         5290 non-null float64\n",
      "rougher.output.recovery                       5290 non-null float64\n",
      "dtypes: float64(54), object(1)\n",
      "memory usage: 2.3+ MB\n"
     ]
    }
   ],
   "source": [
    "data_test = data_test.merge(data_target_columns, how='inner', on='date')\n",
    "data_test.info()"
   ]
  },
  {
   "cell_type": "code",
   "execution_count": 13,
   "metadata": {
    "scrolled": true
   },
   "outputs": [
    {
     "data": {
      "text/html": [
       "<div>\n",
       "<style scoped>\n",
       "    .dataframe tbody tr th:only-of-type {\n",
       "        vertical-align: middle;\n",
       "    }\n",
       "\n",
       "    .dataframe tbody tr th {\n",
       "        vertical-align: top;\n",
       "    }\n",
       "\n",
       "    .dataframe thead th {\n",
       "        text-align: right;\n",
       "    }\n",
       "</style>\n",
       "<table border=\"1\" class=\"dataframe\">\n",
       "  <thead>\n",
       "    <tr style=\"text-align: right;\">\n",
       "      <th></th>\n",
       "      <th>date</th>\n",
       "      <th>primary_cleaner.input.sulfate</th>\n",
       "      <th>primary_cleaner.input.depressant</th>\n",
       "      <th>primary_cleaner.input.feed_size</th>\n",
       "      <th>primary_cleaner.input.xanthate</th>\n",
       "      <th>primary_cleaner.state.floatbank8_a_air</th>\n",
       "      <th>primary_cleaner.state.floatbank8_a_level</th>\n",
       "      <th>primary_cleaner.state.floatbank8_b_air</th>\n",
       "      <th>primary_cleaner.state.floatbank8_b_level</th>\n",
       "      <th>primary_cleaner.state.floatbank8_c_air</th>\n",
       "      <th>...</th>\n",
       "      <th>secondary_cleaner.state.floatbank4_b_air</th>\n",
       "      <th>secondary_cleaner.state.floatbank4_b_level</th>\n",
       "      <th>secondary_cleaner.state.floatbank5_a_air</th>\n",
       "      <th>secondary_cleaner.state.floatbank5_a_level</th>\n",
       "      <th>secondary_cleaner.state.floatbank5_b_air</th>\n",
       "      <th>secondary_cleaner.state.floatbank5_b_level</th>\n",
       "      <th>secondary_cleaner.state.floatbank6_a_air</th>\n",
       "      <th>secondary_cleaner.state.floatbank6_a_level</th>\n",
       "      <th>final.output.recovery</th>\n",
       "      <th>rougher.output.recovery</th>\n",
       "    </tr>\n",
       "  </thead>\n",
       "  <tbody>\n",
       "    <tr>\n",
       "      <td>4532</td>\n",
       "      <td>2017-11-27 14:59:59</td>\n",
       "      <td>232.833580</td>\n",
       "      <td>11.530645</td>\n",
       "      <td>7.96</td>\n",
       "      <td>2.043344</td>\n",
       "      <td>1599.993240</td>\n",
       "      <td>-495.168572</td>\n",
       "      <td>1598.914766</td>\n",
       "      <td>-516.659412</td>\n",
       "      <td>1602.360556</td>\n",
       "      <td>...</td>\n",
       "      <td>15.044079</td>\n",
       "      <td>-500.324423</td>\n",
       "      <td>10.980963</td>\n",
       "      <td>-498.285638</td>\n",
       "      <td>9.036746</td>\n",
       "      <td>-490.501273</td>\n",
       "      <td>16.019041</td>\n",
       "      <td>-501.378779</td>\n",
       "      <td>74.308081</td>\n",
       "      <td>92.257348</td>\n",
       "    </tr>\n",
       "    <tr>\n",
       "      <td>3287</td>\n",
       "      <td>2017-10-03 09:59:59</td>\n",
       "      <td>170.803220</td>\n",
       "      <td>6.545194</td>\n",
       "      <td>6.63</td>\n",
       "      <td>1.808195</td>\n",
       "      <td>1537.487075</td>\n",
       "      <td>-500.132966</td>\n",
       "      <td>1598.245349</td>\n",
       "      <td>-506.293021</td>\n",
       "      <td>1600.990337</td>\n",
       "      <td>...</td>\n",
       "      <td>15.001804</td>\n",
       "      <td>-399.010669</td>\n",
       "      <td>13.024062</td>\n",
       "      <td>-496.985681</td>\n",
       "      <td>11.009755</td>\n",
       "      <td>-499.744875</td>\n",
       "      <td>15.016059</td>\n",
       "      <td>-499.743219</td>\n",
       "      <td>71.632689</td>\n",
       "      <td>85.773499</td>\n",
       "    </tr>\n",
       "    <tr>\n",
       "      <td>1498</td>\n",
       "      <td>2016-11-13 12:59:59</td>\n",
       "      <td>181.772668</td>\n",
       "      <td>8.004129</td>\n",
       "      <td>7.47</td>\n",
       "      <td>1.133334</td>\n",
       "      <td>1596.809062</td>\n",
       "      <td>-500.185627</td>\n",
       "      <td>1598.814616</td>\n",
       "      <td>-499.794152</td>\n",
       "      <td>1598.688140</td>\n",
       "      <td>...</td>\n",
       "      <td>13.911995</td>\n",
       "      <td>-498.670601</td>\n",
       "      <td>14.889177</td>\n",
       "      <td>-500.258990</td>\n",
       "      <td>14.019309</td>\n",
       "      <td>-500.032358</td>\n",
       "      <td>21.986359</td>\n",
       "      <td>-499.975341</td>\n",
       "      <td>72.972584</td>\n",
       "      <td>89.149195</td>\n",
       "    </tr>\n",
       "  </tbody>\n",
       "</table>\n",
       "<p>3 rows × 55 columns</p>\n",
       "</div>"
      ],
      "text/plain": [
       "                     date  primary_cleaner.input.sulfate  \\\n",
       "4532  2017-11-27 14:59:59                     232.833580   \n",
       "3287  2017-10-03 09:59:59                     170.803220   \n",
       "1498  2016-11-13 12:59:59                     181.772668   \n",
       "\n",
       "      primary_cleaner.input.depressant  primary_cleaner.input.feed_size  \\\n",
       "4532                         11.530645                             7.96   \n",
       "3287                          6.545194                             6.63   \n",
       "1498                          8.004129                             7.47   \n",
       "\n",
       "      primary_cleaner.input.xanthate  primary_cleaner.state.floatbank8_a_air  \\\n",
       "4532                        2.043344                             1599.993240   \n",
       "3287                        1.808195                             1537.487075   \n",
       "1498                        1.133334                             1596.809062   \n",
       "\n",
       "      primary_cleaner.state.floatbank8_a_level  \\\n",
       "4532                               -495.168572   \n",
       "3287                               -500.132966   \n",
       "1498                               -500.185627   \n",
       "\n",
       "      primary_cleaner.state.floatbank8_b_air  \\\n",
       "4532                             1598.914766   \n",
       "3287                             1598.245349   \n",
       "1498                             1598.814616   \n",
       "\n",
       "      primary_cleaner.state.floatbank8_b_level  \\\n",
       "4532                               -516.659412   \n",
       "3287                               -506.293021   \n",
       "1498                               -499.794152   \n",
       "\n",
       "      primary_cleaner.state.floatbank8_c_air  ...  \\\n",
       "4532                             1602.360556  ...   \n",
       "3287                             1600.990337  ...   \n",
       "1498                             1598.688140  ...   \n",
       "\n",
       "      secondary_cleaner.state.floatbank4_b_air  \\\n",
       "4532                                 15.044079   \n",
       "3287                                 15.001804   \n",
       "1498                                 13.911995   \n",
       "\n",
       "      secondary_cleaner.state.floatbank4_b_level  \\\n",
       "4532                                 -500.324423   \n",
       "3287                                 -399.010669   \n",
       "1498                                 -498.670601   \n",
       "\n",
       "      secondary_cleaner.state.floatbank5_a_air  \\\n",
       "4532                                 10.980963   \n",
       "3287                                 13.024062   \n",
       "1498                                 14.889177   \n",
       "\n",
       "      secondary_cleaner.state.floatbank5_a_level  \\\n",
       "4532                                 -498.285638   \n",
       "3287                                 -496.985681   \n",
       "1498                                 -500.258990   \n",
       "\n",
       "      secondary_cleaner.state.floatbank5_b_air  \\\n",
       "4532                                  9.036746   \n",
       "3287                                 11.009755   \n",
       "1498                                 14.019309   \n",
       "\n",
       "      secondary_cleaner.state.floatbank5_b_level  \\\n",
       "4532                                 -490.501273   \n",
       "3287                                 -499.744875   \n",
       "1498                                 -500.032358   \n",
       "\n",
       "      secondary_cleaner.state.floatbank6_a_air  \\\n",
       "4532                                 16.019041   \n",
       "3287                                 15.016059   \n",
       "1498                                 21.986359   \n",
       "\n",
       "      secondary_cleaner.state.floatbank6_a_level  final.output.recovery  \\\n",
       "4532                                 -501.378779              74.308081   \n",
       "3287                                 -499.743219              71.632689   \n",
       "1498                                 -499.975341              72.972584   \n",
       "\n",
       "      rougher.output.recovery  \n",
       "4532                92.257348  \n",
       "3287                85.773499  \n",
       "1498                89.149195  \n",
       "\n",
       "[3 rows x 55 columns]"
      ]
     },
     "execution_count": 13,
     "metadata": {},
     "output_type": "execute_result"
    }
   ],
   "source": [
    "data_test.sample(n=3, random_state=1)"
   ]
  },
  {
   "cell_type": "markdown",
   "metadata": {},
   "source": [
    "**Вывод**\n",
    "\n",
    "В тестовый датасет возвращены таргет признаки."
   ]
  },
  {
   "cell_type": "markdown",
   "metadata": {},
   "source": [
    "#### Удаление признаков в обучающей выборке"
   ]
  },
  {
   "cell_type": "code",
   "execution_count": 14,
   "metadata": {
    "scrolled": true
   },
   "outputs": [
    {
     "name": "stdout",
     "output_type": "stream",
     "text": [
      "1                           final.output.concentrate_ag\n",
      "2                           final.output.concentrate_pb\n",
      "3                          final.output.concentrate_sol\n",
      "4                           final.output.concentrate_au\n",
      "6                                  final.output.tail_ag\n",
      "7                                  final.output.tail_pb\n",
      "8                                 final.output.tail_sol\n",
      "9                                  final.output.tail_au\n",
      "14                primary_cleaner.output.concentrate_ag\n",
      "15                primary_cleaner.output.concentrate_pb\n",
      "16               primary_cleaner.output.concentrate_sol\n",
      "17                primary_cleaner.output.concentrate_au\n",
      "18                       primary_cleaner.output.tail_ag\n",
      "19                       primary_cleaner.output.tail_pb\n",
      "20                      primary_cleaner.output.tail_sol\n",
      "21                       primary_cleaner.output.tail_au\n",
      "30        rougher.calculation.sulfate_to_au_concentrate\n",
      "31    rougher.calculation.floatbank10_sulfate_to_au_...\n",
      "32    rougher.calculation.floatbank11_sulfate_to_au_...\n",
      "33                      rougher.calculation.au_pb_ratio\n",
      "44                        rougher.output.concentrate_ag\n",
      "45                        rougher.output.concentrate_pb\n",
      "46                       rougher.output.concentrate_sol\n",
      "47                        rougher.output.concentrate_au\n",
      "49                               rougher.output.tail_ag\n",
      "50                               rougher.output.tail_pb\n",
      "51                              rougher.output.tail_sol\n",
      "52                               rougher.output.tail_au\n",
      "65                     secondary_cleaner.output.tail_ag\n",
      "66                     secondary_cleaner.output.tail_pb\n",
      "67                    secondary_cleaner.output.tail_sol\n",
      "68                     secondary_cleaner.output.tail_au\n",
      "dtype: object\n"
     ]
    }
   ],
   "source": [
    "no_target = missing_columns[~missing_columns.str.contains('recovery')]\n",
    "print(no_target)"
   ]
  },
  {
   "cell_type": "code",
   "execution_count": 15,
   "metadata": {
    "scrolled": true
   },
   "outputs": [
    {
     "name": "stdout",
     "output_type": "stream",
     "text": [
      "<class 'pandas.core.frame.DataFrame'>\n",
      "RangeIndex: 14149 entries, 0 to 14148\n",
      "Data columns (total 55 columns):\n",
      "date                                          14149 non-null object\n",
      "final.output.recovery                         14149 non-null float64\n",
      "primary_cleaner.input.sulfate                 14129 non-null float64\n",
      "primary_cleaner.input.depressant              14117 non-null float64\n",
      "primary_cleaner.input.feed_size               14149 non-null float64\n",
      "primary_cleaner.input.xanthate                14049 non-null float64\n",
      "primary_cleaner.state.floatbank8_a_air        14145 non-null float64\n",
      "primary_cleaner.state.floatbank8_a_level      14148 non-null float64\n",
      "primary_cleaner.state.floatbank8_b_air        14145 non-null float64\n",
      "primary_cleaner.state.floatbank8_b_level      14148 non-null float64\n",
      "primary_cleaner.state.floatbank8_c_air        14147 non-null float64\n",
      "primary_cleaner.state.floatbank8_c_level      14148 non-null float64\n",
      "primary_cleaner.state.floatbank8_d_air        14146 non-null float64\n",
      "primary_cleaner.state.floatbank8_d_level      14148 non-null float64\n",
      "rougher.input.feed_ag                         14149 non-null float64\n",
      "rougher.input.feed_pb                         14049 non-null float64\n",
      "rougher.input.feed_rate                       14141 non-null float64\n",
      "rougher.input.feed_size                       14005 non-null float64\n",
      "rougher.input.feed_sol                        14071 non-null float64\n",
      "rougher.input.feed_au                         14149 non-null float64\n",
      "rougher.input.floatbank10_sulfate             14120 non-null float64\n",
      "rougher.input.floatbank10_xanthate            14141 non-null float64\n",
      "rougher.input.floatbank11_sulfate             14113 non-null float64\n",
      "rougher.input.floatbank11_xanthate            13721 non-null float64\n",
      "rougher.output.recovery                       14149 non-null float64\n",
      "rougher.state.floatbank10_a_air               14148 non-null float64\n",
      "rougher.state.floatbank10_a_level             14148 non-null float64\n",
      "rougher.state.floatbank10_b_air               14148 non-null float64\n",
      "rougher.state.floatbank10_b_level             14148 non-null float64\n",
      "rougher.state.floatbank10_c_air               14148 non-null float64\n",
      "rougher.state.floatbank10_c_level             14148 non-null float64\n",
      "rougher.state.floatbank10_d_air               14149 non-null float64\n",
      "rougher.state.floatbank10_d_level             14149 non-null float64\n",
      "rougher.state.floatbank10_e_air               13713 non-null float64\n",
      "rougher.state.floatbank10_e_level             14149 non-null float64\n",
      "rougher.state.floatbank10_f_air               14149 non-null float64\n",
      "rougher.state.floatbank10_f_level             14149 non-null float64\n",
      "secondary_cleaner.state.floatbank2_a_air      13932 non-null float64\n",
      "secondary_cleaner.state.floatbank2_a_level    14148 non-null float64\n",
      "secondary_cleaner.state.floatbank2_b_air      14128 non-null float64\n",
      "secondary_cleaner.state.floatbank2_b_level    14148 non-null float64\n",
      "secondary_cleaner.state.floatbank3_a_air      14145 non-null float64\n",
      "secondary_cleaner.state.floatbank3_a_level    14148 non-null float64\n",
      "secondary_cleaner.state.floatbank3_b_air      14148 non-null float64\n",
      "secondary_cleaner.state.floatbank3_b_level    14148 non-null float64\n",
      "secondary_cleaner.state.floatbank4_a_air      14143 non-null float64\n",
      "secondary_cleaner.state.floatbank4_a_level    14148 non-null float64\n",
      "secondary_cleaner.state.floatbank4_b_air      14148 non-null float64\n",
      "secondary_cleaner.state.floatbank4_b_level    14148 non-null float64\n",
      "secondary_cleaner.state.floatbank5_a_air      14148 non-null float64\n",
      "secondary_cleaner.state.floatbank5_a_level    14148 non-null float64\n",
      "secondary_cleaner.state.floatbank5_b_air      14148 non-null float64\n",
      "secondary_cleaner.state.floatbank5_b_level    14148 non-null float64\n",
      "secondary_cleaner.state.floatbank6_a_air      14147 non-null float64\n",
      "secondary_cleaner.state.floatbank6_a_level    14148 non-null float64\n",
      "dtypes: float64(54), object(1)\n",
      "memory usage: 5.9+ MB\n"
     ]
    }
   ],
   "source": [
    "data_train = data_train.drop(data_train[no_target].columns, axis=1)\n",
    "data_train.info()"
   ]
  },
  {
   "cell_type": "code",
   "execution_count": 16,
   "metadata": {},
   "outputs": [
    {
     "data": {
      "text/html": [
       "<div>\n",
       "<style scoped>\n",
       "    .dataframe tbody tr th:only-of-type {\n",
       "        vertical-align: middle;\n",
       "    }\n",
       "\n",
       "    .dataframe tbody tr th {\n",
       "        vertical-align: top;\n",
       "    }\n",
       "\n",
       "    .dataframe thead th {\n",
       "        text-align: right;\n",
       "    }\n",
       "</style>\n",
       "<table border=\"1\" class=\"dataframe\">\n",
       "  <thead>\n",
       "    <tr style=\"text-align: right;\">\n",
       "      <th></th>\n",
       "      <th>date</th>\n",
       "      <th>final.output.recovery</th>\n",
       "      <th>primary_cleaner.input.sulfate</th>\n",
       "      <th>primary_cleaner.input.depressant</th>\n",
       "      <th>primary_cleaner.input.feed_size</th>\n",
       "      <th>primary_cleaner.input.xanthate</th>\n",
       "      <th>primary_cleaner.state.floatbank8_a_air</th>\n",
       "      <th>primary_cleaner.state.floatbank8_a_level</th>\n",
       "      <th>primary_cleaner.state.floatbank8_b_air</th>\n",
       "      <th>primary_cleaner.state.floatbank8_b_level</th>\n",
       "      <th>...</th>\n",
       "      <th>secondary_cleaner.state.floatbank4_a_air</th>\n",
       "      <th>secondary_cleaner.state.floatbank4_a_level</th>\n",
       "      <th>secondary_cleaner.state.floatbank4_b_air</th>\n",
       "      <th>secondary_cleaner.state.floatbank4_b_level</th>\n",
       "      <th>secondary_cleaner.state.floatbank5_a_air</th>\n",
       "      <th>secondary_cleaner.state.floatbank5_a_level</th>\n",
       "      <th>secondary_cleaner.state.floatbank5_b_air</th>\n",
       "      <th>secondary_cleaner.state.floatbank5_b_level</th>\n",
       "      <th>secondary_cleaner.state.floatbank6_a_air</th>\n",
       "      <th>secondary_cleaner.state.floatbank6_a_level</th>\n",
       "    </tr>\n",
       "  </thead>\n",
       "  <tbody>\n",
       "    <tr>\n",
       "      <td>724</td>\n",
       "      <td>2016-02-17 03:00:00</td>\n",
       "      <td>62.891015</td>\n",
       "      <td>113.936941</td>\n",
       "      <td>13.005563</td>\n",
       "      <td>6.766667</td>\n",
       "      <td>1.446045</td>\n",
       "      <td>1601.510438</td>\n",
       "      <td>-499.964885</td>\n",
       "      <td>1598.265482</td>\n",
       "      <td>-498.880695</td>\n",
       "      <td>...</td>\n",
       "      <td>18.000318</td>\n",
       "      <td>-499.536191</td>\n",
       "      <td>15.943132</td>\n",
       "      <td>-509.454741</td>\n",
       "      <td>16.033418</td>\n",
       "      <td>-499.455877</td>\n",
       "      <td>11.984102</td>\n",
       "      <td>-500.328192</td>\n",
       "      <td>26.963094</td>\n",
       "      <td>-501.002955</td>\n",
       "    </tr>\n",
       "    <tr>\n",
       "      <td>3283</td>\n",
       "      <td>2016-06-26 09:59:59</td>\n",
       "      <td>66.179884</td>\n",
       "      <td>93.074707</td>\n",
       "      <td>5.024421</td>\n",
       "      <td>8.220000</td>\n",
       "      <td>1.387432</td>\n",
       "      <td>1599.813151</td>\n",
       "      <td>-500.713371</td>\n",
       "      <td>1601.354731</td>\n",
       "      <td>-499.000709</td>\n",
       "      <td>...</td>\n",
       "      <td>15.967248</td>\n",
       "      <td>-500.043142</td>\n",
       "      <td>7.890982</td>\n",
       "      <td>-499.735917</td>\n",
       "      <td>15.960116</td>\n",
       "      <td>-499.979137</td>\n",
       "      <td>6.934666</td>\n",
       "      <td>-499.843085</td>\n",
       "      <td>24.994880</td>\n",
       "      <td>-500.148907</td>\n",
       "    </tr>\n",
       "    <tr>\n",
       "      <td>4013</td>\n",
       "      <td>2016-08-01 22:59:59</td>\n",
       "      <td>50.521837</td>\n",
       "      <td>127.497189</td>\n",
       "      <td>10.670305</td>\n",
       "      <td>7.010001</td>\n",
       "      <td>0.790577</td>\n",
       "      <td>1601.129888</td>\n",
       "      <td>-499.315328</td>\n",
       "      <td>1604.590605</td>\n",
       "      <td>-499.248143</td>\n",
       "      <td>...</td>\n",
       "      <td>20.009377</td>\n",
       "      <td>-398.989701</td>\n",
       "      <td>9.974793</td>\n",
       "      <td>-399.296306</td>\n",
       "      <td>9.970410</td>\n",
       "      <td>-400.576919</td>\n",
       "      <td>4.911704</td>\n",
       "      <td>-399.519026</td>\n",
       "      <td>23.003859</td>\n",
       "      <td>-500.384530</td>\n",
       "    </tr>\n",
       "  </tbody>\n",
       "</table>\n",
       "<p>3 rows × 55 columns</p>\n",
       "</div>"
      ],
      "text/plain": [
       "                     date  final.output.recovery  \\\n",
       "724   2016-02-17 03:00:00              62.891015   \n",
       "3283  2016-06-26 09:59:59              66.179884   \n",
       "4013  2016-08-01 22:59:59              50.521837   \n",
       "\n",
       "      primary_cleaner.input.sulfate  primary_cleaner.input.depressant  \\\n",
       "724                      113.936941                         13.005563   \n",
       "3283                      93.074707                          5.024421   \n",
       "4013                     127.497189                         10.670305   \n",
       "\n",
       "      primary_cleaner.input.feed_size  primary_cleaner.input.xanthate  \\\n",
       "724                          6.766667                        1.446045   \n",
       "3283                         8.220000                        1.387432   \n",
       "4013                         7.010001                        0.790577   \n",
       "\n",
       "      primary_cleaner.state.floatbank8_a_air  \\\n",
       "724                              1601.510438   \n",
       "3283                             1599.813151   \n",
       "4013                             1601.129888   \n",
       "\n",
       "      primary_cleaner.state.floatbank8_a_level  \\\n",
       "724                                -499.964885   \n",
       "3283                               -500.713371   \n",
       "4013                               -499.315328   \n",
       "\n",
       "      primary_cleaner.state.floatbank8_b_air  \\\n",
       "724                              1598.265482   \n",
       "3283                             1601.354731   \n",
       "4013                             1604.590605   \n",
       "\n",
       "      primary_cleaner.state.floatbank8_b_level  ...  \\\n",
       "724                                -498.880695  ...   \n",
       "3283                               -499.000709  ...   \n",
       "4013                               -499.248143  ...   \n",
       "\n",
       "      secondary_cleaner.state.floatbank4_a_air  \\\n",
       "724                                  18.000318   \n",
       "3283                                 15.967248   \n",
       "4013                                 20.009377   \n",
       "\n",
       "      secondary_cleaner.state.floatbank4_a_level  \\\n",
       "724                                  -499.536191   \n",
       "3283                                 -500.043142   \n",
       "4013                                 -398.989701   \n",
       "\n",
       "      secondary_cleaner.state.floatbank4_b_air  \\\n",
       "724                                  15.943132   \n",
       "3283                                  7.890982   \n",
       "4013                                  9.974793   \n",
       "\n",
       "      secondary_cleaner.state.floatbank4_b_level  \\\n",
       "724                                  -509.454741   \n",
       "3283                                 -499.735917   \n",
       "4013                                 -399.296306   \n",
       "\n",
       "      secondary_cleaner.state.floatbank5_a_air  \\\n",
       "724                                  16.033418   \n",
       "3283                                 15.960116   \n",
       "4013                                  9.970410   \n",
       "\n",
       "      secondary_cleaner.state.floatbank5_a_level  \\\n",
       "724                                  -499.455877   \n",
       "3283                                 -499.979137   \n",
       "4013                                 -400.576919   \n",
       "\n",
       "      secondary_cleaner.state.floatbank5_b_air  \\\n",
       "724                                  11.984102   \n",
       "3283                                  6.934666   \n",
       "4013                                  4.911704   \n",
       "\n",
       "      secondary_cleaner.state.floatbank5_b_level  \\\n",
       "724                                  -500.328192   \n",
       "3283                                 -499.843085   \n",
       "4013                                 -399.519026   \n",
       "\n",
       "      secondary_cleaner.state.floatbank6_a_air  \\\n",
       "724                                  26.963094   \n",
       "3283                                 24.994880   \n",
       "4013                                 23.003859   \n",
       "\n",
       "      secondary_cleaner.state.floatbank6_a_level  \n",
       "724                                  -501.002955  \n",
       "3283                                 -500.148907  \n",
       "4013                                 -500.384530  \n",
       "\n",
       "[3 rows x 55 columns]"
      ]
     },
     "execution_count": 16,
     "metadata": {},
     "output_type": "execute_result"
    }
   ],
   "source": [
    "data_train.sample(n=3, random_state=1)"
   ]
  },
  {
   "cell_type": "markdown",
   "metadata": {},
   "source": [
    "**Вывод**\n",
    "\n",
    "В обучающем датасете удалены недоступные в тестовой выборке признаки."
   ]
  },
  {
   "cell_type": "markdown",
   "metadata": {},
   "source": [
    "#### Обработка пропусков"
   ]
  },
  {
   "cell_type": "code",
   "execution_count": 17,
   "metadata": {
    "scrolled": true
   },
   "outputs": [
    {
     "data": {
      "text/plain": [
       "date                                            0\n",
       "final.output.recovery                           0\n",
       "primary_cleaner.input.sulfate                  20\n",
       "primary_cleaner.input.depressant               32\n",
       "primary_cleaner.input.feed_size                 0\n",
       "primary_cleaner.input.xanthate                100\n",
       "primary_cleaner.state.floatbank8_a_air          4\n",
       "primary_cleaner.state.floatbank8_a_level        1\n",
       "primary_cleaner.state.floatbank8_b_air          4\n",
       "primary_cleaner.state.floatbank8_b_level        1\n",
       "primary_cleaner.state.floatbank8_c_air          2\n",
       "primary_cleaner.state.floatbank8_c_level        1\n",
       "primary_cleaner.state.floatbank8_d_air          3\n",
       "primary_cleaner.state.floatbank8_d_level        1\n",
       "rougher.input.feed_ag                           0\n",
       "rougher.input.feed_pb                         100\n",
       "rougher.input.feed_rate                         8\n",
       "rougher.input.feed_size                       144\n",
       "rougher.input.feed_sol                         78\n",
       "rougher.input.feed_au                           0\n",
       "rougher.input.floatbank10_sulfate              29\n",
       "rougher.input.floatbank10_xanthate              8\n",
       "rougher.input.floatbank11_sulfate              36\n",
       "rougher.input.floatbank11_xanthate            428\n",
       "rougher.output.recovery                         0\n",
       "rougher.state.floatbank10_a_air                 1\n",
       "rougher.state.floatbank10_a_level               1\n",
       "rougher.state.floatbank10_b_air                 1\n",
       "rougher.state.floatbank10_b_level               1\n",
       "rougher.state.floatbank10_c_air                 1\n",
       "rougher.state.floatbank10_c_level               1\n",
       "rougher.state.floatbank10_d_air                 0\n",
       "rougher.state.floatbank10_d_level               0\n",
       "rougher.state.floatbank10_e_air               436\n",
       "rougher.state.floatbank10_e_level               0\n",
       "rougher.state.floatbank10_f_air                 0\n",
       "rougher.state.floatbank10_f_level               0\n",
       "secondary_cleaner.state.floatbank2_a_air      217\n",
       "secondary_cleaner.state.floatbank2_a_level      1\n",
       "secondary_cleaner.state.floatbank2_b_air       21\n",
       "secondary_cleaner.state.floatbank2_b_level      1\n",
       "secondary_cleaner.state.floatbank3_a_air        4\n",
       "secondary_cleaner.state.floatbank3_a_level      1\n",
       "secondary_cleaner.state.floatbank3_b_air        1\n",
       "secondary_cleaner.state.floatbank3_b_level      1\n",
       "secondary_cleaner.state.floatbank4_a_air        6\n",
       "secondary_cleaner.state.floatbank4_a_level      1\n",
       "secondary_cleaner.state.floatbank4_b_air        1\n",
       "secondary_cleaner.state.floatbank4_b_level      1\n",
       "secondary_cleaner.state.floatbank5_a_air        1\n",
       "secondary_cleaner.state.floatbank5_a_level      1\n",
       "secondary_cleaner.state.floatbank5_b_air        1\n",
       "secondary_cleaner.state.floatbank5_b_level      1\n",
       "secondary_cleaner.state.floatbank6_a_air        2\n",
       "secondary_cleaner.state.floatbank6_a_level      1\n",
       "dtype: int64"
      ]
     },
     "execution_count": 17,
     "metadata": {},
     "output_type": "execute_result"
    }
   ],
   "source": [
    "data_train.isna().sum()"
   ]
  },
  {
   "cell_type": "code",
   "execution_count": 18,
   "metadata": {
    "scrolled": true
   },
   "outputs": [
    {
     "data": {
      "text/plain": [
       "date                                          0\n",
       "final.output.recovery                         0\n",
       "primary_cleaner.input.sulfate                 0\n",
       "primary_cleaner.input.depressant              0\n",
       "primary_cleaner.input.feed_size               0\n",
       "primary_cleaner.input.xanthate                0\n",
       "primary_cleaner.state.floatbank8_a_air        0\n",
       "primary_cleaner.state.floatbank8_a_level      0\n",
       "primary_cleaner.state.floatbank8_b_air        0\n",
       "primary_cleaner.state.floatbank8_b_level      0\n",
       "primary_cleaner.state.floatbank8_c_air        0\n",
       "primary_cleaner.state.floatbank8_c_level      0\n",
       "primary_cleaner.state.floatbank8_d_air        0\n",
       "primary_cleaner.state.floatbank8_d_level      0\n",
       "rougher.input.feed_ag                         0\n",
       "rougher.input.feed_pb                         0\n",
       "rougher.input.feed_rate                       0\n",
       "rougher.input.feed_size                       0\n",
       "rougher.input.feed_sol                        0\n",
       "rougher.input.feed_au                         0\n",
       "rougher.input.floatbank10_sulfate             0\n",
       "rougher.input.floatbank10_xanthate            0\n",
       "rougher.input.floatbank11_sulfate             0\n",
       "rougher.input.floatbank11_xanthate            0\n",
       "rougher.output.recovery                       0\n",
       "rougher.state.floatbank10_a_air               0\n",
       "rougher.state.floatbank10_a_level             0\n",
       "rougher.state.floatbank10_b_air               0\n",
       "rougher.state.floatbank10_b_level             0\n",
       "rougher.state.floatbank10_c_air               0\n",
       "rougher.state.floatbank10_c_level             0\n",
       "rougher.state.floatbank10_d_air               0\n",
       "rougher.state.floatbank10_d_level             0\n",
       "rougher.state.floatbank10_e_air               0\n",
       "rougher.state.floatbank10_e_level             0\n",
       "rougher.state.floatbank10_f_air               0\n",
       "rougher.state.floatbank10_f_level             0\n",
       "secondary_cleaner.state.floatbank2_a_air      0\n",
       "secondary_cleaner.state.floatbank2_a_level    0\n",
       "secondary_cleaner.state.floatbank2_b_air      0\n",
       "secondary_cleaner.state.floatbank2_b_level    0\n",
       "secondary_cleaner.state.floatbank3_a_air      0\n",
       "secondary_cleaner.state.floatbank3_a_level    0\n",
       "secondary_cleaner.state.floatbank3_b_air      0\n",
       "secondary_cleaner.state.floatbank3_b_level    0\n",
       "secondary_cleaner.state.floatbank4_a_air      0\n",
       "secondary_cleaner.state.floatbank4_a_level    0\n",
       "secondary_cleaner.state.floatbank4_b_air      0\n",
       "secondary_cleaner.state.floatbank4_b_level    0\n",
       "secondary_cleaner.state.floatbank5_a_air      0\n",
       "secondary_cleaner.state.floatbank5_a_level    0\n",
       "secondary_cleaner.state.floatbank5_b_air      0\n",
       "secondary_cleaner.state.floatbank5_b_level    0\n",
       "secondary_cleaner.state.floatbank6_a_air      0\n",
       "secondary_cleaner.state.floatbank6_a_level    0\n",
       "dtype: int64"
      ]
     },
     "execution_count": 18,
     "metadata": {},
     "output_type": "execute_result"
    }
   ],
   "source": [
    "data_train.fillna(method='ffill', inplace=True)\n",
    "data_train.isna().sum()"
   ]
  },
  {
   "cell_type": "code",
   "execution_count": 19,
   "metadata": {
    "scrolled": true
   },
   "outputs": [
    {
     "data": {
      "text/plain": [
       "date                                           0\n",
       "primary_cleaner.input.sulfate                  4\n",
       "primary_cleaner.input.depressant               5\n",
       "primary_cleaner.input.feed_size                0\n",
       "primary_cleaner.input.xanthate                 4\n",
       "primary_cleaner.state.floatbank8_a_air         0\n",
       "primary_cleaner.state.floatbank8_a_level       0\n",
       "primary_cleaner.state.floatbank8_b_air         0\n",
       "primary_cleaner.state.floatbank8_b_level       0\n",
       "primary_cleaner.state.floatbank8_c_air         0\n",
       "primary_cleaner.state.floatbank8_c_level       0\n",
       "primary_cleaner.state.floatbank8_d_air         0\n",
       "primary_cleaner.state.floatbank8_d_level       0\n",
       "rougher.input.feed_ag                          0\n",
       "rougher.input.feed_pb                          0\n",
       "rougher.input.feed_rate                        3\n",
       "rougher.input.feed_size                        1\n",
       "rougher.input.feed_sol                        21\n",
       "rougher.input.feed_au                          0\n",
       "rougher.input.floatbank10_sulfate              5\n",
       "rougher.input.floatbank10_xanthate             0\n",
       "rougher.input.floatbank11_sulfate              8\n",
       "rougher.input.floatbank11_xanthate            25\n",
       "rougher.state.floatbank10_a_air                0\n",
       "rougher.state.floatbank10_a_level              0\n",
       "rougher.state.floatbank10_b_air                0\n",
       "rougher.state.floatbank10_b_level              0\n",
       "rougher.state.floatbank10_c_air                0\n",
       "rougher.state.floatbank10_c_level              0\n",
       "rougher.state.floatbank10_d_air                0\n",
       "rougher.state.floatbank10_d_level              0\n",
       "rougher.state.floatbank10_e_air                0\n",
       "rougher.state.floatbank10_e_level              0\n",
       "rougher.state.floatbank10_f_air                0\n",
       "rougher.state.floatbank10_f_level              0\n",
       "secondary_cleaner.state.floatbank2_a_air       3\n",
       "secondary_cleaner.state.floatbank2_a_level     0\n",
       "secondary_cleaner.state.floatbank2_b_air       2\n",
       "secondary_cleaner.state.floatbank2_b_level     0\n",
       "secondary_cleaner.state.floatbank3_a_air       9\n",
       "secondary_cleaner.state.floatbank3_a_level     0\n",
       "secondary_cleaner.state.floatbank3_b_air       0\n",
       "secondary_cleaner.state.floatbank3_b_level     0\n",
       "secondary_cleaner.state.floatbank4_a_air       0\n",
       "secondary_cleaner.state.floatbank4_a_level     0\n",
       "secondary_cleaner.state.floatbank4_b_air       0\n",
       "secondary_cleaner.state.floatbank4_b_level     0\n",
       "secondary_cleaner.state.floatbank5_a_air       0\n",
       "secondary_cleaner.state.floatbank5_a_level     0\n",
       "secondary_cleaner.state.floatbank5_b_air       0\n",
       "secondary_cleaner.state.floatbank5_b_level     0\n",
       "secondary_cleaner.state.floatbank6_a_air       0\n",
       "secondary_cleaner.state.floatbank6_a_level     0\n",
       "final.output.recovery                          0\n",
       "rougher.output.recovery                        0\n",
       "dtype: int64"
      ]
     },
     "execution_count": 19,
     "metadata": {},
     "output_type": "execute_result"
    }
   ],
   "source": [
    "data_test.isna().sum()"
   ]
  },
  {
   "cell_type": "code",
   "execution_count": 20,
   "metadata": {
    "scrolled": true
   },
   "outputs": [
    {
     "data": {
      "text/plain": [
       "date                                          0\n",
       "primary_cleaner.input.sulfate                 0\n",
       "primary_cleaner.input.depressant              0\n",
       "primary_cleaner.input.feed_size               0\n",
       "primary_cleaner.input.xanthate                0\n",
       "primary_cleaner.state.floatbank8_a_air        0\n",
       "primary_cleaner.state.floatbank8_a_level      0\n",
       "primary_cleaner.state.floatbank8_b_air        0\n",
       "primary_cleaner.state.floatbank8_b_level      0\n",
       "primary_cleaner.state.floatbank8_c_air        0\n",
       "primary_cleaner.state.floatbank8_c_level      0\n",
       "primary_cleaner.state.floatbank8_d_air        0\n",
       "primary_cleaner.state.floatbank8_d_level      0\n",
       "rougher.input.feed_ag                         0\n",
       "rougher.input.feed_pb                         0\n",
       "rougher.input.feed_rate                       0\n",
       "rougher.input.feed_size                       0\n",
       "rougher.input.feed_sol                        0\n",
       "rougher.input.feed_au                         0\n",
       "rougher.input.floatbank10_sulfate             0\n",
       "rougher.input.floatbank10_xanthate            0\n",
       "rougher.input.floatbank11_sulfate             0\n",
       "rougher.input.floatbank11_xanthate            0\n",
       "rougher.state.floatbank10_a_air               0\n",
       "rougher.state.floatbank10_a_level             0\n",
       "rougher.state.floatbank10_b_air               0\n",
       "rougher.state.floatbank10_b_level             0\n",
       "rougher.state.floatbank10_c_air               0\n",
       "rougher.state.floatbank10_c_level             0\n",
       "rougher.state.floatbank10_d_air               0\n",
       "rougher.state.floatbank10_d_level             0\n",
       "rougher.state.floatbank10_e_air               0\n",
       "rougher.state.floatbank10_e_level             0\n",
       "rougher.state.floatbank10_f_air               0\n",
       "rougher.state.floatbank10_f_level             0\n",
       "secondary_cleaner.state.floatbank2_a_air      0\n",
       "secondary_cleaner.state.floatbank2_a_level    0\n",
       "secondary_cleaner.state.floatbank2_b_air      0\n",
       "secondary_cleaner.state.floatbank2_b_level    0\n",
       "secondary_cleaner.state.floatbank3_a_air      0\n",
       "secondary_cleaner.state.floatbank3_a_level    0\n",
       "secondary_cleaner.state.floatbank3_b_air      0\n",
       "secondary_cleaner.state.floatbank3_b_level    0\n",
       "secondary_cleaner.state.floatbank4_a_air      0\n",
       "secondary_cleaner.state.floatbank4_a_level    0\n",
       "secondary_cleaner.state.floatbank4_b_air      0\n",
       "secondary_cleaner.state.floatbank4_b_level    0\n",
       "secondary_cleaner.state.floatbank5_a_air      0\n",
       "secondary_cleaner.state.floatbank5_a_level    0\n",
       "secondary_cleaner.state.floatbank5_b_air      0\n",
       "secondary_cleaner.state.floatbank5_b_level    0\n",
       "secondary_cleaner.state.floatbank6_a_air      0\n",
       "secondary_cleaner.state.floatbank6_a_level    0\n",
       "final.output.recovery                         0\n",
       "rougher.output.recovery                       0\n",
       "dtype: int64"
      ]
     },
     "execution_count": 20,
     "metadata": {},
     "output_type": "execute_result"
    }
   ],
   "source": [
    "data_test.fillna(method='ffill', inplace=True)\n",
    "data_test.isna().sum()"
   ]
  },
  {
   "cell_type": "code",
   "execution_count": 21,
   "metadata": {
    "scrolled": true
   },
   "outputs": [
    {
     "data": {
      "text/plain": [
       "date                                                     0\n",
       "final.output.concentrate_ag                              1\n",
       "final.output.concentrate_pb                              1\n",
       "final.output.concentrate_sol                           211\n",
       "final.output.concentrate_au                              0\n",
       "final.output.recovery                                    0\n",
       "final.output.tail_ag                                     1\n",
       "final.output.tail_pb                                   101\n",
       "final.output.tail_sol                                    6\n",
       "final.output.tail_au                                     0\n",
       "primary_cleaner.input.sulfate                           24\n",
       "primary_cleaner.input.depressant                        37\n",
       "primary_cleaner.input.feed_size                          0\n",
       "primary_cleaner.input.xanthate                         104\n",
       "primary_cleaner.output.concentrate_ag                    0\n",
       "primary_cleaner.output.concentrate_pb                  116\n",
       "primary_cleaner.output.concentrate_sol                 370\n",
       "primary_cleaner.output.concentrate_au                    0\n",
       "primary_cleaner.output.tail_ag                           4\n",
       "primary_cleaner.output.tail_pb                          21\n",
       "primary_cleaner.output.tail_sol                         62\n",
       "primary_cleaner.output.tail_au                           0\n",
       "primary_cleaner.state.floatbank8_a_air                   4\n",
       "primary_cleaner.state.floatbank8_a_level                 1\n",
       "primary_cleaner.state.floatbank8_b_air                   4\n",
       "primary_cleaner.state.floatbank8_b_level                 1\n",
       "primary_cleaner.state.floatbank8_c_air                   2\n",
       "primary_cleaner.state.floatbank8_c_level                 1\n",
       "primary_cleaner.state.floatbank8_d_air                   3\n",
       "primary_cleaner.state.floatbank8_d_level                 1\n",
       "rougher.calculation.sulfate_to_au_concentrate            2\n",
       "rougher.calculation.floatbank10_sulfate_to_au_feed       2\n",
       "rougher.calculation.floatbank11_sulfate_to_au_feed       2\n",
       "rougher.calculation.au_pb_ratio                          0\n",
       "rougher.input.feed_ag                                    0\n",
       "rougher.input.feed_pb                                  100\n",
       "rougher.input.feed_rate                                 11\n",
       "rougher.input.feed_size                                145\n",
       "rougher.input.feed_sol                                  99\n",
       "rougher.input.feed_au                                    0\n",
       "rougher.input.floatbank10_sulfate                       34\n",
       "rougher.input.floatbank10_xanthate                       8\n",
       "rougher.input.floatbank11_sulfate                       44\n",
       "rougher.input.floatbank11_xanthate                     453\n",
       "rougher.output.concentrate_ag                            0\n",
       "rougher.output.concentrate_pb                            0\n",
       "rougher.output.concentrate_sol                          23\n",
       "rougher.output.concentrate_au                            0\n",
       "rougher.output.recovery                                  0\n",
       "rougher.output.tail_ag                                   1\n",
       "rougher.output.tail_pb                                   0\n",
       "rougher.output.tail_sol                                  0\n",
       "rougher.output.tail_au                                   0\n",
       "rougher.state.floatbank10_a_air                          1\n",
       "rougher.state.floatbank10_a_level                        1\n",
       "rougher.state.floatbank10_b_air                          1\n",
       "rougher.state.floatbank10_b_level                        1\n",
       "rougher.state.floatbank10_c_air                          1\n",
       "rougher.state.floatbank10_c_level                        1\n",
       "rougher.state.floatbank10_d_air                          0\n",
       "rougher.state.floatbank10_d_level                        0\n",
       "rougher.state.floatbank10_e_air                        436\n",
       "rougher.state.floatbank10_e_level                        0\n",
       "rougher.state.floatbank10_f_air                          0\n",
       "rougher.state.floatbank10_f_level                        0\n",
       "secondary_cleaner.output.tail_ag                         2\n",
       "secondary_cleaner.output.tail_pb                        12\n",
       "secondary_cleaner.output.tail_sol                     1748\n",
       "secondary_cleaner.output.tail_au                         0\n",
       "secondary_cleaner.state.floatbank2_a_air               220\n",
       "secondary_cleaner.state.floatbank2_a_level               1\n",
       "secondary_cleaner.state.floatbank2_b_air                23\n",
       "secondary_cleaner.state.floatbank2_b_level               1\n",
       "secondary_cleaner.state.floatbank3_a_air                13\n",
       "secondary_cleaner.state.floatbank3_a_level               1\n",
       "secondary_cleaner.state.floatbank3_b_air                 1\n",
       "secondary_cleaner.state.floatbank3_b_level               1\n",
       "secondary_cleaner.state.floatbank4_a_air                 6\n",
       "secondary_cleaner.state.floatbank4_a_level               1\n",
       "secondary_cleaner.state.floatbank4_b_air                 1\n",
       "secondary_cleaner.state.floatbank4_b_level               1\n",
       "secondary_cleaner.state.floatbank5_a_air                 1\n",
       "secondary_cleaner.state.floatbank5_a_level               1\n",
       "secondary_cleaner.state.floatbank5_b_air                 1\n",
       "secondary_cleaner.state.floatbank5_b_level               1\n",
       "secondary_cleaner.state.floatbank6_a_air                 2\n",
       "secondary_cleaner.state.floatbank6_a_level               1\n",
       "dtype: int64"
      ]
     },
     "execution_count": 21,
     "metadata": {},
     "output_type": "execute_result"
    }
   ],
   "source": [
    "data_full.isna().sum()"
   ]
  },
  {
   "cell_type": "code",
   "execution_count": 22,
   "metadata": {
    "scrolled": true
   },
   "outputs": [
    {
     "data": {
      "text/plain": [
       "date                                                  0\n",
       "final.output.concentrate_ag                           0\n",
       "final.output.concentrate_pb                           0\n",
       "final.output.concentrate_sol                          0\n",
       "final.output.concentrate_au                           0\n",
       "final.output.recovery                                 0\n",
       "final.output.tail_ag                                  0\n",
       "final.output.tail_pb                                  0\n",
       "final.output.tail_sol                                 0\n",
       "final.output.tail_au                                  0\n",
       "primary_cleaner.input.sulfate                         0\n",
       "primary_cleaner.input.depressant                      0\n",
       "primary_cleaner.input.feed_size                       0\n",
       "primary_cleaner.input.xanthate                        0\n",
       "primary_cleaner.output.concentrate_ag                 0\n",
       "primary_cleaner.output.concentrate_pb                 0\n",
       "primary_cleaner.output.concentrate_sol                0\n",
       "primary_cleaner.output.concentrate_au                 0\n",
       "primary_cleaner.output.tail_ag                        0\n",
       "primary_cleaner.output.tail_pb                        0\n",
       "primary_cleaner.output.tail_sol                       0\n",
       "primary_cleaner.output.tail_au                        0\n",
       "primary_cleaner.state.floatbank8_a_air                0\n",
       "primary_cleaner.state.floatbank8_a_level              0\n",
       "primary_cleaner.state.floatbank8_b_air                0\n",
       "primary_cleaner.state.floatbank8_b_level              0\n",
       "primary_cleaner.state.floatbank8_c_air                0\n",
       "primary_cleaner.state.floatbank8_c_level              0\n",
       "primary_cleaner.state.floatbank8_d_air                0\n",
       "primary_cleaner.state.floatbank8_d_level              0\n",
       "rougher.calculation.sulfate_to_au_concentrate         0\n",
       "rougher.calculation.floatbank10_sulfate_to_au_feed    0\n",
       "rougher.calculation.floatbank11_sulfate_to_au_feed    0\n",
       "rougher.calculation.au_pb_ratio                       0\n",
       "rougher.input.feed_ag                                 0\n",
       "rougher.input.feed_pb                                 0\n",
       "rougher.input.feed_rate                               0\n",
       "rougher.input.feed_size                               0\n",
       "rougher.input.feed_sol                                0\n",
       "rougher.input.feed_au                                 0\n",
       "rougher.input.floatbank10_sulfate                     0\n",
       "rougher.input.floatbank10_xanthate                    0\n",
       "rougher.input.floatbank11_sulfate                     0\n",
       "rougher.input.floatbank11_xanthate                    0\n",
       "rougher.output.concentrate_ag                         0\n",
       "rougher.output.concentrate_pb                         0\n",
       "rougher.output.concentrate_sol                        0\n",
       "rougher.output.concentrate_au                         0\n",
       "rougher.output.recovery                               0\n",
       "rougher.output.tail_ag                                0\n",
       "rougher.output.tail_pb                                0\n",
       "rougher.output.tail_sol                               0\n",
       "rougher.output.tail_au                                0\n",
       "rougher.state.floatbank10_a_air                       0\n",
       "rougher.state.floatbank10_a_level                     0\n",
       "rougher.state.floatbank10_b_air                       0\n",
       "rougher.state.floatbank10_b_level                     0\n",
       "rougher.state.floatbank10_c_air                       0\n",
       "rougher.state.floatbank10_c_level                     0\n",
       "rougher.state.floatbank10_d_air                       0\n",
       "rougher.state.floatbank10_d_level                     0\n",
       "rougher.state.floatbank10_e_air                       0\n",
       "rougher.state.floatbank10_e_level                     0\n",
       "rougher.state.floatbank10_f_air                       0\n",
       "rougher.state.floatbank10_f_level                     0\n",
       "secondary_cleaner.output.tail_ag                      0\n",
       "secondary_cleaner.output.tail_pb                      0\n",
       "secondary_cleaner.output.tail_sol                     0\n",
       "secondary_cleaner.output.tail_au                      0\n",
       "secondary_cleaner.state.floatbank2_a_air              0\n",
       "secondary_cleaner.state.floatbank2_a_level            0\n",
       "secondary_cleaner.state.floatbank2_b_air              0\n",
       "secondary_cleaner.state.floatbank2_b_level            0\n",
       "secondary_cleaner.state.floatbank3_a_air              0\n",
       "secondary_cleaner.state.floatbank3_a_level            0\n",
       "secondary_cleaner.state.floatbank3_b_air              0\n",
       "secondary_cleaner.state.floatbank3_b_level            0\n",
       "secondary_cleaner.state.floatbank4_a_air              0\n",
       "secondary_cleaner.state.floatbank4_a_level            0\n",
       "secondary_cleaner.state.floatbank4_b_air              0\n",
       "secondary_cleaner.state.floatbank4_b_level            0\n",
       "secondary_cleaner.state.floatbank5_a_air              0\n",
       "secondary_cleaner.state.floatbank5_a_level            0\n",
       "secondary_cleaner.state.floatbank5_b_air              0\n",
       "secondary_cleaner.state.floatbank5_b_level            0\n",
       "secondary_cleaner.state.floatbank6_a_air              0\n",
       "secondary_cleaner.state.floatbank6_a_level            0\n",
       "dtype: int64"
      ]
     },
     "execution_count": 22,
     "metadata": {},
     "output_type": "execute_result"
    }
   ],
   "source": [
    "data_full.fillna(method='ffill', inplace=True)\n",
    "data_full.isna().sum()"
   ]
  },
  {
   "cell_type": "markdown",
   "metadata": {},
   "source": [
    "**Вывод**\n",
    "\n",
    "Данные индексируются датой и временем получения информации. Соседние по времени параметры часто похожи. Это значит, что мы можем заполнить пропуски соседними значениями."
   ]
  },
  {
   "cell_type": "markdown",
   "metadata": {},
   "source": [
    "#### Проверка дубликатов"
   ]
  },
  {
   "cell_type": "code",
   "execution_count": 23,
   "metadata": {},
   "outputs": [
    {
     "name": "stdout",
     "output_type": "stream",
     "text": [
      "Количество пропусков в обучающем датасете: 0\n",
      "Количество пропусков в тестовом датасете: 0\n",
      "Количество пропусков в полном датасете: 0\n"
     ]
    }
   ],
   "source": [
    "print('Количество пропусков в обучающем датасете:', data_train.duplicated().sum())\n",
    "print('Количество пропусков в тестовом датасете:', data_test.duplicated().sum())\n",
    "print('Количество пропусков в полном датасете:', data_full.duplicated().sum())"
   ]
  },
  {
   "cell_type": "markdown",
   "metadata": {},
   "source": [
    "**Вывод**\n",
    "\n",
    "Дубликатов не найдено."
   ]
  },
  {
   "cell_type": "markdown",
   "metadata": {},
   "source": [
    "## Анализ данных"
   ]
  },
  {
   "cell_type": "markdown",
   "metadata": {},
   "source": [
    "### Концентрация металлов на различных этапах"
   ]
  },
  {
   "cell_type": "markdown",
   "metadata": {},
   "source": [
    "Есть 4 этапа:\n",
    "\n",
    "* rougher — флотация\n",
    "* primary_cleaner — первичная очистка\n",
    "* secondary_cleaner — вторичная очистка\n",
    "* final — финальные характеристики"
   ]
  },
  {
   "cell_type": "code",
   "execution_count": 24,
   "metadata": {},
   "outputs": [],
   "source": [
    "def concentration_metal(rougher, primary_cleaner, secondary_cleaner, final):\n",
    "    rougher_mean = rougher.mean()\n",
    "    primary_cleaner_mean = primary_cleaner.mean()\n",
    "    secondary_cleaner_mean = secondary_cleaner.mean()\n",
    "    final_mean = final.mean()\n",
    "    \n",
    "    fig, ax = plt.subplots(figsize=(10,5))\n",
    "    x = np.array([0,1,2,3])\n",
    "    y = np.array([rougher_mean, primary_cleaner_mean, secondary_cleaner_mean, final_mean])\n",
    "    plt.plot(x, y)\n",
    "    my_xticks = ['rougher','primary_cleaner','secondary_cleaner','final']\n",
    "    plt.xticks(x, my_xticks)\n",
    "    plt.xlabel('Этапы')\n",
    "    plt.ylabel('Количество')\n",
    "    plt.grid()\n",
    "    plt.show()\n",
    "    \n",
    "    print('Концентрация в исходном сырье:', rougher_mean)\n",
    "    print('Концентрация после флотации:', primary_cleaner_mean)\n",
    "    print('Концентрация после первичной обработки:', secondary_cleaner_mean)\n",
    "    print('Концентрация после вторичной обработки:', final_mean)"
   ]
  },
  {
   "cell_type": "markdown",
   "metadata": {},
   "source": [
    "**Концентрация свинца**"
   ]
  },
  {
   "cell_type": "code",
   "execution_count": 25,
   "metadata": {},
   "outputs": [
    {
     "data": {
      "image/png": "[encoded data removed]",
      "text/plain": [
       "<Figure size 720x360 with 1 Axes>"
      ]
     },
     "metadata": {
      "needs_background": "light"
     },
     "output_type": "display_data"
    },
    {
     "name": "stdout",
     "output_type": "stream",
     "text": [
      "Концентрация в исходном сырье: 3.585095711585748\n",
      "Концентрация после флотации: 7.606272313195004\n",
      "Концентрация после первичной обработки: 9.810316539310149\n",
      "Концентрация после вторичной обработки: 9.978821384192907\n"
     ]
    }
   ],
   "source": [
    "concentration_metal(data_full['rougher.input.feed_pb'],\n",
    "                    data_full['rougher.output.concentrate_pb'],\n",
    "                    data_full['primary_cleaner.output.concentrate_pb'],\n",
    "                    data_full['final.output.concentrate_pb'])"
   ]
  },
  {
   "cell_type": "markdown",
   "metadata": {},
   "source": [
    "**Концентрация серебра**"
   ]
  },
  {
   "cell_type": "code",
   "execution_count": 26,
   "metadata": {},
   "outputs": [
    {
     "data": {
      "image/png": "[encoded data removed]",
      "text/plain": [
       "<Figure size 720x360 with 1 Axes>"
      ]
     },
     "metadata": {
      "needs_background": "light"
     },
     "output_type": "display_data"
    },
    {
     "name": "stdout",
     "output_type": "stream",
     "text": [
      "Концентрация в исходном сырье: 8.794927425814688\n",
      "Концентрация после флотации: 11.994759359873429\n",
      "Концентрация после первичной обработки: 8.44240807771906\n",
      "Концентрация после вторичной обработки: 5.168386967510243\n"
     ]
    }
   ],
   "source": [
    "concentration_metal(data_full['rougher.input.feed_ag'],\n",
    "                    data_full['rougher.output.concentrate_ag'],\n",
    "                    data_full['primary_cleaner.output.concentrate_ag'],\n",
    "                    data_full['final.output.concentrate_ag'])"
   ]
  },
  {
   "cell_type": "markdown",
   "metadata": {},
   "source": [
    "**Концентрация золота**"
   ]
  },
  {
   "cell_type": "code",
   "execution_count": 27,
   "metadata": {},
   "outputs": [
    {
     "data": {
      "image/png": "[encoded data removed]",
      "text/plain": [
       "<Figure size 720x360 with 1 Axes>"
      ]
     },
     "metadata": {
      "needs_background": "light"
     },
     "output_type": "display_data"
    },
    {
     "name": "stdout",
     "output_type": "stream",
     "text": [
      "Концентрация в исходном сырье: 8.266097326589103\n",
      "Концентрация после флотации: 19.772000139486313\n",
      "Концентрация после первичной обработки: 32.1194004078765\n",
      "Концентрация после вторичной обработки: 44.0765129419528\n"
     ]
    }
   ],
   "source": [
    "concentration_metal(data_full['rougher.input.feed_au'],\n",
    "                    data_full['rougher.output.concentrate_au'],\n",
    "                    data_full['primary_cleaner.output.concentrate_au'],\n",
    "                    data_full['final.output.concentrate_au'])"
   ]
  },
  {
   "cell_type": "markdown",
   "metadata": {},
   "source": [
    "**Вывод**\n",
    "\n",
    "Концентрация свинца и золота на каждом этапе увеличивается.  \n",
    "Концентрация серебра увеличивается только после этапа флотации, на этапах обработки концентрация уменьшается."
   ]
  },
  {
   "cell_type": "markdown",
   "metadata": {},
   "source": [
    "### Сравнение распределения размеров гранул сырья на обучающей и тестовой выборках"
   ]
  },
  {
   "cell_type": "code",
   "execution_count": 28,
   "metadata": {},
   "outputs": [
    {
     "data": {
      "text/html": [
       "<div>\n",
       "<style scoped>\n",
       "    .dataframe tbody tr th:only-of-type {\n",
       "        vertical-align: middle;\n",
       "    }\n",
       "\n",
       "    .dataframe tbody tr th {\n",
       "        vertical-align: top;\n",
       "    }\n",
       "\n",
       "    .dataframe thead th {\n",
       "        text-align: right;\n",
       "    }\n",
       "</style>\n",
       "<table border=\"1\" class=\"dataframe\">\n",
       "  <thead>\n",
       "    <tr style=\"text-align: right;\">\n",
       "      <th></th>\n",
       "      <th>data_train</th>\n",
       "      <th>data_test</th>\n",
       "    </tr>\n",
       "  </thead>\n",
       "  <tbody>\n",
       "    <tr>\n",
       "      <td>count</td>\n",
       "      <td>14149.000000</td>\n",
       "      <td>5290.000000</td>\n",
       "    </tr>\n",
       "    <tr>\n",
       "      <td>mean</td>\n",
       "      <td>60.239856</td>\n",
       "      <td>55.952754</td>\n",
       "    </tr>\n",
       "    <tr>\n",
       "      <td>std</td>\n",
       "      <td>23.005310</td>\n",
       "      <td>19.080334</td>\n",
       "    </tr>\n",
       "    <tr>\n",
       "      <td>min</td>\n",
       "      <td>9.659576</td>\n",
       "      <td>0.046369</td>\n",
       "    </tr>\n",
       "    <tr>\n",
       "      <td>25%</td>\n",
       "      <td>48.966751</td>\n",
       "      <td>43.906504</td>\n",
       "    </tr>\n",
       "    <tr>\n",
       "      <td>50%</td>\n",
       "      <td>55.269784</td>\n",
       "      <td>50.846843</td>\n",
       "    </tr>\n",
       "    <tr>\n",
       "      <td>75%</td>\n",
       "      <td>66.007526</td>\n",
       "      <td>62.451165</td>\n",
       "    </tr>\n",
       "    <tr>\n",
       "      <td>max</td>\n",
       "      <td>484.967466</td>\n",
       "      <td>392.494040</td>\n",
       "    </tr>\n",
       "  </tbody>\n",
       "</table>\n",
       "</div>"
      ],
      "text/plain": [
       "         data_train    data_test\n",
       "count  14149.000000  5290.000000\n",
       "mean      60.239856    55.952754\n",
       "std       23.005310    19.080334\n",
       "min        9.659576     0.046369\n",
       "25%       48.966751    43.906504\n",
       "50%       55.269784    50.846843\n",
       "75%       66.007526    62.451165\n",
       "max      484.967466   392.494040"
      ]
     },
     "execution_count": 28,
     "metadata": {},
     "output_type": "execute_result"
    }
   ],
   "source": [
    "d_tr = data_train['rougher.input.feed_size'].describe()\n",
    "d_tt = data_test['rougher.input.feed_size'].describe()\n",
    "desc_table = pd.concat([d_tr, d_tt], keys=['data_train', 'data_test'], axis=1)\n",
    "desc_table"
   ]
  },
  {
   "cell_type": "code",
   "execution_count": 29,
   "metadata": {},
   "outputs": [
    {
     "data": {
      "text/plain": [
       "<function matplotlib.pyplot.show(*args, **kw)>"
      ]
     },
     "execution_count": 29,
     "metadata": {},
     "output_type": "execute_result"
    },
    {
     "data": {
      "image/png": "[encoded data removed]",
      "text/plain": [
       "<Figure size 1080x504 with 1 Axes>"
      ]
     },
     "metadata": {
      "needs_background": "light"
     },
     "output_type": "display_data"
    }
   ],
   "source": [
    "plt.figure(figsize=(15,7))\n",
    "plt.hist(data_train['rougher.input.feed_size'], bins=50, alpha=.5, range=(0, 150), label='data_train')\n",
    "plt.hist(data_test['rougher.input.feed_size'], bins=50, alpha=.5, range=(0, 150), label='data_test')\n",
    "plt.title('Распределение размеров гранул сырья')\n",
    "plt.legend()\n",
    "plt.show"
   ]
  },
  {
   "cell_type": "markdown",
   "metadata": {},
   "source": [
    "**Вывод**\n",
    "\n",
    "Распределение размеров в тестовой выборке немного ниже, чем в обучающей.  \n",
    "В целом распределение в выборках одинаковое."
   ]
  },
  {
   "cell_type": "markdown",
   "metadata": {},
   "source": [
    "### Суммарная концентрация всех веществ на разных стадиях обработки"
   ]
  },
  {
   "cell_type": "code",
   "execution_count": 31,
   "metadata": {},
   "outputs": [],
   "source": [
    "def metal_sum(row):\n",
    "    rougher_input_sum = []\n",
    "    rougher_output_sum = []\n",
    "    primary_cleaner_output_sum = []\n",
    "    final_output_sum = []\n",
    "    rougher_input_sum = row['rougher.input.feed_ag'] + row['rougher.input.feed_pb'\n",
    "                        ] + row['rougher.input.feed_sol'] + row['rougher.input.feed_au']\n",
    "    rougher_output_sum = row['rougher.output.concentrate_ag'] + row['rougher.output.concentrate_pb'\n",
    "                        ] + row['rougher.output.concentrate_sol'] + row['rougher.output.concentrate_au']\n",
    "    primary_cleaner_output_sum = row['primary_cleaner.output.concentrate_ag'] + row['primary_cleaner.output.concentrate_pb'\n",
    "                        ] + row['primary_cleaner.output.concentrate_sol'] + row['primary_cleaner.output.concentrate_au']\n",
    "    final_output_sum = row['final.output.concentrate_ag'] + row['final.output.concentrate_pb'\n",
    "                        ] + row['final.output.concentrate_sol'] + row['final.output.concentrate_au']\n",
    "    \n",
    "    rougher_input_sum.append(rougher_input_sum)\n",
    "    rougher_output_sum.append(rougher_output_sum)\n",
    "    primary_cleaner_output_sum.append(primary_cleaner_output_sum)\n",
    "    final_output_sum.append(final_output_sum)\n",
    "    return pd.concat([rougher_input_sum, rougher_output_sum, primary_cleaner_output_sum, final_output_sum\n",
    "                     ], keys=['rougher_input_sum', 'rougher_output_sum', 'primary_cleaner_output_sum', 'final_output_sum'\n",
    "                                ], axis=1)"
   ]
  },
  {
   "cell_type": "code",
   "execution_count": 32,
   "metadata": {},
   "outputs": [
    {
     "data": {
      "text/html": [
       "<div>\n",
       "<style scoped>\n",
       "    .dataframe tbody tr th:only-of-type {\n",
       "        vertical-align: middle;\n",
       "    }\n",
       "\n",
       "    .dataframe tbody tr th {\n",
       "        vertical-align: top;\n",
       "    }\n",
       "\n",
       "    .dataframe thead th {\n",
       "        text-align: right;\n",
       "    }\n",
       "</style>\n",
       "<table border=\"1\" class=\"dataframe\">\n",
       "  <thead>\n",
       "    <tr style=\"text-align: right;\">\n",
       "      <th></th>\n",
       "      <th>rougher_input_sum</th>\n",
       "      <th>rougher_output_sum</th>\n",
       "      <th>primary_cleaner_output_sum</th>\n",
       "      <th>final_output_sum</th>\n",
       "    </tr>\n",
       "  </thead>\n",
       "  <tbody>\n",
       "    <tr>\n",
       "      <td>0</td>\n",
       "      <td>51.680034</td>\n",
       "      <td>66.424950</td>\n",
       "      <td>72.640924</td>\n",
       "      <td>63.644396</td>\n",
       "    </tr>\n",
       "    <tr>\n",
       "      <td>1</td>\n",
       "      <td>50.659114</td>\n",
       "      <td>67.012710</td>\n",
       "      <td>72.543485</td>\n",
       "      <td>63.957723</td>\n",
       "    </tr>\n",
       "    <tr>\n",
       "      <td>2</td>\n",
       "      <td>50.609929</td>\n",
       "      <td>66.103793</td>\n",
       "      <td>72.095042</td>\n",
       "      <td>64.311180</td>\n",
       "    </tr>\n",
       "    <tr>\n",
       "      <td>3</td>\n",
       "      <td>51.061546</td>\n",
       "      <td>65.752751</td>\n",
       "      <td>59.957723</td>\n",
       "      <td>63.573449</td>\n",
       "    </tr>\n",
       "    <tr>\n",
       "      <td>4</td>\n",
       "      <td>47.859163</td>\n",
       "      <td>65.908382</td>\n",
       "      <td>71.321010</td>\n",
       "      <td>64.004667</td>\n",
       "    </tr>\n",
       "  </tbody>\n",
       "</table>\n",
       "</div>"
      ],
      "text/plain": [
       "   rougher_input_sum  rougher_output_sum  primary_cleaner_output_sum  \\\n",
       "0          51.680034           66.424950                   72.640924   \n",
       "1          50.659114           67.012710                   72.543485   \n",
       "2          50.609929           66.103793                   72.095042   \n",
       "3          51.061546           65.752751                   59.957723   \n",
       "4          47.859163           65.908382                   71.321010   \n",
       "\n",
       "   final_output_sum  \n",
       "0         63.644396  \n",
       "1         63.957723  \n",
       "2         64.311180  \n",
       "3         63.573449  \n",
       "4         64.004667  "
      ]
     },
     "execution_count": 32,
     "metadata": {},
     "output_type": "execute_result"
    }
   ],
   "source": [
    "all_metal_sum = metal_sum(data_full)\n",
    "all_metal_sum.head()"
   ]
  },
  {
   "cell_type": "code",
   "execution_count": 33,
   "metadata": {},
   "outputs": [
    {
     "data": {
      "text/plain": [
       "<function matplotlib.pyplot.show(*args, **kw)>"
      ]
     },
     "execution_count": 33,
     "metadata": {},
     "output_type": "execute_result"
    },
    {
     "data": {
      "image/png": "[encoded data removed]",
      "text/plain": [
       "<Figure size 1080x504 with 1 Axes>"
      ]
     },
     "metadata": {
      "needs_background": "light"
     },
     "output_type": "display_data"
    }
   ],
   "source": [
    "plt.figure(figsize=(15,7))\n",
    "all_metal_sum.boxplot(column=['rougher_input_sum', 'rougher_output_sum', 'primary_cleaner_output_sum', 'final_output_sum'])\n",
    "plt.show"
   ]
  },
  {
   "cell_type": "code",
   "execution_count": 34,
   "metadata": {},
   "outputs": [
    {
     "data": {
      "text/html": [
       "<div>\n",
       "<style scoped>\n",
       "    .dataframe tbody tr th:only-of-type {\n",
       "        vertical-align: middle;\n",
       "    }\n",
       "\n",
       "    .dataframe tbody tr th {\n",
       "        vertical-align: top;\n",
       "    }\n",
       "\n",
       "    .dataframe thead th {\n",
       "        text-align: right;\n",
       "    }\n",
       "</style>\n",
       "<table border=\"1\" class=\"dataframe\">\n",
       "  <thead>\n",
       "    <tr style=\"text-align: right;\">\n",
       "      <th></th>\n",
       "      <th>rougher_input_sum</th>\n",
       "      <th>rougher_output_sum</th>\n",
       "      <th>primary_cleaner_output_sum</th>\n",
       "      <th>final_output_sum</th>\n",
       "    </tr>\n",
       "  </thead>\n",
       "  <tbody>\n",
       "    <tr>\n",
       "      <td>count</td>\n",
       "      <td>19439.000000</td>\n",
       "      <td>19439.000000</td>\n",
       "      <td>19439.000000</td>\n",
       "      <td>19439.000000</td>\n",
       "    </tr>\n",
       "    <tr>\n",
       "      <td>mean</td>\n",
       "      <td>57.320789</td>\n",
       "      <td>68.170865</td>\n",
       "      <td>60.764731</td>\n",
       "      <td>68.653624</td>\n",
       "    </tr>\n",
       "    <tr>\n",
       "      <td>std</td>\n",
       "      <td>7.212680</td>\n",
       "      <td>12.491279</td>\n",
       "      <td>10.017271</td>\n",
       "      <td>7.427536</td>\n",
       "    </tr>\n",
       "    <tr>\n",
       "      <td>min</td>\n",
       "      <td>0.040000</td>\n",
       "      <td>0.000000</td>\n",
       "      <td>0.000000</td>\n",
       "      <td>0.000000</td>\n",
       "    </tr>\n",
       "    <tr>\n",
       "      <td>25%</td>\n",
       "      <td>53.557679</td>\n",
       "      <td>66.012495</td>\n",
       "      <td>58.929364</td>\n",
       "      <td>67.932362</td>\n",
       "    </tr>\n",
       "    <tr>\n",
       "      <td>50%</td>\n",
       "      <td>57.594391</td>\n",
       "      <td>70.181495</td>\n",
       "      <td>62.497674</td>\n",
       "      <td>69.598444</td>\n",
       "    </tr>\n",
       "    <tr>\n",
       "      <td>75%</td>\n",
       "      <td>61.953459</td>\n",
       "      <td>74.356904</td>\n",
       "      <td>65.667336</td>\n",
       "      <td>71.368472</td>\n",
       "    </tr>\n",
       "    <tr>\n",
       "      <td>max</td>\n",
       "      <td>76.978947</td>\n",
       "      <td>88.140119</td>\n",
       "      <td>80.749343</td>\n",
       "      <td>80.210644</td>\n",
       "    </tr>\n",
       "  </tbody>\n",
       "</table>\n",
       "</div>"
      ],
      "text/plain": [
       "       rougher_input_sum  rougher_output_sum  primary_cleaner_output_sum  \\\n",
       "count       19439.000000        19439.000000                19439.000000   \n",
       "mean           57.320789           68.170865                   60.764731   \n",
       "std             7.212680           12.491279                   10.017271   \n",
       "min             0.040000            0.000000                    0.000000   \n",
       "25%            53.557679           66.012495                   58.929364   \n",
       "50%            57.594391           70.181495                   62.497674   \n",
       "75%            61.953459           74.356904                   65.667336   \n",
       "max            76.978947           88.140119                   80.749343   \n",
       "\n",
       "       final_output_sum  \n",
       "count      19439.000000  \n",
       "mean          68.653624  \n",
       "std            7.427536  \n",
       "min            0.000000  \n",
       "25%           67.932362  \n",
       "50%           69.598444  \n",
       "75%           71.368472  \n",
       "max           80.210644  "
      ]
     },
     "execution_count": 34,
     "metadata": {},
     "output_type": "execute_result"
    }
   ],
   "source": [
    "all_metal_sum.describe()"
   ]
  },
  {
   "cell_type": "code",
   "execution_count": 35,
   "metadata": {},
   "outputs": [
    {
     "data": {
      "text/plain": [
       "<function matplotlib.pyplot.show(*args, **kw)>"
      ]
     },
     "execution_count": 35,
     "metadata": {},
     "output_type": "execute_result"
    },
    {
     "data": {
      "image/png": "[encoded data removed]",
      "text/plain": [
       "<Figure size 1080x504 with 4 Axes>"
      ]
     },
     "metadata": {
      "needs_background": "light"
     },
     "output_type": "display_data"
    }
   ],
   "source": [
    "fig, axs = plt.subplots(2, 2, figsize=(15,7))\n",
    "fig.suptitle('Суммарная концентрация всех веществ')\n",
    "axs[0, 0].hist(all_metal_sum['rougher_input_sum'], bins=50, label='rougher_input_sum')\n",
    "axs[0, 0].set_title('Концентрация в исходном сырье')\n",
    "axs[0, 1].hist(all_metal_sum['rougher_output_sum'], bins=50, label='rougher_output_sum')\n",
    "axs[0, 1].set_title('Концентрация после флотации')\n",
    "axs[1, 0].hist(all_metal_sum['primary_cleaner_output_sum'], bins=50, label='primary_cleaner_output_sum')\n",
    "axs[1, 0].set_title('Концентрация в черновом сырье')\n",
    "axs[1, 1].hist(all_metal_sum['final_output_sum'], bins=50, label='final_output_sum')\n",
    "axs[1, 1].set_title('Концентрация в финальном сырье')\n",
    "plt.show"
   ]
  },
  {
   "cell_type": "code",
   "execution_count": 36,
   "metadata": {},
   "outputs": [
    {
     "data": {
      "text/html": [
       "<div>\n",
       "<style scoped>\n",
       "    .dataframe tbody tr th:only-of-type {\n",
       "        vertical-align: middle;\n",
       "    }\n",
       "\n",
       "    .dataframe tbody tr th {\n",
       "        vertical-align: top;\n",
       "    }\n",
       "\n",
       "    .dataframe thead th {\n",
       "        text-align: right;\n",
       "    }\n",
       "</style>\n",
       "<table border=\"1\" class=\"dataframe\">\n",
       "  <thead>\n",
       "    <tr style=\"text-align: right;\">\n",
       "      <th></th>\n",
       "      <th>date</th>\n",
       "      <th>final.output.concentrate_ag</th>\n",
       "      <th>final.output.concentrate_pb</th>\n",
       "      <th>final.output.concentrate_sol</th>\n",
       "      <th>final.output.concentrate_au</th>\n",
       "      <th>final.output.recovery</th>\n",
       "      <th>final.output.tail_ag</th>\n",
       "      <th>final.output.tail_pb</th>\n",
       "      <th>final.output.tail_sol</th>\n",
       "      <th>final.output.tail_au</th>\n",
       "      <th>...</th>\n",
       "      <th>secondary_cleaner.state.floatbank5_a_air</th>\n",
       "      <th>secondary_cleaner.state.floatbank5_a_level</th>\n",
       "      <th>secondary_cleaner.state.floatbank5_b_air</th>\n",
       "      <th>secondary_cleaner.state.floatbank5_b_level</th>\n",
       "      <th>secondary_cleaner.state.floatbank6_a_air</th>\n",
       "      <th>secondary_cleaner.state.floatbank6_a_level</th>\n",
       "      <th>rougher_input_sum</th>\n",
       "      <th>rougher_output_sum</th>\n",
       "      <th>primary_cleaner_output_sum</th>\n",
       "      <th>final_output_sum</th>\n",
       "    </tr>\n",
       "  </thead>\n",
       "  <tbody>\n",
       "    <tr>\n",
       "      <td>0</td>\n",
       "      <td>2016-01-15 00:00:00</td>\n",
       "      <td>6.055403</td>\n",
       "      <td>9.889648</td>\n",
       "      <td>5.507324</td>\n",
       "      <td>42.192020</td>\n",
       "      <td>70.541216</td>\n",
       "      <td>10.411962</td>\n",
       "      <td>0.895447</td>\n",
       "      <td>16.904297</td>\n",
       "      <td>2.143149</td>\n",
       "      <td>...</td>\n",
       "      <td>9.925633</td>\n",
       "      <td>-498.310211</td>\n",
       "      <td>8.079666</td>\n",
       "      <td>-500.470978</td>\n",
       "      <td>14.151341</td>\n",
       "      <td>-605.841980</td>\n",
       "      <td>51.680034</td>\n",
       "      <td>66.424950</td>\n",
       "      <td>72.640924</td>\n",
       "      <td>63.644396</td>\n",
       "    </tr>\n",
       "    <tr>\n",
       "      <td>1</td>\n",
       "      <td>2016-01-15 01:00:00</td>\n",
       "      <td>6.029369</td>\n",
       "      <td>9.968944</td>\n",
       "      <td>5.257781</td>\n",
       "      <td>42.701629</td>\n",
       "      <td>69.266198</td>\n",
       "      <td>10.462676</td>\n",
       "      <td>0.927452</td>\n",
       "      <td>16.634514</td>\n",
       "      <td>2.224930</td>\n",
       "      <td>...</td>\n",
       "      <td>10.039245</td>\n",
       "      <td>-500.169983</td>\n",
       "      <td>7.984757</td>\n",
       "      <td>-500.582168</td>\n",
       "      <td>13.998353</td>\n",
       "      <td>-599.787184</td>\n",
       "      <td>50.659114</td>\n",
       "      <td>67.012710</td>\n",
       "      <td>72.543485</td>\n",
       "      <td>63.957723</td>\n",
       "    </tr>\n",
       "    <tr>\n",
       "      <td>2</td>\n",
       "      <td>2016-01-15 02:00:00</td>\n",
       "      <td>6.055926</td>\n",
       "      <td>10.213995</td>\n",
       "      <td>5.383759</td>\n",
       "      <td>42.657501</td>\n",
       "      <td>68.116445</td>\n",
       "      <td>10.507046</td>\n",
       "      <td>0.953716</td>\n",
       "      <td>16.208849</td>\n",
       "      <td>2.257889</td>\n",
       "      <td>...</td>\n",
       "      <td>10.070913</td>\n",
       "      <td>-500.129135</td>\n",
       "      <td>8.013877</td>\n",
       "      <td>-500.517572</td>\n",
       "      <td>14.028663</td>\n",
       "      <td>-601.427363</td>\n",
       "      <td>50.609929</td>\n",
       "      <td>66.103793</td>\n",
       "      <td>72.095042</td>\n",
       "      <td>64.311180</td>\n",
       "    </tr>\n",
       "    <tr>\n",
       "      <td>3</td>\n",
       "      <td>2016-01-15 03:00:00</td>\n",
       "      <td>6.047977</td>\n",
       "      <td>9.977019</td>\n",
       "      <td>4.858634</td>\n",
       "      <td>42.689819</td>\n",
       "      <td>68.347543</td>\n",
       "      <td>10.422762</td>\n",
       "      <td>0.883763</td>\n",
       "      <td>16.532835</td>\n",
       "      <td>2.146849</td>\n",
       "      <td>...</td>\n",
       "      <td>9.970366</td>\n",
       "      <td>-499.201640</td>\n",
       "      <td>7.977324</td>\n",
       "      <td>-500.255908</td>\n",
       "      <td>14.005551</td>\n",
       "      <td>-599.996129</td>\n",
       "      <td>51.061546</td>\n",
       "      <td>65.752751</td>\n",
       "      <td>59.957723</td>\n",
       "      <td>63.573449</td>\n",
       "    </tr>\n",
       "    <tr>\n",
       "      <td>4</td>\n",
       "      <td>2016-01-15 04:00:00</td>\n",
       "      <td>6.148599</td>\n",
       "      <td>10.142511</td>\n",
       "      <td>4.939416</td>\n",
       "      <td>42.774141</td>\n",
       "      <td>66.927016</td>\n",
       "      <td>10.360302</td>\n",
       "      <td>0.792826</td>\n",
       "      <td>16.525686</td>\n",
       "      <td>2.055292</td>\n",
       "      <td>...</td>\n",
       "      <td>9.925709</td>\n",
       "      <td>-501.686727</td>\n",
       "      <td>7.894242</td>\n",
       "      <td>-500.356035</td>\n",
       "      <td>13.996647</td>\n",
       "      <td>-601.496691</td>\n",
       "      <td>47.859163</td>\n",
       "      <td>65.908382</td>\n",
       "      <td>71.321010</td>\n",
       "      <td>64.004667</td>\n",
       "    </tr>\n",
       "  </tbody>\n",
       "</table>\n",
       "<p>5 rows × 91 columns</p>\n",
       "</div>"
      ],
      "text/plain": [
       "                  date  final.output.concentrate_ag  \\\n",
       "0  2016-01-15 00:00:00                     6.055403   \n",
       "1  2016-01-15 01:00:00                     6.029369   \n",
       "2  2016-01-15 02:00:00                     6.055926   \n",
       "3  2016-01-15 03:00:00                     6.047977   \n",
       "4  2016-01-15 04:00:00                     6.148599   \n",
       "\n",
       "   final.output.concentrate_pb  final.output.concentrate_sol  \\\n",
       "0                     9.889648                      5.507324   \n",
       "1                     9.968944                      5.257781   \n",
       "2                    10.213995                      5.383759   \n",
       "3                     9.977019                      4.858634   \n",
       "4                    10.142511                      4.939416   \n",
       "\n",
       "   final.output.concentrate_au  final.output.recovery  final.output.tail_ag  \\\n",
       "0                    42.192020              70.541216             10.411962   \n",
       "1                    42.701629              69.266198             10.462676   \n",
       "2                    42.657501              68.116445             10.507046   \n",
       "3                    42.689819              68.347543             10.422762   \n",
       "4                    42.774141              66.927016             10.360302   \n",
       "\n",
       "   final.output.tail_pb  final.output.tail_sol  final.output.tail_au  ...  \\\n",
       "0              0.895447              16.904297              2.143149  ...   \n",
       "1              0.927452              16.634514              2.224930  ...   \n",
       "2              0.953716              16.208849              2.257889  ...   \n",
       "3              0.883763              16.532835              2.146849  ...   \n",
       "4              0.792826              16.525686              2.055292  ...   \n",
       "\n",
       "   secondary_cleaner.state.floatbank5_a_air  \\\n",
       "0                                  9.925633   \n",
       "1                                 10.039245   \n",
       "2                                 10.070913   \n",
       "3                                  9.970366   \n",
       "4                                  9.925709   \n",
       "\n",
       "   secondary_cleaner.state.floatbank5_a_level  \\\n",
       "0                                 -498.310211   \n",
       "1                                 -500.169983   \n",
       "2                                 -500.129135   \n",
       "3                                 -499.201640   \n",
       "4                                 -501.686727   \n",
       "\n",
       "   secondary_cleaner.state.floatbank5_b_air  \\\n",
       "0                                  8.079666   \n",
       "1                                  7.984757   \n",
       "2                                  8.013877   \n",
       "3                                  7.977324   \n",
       "4                                  7.894242   \n",
       "\n",
       "   secondary_cleaner.state.floatbank5_b_level  \\\n",
       "0                                 -500.470978   \n",
       "1                                 -500.582168   \n",
       "2                                 -500.517572   \n",
       "3                                 -500.255908   \n",
       "4                                 -500.356035   \n",
       "\n",
       "   secondary_cleaner.state.floatbank6_a_air  \\\n",
       "0                                 14.151341   \n",
       "1                                 13.998353   \n",
       "2                                 14.028663   \n",
       "3                                 14.005551   \n",
       "4                                 13.996647   \n",
       "\n",
       "   secondary_cleaner.state.floatbank6_a_level  rougher_input_sum  \\\n",
       "0                                 -605.841980          51.680034   \n",
       "1                                 -599.787184          50.659114   \n",
       "2                                 -601.427363          50.609929   \n",
       "3                                 -599.996129          51.061546   \n",
       "4                                 -601.496691          47.859163   \n",
       "\n",
       "   rougher_output_sum  primary_cleaner_output_sum  final_output_sum  \n",
       "0           66.424950                   72.640924         63.644396  \n",
       "1           67.012710                   72.543485         63.957723  \n",
       "2           66.103793                   72.095042         64.311180  \n",
       "3           65.752751                   59.957723         63.573449  \n",
       "4           65.908382                   71.321010         64.004667  \n",
       "\n",
       "[5 rows x 91 columns]"
      ]
     },
     "execution_count": 36,
     "metadata": {},
     "output_type": "execute_result"
    }
   ],
   "source": [
    "data_full = pd.concat([data_full, all_metal_sum], axis=1)\n",
    "data_full.head()"
   ]
  },
  {
   "cell_type": "code",
   "execution_count": 37,
   "metadata": {},
   "outputs": [
    {
     "name": "stdout",
     "output_type": "stream",
     "text": [
      "Итоговое полной наблюдений обучащющей выборки 18848\n"
     ]
    }
   ],
   "source": [
    "index_clean = data_full[(data_full['rougher_input_sum'] > 0) &\n",
    "                        (data_full['rougher_output_sum'] > 0) &\n",
    "                        (data_full['primary_cleaner_output_sum'] > 0) &\n",
    "                        (data_full['final_output_sum'] > 0)].index\n",
    "\n",
    "print('Итоговое полной наблюдений обучащющей выборки', index_clean.shape[0])"
   ]
  },
  {
   "cell_type": "code",
   "execution_count": 38,
   "metadata": {},
   "outputs": [
    {
     "name": "stdout",
     "output_type": "stream",
     "text": [
      "Итоговое количество наблюдений обучащющей выборки 13727\n"
     ]
    }
   ],
   "source": [
    "data_train = data_train.query('index in @index_clean')\n",
    "print('Итоговое количество наблюдений обучащющей выборки', data_train.shape[0])"
   ]
  },
  {
   "cell_type": "code",
   "execution_count": 39,
   "metadata": {},
   "outputs": [
    {
     "name": "stdout",
     "output_type": "stream",
     "text": [
      "Итоговое количество наблюдений тестовой выборки 5157\n"
     ]
    }
   ],
   "source": [
    "data_test = data_test.query('index in @index_clean')\n",
    "print('Итоговое количество наблюдений тестовой выборки', data_test.shape[0])"
   ]
  },
  {
   "cell_type": "markdown",
   "metadata": {},
   "source": [
    "**Вывод**\n",
    "\n",
    "Присутствуют выбросы суммарного количества металлов в нуле на этапах обработки. Основное распределение находится от 40 до 80. Возможно есть неисправные датчики.  \n",
    "Строки, в которых присутствуют суммарные нулевые значения удалены."
   ]
  },
  {
   "cell_type": "markdown",
   "metadata": {},
   "source": [
    "## Модель"
   ]
  },
  {
   "cell_type": "markdown",
   "metadata": {},
   "source": [
    "### Функция вычисления sMAPE"
   ]
  },
  {
   "cell_type": "code",
   "execution_count": 40,
   "metadata": {},
   "outputs": [],
   "source": [
    "def smape(y_true, y_pred):\n",
    "    metric = 1/len(y_true) * np.sum(np.abs(y_true - y_pred) / ((np.abs(y_true) + np.abs(y_pred)) / 2)) * 100\n",
    "    return metric"
   ]
  },
  {
   "cell_type": "code",
   "execution_count": 41,
   "metadata": {},
   "outputs": [],
   "source": [
    "smape_scorer = make_scorer(smape, greater_is_better=False)"
   ]
  },
  {
   "cell_type": "code",
   "execution_count": 42,
   "metadata": {},
   "outputs": [],
   "source": [
    "def final_smape(rougher, final):\n",
    "    final_metric = (0.25 * rougher) + (0.75 * final)\n",
    "    print(final_metric)\n",
    "    return final_metric"
   ]
  },
  {
   "cell_type": "markdown",
   "metadata": {},
   "source": [
    "**Вывод**\n",
    "\n",
    "Созданы функция sMAPE и итоговое sMAPE."
   ]
  },
  {
   "cell_type": "markdown",
   "metadata": {},
   "source": [
    "### Подбор модели"
   ]
  },
  {
   "cell_type": "code",
   "execution_count": 43,
   "metadata": {},
   "outputs": [],
   "source": [
    "def split_data(data, target):\n",
    "    y = target\n",
    "    X = data.drop(['final.output.recovery', 'rougher.output.recovery', 'date'], axis=1)    \n",
    "    X_train, X_valid, y_train, y_valid = train_test_split(X, y, test_size=0.25, random_state=12345)\n",
    "    return X_train, X_valid, y_train, y_valid"
   ]
  },
  {
   "cell_type": "code",
   "execution_count": 44,
   "metadata": {},
   "outputs": [],
   "source": [
    "X_train_final, X_valid_final, y_train_final, y_valid_final = split_data(\n",
    "    data_train, data_train['final.output.recovery'])"
   ]
  },
  {
   "cell_type": "code",
   "execution_count": 45,
   "metadata": {},
   "outputs": [],
   "source": [
    "X_train_rougher, X_valid_rougher, y_train_rougher, y_valid_rougher = split_data(\n",
    "    data_train, data_train['rougher.output.recovery'])"
   ]
  },
  {
   "cell_type": "code",
   "execution_count": 46,
   "metadata": {},
   "outputs": [],
   "source": [
    "model_LR = LinearRegression()\n",
    "model_RF = RandomForestRegressor()"
   ]
  },
  {
   "cell_type": "markdown",
   "metadata": {},
   "source": [
    "**LinearRegression**"
   ]
  },
  {
   "cell_type": "code",
   "execution_count": 47,
   "metadata": {},
   "outputs": [],
   "source": [
    "parametrs_LR = { 'fit_intercept':[True,False],\n",
    "                 'normalize':[True,False],\n",
    "                 'copy_X':[True, False] }"
   ]
  },
  {
   "cell_type": "code",
   "execution_count": 48,
   "metadata": {},
   "outputs": [],
   "source": [
    "grid_LR_final = GridSearchCV(model_LR, parametrs_LR, cv=5, scoring=smape_scorer)\n",
    "grid_LR_rougher = GridSearchCV(model_LR, parametrs_LR, cv=5, scoring=smape_scorer)"
   ]
  },
  {
   "cell_type": "code",
   "execution_count": 49,
   "metadata": {},
   "outputs": [
    {
     "data": {
      "text/plain": [
       "LinearRegression(copy_X=True, fit_intercept=True, n_jobs=None, normalize=True)"
      ]
     },
     "execution_count": 49,
     "metadata": {},
     "output_type": "execute_result"
    }
   ],
   "source": [
    "grid_LR_final.fit(X_train_final, y_train_final)\n",
    "grid_LR_final.best_estimator_"
   ]
  },
  {
   "cell_type": "code",
   "execution_count": 50,
   "metadata": {
    "scrolled": true
   },
   "outputs": [
    {
     "data": {
      "text/plain": [
       "LinearRegression(copy_X=True, fit_intercept=True, n_jobs=None, normalize=True)"
      ]
     },
     "execution_count": 50,
     "metadata": {},
     "output_type": "execute_result"
    }
   ],
   "source": [
    "grid_LR_rougher.fit(X_train_final, y_train_final)\n",
    "grid_LR_rougher.best_estimator_"
   ]
  },
  {
   "cell_type": "code",
   "execution_count": 51,
   "metadata": {},
   "outputs": [
    {
     "name": "stdout",
     "output_type": "stream",
     "text": [
      "sMAPE final.output.recovery:\n",
      "8.816106130404572\n"
     ]
    }
   ],
   "source": [
    "grid_LR_final.fit(X_train_final, y_train_final)\n",
    "predicted_valid = grid_LR_final.predict(X_valid_final)\n",
    "smape_final_LR = smape(y_valid_final, predicted_valid)\n",
    "print('sMAPE final.output.recovery:')\n",
    "print(smape_final_LR)"
   ]
  },
  {
   "cell_type": "code",
   "execution_count": 52,
   "metadata": {},
   "outputs": [
    {
     "name": "stdout",
     "output_type": "stream",
     "text": [
      "sMAPE final.rougher.recovery:\n",
      "9.781375352202792\n"
     ]
    }
   ],
   "source": [
    "grid_LR_rougher.fit(X_train_rougher, y_train_rougher)\n",
    "predicted_valid = grid_LR_rougher.predict(X_valid_rougher)\n",
    "smape_rougher_LR = smape(y_valid_rougher, predicted_valid)\n",
    "print('sMAPE final.rougher.recovery:')\n",
    "print(smape_rougher_LR)"
   ]
  },
  {
   "cell_type": "code",
   "execution_count": 53,
   "metadata": {
    "scrolled": true
   },
   "outputs": [
    {
     "name": "stdout",
     "output_type": "stream",
     "text": [
      "Final sMAPE LinearRegression:\n",
      "9.540058046753236\n"
     ]
    }
   ],
   "source": [
    "print('Final sMAPE LinearRegression:')\n",
    "final_smape_LR = final_smape(smape_final_LR, smape_rougher_LR)"
   ]
  },
  {
   "cell_type": "markdown",
   "metadata": {},
   "source": [
    "**RandomForestRegressor**"
   ]
  },
  {
   "cell_type": "code",
   "execution_count": 54,
   "metadata": {},
   "outputs": [],
   "source": [
    "parametrs_RF = { 'n_estimators': range(10, 21, 2),\n",
    "                 'max_depth': range(1,11, 2) }"
   ]
  },
  {
   "cell_type": "code",
   "execution_count": 55,
   "metadata": {},
   "outputs": [],
   "source": [
    "grid_RF_final = GridSearchCV(model_RF, parametrs_RF, cv=5, scoring=smape_scorer)\n",
    "grid_RF_rougher = GridSearchCV(model_RF, parametrs_RF, cv=5, scoring=smape_scorer)"
   ]
  },
  {
   "cell_type": "code",
   "execution_count": 56,
   "metadata": {},
   "outputs": [
    {
     "data": {
      "text/plain": [
       "RandomForestRegressor(bootstrap=True, criterion='mse', max_depth=9,\n",
       "                      max_features='auto', max_leaf_nodes=None,\n",
       "                      min_impurity_decrease=0.0, min_impurity_split=None,\n",
       "                      min_samples_leaf=1, min_samples_split=2,\n",
       "                      min_weight_fraction_leaf=0.0, n_estimators=18,\n",
       "                      n_jobs=None, oob_score=False, random_state=None,\n",
       "                      verbose=0, warm_start=False)"
      ]
     },
     "execution_count": 56,
     "metadata": {},
     "output_type": "execute_result"
    }
   ],
   "source": [
    "grid_RF_final.fit(X_train_final, y_train_final)\n",
    "grid_RF_final.best_estimator_"
   ]
  },
  {
   "cell_type": "code",
   "execution_count": 57,
   "metadata": {},
   "outputs": [
    {
     "data": {
      "text/plain": [
       "RandomForestRegressor(bootstrap=True, criterion='mse', max_depth=9,\n",
       "                      max_features='auto', max_leaf_nodes=None,\n",
       "                      min_impurity_decrease=0.0, min_impurity_split=None,\n",
       "                      min_samples_leaf=1, min_samples_split=2,\n",
       "                      min_weight_fraction_leaf=0.0, n_estimators=20,\n",
       "                      n_jobs=None, oob_score=False, random_state=None,\n",
       "                      verbose=0, warm_start=False)"
      ]
     },
     "execution_count": 57,
     "metadata": {},
     "output_type": "execute_result"
    }
   ],
   "source": [
    "grid_RF_rougher.fit(X_train_final, y_train_final)\n",
    "grid_RF_rougher.best_estimator_"
   ]
  },
  {
   "cell_type": "code",
   "execution_count": 58,
   "metadata": {},
   "outputs": [
    {
     "name": "stdout",
     "output_type": "stream",
     "text": [
      "sMAPE final.output.recovery:\n",
      "7.459185056187188\n"
     ]
    }
   ],
   "source": [
    "grid_RF_final.fit(X_train_final, y_train_final)\n",
    "predicted_valid = grid_RF_final.predict(X_valid_final)\n",
    "smape_final_RF = smape(y_valid_final, predicted_valid)\n",
    "print('sMAPE final.output.recovery:')\n",
    "print(smape_final_RF)"
   ]
  },
  {
   "cell_type": "code",
   "execution_count": 59,
   "metadata": {},
   "outputs": [
    {
     "name": "stdout",
     "output_type": "stream",
     "text": [
      "sMAPE final.rougher.recovery:\n",
      "7.693317938388796\n"
     ]
    }
   ],
   "source": [
    "grid_RF_rougher.fit(X_train_rougher, y_train_rougher)\n",
    "predicted_valid = grid_RF_rougher.predict(X_valid_rougher)\n",
    "smape_rougher_RF = smape(y_valid_rougher, predicted_valid)\n",
    "print('sMAPE final.rougher.recovery:')\n",
    "print(smape_rougher_RF)"
   ]
  },
  {
   "cell_type": "code",
   "execution_count": 60,
   "metadata": {},
   "outputs": [
    {
     "name": "stdout",
     "output_type": "stream",
     "text": [
      "Final sMAPE RandomForestRegressor:\n",
      "7.634784717838395\n"
     ]
    }
   ],
   "source": [
    "print('Final sMAPE RandomForestRegressor:')\n",
    "final_smape_RF = final_smape(smape_final_RF, smape_rougher_RF)"
   ]
  },
  {
   "cell_type": "markdown",
   "metadata": {},
   "source": [
    "**Вывод**\n",
    "\n"
   ]
  },
  {
   "cell_type": "markdown",
   "metadata": {},
   "source": [
    "### Тестирование лучшей модели"
   ]
  },
  {
   "cell_type": "code",
   "execution_count": 61,
   "metadata": {},
   "outputs": [],
   "source": [
    "y_test_final = data_test['final.output.recovery']\n",
    "y_test_rougher = data_test['rougher.output.recovery']\n",
    "X_test = data_test.drop(['final.output.recovery', 'rougher.output.recovery', 'date'], axis=1)    "
   ]
  },
  {
   "cell_type": "markdown",
   "metadata": {},
   "source": [
    "**RandomForestRegressor**"
   ]
  },
  {
   "cell_type": "code",
   "execution_count": 62,
   "metadata": {
    "scrolled": true
   },
   "outputs": [
    {
     "name": "stdout",
     "output_type": "stream",
     "text": [
      "sMAPE final.output.recovery test:\n",
      "9.947361393527162\n"
     ]
    }
   ],
   "source": [
    "predicted_test = grid_RF_final.predict(X_test)\n",
    "smape_final_RF_test = smape(y_test_final, predicted_test)\n",
    "print('sMAPE final.output.recovery test:')\n",
    "print(smape_final_RF_test)"
   ]
  },
  {
   "cell_type": "code",
   "execution_count": 63,
   "metadata": {},
   "outputs": [
    {
     "name": "stdout",
     "output_type": "stream",
     "text": [
      "sMAPE rougher.output.recovery test:\n",
      "10.591831901164644\n"
     ]
    }
   ],
   "source": [
    "predicted_test = grid_RF_rougher.predict(X_test)\n",
    "smape_rougher_RF_test = smape(y_test_rougher, predicted_test)\n",
    "print('sMAPE rougher.output.recovery test:')\n",
    "print(smape_rougher_RF_test)"
   ]
  },
  {
   "cell_type": "code",
   "execution_count": 64,
   "metadata": {},
   "outputs": [
    {
     "name": "stdout",
     "output_type": "stream",
     "text": [
      "Final sMAPE test:\n",
      "10.430714274255273\n"
     ]
    }
   ],
   "source": [
    "print('Final sMAPE test:')\n",
    "final_smape_RF_test = final_smape(smape_final_RF_test, smape_rougher_RF_test)"
   ]
  },
  {
   "cell_type": "markdown",
   "metadata": {},
   "source": [
    "**Baseline model**"
   ]
  },
  {
   "cell_type": "code",
   "execution_count": 65,
   "metadata": {},
   "outputs": [],
   "source": [
    "dummy_regr_final = DummyRegressor(strategy=\"mean\")\n",
    "dummy_regr_rougher = DummyRegressor(strategy=\"mean\")"
   ]
  },
  {
   "cell_type": "code",
   "execution_count": 66,
   "metadata": {},
   "outputs": [
    {
     "data": {
      "text/plain": [
       "DummyRegressor(constant=None, quantile=None, strategy='mean')"
      ]
     },
     "execution_count": 66,
     "metadata": {},
     "output_type": "execute_result"
    }
   ],
   "source": [
    "dummy_regr_final.fit(X_train_final, y_train_final)\n",
    "dummy_regr_rougher.fit(X_train_rougher, y_train_rougher)"
   ]
  },
  {
   "cell_type": "code",
   "execution_count": 67,
   "metadata": {},
   "outputs": [
    {
     "name": "stdout",
     "output_type": "stream",
     "text": [
      "sMAPE final.output.recovery:\n",
      "10.22357336913371\n"
     ]
    }
   ],
   "source": [
    "predicted_dummy = dummy_regr_final.predict(X_test)\n",
    "smape_final_dummy = smape(y_test_final, predicted_dummy)\n",
    "print('sMAPE final.output.recovery:')\n",
    "print(smape_final_dummy)"
   ]
  },
  {
   "cell_type": "code",
   "execution_count": 68,
   "metadata": {},
   "outputs": [
    {
     "name": "stdout",
     "output_type": "stream",
     "text": [
      "sMAPE rougher.output.recovery:\n",
      "10.281913164290588\n"
     ]
    }
   ],
   "source": [
    "predicted_dummy = dummy_regr_rougher.predict(X_test)\n",
    "smape_rougher_dummy = smape(y_test_rougher, predicted_dummy)\n",
    "print('sMAPE rougher.output.recovery:')\n",
    "print(smape_rougher_dummy)"
   ]
  },
  {
   "cell_type": "code",
   "execution_count": 69,
   "metadata": {},
   "outputs": [
    {
     "name": "stdout",
     "output_type": "stream",
     "text": [
      "Final sMAPE dummy:\n",
      "10.267328215501369\n"
     ]
    }
   ],
   "source": [
    "print('Final sMAPE dummy:')\n",
    "final_smape_RF = final_smape(smape_final_dummy, smape_rougher_dummy)"
   ]
  },
  {
   "cell_type": "markdown",
   "metadata": {},
   "source": [
    "## Общий вывод"
   ]
  },
  {
   "cell_type": "markdown",
   "metadata": {},
   "source": [
    "Лучшая модель **RandomForestRegressor**:"
   ]
  },
  {
   "cell_type": "code",
   "execution_count": 70,
   "metadata": {},
   "outputs": [
    {
     "data": {
      "text/html": [
       "<div>\n",
       "<style scoped>\n",
       "    .dataframe tbody tr th:only-of-type {\n",
       "        vertical-align: middle;\n",
       "    }\n",
       "\n",
       "    .dataframe tbody tr th {\n",
       "        vertical-align: top;\n",
       "    }\n",
       "\n",
       "    .dataframe thead th {\n",
       "        text-align: right;\n",
       "    }\n",
       "</style>\n",
       "<table border=\"1\" class=\"dataframe\">\n",
       "  <thead>\n",
       "    <tr style=\"text-align: right;\">\n",
       "      <th></th>\n",
       "      <th>target</th>\n",
       "      <th>train data</th>\n",
       "      <th>test data</th>\n",
       "    </tr>\n",
       "  </thead>\n",
       "  <tbody>\n",
       "    <tr>\n",
       "      <td>0</td>\n",
       "      <td>final target</td>\n",
       "      <td>7.459185</td>\n",
       "      <td>9.947361</td>\n",
       "    </tr>\n",
       "    <tr>\n",
       "      <td>1</td>\n",
       "      <td>rougher target</td>\n",
       "      <td>7.693318</td>\n",
       "      <td>10.591832</td>\n",
       "    </tr>\n",
       "    <tr>\n",
       "      <td>2</td>\n",
       "      <td>final sMAPE</td>\n",
       "      <td>10.267328</td>\n",
       "      <td>10.430714</td>\n",
       "    </tr>\n",
       "  </tbody>\n",
       "</table>\n",
       "</div>"
      ],
      "text/plain": [
       "           target  train data  test data\n",
       "0    final target    7.459185   9.947361\n",
       "1  rougher target    7.693318  10.591832\n",
       "2     final sMAPE   10.267328  10.430714"
      ]
     },
     "execution_count": 70,
     "metadata": {},
     "output_type": "execute_result"
    }
   ],
   "source": [
    "overall = pd.DataFrame({\n",
    "    'target': ['final target', 'rougher target', 'final sMAPE'], \n",
    "    'train data': [smape_final_RF, smape_rougher_RF, final_smape_RF], \n",
    "    'test data': [smape_final_RF_test, smape_rougher_RF_test, final_smape_RF_test],\n",
    "})\n",
    "overall"
   ]
  },
  {
   "cell_type": "markdown",
   "metadata": {},
   "source": [
    "Возможно присутствуют неисправные датчики, так как замечены невозможные нулевые значения концентрации всех веществ на этапах обработки."
   ]
  }
 ],
 "metadata": {
  "ExecuteTimeLog": [
   {
    "duration": 827,
    "start_time": "2021-07-26T09:18:29.241Z"
   },
   {
    "duration": 359,
    "start_time": "2021-07-26T09:22:22.187Z"
   },
   {
    "duration": 850,
    "start_time": "2021-07-26T09:22:24.612Z"
   },
   {
    "duration": 265,
    "start_time": "2021-07-26T09:22:25.931Z"
   },
   {
    "duration": 39,
    "start_time": "2021-07-26T09:22:35.552Z"
   },
   {
    "duration": 33,
    "start_time": "2021-07-26T09:22:41.494Z"
   },
   {
    "duration": 32,
    "start_time": "2021-07-26T09:23:13.493Z"
   },
   {
    "duration": 79,
    "start_time": "2021-07-26T09:23:33.463Z"
   },
   {
    "duration": 30,
    "start_time": "2021-07-26T09:24:03.635Z"
   },
   {
    "duration": 34,
    "start_time": "2021-07-26T09:24:14.949Z"
   },
   {
    "duration": 29,
    "start_time": "2021-07-26T09:24:35.678Z"
   },
   {
    "duration": 47,
    "start_time": "2021-07-26T09:25:45.695Z"
   },
   {
    "duration": 40,
    "start_time": "2021-07-26T09:26:37.628Z"
   },
   {
    "duration": 53,
    "start_time": "2021-07-26T09:26:52.053Z"
   },
   {
    "duration": 4,
    "start_time": "2021-07-26T10:54:51.494Z"
   },
   {
    "duration": 15,
    "start_time": "2021-07-26T10:55:13.844Z"
   },
   {
    "duration": 8,
    "start_time": "2021-07-26T10:56:16.389Z"
   },
   {
    "duration": 667,
    "start_time": "2021-07-26T10:58:31.718Z"
   },
   {
    "duration": 8,
    "start_time": "2021-07-26T10:59:51.714Z"
   },
   {
    "duration": 4,
    "start_time": "2021-07-26T11:11:05.745Z"
   },
   {
    "duration": 9,
    "start_time": "2021-07-26T11:11:06.300Z"
   },
   {
    "duration": 8,
    "start_time": "2021-07-26T11:11:26.961Z"
   },
   {
    "duration": 370,
    "start_time": "2021-07-26T13:34:36.997Z"
   },
   {
    "duration": 6,
    "start_time": "2021-07-26T13:34:41.372Z"
   },
   {
    "duration": 4,
    "start_time": "2021-07-26T13:37:29.412Z"
   },
   {
    "duration": 4,
    "start_time": "2021-07-26T13:39:13.338Z"
   },
   {
    "duration": 5,
    "start_time": "2021-07-26T13:39:17.196Z"
   },
   {
    "duration": 6,
    "start_time": "2021-07-26T13:42:40.347Z"
   },
   {
    "duration": 5,
    "start_time": "2021-07-26T13:42:55.267Z"
   },
   {
    "duration": 306,
    "start_time": "2021-07-26T13:43:09.753Z"
   },
   {
    "duration": 283,
    "start_time": "2021-07-26T13:44:10.550Z"
   },
   {
    "duration": 279,
    "start_time": "2021-07-26T13:45:06.968Z"
   },
   {
    "duration": 11,
    "start_time": "2021-07-26T13:45:19.453Z"
   },
   {
    "duration": 267,
    "start_time": "2021-07-26T13:45:42.895Z"
   },
   {
    "duration": 13,
    "start_time": "2021-07-26T13:45:48.940Z"
   },
   {
    "duration": 280,
    "start_time": "2021-07-26T13:47:25.055Z"
   },
   {
    "duration": 11,
    "start_time": "2021-07-26T13:47:27.342Z"
   },
   {
    "duration": 288,
    "start_time": "2021-07-26T13:47:41.433Z"
   },
   {
    "duration": 263,
    "start_time": "2021-07-26T13:48:55.097Z"
   },
   {
    "duration": 11,
    "start_time": "2021-07-26T13:49:00.416Z"
   },
   {
    "duration": 7,
    "start_time": "2021-07-26T13:49:08.843Z"
   },
   {
    "duration": 273,
    "start_time": "2021-07-26T13:49:36.753Z"
   },
   {
    "duration": 16,
    "start_time": "2021-07-26T13:49:47.137Z"
   },
   {
    "duration": 5,
    "start_time": "2021-07-26T13:49:56.682Z"
   },
   {
    "duration": 266,
    "start_time": "2021-07-26T13:52:18.208Z"
   },
   {
    "duration": 93,
    "start_time": "2021-07-26T13:54:35.125Z"
   },
   {
    "duration": 4,
    "start_time": "2021-07-26T13:54:43.552Z"
   },
   {
    "duration": 294,
    "start_time": "2021-07-26T13:54:45.094Z"
   },
   {
    "duration": 7,
    "start_time": "2021-07-26T13:54:54.626Z"
   },
   {
    "duration": 7,
    "start_time": "2021-07-26T13:55:11.632Z"
   },
   {
    "duration": 484,
    "start_time": "2021-07-26T13:56:05.829Z"
   },
   {
    "duration": 88,
    "start_time": "2021-07-26T14:00:51.553Z"
   },
   {
    "duration": 79,
    "start_time": "2021-07-26T14:00:56.945Z"
   },
   {
    "duration": 268,
    "start_time": "2021-07-26T14:02:01.158Z"
   },
   {
    "duration": 278,
    "start_time": "2021-07-26T14:02:32.312Z"
   },
   {
    "duration": 342,
    "start_time": "2021-07-26T14:02:36.651Z"
   },
   {
    "duration": 271,
    "start_time": "2021-07-26T14:02:51.841Z"
   },
   {
    "duration": 8,
    "start_time": "2021-07-26T14:05:06.486Z"
   },
   {
    "duration": 6,
    "start_time": "2021-07-26T14:05:46.130Z"
   },
   {
    "duration": 7,
    "start_time": "2021-07-26T14:05:50.752Z"
   },
   {
    "duration": 10,
    "start_time": "2021-07-26T14:06:34.684Z"
   },
   {
    "duration": 1618,
    "start_time": "2021-07-26T14:14:06.949Z"
   },
   {
    "duration": 27,
    "start_time": "2021-07-26T14:14:41.003Z"
   },
   {
    "duration": 1487,
    "start_time": "2021-07-26T14:14:50.128Z"
   },
   {
    "duration": 259,
    "start_time": "2021-07-26T14:44:06.156Z"
   },
   {
    "duration": 176,
    "start_time": "2021-07-26T14:44:26.766Z"
   },
   {
    "duration": 33680,
    "start_time": "2021-07-26T14:44:31.168Z"
   },
   {
    "duration": 357,
    "start_time": "2021-07-26T14:45:36.992Z"
   },
   {
    "duration": 1526,
    "start_time": "2021-07-27T08:35:17.652Z"
   },
   {
    "duration": 880,
    "start_time": "2021-07-27T08:37:08.205Z"
   },
   {
    "duration": 54,
    "start_time": "2021-07-27T08:37:10.584Z"
   },
   {
    "duration": 43,
    "start_time": "2021-07-27T08:37:11.893Z"
   },
   {
    "duration": 50,
    "start_time": "2021-07-27T08:37:15.209Z"
   },
   {
    "duration": 4,
    "start_time": "2021-07-27T08:37:18.632Z"
   },
   {
    "duration": 13,
    "start_time": "2021-07-27T08:37:20.625Z"
   },
   {
    "duration": 10,
    "start_time": "2021-07-27T08:37:23.746Z"
   },
   {
    "duration": 8,
    "start_time": "2021-07-27T08:48:26.760Z"
   },
   {
    "duration": 10,
    "start_time": "2021-07-27T08:48:27.417Z"
   },
   {
    "duration": 476,
    "start_time": "2021-07-27T08:49:13.196Z"
   },
   {
    "duration": 5,
    "start_time": "2021-07-27T08:49:51.535Z"
   },
   {
    "duration": 11487,
    "start_time": "2021-07-27T08:50:23.124Z"
   },
   {
    "duration": 361,
    "start_time": "2021-07-27T08:50:37.696Z"
   },
   {
    "duration": 1700,
    "start_time": "2021-07-27T08:50:58.994Z"
   },
   {
    "duration": 828,
    "start_time": "2021-07-27T08:51:00.697Z"
   },
   {
    "duration": 65,
    "start_time": "2021-07-27T08:51:01.528Z"
   },
   {
    "duration": 45,
    "start_time": "2021-07-27T08:51:01.595Z"
   },
   {
    "duration": 54,
    "start_time": "2021-07-27T08:51:01.662Z"
   },
   {
    "duration": 5,
    "start_time": "2021-07-27T08:51:04.666Z"
   },
   {
    "duration": 9,
    "start_time": "2021-07-27T08:51:05.711Z"
   },
   {
    "duration": 19,
    "start_time": "2021-07-27T08:51:06.310Z"
   },
   {
    "duration": 18,
    "start_time": "2021-07-27T08:52:20.786Z"
   },
   {
    "duration": 9,
    "start_time": "2021-07-27T08:52:39.820Z"
   },
   {
    "duration": 24,
    "start_time": "2021-07-27T08:52:49.412Z"
   },
   {
    "duration": 10,
    "start_time": "2021-07-27T08:54:37.992Z"
   },
   {
    "duration": 118,
    "start_time": "2021-07-27T09:17:14.238Z"
   },
   {
    "duration": 10,
    "start_time": "2021-07-27T09:17:20.715Z"
   },
   {
    "duration": 20,
    "start_time": "2021-07-27T09:17:25.185Z"
   },
   {
    "duration": 20,
    "start_time": "2021-07-27T09:18:08.199Z"
   },
   {
    "duration": 18,
    "start_time": "2021-07-27T09:18:55.641Z"
   },
   {
    "duration": 25,
    "start_time": "2021-07-27T09:20:25.768Z"
   },
   {
    "duration": 19,
    "start_time": "2021-07-27T09:20:42.795Z"
   },
   {
    "duration": 10,
    "start_time": "2021-07-27T09:27:40.744Z"
   },
   {
    "duration": 491,
    "start_time": "2021-07-27T09:43:01.142Z"
   },
   {
    "duration": 11,
    "start_time": "2021-07-27T09:43:12.528Z"
   },
   {
    "duration": 12,
    "start_time": "2021-07-27T09:43:18.918Z"
   },
   {
    "duration": 11,
    "start_time": "2021-07-27T09:44:01.058Z"
   },
   {
    "duration": 12,
    "start_time": "2021-07-27T09:44:06.594Z"
   },
   {
    "duration": 12,
    "start_time": "2021-07-27T09:44:22.463Z"
   },
   {
    "duration": 347,
    "start_time": "2021-07-27T10:02:16.915Z"
   },
   {
    "duration": 344,
    "start_time": "2021-07-27T10:03:00.597Z"
   },
   {
    "duration": 365,
    "start_time": "2021-07-27T10:03:07.735Z"
   },
   {
    "duration": 6,
    "start_time": "2021-07-27T10:06:06.551Z"
   },
   {
    "duration": 370,
    "start_time": "2021-07-27T10:07:25.010Z"
   },
   {
    "duration": 338,
    "start_time": "2021-07-27T10:07:42.235Z"
   },
   {
    "duration": 411,
    "start_time": "2021-07-27T10:07:49.692Z"
   },
   {
    "duration": 6,
    "start_time": "2021-07-27T10:09:17.936Z"
   },
   {
    "duration": 7,
    "start_time": "2021-07-27T10:09:26.736Z"
   },
   {
    "duration": 6,
    "start_time": "2021-07-27T10:09:37.260Z"
   },
   {
    "duration": 6,
    "start_time": "2021-07-27T10:10:40.787Z"
   },
   {
    "duration": 6,
    "start_time": "2021-07-27T10:11:16.907Z"
   },
   {
    "duration": 108,
    "start_time": "2021-07-27T10:11:23.005Z"
   },
   {
    "duration": 130,
    "start_time": "2021-07-27T10:11:45.132Z"
   },
   {
    "duration": 127,
    "start_time": "2021-07-27T10:12:02.085Z"
   },
   {
    "duration": 9,
    "start_time": "2021-07-27T10:12:46.170Z"
   },
   {
    "duration": 7,
    "start_time": "2021-07-27T10:16:34.211Z"
   },
   {
    "duration": 4413,
    "start_time": "2021-07-27T11:02:44.195Z"
   },
   {
    "duration": 4105,
    "start_time": "2021-07-27T11:02:58.418Z"
   },
   {
    "duration": 5,
    "start_time": "2021-07-27T11:03:41.098Z"
   },
   {
    "duration": 13,
    "start_time": "2021-07-27T11:03:52.760Z"
   },
   {
    "duration": 6,
    "start_time": "2021-07-27T11:10:06.248Z"
   },
   {
    "duration": 14,
    "start_time": "2021-07-27T11:10:06.857Z"
   },
   {
    "duration": 22,
    "start_time": "2021-07-27T11:10:13.891Z"
   },
   {
    "duration": 5,
    "start_time": "2021-07-27T11:14:48.635Z"
   },
   {
    "duration": 13,
    "start_time": "2021-07-27T11:14:52.101Z"
   },
   {
    "duration": 2144,
    "start_time": "2021-07-27T11:15:12.116Z"
   },
   {
    "duration": 2323,
    "start_time": "2021-07-27T11:15:18.671Z"
   },
   {
    "duration": 2262,
    "start_time": "2021-07-27T11:15:30.359Z"
   },
   {
    "duration": 5,
    "start_time": "2021-07-27T11:15:36.089Z"
   },
   {
    "duration": 6,
    "start_time": "2021-07-27T11:17:54.121Z"
   },
   {
    "duration": 375,
    "start_time": "2021-07-27T11:18:07.511Z"
   },
   {
    "duration": 358,
    "start_time": "2021-07-27T11:18:13.575Z"
   },
   {
    "duration": 321,
    "start_time": "2021-07-27T11:18:24.132Z"
   },
   {
    "duration": 12,
    "start_time": "2021-07-27T11:18:28.347Z"
   },
   {
    "duration": 24,
    "start_time": "2021-07-27T11:18:53.037Z"
   },
   {
    "duration": 403,
    "start_time": "2021-07-27T11:21:58.456Z"
   },
   {
    "duration": 494,
    "start_time": "2021-07-27T11:22:06.504Z"
   },
   {
    "duration": 366,
    "start_time": "2021-07-27T11:25:28.353Z"
   },
   {
    "duration": 361,
    "start_time": "2021-07-27T11:27:32.609Z"
   },
   {
    "duration": 7,
    "start_time": "2021-07-27T11:29:07.624Z"
   },
   {
    "duration": 15,
    "start_time": "2021-07-27T11:29:12.668Z"
   },
   {
    "duration": 15,
    "start_time": "2021-07-27T11:30:58.500Z"
   },
   {
    "duration": 40,
    "start_time": "2021-07-27T11:31:04.858Z"
   },
   {
    "duration": 31,
    "start_time": "2021-07-27T11:33:19.800Z"
   },
   {
    "duration": 41,
    "start_time": "2021-07-27T11:33:35.543Z"
   },
   {
    "duration": 70,
    "start_time": "2021-07-27T11:33:54.058Z"
   },
   {
    "duration": 66,
    "start_time": "2021-07-27T11:35:58.424Z"
   },
   {
    "duration": 430,
    "start_time": "2021-07-27T11:36:05.805Z"
   },
   {
    "duration": 381,
    "start_time": "2021-07-27T11:36:17.186Z"
   },
   {
    "duration": 47,
    "start_time": "2021-07-27T11:36:30.562Z"
   },
   {
    "duration": 492,
    "start_time": "2021-07-27T11:37:06.471Z"
   },
   {
    "duration": 49,
    "start_time": "2021-07-27T11:40:02.089Z"
   },
   {
    "duration": 39,
    "start_time": "2021-07-27T11:40:54.663Z"
   },
   {
    "duration": 40,
    "start_time": "2021-07-27T11:42:28.073Z"
   },
   {
    "duration": 1617,
    "start_time": "2021-07-27T11:42:49.704Z"
   },
   {
    "duration": 985,
    "start_time": "2021-07-27T11:42:51.323Z"
   },
   {
    "duration": 68,
    "start_time": "2021-07-27T11:42:52.312Z"
   },
   {
    "duration": 44,
    "start_time": "2021-07-27T11:42:52.383Z"
   },
   {
    "duration": 76,
    "start_time": "2021-07-27T11:42:52.430Z"
   },
   {
    "duration": 4,
    "start_time": "2021-07-27T11:42:52.509Z"
   },
   {
    "duration": 29,
    "start_time": "2021-07-27T11:42:52.515Z"
   },
   {
    "duration": 25,
    "start_time": "2021-07-27T11:42:52.547Z"
   },
   {
    "duration": 13,
    "start_time": "2021-07-27T11:42:52.574Z"
   },
   {
    "duration": 10,
    "start_time": "2021-07-27T11:42:52.590Z"
   },
   {
    "duration": 60,
    "start_time": "2021-07-27T11:42:52.602Z"
   },
   {
    "duration": 6,
    "start_time": "2021-07-27T13:56:30.362Z"
   },
   {
    "duration": 332,
    "start_time": "2021-07-27T13:58:15.019Z"
   },
   {
    "duration": 778,
    "start_time": "2021-07-27T13:59:44.854Z"
   },
   {
    "duration": 333,
    "start_time": "2021-07-27T14:01:19.755Z"
   },
   {
    "duration": 6,
    "start_time": "2021-07-27T14:04:21.022Z"
   },
   {
    "duration": 356,
    "start_time": "2021-07-27T14:16:47.219Z"
   },
   {
    "duration": 115,
    "start_time": "2021-07-27T14:16:58.565Z"
   },
   {
    "duration": 4135,
    "start_time": "2021-07-27T14:17:02.913Z"
   },
   {
    "duration": 852,
    "start_time": "2021-07-27T14:19:04.825Z"
   },
   {
    "duration": 373,
    "start_time": "2021-07-27T14:19:16.245Z"
   },
   {
    "duration": 10,
    "start_time": "2021-07-27T14:20:52.947Z"
   },
   {
    "duration": 39,
    "start_time": "2021-07-27T14:20:58.261Z"
   },
   {
    "duration": 348,
    "start_time": "2021-07-27T14:23:16.388Z"
   },
   {
    "duration": 2431,
    "start_time": "2021-07-27T14:23:32.085Z"
   },
   {
    "duration": 814,
    "start_time": "2021-07-27T14:23:34.521Z"
   },
   {
    "duration": 67,
    "start_time": "2021-07-27T14:23:35.341Z"
   },
   {
    "duration": 67,
    "start_time": "2021-07-27T14:23:35.410Z"
   },
   {
    "duration": 52,
    "start_time": "2021-07-27T14:23:35.479Z"
   },
   {
    "duration": 29,
    "start_time": "2021-07-27T14:23:35.533Z"
   },
   {
    "duration": 11,
    "start_time": "2021-07-27T14:23:35.565Z"
   },
   {
    "duration": 12,
    "start_time": "2021-07-27T14:23:35.579Z"
   },
   {
    "duration": 12,
    "start_time": "2021-07-27T14:23:35.593Z"
   },
   {
    "duration": 58,
    "start_time": "2021-07-27T14:23:35.607Z"
   },
   {
    "duration": 41,
    "start_time": "2021-07-27T14:23:35.667Z"
   },
   {
    "duration": 55,
    "start_time": "2021-07-27T14:23:35.711Z"
   },
   {
    "duration": 39,
    "start_time": "2021-07-27T14:23:35.768Z"
   },
   {
    "duration": 34,
    "start_time": "2021-07-27T14:24:40.930Z"
   },
   {
    "duration": 6,
    "start_time": "2021-07-27T14:43:58.886Z"
   },
   {
    "duration": 7,
    "start_time": "2021-07-27T14:47:33.186Z"
   },
   {
    "duration": 483,
    "start_time": "2021-07-27T14:48:10.755Z"
   },
   {
    "duration": 9,
    "start_time": "2021-07-27T14:48:22.059Z"
   },
   {
    "duration": 313,
    "start_time": "2021-07-27T15:16:15.189Z"
   },
   {
    "duration": 9,
    "start_time": "2021-07-27T15:16:25.309Z"
   },
   {
    "duration": 24,
    "start_time": "2021-07-27T15:19:40.813Z"
   },
   {
    "duration": 33,
    "start_time": "2021-07-27T15:20:10.688Z"
   },
   {
    "duration": 39,
    "start_time": "2021-07-27T15:21:14.090Z"
   },
   {
    "duration": 362,
    "start_time": "2021-07-27T15:27:45.984Z"
   },
   {
    "duration": 9,
    "start_time": "2021-07-27T15:27:53.602Z"
   },
   {
    "duration": 8,
    "start_time": "2021-07-27T15:28:21.377Z"
   },
   {
    "duration": 6,
    "start_time": "2021-07-27T15:30:03.563Z"
   },
   {
    "duration": 363,
    "start_time": "2021-07-27T15:30:11.076Z"
   },
   {
    "duration": 1648,
    "start_time": "2021-07-27T15:30:31.560Z"
   },
   {
    "duration": 897,
    "start_time": "2021-07-27T15:30:33.211Z"
   },
   {
    "duration": 64,
    "start_time": "2021-07-27T15:30:34.111Z"
   },
   {
    "duration": 44,
    "start_time": "2021-07-27T15:30:34.179Z"
   },
   {
    "duration": 75,
    "start_time": "2021-07-27T15:30:34.225Z"
   },
   {
    "duration": 5,
    "start_time": "2021-07-27T15:30:34.302Z"
   },
   {
    "duration": 17,
    "start_time": "2021-07-27T15:30:34.309Z"
   },
   {
    "duration": 53,
    "start_time": "2021-07-27T15:30:34.330Z"
   },
   {
    "duration": 23,
    "start_time": "2021-07-27T15:30:34.387Z"
   },
   {
    "duration": 22,
    "start_time": "2021-07-27T15:30:34.413Z"
   },
   {
    "duration": 50,
    "start_time": "2021-07-27T15:30:34.438Z"
   },
   {
    "duration": 25,
    "start_time": "2021-07-27T15:30:34.491Z"
   },
   {
    "duration": 53,
    "start_time": "2021-07-27T15:30:34.518Z"
   },
   {
    "duration": 8,
    "start_time": "2021-07-27T15:30:34.574Z"
   },
   {
    "duration": 49,
    "start_time": "2021-07-27T15:30:34.585Z"
   },
   {
    "duration": 56,
    "start_time": "2021-07-27T15:30:34.636Z"
   },
   {
    "duration": 7,
    "start_time": "2021-07-27T15:30:34.695Z"
   },
   {
    "duration": 14,
    "start_time": "2021-07-27T15:30:34.704Z"
   },
   {
    "duration": 20,
    "start_time": "2021-07-27T15:30:34.721Z"
   },
   {
    "duration": 31,
    "start_time": "2021-07-27T15:30:34.743Z"
   },
   {
    "duration": 6,
    "start_time": "2021-07-27T15:31:19.924Z"
   },
   {
    "duration": 8,
    "start_time": "2021-07-27T15:31:28.547Z"
   },
   {
    "duration": 3,
    "start_time": "2021-07-27T15:32:41.461Z"
   },
   {
    "duration": 764,
    "start_time": "2021-07-27T15:34:56.620Z"
   },
   {
    "duration": 1718,
    "start_time": "2021-07-27T15:35:11.468Z"
   },
   {
    "duration": 867,
    "start_time": "2021-07-27T15:35:13.189Z"
   },
   {
    "duration": 57,
    "start_time": "2021-07-27T15:35:14.058Z"
   },
   {
    "duration": 70,
    "start_time": "2021-07-27T15:35:14.117Z"
   },
   {
    "duration": 73,
    "start_time": "2021-07-27T15:35:14.190Z"
   },
   {
    "duration": 5,
    "start_time": "2021-07-27T15:35:14.265Z"
   },
   {
    "duration": 26,
    "start_time": "2021-07-27T15:35:14.273Z"
   },
   {
    "duration": 10,
    "start_time": "2021-07-27T15:35:14.303Z"
   },
   {
    "duration": 10,
    "start_time": "2021-07-27T15:35:14.315Z"
   },
   {
    "duration": 38,
    "start_time": "2021-07-27T15:35:14.328Z"
   },
   {
    "duration": 731,
    "start_time": "2021-07-27T15:35:14.369Z"
   },
   {
    "duration": 434,
    "start_time": "2021-07-27T15:35:14.668Z"
   },
   {
    "duration": 432,
    "start_time": "2021-07-27T15:35:14.672Z"
   },
   {
    "duration": 426,
    "start_time": "2021-07-27T15:35:14.679Z"
   },
   {
    "duration": 423,
    "start_time": "2021-07-27T15:35:14.684Z"
   },
   {
    "duration": 422,
    "start_time": "2021-07-27T15:35:14.686Z"
   },
   {
    "duration": 419,
    "start_time": "2021-07-27T15:35:14.690Z"
   },
   {
    "duration": 414,
    "start_time": "2021-07-27T15:35:14.697Z"
   },
   {
    "duration": 412,
    "start_time": "2021-07-27T15:35:14.700Z"
   },
   {
    "duration": 411,
    "start_time": "2021-07-27T15:35:14.702Z"
   },
   {
    "duration": 411,
    "start_time": "2021-07-27T15:35:14.704Z"
   },
   {
    "duration": 410,
    "start_time": "2021-07-27T15:35:14.706Z"
   },
   {
    "duration": 538,
    "start_time": "2021-07-27T15:35:47.525Z"
   },
   {
    "duration": 620,
    "start_time": "2021-07-27T15:35:54.865Z"
   },
   {
    "duration": 662,
    "start_time": "2021-07-27T15:36:02.416Z"
   },
   {
    "duration": 28,
    "start_time": "2021-07-27T15:36:31.712Z"
   },
   {
    "duration": 19,
    "start_time": "2021-07-27T15:36:38.414Z"
   },
   {
    "duration": 37,
    "start_time": "2021-07-27T15:36:39.648Z"
   },
   {
    "duration": 9,
    "start_time": "2021-07-27T15:36:42.768Z"
   },
   {
    "duration": 33,
    "start_time": "2021-07-27T15:36:45.146Z"
   },
   {
    "duration": 34,
    "start_time": "2021-07-27T15:37:04.594Z"
   },
   {
    "duration": 8,
    "start_time": "2021-07-27T15:37:08.485Z"
   },
   {
    "duration": 7,
    "start_time": "2021-07-27T15:37:10.250Z"
   },
   {
    "duration": 8,
    "start_time": "2021-07-27T15:37:10.600Z"
   },
   {
    "duration": 8,
    "start_time": "2021-07-27T15:37:11.295Z"
   },
   {
    "duration": 7,
    "start_time": "2021-07-27T15:37:11.687Z"
   },
   {
    "duration": 8,
    "start_time": "2021-07-27T15:37:13.143Z"
   },
   {
    "duration": 1633,
    "start_time": "2021-07-27T15:39:33.196Z"
   },
   {
    "duration": 872,
    "start_time": "2021-07-27T15:39:34.832Z"
   },
   {
    "duration": 69,
    "start_time": "2021-07-27T15:39:35.707Z"
   },
   {
    "duration": 48,
    "start_time": "2021-07-27T15:39:35.779Z"
   },
   {
    "duration": 85,
    "start_time": "2021-07-27T15:39:35.831Z"
   },
   {
    "duration": 4,
    "start_time": "2021-07-27T15:39:35.918Z"
   },
   {
    "duration": 11,
    "start_time": "2021-07-27T15:39:35.925Z"
   },
   {
    "duration": 10,
    "start_time": "2021-07-27T15:39:37.789Z"
   },
   {
    "duration": 7,
    "start_time": "2021-07-27T15:39:37.917Z"
   },
   {
    "duration": 7,
    "start_time": "2021-07-27T15:39:38.050Z"
   },
   {
    "duration": 30,
    "start_time": "2021-07-27T15:39:41.224Z"
   },
   {
    "duration": 26,
    "start_time": "2021-07-27T15:39:41.603Z"
   },
   {
    "duration": 49,
    "start_time": "2021-07-27T15:39:43.900Z"
   },
   {
    "duration": 12,
    "start_time": "2021-07-27T15:39:46.365Z"
   },
   {
    "duration": 34,
    "start_time": "2021-07-27T15:39:46.833Z"
   },
   {
    "duration": 37,
    "start_time": "2021-07-27T15:39:49.758Z"
   },
   {
    "duration": 7,
    "start_time": "2021-07-27T15:41:40.979Z"
   },
   {
    "duration": 10,
    "start_time": "2021-07-27T15:41:52.726Z"
   },
   {
    "duration": 8,
    "start_time": "2021-07-27T15:42:08.826Z"
   },
   {
    "duration": 9,
    "start_time": "2021-07-27T15:42:21.041Z"
   },
   {
    "duration": 9,
    "start_time": "2021-07-27T15:43:08.140Z"
   },
   {
    "duration": 13,
    "start_time": "2021-07-27T15:43:19.014Z"
   },
   {
    "duration": 10,
    "start_time": "2021-07-27T15:43:45.258Z"
   },
   {
    "duration": 7,
    "start_time": "2021-07-27T15:43:54.021Z"
   },
   {
    "duration": 10,
    "start_time": "2021-07-27T15:43:54.788Z"
   },
   {
    "duration": 5,
    "start_time": "2021-07-27T15:48:23.592Z"
   },
   {
    "duration": 1799,
    "start_time": "2021-07-27T15:48:24.209Z"
   },
   {
    "duration": 5,
    "start_time": "2021-07-27T15:50:15.791Z"
   },
   {
    "duration": 1920,
    "start_time": "2021-07-27T15:50:15.935Z"
   },
   {
    "duration": 1838,
    "start_time": "2021-07-27T15:51:04.523Z"
   },
   {
    "duration": 1134,
    "start_time": "2021-07-28T07:53:54.932Z"
   },
   {
    "duration": 659,
    "start_time": "2021-07-28T07:53:56.068Z"
   },
   {
    "duration": 29,
    "start_time": "2021-07-28T07:53:56.729Z"
   },
   {
    "duration": 34,
    "start_time": "2021-07-28T07:53:56.760Z"
   },
   {
    "duration": 27,
    "start_time": "2021-07-28T07:53:56.796Z"
   },
   {
    "duration": 3,
    "start_time": "2021-07-28T07:54:00.361Z"
   },
   {
    "duration": 9,
    "start_time": "2021-07-28T07:54:03.680Z"
   },
   {
    "duration": 6,
    "start_time": "2021-07-28T07:54:10.457Z"
   },
   {
    "duration": 5,
    "start_time": "2021-07-28T07:54:17.093Z"
   },
   {
    "duration": 10,
    "start_time": "2021-07-28T07:59:24.965Z"
   },
   {
    "duration": 12,
    "start_time": "2021-07-28T07:59:48.427Z"
   },
   {
    "duration": 24,
    "start_time": "2021-07-28T07:59:49.379Z"
   },
   {
    "duration": 10,
    "start_time": "2021-07-28T08:03:34.669Z"
   },
   {
    "duration": 10,
    "start_time": "2021-07-28T08:05:45.154Z"
   },
   {
    "duration": 325,
    "start_time": "2021-07-28T08:07:24.739Z"
   },
   {
    "duration": 260,
    "start_time": "2021-07-28T08:07:36.065Z"
   },
   {
    "duration": 235,
    "start_time": "2021-07-28T08:07:48.304Z"
   },
   {
    "duration": 11,
    "start_time": "2021-07-28T08:08:55.347Z"
   },
   {
    "duration": 9,
    "start_time": "2021-07-28T08:09:03.329Z"
   },
   {
    "duration": 10,
    "start_time": "2021-07-28T08:09:14.755Z"
   },
   {
    "duration": 9,
    "start_time": "2021-07-28T08:09:32.124Z"
   },
   {
    "duration": 9,
    "start_time": "2021-07-28T08:09:42.138Z"
   },
   {
    "duration": 9,
    "start_time": "2021-07-28T08:09:46.870Z"
   },
   {
    "duration": 6,
    "start_time": "2021-07-28T08:13:19.152Z"
   },
   {
    "duration": 11,
    "start_time": "2021-07-28T08:13:28.610Z"
   },
   {
    "duration": 1028,
    "start_time": "2021-07-28T08:13:50.722Z"
   },
   {
    "duration": 658,
    "start_time": "2021-07-28T08:13:51.752Z"
   },
   {
    "duration": 32,
    "start_time": "2021-07-28T08:13:52.412Z"
   },
   {
    "duration": 26,
    "start_time": "2021-07-28T08:13:52.446Z"
   },
   {
    "duration": 37,
    "start_time": "2021-07-28T08:13:52.473Z"
   },
   {
    "duration": 3,
    "start_time": "2021-07-28T08:13:56.766Z"
   },
   {
    "duration": 10,
    "start_time": "2021-07-28T08:13:57.609Z"
   },
   {
    "duration": 7,
    "start_time": "2021-07-28T08:14:02.650Z"
   },
   {
    "duration": 5,
    "start_time": "2021-07-28T08:14:05.526Z"
   },
   {
    "duration": 11,
    "start_time": "2021-07-28T08:14:09.294Z"
   },
   {
    "duration": 12,
    "start_time": "2021-07-28T08:14:12.474Z"
   },
   {
    "duration": 19,
    "start_time": "2021-07-28T08:14:12.812Z"
   },
   {
    "duration": 9,
    "start_time": "2021-07-28T08:14:15.687Z"
   },
   {
    "duration": 6,
    "start_time": "2021-07-28T08:14:16.343Z"
   },
   {
    "duration": 3,
    "start_time": "2021-07-28T08:16:11.848Z"
   },
   {
    "duration": 9,
    "start_time": "2021-07-28T08:16:12.403Z"
   },
   {
    "duration": 2,
    "start_time": "2021-07-28T08:16:40.834Z"
   },
   {
    "duration": 5,
    "start_time": "2021-07-28T08:21:06.027Z"
   },
   {
    "duration": 365,
    "start_time": "2021-07-28T08:24:43.647Z"
   },
   {
    "duration": 250,
    "start_time": "2021-07-28T08:24:53.311Z"
   },
   {
    "duration": 277,
    "start_time": "2021-07-28T08:28:05.712Z"
   },
   {
    "duration": 5,
    "start_time": "2021-07-28T08:30:05.032Z"
   },
   {
    "duration": 354,
    "start_time": "2021-07-28T08:30:15.576Z"
   },
   {
    "duration": 243,
    "start_time": "2021-07-28T08:30:19.629Z"
   },
   {
    "duration": 244,
    "start_time": "2021-07-28T08:30:24.288Z"
   },
   {
    "duration": 262,
    "start_time": "2021-07-28T08:33:32.175Z"
   },
   {
    "duration": 239,
    "start_time": "2021-07-28T08:33:38.647Z"
   },
   {
    "duration": 235,
    "start_time": "2021-07-28T08:33:53.340Z"
   },
   {
    "duration": 264,
    "start_time": "2021-07-28T08:34:57.760Z"
   },
   {
    "duration": 32,
    "start_time": "2021-07-28T08:35:47.969Z"
   },
   {
    "duration": 18,
    "start_time": "2021-07-28T08:36:50.998Z"
   },
   {
    "duration": 1175,
    "start_time": "2021-07-28T08:37:17.688Z"
   },
   {
    "duration": 3,
    "start_time": "2021-07-28T08:37:18.865Z"
   },
   {
    "duration": 685,
    "start_time": "2021-07-28T08:37:18.871Z"
   },
   {
    "duration": 35,
    "start_time": "2021-07-28T08:37:19.557Z"
   },
   {
    "duration": 21,
    "start_time": "2021-07-28T08:37:19.593Z"
   },
   {
    "duration": 26,
    "start_time": "2021-07-28T08:37:19.616Z"
   },
   {
    "duration": 4,
    "start_time": "2021-07-28T08:37:20.548Z"
   },
   {
    "duration": 9,
    "start_time": "2021-07-28T08:37:20.865Z"
   },
   {
    "duration": 7,
    "start_time": "2021-07-28T08:37:25.460Z"
   },
   {
    "duration": 7,
    "start_time": "2021-07-28T08:37:30.143Z"
   },
   {
    "duration": 4,
    "start_time": "2021-07-28T08:37:32.072Z"
   },
   {
    "duration": 11,
    "start_time": "2021-07-28T08:37:44.437Z"
   },
   {
    "duration": 23,
    "start_time": "2021-07-28T08:37:45.730Z"
   },
   {
    "duration": 20,
    "start_time": "2021-07-28T08:37:56.970Z"
   },
   {
    "duration": 5,
    "start_time": "2021-07-28T08:37:58.607Z"
   },
   {
    "duration": 18,
    "start_time": "2021-07-28T08:38:02.676Z"
   },
   {
    "duration": 18,
    "start_time": "2021-07-28T08:38:05.384Z"
   },
   {
    "duration": 9,
    "start_time": "2021-07-28T08:52:48.811Z"
   },
   {
    "duration": 7,
    "start_time": "2021-07-28T08:52:58.676Z"
   },
   {
    "duration": 7,
    "start_time": "2021-07-28T10:03:26.000Z"
   },
   {
    "duration": 399,
    "start_time": "2021-07-28T10:03:32.011Z"
   },
   {
    "duration": 1045,
    "start_time": "2021-07-28T10:05:18.302Z"
   },
   {
    "duration": 3,
    "start_time": "2021-07-28T10:05:19.348Z"
   },
   {
    "duration": 679,
    "start_time": "2021-07-28T10:05:19.352Z"
   },
   {
    "duration": 31,
    "start_time": "2021-07-28T10:05:20.033Z"
   },
   {
    "duration": 31,
    "start_time": "2021-07-28T10:05:20.066Z"
   },
   {
    "duration": 28,
    "start_time": "2021-07-28T10:05:20.098Z"
   },
   {
    "duration": 2,
    "start_time": "2021-07-28T10:05:20.128Z"
   },
   {
    "duration": 35,
    "start_time": "2021-07-28T10:05:20.132Z"
   },
   {
    "duration": 6,
    "start_time": "2021-07-28T10:05:20.188Z"
   },
   {
    "duration": 5,
    "start_time": "2021-07-28T10:05:20.335Z"
   },
   {
    "duration": 11,
    "start_time": "2021-07-28T10:05:22.882Z"
   },
   {
    "duration": 19,
    "start_time": "2021-07-28T10:05:23.318Z"
   },
   {
    "duration": 18,
    "start_time": "2021-07-28T10:05:23.680Z"
   },
   {
    "duration": 5,
    "start_time": "2021-07-28T10:05:26.540Z"
   },
   {
    "duration": 18,
    "start_time": "2021-07-28T10:05:27.140Z"
   },
   {
    "duration": 18,
    "start_time": "2021-07-28T10:05:29.464Z"
   },
   {
    "duration": 9,
    "start_time": "2021-07-28T10:05:32.381Z"
   },
   {
    "duration": 6,
    "start_time": "2021-07-28T10:05:36.318Z"
   },
   {
    "duration": 8,
    "start_time": "2021-07-28T10:05:36.970Z"
   },
   {
    "duration": 7,
    "start_time": "2021-07-28T10:06:32.414Z"
   },
   {
    "duration": 4,
    "start_time": "2021-07-28T10:06:35.422Z"
   },
   {
    "duration": 7,
    "start_time": "2021-07-28T10:06:36.013Z"
   },
   {
    "duration": 4,
    "start_time": "2021-07-28T10:11:25.657Z"
   },
   {
    "duration": 7722,
    "start_time": "2021-07-28T10:11:26.170Z"
   },
   {
    "duration": 4,
    "start_time": "2021-07-28T10:11:54.831Z"
   },
   {
    "duration": 9324,
    "start_time": "2021-07-28T10:11:56.656Z"
   },
   {
    "duration": 2,
    "start_time": "2021-07-28T10:12:32.968Z"
   },
   {
    "duration": 102,
    "start_time": "2021-07-28T10:14:40.050Z"
   },
   {
    "duration": 67,
    "start_time": "2021-07-28T10:15:09.451Z"
   },
   {
    "duration": 86,
    "start_time": "2021-07-28T10:21:19.822Z"
   },
   {
    "duration": 66,
    "start_time": "2021-07-28T10:21:41.578Z"
   },
   {
    "duration": 3,
    "start_time": "2021-07-28T10:25:21.729Z"
   },
   {
    "duration": 10263,
    "start_time": "2021-07-28T10:25:22.422Z"
   },
   {
    "duration": 163,
    "start_time": "2021-07-28T10:32:09.713Z"
   },
   {
    "duration": 12,
    "start_time": "2021-07-28T10:36:37.464Z"
   },
   {
    "duration": 1559,
    "start_time": "2021-07-28T10:40:12.952Z"
   },
   {
    "duration": 3,
    "start_time": "2021-07-28T10:40:14.513Z"
   },
   {
    "duration": 695,
    "start_time": "2021-07-28T10:40:14.519Z"
   },
   {
    "duration": 31,
    "start_time": "2021-07-28T10:40:15.215Z"
   },
   {
    "duration": 24,
    "start_time": "2021-07-28T10:40:15.248Z"
   },
   {
    "duration": 47,
    "start_time": "2021-07-28T10:40:15.274Z"
   },
   {
    "duration": 3,
    "start_time": "2021-07-28T10:40:15.323Z"
   },
   {
    "duration": 12,
    "start_time": "2021-07-28T10:40:15.329Z"
   },
   {
    "duration": 7,
    "start_time": "2021-07-28T10:40:15.343Z"
   },
   {
    "duration": 6,
    "start_time": "2021-07-28T10:40:15.352Z"
   },
   {
    "duration": 45,
    "start_time": "2021-07-28T10:40:15.360Z"
   },
   {
    "duration": 22,
    "start_time": "2021-07-28T10:40:15.408Z"
   },
   {
    "duration": 17,
    "start_time": "2021-07-28T10:40:15.432Z"
   },
   {
    "duration": 8,
    "start_time": "2021-07-28T10:40:15.450Z"
   },
   {
    "duration": 46,
    "start_time": "2021-07-28T10:40:15.459Z"
   },
   {
    "duration": 20,
    "start_time": "2021-07-28T10:40:15.507Z"
   },
   {
    "duration": 7,
    "start_time": "2021-07-28T10:40:15.529Z"
   },
   {
    "duration": 10,
    "start_time": "2021-07-28T10:40:15.538Z"
   },
   {
    "duration": 6,
    "start_time": "2021-07-28T10:40:15.550Z"
   },
   {
    "duration": 41,
    "start_time": "2021-07-28T10:40:15.558Z"
   },
   {
    "duration": 12,
    "start_time": "2021-07-28T10:40:15.601Z"
   },
   {
    "duration": 17,
    "start_time": "2021-07-28T10:40:15.615Z"
   },
   {
    "duration": 195,
    "start_time": "2021-07-28T10:40:15.634Z"
   },
   {
    "duration": 152,
    "start_time": "2021-07-28T10:41:44.457Z"
   },
   {
    "duration": 18,
    "start_time": "2021-07-28T11:41:12.231Z"
   },
   {
    "duration": 4,
    "start_time": "2021-07-28T11:42:03.152Z"
   },
   {
    "duration": 474,
    "start_time": "2021-07-28T11:59:02.837Z"
   },
   {
    "duration": 271,
    "start_time": "2021-07-28T12:04:05.817Z"
   },
   {
    "duration": 3,
    "start_time": "2021-07-28T12:04:16.660Z"
   },
   {
    "duration": 6,
    "start_time": "2021-07-28T12:04:17.416Z"
   },
   {
    "duration": 4,
    "start_time": "2021-07-28T12:08:29.594Z"
   },
   {
    "duration": 5,
    "start_time": "2021-07-28T12:08:29.913Z"
   },
   {
    "duration": 3,
    "start_time": "2021-07-28T12:14:54.031Z"
   },
   {
    "duration": 140,
    "start_time": "2021-07-28T12:14:54.455Z"
   },
   {
    "duration": 4,
    "start_time": "2021-07-28T12:15:45.998Z"
   },
   {
    "duration": 197,
    "start_time": "2021-07-28T12:15:46.192Z"
   },
   {
    "duration": 4,
    "start_time": "2021-07-28T12:24:05.851Z"
   },
   {
    "duration": 6,
    "start_time": "2021-07-28T12:24:14.654Z"
   },
   {
    "duration": 6,
    "start_time": "2021-07-28T12:26:45.652Z"
   },
   {
    "duration": 5,
    "start_time": "2021-07-28T12:27:07.421Z"
   },
   {
    "duration": 5,
    "start_time": "2021-07-28T12:30:36.088Z"
   },
   {
    "duration": 142,
    "start_time": "2021-07-28T12:30:38.337Z"
   },
   {
    "duration": 4,
    "start_time": "2021-07-28T12:31:58.465Z"
   },
   {
    "duration": 150,
    "start_time": "2021-07-28T12:31:59.856Z"
   },
   {
    "duration": 4,
    "start_time": "2021-07-28T12:32:36.860Z"
   },
   {
    "duration": 154,
    "start_time": "2021-07-28T12:32:37.696Z"
   },
   {
    "duration": 4,
    "start_time": "2021-07-28T12:33:07.939Z"
   },
   {
    "duration": 522,
    "start_time": "2021-07-28T12:33:08.468Z"
   },
   {
    "duration": 4,
    "start_time": "2021-07-28T12:34:47.007Z"
   },
   {
    "duration": 215,
    "start_time": "2021-07-28T12:34:47.744Z"
   },
   {
    "duration": 5,
    "start_time": "2021-07-28T12:35:01.304Z"
   },
   {
    "duration": 478,
    "start_time": "2021-07-28T12:35:01.931Z"
   },
   {
    "duration": 4,
    "start_time": "2021-07-28T12:35:20.178Z"
   },
   {
    "duration": 146,
    "start_time": "2021-07-28T12:35:20.945Z"
   },
   {
    "duration": 5,
    "start_time": "2021-07-28T12:42:14.533Z"
   },
   {
    "duration": 158,
    "start_time": "2021-07-28T12:42:15.230Z"
   },
   {
    "duration": 172,
    "start_time": "2021-07-28T12:42:34.950Z"
   },
   {
    "duration": 169,
    "start_time": "2021-07-28T12:42:42.285Z"
   },
   {
    "duration": 3,
    "start_time": "2021-07-28T12:45:39.715Z"
   },
   {
    "duration": 652,
    "start_time": "2021-07-28T12:45:40.574Z"
   },
   {
    "duration": 4,
    "start_time": "2021-07-28T12:45:50.760Z"
   },
   {
    "duration": 671,
    "start_time": "2021-07-28T12:45:51.549Z"
   },
   {
    "duration": 6,
    "start_time": "2021-07-28T12:53:29.227Z"
   },
   {
    "duration": 641,
    "start_time": "2021-07-28T12:53:30.061Z"
   },
   {
    "duration": 3,
    "start_time": "2021-07-28T12:53:53.767Z"
   },
   {
    "duration": 5,
    "start_time": "2021-07-28T12:53:54.352Z"
   },
   {
    "duration": 5,
    "start_time": "2021-07-28T12:53:55.475Z"
   },
   {
    "duration": 5,
    "start_time": "2021-07-28T12:53:56.250Z"
   },
   {
    "duration": 4,
    "start_time": "2021-07-28T13:25:15.064Z"
   },
   {
    "duration": 3,
    "start_time": "2021-07-28T13:31:55.149Z"
   },
   {
    "duration": 6,
    "start_time": "2021-07-28T13:32:50.470Z"
   },
   {
    "duration": 8,
    "start_time": "2021-07-28T13:35:12.009Z"
   },
   {
    "duration": 248,
    "start_time": "2021-07-28T13:37:30.776Z"
   },
   {
    "duration": 6,
    "start_time": "2021-07-28T13:37:55.608Z"
   },
   {
    "duration": 268,
    "start_time": "2021-07-28T13:39:17.538Z"
   },
   {
    "duration": 183,
    "start_time": "2021-07-28T13:39:34.057Z"
   },
   {
    "duration": 387,
    "start_time": "2021-07-28T13:39:47.232Z"
   },
   {
    "duration": 243,
    "start_time": "2021-07-28T13:43:07.124Z"
   },
   {
    "duration": 336,
    "start_time": "2021-07-28T13:44:13.291Z"
   },
   {
    "duration": 362,
    "start_time": "2021-07-28T13:44:36.516Z"
   },
   {
    "duration": 357,
    "start_time": "2021-07-28T13:45:18.435Z"
   },
   {
    "duration": 78,
    "start_time": "2021-07-28T13:45:53.663Z"
   },
   {
    "duration": 370,
    "start_time": "2021-07-28T13:46:02.390Z"
   },
   {
    "duration": 236,
    "start_time": "2021-07-28T13:51:53.426Z"
   },
   {
    "duration": 6,
    "start_time": "2021-07-28T13:52:00.713Z"
   },
   {
    "duration": 6,
    "start_time": "2021-07-28T13:52:10.105Z"
   },
   {
    "duration": 6,
    "start_time": "2021-07-28T13:52:28.868Z"
   },
   {
    "duration": 7,
    "start_time": "2021-07-28T13:55:09.895Z"
   },
   {
    "duration": 6,
    "start_time": "2021-07-28T13:55:20.132Z"
   },
   {
    "duration": 3,
    "start_time": "2021-07-28T13:56:35.062Z"
   },
   {
    "duration": 9,
    "start_time": "2021-07-28T13:56:51.311Z"
   },
   {
    "duration": 8,
    "start_time": "2021-07-28T13:58:00.340Z"
   },
   {
    "duration": 11,
    "start_time": "2021-07-28T14:01:03.298Z"
   },
   {
    "duration": 9,
    "start_time": "2021-07-28T14:04:54.222Z"
   },
   {
    "duration": 10,
    "start_time": "2021-07-28T14:05:02.603Z"
   },
   {
    "duration": 8,
    "start_time": "2021-07-28T14:05:08.214Z"
   },
   {
    "duration": 7,
    "start_time": "2021-07-28T14:06:54.205Z"
   },
   {
    "duration": 7,
    "start_time": "2021-07-28T14:13:20.910Z"
   },
   {
    "duration": 8,
    "start_time": "2021-07-28T14:13:25.272Z"
   },
   {
    "duration": 8,
    "start_time": "2021-07-28T14:13:29.259Z"
   },
   {
    "duration": 8,
    "start_time": "2021-07-28T14:13:33.939Z"
   },
   {
    "duration": 9,
    "start_time": "2021-07-28T14:13:40.259Z"
   },
   {
    "duration": 8,
    "start_time": "2021-07-28T14:13:45.638Z"
   },
   {
    "duration": 8,
    "start_time": "2021-07-28T14:13:52.326Z"
   },
   {
    "duration": 8,
    "start_time": "2021-07-28T14:14:18.829Z"
   },
   {
    "duration": 9,
    "start_time": "2021-07-28T14:16:25.034Z"
   },
   {
    "duration": 8,
    "start_time": "2021-07-28T14:16:33.454Z"
   },
   {
    "duration": 397,
    "start_time": "2021-07-28T14:29:41.984Z"
   },
   {
    "duration": 259,
    "start_time": "2021-07-28T17:36:49.813Z"
   },
   {
    "duration": 5,
    "start_time": "2021-07-28T17:36:59.078Z"
   },
   {
    "duration": 1484,
    "start_time": "2021-07-29T06:13:40.201Z"
   },
   {
    "duration": 4,
    "start_time": "2021-07-29T06:13:41.687Z"
   },
   {
    "duration": 890,
    "start_time": "2021-07-29T06:13:41.695Z"
   },
   {
    "duration": 56,
    "start_time": "2021-07-29T06:13:42.588Z"
   },
   {
    "duration": 61,
    "start_time": "2021-07-29T06:13:42.647Z"
   },
   {
    "duration": 85,
    "start_time": "2021-07-29T06:13:42.711Z"
   },
   {
    "duration": 6,
    "start_time": "2021-07-29T06:13:42.799Z"
   },
   {
    "duration": 13,
    "start_time": "2021-07-29T06:13:42.809Z"
   },
   {
    "duration": 12,
    "start_time": "2021-07-29T06:13:42.825Z"
   },
   {
    "duration": 7,
    "start_time": "2021-07-29T06:13:42.867Z"
   },
   {
    "duration": 19,
    "start_time": "2021-07-29T06:13:42.876Z"
   },
   {
    "duration": 33,
    "start_time": "2021-07-29T06:13:42.898Z"
   },
   {
    "duration": 63,
    "start_time": "2021-07-29T06:13:42.933Z"
   },
   {
    "duration": 7,
    "start_time": "2021-07-29T06:13:42.998Z"
   },
   {
    "duration": 29,
    "start_time": "2021-07-29T06:13:43.007Z"
   },
   {
    "duration": 58,
    "start_time": "2021-07-29T06:13:43.038Z"
   },
   {
    "duration": 10,
    "start_time": "2021-07-29T06:13:43.099Z"
   },
   {
    "duration": 14,
    "start_time": "2021-07-29T06:13:43.112Z"
   },
   {
    "duration": 45,
    "start_time": "2021-07-29T06:13:43.128Z"
   },
   {
    "duration": 12,
    "start_time": "2021-07-29T06:13:43.176Z"
   },
   {
    "duration": 14,
    "start_time": "2021-07-29T06:13:43.190Z"
   },
   {
    "duration": 19,
    "start_time": "2021-07-29T06:13:43.206Z"
   },
   {
    "duration": 340,
    "start_time": "2021-07-29T06:13:43.270Z"
   },
   {
    "duration": 5,
    "start_time": "2021-07-29T06:13:43.613Z"
   },
   {
    "duration": 20,
    "start_time": "2021-07-29T06:13:43.620Z"
   },
   {
    "duration": 27,
    "start_time": "2021-07-29T06:13:43.643Z"
   },
   {
    "duration": 9,
    "start_time": "2021-07-29T06:13:43.673Z"
   },
   {
    "duration": 786,
    "start_time": "2021-07-29T06:13:43.684Z"
   },
   {
    "duration": 11,
    "start_time": "2021-07-29T06:13:44.472Z"
   },
   {
    "duration": 6,
    "start_time": "2021-07-29T06:13:44.486Z"
   },
   {
    "duration": 5,
    "start_time": "2021-07-29T06:13:44.495Z"
   },
   {
    "duration": 7,
    "start_time": "2021-07-29T07:30:31.860Z"
   },
   {
    "duration": 32,
    "start_time": "2021-07-29T07:42:37.569Z"
   },
   {
    "duration": 7,
    "start_time": "2021-07-29T08:00:18.636Z"
   },
   {
    "duration": 19,
    "start_time": "2021-07-29T08:00:32.852Z"
   },
   {
    "duration": 7,
    "start_time": "2021-07-29T08:00:45.446Z"
   },
   {
    "duration": 15,
    "start_time": "2021-07-29T08:00:45.891Z"
   },
   {
    "duration": 6,
    "start_time": "2021-07-29T08:01:06.111Z"
   },
   {
    "duration": 796,
    "start_time": "2021-07-29T08:01:06.596Z"
   },
   {
    "duration": 6,
    "start_time": "2021-07-29T08:02:37.303Z"
   },
   {
    "duration": 708,
    "start_time": "2021-07-29T08:02:37.634Z"
   },
   {
    "duration": 7,
    "start_time": "2021-07-29T08:02:44.383Z"
   },
   {
    "duration": 2163,
    "start_time": "2021-07-29T08:02:44.693Z"
   },
   {
    "duration": 7,
    "start_time": "2021-07-29T08:02:56.196Z"
   },
   {
    "duration": 689,
    "start_time": "2021-07-29T08:02:56.549Z"
   },
   {
    "duration": 7,
    "start_time": "2021-07-29T08:04:55.901Z"
   },
   {
    "duration": 21,
    "start_time": "2021-07-29T08:04:56.268Z"
   },
   {
    "duration": 6,
    "start_time": "2021-07-29T08:05:13.838Z"
   },
   {
    "duration": 984,
    "start_time": "2021-07-29T08:05:14.275Z"
   },
   {
    "duration": 7,
    "start_time": "2021-07-29T08:06:58.952Z"
   },
   {
    "duration": 19,
    "start_time": "2021-07-29T08:06:59.421Z"
   },
   {
    "duration": 7,
    "start_time": "2021-07-29T08:07:10.314Z"
   },
   {
    "duration": 774,
    "start_time": "2021-07-29T08:07:10.850Z"
   },
   {
    "duration": 7,
    "start_time": "2021-07-29T08:09:57.562Z"
   },
   {
    "duration": 18,
    "start_time": "2021-07-29T08:10:08.151Z"
   },
   {
    "duration": 7,
    "start_time": "2021-07-29T08:10:24.326Z"
   },
   {
    "duration": 832,
    "start_time": "2021-07-29T08:10:24.694Z"
   },
   {
    "duration": 6,
    "start_time": "2021-07-29T08:10:52.369Z"
   },
   {
    "duration": 12,
    "start_time": "2021-07-29T08:10:52.779Z"
   },
   {
    "duration": 7,
    "start_time": "2021-07-29T08:11:18.138Z"
   },
   {
    "duration": 16,
    "start_time": "2021-07-29T08:11:18.747Z"
   },
   {
    "duration": 8,
    "start_time": "2021-07-29T08:13:07.093Z"
   },
   {
    "duration": 8,
    "start_time": "2021-07-29T08:13:14.129Z"
   },
   {
    "duration": 701,
    "start_time": "2021-07-29T08:13:14.694Z"
   },
   {
    "duration": 7,
    "start_time": "2021-07-29T08:13:26.656Z"
   },
   {
    "duration": 16,
    "start_time": "2021-07-29T08:13:27.100Z"
   },
   {
    "duration": 7,
    "start_time": "2021-07-29T08:16:39.542Z"
   },
   {
    "duration": 17,
    "start_time": "2021-07-29T08:16:39.928Z"
   },
   {
    "duration": 7,
    "start_time": "2021-07-29T08:17:43.950Z"
   },
   {
    "duration": 17,
    "start_time": "2021-07-29T08:17:44.291Z"
   },
   {
    "duration": 644,
    "start_time": "2021-07-29T08:18:19.197Z"
   },
   {
    "duration": 7,
    "start_time": "2021-07-29T08:18:55.387Z"
   },
   {
    "duration": 16,
    "start_time": "2021-07-29T08:18:55.924Z"
   },
   {
    "duration": 7,
    "start_time": "2021-07-29T08:19:06.111Z"
   },
   {
    "duration": 767,
    "start_time": "2021-07-29T08:19:06.909Z"
   },
   {
    "duration": 7,
    "start_time": "2021-07-29T08:20:08.846Z"
   },
   {
    "duration": 17,
    "start_time": "2021-07-29T08:20:18.266Z"
   },
   {
    "duration": 7,
    "start_time": "2021-07-29T08:23:18.239Z"
   },
   {
    "duration": 14,
    "start_time": "2021-07-29T08:23:18.777Z"
   },
   {
    "duration": 7,
    "start_time": "2021-07-29T08:24:56.742Z"
   },
   {
    "duration": 22,
    "start_time": "2021-07-29T08:24:57.069Z"
   },
   {
    "duration": 7,
    "start_time": "2021-07-29T08:25:41.486Z"
   },
   {
    "duration": 803,
    "start_time": "2021-07-29T08:25:42.222Z"
   },
   {
    "duration": 6,
    "start_time": "2021-07-29T08:26:01.438Z"
   },
   {
    "duration": 28,
    "start_time": "2021-07-29T08:26:01.722Z"
   },
   {
    "duration": 8,
    "start_time": "2021-07-29T08:26:17.298Z"
   },
   {
    "duration": 788,
    "start_time": "2021-07-29T08:26:18.273Z"
   },
   {
    "duration": 8,
    "start_time": "2021-07-29T08:26:27.505Z"
   },
   {
    "duration": 21,
    "start_time": "2021-07-29T08:26:28.063Z"
   },
   {
    "duration": 21,
    "start_time": "2021-07-29T08:28:57.278Z"
   },
   {
    "duration": 19,
    "start_time": "2021-07-29T08:29:37.166Z"
   },
   {
    "duration": 747,
    "start_time": "2021-07-29T08:30:43.631Z"
   },
   {
    "duration": 1139,
    "start_time": "2021-07-29T08:31:35.014Z"
   },
   {
    "duration": 265740,
    "start_time": "2021-07-29T08:32:21.649Z"
   },
   {
    "duration": 155,
    "start_time": "2021-07-29T08:36:47.239Z"
   },
   {
    "duration": 39,
    "start_time": "2021-07-29T08:36:56.551Z"
   },
   {
    "duration": 9753,
    "start_time": "2021-07-29T08:37:38.320Z"
   },
   {
    "duration": 8,
    "start_time": "2021-07-29T08:40:34.512Z"
   },
   {
    "duration": 306,
    "start_time": "2021-07-29T08:40:34.849Z"
   },
   {
    "duration": 442,
    "start_time": "2021-07-29T08:41:01.797Z"
   },
   {
    "duration": 1141,
    "start_time": "2021-07-29T08:48:36.314Z"
   },
   {
    "duration": 1185,
    "start_time": "2021-07-29T08:49:40.635Z"
   },
   {
    "duration": 1262,
    "start_time": "2021-07-29T08:50:05.383Z"
   },
   {
    "duration": 1645,
    "start_time": "2021-07-29T08:50:28.512Z"
   },
   {
    "duration": 2665,
    "start_time": "2021-07-29T08:52:09.932Z"
   },
   {
    "duration": 1518,
    "start_time": "2021-07-29T08:54:11.677Z"
   },
   {
    "duration": 1567,
    "start_time": "2021-07-29T08:56:28.414Z"
   },
   {
    "duration": 41,
    "start_time": "2021-07-29T09:00:22.371Z"
   },
   {
    "duration": 18,
    "start_time": "2021-07-29T09:03:13.592Z"
   },
   {
    "duration": 382,
    "start_time": "2021-07-29T09:04:34.158Z"
   },
   {
    "duration": 38,
    "start_time": "2021-07-29T09:05:12.000Z"
   },
   {
    "duration": 1573,
    "start_time": "2021-07-29T09:06:11.310Z"
   },
   {
    "duration": 4,
    "start_time": "2021-07-29T09:06:12.885Z"
   },
   {
    "duration": 944,
    "start_time": "2021-07-29T09:06:12.892Z"
   },
   {
    "duration": 63,
    "start_time": "2021-07-29T09:06:13.839Z"
   },
   {
    "duration": 63,
    "start_time": "2021-07-29T09:06:13.906Z"
   },
   {
    "duration": 52,
    "start_time": "2021-07-29T09:06:13.972Z"
   },
   {
    "duration": 5,
    "start_time": "2021-07-29T09:06:14.028Z"
   },
   {
    "duration": 15,
    "start_time": "2021-07-29T09:06:14.069Z"
   },
   {
    "duration": 10,
    "start_time": "2021-07-29T09:06:14.087Z"
   },
   {
    "duration": 8,
    "start_time": "2021-07-29T09:06:14.099Z"
   },
   {
    "duration": 21,
    "start_time": "2021-07-29T09:06:14.109Z"
   },
   {
    "duration": 67,
    "start_time": "2021-07-29T09:06:14.133Z"
   },
   {
    "duration": 31,
    "start_time": "2021-07-29T09:06:14.203Z"
   },
   {
    "duration": 38,
    "start_time": "2021-07-29T09:06:14.237Z"
   },
   {
    "duration": 30,
    "start_time": "2021-07-29T09:06:14.278Z"
   },
   {
    "duration": 63,
    "start_time": "2021-07-29T09:06:14.311Z"
   },
   {
    "duration": 13,
    "start_time": "2021-07-29T09:06:14.377Z"
   },
   {
    "duration": 17,
    "start_time": "2021-07-29T09:06:14.393Z"
   },
   {
    "duration": 56,
    "start_time": "2021-07-29T09:06:14.413Z"
   },
   {
    "duration": 13,
    "start_time": "2021-07-29T09:06:14.472Z"
   },
   {
    "duration": 15,
    "start_time": "2021-07-29T09:06:14.487Z"
   },
   {
    "duration": 20,
    "start_time": "2021-07-29T09:06:14.504Z"
   },
   {
    "duration": 362,
    "start_time": "2021-07-29T09:06:14.529Z"
   },
   {
    "duration": 5,
    "start_time": "2021-07-29T09:06:14.893Z"
   },
   {
    "duration": 9,
    "start_time": "2021-07-29T09:06:14.900Z"
   },
   {
    "duration": 6,
    "start_time": "2021-07-29T09:06:14.911Z"
   },
   {
    "duration": 7,
    "start_time": "2021-07-29T09:06:14.921Z"
   },
   {
    "duration": 794,
    "start_time": "2021-07-29T09:06:14.967Z"
   },
   {
    "duration": 11,
    "start_time": "2021-07-29T09:06:15.767Z"
   },
   {
    "duration": 7,
    "start_time": "2021-07-29T09:06:15.781Z"
   },
   {
    "duration": 23,
    "start_time": "2021-07-29T09:06:15.791Z"
   },
   {
    "duration": 104,
    "start_time": "2021-07-29T09:06:15.816Z"
   },
   {
    "duration": 482,
    "start_time": "2021-07-29T09:06:15.922Z"
   },
   {
    "duration": 35,
    "start_time": "2021-07-29T09:06:16.407Z"
   },
   {
    "duration": 1733,
    "start_time": "2021-07-29T09:06:16.445Z"
   },
   {
    "duration": 5,
    "start_time": "2021-07-29T09:06:18.180Z"
   },
   {
    "duration": 1699,
    "start_time": "2021-07-29T09:07:28.124Z"
   },
   {
    "duration": 4,
    "start_time": "2021-07-29T09:07:29.826Z"
   },
   {
    "duration": 930,
    "start_time": "2021-07-29T09:07:29.833Z"
   },
   {
    "duration": 55,
    "start_time": "2021-07-29T09:07:30.768Z"
   },
   {
    "duration": 67,
    "start_time": "2021-07-29T09:07:30.825Z"
   },
   {
    "duration": 54,
    "start_time": "2021-07-29T09:07:30.894Z"
   },
   {
    "duration": 5,
    "start_time": "2021-07-29T09:07:30.969Z"
   },
   {
    "duration": 31,
    "start_time": "2021-07-29T09:07:30.980Z"
   },
   {
    "duration": 23,
    "start_time": "2021-07-29T09:07:31.015Z"
   },
   {
    "duration": 14,
    "start_time": "2021-07-29T09:07:31.041Z"
   },
   {
    "duration": 18,
    "start_time": "2021-07-29T09:07:31.067Z"
   },
   {
    "duration": 45,
    "start_time": "2021-07-29T09:07:31.087Z"
   },
   {
    "duration": 47,
    "start_time": "2021-07-29T09:07:31.134Z"
   },
   {
    "duration": 7,
    "start_time": "2021-07-29T09:07:31.183Z"
   },
   {
    "duration": 38,
    "start_time": "2021-07-29T09:07:31.192Z"
   },
   {
    "duration": 53,
    "start_time": "2021-07-29T09:07:31.232Z"
   },
   {
    "duration": 10,
    "start_time": "2021-07-29T09:07:31.288Z"
   },
   {
    "duration": 23,
    "start_time": "2021-07-29T09:07:31.300Z"
   },
   {
    "duration": 10,
    "start_time": "2021-07-29T09:07:31.326Z"
   },
   {
    "duration": 40,
    "start_time": "2021-07-29T09:07:31.338Z"
   },
   {
    "duration": 18,
    "start_time": "2021-07-29T09:07:31.380Z"
   },
   {
    "duration": 27,
    "start_time": "2021-07-29T09:07:31.401Z"
   },
   {
    "duration": 393,
    "start_time": "2021-07-29T09:07:31.433Z"
   },
   {
    "duration": 6,
    "start_time": "2021-07-29T09:07:31.830Z"
   },
   {
    "duration": 32,
    "start_time": "2021-07-29T09:07:31.839Z"
   },
   {
    "duration": 10,
    "start_time": "2021-07-29T09:07:31.874Z"
   },
   {
    "duration": 8,
    "start_time": "2021-07-29T09:07:31.886Z"
   },
   {
    "duration": 797,
    "start_time": "2021-07-29T09:07:31.896Z"
   },
   {
    "duration": 12,
    "start_time": "2021-07-29T09:07:32.696Z"
   },
   {
    "duration": 7,
    "start_time": "2021-07-29T09:07:32.711Z"
   },
   {
    "duration": 19,
    "start_time": "2021-07-29T09:07:32.721Z"
   },
   {
    "duration": 654,
    "start_time": "2021-07-29T09:07:32.743Z"
   },
   {
    "duration": -51,
    "start_time": "2021-07-29T09:07:33.450Z"
   },
   {
    "duration": -55,
    "start_time": "2021-07-29T09:07:33.456Z"
   },
   {
    "duration": -67,
    "start_time": "2021-07-29T09:07:33.469Z"
   },
   {
    "duration": -68,
    "start_time": "2021-07-29T09:07:33.472Z"
   },
   {
    "duration": 1950,
    "start_time": "2021-07-29T09:07:57.094Z"
   },
   {
    "duration": 12,
    "start_time": "2021-07-29T09:10:50.163Z"
   },
   {
    "duration": 9,
    "start_time": "2021-07-29T09:10:58.421Z"
   },
   {
    "duration": 513,
    "start_time": "2021-07-29T09:12:03.998Z"
   },
   {
    "duration": 56,
    "start_time": "2021-07-29T09:13:30.624Z"
   },
   {
    "duration": 37,
    "start_time": "2021-07-29T09:13:48.113Z"
   },
   {
    "duration": 35,
    "start_time": "2021-07-29T09:14:05.380Z"
   },
   {
    "duration": 444,
    "start_time": "2021-07-29T09:14:28.235Z"
   },
   {
    "duration": 33,
    "start_time": "2021-07-29T09:14:32.467Z"
   },
   {
    "duration": 1696,
    "start_time": "2021-07-29T09:14:35.175Z"
   },
   {
    "duration": 406,
    "start_time": "2021-07-29T09:26:13.871Z"
   },
   {
    "duration": 399,
    "start_time": "2021-07-29T09:26:51.679Z"
   },
   {
    "duration": 28,
    "start_time": "2021-07-29T09:27:02.573Z"
   },
   {
    "duration": 24,
    "start_time": "2021-07-29T09:27:10.237Z"
   },
   {
    "duration": 16,
    "start_time": "2021-07-29T09:28:45.176Z"
   },
   {
    "duration": 23,
    "start_time": "2021-07-29T09:28:45.984Z"
   },
   {
    "duration": 352,
    "start_time": "2021-07-29T09:28:54.332Z"
   },
   {
    "duration": 520,
    "start_time": "2021-07-29T09:29:00.269Z"
   },
   {
    "duration": 404,
    "start_time": "2021-07-29T09:29:02.796Z"
   },
   {
    "duration": 7,
    "start_time": "2021-07-29T09:29:33.488Z"
   },
   {
    "duration": 379,
    "start_time": "2021-07-29T09:29:36.354Z"
   },
   {
    "duration": 426,
    "start_time": "2021-07-29T09:30:05.611Z"
   },
   {
    "duration": 432,
    "start_time": "2021-07-29T09:30:08.803Z"
   },
   {
    "duration": 22,
    "start_time": "2021-07-29T09:30:43.064Z"
   },
   {
    "duration": 413,
    "start_time": "2021-07-29T09:31:44.871Z"
   },
   {
    "duration": 405,
    "start_time": "2021-07-29T09:39:41.160Z"
   },
   {
    "duration": 421,
    "start_time": "2021-07-29T09:39:48.544Z"
   },
   {
    "duration": 401,
    "start_time": "2021-07-29T09:39:52.908Z"
   },
   {
    "duration": 6,
    "start_time": "2021-07-29T09:40:13.611Z"
   },
   {
    "duration": 374,
    "start_time": "2021-07-29T09:40:17.484Z"
   },
   {
    "duration": 632,
    "start_time": "2021-07-29T09:40:27.285Z"
   },
   {
    "duration": 439,
    "start_time": "2021-07-29T09:40:31.136Z"
   },
   {
    "duration": 383,
    "start_time": "2021-07-29T09:40:42.700Z"
   },
   {
    "duration": 16,
    "start_time": "2021-07-29T09:41:41.688Z"
   },
   {
    "duration": 11,
    "start_time": "2021-07-29T09:44:09.955Z"
   },
   {
    "duration": 20,
    "start_time": "2021-07-29T09:44:19.157Z"
   },
   {
    "duration": 18,
    "start_time": "2021-07-29T09:44:35.220Z"
   },
   {
    "duration": 11,
    "start_time": "2021-07-29T09:44:35.647Z"
   },
   {
    "duration": 18,
    "start_time": "2021-07-29T09:44:36.243Z"
   },
   {
    "duration": 16,
    "start_time": "2021-07-29T09:45:00.692Z"
   },
   {
    "duration": 11,
    "start_time": "2021-07-29T09:45:01.009Z"
   },
   {
    "duration": 18,
    "start_time": "2021-07-29T09:45:01.484Z"
   },
   {
    "duration": 9,
    "start_time": "2021-07-29T09:45:41.610Z"
   },
   {
    "duration": 17,
    "start_time": "2021-07-29T09:45:41.950Z"
   },
   {
    "duration": 14,
    "start_time": "2021-07-29T09:46:14.605Z"
   },
   {
    "duration": 6,
    "start_time": "2021-07-29T09:46:17.936Z"
   },
   {
    "duration": 16,
    "start_time": "2021-07-29T09:47:59.719Z"
   },
   {
    "duration": 6,
    "start_time": "2021-07-29T09:48:00.281Z"
   },
   {
    "duration": 14,
    "start_time": "2021-07-29T09:50:21.322Z"
   },
   {
    "duration": 6,
    "start_time": "2021-07-29T09:50:21.664Z"
   },
   {
    "duration": 14,
    "start_time": "2021-07-29T09:50:34.074Z"
   },
   {
    "duration": 13,
    "start_time": "2021-07-29T09:50:34.524Z"
   },
   {
    "duration": 17,
    "start_time": "2021-07-29T09:50:38.790Z"
   },
   {
    "duration": 20,
    "start_time": "2021-07-29T09:50:43.565Z"
   },
   {
    "duration": 415,
    "start_time": "2021-07-29T09:51:43.529Z"
   },
   {
    "duration": 601,
    "start_time": "2021-07-29T09:51:50.417Z"
   },
   {
    "duration": 5,
    "start_time": "2021-07-29T09:51:53.548Z"
   },
   {
    "duration": 18,
    "start_time": "2021-07-29T09:52:07.579Z"
   },
   {
    "duration": 40,
    "start_time": "2021-07-29T09:53:28.122Z"
   },
   {
    "duration": 18,
    "start_time": "2021-07-29T09:54:05.667Z"
   },
   {
    "duration": 427,
    "start_time": "2021-07-29T09:54:10.511Z"
   },
   {
    "duration": 19,
    "start_time": "2021-07-29T09:54:13.627Z"
   },
   {
    "duration": 23,
    "start_time": "2021-07-29T09:54:26.446Z"
   },
   {
    "duration": 16,
    "start_time": "2021-07-29T10:01:49.121Z"
   },
   {
    "duration": 18,
    "start_time": "2021-07-29T10:01:49.652Z"
   },
   {
    "duration": 17,
    "start_time": "2021-07-29T10:01:51.078Z"
   },
   {
    "duration": 6,
    "start_time": "2021-07-29T11:27:57.425Z"
   },
   {
    "duration": 4,
    "start_time": "2021-07-29T11:27:57.719Z"
   },
   {
    "duration": 53,
    "start_time": "2021-07-29T11:35:08.400Z"
   },
   {
    "duration": 12,
    "start_time": "2021-07-29T11:50:44.317Z"
   },
   {
    "duration": 5,
    "start_time": "2021-07-29T11:51:43.788Z"
   },
   {
    "duration": 800,
    "start_time": "2021-07-29T11:51:58.817Z"
   },
   {
    "duration": 5,
    "start_time": "2021-07-29T11:52:31.393Z"
   },
   {
    "duration": 58,
    "start_time": "2021-07-29T11:52:40.226Z"
   },
   {
    "duration": 9,
    "start_time": "2021-07-29T11:54:58.962Z"
   },
   {
    "duration": 97,
    "start_time": "2021-07-29T11:55:00.398Z"
   },
   {
    "duration": 5,
    "start_time": "2021-07-29T11:59:12.615Z"
   },
   {
    "duration": 4,
    "start_time": "2021-07-29T12:10:39.160Z"
   },
   {
    "duration": 141,
    "start_time": "2021-07-29T12:10:39.954Z"
   },
   {
    "duration": 5,
    "start_time": "2021-07-29T12:10:47.164Z"
   },
   {
    "duration": 408,
    "start_time": "2021-07-29T12:10:48.532Z"
   },
   {
    "duration": 21,
    "start_time": "2021-07-29T12:12:29.632Z"
   },
   {
    "duration": 3,
    "start_time": "2021-07-29T12:12:31.447Z"
   },
   {
    "duration": 4,
    "start_time": "2021-07-29T12:12:32.002Z"
   },
   {
    "duration": 1811753,
    "start_time": "2021-07-29T12:12:32.519Z"
   },
   {
    "duration": -143,
    "start_time": "2021-07-29T12:42:44.419Z"
   },
   {
    "duration": 437,
    "start_time": "2021-07-29T12:42:47.583Z"
   },
   {
    "duration": 4,
    "start_time": "2021-07-29T12:43:16.415Z"
   },
   {
    "duration": 4,
    "start_time": "2021-07-29T12:43:28.912Z"
   },
   {
    "duration": 9454,
    "start_time": "2021-07-29T12:43:30.800Z"
   },
   {
    "duration": 27,
    "start_time": "2021-07-29T12:44:51.366Z"
   },
   {
    "duration": 195,
    "start_time": "2021-07-29T12:49:18.965Z"
   },
   {
    "duration": 6,
    "start_time": "2021-07-29T12:49:41.931Z"
   },
   {
    "duration": 424,
    "start_time": "2021-07-29T12:49:42.596Z"
   },
   {
    "duration": 8,
    "start_time": "2021-07-29T12:49:57.164Z"
   },
   {
    "duration": 19,
    "start_time": "2021-07-29T12:49:57.535Z"
   },
   {
    "duration": 6,
    "start_time": "2021-07-29T12:57:53.178Z"
   },
   {
    "duration": 15,
    "start_time": "2021-07-29T12:57:53.798Z"
   },
   {
    "duration": 562,
    "start_time": "2021-07-29T13:01:06.063Z"
   },
   {
    "duration": 465,
    "start_time": "2021-07-29T13:01:39.077Z"
   },
   {
    "duration": 371,
    "start_time": "2021-07-29T13:01:49.497Z"
   },
   {
    "duration": 21,
    "start_time": "2021-07-29T13:03:04.766Z"
   },
   {
    "duration": 233,
    "start_time": "2021-07-29T13:03:44.240Z"
   },
   {
    "duration": 199,
    "start_time": "2021-07-29T13:07:02.176Z"
   },
   {
    "duration": 289,
    "start_time": "2021-07-29T13:07:02.481Z"
   },
   {
    "duration": 6,
    "start_time": "2021-07-29T13:07:33.944Z"
   },
   {
    "duration": 426,
    "start_time": "2021-07-29T13:12:37.574Z"
   },
   {
    "duration": 5,
    "start_time": "2021-07-29T13:12:59.099Z"
   },
   {
    "duration": 1226,
    "start_time": "2021-07-29T13:13:10.845Z"
   },
   {
    "duration": 1397,
    "start_time": "2021-07-29T13:13:21.870Z"
   },
   {
    "duration": 361,
    "start_time": "2021-07-29T13:13:52.937Z"
   },
   {
    "duration": 427,
    "start_time": "2021-07-29T13:15:39.829Z"
   },
   {
    "duration": 419,
    "start_time": "2021-07-29T13:15:45.060Z"
   },
   {
    "duration": 1493,
    "start_time": "2021-07-29T13:16:10.183Z"
   },
   {
    "duration": 6,
    "start_time": "2021-07-29T13:16:30.886Z"
   },
   {
    "duration": 113,
    "start_time": "2021-07-29T13:19:55.463Z"
   },
   {
    "duration": 59,
    "start_time": "2021-07-29T13:20:39.016Z"
   },
   {
    "duration": 252,
    "start_time": "2021-07-29T13:21:19.423Z"
   },
   {
    "duration": 196,
    "start_time": "2021-07-29T13:21:54.580Z"
   },
   {
    "duration": 223,
    "start_time": "2021-07-29T13:22:07.045Z"
   },
   {
    "duration": 5,
    "start_time": "2021-07-29T13:23:14.201Z"
   },
   {
    "duration": 1306,
    "start_time": "2021-07-29T13:24:08.969Z"
   },
   {
    "duration": 4,
    "start_time": "2021-07-29T13:25:30.073Z"
   },
   {
    "duration": 222869,
    "start_time": "2021-07-29T13:25:30.616Z"
   },
   {
    "duration": -200,
    "start_time": "2021-07-29T13:29:13.688Z"
   },
   {
    "duration": 4,
    "start_time": "2021-07-29T13:31:17.311Z"
   },
   {
    "duration": 404,
    "start_time": "2021-07-29T13:31:17.756Z"
   },
   {
    "duration": 72443,
    "start_time": "2021-07-29T13:31:34.236Z"
   },
   {
    "duration": 5,
    "start_time": "2021-07-29T13:33:20.703Z"
   },
   {
    "duration": 151,
    "start_time": "2021-07-29T13:37:22.516Z"
   },
   {
    "duration": 3,
    "start_time": "2021-07-29T13:38:18.073Z"
   },
   {
    "duration": 409,
    "start_time": "2021-07-29T13:38:51.194Z"
   },
   {
    "duration": 8,
    "start_time": "2021-07-29T13:39:02.328Z"
   },
   {
    "duration": 1004,
    "start_time": "2021-07-29T13:39:44.375Z"
   },
   {
    "duration": -161,
    "start_time": "2021-07-29T13:39:45.544Z"
   },
   {
    "duration": 4,
    "start_time": "2021-07-29T13:40:01.787Z"
   },
   {
    "duration": 3052,
    "start_time": "2021-07-29T13:40:03.160Z"
   },
   {
    "duration": 3148,
    "start_time": "2021-07-29T13:40:57.243Z"
   },
   {
    "duration": 4,
    "start_time": "2021-07-29T13:41:36.486Z"
   },
   {
    "duration": 5,
    "start_time": "2021-07-29T13:41:52.270Z"
   },
   {
    "duration": 12547,
    "start_time": "2021-07-29T13:42:25.751Z"
   },
   {
    "duration": 13107,
    "start_time": "2021-07-29T13:42:38.301Z"
   },
   {
    "duration": 558,
    "start_time": "2021-07-29T13:50:06.321Z"
   },
   {
    "duration": 6,
    "start_time": "2021-07-29T13:50:16.121Z"
   },
   {
    "duration": 14,
    "start_time": "2021-07-29T13:50:48.473Z"
   },
   {
    "duration": 13,
    "start_time": "2021-07-29T13:51:51.715Z"
   },
   {
    "duration": 7,
    "start_time": "2021-07-29T13:52:52.913Z"
   },
   {
    "duration": 20,
    "start_time": "2021-07-29T13:52:53.239Z"
   },
   {
    "duration": 20,
    "start_time": "2021-07-29T13:52:53.606Z"
   },
   {
    "duration": 6,
    "start_time": "2021-07-29T13:52:54.345Z"
   },
   {
    "duration": 5,
    "start_time": "2021-07-29T13:55:11.978Z"
   },
   {
    "duration": 9,
    "start_time": "2021-07-29T13:57:24.760Z"
   },
   {
    "duration": 9,
    "start_time": "2021-07-29T13:57:53.675Z"
   },
   {
    "duration": 5,
    "start_time": "2021-07-29T13:59:21.338Z"
   },
   {
    "duration": 1562,
    "start_time": "2021-07-29T13:59:53.729Z"
   },
   {
    "duration": 3,
    "start_time": "2021-07-29T13:59:55.294Z"
   },
   {
    "duration": 913,
    "start_time": "2021-07-29T13:59:55.300Z"
   },
   {
    "duration": 62,
    "start_time": "2021-07-29T13:59:56.216Z"
   },
   {
    "duration": 40,
    "start_time": "2021-07-29T13:59:56.280Z"
   },
   {
    "duration": 80,
    "start_time": "2021-07-29T13:59:56.323Z"
   },
   {
    "duration": 5,
    "start_time": "2021-07-29T13:59:56.406Z"
   },
   {
    "duration": 15,
    "start_time": "2021-07-29T13:59:56.416Z"
   },
   {
    "duration": 34,
    "start_time": "2021-07-29T13:59:56.433Z"
   },
   {
    "duration": 7,
    "start_time": "2021-07-29T13:59:56.469Z"
   },
   {
    "duration": 16,
    "start_time": "2021-07-29T13:59:56.478Z"
   },
   {
    "duration": 35,
    "start_time": "2021-07-29T13:59:56.496Z"
   },
   {
    "duration": 62,
    "start_time": "2021-07-29T13:59:56.533Z"
   },
   {
    "duration": 9,
    "start_time": "2021-07-29T13:59:56.598Z"
   },
   {
    "duration": 57,
    "start_time": "2021-07-29T13:59:56.610Z"
   },
   {
    "duration": 32,
    "start_time": "2021-07-29T13:59:56.670Z"
   },
   {
    "duration": 11,
    "start_time": "2021-07-29T13:59:56.704Z"
   },
   {
    "duration": 15,
    "start_time": "2021-07-29T13:59:56.717Z"
   },
   {
    "duration": 9,
    "start_time": "2021-07-29T13:59:56.767Z"
   },
   {
    "duration": 11,
    "start_time": "2021-07-29T13:59:56.779Z"
   },
   {
    "duration": 16,
    "start_time": "2021-07-29T13:59:56.793Z"
   },
   {
    "duration": 60,
    "start_time": "2021-07-29T13:59:56.811Z"
   },
   {
    "duration": 325,
    "start_time": "2021-07-29T13:59:56.876Z"
   },
   {
    "duration": 5,
    "start_time": "2021-07-29T13:59:57.204Z"
   },
   {
    "duration": 9,
    "start_time": "2021-07-29T13:59:57.212Z"
   },
   {
    "duration": 9,
    "start_time": "2021-07-29T13:59:57.224Z"
   },
   {
    "duration": 10,
    "start_time": "2021-07-29T13:59:57.266Z"
   },
   {
    "duration": 775,
    "start_time": "2021-07-29T13:59:57.279Z"
   },
   {
    "duration": 19,
    "start_time": "2021-07-29T13:59:58.057Z"
   },
   {
    "duration": 7,
    "start_time": "2021-07-29T13:59:58.079Z"
   },
   {
    "duration": 22,
    "start_time": "2021-07-29T13:59:58.089Z"
   },
   {
    "duration": 480,
    "start_time": "2021-07-29T13:59:58.113Z"
   },
   {
    "duration": 34,
    "start_time": "2021-07-29T13:59:58.596Z"
   },
   {
    "duration": 1711,
    "start_time": "2021-07-29T13:59:58.632Z"
   },
   {
    "duration": 48,
    "start_time": "2021-07-29T14:00:00.346Z"
   },
   {
    "duration": 35,
    "start_time": "2021-07-29T14:00:00.397Z"
   },
   {
    "duration": 38,
    "start_time": "2021-07-29T14:00:00.435Z"
   },
   {
    "duration": 12,
    "start_time": "2021-07-29T14:00:00.476Z"
   },
   {
    "duration": 39,
    "start_time": "2021-07-29T14:00:00.491Z"
   },
   {
    "duration": 21,
    "start_time": "2021-07-29T14:00:00.532Z"
   },
   {
    "duration": 21,
    "start_time": "2021-07-29T14:00:00.556Z"
   },
   {
    "duration": 42,
    "start_time": "2021-07-29T14:00:00.579Z"
   },
   {
    "duration": 33,
    "start_time": "2021-07-29T14:00:00.624Z"
   },
   {
    "duration": 17,
    "start_time": "2021-07-29T14:00:00.659Z"
   },
   {
    "duration": 289,
    "start_time": "2021-07-29T14:00:00.678Z"
   },
   {
    "duration": 397,
    "start_time": "2021-07-29T14:00:00.970Z"
   },
   {
    "duration": 6,
    "start_time": "2021-07-29T14:00:01.371Z"
   },
   {
    "duration": 1391,
    "start_time": "2021-07-29T14:00:01.380Z"
   },
   {
    "duration": 1793,
    "start_time": "2021-07-29T14:00:02.774Z"
   },
   {
    "duration": 4,
    "start_time": "2021-07-29T14:00:04.570Z"
   },
   {
    "duration": 70152,
    "start_time": "2021-07-29T14:00:04.577Z"
   },
   {
    "duration": 5,
    "start_time": "2021-07-29T14:01:14.731Z"
   },
   {
    "duration": 8,
    "start_time": "2021-07-29T14:01:14.738Z"
   },
   {
    "duration": 3072,
    "start_time": "2021-07-29T14:01:14.748Z"
   },
   {
    "duration": 3102,
    "start_time": "2021-07-29T14:01:17.823Z"
   },
   {
    "duration": 4,
    "start_time": "2021-07-29T14:01:20.927Z"
   },
   {
    "duration": 12034,
    "start_time": "2021-07-29T14:01:20.933Z"
   },
   {
    "duration": 12120,
    "start_time": "2021-07-29T14:01:32.969Z"
   },
   {
    "duration": 6,
    "start_time": "2021-07-29T14:01:45.091Z"
   },
   {
    "duration": 20,
    "start_time": "2021-07-29T14:01:45.100Z"
   },
   {
    "duration": 12,
    "start_time": "2021-07-29T14:01:45.122Z"
   },
   {
    "duration": 32,
    "start_time": "2021-07-29T14:01:45.136Z"
   },
   {
    "duration": 6,
    "start_time": "2021-07-29T14:17:57.964Z"
   },
   {
    "duration": 4,
    "start_time": "2021-07-29T14:18:51.668Z"
   },
   {
    "duration": 541,
    "start_time": "2021-07-29T14:18:52.342Z"
   },
   {
    "duration": 5,
    "start_time": "2021-07-29T14:19:06.139Z"
   },
   {
    "duration": 4591,
    "start_time": "2021-07-29T14:19:06.703Z"
   },
   {
    "duration": 5976,
    "start_time": "2021-07-29T14:19:13.873Z"
   },
   {
    "duration": 430,
    "start_time": "2021-07-29T14:27:28.985Z"
   },
   {
    "duration": 5,
    "start_time": "2021-07-29T14:27:33.983Z"
   },
   {
    "duration": 6,
    "start_time": "2021-07-29T14:27:35.482Z"
   },
   {
    "duration": 3,
    "start_time": "2021-07-29T14:32:01.475Z"
   },
   {
    "duration": 429,
    "start_time": "2021-07-29T14:32:27.910Z"
   },
   {
    "duration": 3,
    "start_time": "2021-07-29T14:34:05.966Z"
   },
   {
    "duration": 426,
    "start_time": "2021-07-29T14:34:10.671Z"
   },
   {
    "duration": 399,
    "start_time": "2021-07-29T14:34:26.052Z"
   },
   {
    "duration": 6,
    "start_time": "2021-07-29T14:35:05.148Z"
   },
   {
    "duration": 3,
    "start_time": "2021-07-29T14:35:24.983Z"
   },
   {
    "duration": 3,
    "start_time": "2021-07-29T14:35:33.487Z"
   },
   {
    "duration": 444,
    "start_time": "2021-07-29T14:35:40.342Z"
   },
   {
    "duration": 4,
    "start_time": "2021-07-29T14:35:48.135Z"
   },
   {
    "duration": 581,
    "start_time": "2021-07-29T14:35:51.266Z"
   },
   {
    "duration": 3,
    "start_time": "2021-07-29T14:37:15.974Z"
   },
   {
    "duration": 399,
    "start_time": "2021-07-29T14:37:18.716Z"
   },
   {
    "duration": 1232,
    "start_time": "2021-07-29T14:38:02.440Z"
   },
   {
    "duration": 4,
    "start_time": "2021-07-29T14:38:50.822Z"
   },
   {
    "duration": 7,
    "start_time": "2021-07-29T14:44:05.988Z"
   },
   {
    "duration": 424,
    "start_time": "2021-07-29T14:44:09.902Z"
   },
   {
    "duration": 6,
    "start_time": "2021-07-29T14:44:14.981Z"
   },
   {
    "duration": 6,
    "start_time": "2021-07-29T14:57:00.932Z"
   },
   {
    "duration": 5,
    "start_time": "2021-07-29T14:57:33.355Z"
   },
   {
    "duration": 9,
    "start_time": "2021-07-29T15:01:21.902Z"
   },
   {
    "duration": 395,
    "start_time": "2021-07-29T15:02:17.128Z"
   },
   {
    "duration": 5,
    "start_time": "2021-07-29T15:02:31.289Z"
   },
   {
    "duration": 15,
    "start_time": "2021-07-29T15:02:32.590Z"
   },
   {
    "duration": 14,
    "start_time": "2021-07-29T15:02:33.009Z"
   },
   {
    "duration": 3,
    "start_time": "2021-07-29T15:02:33.654Z"
   },
   {
    "duration": 455,
    "start_time": "2021-07-29T15:02:37.075Z"
   },
   {
    "duration": 6,
    "start_time": "2021-07-29T15:05:11.634Z"
   },
   {
    "duration": 6,
    "start_time": "2021-07-29T15:05:38.027Z"
   },
   {
    "duration": 1588,
    "start_time": "2021-07-29T15:05:55.251Z"
   },
   {
    "duration": 4,
    "start_time": "2021-07-29T15:05:56.842Z"
   },
   {
    "duration": 950,
    "start_time": "2021-07-29T15:05:56.849Z"
   },
   {
    "duration": 71,
    "start_time": "2021-07-29T15:05:57.802Z"
   },
   {
    "duration": 48,
    "start_time": "2021-07-29T15:05:57.877Z"
   },
   {
    "duration": 89,
    "start_time": "2021-07-29T15:05:57.928Z"
   },
   {
    "duration": 6,
    "start_time": "2021-07-29T15:05:58.020Z"
   },
   {
    "duration": 52,
    "start_time": "2021-07-29T15:05:58.032Z"
   },
   {
    "duration": 11,
    "start_time": "2021-07-29T15:05:58.088Z"
   },
   {
    "duration": 7,
    "start_time": "2021-07-29T15:05:58.103Z"
   },
   {
    "duration": 17,
    "start_time": "2021-07-29T15:05:58.113Z"
   },
   {
    "duration": 73,
    "start_time": "2021-07-29T15:05:58.133Z"
   },
   {
    "duration": 33,
    "start_time": "2021-07-29T15:05:58.209Z"
   },
   {
    "duration": 10,
    "start_time": "2021-07-29T15:05:58.273Z"
   },
   {
    "duration": 41,
    "start_time": "2021-07-29T15:05:58.285Z"
   },
   {
    "duration": 60,
    "start_time": "2021-07-29T15:05:58.328Z"
   },
   {
    "duration": 13,
    "start_time": "2021-07-29T15:05:58.391Z"
   },
   {
    "duration": 16,
    "start_time": "2021-07-29T15:05:58.407Z"
   },
   {
    "duration": 56,
    "start_time": "2021-07-29T15:05:58.426Z"
   },
   {
    "duration": 12,
    "start_time": "2021-07-29T15:05:58.485Z"
   },
   {
    "duration": 18,
    "start_time": "2021-07-29T15:05:58.500Z"
   },
   {
    "duration": 62,
    "start_time": "2021-07-29T15:05:58.521Z"
   },
   {
    "duration": 368,
    "start_time": "2021-07-29T15:05:58.588Z"
   },
   {
    "duration": 12,
    "start_time": "2021-07-29T15:05:58.959Z"
   },
   {
    "duration": 10,
    "start_time": "2021-07-29T15:05:58.975Z"
   },
   {
    "duration": 8,
    "start_time": "2021-07-29T15:05:58.987Z"
   },
   {
    "duration": 11,
    "start_time": "2021-07-29T15:05:58.997Z"
   },
   {
    "duration": 876,
    "start_time": "2021-07-29T15:05:59.011Z"
   },
   {
    "duration": 12,
    "start_time": "2021-07-29T15:05:59.890Z"
   },
   {
    "duration": 9,
    "start_time": "2021-07-29T15:05:59.905Z"
   },
   {
    "duration": 29,
    "start_time": "2021-07-29T15:05:59.917Z"
   },
   {
    "duration": 490,
    "start_time": "2021-07-29T15:05:59.968Z"
   },
   {
    "duration": 43,
    "start_time": "2021-07-29T15:06:00.461Z"
   },
   {
    "duration": 1898,
    "start_time": "2021-07-29T15:06:00.507Z"
   },
   {
    "duration": 39,
    "start_time": "2021-07-29T15:06:02.407Z"
   },
   {
    "duration": 58,
    "start_time": "2021-07-29T15:06:02.448Z"
   },
   {
    "duration": 16,
    "start_time": "2021-07-29T15:06:02.508Z"
   },
   {
    "duration": 40,
    "start_time": "2021-07-29T15:06:02.527Z"
   },
   {
    "duration": 5,
    "start_time": "2021-07-29T15:06:02.569Z"
   },
   {
    "duration": 25,
    "start_time": "2021-07-29T15:06:02.576Z"
   },
   {
    "duration": 16,
    "start_time": "2021-07-29T15:06:02.604Z"
   },
   {
    "duration": 35,
    "start_time": "2021-07-29T15:06:02.622Z"
   },
   {
    "duration": 23,
    "start_time": "2021-07-29T15:06:02.660Z"
   },
   {
    "duration": 7,
    "start_time": "2021-07-29T15:06:02.686Z"
   },
   {
    "duration": 194,
    "start_time": "2021-07-29T15:06:02.696Z"
   },
   {
    "duration": 508,
    "start_time": "2021-07-29T15:06:02.976Z"
   },
   {
    "duration": 89,
    "start_time": "2021-07-29T15:06:03.488Z"
   },
   {
    "duration": 1793,
    "start_time": "2021-07-29T15:06:03.585Z"
   },
   {
    "duration": 4,
    "start_time": "2021-07-29T15:06:05.381Z"
   },
   {
    "duration": 75207,
    "start_time": "2021-07-29T15:06:05.388Z"
   },
   {
    "duration": 6,
    "start_time": "2021-07-29T15:07:20.598Z"
   },
   {
    "duration": 6,
    "start_time": "2021-07-29T15:07:20.606Z"
   },
   {
    "duration": 4281,
    "start_time": "2021-07-29T15:07:20.615Z"
   },
   {
    "duration": 4407,
    "start_time": "2021-07-29T15:07:24.898Z"
   },
   {
    "duration": 4,
    "start_time": "2021-07-29T15:07:29.308Z"
   },
   {
    "duration": 16,
    "start_time": "2021-07-29T15:07:29.315Z"
   },
   {
    "duration": 37,
    "start_time": "2021-07-29T15:07:29.334Z"
   },
   {
    "duration": 19,
    "start_time": "2021-07-29T15:07:29.374Z"
   },
   {
    "duration": 5,
    "start_time": "2021-07-29T15:07:29.395Z"
   },
   {
    "duration": 10,
    "start_time": "2021-07-29T15:07:29.403Z"
   },
   {
    "duration": 8,
    "start_time": "2021-07-29T15:07:29.416Z"
   },
   {
    "duration": 45,
    "start_time": "2021-07-29T15:07:29.427Z"
   },
   {
    "duration": 5,
    "start_time": "2021-07-29T15:08:26.337Z"
   },
   {
    "duration": 5,
    "start_time": "2021-07-29T15:08:29.833Z"
   },
   {
    "duration": 1697,
    "start_time": "2021-07-29T15:08:38.663Z"
   },
   {
    "duration": 6,
    "start_time": "2021-07-29T15:08:40.372Z"
   },
   {
    "duration": 1019,
    "start_time": "2021-07-29T15:08:40.381Z"
   },
   {
    "duration": 71,
    "start_time": "2021-07-29T15:08:41.403Z"
   },
   {
    "duration": 48,
    "start_time": "2021-07-29T15:08:41.478Z"
   },
   {
    "duration": 88,
    "start_time": "2021-07-29T15:08:41.529Z"
   },
   {
    "duration": 4,
    "start_time": "2021-07-29T15:08:41.623Z"
   },
   {
    "duration": 18,
    "start_time": "2021-07-29T15:08:41.631Z"
   },
   {
    "duration": 17,
    "start_time": "2021-07-29T15:08:41.668Z"
   },
   {
    "duration": 9,
    "start_time": "2021-07-29T15:08:41.687Z"
   },
   {
    "duration": 21,
    "start_time": "2021-07-29T15:08:41.698Z"
   },
   {
    "duration": 66,
    "start_time": "2021-07-29T15:08:41.721Z"
   },
   {
    "duration": 33,
    "start_time": "2021-07-29T15:08:41.790Z"
   },
   {
    "duration": 10,
    "start_time": "2021-07-29T15:08:41.826Z"
   },
   {
    "duration": 59,
    "start_time": "2021-07-29T15:08:41.839Z"
   },
   {
    "duration": 31,
    "start_time": "2021-07-29T15:08:41.900Z"
   },
   {
    "duration": 48,
    "start_time": "2021-07-29T15:08:41.933Z"
   },
   {
    "duration": 16,
    "start_time": "2021-07-29T15:08:41.985Z"
   },
   {
    "duration": 9,
    "start_time": "2021-07-29T15:08:42.003Z"
   },
   {
    "duration": 17,
    "start_time": "2021-07-29T15:08:42.015Z"
   },
   {
    "duration": 19,
    "start_time": "2021-07-29T15:08:42.071Z"
   },
   {
    "duration": 20,
    "start_time": "2021-07-29T15:08:42.097Z"
   },
   {
    "duration": 365,
    "start_time": "2021-07-29T15:08:42.121Z"
   },
   {
    "duration": 6,
    "start_time": "2021-07-29T15:08:42.489Z"
   },
   {
    "duration": 20,
    "start_time": "2021-07-29T15:08:42.498Z"
   },
   {
    "duration": 9,
    "start_time": "2021-07-29T15:08:42.521Z"
   },
   {
    "duration": 12,
    "start_time": "2021-07-29T15:08:42.532Z"
   },
   {
    "duration": 863,
    "start_time": "2021-07-29T15:08:42.583Z"
   },
   {
    "duration": 20,
    "start_time": "2021-07-29T15:08:43.449Z"
   },
   {
    "duration": 18,
    "start_time": "2021-07-29T15:08:43.473Z"
   },
   {
    "duration": 24,
    "start_time": "2021-07-29T15:08:43.493Z"
   },
   {
    "duration": 504,
    "start_time": "2021-07-29T15:08:43.519Z"
   },
   {
    "duration": 46,
    "start_time": "2021-07-29T15:08:44.025Z"
   },
   {
    "duration": 1833,
    "start_time": "2021-07-29T15:08:44.075Z"
   },
   {
    "duration": 60,
    "start_time": "2021-07-29T15:08:45.911Z"
   },
   {
    "duration": 38,
    "start_time": "2021-07-29T15:08:45.974Z"
   },
   {
    "duration": 17,
    "start_time": "2021-07-29T15:08:46.015Z"
   },
   {
    "duration": 57,
    "start_time": "2021-07-29T15:08:46.035Z"
   },
   {
    "duration": 5,
    "start_time": "2021-07-29T15:08:46.094Z"
   },
   {
    "duration": 7,
    "start_time": "2021-07-29T15:08:46.103Z"
   },
   {
    "duration": 8,
    "start_time": "2021-07-29T15:08:46.113Z"
   },
   {
    "duration": 49,
    "start_time": "2021-07-29T15:08:46.123Z"
   },
   {
    "duration": 18,
    "start_time": "2021-07-29T15:08:46.175Z"
   },
   {
    "duration": 5,
    "start_time": "2021-07-29T15:08:46.195Z"
   },
   {
    "duration": 495,
    "start_time": "2021-07-29T15:08:46.202Z"
   },
   {
    "duration": 306,
    "start_time": "2021-07-29T15:08:46.773Z"
   },
   {
    "duration": 86,
    "start_time": "2021-07-29T15:08:47.083Z"
   },
   {
    "duration": 2308,
    "start_time": "2021-07-29T15:08:47.174Z"
   },
   {
    "duration": 8,
    "start_time": "2021-07-29T15:08:49.566Z"
   },
   {
    "duration": 73895,
    "start_time": "2021-07-29T15:08:49.578Z"
   },
   {
    "duration": 8,
    "start_time": "2021-07-29T15:10:03.476Z"
   },
   {
    "duration": 13,
    "start_time": "2021-07-29T15:10:03.487Z"
   },
   {
    "duration": 3217,
    "start_time": "2021-07-29T15:10:03.503Z"
   },
   {
    "duration": 3297,
    "start_time": "2021-07-29T15:10:06.723Z"
   },
   {
    "duration": 5,
    "start_time": "2021-07-29T15:10:10.023Z"
   },
   {
    "duration": 14,
    "start_time": "2021-07-29T15:10:10.031Z"
   },
   {
    "duration": 32,
    "start_time": "2021-07-29T15:10:10.048Z"
   },
   {
    "duration": 14,
    "start_time": "2021-07-29T15:10:10.083Z"
   },
   {
    "duration": 5,
    "start_time": "2021-07-29T15:10:10.099Z"
   },
   {
    "duration": 15,
    "start_time": "2021-07-29T15:10:10.106Z"
   },
   {
    "duration": 44,
    "start_time": "2021-07-29T15:10:10.123Z"
   },
   {
    "duration": 6,
    "start_time": "2021-07-29T15:10:10.169Z"
   },
   {
    "duration": 102,
    "start_time": "2021-07-29T19:45:20.151Z"
   },
   {
    "duration": 1553,
    "start_time": "2021-07-30T08:40:36.668Z"
   },
   {
    "duration": 4,
    "start_time": "2021-07-30T08:40:48.461Z"
   },
   {
    "duration": 898,
    "start_time": "2021-07-30T08:40:56.037Z"
   },
   {
    "duration": 69,
    "start_time": "2021-07-30T08:40:56.937Z"
   },
   {
    "duration": 38,
    "start_time": "2021-07-30T08:40:59.415Z"
   },
   {
    "duration": 49,
    "start_time": "2021-07-30T08:41:01.836Z"
   },
   {
    "duration": 4,
    "start_time": "2021-07-30T08:41:12.153Z"
   },
   {
    "duration": 19,
    "start_time": "2021-07-30T08:41:18.895Z"
   },
   {
    "duration": 170,
    "start_time": "2021-07-30T09:03:23.109Z"
   },
   {
    "duration": 539,
    "start_time": "2021-07-30T09:32:26.677Z"
   },
   {
    "duration": 10,
    "start_time": "2021-07-30T09:32:31.890Z"
   },
   {
    "duration": 7,
    "start_time": "2021-07-30T09:32:35.017Z"
   },
   {
    "duration": 14,
    "start_time": "2021-07-30T09:32:43.785Z"
   },
   {
    "duration": 36,
    "start_time": "2021-07-30T09:32:45.591Z"
   },
   {
    "duration": 31,
    "start_time": "2021-07-30T09:32:49.022Z"
   },
   {
    "duration": 12,
    "start_time": "2021-07-30T09:32:55.787Z"
   },
   {
    "duration": 31,
    "start_time": "2021-07-30T09:33:03.688Z"
   },
   {
    "duration": 29,
    "start_time": "2021-07-30T09:33:04.496Z"
   },
   {
    "duration": 10,
    "start_time": "2021-07-30T09:33:09.103Z"
   },
   {
    "duration": 14,
    "start_time": "2021-07-30T09:33:09.563Z"
   },
   {
    "duration": 11,
    "start_time": "2021-07-30T09:33:21.042Z"
   },
   {
    "duration": 12,
    "start_time": "2021-07-30T09:33:23.230Z"
   },
   {
    "duration": 15,
    "start_time": "2021-07-30T09:33:25.480Z"
   },
   {
    "duration": 20,
    "start_time": "2021-07-30T09:33:27.332Z"
   },
   {
    "duration": 295,
    "start_time": "2021-07-30T09:33:35.734Z"
   },
   {
    "duration": 4,
    "start_time": "2021-07-30T09:35:16.166Z"
   },
   {
    "duration": 7,
    "start_time": "2021-07-30T09:35:19.796Z"
   },
   {
    "duration": 8,
    "start_time": "2021-07-30T09:35:20.682Z"
   },
   {
    "duration": 9,
    "start_time": "2021-07-30T09:35:21.462Z"
   },
   {
    "duration": 6,
    "start_time": "2021-07-30T10:05:20.038Z"
   },
   {
    "duration": 285,
    "start_time": "2021-07-30T10:05:22.387Z"
   },
   {
    "duration": 5,
    "start_time": "2021-07-30T10:05:42.633Z"
   },
   {
    "duration": 279,
    "start_time": "2021-07-30T10:05:43.879Z"
   },
   {
    "duration": 6,
    "start_time": "2021-07-30T10:06:01.345Z"
   },
   {
    "duration": 264,
    "start_time": "2021-07-30T10:06:02.404Z"
   },
   {
    "duration": 6,
    "start_time": "2021-07-30T10:07:22.479Z"
   },
   {
    "duration": 752,
    "start_time": "2021-07-30T10:07:23.686Z"
   },
   {
    "duration": 8,
    "start_time": "2021-07-30T10:07:34.399Z"
   },
   {
    "duration": 734,
    "start_time": "2021-07-30T10:07:35.666Z"
   },
   {
    "duration": 561,
    "start_time": "2021-07-30T10:08:00.931Z"
   },
   {
    "duration": 14,
    "start_time": "2021-07-30T10:09:58.689Z"
   },
   {
    "duration": 320,
    "start_time": "2021-07-30T10:10:00.073Z"
   },
   {
    "duration": 291,
    "start_time": "2021-07-30T10:10:14.147Z"
   },
   {
    "duration": 7,
    "start_time": "2021-07-30T10:11:47.631Z"
   },
   {
    "duration": 272,
    "start_time": "2021-07-30T10:11:48.786Z"
   },
   {
    "duration": 9,
    "start_time": "2021-07-30T10:14:01.682Z"
   },
   {
    "duration": 1216,
    "start_time": "2021-07-30T10:14:03.322Z"
   },
   {
    "duration": 11,
    "start_time": "2021-07-30T10:16:54.783Z"
   },
   {
    "duration": 298,
    "start_time": "2021-07-30T10:16:56.028Z"
   },
   {
    "duration": 7,
    "start_time": "2021-07-30T10:18:18.125Z"
   },
   {
    "duration": 274,
    "start_time": "2021-07-30T10:18:19.291Z"
   },
   {
    "duration": 8,
    "start_time": "2021-07-30T10:18:28.958Z"
   },
   {
    "duration": 303,
    "start_time": "2021-07-30T10:18:29.912Z"
   },
   {
    "duration": 6,
    "start_time": "2021-07-30T10:18:49.155Z"
   },
   {
    "duration": 286,
    "start_time": "2021-07-30T10:18:50.053Z"
   },
   {
    "duration": 8,
    "start_time": "2021-07-30T10:18:57.959Z"
   },
   {
    "duration": 287,
    "start_time": "2021-07-30T10:18:59.037Z"
   },
   {
    "duration": 6,
    "start_time": "2021-07-30T10:19:57.828Z"
   },
   {
    "duration": 1179,
    "start_time": "2021-07-30T10:19:58.764Z"
   },
   {
    "duration": 6,
    "start_time": "2021-07-30T10:20:09.468Z"
   },
   {
    "duration": 1640,
    "start_time": "2021-07-30T10:20:10.450Z"
   },
   {
    "duration": 6,
    "start_time": "2021-07-30T10:20:51.946Z"
   },
   {
    "duration": 217,
    "start_time": "2021-07-30T10:20:53.500Z"
   },
   {
    "duration": 7,
    "start_time": "2021-07-30T10:21:27.911Z"
   },
   {
    "duration": 982,
    "start_time": "2021-07-30T10:21:30.211Z"
   },
   {
    "duration": 8,
    "start_time": "2021-07-30T10:22:43.318Z"
   },
   {
    "duration": 210,
    "start_time": "2021-07-30T10:22:44.613Z"
   },
   {
    "duration": 6,
    "start_time": "2021-07-30T10:23:42.931Z"
   },
   {
    "duration": 200,
    "start_time": "2021-07-30T10:23:44.829Z"
   },
   {
    "duration": 7,
    "start_time": "2021-07-30T10:24:10.638Z"
   },
   {
    "duration": 413,
    "start_time": "2021-07-30T10:24:12.569Z"
   },
   {
    "duration": 8,
    "start_time": "2021-07-30T10:24:19.690Z"
   },
   {
    "duration": 256,
    "start_time": "2021-07-30T10:24:20.543Z"
   },
   {
    "duration": 9,
    "start_time": "2021-07-30T10:25:01.190Z"
   },
   {
    "duration": 259,
    "start_time": "2021-07-30T10:25:02.199Z"
   },
   {
    "duration": 259,
    "start_time": "2021-07-30T10:25:12.658Z"
   },
   {
    "duration": 276,
    "start_time": "2021-07-30T10:25:26.112Z"
   },
   {
    "duration": 21,
    "start_time": "2021-07-30T10:54:54.931Z"
   },
   {
    "duration": 851,
    "start_time": "2021-07-30T10:57:24.194Z"
   },
   {
    "duration": 927,
    "start_time": "2021-07-30T10:57:47.134Z"
   },
   {
    "duration": 382,
    "start_time": "2021-07-30T11:01:59.798Z"
   },
   {
    "duration": 15,
    "start_time": "2021-07-30T11:02:33.106Z"
   },
   {
    "duration": 8,
    "start_time": "2021-07-30T11:02:34.518Z"
   },
   {
    "duration": 23,
    "start_time": "2021-07-30T11:02:36.275Z"
   },
   {
    "duration": 495,
    "start_time": "2021-07-30T11:02:38.765Z"
   },
   {
    "duration": 46,
    "start_time": "2021-07-30T11:02:41.590Z"
   },
   {
    "duration": 1807,
    "start_time": "2021-07-30T11:02:42.763Z"
   },
   {
    "duration": 38,
    "start_time": "2021-07-30T11:02:50.837Z"
   },
   {
    "duration": 36,
    "start_time": "2021-07-30T11:02:51.594Z"
   },
   {
    "duration": 28,
    "start_time": "2021-07-30T11:02:53.889Z"
   },
   {
    "duration": 14,
    "start_time": "2021-07-30T11:02:56.920Z"
   },
   {
    "duration": 4,
    "start_time": "2021-07-30T11:10:42.957Z"
   },
   {
    "duration": 4,
    "start_time": "2021-07-30T11:10:48.851Z"
   },
   {
    "duration": 4,
    "start_time": "2021-07-30T11:11:22.773Z"
   },
   {
    "duration": 19,
    "start_time": "2021-07-30T11:11:25.003Z"
   },
   {
    "duration": 23,
    "start_time": "2021-07-30T11:11:25.398Z"
   },
   {
    "duration": 6,
    "start_time": "2021-07-30T11:11:26.415Z"
   },
   {
    "duration": 561,
    "start_time": "2021-07-30T11:11:30.459Z"
   },
   {
    "duration": 337,
    "start_time": "2021-07-30T11:11:45.057Z"
   },
   {
    "duration": 4,
    "start_time": "2021-07-30T11:11:50.465Z"
   },
   {
    "duration": 4,
    "start_time": "2021-07-30T11:14:56.369Z"
   },
   {
    "duration": 3,
    "start_time": "2021-07-30T11:17:32.970Z"
   },
   {
    "duration": 7,
    "start_time": "2021-07-30T11:17:35.694Z"
   },
   {
    "duration": 4,
    "start_time": "2021-07-30T11:17:36.306Z"
   },
   {
    "duration": 4,
    "start_time": "2021-07-30T11:17:37.572Z"
   },
   {
    "duration": 6,
    "start_time": "2021-07-30T11:17:57.500Z"
   },
   {
    "duration": 22,
    "start_time": "2021-07-30T11:17:58.202Z"
   },
   {
    "duration": 17,
    "start_time": "2021-07-30T11:17:58.790Z"
   },
   {
    "duration": 4,
    "start_time": "2021-07-30T11:18:02.022Z"
   },
   {
    "duration": 655,
    "start_time": "2021-07-30T11:18:12.334Z"
   },
   {
    "duration": 166,
    "start_time": "2021-07-30T11:18:36.945Z"
   },
   {
    "duration": 13,
    "start_time": "2021-07-30T11:18:37.584Z"
   },
   {
    "duration": 385,
    "start_time": "2021-07-30T11:18:44.140Z"
   },
   {
    "duration": 385,
    "start_time": "2021-07-30T11:19:15.123Z"
   },
   {
    "duration": 410,
    "start_time": "2021-07-30T11:20:24.521Z"
   },
   {
    "duration": 11,
    "start_time": "2021-07-30T11:20:32.204Z"
   },
   {
    "duration": 77217,
    "start_time": "2021-07-30T11:20:32.829Z"
   },
   {
    "duration": 74782,
    "start_time": "2021-07-30T11:26:51.945Z"
   },
   {
    "duration": 11246,
    "start_time": "2021-07-30T11:30:02.015Z"
   },
   {
    "duration": 5,
    "start_time": "2021-07-30T11:31:20.029Z"
   },
   {
    "duration": 4,
    "start_time": "2021-07-30T11:31:22.056Z"
   },
   {
    "duration": 5,
    "start_time": "2021-07-30T11:31:22.290Z"
   },
   {
    "duration": 4,
    "start_time": "2021-07-30T11:31:24.846Z"
   },
   {
    "duration": 30,
    "start_time": "2021-07-30T11:31:25.097Z"
   },
   {
    "duration": 15,
    "start_time": "2021-07-30T11:31:25.327Z"
   },
   {
    "duration": 4,
    "start_time": "2021-07-30T11:31:25.562Z"
   },
   {
    "duration": 190,
    "start_time": "2021-07-30T11:31:27.750Z"
   },
   {
    "duration": 1123,
    "start_time": "2021-07-30T11:31:28.061Z"
   },
   {
    "duration": 8,
    "start_time": "2021-07-30T11:31:29.188Z"
   },
   {
    "duration": 372,
    "start_time": "2021-07-30T11:31:30.776Z"
   },
   {
    "duration": 4,
    "start_time": "2021-07-30T11:31:36.787Z"
   },
   {
    "duration": 75965,
    "start_time": "2021-07-30T11:31:37.588Z"
   },
   {
    "duration": 4,
    "start_time": "2021-07-30T11:35:10.877Z"
   },
   {
    "duration": 4369,
    "start_time": "2021-07-30T11:35:13.561Z"
   },
   {
    "duration": 4375,
    "start_time": "2021-07-30T11:35:38.632Z"
   },
   {
    "duration": 4613,
    "start_time": "2021-07-30T11:36:05.701Z"
   },
   {
    "duration": 75024,
    "start_time": "2021-07-30T11:44:33.248Z"
   },
   {
    "duration": 17,
    "start_time": "2021-07-30T11:45:48.275Z"
   },
   {
    "duration": 164,
    "start_time": "2021-07-30T11:46:57.778Z"
   },
   {
    "duration": 7,
    "start_time": "2021-07-30T11:51:20.431Z"
   },
   {
    "duration": 22869,
    "start_time": "2021-07-30T11:51:22.120Z"
   },
   {
    "duration": 5,
    "start_time": "2021-07-30T11:53:53.264Z"
   },
   {
    "duration": 5,
    "start_time": "2021-07-30T11:54:21.214Z"
   },
   {
    "duration": 603,
    "start_time": "2021-07-30T11:54:29.091Z"
   },
   {
    "duration": 130,
    "start_time": "2021-07-30T11:54:41.462Z"
   },
   {
    "duration": 43,
    "start_time": "2021-07-30T11:55:04.650Z"
   },
   {
    "duration": 126,
    "start_time": "2021-07-30T11:55:23.961Z"
   },
   {
    "duration": 381,
    "start_time": "2021-07-30T11:55:46.338Z"
   },
   {
    "duration": 6,
    "start_time": "2021-07-30T11:56:25.891Z"
   },
   {
    "duration": 5,
    "start_time": "2021-07-30T12:09:19.809Z"
   },
   {
    "duration": 6,
    "start_time": "2021-07-30T12:14:22.532Z"
   },
   {
    "duration": 3,
    "start_time": "2021-07-30T12:14:23.071Z"
   },
   {
    "duration": 7,
    "start_time": "2021-07-30T12:14:25.268Z"
   },
   {
    "duration": 8,
    "start_time": "2021-07-30T12:14:59.485Z"
   },
   {
    "duration": 9,
    "start_time": "2021-07-30T12:21:30.139Z"
   },
   {
    "duration": 9,
    "start_time": "2021-07-30T12:23:24.874Z"
   },
   {
    "duration": 5,
    "start_time": "2021-07-30T12:23:56.277Z"
   },
   {
    "duration": 4,
    "start_time": "2021-07-30T12:24:07.351Z"
   },
   {
    "duration": 125,
    "start_time": "2021-07-30T12:26:35.695Z"
   },
   {
    "duration": 1569,
    "start_time": "2021-07-30T12:27:34.109Z"
   },
   {
    "duration": 4,
    "start_time": "2021-07-30T12:27:35.695Z"
   },
   {
    "duration": 1125,
    "start_time": "2021-07-30T12:27:35.703Z"
   },
   {
    "duration": 88,
    "start_time": "2021-07-30T12:27:36.831Z"
   },
   {
    "duration": 78,
    "start_time": "2021-07-30T12:27:36.922Z"
   },
   {
    "duration": 63,
    "start_time": "2021-07-30T12:27:37.003Z"
   },
   {
    "duration": 5,
    "start_time": "2021-07-30T12:27:37.082Z"
   },
   {
    "duration": 24,
    "start_time": "2021-07-30T12:27:37.090Z"
   },
   {
    "duration": 15,
    "start_time": "2021-07-30T12:27:37.117Z"
   },
   {
    "duration": 52,
    "start_time": "2021-07-30T12:27:37.136Z"
   },
   {
    "duration": 24,
    "start_time": "2021-07-30T12:27:37.191Z"
   },
   {
    "duration": 75,
    "start_time": "2021-07-30T12:27:37.218Z"
   },
   {
    "duration": 35,
    "start_time": "2021-07-30T12:27:37.296Z"
   },
   {
    "duration": 6,
    "start_time": "2021-07-30T12:27:37.335Z"
   },
   {
    "duration": 74,
    "start_time": "2021-07-30T12:27:37.344Z"
   },
   {
    "duration": 37,
    "start_time": "2021-07-30T12:27:37.421Z"
   },
   {
    "duration": 12,
    "start_time": "2021-07-30T12:27:37.482Z"
   },
   {
    "duration": 16,
    "start_time": "2021-07-30T12:27:37.497Z"
   },
   {
    "duration": 12,
    "start_time": "2021-07-30T12:27:37.516Z"
   },
   {
    "duration": 56,
    "start_time": "2021-07-30T12:27:37.532Z"
   },
   {
    "duration": 18,
    "start_time": "2021-07-30T12:27:37.591Z"
   },
   {
    "duration": 27,
    "start_time": "2021-07-30T12:27:37.614Z"
   },
   {
    "duration": 385,
    "start_time": "2021-07-30T12:27:37.649Z"
   },
   {
    "duration": 6,
    "start_time": "2021-07-30T12:27:38.039Z"
   },
   {
    "duration": 291,
    "start_time": "2021-07-30T12:27:38.048Z"
   },
   {
    "duration": 275,
    "start_time": "2021-07-30T12:27:38.342Z"
   },
   {
    "duration": 291,
    "start_time": "2021-07-30T12:27:38.619Z"
   },
   {
    "duration": 19,
    "start_time": "2021-07-30T12:27:38.913Z"
   },
   {
    "duration": 781,
    "start_time": "2021-07-30T12:27:38.934Z"
   },
   {
    "duration": 12,
    "start_time": "2021-07-30T12:27:39.719Z"
   },
   {
    "duration": 9,
    "start_time": "2021-07-30T12:27:39.734Z"
   },
   {
    "duration": 49,
    "start_time": "2021-07-30T12:27:39.745Z"
   },
   {
    "duration": 448,
    "start_time": "2021-07-30T12:27:39.797Z"
   },
   {
    "duration": 56,
    "start_time": "2021-07-30T12:27:40.248Z"
   },
   {
    "duration": 1652,
    "start_time": "2021-07-30T12:27:40.307Z"
   },
   {
    "duration": 55,
    "start_time": "2021-07-30T12:27:41.962Z"
   },
   {
    "duration": 33,
    "start_time": "2021-07-30T12:27:42.020Z"
   },
   {
    "duration": 42,
    "start_time": "2021-07-30T12:27:42.056Z"
   },
   {
    "duration": 13,
    "start_time": "2021-07-30T12:27:42.101Z"
   },
   {
    "duration": 5,
    "start_time": "2021-07-30T12:27:42.116Z"
   },
   {
    "duration": 5,
    "start_time": "2021-07-30T12:27:42.123Z"
   },
   {
    "duration": 5,
    "start_time": "2021-07-30T12:27:42.131Z"
   },
   {
    "duration": 47,
    "start_time": "2021-07-30T12:27:42.138Z"
   },
   {
    "duration": 22,
    "start_time": "2021-07-30T12:27:42.189Z"
   },
   {
    "duration": 14,
    "start_time": "2021-07-30T12:27:42.214Z"
   },
   {
    "duration": 3,
    "start_time": "2021-07-30T12:27:42.231Z"
   },
   {
    "duration": 5,
    "start_time": "2021-07-30T12:27:42.236Z"
   },
   {
    "duration": 14248,
    "start_time": "2021-07-30T12:27:42.244Z"
   },
   {
    "duration": 8,
    "start_time": "2021-07-30T12:27:56.496Z"
   },
   {
    "duration": 5,
    "start_time": "2021-07-30T12:27:56.585Z"
   },
   {
    "duration": 390,
    "start_time": "2021-07-30T12:27:56.593Z"
   },
   {
    "duration": 593,
    "start_time": "2021-07-30T12:27:56.994Z"
   },
   {
    "duration": 8,
    "start_time": "2021-07-30T12:27:57.590Z"
   },
   {
    "duration": 83,
    "start_time": "2021-07-30T12:27:57.601Z"
   },
   {
    "duration": 67766,
    "start_time": "2021-07-30T12:27:57.687Z"
   },
   {
    "duration": 9,
    "start_time": "2021-07-30T12:29:05.455Z"
   },
   {
    "duration": 17,
    "start_time": "2021-07-30T12:29:05.467Z"
   },
   {
    "duration": 3926,
    "start_time": "2021-07-30T12:29:05.488Z"
   },
   {
    "duration": 4190,
    "start_time": "2021-07-30T12:29:09.417Z"
   },
   {
    "duration": 4,
    "start_time": "2021-07-30T12:29:13.610Z"
   },
   {
    "duration": 9,
    "start_time": "2021-07-30T12:29:13.616Z"
   },
   {
    "duration": 5,
    "start_time": "2021-07-30T12:29:13.628Z"
   },
   {
    "duration": 12,
    "start_time": "2021-07-30T12:29:13.635Z"
   },
   {
    "duration": 39,
    "start_time": "2021-07-30T12:29:13.649Z"
   },
   {
    "duration": 6,
    "start_time": "2021-07-30T12:29:13.692Z"
   },
   {
    "duration": 17,
    "start_time": "2021-07-30T12:29:13.700Z"
   },
   {
    "duration": 15,
    "start_time": "2021-07-30T12:29:13.720Z"
   },
   {
    "duration": 7,
    "start_time": "2021-07-30T12:29:13.786Z"
   },
   {
    "duration": 5,
    "start_time": "2021-07-30T12:29:13.798Z"
   },
   {
    "duration": 8,
    "start_time": "2021-07-30T12:29:13.806Z"
   },
   {
    "duration": 5,
    "start_time": "2021-07-30T12:29:13.822Z"
   },
   {
    "duration": 4,
    "start_time": "2021-07-30T12:31:52.801Z"
   },
   {
    "duration": 10,
    "start_time": "2021-07-30T12:31:53.303Z"
   },
   {
    "duration": 9,
    "start_time": "2021-07-30T12:31:54.197Z"
   },
   {
    "duration": 5,
    "start_time": "2021-07-30T12:31:54.933Z"
   },
   {
    "duration": 4,
    "start_time": "2021-07-30T12:32:01.481Z"
   },
   {
    "duration": 8,
    "start_time": "2021-07-30T12:32:01.972Z"
   },
   {
    "duration": 9,
    "start_time": "2021-07-30T12:32:02.509Z"
   },
   {
    "duration": 5,
    "start_time": "2021-07-30T12:32:03.438Z"
   },
   {
    "duration": 4,
    "start_time": "2021-07-30T12:33:41.772Z"
   },
   {
    "duration": 1029954,
    "start_time": "2021-07-30T12:33:42.287Z"
   },
   {
    "duration": -364,
    "start_time": "2021-07-30T12:50:52.609Z"
   },
   {
    "duration": 4,
    "start_time": "2021-07-30T12:51:24.826Z"
   },
   {
    "duration": 193564,
    "start_time": "2021-07-30T12:51:25.113Z"
   },
   {
    "duration": -388,
    "start_time": "2021-07-30T12:54:39.068Z"
   },
   {
    "duration": 1532,
    "start_time": "2021-07-30T13:00:52.697Z"
   },
   {
    "duration": 3,
    "start_time": "2021-07-30T13:00:54.232Z"
   },
   {
    "duration": 903,
    "start_time": "2021-07-30T13:00:54.239Z"
   },
   {
    "duration": 66,
    "start_time": "2021-07-30T13:00:55.144Z"
   },
   {
    "duration": 52,
    "start_time": "2021-07-30T13:00:55.212Z"
   },
   {
    "duration": 52,
    "start_time": "2021-07-30T13:00:55.284Z"
   },
   {
    "duration": 4,
    "start_time": "2021-07-30T13:00:55.338Z"
   },
   {
    "duration": 47,
    "start_time": "2021-07-30T13:00:55.346Z"
   },
   {
    "duration": 12,
    "start_time": "2021-07-30T13:00:55.397Z"
   },
   {
    "duration": 10,
    "start_time": "2021-07-30T13:00:55.412Z"
   },
   {
    "duration": 20,
    "start_time": "2021-07-30T13:00:55.425Z"
   },
   {
    "duration": 69,
    "start_time": "2021-07-30T13:00:55.448Z"
   },
   {
    "duration": 32,
    "start_time": "2021-07-30T13:00:55.520Z"
   },
   {
    "duration": 34,
    "start_time": "2021-07-30T13:00:55.555Z"
   },
   {
    "duration": 35,
    "start_time": "2021-07-30T13:00:55.592Z"
   },
   {
    "duration": 66,
    "start_time": "2021-07-30T13:00:55.630Z"
   },
   {
    "duration": 10,
    "start_time": "2021-07-30T13:00:55.699Z"
   },
   {
    "duration": 14,
    "start_time": "2021-07-30T13:00:55.712Z"
   },
   {
    "duration": 10,
    "start_time": "2021-07-30T13:00:55.729Z"
   },
   {
    "duration": 18,
    "start_time": "2021-07-30T13:00:55.783Z"
   },
   {
    "duration": 17,
    "start_time": "2021-07-30T13:00:55.804Z"
   },
   {
    "duration": 18,
    "start_time": "2021-07-30T13:00:55.823Z"
   },
   {
    "duration": 353,
    "start_time": "2021-07-30T13:00:55.847Z"
   },
   {
    "duration": 7,
    "start_time": "2021-07-30T13:00:56.204Z"
   },
   {
    "duration": 291,
    "start_time": "2021-07-30T13:00:56.213Z"
   },
   {
    "duration": 288,
    "start_time": "2021-07-30T13:00:56.506Z"
   },
   {
    "duration": 295,
    "start_time": "2021-07-30T13:00:56.798Z"
   },
   {
    "duration": 21,
    "start_time": "2021-07-30T13:00:57.096Z"
   },
   {
    "duration": 886,
    "start_time": "2021-07-30T13:00:57.120Z"
   },
   {
    "duration": 14,
    "start_time": "2021-07-30T13:00:58.008Z"
   },
   {
    "duration": 8,
    "start_time": "2021-07-30T13:00:58.024Z"
   },
   {
    "duration": 50,
    "start_time": "2021-07-30T13:00:58.034Z"
   },
   {
    "duration": 475,
    "start_time": "2021-07-30T13:00:58.089Z"
   },
   {
    "duration": 43,
    "start_time": "2021-07-30T13:00:58.567Z"
   },
   {
    "duration": 1757,
    "start_time": "2021-07-30T13:00:58.612Z"
   },
   {
    "duration": 48,
    "start_time": "2021-07-30T13:01:00.372Z"
   },
   {
    "duration": 33,
    "start_time": "2021-07-30T13:01:00.422Z"
   },
   {
    "duration": 37,
    "start_time": "2021-07-30T13:01:00.458Z"
   },
   {
    "duration": 18,
    "start_time": "2021-07-30T13:01:00.502Z"
   },
   {
    "duration": 8,
    "start_time": "2021-07-30T13:01:00.522Z"
   },
   {
    "duration": 18,
    "start_time": "2021-07-30T13:01:00.532Z"
   },
   {
    "duration": 33,
    "start_time": "2021-07-30T13:01:00.553Z"
   },
   {
    "duration": 16,
    "start_time": "2021-07-30T13:01:00.589Z"
   },
   {
    "duration": 35,
    "start_time": "2021-07-30T13:01:00.608Z"
   },
   {
    "duration": 26,
    "start_time": "2021-07-30T13:01:00.646Z"
   },
   {
    "duration": 15,
    "start_time": "2021-07-30T13:01:00.675Z"
   },
   {
    "duration": 21,
    "start_time": "2021-07-30T13:01:00.694Z"
   },
   {
    "duration": 15687,
    "start_time": "2021-07-30T13:01:00.717Z"
   },
   {
    "duration": 80,
    "start_time": "2021-07-30T13:01:16.408Z"
   },
   {
    "duration": 90,
    "start_time": "2021-07-30T13:01:16.493Z"
   },
   {
    "duration": 210,
    "start_time": "2021-07-30T13:01:16.586Z"
   },
   {
    "duration": 578,
    "start_time": "2021-07-30T13:01:16.803Z"
   },
   {
    "duration": 7,
    "start_time": "2021-07-30T13:01:17.386Z"
   },
   {
    "duration": 7,
    "start_time": "2021-07-30T13:01:17.399Z"
   },
   {
    "duration": 339845,
    "start_time": "2021-07-30T13:01:17.483Z"
   },
   {
    "duration": 6,
    "start_time": "2021-07-30T13:06:57.330Z"
   },
   {
    "duration": 6,
    "start_time": "2021-07-30T13:06:57.338Z"
   },
   {
    "duration": 5337,
    "start_time": "2021-07-30T13:06:57.346Z"
   },
   {
    "duration": 5249,
    "start_time": "2021-07-30T13:07:02.686Z"
   },
   {
    "duration": 4,
    "start_time": "2021-07-30T13:07:07.937Z"
   },
   {
    "duration": 8,
    "start_time": "2021-07-30T13:07:07.944Z"
   },
   {
    "duration": 28,
    "start_time": "2021-07-30T13:07:07.954Z"
   },
   {
    "duration": 17,
    "start_time": "2021-07-30T13:07:07.985Z"
   },
   {
    "duration": 8,
    "start_time": "2021-07-30T13:07:08.005Z"
   },
   {
    "duration": 11,
    "start_time": "2021-07-30T13:07:08.016Z"
   },
   {
    "duration": 16,
    "start_time": "2021-07-30T13:07:08.029Z"
   },
   {
    "duration": 51,
    "start_time": "2021-07-30T13:07:08.047Z"
   },
   {
    "duration": 4,
    "start_time": "2021-07-30T13:07:08.106Z"
   },
   {
    "duration": 10,
    "start_time": "2021-07-30T13:07:08.113Z"
   },
   {
    "duration": 9,
    "start_time": "2021-07-30T13:07:08.125Z"
   },
   {
    "duration": 6,
    "start_time": "2021-07-30T13:07:08.137Z"
   },
   {
    "duration": 4,
    "start_time": "2021-07-30T13:40:21.129Z"
   },
   {
    "duration": 4,
    "start_time": "2021-07-30T13:40:21.660Z"
   },
   {
    "duration": 4,
    "start_time": "2021-07-30T13:40:23.176Z"
   },
   {
    "duration": 5,
    "start_time": "2021-07-30T13:40:28.643Z"
   },
   {
    "duration": 3,
    "start_time": "2021-07-30T13:40:29.040Z"
   },
   {
    "duration": 9,
    "start_time": "2021-07-30T13:40:29.418Z"
   },
   {
    "duration": 10,
    "start_time": "2021-07-30T13:40:30.090Z"
   },
   {
    "duration": 6,
    "start_time": "2021-07-30T13:40:31.749Z"
   },
   {
    "duration": 14,
    "start_time": "2021-07-30T13:40:33.707Z"
   },
   {
    "duration": 15,
    "start_time": "2021-07-30T13:40:34.834Z"
   },
   {
    "duration": 4,
    "start_time": "2021-07-30T13:40:35.632Z"
   },
   {
    "duration": 10,
    "start_time": "2021-07-30T14:34:52.773Z"
   },
   {
    "duration": 5,
    "start_time": "2021-07-30T14:37:55.752Z"
   },
   {
    "duration": 3,
    "start_time": "2021-07-30T14:37:56.135Z"
   },
   {
    "duration": 4,
    "start_time": "2021-07-30T14:37:56.458Z"
   },
   {
    "duration": 166,
    "start_time": "2021-07-30T14:38:03.821Z"
   },
   {
    "duration": 37,
    "start_time": "2021-07-30T14:38:04.954Z"
   },
   {
    "duration": 5,
    "start_time": "2021-07-30T14:38:05.739Z"
   },
   {
    "duration": 4876,
    "start_time": "2021-07-30T14:38:11.997Z"
   },
   {
    "duration": 5106,
    "start_time": "2021-07-30T14:38:18.807Z"
   },
   {
    "duration": 4,
    "start_time": "2021-07-30T14:38:25.201Z"
   },
   {
    "duration": 16,
    "start_time": "2021-07-30T14:38:35.981Z"
   },
   {
    "duration": 19,
    "start_time": "2021-07-30T14:38:36.854Z"
   },
   {
    "duration": 4,
    "start_time": "2021-07-30T14:38:37.377Z"
   },
   {
    "duration": 1423,
    "start_time": "2021-07-30T14:39:08.186Z"
   },
   {
    "duration": 4,
    "start_time": "2021-07-30T14:39:09.611Z"
   },
   {
    "duration": 883,
    "start_time": "2021-07-30T14:39:09.618Z"
   },
   {
    "duration": 50,
    "start_time": "2021-07-30T14:39:10.504Z"
   },
   {
    "duration": 56,
    "start_time": "2021-07-30T14:39:10.556Z"
   },
   {
    "duration": 78,
    "start_time": "2021-07-30T14:39:10.615Z"
   },
   {
    "duration": 5,
    "start_time": "2021-07-30T14:39:10.696Z"
   },
   {
    "duration": 18,
    "start_time": "2021-07-30T14:39:10.705Z"
   },
   {
    "duration": 10,
    "start_time": "2021-07-30T14:39:10.726Z"
   },
   {
    "duration": 12,
    "start_time": "2021-07-30T14:39:10.739Z"
   },
   {
    "duration": 15,
    "start_time": "2021-07-30T14:39:10.782Z"
   },
   {
    "duration": 31,
    "start_time": "2021-07-30T14:39:10.799Z"
   },
   {
    "duration": 56,
    "start_time": "2021-07-30T14:39:10.832Z"
   },
   {
    "duration": 7,
    "start_time": "2021-07-30T14:39:10.890Z"
   },
   {
    "duration": 30,
    "start_time": "2021-07-30T14:39:10.899Z"
   },
   {
    "duration": 57,
    "start_time": "2021-07-30T14:39:10.932Z"
   },
   {
    "duration": 10,
    "start_time": "2021-07-30T14:39:10.991Z"
   },
   {
    "duration": 15,
    "start_time": "2021-07-30T14:39:11.004Z"
   },
   {
    "duration": 9,
    "start_time": "2021-07-30T14:39:11.022Z"
   },
   {
    "duration": 50,
    "start_time": "2021-07-30T14:39:11.033Z"
   },
   {
    "duration": 14,
    "start_time": "2021-07-30T14:39:11.085Z"
   },
   {
    "duration": 19,
    "start_time": "2021-07-30T14:39:11.101Z"
   },
   {
    "duration": 326,
    "start_time": "2021-07-30T14:39:11.127Z"
   },
   {
    "duration": 7,
    "start_time": "2021-07-30T14:39:11.458Z"
   },
   {
    "duration": 270,
    "start_time": "2021-07-30T14:39:11.467Z"
   },
   {
    "duration": 260,
    "start_time": "2021-07-30T14:39:11.740Z"
   },
   {
    "duration": 271,
    "start_time": "2021-07-30T14:39:12.004Z"
   },
   {
    "duration": 22,
    "start_time": "2021-07-30T14:39:12.278Z"
   },
   {
    "duration": 784,
    "start_time": "2021-07-30T14:39:12.303Z"
   },
   {
    "duration": 12,
    "start_time": "2021-07-30T14:39:13.090Z"
   },
   {
    "duration": 8,
    "start_time": "2021-07-30T14:39:13.105Z"
   },
   {
    "duration": 19,
    "start_time": "2021-07-30T14:39:13.116Z"
   },
   {
    "duration": 456,
    "start_time": "2021-07-30T14:39:13.137Z"
   },
   {
    "duration": 36,
    "start_time": "2021-07-30T14:39:13.595Z"
   },
   {
    "duration": 1566,
    "start_time": "2021-07-30T14:39:13.634Z"
   },
   {
    "duration": 38,
    "start_time": "2021-07-30T14:39:15.202Z"
   },
   {
    "duration": 56,
    "start_time": "2021-07-30T14:39:15.242Z"
   },
   {
    "duration": 16,
    "start_time": "2021-07-30T14:39:15.301Z"
   },
   {
    "duration": 15,
    "start_time": "2021-07-30T14:39:15.319Z"
   },
   {
    "duration": 4,
    "start_time": "2021-07-30T14:39:15.336Z"
   },
   {
    "duration": 7,
    "start_time": "2021-07-30T14:39:15.342Z"
   },
   {
    "duration": 4,
    "start_time": "2021-07-30T14:39:15.383Z"
   },
   {
    "duration": 5,
    "start_time": "2021-07-30T14:39:15.389Z"
   },
   {
    "duration": 18,
    "start_time": "2021-07-30T14:39:15.397Z"
   },
   {
    "duration": 14,
    "start_time": "2021-07-30T14:39:15.418Z"
   },
   {
    "duration": 4,
    "start_time": "2021-07-30T14:39:15.434Z"
   },
   {
    "duration": 5,
    "start_time": "2021-07-30T14:39:15.440Z"
   },
   {
    "duration": 12203,
    "start_time": "2021-07-30T14:39:15.482Z"
   },
   {
    "duration": 103,
    "start_time": "2021-07-30T14:39:27.689Z"
   },
   {
    "duration": 4,
    "start_time": "2021-07-30T14:39:27.795Z"
   },
   {
    "duration": 281,
    "start_time": "2021-07-30T14:39:27.802Z"
   },
   {
    "duration": 402,
    "start_time": "2021-07-30T14:39:28.086Z"
   },
   {
    "duration": 7,
    "start_time": "2021-07-30T14:39:28.492Z"
   },
   {
    "duration": 82,
    "start_time": "2021-07-30T14:39:28.502Z"
   },
   {
    "duration": 323926,
    "start_time": "2021-07-30T14:39:28.587Z"
   },
   {
    "duration": 6,
    "start_time": "2021-07-30T14:44:52.516Z"
   },
   {
    "duration": 6,
    "start_time": "2021-07-30T14:44:52.524Z"
   },
   {
    "duration": 3225,
    "start_time": "2021-07-30T14:44:52.532Z"
   },
   {
    "duration": 3354,
    "start_time": "2021-07-30T14:44:55.760Z"
   },
   {
    "duration": 4,
    "start_time": "2021-07-30T14:44:59.117Z"
   },
   {
    "duration": 11,
    "start_time": "2021-07-30T14:44:59.124Z"
   },
   {
    "duration": 11,
    "start_time": "2021-07-30T14:44:59.137Z"
   },
   {
    "duration": 32,
    "start_time": "2021-07-30T14:44:59.151Z"
   },
   {
    "duration": 548,
    "start_time": "2021-07-30T14:44:59.186Z"
   },
   {
    "duration": -481,
    "start_time": "2021-07-30T14:45:00.218Z"
   },
   {
    "duration": -484,
    "start_time": "2021-07-30T14:45:00.223Z"
   },
   {
    "duration": -492,
    "start_time": "2021-07-30T14:45:00.232Z"
   },
   {
    "duration": -495,
    "start_time": "2021-07-30T14:45:00.236Z"
   },
   {
    "duration": -497,
    "start_time": "2021-07-30T14:45:00.240Z"
   },
   {
    "duration": -500,
    "start_time": "2021-07-30T14:45:00.244Z"
   },
   {
    "duration": 8,
    "start_time": "2021-07-30T14:56:23.670Z"
   },
   {
    "duration": 5,
    "start_time": "2021-07-30T14:56:28.015Z"
   },
   {
    "duration": 13,
    "start_time": "2021-07-30T14:56:29.926Z"
   },
   {
    "duration": 12,
    "start_time": "2021-07-30T14:56:30.901Z"
   },
   {
    "duration": 6,
    "start_time": "2021-07-30T14:56:31.609Z"
   },
   {
    "duration": 3453,
    "start_time": "2021-07-30T15:08:06.959Z"
   },
   {
    "duration": 3480,
    "start_time": "2021-07-30T15:08:12.851Z"
   },
   {
    "duration": 3524,
    "start_time": "2021-07-30T15:08:18.725Z"
   },
   {
    "duration": 3523,
    "start_time": "2021-07-30T15:08:24.372Z"
   },
   {
    "duration": 4,
    "start_time": "2021-07-30T15:08:30.073Z"
   },
   {
    "duration": 4,
    "start_time": "2021-07-30T15:10:10.132Z"
   },
   {
    "duration": 4,
    "start_time": "2021-07-30T15:10:12.104Z"
   },
   {
    "duration": 9,
    "start_time": "2021-07-30T15:10:12.498Z"
   },
   {
    "duration": 3721,
    "start_time": "2021-07-30T15:10:21.556Z"
   },
   {
    "duration": 3753,
    "start_time": "2021-07-30T15:10:26.188Z"
   },
   {
    "duration": 5,
    "start_time": "2021-07-30T15:10:32.828Z"
   },
   {
    "duration": 9,
    "start_time": "2021-07-30T15:10:41.060Z"
   },
   {
    "duration": 9,
    "start_time": "2021-07-30T15:10:41.685Z"
   },
   {
    "duration": 5,
    "start_time": "2021-07-30T15:10:42.589Z"
   },
   {
    "duration": 17,
    "start_time": "2021-07-30T15:10:44.674Z"
   },
   {
    "duration": 15,
    "start_time": "2021-07-30T15:10:45.309Z"
   },
   {
    "duration": 5,
    "start_time": "2021-07-30T15:10:45.965Z"
   },
   {
    "duration": 11,
    "start_time": "2021-07-30T15:18:53.368Z"
   },
   {
    "duration": 389,
    "start_time": "2021-07-30T15:32:59.588Z"
   },
   {
    "duration": 19060,
    "start_time": "2021-07-30T15:33:05.032Z"
   },
   {
    "duration": 4,
    "start_time": "2021-07-30T15:33:38.074Z"
   },
   {
    "duration": 20737,
    "start_time": "2021-07-30T15:33:38.453Z"
   },
   {
    "duration": 19,
    "start_time": "2021-07-30T15:33:59.194Z"
   },
   {
    "duration": 9,
    "start_time": "2021-07-30T15:33:59.288Z"
   },
   {
    "duration": 982,
    "start_time": "2021-07-30T15:33:59.303Z"
   },
   {
    "duration": 403,
    "start_time": "2021-07-30T15:34:00.288Z"
   },
   {
    "duration": 12,
    "start_time": "2021-07-30T15:34:00.696Z"
   },
   {
    "duration": 467,
    "start_time": "2021-07-30T15:37:08.090Z"
   },
   {
    "duration": 4,
    "start_time": "2021-07-30T15:37:13.026Z"
   },
   {
    "duration": 373913,
    "start_time": "2021-07-30T15:37:13.502Z"
   },
   {
    "duration": 9,
    "start_time": "2021-07-30T15:43:27.418Z"
   },
   {
    "duration": 5,
    "start_time": "2021-07-30T15:43:27.431Z"
   },
   {
    "duration": 6395,
    "start_time": "2021-07-30T15:43:27.439Z"
   },
   {
    "duration": 5620,
    "start_time": "2021-07-30T15:43:33.836Z"
   },
   {
    "duration": 5,
    "start_time": "2021-07-30T15:43:39.458Z"
   },
   {
    "duration": 17,
    "start_time": "2021-07-30T15:46:44.224Z"
   },
   {
    "duration": 4,
    "start_time": "2021-07-30T15:48:09.962Z"
   },
   {
    "duration": 5598,
    "start_time": "2021-07-30T15:48:10.431Z"
   },
   {
    "duration": 7174,
    "start_time": "2021-07-30T15:48:17.000Z"
   },
   {
    "duration": 4,
    "start_time": "2021-07-30T15:48:24.251Z"
   },
   {
    "duration": 8,
    "start_time": "2021-07-30T15:48:27.685Z"
   },
   {
    "duration": 17,
    "start_time": "2021-07-30T15:48:28.819Z"
   },
   {
    "duration": 19,
    "start_time": "2021-07-30T15:48:30.560Z"
   },
   {
    "duration": 5,
    "start_time": "2021-07-30T15:48:31.553Z"
   },
   {
    "duration": 4,
    "start_time": "2021-07-30T15:48:33.967Z"
   },
   {
    "duration": 8,
    "start_time": "2021-07-30T15:48:34.759Z"
   },
   {
    "duration": 8,
    "start_time": "2021-07-30T15:48:35.646Z"
   },
   {
    "duration": 6,
    "start_time": "2021-07-30T15:48:36.295Z"
   },
   {
    "duration": 5623,
    "start_time": "2021-07-30T15:49:54.194Z"
   },
   {
    "duration": 21,
    "start_time": "2021-07-30T15:50:04.588Z"
   },
   {
    "duration": 20,
    "start_time": "2021-07-30T15:50:12.570Z"
   },
   {
    "duration": 28,
    "start_time": "2021-07-30T15:50:17.422Z"
   },
   {
    "duration": 5549,
    "start_time": "2021-07-30T15:51:29.943Z"
   },
   {
    "duration": 20,
    "start_time": "2021-07-30T15:51:38.608Z"
   },
   {
    "duration": 22,
    "start_time": "2021-07-30T15:51:39.681Z"
   },
   {
    "duration": 5680,
    "start_time": "2021-07-30T15:51:43.032Z"
   },
   {
    "duration": 15,
    "start_time": "2021-07-30T15:51:51.825Z"
   },
   {
    "duration": 21,
    "start_time": "2021-07-30T15:51:52.694Z"
   },
   {
    "duration": 7,
    "start_time": "2021-07-30T15:53:53.792Z"
   },
   {
    "duration": 4,
    "start_time": "2021-07-30T15:58:54.219Z"
   },
   {
    "duration": 5741,
    "start_time": "2021-07-30T15:58:54.969Z"
   },
   {
    "duration": 4,
    "start_time": "2021-07-30T15:59:13.696Z"
   },
   {
    "duration": 5910,
    "start_time": "2021-07-30T15:59:14.274Z"
   },
   {
    "duration": 16,
    "start_time": "2021-07-30T15:59:27.040Z"
   },
   {
    "duration": 27,
    "start_time": "2021-07-30T15:59:27.792Z"
   },
   {
    "duration": 4,
    "start_time": "2021-07-30T16:03:09.234Z"
   },
   {
    "duration": 5402,
    "start_time": "2021-07-30T16:03:09.739Z"
   },
   {
    "duration": 5524,
    "start_time": "2021-07-30T16:03:15.144Z"
   },
   {
    "duration": 14,
    "start_time": "2021-07-30T16:03:20.671Z"
   },
   {
    "duration": 12,
    "start_time": "2021-07-30T16:03:20.689Z"
   },
   {
    "duration": 17,
    "start_time": "2021-07-30T16:03:20.703Z"
   },
   {
    "duration": 14,
    "start_time": "2021-07-30T16:03:20.723Z"
   },
   {
    "duration": 4,
    "start_time": "2021-07-30T16:03:20.739Z"
   },
   {
    "duration": 391,
    "start_time": "2021-07-30T16:10:24.412Z"
   },
   {
    "duration": 12,
    "start_time": "2021-07-30T16:11:17.385Z"
   },
   {
    "duration": 377,
    "start_time": "2021-07-30T16:11:24.864Z"
   },
   {
    "duration": 3,
    "start_time": "2021-07-30T16:12:28.775Z"
   },
   {
    "duration": 5,
    "start_time": "2021-07-30T16:13:01.731Z"
   },
   {
    "duration": 5,
    "start_time": "2021-07-30T16:19:25.133Z"
   },
   {
    "duration": 4,
    "start_time": "2021-07-30T16:19:25.932Z"
   },
   {
    "duration": 8,
    "start_time": "2021-07-30T16:19:26.586Z"
   },
   {
    "duration": 336,
    "start_time": "2021-07-30T16:19:30.856Z"
   },
   {
    "duration": 428,
    "start_time": "2021-07-30T16:19:58.658Z"
   },
   {
    "duration": 4,
    "start_time": "2021-07-30T16:20:35.890Z"
   },
   {
    "duration": 4,
    "start_time": "2021-07-30T16:20:37.505Z"
   },
   {
    "duration": 4,
    "start_time": "2021-07-30T16:21:02.844Z"
   },
   {
    "duration": 21810,
    "start_time": "2021-07-30T16:21:09.887Z"
   },
   {
    "duration": 23884,
    "start_time": "2021-07-30T16:21:31.700Z"
   },
   {
    "duration": 19673,
    "start_time": "2021-07-30T16:25:17.308Z"
   },
   {
    "duration": 18142,
    "start_time": "2021-07-30T16:25:47.451Z"
   },
   {
    "duration": 81,
    "start_time": "2021-07-30T16:26:05.604Z"
   },
   {
    "duration": 4,
    "start_time": "2021-07-30T16:28:41.952Z"
   },
   {
    "duration": 345,
    "start_time": "2021-07-30T16:28:42.747Z"
   },
   {
    "duration": 381,
    "start_time": "2021-07-30T16:28:43.296Z"
   },
   {
    "duration": 4,
    "start_time": "2021-07-30T16:29:11.836Z"
   },
   {
    "duration": 18595,
    "start_time": "2021-07-30T16:29:12.407Z"
   },
   {
    "duration": 20200,
    "start_time": "2021-07-30T16:29:31.084Z"
   },
   {
    "duration": 18304,
    "start_time": "2021-07-30T16:29:51.287Z"
   },
   {
    "duration": 18190,
    "start_time": "2021-07-30T16:30:09.595Z"
   },
   {
    "duration": 8,
    "start_time": "2021-07-30T16:30:27.794Z"
   },
   {
    "duration": 8,
    "start_time": "2021-07-30T16:31:08.384Z"
   },
   {
    "duration": 342384,
    "start_time": "2021-07-30T16:31:09.238Z"
   },
   {
    "duration": 340289,
    "start_time": "2021-07-30T16:36:51.624Z"
   },
   {
    "duration": 335184,
    "start_time": "2021-07-30T16:42:37.186Z"
   },
   {
    "duration": 342464,
    "start_time": "2021-07-30T16:48:12.372Z"
   },
   {
    "duration": 4,
    "start_time": "2021-07-30T16:53:54.838Z"
   },
   {
    "duration": 8,
    "start_time": "2021-07-30T16:53:54.844Z"
   },
   {
    "duration": 38,
    "start_time": "2021-07-30T16:53:54.856Z"
   },
   {
    "duration": 16,
    "start_time": "2021-07-30T16:53:54.897Z"
   },
   {
    "duration": 5,
    "start_time": "2021-07-30T16:53:54.915Z"
   },
   {
    "duration": 3,
    "start_time": "2021-07-30T16:55:55.966Z"
   },
   {
    "duration": 8,
    "start_time": "2021-07-30T16:55:56.414Z"
   },
   {
    "duration": 8,
    "start_time": "2021-07-30T16:55:57.280Z"
   },
   {
    "duration": 5,
    "start_time": "2021-07-30T16:55:58.363Z"
   },
   {
    "duration": 4,
    "start_time": "2021-07-30T16:56:21.654Z"
   },
   {
    "duration": 8,
    "start_time": "2021-07-30T16:56:22.039Z"
   },
   {
    "duration": 9,
    "start_time": "2021-07-30T16:56:22.733Z"
   },
   {
    "duration": 6,
    "start_time": "2021-07-30T16:56:23.956Z"
   },
   {
    "duration": 3,
    "start_time": "2021-07-30T16:56:39.598Z"
   },
   {
    "duration": 8,
    "start_time": "2021-07-30T16:56:40.053Z"
   },
   {
    "duration": 8,
    "start_time": "2021-07-30T16:56:40.967Z"
   },
   {
    "duration": 4,
    "start_time": "2021-07-30T16:56:41.708Z"
   },
   {
    "duration": 4,
    "start_time": "2021-07-30T16:59:52.153Z"
   },
   {
    "duration": 10,
    "start_time": "2021-07-30T16:59:52.483Z"
   },
   {
    "duration": 9,
    "start_time": "2021-07-30T16:59:52.982Z"
   },
   {
    "duration": 4,
    "start_time": "2021-07-30T16:59:53.738Z"
   },
   {
    "duration": 8,
    "start_time": "2021-07-30T16:59:56.945Z"
   },
   {
    "duration": 8,
    "start_time": "2021-07-30T16:59:58.154Z"
   },
   {
    "duration": 4,
    "start_time": "2021-07-30T16:59:58.894Z"
   },
   {
    "duration": 1396,
    "start_time": "2021-07-30T17:00:19.037Z"
   },
   {
    "duration": 3,
    "start_time": "2021-07-30T17:00:20.436Z"
   },
   {
    "duration": 930,
    "start_time": "2021-07-30T17:00:20.442Z"
   },
   {
    "duration": 57,
    "start_time": "2021-07-30T17:00:21.375Z"
   },
   {
    "duration": 66,
    "start_time": "2021-07-30T17:00:21.434Z"
   },
   {
    "duration": 49,
    "start_time": "2021-07-30T17:00:21.502Z"
   },
   {
    "duration": 4,
    "start_time": "2021-07-30T17:00:21.554Z"
   },
   {
    "duration": 16,
    "start_time": "2021-07-30T17:00:21.583Z"
   },
   {
    "duration": 10,
    "start_time": "2021-07-30T17:00:21.602Z"
   },
   {
    "duration": 10,
    "start_time": "2021-07-30T17:00:21.615Z"
   },
   {
    "duration": 16,
    "start_time": "2021-07-30T17:00:21.627Z"
   },
   {
    "duration": 73,
    "start_time": "2021-07-30T17:00:21.645Z"
   },
   {
    "duration": 30,
    "start_time": "2021-07-30T17:00:21.721Z"
   },
   {
    "duration": 39,
    "start_time": "2021-07-30T17:00:21.753Z"
   },
   {
    "duration": 30,
    "start_time": "2021-07-30T17:00:21.795Z"
   },
   {
    "duration": 56,
    "start_time": "2021-07-30T17:00:21.829Z"
   },
   {
    "duration": 14,
    "start_time": "2021-07-30T17:00:21.888Z"
   },
   {
    "duration": 14,
    "start_time": "2021-07-30T17:00:21.905Z"
   },
   {
    "duration": 9,
    "start_time": "2021-07-30T17:00:21.921Z"
   },
   {
    "duration": 51,
    "start_time": "2021-07-30T17:00:21.932Z"
   },
   {
    "duration": 16,
    "start_time": "2021-07-30T17:00:21.985Z"
   },
   {
    "duration": 23,
    "start_time": "2021-07-30T17:00:22.004Z"
   },
   {
    "duration": 325,
    "start_time": "2021-07-30T17:00:22.033Z"
   },
   {
    "duration": 7,
    "start_time": "2021-07-30T17:00:22.361Z"
   },
   {
    "duration": 272,
    "start_time": "2021-07-30T17:00:22.370Z"
   },
   {
    "duration": 272,
    "start_time": "2021-07-30T17:00:22.645Z"
   },
   {
    "duration": 268,
    "start_time": "2021-07-30T17:00:22.920Z"
   },
   {
    "duration": 22,
    "start_time": "2021-07-30T17:00:23.191Z"
   },
   {
    "duration": 792,
    "start_time": "2021-07-30T17:00:23.215Z"
   },
   {
    "duration": 11,
    "start_time": "2021-07-30T17:00:24.009Z"
   },
   {
    "duration": 8,
    "start_time": "2021-07-30T17:00:24.022Z"
   },
   {
    "duration": 22,
    "start_time": "2021-07-30T17:00:24.032Z"
   },
   {
    "duration": 430,
    "start_time": "2021-07-30T17:00:24.082Z"
   },
   {
    "duration": 32,
    "start_time": "2021-07-30T17:00:24.516Z"
   },
   {
    "duration": 1592,
    "start_time": "2021-07-30T17:00:24.550Z"
   },
   {
    "duration": 60,
    "start_time": "2021-07-30T17:00:26.145Z"
   },
   {
    "duration": 33,
    "start_time": "2021-07-30T17:00:26.207Z"
   },
   {
    "duration": 43,
    "start_time": "2021-07-30T17:00:26.242Z"
   },
   {
    "duration": 19,
    "start_time": "2021-07-30T17:00:26.288Z"
   },
   {
    "duration": 4,
    "start_time": "2021-07-30T17:00:26.310Z"
   },
   {
    "duration": 6,
    "start_time": "2021-07-30T17:00:26.316Z"
   },
   {
    "duration": 5,
    "start_time": "2021-07-30T17:00:26.325Z"
   },
   {
    "duration": 52,
    "start_time": "2021-07-30T17:00:26.332Z"
   },
   {
    "duration": 18,
    "start_time": "2021-07-30T17:00:26.387Z"
   },
   {
    "duration": 17,
    "start_time": "2021-07-30T17:00:26.408Z"
   },
   {
    "duration": 3,
    "start_time": "2021-07-30T17:00:26.428Z"
   },
   {
    "duration": 5,
    "start_time": "2021-07-30T17:00:26.434Z"
   },
   {
    "duration": 9,
    "start_time": "2021-07-30T17:00:26.441Z"
   },
   {
    "duration": 16652,
    "start_time": "2021-07-30T17:00:26.452Z"
   },
   {
    "duration": 18616,
    "start_time": "2021-07-30T17:00:43.187Z"
   },
   {
    "duration": 17382,
    "start_time": "2021-07-30T17:01:01.807Z"
   },
   {
    "duration": 18413,
    "start_time": "2021-07-30T17:01:19.192Z"
   },
   {
    "duration": 13,
    "start_time": "2021-07-30T17:01:37.684Z"
   },
   {
    "duration": 8,
    "start_time": "2021-07-30T17:01:37.700Z"
   },
   {
    "duration": 6,
    "start_time": "2021-07-30T17:01:37.796Z"
   },
   {
    "duration": 335323,
    "start_time": "2021-07-30T17:01:37.805Z"
   },
   {
    "duration": 338287,
    "start_time": "2021-07-30T17:07:13.131Z"
   },
   {
    "duration": 334324,
    "start_time": "2021-07-30T17:12:51.420Z"
   },
   {
    "duration": 354518,
    "start_time": "2021-07-30T17:18:25.746Z"
   },
   {
    "duration": 14,
    "start_time": "2021-07-30T17:24:20.267Z"
   },
   {
    "duration": 6,
    "start_time": "2021-07-30T17:24:20.290Z"
   },
   {
    "duration": 19,
    "start_time": "2021-07-30T17:24:20.299Z"
   },
   {
    "duration": 13,
    "start_time": "2021-07-30T17:24:20.320Z"
   },
   {
    "duration": 4,
    "start_time": "2021-07-30T17:24:20.336Z"
   },
   {
    "duration": 53,
    "start_time": "2021-07-30T17:24:20.342Z"
   },
   {
    "duration": 14,
    "start_time": "2021-07-30T17:24:20.397Z"
   },
   {
    "duration": 9,
    "start_time": "2021-07-30T17:24:20.414Z"
   },
   {
    "duration": 5,
    "start_time": "2021-07-30T17:24:20.431Z"
   },
   {
    "duration": 8,
    "start_time": "2021-07-30T17:24:20.438Z"
   },
   {
    "duration": 47,
    "start_time": "2021-07-30T17:24:20.449Z"
   },
   {
    "duration": 459,
    "start_time": "2021-07-30T17:35:00.895Z"
   },
   {
    "duration": 12,
    "start_time": "2021-07-30T17:35:06.471Z"
   },
   {
    "duration": 13,
    "start_time": "2021-07-30T17:36:22.959Z"
   },
   {
    "duration": 1446,
    "start_time": "2021-07-30T17:39:42.540Z"
   },
   {
    "duration": 4,
    "start_time": "2021-07-30T17:39:43.989Z"
   },
   {
    "duration": 845,
    "start_time": "2021-07-30T17:39:43.998Z"
   },
   {
    "duration": 62,
    "start_time": "2021-07-30T17:39:44.845Z"
   },
   {
    "duration": 38,
    "start_time": "2021-07-30T17:39:44.909Z"
   },
   {
    "duration": 67,
    "start_time": "2021-07-30T17:39:44.949Z"
   },
   {
    "duration": 4,
    "start_time": "2021-07-30T17:39:45.020Z"
   },
   {
    "duration": 17,
    "start_time": "2021-07-30T17:39:45.027Z"
   },
   {
    "duration": 11,
    "start_time": "2021-07-30T17:39:45.047Z"
   },
   {
    "duration": 7,
    "start_time": "2021-07-30T17:39:45.083Z"
   },
   {
    "duration": 16,
    "start_time": "2021-07-30T17:39:45.092Z"
   },
   {
    "duration": 28,
    "start_time": "2021-07-30T17:39:45.111Z"
   },
   {
    "duration": 63,
    "start_time": "2021-07-30T17:39:45.142Z"
   },
   {
    "duration": 9,
    "start_time": "2021-07-30T17:39:45.208Z"
   },
   {
    "duration": 27,
    "start_time": "2021-07-30T17:39:45.220Z"
   },
   {
    "duration": 29,
    "start_time": "2021-07-30T17:39:45.282Z"
   },
   {
    "duration": 13,
    "start_time": "2021-07-30T17:39:45.314Z"
   },
   {
    "duration": 13,
    "start_time": "2021-07-30T17:39:45.329Z"
   },
   {
    "duration": 44,
    "start_time": "2021-07-30T17:39:45.344Z"
   },
   {
    "duration": 10,
    "start_time": "2021-07-30T17:39:45.391Z"
   },
   {
    "duration": 13,
    "start_time": "2021-07-30T17:39:45.403Z"
   },
   {
    "duration": 18,
    "start_time": "2021-07-30T17:39:45.422Z"
   },
   {
    "duration": 296,
    "start_time": "2021-07-30T17:39:45.482Z"
   },
   {
    "duration": 7,
    "start_time": "2021-07-30T17:39:45.783Z"
   },
   {
    "duration": 263,
    "start_time": "2021-07-30T17:39:45.792Z"
   },
   {
    "duration": 260,
    "start_time": "2021-07-30T17:39:46.058Z"
   },
   {
    "duration": 276,
    "start_time": "2021-07-30T17:39:46.321Z"
   },
   {
    "duration": 23,
    "start_time": "2021-07-30T17:39:46.600Z"
   },
   {
    "duration": 779,
    "start_time": "2021-07-30T17:39:46.626Z"
   },
   {
    "duration": 11,
    "start_time": "2021-07-30T17:39:47.407Z"
   },
   {
    "duration": 7,
    "start_time": "2021-07-30T17:39:47.420Z"
   },
   {
    "duration": 27,
    "start_time": "2021-07-30T17:39:47.429Z"
   },
   {
    "duration": 440,
    "start_time": "2021-07-30T17:39:47.459Z"
   },
   {
    "duration": 32,
    "start_time": "2021-07-30T17:39:47.901Z"
   },
   {
    "duration": 1519,
    "start_time": "2021-07-30T17:39:47.936Z"
   },
   {
    "duration": 49,
    "start_time": "2021-07-30T17:39:49.457Z"
   },
   {
    "duration": 32,
    "start_time": "2021-07-30T17:39:49.509Z"
   },
   {
    "duration": 15,
    "start_time": "2021-07-30T17:39:49.543Z"
   },
   {
    "duration": 13,
    "start_time": "2021-07-30T17:39:49.583Z"
   },
   {
    "duration": 4,
    "start_time": "2021-07-30T17:39:49.599Z"
   },
   {
    "duration": 5,
    "start_time": "2021-07-30T17:39:49.606Z"
   },
   {
    "duration": 8,
    "start_time": "2021-07-30T17:39:49.613Z"
   },
   {
    "duration": 8,
    "start_time": "2021-07-30T17:39:49.623Z"
   },
   {
    "duration": 49,
    "start_time": "2021-07-30T17:39:49.633Z"
   },
   {
    "duration": 15,
    "start_time": "2021-07-30T17:39:49.685Z"
   },
   {
    "duration": 4,
    "start_time": "2021-07-30T17:39:49.703Z"
   },
   {
    "duration": 7,
    "start_time": "2021-07-30T17:39:49.710Z"
   },
   {
    "duration": 5,
    "start_time": "2021-07-30T17:39:49.719Z"
   },
   {
    "duration": 11461,
    "start_time": "2021-07-30T17:39:49.727Z"
   },
   {
    "duration": 11596,
    "start_time": "2021-07-30T17:40:01.191Z"
   },
   {
    "duration": 12691,
    "start_time": "2021-07-30T17:40:12.791Z"
   },
   {
    "duration": 12198,
    "start_time": "2021-07-30T17:40:25.485Z"
   },
   {
    "duration": 6,
    "start_time": "2021-07-30T17:40:37.686Z"
   },
   {
    "duration": 6,
    "start_time": "2021-07-30T17:40:37.695Z"
   },
   {
    "duration": 6,
    "start_time": "2021-07-30T17:40:37.704Z"
   },
   {
    "duration": 318208,
    "start_time": "2021-07-30T17:40:37.782Z"
   },
   {
    "duration": 316933,
    "start_time": "2021-07-30T17:45:55.992Z"
   },
   {
    "duration": 316354,
    "start_time": "2021-07-30T17:51:12.928Z"
   },
   {
    "duration": 323220,
    "start_time": "2021-07-30T17:56:29.285Z"
   },
   {
    "duration": 3,
    "start_time": "2021-07-30T18:01:52.508Z"
   },
   {
    "duration": 14,
    "start_time": "2021-07-30T18:01:52.514Z"
   },
   {
    "duration": 21,
    "start_time": "2021-07-30T18:01:52.530Z"
   },
   {
    "duration": 34,
    "start_time": "2021-07-30T18:01:52.554Z"
   },
   {
    "duration": 5,
    "start_time": "2021-07-30T18:01:52.591Z"
   },
   {
    "duration": 11,
    "start_time": "2021-07-30T18:01:52.599Z"
   },
   {
    "duration": 15,
    "start_time": "2021-07-30T18:01:52.612Z"
   },
   {
    "duration": 11,
    "start_time": "2021-07-30T18:01:52.635Z"
   },
   {
    "duration": 46,
    "start_time": "2021-07-30T18:01:52.649Z"
   },
   {
    "duration": 16,
    "start_time": "2021-07-30T18:01:52.697Z"
   },
   {
    "duration": 1577,
    "start_time": "2021-07-31T07:24:49.437Z"
   },
   {
    "duration": 3,
    "start_time": "2021-07-31T07:24:51.017Z"
   },
   {
    "duration": 1271,
    "start_time": "2021-07-31T07:24:51.023Z"
   },
   {
    "duration": 95,
    "start_time": "2021-07-31T07:24:52.298Z"
   },
   {
    "duration": 41,
    "start_time": "2021-07-31T07:24:52.396Z"
   },
   {
    "duration": 76,
    "start_time": "2021-07-31T07:24:52.439Z"
   },
   {
    "duration": 4,
    "start_time": "2021-07-31T07:24:52.518Z"
   },
   {
    "duration": 12,
    "start_time": "2021-07-31T07:24:52.526Z"
   },
   {
    "duration": 13,
    "start_time": "2021-07-31T07:24:52.572Z"
   },
   {
    "duration": 6,
    "start_time": "2021-07-31T07:24:52.588Z"
   },
   {
    "duration": 21,
    "start_time": "2021-07-31T07:24:52.596Z"
   },
   {
    "duration": 75,
    "start_time": "2021-07-31T07:24:52.619Z"
   },
   {
    "duration": 33,
    "start_time": "2021-07-31T07:24:52.696Z"
   },
   {
    "duration": 34,
    "start_time": "2021-07-31T07:24:52.731Z"
   },
   {
    "duration": 33,
    "start_time": "2021-07-31T07:24:52.771Z"
   },
   {
    "duration": 56,
    "start_time": "2021-07-31T07:24:52.807Z"
   },
   {
    "duration": 13,
    "start_time": "2021-07-31T07:24:52.865Z"
   },
   {
    "duration": 17,
    "start_time": "2021-07-31T07:24:52.881Z"
   },
   {
    "duration": 13,
    "start_time": "2021-07-31T07:24:52.901Z"
   },
   {
    "duration": 60,
    "start_time": "2021-07-31T07:24:52.916Z"
   },
   {
    "duration": 19,
    "start_time": "2021-07-31T07:24:52.981Z"
   },
   {
    "duration": 19,
    "start_time": "2021-07-31T07:24:53.002Z"
   },
   {
    "duration": 357,
    "start_time": "2021-07-31T07:24:53.027Z"
   },
   {
    "duration": 7,
    "start_time": "2021-07-31T07:24:53.388Z"
   },
   {
    "duration": 412,
    "start_time": "2021-07-31T07:24:53.399Z"
   },
   {
    "duration": 398,
    "start_time": "2021-07-31T07:24:53.815Z"
   },
   {
    "duration": 415,
    "start_time": "2021-07-31T07:24:54.216Z"
   },
   {
    "duration": 45,
    "start_time": "2021-07-31T07:24:54.635Z"
   },
   {
    "duration": 1196,
    "start_time": "2021-07-31T07:24:54.683Z"
   },
   {
    "duration": 15,
    "start_time": "2021-07-31T07:24:55.882Z"
   },
   {
    "duration": 10,
    "start_time": "2021-07-31T07:24:55.900Z"
   },
   {
    "duration": 54,
    "start_time": "2021-07-31T07:24:55.913Z"
   },
   {
    "duration": 485,
    "start_time": "2021-07-31T07:24:55.970Z"
   },
   {
    "duration": 39,
    "start_time": "2021-07-31T07:24:56.457Z"
   },
   {
    "duration": 1583,
    "start_time": "2021-07-31T07:24:56.499Z"
   },
   {
    "duration": 37,
    "start_time": "2021-07-31T07:24:58.084Z"
   },
   {
    "duration": 61,
    "start_time": "2021-07-31T07:24:58.123Z"
   },
   {
    "duration": 15,
    "start_time": "2021-07-31T07:24:58.186Z"
   },
   {
    "duration": 14,
    "start_time": "2021-07-31T07:24:58.204Z"
   },
   {
    "duration": 5,
    "start_time": "2021-07-31T07:24:58.220Z"
   },
   {
    "duration": 37,
    "start_time": "2021-07-31T07:24:58.227Z"
   },
   {
    "duration": 10,
    "start_time": "2021-07-31T07:24:58.269Z"
   },
   {
    "duration": 6,
    "start_time": "2021-07-31T07:24:58.283Z"
   },
   {
    "duration": 20,
    "start_time": "2021-07-31T07:24:58.292Z"
   },
   {
    "duration": 15,
    "start_time": "2021-07-31T07:24:58.314Z"
   },
   {
    "duration": 3,
    "start_time": "2021-07-31T07:24:58.333Z"
   },
   {
    "duration": 6,
    "start_time": "2021-07-31T07:24:58.368Z"
   },
   {
    "duration": 6,
    "start_time": "2021-07-31T07:24:58.377Z"
   },
   {
    "duration": 19788,
    "start_time": "2021-07-31T07:24:58.386Z"
   },
   {
    "duration": 18392,
    "start_time": "2021-07-31T07:25:18.179Z"
   },
   {
    "duration": 18589,
    "start_time": "2021-07-31T07:25:36.574Z"
   },
   {
    "duration": 16998,
    "start_time": "2021-07-31T07:25:55.166Z"
   },
   {
    "duration": 6,
    "start_time": "2021-07-31T07:26:12.168Z"
   },
   {
    "duration": 6,
    "start_time": "2021-07-31T07:26:12.182Z"
   },
   {
    "duration": 7,
    "start_time": "2021-07-31T07:26:12.190Z"
   },
   {
    "duration": 372762,
    "start_time": "2021-07-31T07:26:12.200Z"
   },
   {
    "duration": 380772,
    "start_time": "2021-07-31T07:32:24.966Z"
   },
   {
    "duration": 348395,
    "start_time": "2021-07-31T07:38:45.740Z"
   },
   {
    "duration": 361522,
    "start_time": "2021-07-31T07:44:34.137Z"
   },
   {
    "duration": 4,
    "start_time": "2021-07-31T07:50:35.666Z"
   },
   {
    "duration": 12,
    "start_time": "2021-07-31T07:50:35.672Z"
   },
   {
    "duration": 38,
    "start_time": "2021-07-31T07:50:35.688Z"
   },
   {
    "duration": 13,
    "start_time": "2021-07-31T07:50:35.728Z"
   },
   {
    "duration": 6,
    "start_time": "2021-07-31T07:50:35.743Z"
   },
   {
    "duration": 6,
    "start_time": "2021-07-31T07:50:35.765Z"
   },
   {
    "duration": 28,
    "start_time": "2021-07-31T07:50:35.774Z"
   },
   {
    "duration": 9,
    "start_time": "2021-07-31T07:50:35.806Z"
   },
   {
    "duration": 9,
    "start_time": "2021-07-31T07:50:35.826Z"
   },
   {
    "duration": 28,
    "start_time": "2021-07-31T07:50:35.838Z"
   },
   {
    "duration": 25,
    "start_time": "2021-07-31T07:50:35.871Z"
   }
  ],
  "kernelspec": {
   "display_name": "Python 3",
   "language": "python",
   "name": "python3"
  },
  "language_info": {
   "codemirror_mode": {
    "name": "ipython",
    "version": 3
   },
   "file_extension": ".py",
   "mimetype": "text/x-python",
   "name": "python",
   "nbconvert_exporter": "python",
   "pygments_lexer": "ipython3",
   "version": "3.8.5"
  },
  "toc": {
   "base_numbering": 1,
   "nav_menu": {},
   "number_sections": true,
   "sideBar": true,
   "skip_h1_title": true,
   "title_cell": "Содержание",
   "title_sidebar": "Contents",
   "toc_cell": true,
   "toc_position": {
    "height": "calc(100% - 180px)",
    "left": "10px",
    "top": "150px",
    "width": "366.391px"
   },
   "toc_section_display": true,
   "toc_window_display": true
  },
  "varInspector": {
   "cols": {
    "lenName": 16,
    "lenType": 16,
    "lenVar": 40
   },
   "kernels_config": {
    "python": {
     "delete_cmd_postfix": "",
     "delete_cmd_prefix": "del ",
     "library": "var_list.py",
     "varRefreshCmd": "print(var_dic_list())"
    },
    "r": {
     "delete_cmd_postfix": ") ",
     "delete_cmd_prefix": "rm(",
     "library": "var_list.r",
     "varRefreshCmd": "cat(var_dic_list()) "
    }
   },
   "types_to_exclude": [
    "module",
    "function",
    "builtin_function_or_method",
    "instance",
    "_Feature"
   ],
   "window_display": false
  }
 },
 "nbformat": 4,
 "nbformat_minor": 2
}
