{
 "cells": [
  {
   "cell_type": "markdown",
   "metadata": {
    "toc": true
   },
   "source": [
    "<h1>Содержание<span class=\"tocSkip\"></span></h1>\n",
    "<div class=\"toc\"><ul class=\"toc-item\"><li><span><a href=\"#Подготовка\" data-toc-modified-id=\"Подготовка-1\"><span class=\"toc-item-num\">1&nbsp;&nbsp;</span>Подготовка</a></span></li><li><span><a href=\"#Анализ\" data-toc-modified-id=\"Анализ-2\"><span class=\"toc-item-num\">2&nbsp;&nbsp;</span>Анализ</a></span></li><li><span><a href=\"#Обучение\" data-toc-modified-id=\"Обучение-3\"><span class=\"toc-item-num\">3&nbsp;&nbsp;</span>Обучение</a></span></li><li><span><a href=\"#Тестирование\" data-toc-modified-id=\"Тестирование-4\"><span class=\"toc-item-num\">4&nbsp;&nbsp;</span>Тестирование</a></span></li><li><span><a href=\"#Общий-вывод\" data-toc-modified-id=\"Общий-вывод-5\"><span class=\"toc-item-num\">5&nbsp;&nbsp;</span>Общий вывод</a></span></li></ul></div>"
   ]
  },
  {
   "cell_type": "markdown",
   "metadata": {},
   "source": [
    "#  Прогнозирование заказов такси"
   ]
  },
  {
   "cell_type": "markdown",
   "metadata": {},
   "source": [
    "## Подготовка"
   ]
  },
  {
   "cell_type": "code",
   "execution_count": 1,
   "metadata": {},
   "outputs": [],
   "source": [
    "import pandas as pd\n",
    "import numpy as np\n",
    "import matplotlib.pyplot as plt\n",
    "from statsmodels.tsa.seasonal import seasonal_decompose\n",
    "from sklearn.model_selection import train_test_split\n",
    "from sklearn.metrics import mean_squared_error\n",
    "from sklearn.linear_model import LinearRegression\n",
    "from sklearn.ensemble import RandomForestRegressor\n",
    "from xgboost import XGBRegressor\n",
    "import lightgbm as lgb"
   ]
  },
  {
   "cell_type": "code",
   "execution_count": 2,
   "metadata": {},
   "outputs": [],
   "source": [
    "RANDOM = 465"
   ]
  },
  {
   "cell_type": "code",
   "execution_count": 3,
   "metadata": {},
   "outputs": [],
   "source": [
    "data = pd.read_csv('/datasets/taxi.csv', index_col='datetime', parse_dates=True)"
   ]
  },
  {
   "cell_type": "code",
   "execution_count": 4,
   "metadata": {},
   "outputs": [],
   "source": [
    "data.sort_index(inplace=True)\n",
    "data = data.resample('1H').sum()"
   ]
  },
  {
   "cell_type": "code",
   "execution_count": 5,
   "metadata": {},
   "outputs": [
    {
     "name": "stdout",
     "output_type": "stream",
     "text": [
      "<class 'pandas.core.frame.DataFrame'>\n",
      "DatetimeIndex: 4416 entries, 2018-03-01 00:00:00 to 2018-08-31 23:00:00\n",
      "Freq: H\n",
      "Data columns (total 1 columns):\n",
      "num_orders    4416 non-null int64\n",
      "dtypes: int64(1)\n",
      "memory usage: 69.0 KB\n"
     ]
    }
   ],
   "source": [
    "data.info()"
   ]
  },
  {
   "cell_type": "code",
   "execution_count": 6,
   "metadata": {},
   "outputs": [
    {
     "data": {
      "text/html": [
       "<div>\n",
       "<style scoped>\n",
       "    .dataframe tbody tr th:only-of-type {\n",
       "        vertical-align: middle;\n",
       "    }\n",
       "\n",
       "    .dataframe tbody tr th {\n",
       "        vertical-align: top;\n",
       "    }\n",
       "\n",
       "    .dataframe thead th {\n",
       "        text-align: right;\n",
       "    }\n",
       "</style>\n",
       "<table border=\"1\" class=\"dataframe\">\n",
       "  <thead>\n",
       "    <tr style=\"text-align: right;\">\n",
       "      <th></th>\n",
       "      <th>num_orders</th>\n",
       "    </tr>\n",
       "    <tr>\n",
       "      <th>datetime</th>\n",
       "      <th></th>\n",
       "    </tr>\n",
       "  </thead>\n",
       "  <tbody>\n",
       "    <tr>\n",
       "      <td>2018-03-01 00:00:00</td>\n",
       "      <td>124</td>\n",
       "    </tr>\n",
       "    <tr>\n",
       "      <td>2018-03-01 01:00:00</td>\n",
       "      <td>85</td>\n",
       "    </tr>\n",
       "    <tr>\n",
       "      <td>2018-03-01 02:00:00</td>\n",
       "      <td>71</td>\n",
       "    </tr>\n",
       "    <tr>\n",
       "      <td>2018-03-01 03:00:00</td>\n",
       "      <td>66</td>\n",
       "    </tr>\n",
       "    <tr>\n",
       "      <td>2018-03-01 04:00:00</td>\n",
       "      <td>43</td>\n",
       "    </tr>\n",
       "  </tbody>\n",
       "</table>\n",
       "</div>"
      ],
      "text/plain": [
       "                     num_orders\n",
       "datetime                       \n",
       "2018-03-01 00:00:00         124\n",
       "2018-03-01 01:00:00          85\n",
       "2018-03-01 02:00:00          71\n",
       "2018-03-01 03:00:00          66\n",
       "2018-03-01 04:00:00          43"
      ]
     },
     "execution_count": 6,
     "metadata": {},
     "output_type": "execute_result"
    }
   ],
   "source": [
    "data.head()"
   ]
  },
  {
   "cell_type": "code",
   "execution_count": 7,
   "metadata": {},
   "outputs": [
    {
     "data": {
      "text/html": [
       "<div>\n",
       "<style scoped>\n",
       "    .dataframe tbody tr th:only-of-type {\n",
       "        vertical-align: middle;\n",
       "    }\n",
       "\n",
       "    .dataframe tbody tr th {\n",
       "        vertical-align: top;\n",
       "    }\n",
       "\n",
       "    .dataframe thead th {\n",
       "        text-align: right;\n",
       "    }\n",
       "</style>\n",
       "<table border=\"1\" class=\"dataframe\">\n",
       "  <thead>\n",
       "    <tr style=\"text-align: right;\">\n",
       "      <th></th>\n",
       "      <th>num_orders</th>\n",
       "    </tr>\n",
       "    <tr>\n",
       "      <th>datetime</th>\n",
       "      <th></th>\n",
       "    </tr>\n",
       "  </thead>\n",
       "  <tbody>\n",
       "    <tr>\n",
       "      <td>2018-08-07 21:00:00</td>\n",
       "      <td>101</td>\n",
       "    </tr>\n",
       "    <tr>\n",
       "      <td>2018-07-12 09:00:00</td>\n",
       "      <td>108</td>\n",
       "    </tr>\n",
       "    <tr>\n",
       "      <td>2018-04-27 03:00:00</td>\n",
       "      <td>117</td>\n",
       "    </tr>\n",
       "    <tr>\n",
       "      <td>2018-04-28 23:00:00</td>\n",
       "      <td>107</td>\n",
       "    </tr>\n",
       "    <tr>\n",
       "      <td>2018-04-03 20:00:00</td>\n",
       "      <td>37</td>\n",
       "    </tr>\n",
       "  </tbody>\n",
       "</table>\n",
       "</div>"
      ],
      "text/plain": [
       "                     num_orders\n",
       "datetime                       \n",
       "2018-08-07 21:00:00         101\n",
       "2018-07-12 09:00:00         108\n",
       "2018-04-27 03:00:00         117\n",
       "2018-04-28 23:00:00         107\n",
       "2018-04-03 20:00:00          37"
      ]
     },
     "execution_count": 7,
     "metadata": {},
     "output_type": "execute_result"
    }
   ],
   "source": [
    "data.sample(5, random_state = 455)"
   ]
  },
  {
   "cell_type": "code",
   "execution_count": 8,
   "metadata": {},
   "outputs": [
    {
     "data": {
      "text/html": [
       "<div>\n",
       "<style scoped>\n",
       "    .dataframe tbody tr th:only-of-type {\n",
       "        vertical-align: middle;\n",
       "    }\n",
       "\n",
       "    .dataframe tbody tr th {\n",
       "        vertical-align: top;\n",
       "    }\n",
       "\n",
       "    .dataframe thead th {\n",
       "        text-align: right;\n",
       "    }\n",
       "</style>\n",
       "<table border=\"1\" class=\"dataframe\">\n",
       "  <thead>\n",
       "    <tr style=\"text-align: right;\">\n",
       "      <th></th>\n",
       "      <th>num_orders</th>\n",
       "    </tr>\n",
       "  </thead>\n",
       "  <tbody>\n",
       "    <tr>\n",
       "      <td>count</td>\n",
       "      <td>4416.000000</td>\n",
       "    </tr>\n",
       "    <tr>\n",
       "      <td>mean</td>\n",
       "      <td>84.422781</td>\n",
       "    </tr>\n",
       "    <tr>\n",
       "      <td>std</td>\n",
       "      <td>45.023853</td>\n",
       "    </tr>\n",
       "    <tr>\n",
       "      <td>min</td>\n",
       "      <td>0.000000</td>\n",
       "    </tr>\n",
       "    <tr>\n",
       "      <td>25%</td>\n",
       "      <td>54.000000</td>\n",
       "    </tr>\n",
       "    <tr>\n",
       "      <td>50%</td>\n",
       "      <td>78.000000</td>\n",
       "    </tr>\n",
       "    <tr>\n",
       "      <td>75%</td>\n",
       "      <td>107.000000</td>\n",
       "    </tr>\n",
       "    <tr>\n",
       "      <td>max</td>\n",
       "      <td>462.000000</td>\n",
       "    </tr>\n",
       "  </tbody>\n",
       "</table>\n",
       "</div>"
      ],
      "text/plain": [
       "        num_orders\n",
       "count  4416.000000\n",
       "mean     84.422781\n",
       "std      45.023853\n",
       "min       0.000000\n",
       "25%      54.000000\n",
       "50%      78.000000\n",
       "75%     107.000000\n",
       "max     462.000000"
      ]
     },
     "execution_count": 8,
     "metadata": {},
     "output_type": "execute_result"
    }
   ],
   "source": [
    "data.describe()"
   ]
  },
  {
   "cell_type": "markdown",
   "metadata": {},
   "source": [
    "**Вывод**\n",
    "\n",
    "Представлены данные по количеству заказов такси по датам. Сгруппируем их по каждому часу суммарно."
   ]
  },
  {
   "cell_type": "markdown",
   "metadata": {},
   "source": [
    "## Анализ"
   ]
  },
  {
   "cell_type": "code",
   "execution_count": 9,
   "metadata": {},
   "outputs": [
    {
     "data": {
      "image/png": "[encoded data removed]",
      "text/plain": [
       "<Figure size 720x576 with 3 Axes>"
      ]
     },
     "metadata": {
      "needs_background": "light"
     },
     "output_type": "display_data"
    }
   ],
   "source": [
    "decomposed = seasonal_decompose(data)\n",
    "\n",
    "plt.figure(figsize=(10, 8))\n",
    "plt.subplot(311)\n",
    "\n",
    "decomposed.trend.plot(ax=plt.gca())\n",
    "plt.title('Trend')\n",
    "plt.subplot(312)\n",
    "decomposed.seasonal['2018-03-01':'2018-03-02'].plot(ax=plt.gca())\n",
    "plt.title('Seasonality')\n",
    "plt.subplot(313)\n",
    "decomposed.resid.plot(ax=plt.gca())\n",
    "plt.title('Residuals')\n",
    "plt.tight_layout()"
   ]
  },
  {
   "cell_type": "code",
   "execution_count": 10,
   "metadata": {
    "scrolled": true
   },
   "outputs": [
    {
     "data": {
      "image/png": "[encoded data removed]",
      "text/plain": [
       "<Figure size 1080x360 with 1 Axes>"
      ]
     },
     "metadata": {
      "needs_background": "light"
     },
     "output_type": "display_data"
    }
   ],
   "source": [
    "data.resample('W-MON').mean().plot(figsize=(15, 5), grid=True)\n",
    "plt.title('Среднее количество заказов по неделям')\n",
    "plt.show()"
   ]
  },
  {
   "cell_type": "code",
   "execution_count": 11,
   "metadata": {},
   "outputs": [
    {
     "data": {
      "text/html": [
       "<div>\n",
       "<style scoped>\n",
       "    .dataframe tbody tr th:only-of-type {\n",
       "        vertical-align: middle;\n",
       "    }\n",
       "\n",
       "    .dataframe tbody tr th {\n",
       "        vertical-align: top;\n",
       "    }\n",
       "\n",
       "    .dataframe thead th {\n",
       "        text-align: right;\n",
       "    }\n",
       "</style>\n",
       "<table border=\"1\" class=\"dataframe\">\n",
       "  <thead>\n",
       "    <tr style=\"text-align: right;\">\n",
       "      <th></th>\n",
       "      <th>num_orders</th>\n",
       "      <th>dayofweek</th>\n",
       "      <th>hour</th>\n",
       "      <th>prev_hour_1</th>\n",
       "      <th>rolling_mean</th>\n",
       "    </tr>\n",
       "    <tr>\n",
       "      <th>datetime</th>\n",
       "      <th></th>\n",
       "      <th></th>\n",
       "      <th></th>\n",
       "      <th></th>\n",
       "      <th></th>\n",
       "    </tr>\n",
       "  </thead>\n",
       "  <tbody>\n",
       "    <tr>\n",
       "      <td>2018-03-01 00:00:00</td>\n",
       "      <td>124</td>\n",
       "      <td>3</td>\n",
       "      <td>0</td>\n",
       "      <td>NaN</td>\n",
       "      <td>NaN</td>\n",
       "    </tr>\n",
       "    <tr>\n",
       "      <td>2018-03-01 01:00:00</td>\n",
       "      <td>85</td>\n",
       "      <td>3</td>\n",
       "      <td>1</td>\n",
       "      <td>124.0</td>\n",
       "      <td>NaN</td>\n",
       "    </tr>\n",
       "    <tr>\n",
       "      <td>2018-03-01 02:00:00</td>\n",
       "      <td>71</td>\n",
       "      <td>3</td>\n",
       "      <td>2</td>\n",
       "      <td>85.0</td>\n",
       "      <td>NaN</td>\n",
       "    </tr>\n",
       "    <tr>\n",
       "      <td>2018-03-01 03:00:00</td>\n",
       "      <td>66</td>\n",
       "      <td>3</td>\n",
       "      <td>3</td>\n",
       "      <td>71.0</td>\n",
       "      <td>NaN</td>\n",
       "    </tr>\n",
       "    <tr>\n",
       "      <td>2018-03-01 04:00:00</td>\n",
       "      <td>43</td>\n",
       "      <td>3</td>\n",
       "      <td>4</td>\n",
       "      <td>66.0</td>\n",
       "      <td>NaN</td>\n",
       "    </tr>\n",
       "  </tbody>\n",
       "</table>\n",
       "</div>"
      ],
      "text/plain": [
       "                     num_orders  dayofweek  hour  prev_hour_1  rolling_mean\n",
       "datetime                                                                   \n",
       "2018-03-01 00:00:00         124          3     0          NaN           NaN\n",
       "2018-03-01 01:00:00          85          3     1        124.0           NaN\n",
       "2018-03-01 02:00:00          71          3     2         85.0           NaN\n",
       "2018-03-01 03:00:00          66          3     3         71.0           NaN\n",
       "2018-03-01 04:00:00          43          3     4         66.0           NaN"
      ]
     },
     "execution_count": 11,
     "metadata": {},
     "output_type": "execute_result"
    }
   ],
   "source": [
    "def make_features(data, max_lag, rolling_mean_size):\n",
    "    data['dayofweek'] = data.index.dayofweek\n",
    "    data['hour'] = data.index.hour\n",
    "    \n",
    "    for lag in range(1, max_lag + 1):\n",
    "        data['prev_hour_{}'.format(lag)] = data['num_orders'].shift(lag)\n",
    "\n",
    "    data['rolling_mean'] = data['num_orders'].shift().rolling(rolling_mean_size).mean()\n",
    "\n",
    "make_features(data, 1, 24)\n",
    "\n",
    "data.head()"
   ]
  },
  {
   "cell_type": "code",
   "execution_count": 12,
   "metadata": {},
   "outputs": [
    {
     "data": {
      "image/png": "[encoded data removed]",
      "text/plain": [
       "<Figure size 1080x360 with 1 Axes>"
      ]
     },
     "metadata": {
      "needs_background": "light"
     },
     "output_type": "display_data"
    }
   ],
   "source": [
    "data[['num_orders','rolling_mean']].plot(figsize=(15, 5), grid=True)\n",
    "plt.show()"
   ]
  },
  {
   "cell_type": "markdown",
   "metadata": {},
   "source": [
    "**Вывод**\n",
    "\n",
    "График сезонности показывает, что пиковое число заказов происходит в полночь и спадает к 6 утра. Следующие пиковые значения происходят в 10 и 16 часов.  \n",
    "Больше всего заказов в неделю с среднем приходится на конец недели за исключением конца месяца.  \n",
    "\n",
    "В качестве признаков выделим день недели и час суток, предыдущий час, скользящее среднее за сутки."
   ]
  },
  {
   "cell_type": "markdown",
   "metadata": {},
   "source": [
    "## Обучение"
   ]
  },
  {
   "cell_type": "code",
   "execution_count": 13,
   "metadata": {},
   "outputs": [
    {
     "name": "stdout",
     "output_type": "stream",
     "text": [
      "Размер обучающей выборки: (3950, 5)\n",
      "С: 2018-03-02 00:00:00 по 2018-08-13 13:00:00\n",
      "Размер тестовой выборки: (442, 5)\n",
      "С: 2018-08-13 14:00:00 по 2018-08-31 23:00:00\n"
     ]
    }
   ],
   "source": [
    "train, test = train_test_split(data, shuffle=False, test_size=0.1)\n",
    "train = train.dropna()\n",
    "print('Размер обучающей выборки:', train.shape)\n",
    "print('С:', train.index.min(), 'по', train.index.max())\n",
    "print('Размер тестовой выборки:', test.shape)\n",
    "print('С:', test.index.min(), 'по', test.index.max())"
   ]
  },
  {
   "cell_type": "code",
   "execution_count": 14,
   "metadata": {},
   "outputs": [],
   "source": [
    "X_train = train.drop(['num_orders'], axis=1)\n",
    "y_train = train['num_orders']\n",
    "X_test= test.drop(['num_orders'], axis=1)\n",
    "y_test = test['num_orders']"
   ]
  },
  {
   "cell_type": "code",
   "execution_count": 15,
   "metadata": {},
   "outputs": [],
   "source": [
    "def feature_imp(model_attr, columns):\n",
    "    importances = model_attr\n",
    "    indices = np.argsort(importances)\n",
    "    \n",
    "    plt.figure(figsize=(10,7))\n",
    "    plt.title('Feature Importances')\n",
    "    plt.barh(range(len(indices)), importances[indices])\n",
    "    plt.yticks(range(len(indices)), [columns[i] for i in indices])\n",
    "    plt.grid()\n",
    "    plt.show()"
   ]
  },
  {
   "cell_type": "code",
   "execution_count": 16,
   "metadata": {},
   "outputs": [],
   "source": [
    "def true_pred_plot(true, pred):\n",
    "    plt.figure(figsize=(15, 5))\n",
    "    all_results = pd.concat([true, pd.Series(data=pred, index=true.index)],\n",
    "                        keys=['y_true', 'y_pred'], axis=1)\n",
    "    plt.grid()\n",
    "    plt.plot(all_results['2018-05-01':'2018-05-03'])\n",
    "    plt.show()"
   ]
  },
  {
   "cell_type": "markdown",
   "metadata": {},
   "source": [
    "**LinearRegression**"
   ]
  },
  {
   "cell_type": "code",
   "execution_count": 17,
   "metadata": {},
   "outputs": [
    {
     "data": {
      "text/plain": [
       "LinearRegression(copy_X=True, fit_intercept=True, n_jobs=None, normalize=False)"
      ]
     },
     "execution_count": 17,
     "metadata": {},
     "output_type": "execute_result"
    }
   ],
   "source": [
    "model_lr = LinearRegression()\n",
    "model_lr.fit(X_train, y_train)"
   ]
  },
  {
   "cell_type": "code",
   "execution_count": 18,
   "metadata": {},
   "outputs": [
    {
     "data": {
      "image/png": "[encoded data removed]",
      "text/plain": [
       "<Figure size 720x504 with 1 Axes>"
      ]
     },
     "metadata": {
      "needs_background": "light"
     },
     "output_type": "display_data"
    }
   ],
   "source": [
    "feature_imp(model_lr.coef_, X_train.columns)"
   ]
  },
  {
   "cell_type": "code",
   "execution_count": 19,
   "metadata": {},
   "outputs": [
    {
     "name": "stdout",
     "output_type": "stream",
     "text": [
      "RMSE: 30.90708535540955\n"
     ]
    }
   ],
   "source": [
    "predicted_train_lr = model_lr.predict(X_train)\n",
    "rmse_lr_train = mean_squared_error(y_train, predicted_train_lr) ** 0.5\n",
    "print('RMSE:', rmse_lr_train)"
   ]
  },
  {
   "cell_type": "code",
   "execution_count": 20,
   "metadata": {},
   "outputs": [
    {
     "data": {
      "image/png": "[encoded data removed]",
      "text/plain": [
       "<Figure size 1080x360 with 1 Axes>"
      ]
     },
     "metadata": {
      "needs_background": "light"
     },
     "output_type": "display_data"
    }
   ],
   "source": [
    "true_pred_plot(y_train, predicted_train_lr)"
   ]
  },
  {
   "cell_type": "markdown",
   "metadata": {},
   "source": [
    "**RandomForestRegressor**"
   ]
  },
  {
   "cell_type": "code",
   "execution_count": 21,
   "metadata": {},
   "outputs": [
    {
     "data": {
      "text/plain": [
       "RandomForestRegressor(bootstrap=True, criterion='mse', max_depth=15,\n",
       "                      max_features='auto', max_leaf_nodes=None,\n",
       "                      min_impurity_decrease=0.0, min_impurity_split=None,\n",
       "                      min_samples_leaf=3, min_samples_split=2,\n",
       "                      min_weight_fraction_leaf=0.0, n_estimators=75,\n",
       "                      n_jobs=None, oob_score=False, random_state=465, verbose=0,\n",
       "                      warm_start=False)"
      ]
     },
     "execution_count": 21,
     "metadata": {},
     "output_type": "execute_result"
    }
   ],
   "source": [
    "model_rf = RandomForestRegressor(n_estimators=75,\n",
    "                                 max_depth=15,\n",
    "                                 bootstrap=True,\n",
    "                                 min_samples_leaf=3,\n",
    "                                 random_state=RANDOM)\n",
    "model_rf.fit(X_train, y_train)"
   ]
  },
  {
   "cell_type": "code",
   "execution_count": 22,
   "metadata": {},
   "outputs": [
    {
     "data": {
      "image/png": "[encoded data removed]",
      "text/plain": [
       "<Figure size 720x504 with 1 Axes>"
      ]
     },
     "metadata": {
      "needs_background": "light"
     },
     "output_type": "display_data"
    }
   ],
   "source": [
    "feature_imp(model_rf.feature_importances_, X_train.columns)"
   ]
  },
  {
   "cell_type": "code",
   "execution_count": 23,
   "metadata": {},
   "outputs": [
    {
     "name": "stdout",
     "output_type": "stream",
     "text": [
      "RMSE: 14.63819127221155\n"
     ]
    }
   ],
   "source": [
    "predicted_train_rf = model_rf.predict(X_train)\n",
    "rmse_rf_train = mean_squared_error(y_train, predicted_train_rf) ** 0.5\n",
    "print('RMSE:', rmse_rf_train)"
   ]
  },
  {
   "cell_type": "code",
   "execution_count": 24,
   "metadata": {},
   "outputs": [
    {
     "data": {
      "image/png": "[encoded data removed]",
      "text/plain": [
       "<Figure size 1080x360 with 1 Axes>"
      ]
     },
     "metadata": {
      "needs_background": "light"
     },
     "output_type": "display_data"
    }
   ],
   "source": [
    "true_pred_plot(y_train, predicted_train_rf)"
   ]
  },
  {
   "cell_type": "markdown",
   "metadata": {},
   "source": [
    "**XGBoost**"
   ]
  },
  {
   "cell_type": "code",
   "execution_count": 25,
   "metadata": {},
   "outputs": [
    {
     "name": "stderr",
     "output_type": "stream",
     "text": [
      "/opt/conda/lib/python3.7/site-packages/xgboost/core.py:587: FutureWarning: Series.base is deprecated and will be removed in a future version\n",
      "  if getattr(data, 'base', None) is not None and \\\n",
      "/opt/conda/lib/python3.7/site-packages/xgboost/core.py:588: FutureWarning: Series.base is deprecated and will be removed in a future version\n",
      "  data.base is not None and isinstance(data, np.ndarray) \\\n"
     ]
    },
    {
     "name": "stdout",
     "output_type": "stream",
     "text": [
      "[21:45:59] WARNING: /workspace/src/objective/regression_obj.cu:152: reg:linear is now deprecated in favor of reg:squarederror.\n"
     ]
    },
    {
     "data": {
      "text/plain": [
       "XGBRegressor(base_score=0.5, booster='gbtree', colsample_bylevel=1,\n",
       "             colsample_bynode=1, colsample_bytree=1, gamma=0,\n",
       "             importance_type='gain', learning_rate=0.01, max_delta_step=0,\n",
       "             max_depth=5, min_child_weight=2, missing=None, n_estimators=3000,\n",
       "             n_jobs=1, nthread=None, objective='reg:linear', random_state=465,\n",
       "             reg_alpha=0, reg_lambda=1, scale_pos_weight=1, seed=None,\n",
       "             silent=None, subsample=1, verbosity=1)"
      ]
     },
     "execution_count": 25,
     "metadata": {},
     "output_type": "execute_result"
    }
   ],
   "source": [
    "xgb = XGBRegressor(n_estimators=3000,\n",
    "                   max_depth=5, learning_rate=0.01,\n",
    "                   min_child_weight=2,\n",
    "                   random_state=RANDOM)\n",
    "xgb.fit(X_train, y_train,\n",
    "        eval_set=[(X_test, y_test)],\n",
    "        eval_metric=\"rmse\",\n",
    "        early_stopping_rounds=10,\n",
    "        verbose=False)"
   ]
  },
  {
   "cell_type": "code",
   "execution_count": 26,
   "metadata": {},
   "outputs": [
    {
     "data": {
      "image/png": "[encoded data removed]",
      "text/plain": [
       "<Figure size 720x504 with 1 Axes>"
      ]
     },
     "metadata": {
      "needs_background": "light"
     },
     "output_type": "display_data"
    }
   ],
   "source": [
    "feature_imp(xgb.feature_importances_, X_train.columns)"
   ]
  },
  {
   "cell_type": "code",
   "execution_count": 27,
   "metadata": {},
   "outputs": [
    {
     "name": "stdout",
     "output_type": "stream",
     "text": [
      "RMSE: 18.146142802310298\n"
     ]
    }
   ],
   "source": [
    "predicted_train_xgb = xgb.predict(X_train)\n",
    "rmse_xgb_train = mean_squared_error(y_train, predicted_train_xgb) ** 0.5\n",
    "print('RMSE:', rmse_xgb_train)"
   ]
  },
  {
   "cell_type": "code",
   "execution_count": 28,
   "metadata": {},
   "outputs": [
    {
     "data": {
      "image/png": "[encoded data removed]",
      "text/plain": [
       "<Figure size 1080x360 with 1 Axes>"
      ]
     },
     "metadata": {
      "needs_background": "light"
     },
     "output_type": "display_data"
    }
   ],
   "source": [
    "true_pred_plot(y_train, predicted_train_xgb)"
   ]
  },
  {
   "cell_type": "markdown",
   "metadata": {},
   "source": [
    "**LightGBM**"
   ]
  },
  {
   "cell_type": "code",
   "execution_count": 29,
   "metadata": {},
   "outputs": [],
   "source": [
    "params_gbm = {\n",
    "    'metric': ['l1', 'l2'],\n",
    "    'learning_rate': 0.01,\n",
    "    'max_depth': 10,\n",
    "    \"n_estimators\": 3000,\n",
    "    'num_leaves': 40,\n",
    "    'random_state': RANDOM\n",
    "    }\n",
    "\n",
    "gbm = lgb.LGBMRegressor(**params_gbm)"
   ]
  },
  {
   "cell_type": "code",
   "execution_count": 30,
   "metadata": {
    "scrolled": true
   },
   "outputs": [
    {
     "data": {
      "text/plain": [
       "LGBMRegressor(boosting_type='gbdt', class_weight=None, colsample_bytree=1.0,\n",
       "              importance_type='split', learning_rate=0.01, max_depth=10,\n",
       "              metric=['l1', 'l2'], min_child_samples=20, min_child_weight=0.001,\n",
       "              min_split_gain=0.0, n_estimators=3000, n_jobs=-1, num_leaves=40,\n",
       "              objective=None, random_state=465, reg_alpha=0.0, reg_lambda=0.0,\n",
       "              silent=True, subsample=1.0, subsample_for_bin=200000,\n",
       "              subsample_freq=0)"
      ]
     },
     "execution_count": 30,
     "metadata": {},
     "output_type": "execute_result"
    }
   ],
   "source": [
    "gbm.fit(X_train, y_train,\n",
    "        eval_set=[(X_test, y_test)],\n",
    "        eval_metric=\"l1\",\n",
    "        early_stopping_rounds=10,\n",
    "        verbose=False)"
   ]
  },
  {
   "cell_type": "code",
   "execution_count": 31,
   "metadata": {},
   "outputs": [
    {
     "data": {
      "image/png": "[encoded data removed]",
      "text/plain": [
       "<Figure size 720x504 with 1 Axes>"
      ]
     },
     "metadata": {
      "needs_background": "light"
     },
     "output_type": "display_data"
    }
   ],
   "source": [
    "feature_imp(gbm.feature_importances_, X_train.columns)"
   ]
  },
  {
   "cell_type": "code",
   "execution_count": 32,
   "metadata": {},
   "outputs": [
    {
     "name": "stdout",
     "output_type": "stream",
     "text": [
      "RMSE: 18.553870506573418\n"
     ]
    }
   ],
   "source": [
    "predicted_train_gbm = gbm.predict(X_train, num_iteration=gbm.best_iteration_)\n",
    "rmse_gbm_train = mean_squared_error(y_train, predicted_train_gbm) ** 0.5\n",
    "print('RMSE:', rmse_gbm_train)"
   ]
  },
  {
   "cell_type": "code",
   "execution_count": 33,
   "metadata": {},
   "outputs": [
    {
     "data": {
      "image/png": "[encoded data removed]",
      "text/plain": [
       "<Figure size 1080x360 with 1 Axes>"
      ]
     },
     "metadata": {
      "needs_background": "light"
     },
     "output_type": "display_data"
    }
   ],
   "source": [
    "true_pred_plot(y_train, predicted_train_gbm)"
   ]
  },
  {
   "cell_type": "markdown",
   "metadata": {},
   "source": [
    "**Предыдущее значение**"
   ]
  },
  {
   "cell_type": "code",
   "execution_count": 34,
   "metadata": {},
   "outputs": [
    {
     "name": "stdout",
     "output_type": "stream",
     "text": [
      "RMSE: 36.183526568546476\n"
     ]
    }
   ],
   "source": [
    "pred_previous_train = y_train.shift()\n",
    "pred_previous_train.iloc[0] = y_train.iloc[-1]\n",
    "pred_previous_train = mean_squared_error(y_train, pred_previous_train) ** 0.5\n",
    "print(\"RMSE:\", pred_previous_train)"
   ]
  },
  {
   "cell_type": "markdown",
   "metadata": {},
   "source": [
    "**Вывод**\n",
    "\n",
    "При обучении у всех моделей самыми важными признаками являются предыдущий час и данный час в сутках.  \n",
    "Наибольшие ошибки в предсказаниях моделей в максимальных значениях в полночь.  \n",
    "Лучшее RMSE у LightGBM, XGBoost и RandomForestRegressor на тренировочной выборке."
   ]
  },
  {
   "cell_type": "markdown",
   "metadata": {},
   "source": [
    "## Тестирование"
   ]
  },
  {
   "cell_type": "markdown",
   "metadata": {},
   "source": [
    "**LinearRegression**"
   ]
  },
  {
   "cell_type": "code",
   "execution_count": 35,
   "metadata": {},
   "outputs": [
    {
     "name": "stdout",
     "output_type": "stream",
     "text": [
      "RMSE: 51.194080671652486\n"
     ]
    }
   ],
   "source": [
    "predicted_test_lr = model_lr.predict(X_test)\n",
    "rmse_lr_test = mean_squared_error(y_test, predicted_test_lr) ** 0.5\n",
    "print('RMSE:', rmse_lr_test)"
   ]
  },
  {
   "cell_type": "markdown",
   "metadata": {},
   "source": [
    "**RandomForestRegressor**"
   ]
  },
  {
   "cell_type": "code",
   "execution_count": 36,
   "metadata": {},
   "outputs": [
    {
     "name": "stdout",
     "output_type": "stream",
     "text": [
      "RMSE: 44.92138578393098\n"
     ]
    }
   ],
   "source": [
    "predicted_test_rf = model_rf.predict(X_test)\n",
    "rmse_rf_test = mean_squared_error(y_test, predicted_test_rf) ** 0.5\n",
    "print('RMSE:', rmse_rf_test)"
   ]
  },
  {
   "cell_type": "markdown",
   "metadata": {},
   "source": [
    "**XGBoost**"
   ]
  },
  {
   "cell_type": "code",
   "execution_count": 37,
   "metadata": {},
   "outputs": [
    {
     "name": "stdout",
     "output_type": "stream",
     "text": [
      "RMSE: 44.72628384226833\n"
     ]
    }
   ],
   "source": [
    "predicted_test_xgb = xgb.predict(X_test)\n",
    "rmse_xgb_test = mean_squared_error(y_test, predicted_test_xgb) ** 0.5\n",
    "print('RMSE:', rmse_xgb_test)"
   ]
  },
  {
   "cell_type": "markdown",
   "metadata": {},
   "source": [
    "**LightGBM**"
   ]
  },
  {
   "cell_type": "code",
   "execution_count": 38,
   "metadata": {
    "scrolled": true
   },
   "outputs": [
    {
     "name": "stdout",
     "output_type": "stream",
     "text": [
      "RMSE: 44.5336754173035\n"
     ]
    }
   ],
   "source": [
    "predicted_test_gbm = gbm.predict(X_test)\n",
    "rmse_gbm_test = mean_squared_error(y_test, predicted_test_gbm) ** 0.5\n",
    "print('RMSE:', rmse_gbm_test)"
   ]
  },
  {
   "cell_type": "markdown",
   "metadata": {},
   "source": [
    "**Предыдущее значение**"
   ]
  },
  {
   "cell_type": "code",
   "execution_count": 39,
   "metadata": {},
   "outputs": [
    {
     "name": "stdout",
     "output_type": "stream",
     "text": [
      "RMSE: 59.054503546641314\n"
     ]
    }
   ],
   "source": [
    "pred_previous_test = y_test.shift()\n",
    "pred_previous_test.iloc[0] = y_test.iloc[-1]\n",
    "pred_previous_test = mean_squared_error(y_test, pred_previous_test) ** 0.5\n",
    "print(\"RMSE:\", pred_previous_test)"
   ]
  },
  {
   "cell_type": "markdown",
   "metadata": {},
   "source": [
    "**Вывод**\n",
    "\n",
    "У LightGBM, XGBoost и RandomForestRegressor RMSE ниже 48 на тестовой выборке.  \n",
    "Предсказание по предыдущему значению ряда и LinearRegression имеют RMSE выше, чем 48 и выше.  "
   ]
  },
  {
   "cell_type": "markdown",
   "metadata": {},
   "source": [
    "## Общий вывод"
   ]
  },
  {
   "cell_type": "code",
   "execution_count": 40,
   "metadata": {
    "scrolled": true
   },
   "outputs": [
    {
     "data": {
      "text/html": [
       "<div>\n",
       "<style scoped>\n",
       "    .dataframe tbody tr th:only-of-type {\n",
       "        vertical-align: middle;\n",
       "    }\n",
       "\n",
       "    .dataframe tbody tr th {\n",
       "        vertical-align: top;\n",
       "    }\n",
       "\n",
       "    .dataframe thead th {\n",
       "        text-align: right;\n",
       "    }\n",
       "</style>\n",
       "<table border=\"1\" class=\"dataframe\">\n",
       "  <thead>\n",
       "    <tr style=\"text-align: right;\">\n",
       "      <th></th>\n",
       "      <th>model</th>\n",
       "      <th>RMSE train</th>\n",
       "      <th>RMSE test</th>\n",
       "    </tr>\n",
       "  </thead>\n",
       "  <tbody>\n",
       "    <tr>\n",
       "      <td>3</td>\n",
       "      <td>LightGBM</td>\n",
       "      <td>18.553871</td>\n",
       "      <td>44.533675</td>\n",
       "    </tr>\n",
       "    <tr>\n",
       "      <td>2</td>\n",
       "      <td>XGBoost</td>\n",
       "      <td>18.146143</td>\n",
       "      <td>44.726284</td>\n",
       "    </tr>\n",
       "    <tr>\n",
       "      <td>1</td>\n",
       "      <td>RandomForestRegressor</td>\n",
       "      <td>14.638191</td>\n",
       "      <td>44.921386</td>\n",
       "    </tr>\n",
       "    <tr>\n",
       "      <td>0</td>\n",
       "      <td>LinearRegression</td>\n",
       "      <td>30.907085</td>\n",
       "      <td>51.194081</td>\n",
       "    </tr>\n",
       "    <tr>\n",
       "      <td>4</td>\n",
       "      <td>prev_hour</td>\n",
       "      <td>36.183527</td>\n",
       "      <td>59.054504</td>\n",
       "    </tr>\n",
       "  </tbody>\n",
       "</table>\n",
       "</div>"
      ],
      "text/plain": [
       "                   model  RMSE train  RMSE test\n",
       "3               LightGBM   18.553871  44.533675\n",
       "2                XGBoost   18.146143  44.726284\n",
       "1  RandomForestRegressor   14.638191  44.921386\n",
       "0       LinearRegression   30.907085  51.194081\n",
       "4              prev_hour   36.183527  59.054504"
      ]
     },
     "execution_count": 40,
     "metadata": {},
     "output_type": "execute_result"
    }
   ],
   "source": [
    "overall = pd.DataFrame({\n",
    "    'model': ['LinearRegression', 'RandomForestRegressor', 'XGBoost', 'LightGBM', 'prev_hour'], \n",
    "    'RMSE train': [rmse_lr_train, rmse_rf_train, rmse_xgb_train, rmse_gbm_train, pred_previous_train], \n",
    "    'RMSE test': [rmse_lr_test, rmse_rf_test, rmse_xgb_test, rmse_gbm_test, pred_previous_test]\n",
    "})\n",
    "overall.sort_values(by='RMSE test')"
   ]
  },
  {
   "cell_type": "markdown",
   "metadata": {},
   "source": [
    "У LightGBM, XGBoost, RandomForestRegressor RMSE менее 48.  \n",
    "Лучший показатель RMSE на тренировочной и тестовой выборках у LightGBM.  \n",
    "Важными признаками являются предыдущий час и данный час в сутках.  \n",
    "RMSE по предыдущему значению ряда выше 48.  \n",
    "Наибольшие ошибки в предсказаниях моделей в максимальных значениях в полночь.  \n",
    "Больше всего заказов в день происходит в полночь, в неделю в конце недели.  "
   ]
  }
 ],
 "metadata": {
  "ExecuteTimeLog": [
   {
    "duration": 799,
    "start_time": "2021-09-07T11:58:48.073Z"
   },
   {
    "duration": 39,
    "start_time": "2021-09-07T12:01:02.452Z"
   },
   {
    "duration": 23,
    "start_time": "2021-09-07T12:01:11.897Z"
   },
   {
    "duration": 43,
    "start_time": "2021-09-07T12:02:13.576Z"
   },
   {
    "duration": 20,
    "start_time": "2021-09-07T12:02:14.167Z"
   },
   {
    "duration": 44,
    "start_time": "2021-09-07T12:02:21.525Z"
   },
   {
    "duration": 12,
    "start_time": "2021-09-07T12:02:21.858Z"
   },
   {
    "duration": 43,
    "start_time": "2021-09-07T12:02:29.541Z"
   },
   {
    "duration": 13,
    "start_time": "2021-09-07T12:02:29.785Z"
   },
   {
    "duration": 164,
    "start_time": "2021-09-07T12:03:08.668Z"
   },
   {
    "duration": 13,
    "start_time": "2021-09-07T12:03:08.949Z"
   },
   {
    "duration": 46,
    "start_time": "2021-09-07T12:03:11.791Z"
   },
   {
    "duration": 12,
    "start_time": "2021-09-07T12:03:12.126Z"
   },
   {
    "duration": 459,
    "start_time": "2021-09-07T12:03:26.421Z"
   },
   {
    "duration": -210,
    "start_time": "2021-09-07T12:03:27.093Z"
   },
   {
    "duration": 44,
    "start_time": "2021-09-07T12:03:47.959Z"
   },
   {
    "duration": 13,
    "start_time": "2021-09-07T12:03:48.214Z"
   },
   {
    "duration": 43,
    "start_time": "2021-09-07T12:27:32.148Z"
   },
   {
    "duration": 11,
    "start_time": "2021-09-07T12:27:32.412Z"
   },
   {
    "duration": 44,
    "start_time": "2021-09-07T12:27:37.556Z"
   },
   {
    "duration": 12,
    "start_time": "2021-09-07T12:27:37.969Z"
   },
   {
    "duration": 8,
    "start_time": "2021-09-07T12:33:27.694Z"
   },
   {
    "duration": 20,
    "start_time": "2021-09-07T12:34:17.514Z"
   },
   {
    "duration": 4,
    "start_time": "2021-09-07T12:34:27.689Z"
   },
   {
    "duration": 17,
    "start_time": "2021-09-07T12:34:35.125Z"
   },
   {
    "duration": 504,
    "start_time": "2021-09-07T12:35:08.342Z"
   },
   {
    "duration": 398,
    "start_time": "2021-09-07T12:35:18.318Z"
   },
   {
    "duration": 47,
    "start_time": "2021-09-07T12:35:21.242Z"
   },
   {
    "duration": 11,
    "start_time": "2021-09-07T12:35:21.580Z"
   },
   {
    "duration": 13,
    "start_time": "2021-09-07T12:35:25.654Z"
   },
   {
    "duration": 46,
    "start_time": "2021-09-07T12:35:38.193Z"
   },
   {
    "duration": 11,
    "start_time": "2021-09-07T12:35:38.472Z"
   },
   {
    "duration": 12,
    "start_time": "2021-09-07T12:35:39.079Z"
   },
   {
    "duration": 8,
    "start_time": "2021-09-07T12:39:25.733Z"
   },
   {
    "duration": 18,
    "start_time": "2021-09-07T12:39:46.547Z"
   },
   {
    "duration": 10,
    "start_time": "2021-09-07T12:40:27.624Z"
   },
   {
    "duration": 582,
    "start_time": "2021-09-07T14:39:27.393Z"
   },
   {
    "duration": 3,
    "start_time": "2021-09-07T14:39:42.718Z"
   },
   {
    "duration": 516,
    "start_time": "2021-09-07T14:39:57.651Z"
   },
   {
    "duration": 576,
    "start_time": "2021-09-07T14:40:27.379Z"
   },
   {
    "duration": 352,
    "start_time": "2021-09-07T14:42:47.737Z"
   },
   {
    "duration": 373,
    "start_time": "2021-09-07T14:43:11.568Z"
   },
   {
    "duration": 360,
    "start_time": "2021-09-07T14:43:21.693Z"
   },
   {
    "duration": 9,
    "start_time": "2021-09-07T14:44:39.381Z"
   },
   {
    "duration": 966,
    "start_time": "2021-09-07T15:31:04.068Z"
   },
   {
    "duration": 1213,
    "start_time": "2021-09-07T15:31:37.528Z"
   },
   {
    "duration": 1199,
    "start_time": "2021-09-07T15:31:48.956Z"
   },
   {
    "duration": 1131,
    "start_time": "2021-09-07T15:31:57.681Z"
   },
   {
    "duration": 1139,
    "start_time": "2021-09-07T15:32:20.359Z"
   },
   {
    "duration": 1232,
    "start_time": "2021-09-07T15:32:30.997Z"
   },
   {
    "duration": 1129,
    "start_time": "2021-09-07T15:32:52.599Z"
   },
   {
    "duration": 599,
    "start_time": "2021-09-07T15:35:37.276Z"
   },
   {
    "duration": 690,
    "start_time": "2021-09-07T15:36:51.847Z"
   },
   {
    "duration": 590,
    "start_time": "2021-09-07T16:01:18.710Z"
   },
   {
    "duration": 403,
    "start_time": "2021-09-07T16:01:50.703Z"
   },
   {
    "duration": 9,
    "start_time": "2021-09-07T16:02:39.073Z"
   },
   {
    "duration": 1607,
    "start_time": "2021-09-07T16:03:19.589Z"
   },
   {
    "duration": 47,
    "start_time": "2021-09-07T16:03:21.199Z"
   },
   {
    "duration": 22,
    "start_time": "2021-09-07T16:03:21.249Z"
   },
   {
    "duration": 9,
    "start_time": "2021-09-07T16:03:21.274Z"
   },
   {
    "duration": 15,
    "start_time": "2021-09-07T16:03:21.285Z"
   },
   {
    "duration": 10,
    "start_time": "2021-09-07T16:03:21.302Z"
   },
   {
    "duration": 17,
    "start_time": "2021-09-07T16:03:21.933Z"
   },
   {
    "duration": 10,
    "start_time": "2021-09-07T16:03:23.968Z"
   },
   {
    "duration": 6,
    "start_time": "2021-09-07T16:03:41.247Z"
   },
   {
    "duration": 1625,
    "start_time": "2021-09-07T16:04:01.389Z"
   },
   {
    "duration": 1611,
    "start_time": "2021-09-07T16:04:40.334Z"
   },
   {
    "duration": 1848,
    "start_time": "2021-09-07T16:04:49.870Z"
   },
   {
    "duration": 1452,
    "start_time": "2021-09-08T07:44:39.812Z"
   },
   {
    "duration": 402,
    "start_time": "2021-09-08T07:44:41.266Z"
   },
   {
    "duration": 13,
    "start_time": "2021-09-08T07:44:41.671Z"
   },
   {
    "duration": 9,
    "start_time": "2021-09-08T07:44:41.686Z"
   },
   {
    "duration": 13,
    "start_time": "2021-09-08T07:44:43.334Z"
   },
   {
    "duration": 11,
    "start_time": "2021-09-08T07:45:03.010Z"
   },
   {
    "duration": 17,
    "start_time": "2021-09-08T07:45:03.810Z"
   },
   {
    "duration": 1923,
    "start_time": "2021-09-08T07:45:09.999Z"
   },
   {
    "duration": 750,
    "start_time": "2021-09-08T07:45:14.569Z"
   },
   {
    "duration": 343,
    "start_time": "2021-09-08T07:45:18.189Z"
   },
   {
    "duration": 854,
    "start_time": "2021-09-08T07:45:31.034Z"
   },
   {
    "duration": 689,
    "start_time": "2021-09-08T07:49:56.300Z"
   },
   {
    "duration": 700,
    "start_time": "2021-09-08T07:50:37.449Z"
   },
   {
    "duration": 80,
    "start_time": "2021-09-08T07:51:53.340Z"
   },
   {
    "duration": 11,
    "start_time": "2021-09-08T07:52:30.807Z"
   },
   {
    "duration": 445,
    "start_time": "2021-09-08T07:56:09.462Z"
   },
   {
    "duration": 4,
    "start_time": "2021-09-08T07:56:41.305Z"
   },
   {
    "duration": 307,
    "start_time": "2021-09-08T07:56:45.454Z"
   },
   {
    "duration": 4,
    "start_time": "2021-09-08T07:58:11.756Z"
   },
   {
    "duration": 321,
    "start_time": "2021-09-08T07:58:29.816Z"
   },
   {
    "duration": 7,
    "start_time": "2021-09-08T07:59:37.627Z"
   },
   {
    "duration": 5,
    "start_time": "2021-09-08T07:59:53.313Z"
   },
   {
    "duration": 16,
    "start_time": "2021-09-08T08:00:03.665Z"
   },
   {
    "duration": 5,
    "start_time": "2021-09-08T08:00:09.655Z"
   },
   {
    "duration": 318,
    "start_time": "2021-09-08T08:00:41.464Z"
   },
   {
    "duration": 9147,
    "start_time": "2021-09-08T08:00:51.708Z"
   },
   {
    "duration": 485,
    "start_time": "2021-09-08T08:01:04.941Z"
   },
   {
    "duration": 324,
    "start_time": "2021-09-08T08:01:28.613Z"
   },
   {
    "duration": 1475,
    "start_time": "2021-09-08T08:06:50.571Z"
   },
   {
    "duration": 47,
    "start_time": "2021-09-08T08:06:52.049Z"
   },
   {
    "duration": 22,
    "start_time": "2021-09-08T08:06:52.099Z"
   },
   {
    "duration": 9,
    "start_time": "2021-09-08T08:06:52.281Z"
   },
   {
    "duration": 14,
    "start_time": "2021-09-08T08:06:54.419Z"
   },
   {
    "duration": 11,
    "start_time": "2021-09-08T08:06:54.962Z"
   },
   {
    "duration": 16,
    "start_time": "2021-09-08T08:06:55.470Z"
   },
   {
    "duration": 1829,
    "start_time": "2021-09-08T08:07:03.550Z"
   },
   {
    "duration": 674,
    "start_time": "2021-09-08T08:07:08.365Z"
   },
   {
    "duration": 423,
    "start_time": "2021-09-08T08:07:16.067Z"
   },
   {
    "duration": 24,
    "start_time": "2021-09-08T08:07:45.162Z"
   },
   {
    "duration": 25,
    "start_time": "2021-09-08T08:09:10.259Z"
   },
   {
    "duration": 866,
    "start_time": "2021-09-08T08:09:31.186Z"
   },
   {
    "duration": 536,
    "start_time": "2021-09-08T08:16:13.201Z"
   },
   {
    "duration": 9393,
    "start_time": "2021-09-08T08:16:35.429Z"
   },
   {
    "duration": 311,
    "start_time": "2021-09-08T08:16:57.758Z"
   },
   {
    "duration": 435,
    "start_time": "2021-09-08T08:17:03.360Z"
   },
   {
    "duration": 326,
    "start_time": "2021-09-08T08:18:30.320Z"
   },
   {
    "duration": 686,
    "start_time": "2021-09-08T08:18:37.709Z"
   },
   {
    "duration": 13,
    "start_time": "2021-09-08T08:21:01.084Z"
   },
   {
    "duration": 13,
    "start_time": "2021-09-08T08:21:42.461Z"
   },
   {
    "duration": 333,
    "start_time": "2021-09-08T08:23:21.912Z"
   },
   {
    "duration": 21,
    "start_time": "2021-09-08T08:23:36.089Z"
   },
   {
    "duration": 336,
    "start_time": "2021-09-08T08:23:44.915Z"
   },
   {
    "duration": 6,
    "start_time": "2021-09-08T08:23:50.260Z"
   },
   {
    "duration": 48,
    "start_time": "2021-09-08T08:23:50.270Z"
   },
   {
    "duration": 7,
    "start_time": "2021-09-08T08:24:18.009Z"
   },
   {
    "duration": 7,
    "start_time": "2021-09-08T08:24:56.492Z"
   },
   {
    "duration": 28,
    "start_time": "2021-09-08T08:25:10.897Z"
   },
   {
    "duration": 7,
    "start_time": "2021-09-08T08:25:11.186Z"
   },
   {
    "duration": 9,
    "start_time": "2021-09-08T08:25:17.892Z"
   },
   {
    "duration": 79,
    "start_time": "2021-09-08T08:25:18.039Z"
   },
   {
    "duration": 7,
    "start_time": "2021-09-08T08:26:45.021Z"
   },
   {
    "duration": 14,
    "start_time": "2021-09-08T08:30:29.446Z"
   },
   {
    "duration": 9,
    "start_time": "2021-09-08T08:30:30.764Z"
   },
   {
    "duration": 10,
    "start_time": "2021-09-08T08:30:31.130Z"
   },
   {
    "duration": 7,
    "start_time": "2021-09-08T08:30:31.455Z"
   },
   {
    "duration": 7,
    "start_time": "2021-09-08T08:30:31.797Z"
   },
   {
    "duration": 17,
    "start_time": "2021-09-08T08:32:06.105Z"
   },
   {
    "duration": 16,
    "start_time": "2021-09-08T08:32:28.327Z"
   },
   {
    "duration": 19,
    "start_time": "2021-09-08T08:33:17.750Z"
   },
   {
    "duration": 14,
    "start_time": "2021-09-08T08:33:31.536Z"
   },
   {
    "duration": 5,
    "start_time": "2021-09-08T08:34:46.556Z"
   },
   {
    "duration": 10,
    "start_time": "2021-09-08T08:39:43.721Z"
   },
   {
    "duration": 11,
    "start_time": "2021-09-08T08:39:43.995Z"
   },
   {
    "duration": 7,
    "start_time": "2021-09-08T08:40:19.918Z"
   },
   {
    "duration": 318,
    "start_time": "2021-09-08T08:44:24.686Z"
   },
   {
    "duration": 319,
    "start_time": "2021-09-08T08:44:38.037Z"
   },
   {
    "duration": 325,
    "start_time": "2021-09-08T08:49:29.734Z"
   },
   {
    "duration": 20,
    "start_time": "2021-09-08T08:49:47.630Z"
   },
   {
    "duration": 5,
    "start_time": "2021-09-08T08:49:52.193Z"
   },
   {
    "duration": 99743,
    "start_time": "2021-09-08T08:50:21.882Z"
   },
   {
    "duration": 456,
    "start_time": "2021-09-08T08:52:50.284Z"
   },
   {
    "duration": 192,
    "start_time": "2021-09-08T08:52:57.034Z"
   },
   {
    "duration": 9,
    "start_time": "2021-09-08T08:54:43.578Z"
   },
   {
    "duration": 7,
    "start_time": "2021-09-08T08:54:56.731Z"
   },
   {
    "duration": 7,
    "start_time": "2021-09-08T08:55:07.825Z"
   },
   {
    "duration": 21,
    "start_time": "2021-09-08T08:55:19.961Z"
   },
   {
    "duration": 338,
    "start_time": "2021-09-08T08:56:17.262Z"
   },
   {
    "duration": 4,
    "start_time": "2021-09-08T08:57:11.422Z"
   },
   {
    "duration": 4783,
    "start_time": "2021-09-08T08:57:13.240Z"
   },
   {
    "duration": 390,
    "start_time": "2021-09-08T08:57:18.026Z"
   },
   {
    "duration": 142,
    "start_time": "2021-09-08T08:57:18.675Z"
   },
   {
    "duration": 22,
    "start_time": "2021-09-08T08:57:22.069Z"
   },
   {
    "duration": 4,
    "start_time": "2021-09-08T08:58:04.943Z"
   },
   {
    "duration": 17992,
    "start_time": "2021-09-08T08:58:05.339Z"
   },
   {
    "duration": 395,
    "start_time": "2021-09-08T08:58:23.334Z"
   },
   {
    "duration": 685,
    "start_time": "2021-09-08T08:58:23.732Z"
   },
   {
    "duration": 102,
    "start_time": "2021-09-08T08:58:24.420Z"
   },
   {
    "duration": 4,
    "start_time": "2021-09-08T08:58:40.149Z"
   },
   {
    "duration": 12007,
    "start_time": "2021-09-08T08:58:40.628Z"
   },
   {
    "duration": 341,
    "start_time": "2021-09-08T08:58:52.716Z"
   },
   {
    "duration": 467,
    "start_time": "2021-09-08T08:58:53.060Z"
   },
   {
    "duration": 186,
    "start_time": "2021-09-08T08:58:53.530Z"
   },
   {
    "duration": 5,
    "start_time": "2021-09-08T08:59:07.058Z"
   },
   {
    "duration": 13749,
    "start_time": "2021-09-08T08:59:07.370Z"
   },
   {
    "duration": 353,
    "start_time": "2021-09-08T08:59:21.123Z"
   },
   {
    "duration": 449,
    "start_time": "2021-09-08T08:59:21.480Z"
   },
   {
    "duration": 94,
    "start_time": "2021-09-08T08:59:21.932Z"
   },
   {
    "duration": 4,
    "start_time": "2021-09-08T08:59:50.126Z"
   },
   {
    "duration": 8387,
    "start_time": "2021-09-08T08:59:50.132Z"
   },
   {
    "duration": 347,
    "start_time": "2021-09-08T08:59:58.522Z"
   },
   {
    "duration": 253,
    "start_time": "2021-09-08T08:59:58.872Z"
   },
   {
    "duration": 94,
    "start_time": "2021-09-08T08:59:59.128Z"
   },
   {
    "duration": 4,
    "start_time": "2021-09-08T09:00:27.171Z"
   },
   {
    "duration": 16395,
    "start_time": "2021-09-08T09:00:27.537Z"
   },
   {
    "duration": 409,
    "start_time": "2021-09-08T09:00:43.934Z"
   },
   {
    "duration": 577,
    "start_time": "2021-09-08T09:00:44.346Z"
   },
   {
    "duration": 100,
    "start_time": "2021-09-08T09:00:44.925Z"
   },
   {
    "duration": 5,
    "start_time": "2021-09-08T09:01:11.663Z"
   },
   {
    "duration": 18670,
    "start_time": "2021-09-08T09:01:12.051Z"
   },
   {
    "duration": 348,
    "start_time": "2021-09-08T09:01:30.724Z"
   },
   {
    "duration": 553,
    "start_time": "2021-09-08T09:01:31.075Z"
   },
   {
    "duration": 186,
    "start_time": "2021-09-08T09:01:31.631Z"
   },
   {
    "duration": 401,
    "start_time": "2021-09-08T09:06:16.113Z"
   },
   {
    "duration": 34,
    "start_time": "2021-09-08T09:06:35.705Z"
   },
   {
    "duration": 475,
    "start_time": "2021-09-08T09:07:00.822Z"
   },
   {
    "duration": 768,
    "start_time": "2021-09-08T09:07:11.157Z"
   },
   {
    "duration": 359,
    "start_time": "2021-09-08T09:07:37.960Z"
   },
   {
    "duration": 9,
    "start_time": "2021-09-08T09:08:23.532Z"
   },
   {
    "duration": 16,
    "start_time": "2021-09-08T09:10:37.922Z"
   },
   {
    "duration": 520,
    "start_time": "2021-09-08T09:11:18.011Z"
   },
   {
    "duration": 351,
    "start_time": "2021-09-08T09:11:18.534Z"
   },
   {
    "duration": 17,
    "start_time": "2021-09-08T09:11:19.510Z"
   },
   {
    "duration": 15,
    "start_time": "2021-09-08T09:11:26.867Z"
   },
   {
    "duration": 126,
    "start_time": "2021-09-08T09:18:01.408Z"
   },
   {
    "duration": 4,
    "start_time": "2021-09-08T09:19:07.718Z"
   },
   {
    "duration": 324,
    "start_time": "2021-09-08T09:19:08.517Z"
   },
   {
    "duration": 317,
    "start_time": "2021-09-08T09:19:15.127Z"
   },
   {
    "duration": 485,
    "start_time": "2021-09-08T09:19:24.370Z"
   },
   {
    "duration": 5,
    "start_time": "2021-09-08T09:19:39.397Z"
   },
   {
    "duration": 516,
    "start_time": "2021-09-08T09:19:39.817Z"
   },
   {
    "duration": 4,
    "start_time": "2021-09-08T09:20:13.468Z"
   },
   {
    "duration": 622,
    "start_time": "2021-09-08T09:20:13.988Z"
   },
   {
    "duration": 4,
    "start_time": "2021-09-08T09:20:28.763Z"
   },
   {
    "duration": 775,
    "start_time": "2021-09-08T09:20:29.015Z"
   },
   {
    "duration": 430,
    "start_time": "2021-09-08T09:20:51.155Z"
   },
   {
    "duration": 4,
    "start_time": "2021-09-08T09:20:55.422Z"
   },
   {
    "duration": 484,
    "start_time": "2021-09-08T09:20:56.208Z"
   },
   {
    "duration": 265,
    "start_time": "2021-09-08T09:21:45.257Z"
   },
   {
    "duration": 344,
    "start_time": "2021-09-08T09:22:37.497Z"
   },
   {
    "duration": 271,
    "start_time": "2021-09-08T09:22:54.873Z"
   },
   {
    "duration": 361,
    "start_time": "2021-09-08T09:22:55.212Z"
   },
   {
    "duration": 259,
    "start_time": "2021-09-08T09:23:02.909Z"
   },
   {
    "duration": 256,
    "start_time": "2021-09-08T09:23:07.875Z"
   },
   {
    "duration": 345,
    "start_time": "2021-09-08T09:23:08.710Z"
   },
   {
    "duration": 30,
    "start_time": "2021-09-08T09:23:38.902Z"
   },
   {
    "duration": 21,
    "start_time": "2021-09-08T09:24:03.494Z"
   },
   {
    "duration": 117,
    "start_time": "2021-09-08T09:24:46.371Z"
   },
   {
    "duration": 751,
    "start_time": "2021-09-08T09:24:50.328Z"
   },
   {
    "duration": 550,
    "start_time": "2021-09-08T09:24:57.032Z"
   },
   {
    "duration": 43,
    "start_time": "2021-09-08T09:25:22.421Z"
   },
   {
    "duration": 11,
    "start_time": "2021-09-08T09:26:03.682Z"
   },
   {
    "duration": 250,
    "start_time": "2021-09-08T09:26:14.750Z"
   },
   {
    "duration": 341,
    "start_time": "2021-09-08T09:26:16.196Z"
   },
   {
    "duration": 18,
    "start_time": "2021-09-08T09:26:18.686Z"
   },
   {
    "duration": 9,
    "start_time": "2021-09-08T09:26:22.092Z"
   },
   {
    "duration": 1478,
    "start_time": "2021-09-08T09:26:35.567Z"
   },
   {
    "duration": 50,
    "start_time": "2021-09-08T09:26:37.049Z"
   },
   {
    "duration": 20,
    "start_time": "2021-09-08T09:26:37.102Z"
   },
   {
    "duration": 9,
    "start_time": "2021-09-08T09:26:37.126Z"
   },
   {
    "duration": 19,
    "start_time": "2021-09-08T09:26:37.138Z"
   },
   {
    "duration": 10,
    "start_time": "2021-09-08T09:26:37.160Z"
   },
   {
    "duration": 56,
    "start_time": "2021-09-08T09:26:37.174Z"
   },
   {
    "duration": 1749,
    "start_time": "2021-09-08T09:26:37.236Z"
   },
   {
    "duration": 376,
    "start_time": "2021-09-08T09:26:38.989Z"
   },
   {
    "duration": 48,
    "start_time": "2021-09-08T09:26:39.368Z"
   },
   {
    "duration": 696,
    "start_time": "2021-09-08T09:26:39.420Z"
   },
   {
    "duration": 16,
    "start_time": "2021-09-08T09:26:40.119Z"
   },
   {
    "duration": 8,
    "start_time": "2021-09-08T09:26:40.137Z"
   },
   {
    "duration": 11,
    "start_time": "2021-09-08T09:26:40.147Z"
   },
   {
    "duration": 17,
    "start_time": "2021-09-08T09:26:40.160Z"
   },
   {
    "duration": 386,
    "start_time": "2021-09-08T09:26:40.217Z"
   },
   {
    "duration": 13,
    "start_time": "2021-09-08T09:26:40.606Z"
   },
   {
    "duration": 695,
    "start_time": "2021-09-08T09:26:40.622Z"
   },
   {
    "duration": 330,
    "start_time": "2021-09-08T09:26:41.320Z"
   },
   {
    "duration": 29,
    "start_time": "2021-09-08T09:26:41.652Z"
   },
   {
    "duration": 294,
    "start_time": "2021-09-08T09:26:41.683Z"
   },
   {
    "duration": 364,
    "start_time": "2021-09-08T09:26:41.980Z"
   },
   {
    "duration": 18,
    "start_time": "2021-09-08T09:26:42.348Z"
   },
   {
    "duration": 594,
    "start_time": "2021-09-08T09:26:42.369Z"
   },
   {
    "duration": -186,
    "start_time": "2021-09-08T09:26:43.153Z"
   },
   {
    "duration": -186,
    "start_time": "2021-09-08T09:26:43.155Z"
   },
   {
    "duration": -185,
    "start_time": "2021-09-08T09:26:43.157Z"
   },
   {
    "duration": -189,
    "start_time": "2021-09-08T09:26:43.163Z"
   },
   {
    "duration": -189,
    "start_time": "2021-09-08T09:26:43.166Z"
   },
   {
    "duration": -189,
    "start_time": "2021-09-08T09:26:43.168Z"
   },
   {
    "duration": -187,
    "start_time": "2021-09-08T09:26:43.169Z"
   },
   {
    "duration": 5,
    "start_time": "2021-09-08T09:27:32.901Z"
   },
   {
    "duration": 1967,
    "start_time": "2021-09-08T09:27:34.625Z"
   },
   {
    "duration": 357,
    "start_time": "2021-09-08T09:27:36.594Z"
   },
   {
    "duration": 439,
    "start_time": "2021-09-08T09:27:36.954Z"
   },
   {
    "duration": 315,
    "start_time": "2021-09-08T09:27:39.155Z"
   },
   {
    "duration": 15,
    "start_time": "2021-09-08T09:27:41.020Z"
   },
   {
    "duration": 7,
    "start_time": "2021-09-08T09:27:47.588Z"
   },
   {
    "duration": 14,
    "start_time": "2021-09-08T09:27:50.303Z"
   },
   {
    "duration": 8,
    "start_time": "2021-09-08T09:27:51.224Z"
   },
   {
    "duration": 48,
    "start_time": "2021-09-08T09:27:53.284Z"
   },
   {
    "duration": 1174,
    "start_time": "2021-09-08T09:28:21.126Z"
   },
   {
    "duration": 341,
    "start_time": "2021-09-08T09:28:22.303Z"
   },
   {
    "duration": 60,
    "start_time": "2021-09-08T09:28:22.781Z"
   },
   {
    "duration": 13,
    "start_time": "2021-09-08T09:28:26.308Z"
   },
   {
    "duration": 14,
    "start_time": "2021-09-08T09:30:58.773Z"
   },
   {
    "duration": 1621,
    "start_time": "2021-09-08T09:57:18.613Z"
   },
   {
    "duration": 50,
    "start_time": "2021-09-08T09:57:20.237Z"
   },
   {
    "duration": 14,
    "start_time": "2021-09-08T09:57:20.290Z"
   },
   {
    "duration": 22,
    "start_time": "2021-09-08T09:57:20.307Z"
   },
   {
    "duration": 13,
    "start_time": "2021-09-08T09:57:20.332Z"
   },
   {
    "duration": 13,
    "start_time": "2021-09-08T09:57:20.348Z"
   },
   {
    "duration": 24,
    "start_time": "2021-09-08T09:57:20.363Z"
   },
   {
    "duration": 1871,
    "start_time": "2021-09-08T09:57:20.417Z"
   },
   {
    "duration": 390,
    "start_time": "2021-09-08T09:57:22.291Z"
   },
   {
    "duration": 43,
    "start_time": "2021-09-08T09:57:22.683Z"
   },
   {
    "duration": 733,
    "start_time": "2021-09-08T09:57:22.729Z"
   },
   {
    "duration": 14,
    "start_time": "2021-09-08T09:57:23.465Z"
   },
   {
    "duration": 35,
    "start_time": "2021-09-08T09:57:23.481Z"
   },
   {
    "duration": 10,
    "start_time": "2021-09-08T09:57:23.522Z"
   },
   {
    "duration": 12,
    "start_time": "2021-09-08T09:57:23.535Z"
   },
   {
    "duration": 465,
    "start_time": "2021-09-08T09:57:23.551Z"
   },
   {
    "duration": 29,
    "start_time": "2021-09-08T09:57:24.019Z"
   },
   {
    "duration": 686,
    "start_time": "2021-09-08T09:57:24.119Z"
   },
   {
    "duration": 464,
    "start_time": "2021-09-08T09:57:24.807Z"
   },
   {
    "duration": 51,
    "start_time": "2021-09-08T09:57:25.274Z"
   },
   {
    "duration": 1170,
    "start_time": "2021-09-08T09:57:25.328Z"
   },
   {
    "duration": 376,
    "start_time": "2021-09-08T09:57:26.501Z"
   },
   {
    "duration": 71,
    "start_time": "2021-09-08T09:57:26.882Z"
   },
   {
    "duration": 5,
    "start_time": "2021-09-08T09:57:26.956Z"
   },
   {
    "duration": 2226,
    "start_time": "2021-09-08T09:57:26.964Z"
   },
   {
    "duration": 473,
    "start_time": "2021-09-08T09:57:29.193Z"
   },
   {
    "duration": 608,
    "start_time": "2021-09-08T09:57:29.669Z"
   },
   {
    "duration": 7,
    "start_time": "2021-09-08T09:57:30.279Z"
   },
   {
    "duration": 43,
    "start_time": "2021-09-08T09:57:30.289Z"
   },
   {
    "duration": 15,
    "start_time": "2021-09-08T09:57:30.335Z"
   },
   {
    "duration": 93,
    "start_time": "2021-09-08T09:57:30.354Z"
   },
   {
    "duration": 20,
    "start_time": "2021-09-08T09:57:30.451Z"
   },
   {
    "duration": 1530,
    "start_time": "2021-09-08T09:58:56.532Z"
   },
   {
    "duration": 47,
    "start_time": "2021-09-08T09:58:58.065Z"
   },
   {
    "duration": 17,
    "start_time": "2021-09-08T09:58:58.115Z"
   },
   {
    "duration": 10,
    "start_time": "2021-09-08T09:58:58.136Z"
   },
   {
    "duration": 13,
    "start_time": "2021-09-08T09:58:58.148Z"
   },
   {
    "duration": 10,
    "start_time": "2021-09-08T09:58:58.163Z"
   },
   {
    "duration": 61,
    "start_time": "2021-09-08T09:58:58.175Z"
   },
   {
    "duration": 1726,
    "start_time": "2021-09-08T09:58:58.239Z"
   },
   {
    "duration": 382,
    "start_time": "2021-09-08T09:58:59.969Z"
   },
   {
    "duration": 38,
    "start_time": "2021-09-08T09:59:00.356Z"
   },
   {
    "duration": 737,
    "start_time": "2021-09-08T09:59:00.419Z"
   },
   {
    "duration": 15,
    "start_time": "2021-09-08T09:59:01.158Z"
   },
   {
    "duration": 19,
    "start_time": "2021-09-08T09:59:01.175Z"
   },
   {
    "duration": 32,
    "start_time": "2021-09-08T09:59:01.197Z"
   },
   {
    "duration": 20,
    "start_time": "2021-09-08T09:59:01.232Z"
   },
   {
    "duration": 490,
    "start_time": "2021-09-08T09:59:01.255Z"
   },
   {
    "duration": 83,
    "start_time": "2021-09-08T09:59:01.747Z"
   },
   {
    "duration": 880,
    "start_time": "2021-09-08T09:59:01.839Z"
   },
   {
    "duration": 373,
    "start_time": "2021-09-08T09:59:02.722Z"
   },
   {
    "duration": 44,
    "start_time": "2021-09-08T09:59:03.098Z"
   },
   {
    "duration": 1748,
    "start_time": "2021-09-08T09:59:03.145Z"
   },
   {
    "duration": 426,
    "start_time": "2021-09-08T09:59:04.895Z"
   },
   {
    "duration": 95,
    "start_time": "2021-09-08T09:59:05.324Z"
   },
   {
    "duration": 8,
    "start_time": "2021-09-08T09:59:05.422Z"
   },
   {
    "duration": 2756,
    "start_time": "2021-09-08T09:59:05.433Z"
   },
   {
    "duration": 382,
    "start_time": "2021-09-08T09:59:08.191Z"
   },
   {
    "duration": 505,
    "start_time": "2021-09-08T09:59:08.577Z"
   },
   {
    "duration": 7,
    "start_time": "2021-09-08T09:59:09.084Z"
   },
   {
    "duration": 34,
    "start_time": "2021-09-08T09:59:09.093Z"
   },
   {
    "duration": 15,
    "start_time": "2021-09-08T09:59:09.130Z"
   },
   {
    "duration": 88,
    "start_time": "2021-09-08T09:59:09.148Z"
   },
   {
    "duration": 14,
    "start_time": "2021-09-08T09:59:09.238Z"
   },
   {
    "duration": 1822,
    "start_time": "2021-09-08T10:02:31.127Z"
   },
   {
    "duration": 378,
    "start_time": "2021-09-08T10:02:33.838Z"
   },
   {
    "duration": 61,
    "start_time": "2021-09-08T10:02:36.174Z"
   },
   {
    "duration": 22,
    "start_time": "2021-09-08T10:02:44.354Z"
   },
   {
    "duration": 1715,
    "start_time": "2021-09-08T10:03:33.848Z"
   },
   {
    "duration": 417,
    "start_time": "2021-09-08T10:03:36.505Z"
   },
   {
    "duration": 83,
    "start_time": "2021-09-08T10:03:38.378Z"
   },
   {
    "duration": 15,
    "start_time": "2021-09-08T10:03:42.797Z"
   },
   {
    "duration": 1961,
    "start_time": "2021-09-08T10:03:52.658Z"
   },
   {
    "duration": 450,
    "start_time": "2021-09-08T10:03:54.623Z"
   },
   {
    "duration": 98,
    "start_time": "2021-09-08T10:03:56.434Z"
   },
   {
    "duration": 17,
    "start_time": "2021-09-08T10:04:00.971Z"
   },
   {
    "duration": 5,
    "start_time": "2021-09-08T10:04:17.203Z"
   },
   {
    "duration": 472,
    "start_time": "2021-09-08T10:04:18.433Z"
   },
   {
    "duration": 5,
    "start_time": "2021-09-08T10:04:32.291Z"
   },
   {
    "duration": 2717,
    "start_time": "2021-09-08T10:04:32.613Z"
   },
   {
    "duration": 4,
    "start_time": "2021-09-08T10:04:44.661Z"
   },
   {
    "duration": 2714,
    "start_time": "2021-09-08T10:04:45.087Z"
   },
   {
    "duration": 379,
    "start_time": "2021-09-08T10:04:47.804Z"
   },
   {
    "duration": 501,
    "start_time": "2021-09-08T10:04:49.519Z"
   },
   {
    "duration": 14,
    "start_time": "2021-09-08T10:04:56.171Z"
   },
   {
    "duration": 59,
    "start_time": "2021-09-08T10:04:59.253Z"
   },
   {
    "duration": 18,
    "start_time": "2021-09-08T10:05:09.876Z"
   },
   {
    "duration": 62,
    "start_time": "2021-09-08T10:05:10.920Z"
   },
   {
    "duration": 5,
    "start_time": "2021-09-08T10:05:23.751Z"
   },
   {
    "duration": 2808,
    "start_time": "2021-09-08T10:05:24.311Z"
   },
   {
    "duration": 385,
    "start_time": "2021-09-08T10:05:27.122Z"
   },
   {
    "duration": 614,
    "start_time": "2021-09-08T10:05:27.510Z"
   },
   {
    "duration": 73,
    "start_time": "2021-09-08T10:05:32.164Z"
   },
   {
    "duration": 15,
    "start_time": "2021-09-08T10:05:33.547Z"
   },
   {
    "duration": 4,
    "start_time": "2021-09-08T10:06:23.865Z"
   },
   {
    "duration": 993,
    "start_time": "2021-09-08T10:06:24.063Z"
   },
   {
    "duration": 390,
    "start_time": "2021-09-08T10:06:32.183Z"
   },
   {
    "duration": 182,
    "start_time": "2021-09-08T10:06:34.724Z"
   },
   {
    "duration": 31,
    "start_time": "2021-09-08T10:06:39.820Z"
   },
   {
    "duration": 3070,
    "start_time": "2021-09-08T10:07:07.718Z"
   },
   {
    "duration": 445,
    "start_time": "2021-09-08T10:07:10.790Z"
   },
   {
    "duration": 159,
    "start_time": "2021-09-08T10:07:11.238Z"
   },
   {
    "duration": 4,
    "start_time": "2021-09-08T10:07:11.400Z"
   },
   {
    "duration": 1642,
    "start_time": "2021-09-08T10:07:11.416Z"
   },
   {
    "duration": 394,
    "start_time": "2021-09-08T10:07:13.061Z"
   },
   {
    "duration": 309,
    "start_time": "2021-09-08T10:07:13.458Z"
   },
   {
    "duration": 7,
    "start_time": "2021-09-08T10:07:13.772Z"
   },
   {
    "duration": 51,
    "start_time": "2021-09-08T10:07:13.782Z"
   },
   {
    "duration": 21,
    "start_time": "2021-09-08T10:07:13.836Z"
   },
   {
    "duration": 59,
    "start_time": "2021-09-08T10:07:13.859Z"
   },
   {
    "duration": 16,
    "start_time": "2021-09-08T10:07:13.925Z"
   },
   {
    "duration": 517,
    "start_time": "2021-09-08T10:13:48.518Z"
   },
   {
    "duration": 1510,
    "start_time": "2021-09-08T10:14:22.854Z"
   },
   {
    "duration": 52,
    "start_time": "2021-09-08T10:14:24.367Z"
   },
   {
    "duration": 17,
    "start_time": "2021-09-08T10:14:24.423Z"
   },
   {
    "duration": 9,
    "start_time": "2021-09-08T10:14:24.443Z"
   },
   {
    "duration": 16,
    "start_time": "2021-09-08T10:14:24.455Z"
   },
   {
    "duration": 10,
    "start_time": "2021-09-08T10:14:24.473Z"
   },
   {
    "duration": 51,
    "start_time": "2021-09-08T10:14:24.485Z"
   },
   {
    "duration": 1776,
    "start_time": "2021-09-08T10:14:24.542Z"
   },
   {
    "duration": 408,
    "start_time": "2021-09-08T10:14:26.323Z"
   },
   {
    "duration": 36,
    "start_time": "2021-09-08T10:14:26.734Z"
   },
   {
    "duration": 828,
    "start_time": "2021-09-08T10:14:26.773Z"
   },
   {
    "duration": 27,
    "start_time": "2021-09-08T10:14:27.603Z"
   },
   {
    "duration": 13,
    "start_time": "2021-09-08T10:14:27.634Z"
   },
   {
    "duration": 10,
    "start_time": "2021-09-08T10:14:27.649Z"
   },
   {
    "duration": 16,
    "start_time": "2021-09-08T10:14:27.661Z"
   },
   {
    "duration": 450,
    "start_time": "2021-09-08T10:14:27.717Z"
   },
   {
    "duration": 52,
    "start_time": "2021-09-08T10:14:28.170Z"
   },
   {
    "duration": 2152,
    "start_time": "2021-09-08T10:14:28.226Z"
   },
   {
    "duration": 404,
    "start_time": "2021-09-08T10:14:30.381Z"
   },
   {
    "duration": 69,
    "start_time": "2021-09-08T10:14:30.787Z"
   },
   {
    "duration": 3071,
    "start_time": "2021-09-08T10:14:30.858Z"
   },
   {
    "duration": 436,
    "start_time": "2021-09-08T10:14:33.933Z"
   },
   {
    "duration": 165,
    "start_time": "2021-09-08T10:14:34.373Z"
   },
   {
    "duration": 5,
    "start_time": "2021-09-08T10:14:34.540Z"
   },
   {
    "duration": 1658,
    "start_time": "2021-09-08T10:14:34.547Z"
   },
   {
    "duration": 386,
    "start_time": "2021-09-08T10:14:36.207Z"
   },
   {
    "duration": 304,
    "start_time": "2021-09-08T10:14:36.596Z"
   },
   {
    "duration": 13,
    "start_time": "2021-09-08T10:14:36.903Z"
   },
   {
    "duration": 27,
    "start_time": "2021-09-08T10:14:36.919Z"
   },
   {
    "duration": 23,
    "start_time": "2021-09-08T10:14:36.949Z"
   },
   {
    "duration": 83,
    "start_time": "2021-09-08T10:14:36.975Z"
   },
   {
    "duration": 13,
    "start_time": "2021-09-08T10:14:37.060Z"
   },
   {
    "duration": 1110,
    "start_time": "2021-09-08T10:17:27.350Z"
   },
   {
    "duration": 1603,
    "start_time": "2021-09-08T10:19:16.061Z"
   },
   {
    "duration": 49,
    "start_time": "2021-09-08T10:19:17.667Z"
   },
   {
    "duration": 18,
    "start_time": "2021-09-08T10:19:17.721Z"
   },
   {
    "duration": 8,
    "start_time": "2021-09-08T10:19:17.742Z"
   },
   {
    "duration": 13,
    "start_time": "2021-09-08T10:19:17.967Z"
   },
   {
    "duration": 11,
    "start_time": "2021-09-08T10:19:18.507Z"
   },
   {
    "duration": 18,
    "start_time": "2021-09-08T10:19:21.384Z"
   },
   {
    "duration": 1585,
    "start_time": "2021-09-08T10:19:23.381Z"
   },
   {
    "duration": 1636,
    "start_time": "2021-09-08T10:19:42.480Z"
   },
   {
    "duration": 1504,
    "start_time": "2021-09-08T10:20:06.422Z"
   },
   {
    "duration": 1499,
    "start_time": "2021-09-08T10:21:45.710Z"
   },
   {
    "duration": 385,
    "start_time": "2021-09-08T10:22:11.943Z"
   },
   {
    "duration": 34,
    "start_time": "2021-09-08T10:22:12.536Z"
   },
   {
    "duration": 708,
    "start_time": "2021-09-08T10:22:14.441Z"
   },
   {
    "duration": 512,
    "start_time": "2021-09-08T10:24:32.715Z"
   },
   {
    "duration": 1594,
    "start_time": "2021-09-08T10:25:44.962Z"
   },
   {
    "duration": 49,
    "start_time": "2021-09-08T10:25:46.560Z"
   },
   {
    "duration": 20,
    "start_time": "2021-09-08T10:25:46.612Z"
   },
   {
    "duration": 9,
    "start_time": "2021-09-08T10:25:46.635Z"
   },
   {
    "duration": 15,
    "start_time": "2021-09-08T10:25:46.646Z"
   },
   {
    "duration": 10,
    "start_time": "2021-09-08T10:25:46.663Z"
   },
   {
    "duration": 56,
    "start_time": "2021-09-08T10:25:46.676Z"
   },
   {
    "duration": 1493,
    "start_time": "2021-09-08T10:25:46.738Z"
   },
   {
    "duration": 440,
    "start_time": "2021-09-08T10:25:48.236Z"
   },
   {
    "duration": 42,
    "start_time": "2021-09-08T10:25:48.679Z"
   },
   {
    "duration": 725,
    "start_time": "2021-09-08T10:25:48.724Z"
   },
   {
    "duration": 13,
    "start_time": "2021-09-08T10:25:49.451Z"
   },
   {
    "duration": 11,
    "start_time": "2021-09-08T10:25:49.467Z"
   },
   {
    "duration": 11,
    "start_time": "2021-09-08T10:25:49.481Z"
   },
   {
    "duration": 14,
    "start_time": "2021-09-08T10:25:49.494Z"
   },
   {
    "duration": 628,
    "start_time": "2021-09-08T10:25:49.519Z"
   },
   {
    "duration": 16,
    "start_time": "2021-09-08T10:25:50.149Z"
   },
   {
    "duration": 1840,
    "start_time": "2021-09-08T10:25:50.226Z"
   },
   {
    "duration": 500,
    "start_time": "2021-09-08T10:25:52.069Z"
   },
   {
    "duration": 74,
    "start_time": "2021-09-08T10:25:52.572Z"
   },
   {
    "duration": 3092,
    "start_time": "2021-09-08T10:25:52.649Z"
   },
   {
    "duration": 444,
    "start_time": "2021-09-08T10:25:55.744Z"
   },
   {
    "duration": 166,
    "start_time": "2021-09-08T10:25:56.193Z"
   },
   {
    "duration": 4,
    "start_time": "2021-09-08T10:25:56.362Z"
   },
   {
    "duration": 1528,
    "start_time": "2021-09-08T10:25:56.369Z"
   },
   {
    "duration": 402,
    "start_time": "2021-09-08T10:25:57.899Z"
   },
   {
    "duration": 315,
    "start_time": "2021-09-08T10:25:58.303Z"
   },
   {
    "duration": 9,
    "start_time": "2021-09-08T10:25:58.623Z"
   },
   {
    "duration": 31,
    "start_time": "2021-09-08T10:25:58.634Z"
   },
   {
    "duration": 21,
    "start_time": "2021-09-08T10:25:58.667Z"
   },
   {
    "duration": 43,
    "start_time": "2021-09-08T10:25:58.718Z"
   },
   {
    "duration": 15,
    "start_time": "2021-09-08T10:25:58.764Z"
   },
   {
    "duration": 600,
    "start_time": "2021-09-08T10:26:52.056Z"
   },
   {
    "duration": 1712,
    "start_time": "2021-09-08T10:26:58.754Z"
   },
   {
    "duration": 50,
    "start_time": "2021-09-08T10:27:00.469Z"
   },
   {
    "duration": 14,
    "start_time": "2021-09-08T10:27:00.526Z"
   },
   {
    "duration": 20,
    "start_time": "2021-09-08T10:27:00.542Z"
   },
   {
    "duration": 26,
    "start_time": "2021-09-08T10:27:00.565Z"
   },
   {
    "duration": 28,
    "start_time": "2021-09-08T10:27:00.593Z"
   },
   {
    "duration": 40,
    "start_time": "2021-09-08T10:27:00.625Z"
   },
   {
    "duration": 1506,
    "start_time": "2021-09-08T10:27:00.669Z"
   },
   {
    "duration": 389,
    "start_time": "2021-09-08T10:27:02.177Z"
   },
   {
    "duration": 49,
    "start_time": "2021-09-08T10:27:02.569Z"
   },
   {
    "duration": 684,
    "start_time": "2021-09-08T10:27:02.621Z"
   },
   {
    "duration": 18,
    "start_time": "2021-09-08T10:27:03.308Z"
   },
   {
    "duration": 22,
    "start_time": "2021-09-08T10:27:03.329Z"
   },
   {
    "duration": 17,
    "start_time": "2021-09-08T10:27:03.353Z"
   },
   {
    "duration": 25,
    "start_time": "2021-09-08T10:27:03.372Z"
   },
   {
    "duration": 452,
    "start_time": "2021-09-08T10:27:03.416Z"
   },
   {
    "duration": 50,
    "start_time": "2021-09-08T10:27:03.870Z"
   },
   {
    "duration": 1726,
    "start_time": "2021-09-08T10:27:03.923Z"
   },
   {
    "duration": 373,
    "start_time": "2021-09-08T10:27:05.651Z"
   },
   {
    "duration": 54,
    "start_time": "2021-09-08T10:27:06.026Z"
   },
   {
    "duration": 2935,
    "start_time": "2021-09-08T10:27:06.082Z"
   },
   {
    "duration": 422,
    "start_time": "2021-09-08T10:27:09.022Z"
   },
   {
    "duration": 152,
    "start_time": "2021-09-08T10:27:09.447Z"
   },
   {
    "duration": 4,
    "start_time": "2021-09-08T10:27:09.602Z"
   },
   {
    "duration": 1555,
    "start_time": "2021-09-08T10:27:09.618Z"
   },
   {
    "duration": 377,
    "start_time": "2021-09-08T10:27:11.175Z"
   },
   {
    "duration": 289,
    "start_time": "2021-09-08T10:27:11.554Z"
   },
   {
    "duration": 7,
    "start_time": "2021-09-08T10:27:11.845Z"
   },
   {
    "duration": 27,
    "start_time": "2021-09-08T10:27:11.855Z"
   },
   {
    "duration": 41,
    "start_time": "2021-09-08T10:27:11.885Z"
   },
   {
    "duration": 38,
    "start_time": "2021-09-08T10:27:11.929Z"
   },
   {
    "duration": 14,
    "start_time": "2021-09-08T10:27:11.969Z"
   },
   {
    "duration": 1479,
    "start_time": "2021-09-08T10:33:45.067Z"
   },
   {
    "duration": 46,
    "start_time": "2021-09-08T10:33:46.549Z"
   },
   {
    "duration": 18,
    "start_time": "2021-09-08T10:33:46.598Z"
   },
   {
    "duration": 7,
    "start_time": "2021-09-08T10:33:46.619Z"
   },
   {
    "duration": 24,
    "start_time": "2021-09-08T10:33:46.629Z"
   },
   {
    "duration": 11,
    "start_time": "2021-09-08T10:33:46.655Z"
   },
   {
    "duration": 26,
    "start_time": "2021-09-08T10:33:46.669Z"
   },
   {
    "duration": 1461,
    "start_time": "2021-09-08T10:33:46.699Z"
   },
   {
    "duration": 386,
    "start_time": "2021-09-08T10:33:48.163Z"
   },
   {
    "duration": 51,
    "start_time": "2021-09-08T10:33:48.551Z"
   },
   {
    "duration": 711,
    "start_time": "2021-09-08T10:33:48.616Z"
   },
   {
    "duration": 14,
    "start_time": "2021-09-08T10:33:49.329Z"
   },
   {
    "duration": 19,
    "start_time": "2021-09-08T10:33:49.345Z"
   },
   {
    "duration": 25,
    "start_time": "2021-09-08T10:33:49.366Z"
   },
   {
    "duration": 28,
    "start_time": "2021-09-08T10:33:49.394Z"
   },
   {
    "duration": 615,
    "start_time": "2021-09-08T10:33:49.425Z"
   },
   {
    "duration": 9,
    "start_time": "2021-09-08T10:33:50.043Z"
   },
   {
    "duration": 2941,
    "start_time": "2021-09-08T10:33:50.054Z"
   },
   {
    "duration": 462,
    "start_time": "2021-09-08T10:33:52.998Z"
   },
   {
    "duration": 74,
    "start_time": "2021-09-08T10:33:53.464Z"
   },
   {
    "duration": 4349,
    "start_time": "2021-09-08T10:33:53.540Z"
   },
   {
    "duration": 486,
    "start_time": "2021-09-08T10:33:57.892Z"
   },
   {
    "duration": 187,
    "start_time": "2021-09-08T10:33:58.382Z"
   },
   {
    "duration": 4,
    "start_time": "2021-09-08T10:33:58.572Z"
   },
   {
    "duration": 2254,
    "start_time": "2021-09-08T10:33:58.578Z"
   },
   {
    "duration": 443,
    "start_time": "2021-09-08T10:34:00.834Z"
   },
   {
    "duration": 332,
    "start_time": "2021-09-08T10:34:01.280Z"
   },
   {
    "duration": 7,
    "start_time": "2021-09-08T10:34:01.617Z"
   },
   {
    "duration": 52,
    "start_time": "2021-09-08T10:34:01.626Z"
   },
   {
    "duration": 54,
    "start_time": "2021-09-08T10:34:01.680Z"
   },
   {
    "duration": 54,
    "start_time": "2021-09-08T10:34:01.736Z"
   },
   {
    "duration": 31,
    "start_time": "2021-09-08T10:34:01.792Z"
   },
   {
    "duration": 1486,
    "start_time": "2021-09-08T10:34:54.065Z"
   },
   {
    "duration": 51,
    "start_time": "2021-09-08T10:34:55.554Z"
   },
   {
    "duration": 13,
    "start_time": "2021-09-08T10:34:55.609Z"
   },
   {
    "duration": 14,
    "start_time": "2021-09-08T10:34:55.625Z"
   },
   {
    "duration": 23,
    "start_time": "2021-09-08T10:34:55.642Z"
   },
   {
    "duration": 18,
    "start_time": "2021-09-08T10:34:55.667Z"
   },
   {
    "duration": 38,
    "start_time": "2021-09-08T10:34:55.688Z"
   },
   {
    "duration": 1658,
    "start_time": "2021-09-08T10:34:55.729Z"
   },
   {
    "duration": 396,
    "start_time": "2021-09-08T10:34:57.391Z"
   },
   {
    "duration": 78,
    "start_time": "2021-09-08T10:34:57.790Z"
   },
   {
    "duration": 691,
    "start_time": "2021-09-08T10:34:57.871Z"
   },
   {
    "duration": 17,
    "start_time": "2021-09-08T10:34:58.564Z"
   },
   {
    "duration": 22,
    "start_time": "2021-09-08T10:34:58.583Z"
   },
   {
    "duration": 10,
    "start_time": "2021-09-08T10:34:58.617Z"
   },
   {
    "duration": 24,
    "start_time": "2021-09-08T10:34:58.630Z"
   },
   {
    "duration": 606,
    "start_time": "2021-09-08T10:34:58.718Z"
   },
   {
    "duration": 89,
    "start_time": "2021-09-08T10:34:59.327Z"
   },
   {
    "duration": 4819,
    "start_time": "2021-09-08T10:34:59.420Z"
   },
   {
    "duration": 553,
    "start_time": "2021-09-08T10:35:04.241Z"
   },
   {
    "duration": 71,
    "start_time": "2021-09-08T10:35:04.797Z"
   },
   {
    "duration": 6261,
    "start_time": "2021-09-08T10:35:04.871Z"
   },
   {
    "duration": 607,
    "start_time": "2021-09-08T10:35:11.135Z"
   },
   {
    "duration": 196,
    "start_time": "2021-09-08T10:35:11.745Z"
   },
   {
    "duration": 4,
    "start_time": "2021-09-08T10:35:11.944Z"
   },
   {
    "duration": 5098,
    "start_time": "2021-09-08T10:35:11.951Z"
   },
   {
    "duration": 554,
    "start_time": "2021-09-08T10:35:17.052Z"
   },
   {
    "duration": 551,
    "start_time": "2021-09-08T10:35:17.619Z"
   },
   {
    "duration": 46,
    "start_time": "2021-09-08T10:35:18.173Z"
   },
   {
    "duration": 111,
    "start_time": "2021-09-08T10:35:18.222Z"
   },
   {
    "duration": 28,
    "start_time": "2021-09-08T10:35:18.336Z"
   },
   {
    "duration": 105,
    "start_time": "2021-09-08T10:35:18.367Z"
   },
   {
    "duration": 16,
    "start_time": "2021-09-08T10:35:18.475Z"
   },
   {
    "duration": 1645,
    "start_time": "2021-09-08T10:37:21.687Z"
   },
   {
    "duration": 49,
    "start_time": "2021-09-08T10:37:23.334Z"
   },
   {
    "duration": 14,
    "start_time": "2021-09-08T10:37:23.386Z"
   },
   {
    "duration": 17,
    "start_time": "2021-09-08T10:37:23.403Z"
   },
   {
    "duration": 16,
    "start_time": "2021-09-08T10:37:23.423Z"
   },
   {
    "duration": 12,
    "start_time": "2021-09-08T10:37:23.441Z"
   },
   {
    "duration": 17,
    "start_time": "2021-09-08T10:37:23.456Z"
   },
   {
    "duration": 1484,
    "start_time": "2021-09-08T10:37:23.477Z"
   },
   {
    "duration": 445,
    "start_time": "2021-09-08T10:37:24.964Z"
   },
   {
    "duration": 70,
    "start_time": "2021-09-08T10:37:25.417Z"
   },
   {
    "duration": 698,
    "start_time": "2021-09-08T10:37:25.490Z"
   },
   {
    "duration": 30,
    "start_time": "2021-09-08T10:37:26.191Z"
   },
   {
    "duration": 10,
    "start_time": "2021-09-08T10:37:26.224Z"
   },
   {
    "duration": 8,
    "start_time": "2021-09-08T10:37:26.237Z"
   },
   {
    "duration": 74,
    "start_time": "2021-09-08T10:37:26.248Z"
   },
   {
    "duration": 650,
    "start_time": "2021-09-08T10:37:26.325Z"
   },
   {
    "duration": 39,
    "start_time": "2021-09-08T10:37:26.978Z"
   },
   {
    "duration": 4765,
    "start_time": "2021-09-08T10:37:27.021Z"
   },
   {
    "duration": 537,
    "start_time": "2021-09-08T10:37:31.788Z"
   },
   {
    "duration": 61,
    "start_time": "2021-09-08T10:37:32.327Z"
   },
   {
    "duration": 5200,
    "start_time": "2021-09-08T10:37:32.391Z"
   },
   {
    "duration": 593,
    "start_time": "2021-09-08T10:37:37.594Z"
   },
   {
    "duration": 152,
    "start_time": "2021-09-08T10:37:38.191Z"
   },
   {
    "duration": 4,
    "start_time": "2021-09-08T10:37:38.346Z"
   },
   {
    "duration": 4943,
    "start_time": "2021-09-08T10:37:38.352Z"
   },
   {
    "duration": 520,
    "start_time": "2021-09-08T10:37:43.298Z"
   },
   {
    "duration": 516,
    "start_time": "2021-09-08T10:37:43.821Z"
   },
   {
    "duration": 14,
    "start_time": "2021-09-08T10:37:44.340Z"
   },
   {
    "duration": 114,
    "start_time": "2021-09-08T10:37:44.420Z"
   },
   {
    "duration": 23,
    "start_time": "2021-09-08T10:37:44.537Z"
   },
   {
    "duration": 79,
    "start_time": "2021-09-08T10:37:44.562Z"
   },
   {
    "duration": 15,
    "start_time": "2021-09-08T10:37:44.644Z"
   },
   {
    "duration": 868,
    "start_time": "2021-09-08T10:42:52.768Z"
   },
   {
    "duration": 312,
    "start_time": "2021-09-08T10:43:19.769Z"
   },
   {
    "duration": 1501,
    "start_time": "2021-09-08T10:43:46.738Z"
   },
   {
    "duration": 49,
    "start_time": "2021-09-08T10:43:48.242Z"
   },
   {
    "duration": 19,
    "start_time": "2021-09-08T10:43:48.297Z"
   },
   {
    "duration": 8,
    "start_time": "2021-09-08T10:43:48.319Z"
   },
   {
    "duration": 16,
    "start_time": "2021-09-08T10:43:48.329Z"
   },
   {
    "duration": 12,
    "start_time": "2021-09-08T10:43:48.348Z"
   },
   {
    "duration": 55,
    "start_time": "2021-09-08T10:43:48.363Z"
   },
   {
    "duration": 1585,
    "start_time": "2021-09-08T10:43:48.421Z"
   },
   {
    "duration": 453,
    "start_time": "2021-09-08T10:43:50.008Z"
   },
   {
    "duration": 382,
    "start_time": "2021-09-08T10:43:50.463Z"
   },
   {
    "duration": 147,
    "start_time": "2021-09-08T10:43:50.848Z"
   },
   {
    "duration": 602,
    "start_time": "2021-09-08T10:43:50.997Z"
   },
   {
    "duration": 25,
    "start_time": "2021-09-08T10:43:51.601Z"
   },
   {
    "duration": 7,
    "start_time": "2021-09-08T10:43:51.629Z"
   },
   {
    "duration": 12,
    "start_time": "2021-09-08T10:43:51.638Z"
   },
   {
    "duration": 67,
    "start_time": "2021-09-08T10:43:51.652Z"
   },
   {
    "duration": 638,
    "start_time": "2021-09-08T10:43:51.723Z"
   },
   {
    "duration": 55,
    "start_time": "2021-09-08T10:43:52.363Z"
   },
   {
    "duration": 4674,
    "start_time": "2021-09-08T10:43:52.424Z"
   },
   {
    "duration": 538,
    "start_time": "2021-09-08T10:43:57.100Z"
   },
   {
    "duration": 77,
    "start_time": "2021-09-08T10:43:57.642Z"
   },
   {
    "duration": 4950,
    "start_time": "2021-09-08T10:43:57.726Z"
   },
   {
    "duration": 599,
    "start_time": "2021-09-08T10:44:02.679Z"
   },
   {
    "duration": 255,
    "start_time": "2021-09-08T10:44:03.281Z"
   },
   {
    "duration": 5,
    "start_time": "2021-09-08T10:44:03.539Z"
   },
   {
    "duration": 4870,
    "start_time": "2021-09-08T10:44:03.547Z"
   },
   {
    "duration": 554,
    "start_time": "2021-09-08T10:44:08.420Z"
   },
   {
    "duration": 532,
    "start_time": "2021-09-08T10:44:08.978Z"
   },
   {
    "duration": 106,
    "start_time": "2021-09-08T10:44:09.517Z"
   },
   {
    "duration": 111,
    "start_time": "2021-09-08T10:44:09.627Z"
   },
   {
    "duration": 22,
    "start_time": "2021-09-08T10:44:09.741Z"
   },
   {
    "duration": 80,
    "start_time": "2021-09-08T10:44:09.765Z"
   },
   {
    "duration": 14,
    "start_time": "2021-09-08T10:44:09.847Z"
   },
   {
    "duration": 959,
    "start_time": "2021-09-08T10:52:17.625Z"
   },
   {
    "duration": 1545,
    "start_time": "2021-09-08T10:52:36.901Z"
   },
   {
    "duration": 49,
    "start_time": "2021-09-08T10:52:38.449Z"
   },
   {
    "duration": 19,
    "start_time": "2021-09-08T10:52:38.501Z"
   },
   {
    "duration": 14,
    "start_time": "2021-09-08T10:52:38.523Z"
   },
   {
    "duration": 25,
    "start_time": "2021-09-08T10:52:38.540Z"
   },
   {
    "duration": 10,
    "start_time": "2021-09-08T10:52:38.567Z"
   },
   {
    "duration": 18,
    "start_time": "2021-09-08T10:52:38.579Z"
   },
   {
    "duration": 1464,
    "start_time": "2021-09-08T10:52:38.619Z"
   },
   {
    "duration": 414,
    "start_time": "2021-09-08T10:52:40.087Z"
   },
   {
    "duration": 502,
    "start_time": "2021-09-08T10:52:40.503Z"
   },
   {
    "duration": 155,
    "start_time": "2021-09-08T10:52:41.008Z"
   },
   {
    "duration": 614,
    "start_time": "2021-09-08T10:52:41.166Z"
   },
   {
    "duration": 15,
    "start_time": "2021-09-08T10:52:41.782Z"
   },
   {
    "duration": 7,
    "start_time": "2021-09-08T10:52:41.817Z"
   },
   {
    "duration": 6,
    "start_time": "2021-09-08T10:52:41.827Z"
   },
   {
    "duration": 84,
    "start_time": "2021-09-08T10:52:41.835Z"
   },
   {
    "duration": 659,
    "start_time": "2021-09-08T10:52:41.922Z"
   },
   {
    "duration": 35,
    "start_time": "2021-09-08T10:52:42.584Z"
   },
   {
    "duration": 4672,
    "start_time": "2021-09-08T10:52:42.623Z"
   },
   {
    "duration": 545,
    "start_time": "2021-09-08T10:52:47.298Z"
   },
   {
    "duration": 77,
    "start_time": "2021-09-08T10:52:47.847Z"
   },
   {
    "duration": 4996,
    "start_time": "2021-09-08T10:52:47.927Z"
   },
   {
    "duration": 600,
    "start_time": "2021-09-08T10:52:52.928Z"
   },
   {
    "duration": 150,
    "start_time": "2021-09-08T10:52:53.530Z"
   },
   {
    "duration": 4,
    "start_time": "2021-09-08T10:52:53.683Z"
   },
   {
    "duration": 4938,
    "start_time": "2021-09-08T10:52:53.689Z"
   },
   {
    "duration": 525,
    "start_time": "2021-09-08T10:52:58.629Z"
   },
   {
    "duration": 628,
    "start_time": "2021-09-08T10:52:59.157Z"
   },
   {
    "duration": 30,
    "start_time": "2021-09-08T10:52:59.788Z"
   },
   {
    "duration": 196,
    "start_time": "2021-09-08T10:52:59.822Z"
   },
   {
    "duration": 22,
    "start_time": "2021-09-08T10:53:00.020Z"
   },
   {
    "duration": 79,
    "start_time": "2021-09-08T10:53:00.045Z"
   },
   {
    "duration": 15,
    "start_time": "2021-09-08T10:53:00.126Z"
   },
   {
    "duration": 1518,
    "start_time": "2021-09-08T10:59:45.421Z"
   },
   {
    "duration": 49,
    "start_time": "2021-09-08T10:59:46.942Z"
   },
   {
    "duration": 22,
    "start_time": "2021-09-08T10:59:46.994Z"
   },
   {
    "duration": 8,
    "start_time": "2021-09-08T10:59:47.019Z"
   },
   {
    "duration": 16,
    "start_time": "2021-09-08T10:59:47.030Z"
   },
   {
    "duration": 10,
    "start_time": "2021-09-08T10:59:47.048Z"
   },
   {
    "duration": 19,
    "start_time": "2021-09-08T10:59:47.060Z"
   },
   {
    "duration": 1432,
    "start_time": "2021-09-08T10:59:49.817Z"
   },
   {
    "duration": 438,
    "start_time": "2021-09-08T10:59:51.252Z"
   },
   {
    "duration": 542,
    "start_time": "2021-09-08T10:59:51.693Z"
   },
   {
    "duration": 545,
    "start_time": "2021-09-08T11:00:01.933Z"
   },
   {
    "duration": 2217,
    "start_time": "2021-09-08T11:00:09.819Z"
   },
   {
    "duration": 50,
    "start_time": "2021-09-08T11:00:12.039Z"
   },
   {
    "duration": 13,
    "start_time": "2021-09-08T11:00:12.092Z"
   },
   {
    "duration": 14,
    "start_time": "2021-09-08T11:00:12.108Z"
   },
   {
    "duration": 19,
    "start_time": "2021-09-08T11:00:12.124Z"
   },
   {
    "duration": 18,
    "start_time": "2021-09-08T11:00:12.146Z"
   },
   {
    "duration": 22,
    "start_time": "2021-09-08T11:00:12.166Z"
   },
   {
    "duration": 1477,
    "start_time": "2021-09-08T11:00:12.192Z"
   },
   {
    "duration": 393,
    "start_time": "2021-09-08T11:00:13.672Z"
   },
   {
    "duration": 573,
    "start_time": "2021-09-08T11:00:14.067Z"
   },
   {
    "duration": 161,
    "start_time": "2021-09-08T11:00:14.642Z"
   },
   {
    "duration": 614,
    "start_time": "2021-09-08T11:00:14.806Z"
   },
   {
    "duration": 17,
    "start_time": "2021-09-08T11:00:15.422Z"
   },
   {
    "duration": 15,
    "start_time": "2021-09-08T11:00:15.441Z"
   },
   {
    "duration": 15,
    "start_time": "2021-09-08T11:00:15.459Z"
   },
   {
    "duration": 140,
    "start_time": "2021-09-08T11:00:15.477Z"
   },
   {
    "duration": 644,
    "start_time": "2021-09-08T11:00:15.621Z"
   },
   {
    "duration": 48,
    "start_time": "2021-09-08T11:00:16.269Z"
   },
   {
    "duration": 4716,
    "start_time": "2021-09-08T11:00:16.321Z"
   },
   {
    "duration": 542,
    "start_time": "2021-09-08T11:00:21.040Z"
   },
   {
    "duration": 73,
    "start_time": "2021-09-08T11:00:21.585Z"
   },
   {
    "duration": 5000,
    "start_time": "2021-09-08T11:00:21.661Z"
   },
   {
    "duration": 595,
    "start_time": "2021-09-08T11:00:26.665Z"
   },
   {
    "duration": 149,
    "start_time": "2021-09-08T11:00:27.263Z"
   },
   {
    "duration": 4,
    "start_time": "2021-09-08T11:00:27.416Z"
   },
   {
    "duration": 4849,
    "start_time": "2021-09-08T11:00:27.422Z"
   },
   {
    "duration": 530,
    "start_time": "2021-09-08T11:00:32.274Z"
   },
   {
    "duration": 518,
    "start_time": "2021-09-08T11:00:32.806Z"
   },
   {
    "duration": 15,
    "start_time": "2021-09-08T11:00:33.327Z"
   },
   {
    "duration": 115,
    "start_time": "2021-09-08T11:00:33.419Z"
   },
   {
    "duration": 21,
    "start_time": "2021-09-08T11:00:33.537Z"
   },
   {
    "duration": 76,
    "start_time": "2021-09-08T11:00:33.561Z"
   },
   {
    "duration": 13,
    "start_time": "2021-09-08T11:00:33.640Z"
   },
   {
    "duration": 5,
    "start_time": "2021-09-08T11:16:14.510Z"
   },
   {
    "duration": 503,
    "start_time": "2021-09-08T11:16:14.845Z"
   },
   {
    "duration": 5,
    "start_time": "2021-09-08T11:16:23.239Z"
   },
   {
    "duration": 4665,
    "start_time": "2021-09-08T11:16:23.527Z"
   },
   {
    "duration": 527,
    "start_time": "2021-09-08T11:16:28.448Z"
   },
   {
    "duration": 507,
    "start_time": "2021-09-08T11:16:30.543Z"
   },
   {
    "duration": 1535,
    "start_time": "2021-09-08T11:17:09.014Z"
   },
   {
    "duration": 49,
    "start_time": "2021-09-08T11:17:10.552Z"
   },
   {
    "duration": 19,
    "start_time": "2021-09-08T11:17:10.604Z"
   },
   {
    "duration": 16,
    "start_time": "2021-09-08T11:17:10.626Z"
   },
   {
    "duration": 30,
    "start_time": "2021-09-08T11:17:10.644Z"
   },
   {
    "duration": 15,
    "start_time": "2021-09-08T11:17:10.677Z"
   },
   {
    "duration": 30,
    "start_time": "2021-09-08T11:17:10.695Z"
   },
   {
    "duration": 1412,
    "start_time": "2021-09-08T11:17:10.727Z"
   },
   {
    "duration": 401,
    "start_time": "2021-09-08T11:17:12.142Z"
   },
   {
    "duration": 474,
    "start_time": "2021-09-08T11:17:12.547Z"
   },
   {
    "duration": 158,
    "start_time": "2021-09-08T11:17:13.023Z"
   },
   {
    "duration": 603,
    "start_time": "2021-09-08T11:17:13.183Z"
   },
   {
    "duration": 29,
    "start_time": "2021-09-08T11:17:13.788Z"
   },
   {
    "duration": 8,
    "start_time": "2021-09-08T11:17:13.819Z"
   },
   {
    "duration": 12,
    "start_time": "2021-09-08T11:17:13.829Z"
   },
   {
    "duration": 77,
    "start_time": "2021-09-08T11:17:13.844Z"
   },
   {
    "duration": 666,
    "start_time": "2021-09-08T11:17:13.924Z"
   },
   {
    "duration": 130,
    "start_time": "2021-09-08T11:17:14.594Z"
   },
   {
    "duration": 4619,
    "start_time": "2021-09-08T11:17:14.727Z"
   },
   {
    "duration": 535,
    "start_time": "2021-09-08T11:17:19.349Z"
   },
   {
    "duration": 76,
    "start_time": "2021-09-08T11:17:19.886Z"
   },
   {
    "duration": 5191,
    "start_time": "2021-09-08T11:17:19.964Z"
   },
   {
    "duration": 627,
    "start_time": "2021-09-08T11:17:25.157Z"
   },
   {
    "duration": 194,
    "start_time": "2021-09-08T11:17:25.787Z"
   },
   {
    "duration": 4,
    "start_time": "2021-09-08T11:17:25.984Z"
   },
   {
    "duration": 4691,
    "start_time": "2021-09-08T11:17:25.990Z"
   },
   {
    "duration": 533,
    "start_time": "2021-09-08T11:17:30.687Z"
   },
   {
    "duration": 620,
    "start_time": "2021-09-08T11:17:31.223Z"
   },
   {
    "duration": 74,
    "start_time": "2021-09-08T11:17:31.845Z"
   },
   {
    "duration": 117,
    "start_time": "2021-09-08T11:17:31.923Z"
   },
   {
    "duration": 28,
    "start_time": "2021-09-08T11:17:32.042Z"
   },
   {
    "duration": 86,
    "start_time": "2021-09-08T11:17:32.072Z"
   },
   {
    "duration": 15,
    "start_time": "2021-09-08T11:17:32.161Z"
   },
   {
    "duration": 5,
    "start_time": "2021-09-08T11:18:28.685Z"
   },
   {
    "duration": 4570,
    "start_time": "2021-09-08T11:18:58.348Z"
   },
   {
    "duration": 117,
    "start_time": "2021-09-08T11:19:08.774Z"
   },
   {
    "duration": 5231,
    "start_time": "2021-09-08T11:19:13.822Z"
   },
   {
    "duration": 4,
    "start_time": "2021-09-08T11:20:06.034Z"
   },
   {
    "duration": 4706,
    "start_time": "2021-09-08T11:20:06.798Z"
   },
   {
    "duration": 1604,
    "start_time": "2021-09-08T11:20:22.250Z"
   },
   {
    "duration": 3,
    "start_time": "2021-09-08T11:20:23.857Z"
   },
   {
    "duration": 56,
    "start_time": "2021-09-08T11:20:23.863Z"
   },
   {
    "duration": 13,
    "start_time": "2021-09-08T11:20:23.922Z"
   },
   {
    "duration": 11,
    "start_time": "2021-09-08T11:20:23.938Z"
   },
   {
    "duration": 14,
    "start_time": "2021-09-08T11:20:23.952Z"
   },
   {
    "duration": 10,
    "start_time": "2021-09-08T11:20:23.968Z"
   },
   {
    "duration": 19,
    "start_time": "2021-09-08T11:20:24.016Z"
   },
   {
    "duration": 1537,
    "start_time": "2021-09-08T11:20:24.039Z"
   },
   {
    "duration": 410,
    "start_time": "2021-09-08T11:20:25.579Z"
   },
   {
    "duration": 477,
    "start_time": "2021-09-08T11:20:25.992Z"
   },
   {
    "duration": 152,
    "start_time": "2021-09-08T11:20:26.471Z"
   },
   {
    "duration": 616,
    "start_time": "2021-09-08T11:20:26.626Z"
   },
   {
    "duration": 18,
    "start_time": "2021-09-08T11:20:27.245Z"
   },
   {
    "duration": 15,
    "start_time": "2021-09-08T11:20:27.266Z"
   },
   {
    "duration": 34,
    "start_time": "2021-09-08T11:20:27.283Z"
   },
   {
    "duration": 33,
    "start_time": "2021-09-08T11:20:27.320Z"
   },
   {
    "duration": 663,
    "start_time": "2021-09-08T11:20:27.419Z"
   },
   {
    "duration": 38,
    "start_time": "2021-09-08T11:20:28.085Z"
   },
   {
    "duration": 4704,
    "start_time": "2021-09-08T11:20:28.217Z"
   },
   {
    "duration": 547,
    "start_time": "2021-09-08T11:20:32.924Z"
   },
   {
    "duration": 74,
    "start_time": "2021-09-08T11:20:33.474Z"
   },
   {
    "duration": 5255,
    "start_time": "2021-09-08T11:20:33.553Z"
   },
   {
    "duration": 603,
    "start_time": "2021-09-08T11:20:38.817Z"
   },
   {
    "duration": 194,
    "start_time": "2021-09-08T11:20:39.423Z"
   },
   {
    "duration": 6,
    "start_time": "2021-09-08T11:20:39.620Z"
   },
   {
    "duration": 4707,
    "start_time": "2021-09-08T11:20:39.629Z"
   },
   {
    "duration": 552,
    "start_time": "2021-09-08T11:20:44.340Z"
   },
   {
    "duration": 542,
    "start_time": "2021-09-08T11:20:44.895Z"
   },
   {
    "duration": 9,
    "start_time": "2021-09-08T11:20:45.440Z"
   },
   {
    "duration": 119,
    "start_time": "2021-09-08T11:20:45.519Z"
   },
   {
    "duration": 27,
    "start_time": "2021-09-08T11:20:45.641Z"
   },
   {
    "duration": 88,
    "start_time": "2021-09-08T11:20:45.671Z"
   },
   {
    "duration": 15,
    "start_time": "2021-09-08T11:20:45.762Z"
   },
   {
    "duration": 101,
    "start_time": "2021-09-08T11:32:03.061Z"
   },
   {
    "duration": 1699,
    "start_time": "2021-09-08T11:36:36.283Z"
   },
   {
    "duration": 5,
    "start_time": "2021-09-08T11:36:37.985Z"
   },
   {
    "duration": 57,
    "start_time": "2021-09-08T11:36:37.993Z"
   },
   {
    "duration": 15,
    "start_time": "2021-09-08T11:36:38.052Z"
   },
   {
    "duration": 12,
    "start_time": "2021-09-08T11:36:38.069Z"
   },
   {
    "duration": 35,
    "start_time": "2021-09-08T11:36:38.084Z"
   },
   {
    "duration": 10,
    "start_time": "2021-09-08T11:36:38.121Z"
   },
   {
    "duration": 18,
    "start_time": "2021-09-08T11:36:38.135Z"
   },
   {
    "duration": 1504,
    "start_time": "2021-09-08T11:36:38.156Z"
   },
   {
    "duration": 420,
    "start_time": "2021-09-08T11:36:39.663Z"
   },
   {
    "duration": 507,
    "start_time": "2021-09-08T11:36:40.086Z"
   },
   {
    "duration": 152,
    "start_time": "2021-09-08T11:36:40.595Z"
   },
   {
    "duration": 631,
    "start_time": "2021-09-08T11:36:40.750Z"
   },
   {
    "duration": 15,
    "start_time": "2021-09-08T11:36:41.383Z"
   },
   {
    "duration": 7,
    "start_time": "2021-09-08T11:36:41.416Z"
   },
   {
    "duration": 6,
    "start_time": "2021-09-08T11:36:41.426Z"
   },
   {
    "duration": 81,
    "start_time": "2021-09-08T11:36:41.435Z"
   },
   {
    "duration": 664,
    "start_time": "2021-09-08T11:36:41.521Z"
   },
   {
    "duration": 36,
    "start_time": "2021-09-08T11:36:42.188Z"
   },
   {
    "duration": 4976,
    "start_time": "2021-09-08T11:36:42.228Z"
   },
   {
    "duration": 611,
    "start_time": "2021-09-08T11:36:47.207Z"
   },
   {
    "duration": 62,
    "start_time": "2021-09-08T11:36:47.821Z"
   },
   {
    "duration": 5340,
    "start_time": "2021-09-08T11:36:47.888Z"
   },
   {
    "duration": 613,
    "start_time": "2021-09-08T11:36:53.232Z"
   },
   {
    "duration": 205,
    "start_time": "2021-09-08T11:36:53.847Z"
   },
   {
    "duration": 5,
    "start_time": "2021-09-08T11:36:54.054Z"
   },
   {
    "duration": 4804,
    "start_time": "2021-09-08T11:36:54.061Z"
   },
   {
    "duration": 529,
    "start_time": "2021-09-08T11:36:58.868Z"
   },
   {
    "duration": 508,
    "start_time": "2021-09-08T11:36:59.400Z"
   },
   {
    "duration": 15,
    "start_time": "2021-09-08T11:36:59.917Z"
   },
   {
    "duration": 116,
    "start_time": "2021-09-08T11:37:00.018Z"
   },
   {
    "duration": 29,
    "start_time": "2021-09-08T11:37:00.137Z"
   },
   {
    "duration": 80,
    "start_time": "2021-09-08T11:37:00.168Z"
   },
   {
    "duration": 14,
    "start_time": "2021-09-08T11:37:00.251Z"
   },
   {
    "duration": 1577,
    "start_time": "2021-09-08T11:43:19.077Z"
   },
   {
    "duration": 3,
    "start_time": "2021-09-08T11:43:20.657Z"
   },
   {
    "duration": 54,
    "start_time": "2021-09-08T11:43:20.663Z"
   },
   {
    "duration": 14,
    "start_time": "2021-09-08T11:43:20.719Z"
   },
   {
    "duration": 12,
    "start_time": "2021-09-08T11:43:20.735Z"
   },
   {
    "duration": 19,
    "start_time": "2021-09-08T11:43:20.750Z"
   },
   {
    "duration": 10,
    "start_time": "2021-09-08T11:43:20.771Z"
   },
   {
    "duration": 52,
    "start_time": "2021-09-08T11:43:20.784Z"
   },
   {
    "duration": 1520,
    "start_time": "2021-09-08T11:43:20.840Z"
   },
   {
    "duration": 400,
    "start_time": "2021-09-08T11:43:22.363Z"
   },
   {
    "duration": 466,
    "start_time": "2021-09-08T11:43:22.765Z"
   },
   {
    "duration": 9,
    "start_time": "2021-09-08T11:43:23.233Z"
   },
   {
    "duration": 163,
    "start_time": "2021-09-08T11:43:23.245Z"
   },
   {
    "duration": 600,
    "start_time": "2021-09-08T11:43:23.410Z"
   },
   {
    "duration": 15,
    "start_time": "2021-09-08T11:43:24.012Z"
   },
   {
    "duration": 16,
    "start_time": "2021-09-08T11:43:24.030Z"
   },
   {
    "duration": 20,
    "start_time": "2021-09-08T11:43:24.049Z"
   },
   {
    "duration": 54,
    "start_time": "2021-09-08T11:43:24.072Z"
   },
   {
    "duration": 642,
    "start_time": "2021-09-08T11:43:24.218Z"
   },
   {
    "duration": 55,
    "start_time": "2021-09-08T11:43:24.863Z"
   },
   {
    "duration": 5388,
    "start_time": "2021-09-08T11:43:24.922Z"
   },
   {
    "duration": 665,
    "start_time": "2021-09-08T11:43:30.316Z"
   },
   {
    "duration": 80,
    "start_time": "2021-09-08T11:43:30.984Z"
   },
   {
    "duration": 5610,
    "start_time": "2021-09-08T11:43:31.067Z"
   },
   {
    "duration": 608,
    "start_time": "2021-09-08T11:43:36.680Z"
   },
   {
    "duration": 185,
    "start_time": "2021-09-08T11:43:37.290Z"
   },
   {
    "duration": 4,
    "start_time": "2021-09-08T11:43:37.480Z"
   },
   {
    "duration": 5030,
    "start_time": "2021-09-08T11:43:37.487Z"
   },
   {
    "duration": 571,
    "start_time": "2021-09-08T11:43:42.520Z"
   },
   {
    "duration": 617,
    "start_time": "2021-09-08T11:43:43.093Z"
   },
   {
    "duration": 101,
    "start_time": "2021-09-08T11:43:43.716Z"
   },
   {
    "duration": 115,
    "start_time": "2021-09-08T11:43:43.821Z"
   },
   {
    "duration": 25,
    "start_time": "2021-09-08T11:43:43.938Z"
   },
   {
    "duration": 75,
    "start_time": "2021-09-08T11:43:43.966Z"
   },
   {
    "duration": 14,
    "start_time": "2021-09-08T11:43:44.043Z"
   },
   {
    "duration": 1570,
    "start_time": "2021-09-08T11:44:35.681Z"
   },
   {
    "duration": 4,
    "start_time": "2021-09-08T11:44:37.254Z"
   },
   {
    "duration": 57,
    "start_time": "2021-09-08T11:44:37.265Z"
   },
   {
    "duration": 14,
    "start_time": "2021-09-08T11:44:37.325Z"
   },
   {
    "duration": 13,
    "start_time": "2021-09-08T11:44:37.341Z"
   },
   {
    "duration": 23,
    "start_time": "2021-09-08T11:44:37.357Z"
   },
   {
    "duration": 33,
    "start_time": "2021-09-08T11:44:37.383Z"
   },
   {
    "duration": 17,
    "start_time": "2021-09-08T11:44:37.419Z"
   },
   {
    "duration": 1590,
    "start_time": "2021-09-08T11:44:37.438Z"
   },
   {
    "duration": 382,
    "start_time": "2021-09-08T11:44:39.030Z"
   },
   {
    "duration": 486,
    "start_time": "2021-09-08T11:44:39.417Z"
   },
   {
    "duration": 13,
    "start_time": "2021-09-08T11:44:39.906Z"
   },
   {
    "duration": 170,
    "start_time": "2021-09-08T11:44:39.922Z"
   },
   {
    "duration": 707,
    "start_time": "2021-09-08T11:44:40.095Z"
   },
   {
    "duration": 25,
    "start_time": "2021-09-08T11:44:40.805Z"
   },
   {
    "duration": 8,
    "start_time": "2021-09-08T11:44:40.833Z"
   },
   {
    "duration": 16,
    "start_time": "2021-09-08T11:44:40.843Z"
   },
   {
    "duration": 61,
    "start_time": "2021-09-08T11:44:40.861Z"
   },
   {
    "duration": 655,
    "start_time": "2021-09-08T11:44:40.925Z"
   },
   {
    "duration": 41,
    "start_time": "2021-09-08T11:44:41.582Z"
   },
   {
    "duration": 5171,
    "start_time": "2021-09-08T11:44:41.626Z"
   },
   {
    "duration": 561,
    "start_time": "2021-09-08T11:44:46.802Z"
   },
   {
    "duration": 76,
    "start_time": "2021-09-08T11:44:47.366Z"
   },
   {
    "duration": 5681,
    "start_time": "2021-09-08T11:44:47.444Z"
   },
   {
    "duration": 710,
    "start_time": "2021-09-08T11:44:53.128Z"
   },
   {
    "duration": 187,
    "start_time": "2021-09-08T11:44:53.840Z"
   },
   {
    "duration": 4,
    "start_time": "2021-09-08T11:44:54.030Z"
   },
   {
    "duration": 5831,
    "start_time": "2021-09-08T11:44:54.037Z"
   },
   {
    "duration": 654,
    "start_time": "2021-09-08T11:44:59.871Z"
   },
   {
    "duration": 524,
    "start_time": "2021-09-08T11:45:00.528Z"
   },
   {
    "duration": 67,
    "start_time": "2021-09-08T11:45:01.054Z"
   },
   {
    "duration": 112,
    "start_time": "2021-09-08T11:45:01.125Z"
   },
   {
    "duration": 25,
    "start_time": "2021-09-08T11:45:01.239Z"
   },
   {
    "duration": 86,
    "start_time": "2021-09-08T11:45:01.266Z"
   },
   {
    "duration": 15,
    "start_time": "2021-09-08T11:45:01.354Z"
   },
   {
    "duration": 8186,
    "start_time": "2021-09-08T11:51:25.808Z"
   },
   {
    "duration": 7814,
    "start_time": "2021-09-08T11:52:11.607Z"
   },
   {
    "duration": 313,
    "start_time": "2021-09-08T11:52:33.649Z"
   },
   {
    "duration": 10497,
    "start_time": "2021-09-08T11:52:40.735Z"
   },
   {
    "duration": 8,
    "start_time": "2021-09-08T11:53:10.780Z"
   },
   {
    "duration": 330,
    "start_time": "2021-09-08T11:53:59.013Z"
   },
   {
    "duration": 313,
    "start_time": "2021-09-08T11:54:11.608Z"
   },
   {
    "duration": 300,
    "start_time": "2021-09-08T11:54:32.260Z"
   },
   {
    "duration": 296,
    "start_time": "2021-09-08T11:54:43.091Z"
   },
   {
    "duration": 8,
    "start_time": "2021-09-08T11:55:02.141Z"
   },
   {
    "duration": 315,
    "start_time": "2021-09-08T11:56:09.033Z"
   },
   {
    "duration": 698,
    "start_time": "2021-09-08T11:56:14.725Z"
   },
   {
    "duration": 8,
    "start_time": "2021-09-08T11:56:26.843Z"
   },
   {
    "duration": 7,
    "start_time": "2021-09-08T11:56:54.892Z"
   },
   {
    "duration": 313,
    "start_time": "2021-09-08T11:57:27.449Z"
   },
   {
    "duration": 7,
    "start_time": "2021-09-08T11:57:50.032Z"
   },
   {
    "duration": 15,
    "start_time": "2021-09-08T11:59:53.826Z"
   },
   {
    "duration": 1581,
    "start_time": "2021-09-08T12:04:03.298Z"
   },
   {
    "duration": 3,
    "start_time": "2021-09-08T12:04:04.882Z"
   },
   {
    "duration": 72,
    "start_time": "2021-09-08T12:04:04.889Z"
   },
   {
    "duration": 14,
    "start_time": "2021-09-08T12:04:04.964Z"
   },
   {
    "duration": 10,
    "start_time": "2021-09-08T12:04:04.980Z"
   },
   {
    "duration": 29,
    "start_time": "2021-09-08T12:04:04.993Z"
   },
   {
    "duration": 18,
    "start_time": "2021-09-08T12:04:05.024Z"
   },
   {
    "duration": 22,
    "start_time": "2021-09-08T12:04:05.046Z"
   },
   {
    "duration": 1472,
    "start_time": "2021-09-08T12:04:05.071Z"
   },
   {
    "duration": 393,
    "start_time": "2021-09-08T12:04:06.546Z"
   },
   {
    "duration": 484,
    "start_time": "2021-09-08T12:04:06.941Z"
   },
   {
    "duration": 160,
    "start_time": "2021-09-08T12:04:07.428Z"
   },
   {
    "duration": 588,
    "start_time": "2021-09-08T12:04:07.590Z"
   },
   {
    "duration": 37,
    "start_time": "2021-09-08T12:04:08.181Z"
   },
   {
    "duration": 7,
    "start_time": "2021-09-08T12:04:08.221Z"
   },
   {
    "duration": 9,
    "start_time": "2021-09-08T12:04:08.230Z"
   },
   {
    "duration": 75,
    "start_time": "2021-09-08T12:04:08.242Z"
   },
   {
    "duration": 663,
    "start_time": "2021-09-08T12:04:08.321Z"
   },
   {
    "duration": 8,
    "start_time": "2021-09-08T12:04:08.986Z"
   },
   {
    "duration": 4936,
    "start_time": "2021-09-08T12:04:08.997Z"
   },
   {
    "duration": 546,
    "start_time": "2021-09-08T12:04:13.935Z"
   },
   {
    "duration": 82,
    "start_time": "2021-09-08T12:04:14.484Z"
   },
   {
    "duration": 5116,
    "start_time": "2021-09-08T12:04:14.573Z"
   },
   {
    "duration": 606,
    "start_time": "2021-09-08T12:04:19.693Z"
   },
   {
    "duration": 189,
    "start_time": "2021-09-08T12:04:20.302Z"
   },
   {
    "duration": 4,
    "start_time": "2021-09-08T12:04:20.494Z"
   },
   {
    "duration": 4939,
    "start_time": "2021-09-08T12:04:20.516Z"
   },
   {
    "duration": 563,
    "start_time": "2021-09-08T12:04:25.457Z"
   },
   {
    "duration": 512,
    "start_time": "2021-09-08T12:04:26.023Z"
   },
   {
    "duration": 7,
    "start_time": "2021-09-08T12:04:26.537Z"
   },
   {
    "duration": 77,
    "start_time": "2021-09-08T12:04:26.546Z"
   },
   {
    "duration": 109,
    "start_time": "2021-09-08T12:04:26.627Z"
   },
   {
    "duration": 27,
    "start_time": "2021-09-08T12:04:26.739Z"
   },
   {
    "duration": 94,
    "start_time": "2021-09-08T12:04:26.769Z"
   },
   {
    "duration": 10,
    "start_time": "2021-09-08T12:04:26.866Z"
   },
   {
    "duration": 39,
    "start_time": "2021-09-08T12:04:26.879Z"
   },
   {
    "duration": 1560,
    "start_time": "2021-09-08T13:19:43.657Z"
   },
   {
    "duration": 3,
    "start_time": "2021-09-08T13:19:45.220Z"
   },
   {
    "duration": 48,
    "start_time": "2021-09-08T13:19:45.226Z"
   },
   {
    "duration": 19,
    "start_time": "2021-09-08T13:19:45.276Z"
   },
   {
    "duration": 8,
    "start_time": "2021-09-08T13:19:45.298Z"
   },
   {
    "duration": 16,
    "start_time": "2021-09-08T13:19:45.308Z"
   },
   {
    "duration": 9,
    "start_time": "2021-09-08T13:19:45.327Z"
   },
   {
    "duration": 52,
    "start_time": "2021-09-08T13:19:45.342Z"
   },
   {
    "duration": 1355,
    "start_time": "2021-09-08T13:20:22.098Z"
   },
   {
    "duration": 372,
    "start_time": "2021-09-08T13:20:23.455Z"
   },
   {
    "duration": 440,
    "start_time": "2021-09-08T13:20:23.829Z"
   },
   {
    "duration": 136,
    "start_time": "2021-09-08T13:20:24.271Z"
   },
   {
    "duration": 552,
    "start_time": "2021-09-08T13:20:24.410Z"
   },
   {
    "duration": 14,
    "start_time": "2021-09-08T13:20:30.585Z"
   },
   {
    "duration": 7,
    "start_time": "2021-09-08T13:20:31.217Z"
   },
   {
    "duration": 5,
    "start_time": "2021-09-08T13:20:31.833Z"
   },
   {
    "duration": 13,
    "start_time": "2021-09-08T13:20:33.201Z"
   },
   {
    "duration": 496,
    "start_time": "2021-09-08T13:20:34.290Z"
   },
   {
    "duration": 8,
    "start_time": "2021-09-08T13:20:35.079Z"
   },
   {
    "duration": 4246,
    "start_time": "2021-09-08T13:20:35.914Z"
   },
   {
    "duration": 513,
    "start_time": "2021-09-08T13:20:40.162Z"
   },
   {
    "duration": 55,
    "start_time": "2021-09-08T13:20:40.682Z"
   },
   {
    "duration": 1568,
    "start_time": "2021-09-08T15:00:29.527Z"
   },
   {
    "duration": 3,
    "start_time": "2021-09-08T15:00:31.097Z"
   },
   {
    "duration": 61,
    "start_time": "2021-09-08T15:00:31.103Z"
   },
   {
    "duration": 13,
    "start_time": "2021-09-08T15:00:31.166Z"
   },
   {
    "duration": 17,
    "start_time": "2021-09-08T15:00:31.182Z"
   },
   {
    "duration": 26,
    "start_time": "2021-09-08T15:00:31.201Z"
   },
   {
    "duration": 25,
    "start_time": "2021-09-08T15:00:31.229Z"
   },
   {
    "duration": 25,
    "start_time": "2021-09-08T15:00:31.256Z"
   },
   {
    "duration": 1511,
    "start_time": "2021-09-08T15:00:31.285Z"
   },
   {
    "duration": 410,
    "start_time": "2021-09-08T15:00:32.800Z"
   },
   {
    "duration": 529,
    "start_time": "2021-09-08T15:00:33.214Z"
   },
   {
    "duration": 69,
    "start_time": "2021-09-08T15:00:33.746Z"
   },
   {
    "duration": 686,
    "start_time": "2021-09-08T15:00:33.818Z"
   },
   {
    "duration": 15,
    "start_time": "2021-09-08T15:00:34.507Z"
   },
   {
    "duration": 10,
    "start_time": "2021-09-08T15:00:34.524Z"
   },
   {
    "duration": 12,
    "start_time": "2021-09-08T15:00:34.536Z"
   },
   {
    "duration": 16,
    "start_time": "2021-09-08T15:00:34.567Z"
   },
   {
    "duration": 657,
    "start_time": "2021-09-08T15:00:34.669Z"
   },
   {
    "duration": 42,
    "start_time": "2021-09-08T15:00:35.330Z"
   },
   {
    "duration": 4550,
    "start_time": "2021-09-08T15:00:35.466Z"
   },
   {
    "duration": 558,
    "start_time": "2021-09-08T15:00:40.019Z"
   },
   {
    "duration": 61,
    "start_time": "2021-09-08T15:00:40.579Z"
   },
   {
    "duration": 4898,
    "start_time": "2021-09-08T15:00:40.642Z"
   },
   {
    "duration": 616,
    "start_time": "2021-09-08T15:00:45.542Z"
   },
   {
    "duration": 208,
    "start_time": "2021-09-08T15:00:46.160Z"
   },
   {
    "duration": 4,
    "start_time": "2021-09-08T15:00:46.370Z"
   },
   {
    "duration": 4589,
    "start_time": "2021-09-08T15:00:46.381Z"
   },
   {
    "duration": 533,
    "start_time": "2021-09-08T15:00:50.973Z"
   },
   {
    "duration": 522,
    "start_time": "2021-09-08T15:00:51.509Z"
   },
   {
    "duration": 7,
    "start_time": "2021-09-08T15:00:52.034Z"
   },
   {
    "duration": 31,
    "start_time": "2021-09-08T15:00:52.045Z"
   },
   {
    "duration": 205,
    "start_time": "2021-09-08T15:00:52.080Z"
   },
   {
    "duration": 25,
    "start_time": "2021-09-08T15:00:52.288Z"
   },
   {
    "duration": 79,
    "start_time": "2021-09-08T15:00:52.316Z"
   },
   {
    "duration": 6,
    "start_time": "2021-09-08T15:00:52.397Z"
   },
   {
    "duration": 17,
    "start_time": "2021-09-08T15:00:52.406Z"
   },
   {
    "duration": 1535,
    "start_time": "2021-09-08T15:02:29.064Z"
   },
   {
    "duration": 4,
    "start_time": "2021-09-08T15:02:30.601Z"
   },
   {
    "duration": 63,
    "start_time": "2021-09-08T15:02:30.608Z"
   },
   {
    "duration": 13,
    "start_time": "2021-09-08T15:02:30.674Z"
   },
   {
    "duration": 12,
    "start_time": "2021-09-08T15:02:30.689Z"
   },
   {
    "duration": 22,
    "start_time": "2021-09-08T15:02:30.703Z"
   },
   {
    "duration": 13,
    "start_time": "2021-09-08T15:02:30.728Z"
   },
   {
    "duration": 36,
    "start_time": "2021-09-08T15:02:30.744Z"
   },
   {
    "duration": 1473,
    "start_time": "2021-09-08T15:02:30.783Z"
   },
   {
    "duration": 395,
    "start_time": "2021-09-08T15:02:32.258Z"
   },
   {
    "duration": 493,
    "start_time": "2021-09-08T15:02:32.666Z"
   },
   {
    "duration": 22,
    "start_time": "2021-09-08T15:02:33.162Z"
   },
   {
    "duration": 703,
    "start_time": "2021-09-08T15:02:33.187Z"
   },
   {
    "duration": 17,
    "start_time": "2021-09-08T15:02:33.893Z"
   },
   {
    "duration": 7,
    "start_time": "2021-09-08T15:02:33.914Z"
   },
   {
    "duration": 6,
    "start_time": "2021-09-08T15:02:33.924Z"
   },
   {
    "duration": 9,
    "start_time": "2021-09-08T15:02:33.967Z"
   },
   {
    "duration": 321,
    "start_time": "2021-09-08T15:02:33.978Z"
   },
   {
    "duration": 165,
    "start_time": "2021-09-08T15:02:34.302Z"
   },
   {
    "duration": 648,
    "start_time": "2021-09-08T15:02:34.470Z"
   },
   {
    "duration": 324,
    "start_time": "2021-09-08T15:02:35.120Z"
   },
   {
    "duration": 69,
    "start_time": "2021-09-08T15:02:35.446Z"
   },
   {
    "duration": 1639,
    "start_time": "2021-09-08T15:02:35.519Z"
   },
   {
    "duration": 380,
    "start_time": "2021-09-08T15:02:37.161Z"
   },
   {
    "duration": 175,
    "start_time": "2021-09-08T15:02:37.543Z"
   },
   {
    "duration": 3,
    "start_time": "2021-09-08T15:02:37.721Z"
   },
   {
    "duration": 1088,
    "start_time": "2021-09-08T15:02:37.726Z"
   },
   {
    "duration": 318,
    "start_time": "2021-09-08T15:02:38.816Z"
   },
   {
    "duration": 415,
    "start_time": "2021-09-08T15:02:39.137Z"
   },
   {
    "duration": 14,
    "start_time": "2021-09-08T15:02:39.554Z"
   },
   {
    "duration": 14,
    "start_time": "2021-09-08T15:02:39.571Z"
   },
   {
    "duration": 33,
    "start_time": "2021-09-08T15:02:39.588Z"
   },
   {
    "duration": 25,
    "start_time": "2021-09-08T15:02:39.623Z"
   },
   {
    "duration": 63,
    "start_time": "2021-09-08T15:02:39.650Z"
   },
   {
    "duration": 7,
    "start_time": "2021-09-08T15:02:39.715Z"
   },
   {
    "duration": 27,
    "start_time": "2021-09-08T15:02:39.724Z"
   },
   {
    "duration": 1518,
    "start_time": "2021-09-08T15:06:42.080Z"
   },
   {
    "duration": 4,
    "start_time": "2021-09-08T15:06:43.600Z"
   },
   {
    "duration": 50,
    "start_time": "2021-09-08T15:06:43.607Z"
   },
   {
    "duration": 17,
    "start_time": "2021-09-08T15:06:43.660Z"
   },
   {
    "duration": 8,
    "start_time": "2021-09-08T15:06:43.679Z"
   },
   {
    "duration": 13,
    "start_time": "2021-09-08T15:06:43.690Z"
   },
   {
    "duration": 9,
    "start_time": "2021-09-08T15:06:43.706Z"
   },
   {
    "duration": 53,
    "start_time": "2021-09-08T15:06:43.719Z"
   },
   {
    "duration": 1460,
    "start_time": "2021-09-08T15:06:43.775Z"
   },
   {
    "duration": 393,
    "start_time": "2021-09-08T15:06:45.238Z"
   },
   {
    "duration": 495,
    "start_time": "2021-09-08T15:06:45.633Z"
   },
   {
    "duration": 38,
    "start_time": "2021-09-08T15:06:46.130Z"
   },
   {
    "duration": 739,
    "start_time": "2021-09-08T15:06:46.171Z"
   },
   {
    "duration": 15,
    "start_time": "2021-09-08T15:06:46.912Z"
   },
   {
    "duration": 15,
    "start_time": "2021-09-08T15:06:46.930Z"
   },
   {
    "duration": 21,
    "start_time": "2021-09-08T15:06:46.948Z"
   },
   {
    "duration": 15,
    "start_time": "2021-09-08T15:06:46.972Z"
   },
   {
    "duration": 318,
    "start_time": "2021-09-08T15:06:46.989Z"
   },
   {
    "duration": 8,
    "start_time": "2021-09-08T15:06:47.310Z"
   },
   {
    "duration": 897,
    "start_time": "2021-09-08T15:06:47.372Z"
   },
   {
    "duration": 328,
    "start_time": "2021-09-08T15:06:48.271Z"
   },
   {
    "duration": 66,
    "start_time": "2021-09-08T15:06:48.601Z"
   },
   {
    "duration": 1912,
    "start_time": "2021-09-08T15:06:48.672Z"
   },
   {
    "duration": 378,
    "start_time": "2021-09-08T15:06:50.587Z"
   },
   {
    "duration": 176,
    "start_time": "2021-09-08T15:06:50.967Z"
   },
   {
    "duration": 4,
    "start_time": "2021-09-08T15:06:51.146Z"
   },
   {
    "duration": 1273,
    "start_time": "2021-09-08T15:06:51.152Z"
   },
   {
    "duration": 424,
    "start_time": "2021-09-08T15:06:52.427Z"
   },
   {
    "duration": 453,
    "start_time": "2021-09-08T15:06:52.854Z"
   },
   {
    "duration": 6,
    "start_time": "2021-09-08T15:06:53.310Z"
   },
   {
    "duration": 14,
    "start_time": "2021-09-08T15:06:53.319Z"
   },
   {
    "duration": 40,
    "start_time": "2021-09-08T15:06:53.335Z"
   },
   {
    "duration": 26,
    "start_time": "2021-09-08T15:06:53.378Z"
   },
   {
    "duration": 78,
    "start_time": "2021-09-08T15:06:53.407Z"
   },
   {
    "duration": 9,
    "start_time": "2021-09-08T15:06:53.488Z"
   },
   {
    "duration": 22,
    "start_time": "2021-09-08T15:06:53.499Z"
   },
   {
    "duration": 1536,
    "start_time": "2021-09-08T15:07:38.243Z"
   },
   {
    "duration": 3,
    "start_time": "2021-09-08T15:07:39.782Z"
   },
   {
    "duration": 50,
    "start_time": "2021-09-08T15:07:39.788Z"
   },
   {
    "duration": 13,
    "start_time": "2021-09-08T15:07:39.840Z"
   },
   {
    "duration": 9,
    "start_time": "2021-09-08T15:07:39.866Z"
   },
   {
    "duration": 17,
    "start_time": "2021-09-08T15:07:39.878Z"
   },
   {
    "duration": 13,
    "start_time": "2021-09-08T15:07:39.898Z"
   },
   {
    "duration": 55,
    "start_time": "2021-09-08T15:07:39.917Z"
   },
   {
    "duration": 1565,
    "start_time": "2021-09-08T15:07:39.975Z"
   },
   {
    "duration": 416,
    "start_time": "2021-09-08T15:07:41.543Z"
   },
   {
    "duration": 505,
    "start_time": "2021-09-08T15:07:41.962Z"
   },
   {
    "duration": 22,
    "start_time": "2021-09-08T15:07:42.470Z"
   },
   {
    "duration": 799,
    "start_time": "2021-09-08T15:07:42.495Z"
   },
   {
    "duration": 13,
    "start_time": "2021-09-08T15:07:43.297Z"
   },
   {
    "duration": 9,
    "start_time": "2021-09-08T15:07:43.312Z"
   },
   {
    "duration": 8,
    "start_time": "2021-09-08T15:07:43.323Z"
   },
   {
    "duration": 39,
    "start_time": "2021-09-08T15:07:43.333Z"
   },
   {
    "duration": 317,
    "start_time": "2021-09-08T15:07:43.375Z"
   },
   {
    "duration": 77,
    "start_time": "2021-09-08T15:07:43.695Z"
   },
   {
    "duration": 738,
    "start_time": "2021-09-08T15:07:43.775Z"
   },
   {
    "duration": 336,
    "start_time": "2021-09-08T15:07:44.516Z"
   },
   {
    "duration": 66,
    "start_time": "2021-09-08T15:07:44.855Z"
   },
   {
    "duration": 1682,
    "start_time": "2021-09-08T15:07:44.928Z"
   },
   {
    "duration": 381,
    "start_time": "2021-09-08T15:07:46.613Z"
   },
   {
    "duration": 176,
    "start_time": "2021-09-08T15:07:46.997Z"
   },
   {
    "duration": 4,
    "start_time": "2021-09-08T15:07:47.176Z"
   },
   {
    "duration": 1103,
    "start_time": "2021-09-08T15:07:47.182Z"
   },
   {
    "duration": 311,
    "start_time": "2021-09-08T15:07:48.287Z"
   },
   {
    "duration": 416,
    "start_time": "2021-09-08T15:07:48.601Z"
   },
   {
    "duration": 6,
    "start_time": "2021-09-08T15:07:49.019Z"
   },
   {
    "duration": 20,
    "start_time": "2021-09-08T15:07:49.028Z"
   },
   {
    "duration": 31,
    "start_time": "2021-09-08T15:07:49.051Z"
   },
   {
    "duration": 25,
    "start_time": "2021-09-08T15:07:49.084Z"
   },
   {
    "duration": 77,
    "start_time": "2021-09-08T15:07:49.112Z"
   },
   {
    "duration": 7,
    "start_time": "2021-09-08T15:07:49.191Z"
   },
   {
    "duration": 18,
    "start_time": "2021-09-08T15:07:49.200Z"
   },
   {
    "duration": 2898,
    "start_time": "2021-09-08T17:33:37.603Z"
   },
   {
    "duration": 1698,
    "start_time": "2021-09-08T17:33:57.045Z"
   },
   {
    "duration": 8,
    "start_time": "2021-09-08T17:34:10.401Z"
   },
   {
    "duration": 6,
    "start_time": "2021-09-08T17:34:17.182Z"
   },
   {
    "duration": 7,
    "start_time": "2021-09-08T17:39:11.991Z"
   },
   {
    "duration": 60,
    "start_time": "2021-09-08T17:39:47.473Z"
   },
   {
    "duration": 63,
    "start_time": "2021-09-08T17:39:56.067Z"
   },
   {
    "duration": 54,
    "start_time": "2021-09-08T17:40:23.069Z"
   },
   {
    "duration": 318,
    "start_time": "2021-09-08T17:41:29.011Z"
   },
   {
    "duration": 9,
    "start_time": "2021-09-08T17:41:41.347Z"
   },
   {
    "duration": 14,
    "start_time": "2021-09-08T17:41:54.581Z"
   },
   {
    "duration": 15,
    "start_time": "2021-09-08T17:42:03.558Z"
   },
   {
    "duration": 473,
    "start_time": "2021-09-08T17:43:18.884Z"
   },
   {
    "duration": 516,
    "start_time": "2021-09-08T17:43:43.366Z"
   },
   {
    "duration": 406,
    "start_time": "2021-09-08T17:43:53.369Z"
   },
   {
    "duration": 355,
    "start_time": "2021-09-08T17:45:57.702Z"
   },
   {
    "duration": 406,
    "start_time": "2021-09-08T17:46:27.650Z"
   },
   {
    "duration": 350,
    "start_time": "2021-09-08T17:47:15.617Z"
   },
   {
    "duration": 350,
    "start_time": "2021-09-08T17:47:21.693Z"
   },
   {
    "duration": 5,
    "start_time": "2021-09-08T17:53:05.410Z"
   },
   {
    "duration": 124,
    "start_time": "2021-09-08T17:53:32.335Z"
   },
   {
    "duration": 397,
    "start_time": "2021-09-08T17:53:35.518Z"
   },
   {
    "duration": 7,
    "start_time": "2021-09-08T17:54:44.586Z"
   },
   {
    "duration": 399,
    "start_time": "2021-09-08T17:55:40.457Z"
   },
   {
    "duration": 5,
    "start_time": "2021-09-08T17:56:18.981Z"
   },
   {
    "duration": 418,
    "start_time": "2021-09-08T17:56:21.706Z"
   },
   {
    "duration": 5,
    "start_time": "2021-09-08T17:59:30.707Z"
   },
   {
    "duration": 377,
    "start_time": "2021-09-08T17:59:35.200Z"
   },
   {
    "duration": 365,
    "start_time": "2021-09-08T17:59:53.418Z"
   },
   {
    "duration": 363,
    "start_time": "2021-09-08T18:00:22.125Z"
   },
   {
    "duration": 360,
    "start_time": "2021-09-08T18:02:09.949Z"
   },
   {
    "duration": 103,
    "start_time": "2021-09-08T18:16:05.603Z"
   },
   {
    "duration": 1561,
    "start_time": "2021-09-08T18:19:44.033Z"
   },
   {
    "duration": 3,
    "start_time": "2021-09-08T18:19:45.597Z"
   },
   {
    "duration": 55,
    "start_time": "2021-09-08T18:19:45.604Z"
   },
   {
    "duration": 14,
    "start_time": "2021-09-08T18:19:45.661Z"
   },
   {
    "duration": 9,
    "start_time": "2021-09-08T18:19:45.677Z"
   },
   {
    "duration": 13,
    "start_time": "2021-09-08T18:19:45.689Z"
   },
   {
    "duration": 11,
    "start_time": "2021-09-08T18:19:45.704Z"
   },
   {
    "duration": 59,
    "start_time": "2021-09-08T18:19:45.719Z"
   },
   {
    "duration": 1518,
    "start_time": "2021-09-08T18:19:45.781Z"
   },
   {
    "duration": 423,
    "start_time": "2021-09-08T18:19:47.302Z"
   },
   {
    "duration": 532,
    "start_time": "2021-09-08T18:19:47.727Z"
   },
   {
    "duration": 24,
    "start_time": "2021-09-08T18:19:48.261Z"
   },
   {
    "duration": 687,
    "start_time": "2021-09-08T18:19:48.287Z"
   },
   {
    "duration": 13,
    "start_time": "2021-09-08T18:19:48.976Z"
   },
   {
    "duration": 7,
    "start_time": "2021-09-08T18:19:48.992Z"
   },
   {
    "duration": 8,
    "start_time": "2021-09-08T18:19:49.001Z"
   },
   {
    "duration": 8,
    "start_time": "2021-09-08T18:19:49.011Z"
   },
   {
    "duration": 48,
    "start_time": "2021-09-08T18:19:49.021Z"
   },
   {
    "duration": 331,
    "start_time": "2021-09-08T18:19:49.071Z"
   },
   {
    "duration": 68,
    "start_time": "2021-09-08T18:19:49.404Z"
   },
   {
    "duration": 381,
    "start_time": "2021-09-08T18:19:49.568Z"
   },
   {
    "duration": 666,
    "start_time": "2021-09-08T18:19:49.951Z"
   },
   {
    "duration": 321,
    "start_time": "2021-09-08T18:19:50.622Z"
   },
   {
    "duration": 65,
    "start_time": "2021-09-08T18:19:50.945Z"
   },
   {
    "duration": 386,
    "start_time": "2021-09-08T18:19:51.012Z"
   },
   {
    "duration": 1770,
    "start_time": "2021-09-08T18:19:51.401Z"
   },
   {
    "duration": 684,
    "start_time": "2021-09-08T18:19:53.174Z"
   },
   {
    "duration": 230,
    "start_time": "2021-09-08T18:19:53.861Z"
   },
   {
    "duration": 389,
    "start_time": "2021-09-08T18:19:54.094Z"
   },
   {
    "duration": 5,
    "start_time": "2021-09-08T18:19:54.486Z"
   },
   {
    "duration": 1102,
    "start_time": "2021-09-08T18:19:54.493Z"
   },
   {
    "duration": 319,
    "start_time": "2021-09-08T18:19:55.597Z"
   },
   {
    "duration": 524,
    "start_time": "2021-09-08T18:19:55.918Z"
   },
   {
    "duration": 389,
    "start_time": "2021-09-08T18:19:56.445Z"
   },
   {
    "duration": 7,
    "start_time": "2021-09-08T18:19:56.837Z"
   },
   {
    "duration": 23,
    "start_time": "2021-09-08T18:19:56.847Z"
   },
   {
    "duration": 23,
    "start_time": "2021-09-08T18:19:56.873Z"
   },
   {
    "duration": 26,
    "start_time": "2021-09-08T18:19:56.898Z"
   },
   {
    "duration": 82,
    "start_time": "2021-09-08T18:19:56.926Z"
   },
   {
    "duration": 7,
    "start_time": "2021-09-08T18:19:57.011Z"
   },
   {
    "duration": 47,
    "start_time": "2021-09-08T18:19:57.020Z"
   },
   {
    "duration": 24,
    "start_time": "2021-09-08T18:21:21.743Z"
   },
   {
    "duration": 1849,
    "start_time": "2021-09-08T18:21:30.197Z"
   },
   {
    "duration": 4,
    "start_time": "2021-09-08T18:21:32.049Z"
   },
   {
    "duration": 3395,
    "start_time": "2021-09-08T18:21:32.056Z"
   },
   {
    "duration": 20,
    "start_time": "2021-09-08T18:21:35.454Z"
   },
   {
    "duration": 9,
    "start_time": "2021-09-08T18:21:35.477Z"
   },
   {
    "duration": 17,
    "start_time": "2021-09-08T18:21:35.489Z"
   },
   {
    "duration": 15,
    "start_time": "2021-09-08T18:21:35.509Z"
   },
   {
    "duration": 47,
    "start_time": "2021-09-08T18:21:35.531Z"
   },
   {
    "duration": 1647,
    "start_time": "2021-09-08T18:21:35.580Z"
   },
   {
    "duration": 398,
    "start_time": "2021-09-08T18:21:37.229Z"
   },
   {
    "duration": 509,
    "start_time": "2021-09-08T18:21:37.629Z"
   },
   {
    "duration": 37,
    "start_time": "2021-09-08T18:21:38.142Z"
   },
   {
    "duration": 693,
    "start_time": "2021-09-08T18:21:38.181Z"
   },
   {
    "duration": 15,
    "start_time": "2021-09-08T18:21:38.877Z"
   },
   {
    "duration": 7,
    "start_time": "2021-09-08T18:21:38.895Z"
   },
   {
    "duration": 6,
    "start_time": "2021-09-08T18:21:38.904Z"
   },
   {
    "duration": 8,
    "start_time": "2021-09-08T18:21:38.913Z"
   },
   {
    "duration": 49,
    "start_time": "2021-09-08T18:21:38.924Z"
   },
   {
    "duration": 343,
    "start_time": "2021-09-08T18:21:38.976Z"
   },
   {
    "duration": 53,
    "start_time": "2021-09-08T18:21:39.322Z"
   },
   {
    "duration": 562,
    "start_time": "2021-09-08T18:21:39.379Z"
   },
   {
    "duration": 910,
    "start_time": "2021-09-08T18:21:39.944Z"
   },
   {
    "duration": 340,
    "start_time": "2021-09-08T18:21:40.859Z"
   },
   {
    "duration": 75,
    "start_time": "2021-09-08T18:21:41.202Z"
   },
   {
    "duration": 394,
    "start_time": "2021-09-08T18:21:41.279Z"
   },
   {
    "duration": 1967,
    "start_time": "2021-09-08T18:21:41.676Z"
   },
   {
    "duration": 383,
    "start_time": "2021-09-08T18:21:43.646Z"
   },
   {
    "duration": 180,
    "start_time": "2021-09-08T18:21:44.032Z"
   },
   {
    "duration": 393,
    "start_time": "2021-09-08T18:21:44.215Z"
   },
   {
    "duration": 5,
    "start_time": "2021-09-08T18:21:44.610Z"
   },
   {
    "duration": 1430,
    "start_time": "2021-09-08T18:21:44.617Z"
   },
   {
    "duration": 335,
    "start_time": "2021-09-08T18:21:46.049Z"
   },
   {
    "duration": 534,
    "start_time": "2021-09-08T18:21:46.388Z"
   },
   {
    "duration": 542,
    "start_time": "2021-09-08T18:21:46.925Z"
   },
   {
    "duration": 7,
    "start_time": "2021-09-08T18:21:47.470Z"
   },
   {
    "duration": 10,
    "start_time": "2021-09-08T18:21:47.480Z"
   },
   {
    "duration": 24,
    "start_time": "2021-09-08T18:21:47.494Z"
   },
   {
    "duration": 68,
    "start_time": "2021-09-08T18:21:47.520Z"
   },
   {
    "duration": 51,
    "start_time": "2021-09-08T18:21:47.591Z"
   },
   {
    "duration": 26,
    "start_time": "2021-09-08T18:21:47.645Z"
   },
   {
    "duration": 15,
    "start_time": "2021-09-08T18:21:47.674Z"
   },
   {
    "duration": 1596,
    "start_time": "2021-09-08T18:23:35.064Z"
   },
   {
    "duration": 5,
    "start_time": "2021-09-08T18:23:36.662Z"
   },
   {
    "duration": 48,
    "start_time": "2021-09-08T18:23:36.676Z"
   },
   {
    "duration": 13,
    "start_time": "2021-09-08T18:23:36.726Z"
   },
   {
    "duration": 32,
    "start_time": "2021-09-08T18:23:36.741Z"
   },
   {
    "duration": 14,
    "start_time": "2021-09-08T18:23:36.776Z"
   },
   {
    "duration": 10,
    "start_time": "2021-09-08T18:23:36.794Z"
   },
   {
    "duration": 17,
    "start_time": "2021-09-08T18:23:36.807Z"
   },
   {
    "duration": 1642,
    "start_time": "2021-09-08T18:23:36.866Z"
   },
   {
    "duration": 400,
    "start_time": "2021-09-08T18:23:38.511Z"
   },
   {
    "duration": 520,
    "start_time": "2021-09-08T18:23:38.914Z"
   },
   {
    "duration": 39,
    "start_time": "2021-09-08T18:23:39.436Z"
   },
   {
    "duration": 726,
    "start_time": "2021-09-08T18:23:39.477Z"
   },
   {
    "duration": 16,
    "start_time": "2021-09-08T18:23:40.205Z"
   },
   {
    "duration": 16,
    "start_time": "2021-09-08T18:23:40.223Z"
   },
   {
    "duration": 26,
    "start_time": "2021-09-08T18:23:40.242Z"
   },
   {
    "duration": 22,
    "start_time": "2021-09-08T18:23:40.270Z"
   },
   {
    "duration": 35,
    "start_time": "2021-09-08T18:23:40.294Z"
   },
   {
    "duration": 333,
    "start_time": "2021-09-08T18:23:40.332Z"
   },
   {
    "duration": 15,
    "start_time": "2021-09-08T18:23:40.667Z"
   },
   {
    "duration": 546,
    "start_time": "2021-09-08T18:23:40.685Z"
   },
   {
    "duration": 900,
    "start_time": "2021-09-08T18:23:41.236Z"
   },
   {
    "duration": 342,
    "start_time": "2021-09-08T18:23:42.139Z"
   },
   {
    "duration": 57,
    "start_time": "2021-09-08T18:23:42.484Z"
   },
   {
    "duration": 492,
    "start_time": "2021-09-08T18:23:42.543Z"
   },
   {
    "duration": 1953,
    "start_time": "2021-09-08T18:23:43.037Z"
   },
   {
    "duration": 378,
    "start_time": "2021-09-08T18:23:44.992Z"
   },
   {
    "duration": 183,
    "start_time": "2021-09-08T18:23:45.372Z"
   },
   {
    "duration": 387,
    "start_time": "2021-09-08T18:23:45.558Z"
   },
   {
    "duration": 5,
    "start_time": "2021-09-08T18:23:45.948Z"
   },
   {
    "duration": 1325,
    "start_time": "2021-09-08T18:23:45.955Z"
   },
   {
    "duration": 319,
    "start_time": "2021-09-08T18:23:47.283Z"
   },
   {
    "duration": 428,
    "start_time": "2021-09-08T18:23:47.606Z"
   },
   {
    "duration": 388,
    "start_time": "2021-09-08T18:23:48.037Z"
   },
   {
    "duration": 7,
    "start_time": "2021-09-08T18:23:48.428Z"
   },
   {
    "duration": 16,
    "start_time": "2021-09-08T18:23:48.437Z"
   },
   {
    "duration": 21,
    "start_time": "2021-09-08T18:23:48.468Z"
   },
   {
    "duration": 25,
    "start_time": "2021-09-08T18:23:48.491Z"
   },
   {
    "duration": 73,
    "start_time": "2021-09-08T18:23:48.518Z"
   },
   {
    "duration": 7,
    "start_time": "2021-09-08T18:23:48.593Z"
   },
   {
    "duration": 24,
    "start_time": "2021-09-08T18:23:48.602Z"
   },
   {
    "duration": 1560,
    "start_time": "2021-09-08T18:25:35.067Z"
   },
   {
    "duration": 3,
    "start_time": "2021-09-08T18:25:36.630Z"
   },
   {
    "duration": 106,
    "start_time": "2021-09-08T18:25:36.636Z"
   },
   {
    "duration": 13,
    "start_time": "2021-09-08T18:25:36.744Z"
   },
   {
    "duration": 9,
    "start_time": "2021-09-08T18:25:36.760Z"
   },
   {
    "duration": 15,
    "start_time": "2021-09-08T18:25:36.772Z"
   },
   {
    "duration": 10,
    "start_time": "2021-09-08T18:25:36.789Z"
   },
   {
    "duration": 17,
    "start_time": "2021-09-08T18:25:36.802Z"
   },
   {
    "duration": 1499,
    "start_time": "2021-09-08T18:25:36.824Z"
   },
   {
    "duration": 511,
    "start_time": "2021-09-08T18:25:38.327Z"
   },
   {
    "duration": 490,
    "start_time": "2021-09-08T18:25:38.841Z"
   },
   {
    "duration": 34,
    "start_time": "2021-09-08T18:25:39.334Z"
   },
   {
    "duration": 700,
    "start_time": "2021-09-08T18:25:39.371Z"
   },
   {
    "duration": 15,
    "start_time": "2021-09-08T18:25:40.073Z"
   },
   {
    "duration": 11,
    "start_time": "2021-09-08T18:25:40.091Z"
   },
   {
    "duration": 20,
    "start_time": "2021-09-08T18:25:40.105Z"
   },
   {
    "duration": 10,
    "start_time": "2021-09-08T18:25:40.127Z"
   },
   {
    "duration": 33,
    "start_time": "2021-09-08T18:25:40.139Z"
   },
   {
    "duration": 314,
    "start_time": "2021-09-08T18:25:40.174Z"
   },
   {
    "duration": 78,
    "start_time": "2021-09-08T18:25:40.490Z"
   },
   {
    "duration": 461,
    "start_time": "2021-09-08T18:25:40.571Z"
   },
   {
    "duration": 1210,
    "start_time": "2021-09-08T18:25:41.035Z"
   },
   {
    "duration": 456,
    "start_time": "2021-09-08T18:25:42.248Z"
   },
   {
    "duration": 84,
    "start_time": "2021-09-08T18:25:42.707Z"
   },
   {
    "duration": 439,
    "start_time": "2021-09-08T18:25:42.794Z"
   },
   {
    "duration": 1941,
    "start_time": "2021-09-08T18:25:43.236Z"
   },
   {
    "duration": 391,
    "start_time": "2021-09-08T18:25:45.182Z"
   },
   {
    "duration": 246,
    "start_time": "2021-09-08T18:25:45.576Z"
   },
   {
    "duration": 533,
    "start_time": "2021-09-08T18:25:45.825Z"
   },
   {
    "duration": 10,
    "start_time": "2021-09-08T18:25:46.361Z"
   },
   {
    "duration": 1726,
    "start_time": "2021-09-08T18:25:46.374Z"
   },
   {
    "duration": 435,
    "start_time": "2021-09-08T18:25:48.103Z"
   },
   {
    "duration": 528,
    "start_time": "2021-09-08T18:25:48.540Z"
   },
   {
    "duration": 530,
    "start_time": "2021-09-08T18:25:49.071Z"
   },
   {
    "duration": 9,
    "start_time": "2021-09-08T18:25:49.604Z"
   },
   {
    "duration": 12,
    "start_time": "2021-09-08T18:25:49.616Z"
   },
   {
    "duration": 48,
    "start_time": "2021-09-08T18:25:49.631Z"
   },
   {
    "duration": 28,
    "start_time": "2021-09-08T18:25:49.682Z"
   },
   {
    "duration": 77,
    "start_time": "2021-09-08T18:25:49.712Z"
   },
   {
    "duration": 7,
    "start_time": "2021-09-08T18:25:49.791Z"
   },
   {
    "duration": 22,
    "start_time": "2021-09-08T18:25:49.801Z"
   },
   {
    "duration": 1841,
    "start_time": "2021-09-08T18:38:27.630Z"
   },
   {
    "duration": 4,
    "start_time": "2021-09-08T18:38:29.474Z"
   },
   {
    "duration": 50,
    "start_time": "2021-09-08T18:38:29.482Z"
   },
   {
    "duration": 32,
    "start_time": "2021-09-08T18:38:29.535Z"
   },
   {
    "duration": 9,
    "start_time": "2021-09-08T18:38:29.570Z"
   },
   {
    "duration": 16,
    "start_time": "2021-09-08T18:38:29.581Z"
   },
   {
    "duration": 13,
    "start_time": "2021-09-08T18:38:29.599Z"
   },
   {
    "duration": 56,
    "start_time": "2021-09-08T18:38:29.617Z"
   },
   {
    "duration": 1488,
    "start_time": "2021-09-08T18:38:29.676Z"
   },
   {
    "duration": 416,
    "start_time": "2021-09-08T18:38:31.168Z"
   },
   {
    "duration": 529,
    "start_time": "2021-09-08T18:38:31.587Z"
   },
   {
    "duration": 26,
    "start_time": "2021-09-08T18:38:32.119Z"
   },
   {
    "duration": 722,
    "start_time": "2021-09-08T18:38:32.148Z"
   },
   {
    "duration": 18,
    "start_time": "2021-09-08T18:38:32.873Z"
   },
   {
    "duration": 8,
    "start_time": "2021-09-08T18:38:32.894Z"
   },
   {
    "duration": 10,
    "start_time": "2021-09-08T18:38:32.904Z"
   },
   {
    "duration": 6,
    "start_time": "2021-09-08T18:38:32.917Z"
   },
   {
    "duration": 49,
    "start_time": "2021-09-08T18:38:32.926Z"
   },
   {
    "duration": 2368,
    "start_time": "2021-09-08T18:38:32.978Z"
   },
   {
    "duration": -894,
    "start_time": "2021-09-08T18:38:36.243Z"
   },
   {
    "duration": -902,
    "start_time": "2021-09-08T18:38:36.253Z"
   },
   {
    "duration": -903,
    "start_time": "2021-09-08T18:38:36.256Z"
   },
   {
    "duration": -906,
    "start_time": "2021-09-08T18:38:36.260Z"
   },
   {
    "duration": -907,
    "start_time": "2021-09-08T18:38:36.263Z"
   },
   {
    "duration": -907,
    "start_time": "2021-09-08T18:38:36.265Z"
   },
   {
    "duration": -909,
    "start_time": "2021-09-08T18:38:36.268Z"
   },
   {
    "duration": -909,
    "start_time": "2021-09-08T18:38:36.270Z"
   },
   {
    "duration": -911,
    "start_time": "2021-09-08T18:38:36.273Z"
   },
   {
    "duration": -912,
    "start_time": "2021-09-08T18:38:36.276Z"
   },
   {
    "duration": -914,
    "start_time": "2021-09-08T18:38:36.280Z"
   },
   {
    "duration": -922,
    "start_time": "2021-09-08T18:38:36.290Z"
   },
   {
    "duration": -924,
    "start_time": "2021-09-08T18:38:36.294Z"
   },
   {
    "duration": -924,
    "start_time": "2021-09-08T18:38:36.296Z"
   },
   {
    "duration": -924,
    "start_time": "2021-09-08T18:38:36.299Z"
   },
   {
    "duration": -924,
    "start_time": "2021-09-08T18:38:36.301Z"
   },
   {
    "duration": -924,
    "start_time": "2021-09-08T18:38:36.303Z"
   },
   {
    "duration": -924,
    "start_time": "2021-09-08T18:38:36.306Z"
   },
   {
    "duration": -924,
    "start_time": "2021-09-08T18:38:36.308Z"
   },
   {
    "duration": -925,
    "start_time": "2021-09-08T18:38:36.311Z"
   },
   {
    "duration": -930,
    "start_time": "2021-09-08T18:38:36.319Z"
   },
   {
    "duration": -930,
    "start_time": "2021-09-08T18:38:36.321Z"
   },
   {
    "duration": 1940,
    "start_time": "2021-09-08T18:39:05.490Z"
   },
   {
    "duration": 3,
    "start_time": "2021-09-08T18:39:07.433Z"
   },
   {
    "duration": 49,
    "start_time": "2021-09-08T18:39:07.439Z"
   },
   {
    "duration": 14,
    "start_time": "2021-09-08T18:39:07.490Z"
   },
   {
    "duration": 9,
    "start_time": "2021-09-08T18:39:07.507Z"
   },
   {
    "duration": 15,
    "start_time": "2021-09-08T18:39:07.518Z"
   },
   {
    "duration": 10,
    "start_time": "2021-09-08T18:39:07.567Z"
   },
   {
    "duration": 26,
    "start_time": "2021-09-08T18:39:07.581Z"
   },
   {
    "duration": 1458,
    "start_time": "2021-09-08T18:39:07.610Z"
   },
   {
    "duration": 396,
    "start_time": "2021-09-08T18:39:09.071Z"
   },
   {
    "duration": 485,
    "start_time": "2021-09-08T18:39:09.469Z"
   },
   {
    "duration": 31,
    "start_time": "2021-09-08T18:39:09.957Z"
   },
   {
    "duration": 707,
    "start_time": "2021-09-08T18:39:09.992Z"
   },
   {
    "duration": 16,
    "start_time": "2021-09-08T18:39:10.702Z"
   },
   {
    "duration": 9,
    "start_time": "2021-09-08T18:39:10.721Z"
   },
   {
    "duration": 37,
    "start_time": "2021-09-08T18:39:10.732Z"
   },
   {
    "duration": 8,
    "start_time": "2021-09-08T18:39:10.772Z"
   },
   {
    "duration": 17,
    "start_time": "2021-09-08T18:39:10.782Z"
   },
   {
    "duration": 332,
    "start_time": "2021-09-08T18:39:10.802Z"
   },
   {
    "duration": 38,
    "start_time": "2021-09-08T18:39:11.137Z"
   },
   {
    "duration": 518,
    "start_time": "2021-09-08T18:39:11.178Z"
   },
   {
    "duration": 759,
    "start_time": "2021-09-08T18:39:11.699Z"
   },
   {
    "duration": 336,
    "start_time": "2021-09-08T18:39:12.463Z"
   },
   {
    "duration": 77,
    "start_time": "2021-09-08T18:39:12.802Z"
   },
   {
    "duration": 387,
    "start_time": "2021-09-08T18:39:12.881Z"
   },
   {
    "duration": 1874,
    "start_time": "2021-09-08T18:39:13.271Z"
   },
   {
    "duration": 375,
    "start_time": "2021-09-08T18:39:15.148Z"
   },
   {
    "duration": 186,
    "start_time": "2021-09-08T18:39:15.526Z"
   },
   {
    "duration": 446,
    "start_time": "2021-09-08T18:39:15.715Z"
   },
   {
    "duration": 5,
    "start_time": "2021-09-08T18:39:16.163Z"
   },
   {
    "duration": 1308,
    "start_time": "2021-09-08T18:39:16.170Z"
   },
   {
    "duration": 310,
    "start_time": "2021-09-08T18:39:17.481Z"
   },
   {
    "duration": 477,
    "start_time": "2021-09-08T18:39:17.793Z"
   },
   {
    "duration": 418,
    "start_time": "2021-09-08T18:39:18.272Z"
   },
   {
    "duration": 8,
    "start_time": "2021-09-08T18:39:18.693Z"
   },
   {
    "duration": 13,
    "start_time": "2021-09-08T18:39:18.704Z"
   },
   {
    "duration": 49,
    "start_time": "2021-09-08T18:39:18.720Z"
   },
   {
    "duration": 24,
    "start_time": "2021-09-08T18:39:18.772Z"
   },
   {
    "duration": 75,
    "start_time": "2021-09-08T18:39:18.798Z"
   },
   {
    "duration": 8,
    "start_time": "2021-09-08T18:39:18.875Z"
   },
   {
    "duration": 17,
    "start_time": "2021-09-08T18:39:18.885Z"
   },
   {
    "duration": 532,
    "start_time": "2021-09-08T21:16:22.525Z"
   },
   {
    "duration": 2591,
    "start_time": "2021-09-08T21:16:35.498Z"
   },
   {
    "duration": 374,
    "start_time": "2021-09-08T21:16:56.552Z"
   },
   {
    "duration": 190,
    "start_time": "2021-09-08T21:16:58.569Z"
   },
   {
    "duration": 3373,
    "start_time": "2021-09-08T21:17:14.797Z"
   },
   {
    "duration": 605,
    "start_time": "2021-09-08T21:17:23.652Z"
   },
   {
    "duration": 284,
    "start_time": "2021-09-08T21:17:28.283Z"
   },
   {
    "duration": 5,
    "start_time": "2021-09-08T21:18:14.492Z"
   },
   {
    "duration": 789,
    "start_time": "2021-09-08T21:18:14.710Z"
   },
   {
    "duration": 5,
    "start_time": "2021-09-08T21:18:37.421Z"
   },
   {
    "duration": 875,
    "start_time": "2021-09-08T21:18:37.902Z"
   },
   {
    "duration": 329,
    "start_time": "2021-09-08T21:18:41.352Z"
   },
   {
    "duration": 248,
    "start_time": "2021-09-08T21:18:41.684Z"
   },
   {
    "duration": 773,
    "start_time": "2021-09-08T21:19:04.248Z"
   },
   {
    "duration": 341,
    "start_time": "2021-09-08T21:19:05.023Z"
   },
   {
    "duration": 246,
    "start_time": "2021-09-08T21:19:05.368Z"
   },
   {
    "duration": 390,
    "start_time": "2021-09-08T21:19:07.427Z"
   },
   {
    "duration": 30,
    "start_time": "2021-09-08T21:19:12.402Z"
   },
   {
    "duration": 39,
    "start_time": "2021-09-08T21:19:21.336Z"
   },
   {
    "duration": 1674,
    "start_time": "2021-09-08T21:21:02.210Z"
   },
   {
    "duration": 361,
    "start_time": "2021-09-08T21:21:03.887Z"
   },
   {
    "duration": 118,
    "start_time": "2021-09-08T21:21:04.251Z"
   },
   {
    "duration": 37,
    "start_time": "2021-09-08T21:21:13.278Z"
   },
   {
    "duration": 1233,
    "start_time": "2021-09-08T21:21:29.434Z"
   },
   {
    "duration": 342,
    "start_time": "2021-09-08T21:21:30.670Z"
   },
   {
    "duration": 88,
    "start_time": "2021-09-08T21:21:32.818Z"
   },
   {
    "duration": 26,
    "start_time": "2021-09-08T21:21:41.984Z"
   },
   {
    "duration": 1199,
    "start_time": "2021-09-08T21:22:00.522Z"
   },
   {
    "duration": 346,
    "start_time": "2021-09-08T21:22:03.255Z"
   },
   {
    "duration": 92,
    "start_time": "2021-09-08T21:22:03.722Z"
   },
   {
    "duration": 24,
    "start_time": "2021-09-08T21:22:09.808Z"
   },
   {
    "duration": 1021,
    "start_time": "2021-09-08T21:22:23.563Z"
   },
   {
    "duration": 342,
    "start_time": "2021-09-08T21:22:24.588Z"
   },
   {
    "duration": 81,
    "start_time": "2021-09-08T21:22:25.609Z"
   },
   {
    "duration": 25,
    "start_time": "2021-09-08T21:22:32.951Z"
   },
   {
    "duration": 1524,
    "start_time": "2021-09-08T21:22:47.699Z"
   },
   {
    "duration": 3,
    "start_time": "2021-09-08T21:22:49.226Z"
   },
   {
    "duration": 58,
    "start_time": "2021-09-08T21:22:49.233Z"
   },
   {
    "duration": 14,
    "start_time": "2021-09-08T21:22:49.294Z"
   },
   {
    "duration": 11,
    "start_time": "2021-09-08T21:22:49.310Z"
   },
   {
    "duration": 17,
    "start_time": "2021-09-08T21:22:49.324Z"
   },
   {
    "duration": 10,
    "start_time": "2021-09-08T21:22:49.368Z"
   },
   {
    "duration": 16,
    "start_time": "2021-09-08T21:22:49.382Z"
   },
   {
    "duration": 1438,
    "start_time": "2021-09-08T21:22:49.401Z"
   },
   {
    "duration": 476,
    "start_time": "2021-09-08T21:22:50.842Z"
   },
   {
    "duration": 21,
    "start_time": "2021-09-08T21:22:51.320Z"
   },
   {
    "duration": 704,
    "start_time": "2021-09-08T21:22:51.344Z"
   },
   {
    "duration": 22,
    "start_time": "2021-09-08T21:22:52.051Z"
   },
   {
    "duration": 7,
    "start_time": "2021-09-08T21:22:52.076Z"
   },
   {
    "duration": 10,
    "start_time": "2021-09-08T21:22:52.085Z"
   },
   {
    "duration": 6,
    "start_time": "2021-09-08T21:22:52.097Z"
   },
   {
    "duration": 11,
    "start_time": "2021-09-08T21:22:52.105Z"
   },
   {
    "duration": 352,
    "start_time": "2021-09-08T21:22:52.118Z"
   },
   {
    "duration": 105,
    "start_time": "2021-09-08T21:22:52.472Z"
   },
   {
    "duration": 470,
    "start_time": "2021-09-08T21:22:52.581Z"
   },
   {
    "duration": 1126,
    "start_time": "2021-09-08T21:22:53.054Z"
   },
   {
    "duration": 339,
    "start_time": "2021-09-08T21:22:54.183Z"
   },
   {
    "duration": 95,
    "start_time": "2021-09-08T21:22:54.526Z"
   },
   {
    "duration": 373,
    "start_time": "2021-09-08T21:22:54.624Z"
   },
   {
    "duration": 3437,
    "start_time": "2021-09-08T21:22:55.000Z"
   },
   {
    "duration": 527,
    "start_time": "2021-09-08T21:22:58.440Z"
   },
   {
    "duration": 292,
    "start_time": "2021-09-08T21:22:58.969Z"
   },
   {
    "duration": 367,
    "start_time": "2021-09-08T21:22:59.268Z"
   },
   {
    "duration": 4,
    "start_time": "2021-09-08T21:22:59.637Z"
   },
   {
    "duration": 803,
    "start_time": "2021-09-08T21:22:59.643Z"
   },
   {
    "duration": 331,
    "start_time": "2021-09-08T21:23:00.448Z"
   },
   {
    "duration": 243,
    "start_time": "2021-09-08T21:23:00.781Z"
   },
   {
    "duration": 379,
    "start_time": "2021-09-08T21:23:01.026Z"
   },
   {
    "duration": 7,
    "start_time": "2021-09-08T21:23:01.408Z"
   },
   {
    "duration": 12,
    "start_time": "2021-09-08T21:23:01.418Z"
   },
   {
    "duration": 51,
    "start_time": "2021-09-08T21:23:01.432Z"
   },
   {
    "duration": 36,
    "start_time": "2021-09-08T21:23:01.485Z"
   },
   {
    "duration": 50,
    "start_time": "2021-09-08T21:23:01.524Z"
   },
   {
    "duration": 7,
    "start_time": "2021-09-08T21:23:01.576Z"
   },
   {
    "duration": 25,
    "start_time": "2021-09-08T21:23:01.585Z"
   },
   {
    "duration": 750,
    "start_time": "2021-09-08T21:23:33.542Z"
   },
   {
    "duration": 323,
    "start_time": "2021-09-08T21:23:36.123Z"
   },
   {
    "duration": 75,
    "start_time": "2021-09-08T21:23:36.449Z"
   },
   {
    "duration": 20,
    "start_time": "2021-09-08T21:23:49.286Z"
   },
   {
    "duration": 241,
    "start_time": "2021-09-08T21:29:53.316Z"
   },
   {
    "duration": 341,
    "start_time": "2021-09-08T21:29:53.771Z"
   },
   {
    "duration": 23,
    "start_time": "2021-09-08T21:29:55.636Z"
   },
   {
    "duration": 18,
    "start_time": "2021-09-08T21:30:01.357Z"
   },
   {
    "duration": 215,
    "start_time": "2021-09-08T21:30:10.695Z"
   },
   {
    "duration": 316,
    "start_time": "2021-09-08T21:30:12.966Z"
   },
   {
    "duration": 19,
    "start_time": "2021-09-08T21:30:16.301Z"
   },
   {
    "duration": 18,
    "start_time": "2021-09-08T21:30:28.428Z"
   },
   {
    "duration": 609,
    "start_time": "2021-09-08T21:30:53.903Z"
   },
   {
    "duration": 755,
    "start_time": "2021-09-08T21:30:57.534Z"
   },
   {
    "duration": 333,
    "start_time": "2021-09-08T21:30:58.292Z"
   },
   {
    "duration": 56,
    "start_time": "2021-09-08T21:31:00.457Z"
   },
   {
    "duration": 21,
    "start_time": "2021-09-08T21:31:06.600Z"
   },
   {
    "duration": 626,
    "start_time": "2021-09-08T21:31:18.623Z"
   },
   {
    "duration": 332,
    "start_time": "2021-09-08T21:31:19.771Z"
   },
   {
    "duration": 53,
    "start_time": "2021-09-08T21:31:21.284Z"
   },
   {
    "duration": 19,
    "start_time": "2021-09-08T21:31:25.462Z"
   },
   {
    "duration": 645,
    "start_time": "2021-09-08T21:31:41.367Z"
   },
   {
    "duration": 337,
    "start_time": "2021-09-08T21:31:43.468Z"
   },
   {
    "duration": 69,
    "start_time": "2021-09-08T21:31:43.808Z"
   },
   {
    "duration": 19,
    "start_time": "2021-09-08T21:31:49.557Z"
   },
   {
    "duration": 1647,
    "start_time": "2021-09-08T21:33:33.022Z"
   },
   {
    "duration": 4,
    "start_time": "2021-09-08T21:33:34.672Z"
   },
   {
    "duration": 53,
    "start_time": "2021-09-08T21:33:34.679Z"
   },
   {
    "duration": 14,
    "start_time": "2021-09-08T21:33:34.735Z"
   },
   {
    "duration": 9,
    "start_time": "2021-09-08T21:33:34.767Z"
   },
   {
    "duration": 15,
    "start_time": "2021-09-08T21:33:34.779Z"
   },
   {
    "duration": 11,
    "start_time": "2021-09-08T21:33:34.796Z"
   },
   {
    "duration": 67,
    "start_time": "2021-09-08T21:33:34.809Z"
   },
   {
    "duration": 1450,
    "start_time": "2021-09-08T21:33:34.880Z"
   },
   {
    "duration": 503,
    "start_time": "2021-09-08T21:33:36.334Z"
   },
   {
    "duration": 36,
    "start_time": "2021-09-08T21:33:36.840Z"
   },
   {
    "duration": 707,
    "start_time": "2021-09-08T21:33:36.878Z"
   },
   {
    "duration": 13,
    "start_time": "2021-09-08T21:33:37.588Z"
   },
   {
    "duration": 9,
    "start_time": "2021-09-08T21:33:37.603Z"
   },
   {
    "duration": 5,
    "start_time": "2021-09-08T21:33:37.615Z"
   },
   {
    "duration": 6,
    "start_time": "2021-09-08T21:33:37.623Z"
   },
   {
    "duration": 9,
    "start_time": "2021-09-08T21:33:37.668Z"
   },
   {
    "duration": 326,
    "start_time": "2021-09-08T21:33:37.680Z"
   },
   {
    "duration": 9,
    "start_time": "2021-09-08T21:33:38.008Z"
   },
   {
    "duration": 454,
    "start_time": "2021-09-08T21:33:38.071Z"
   },
   {
    "duration": 649,
    "start_time": "2021-09-08T21:33:38.527Z"
   },
   {
    "duration": 342,
    "start_time": "2021-09-08T21:33:39.178Z"
   },
   {
    "duration": 69,
    "start_time": "2021-09-08T21:33:39.523Z"
   },
   {
    "duration": 391,
    "start_time": "2021-09-08T21:33:39.594Z"
   },
   {
    "duration": 3306,
    "start_time": "2021-09-08T21:33:39.988Z"
   },
   {
    "duration": 531,
    "start_time": "2021-09-08T21:33:43.296Z"
   },
   {
    "duration": 293,
    "start_time": "2021-09-08T21:33:43.833Z"
   },
   {
    "duration": 395,
    "start_time": "2021-09-08T21:33:44.129Z"
   },
   {
    "duration": 5,
    "start_time": "2021-09-08T21:33:44.527Z"
   },
   {
    "duration": 916,
    "start_time": "2021-09-08T21:33:44.535Z"
   },
   {
    "duration": 348,
    "start_time": "2021-09-08T21:33:45.453Z"
   },
   {
    "duration": 296,
    "start_time": "2021-09-08T21:33:45.804Z"
   },
   {
    "duration": 602,
    "start_time": "2021-09-08T21:33:46.104Z"
   },
   {
    "duration": 9,
    "start_time": "2021-09-08T21:33:46.708Z"
   },
   {
    "duration": 23,
    "start_time": "2021-09-08T21:33:46.720Z"
   },
   {
    "duration": 53,
    "start_time": "2021-09-08T21:33:46.745Z"
   },
   {
    "duration": 37,
    "start_time": "2021-09-08T21:33:46.801Z"
   },
   {
    "duration": 43,
    "start_time": "2021-09-08T21:33:46.840Z"
   },
   {
    "duration": 7,
    "start_time": "2021-09-08T21:33:46.885Z"
   },
   {
    "duration": 23,
    "start_time": "2021-09-08T21:33:46.894Z"
   },
   {
    "duration": 9,
    "start_time": "2021-09-08T21:35:10.570Z"
   },
   {
    "duration": 300,
    "start_time": "2021-09-08T21:35:12.075Z"
   },
   {
    "duration": 59,
    "start_time": "2021-09-08T21:35:13.215Z"
   },
   {
    "duration": 10,
    "start_time": "2021-09-08T21:35:22.649Z"
   },
   {
    "duration": 5,
    "start_time": "2021-09-08T21:40:10.059Z"
   },
   {
    "duration": 807,
    "start_time": "2021-09-08T21:40:12.734Z"
   },
   {
    "duration": 5,
    "start_time": "2021-09-08T21:40:36.352Z"
   },
   {
    "duration": 385,
    "start_time": "2021-09-08T21:40:38.674Z"
   },
   {
    "duration": 396,
    "start_time": "2021-09-08T21:41:04.798Z"
   },
   {
    "duration": 459,
    "start_time": "2021-09-08T21:41:10.111Z"
   },
   {
    "duration": 1795,
    "start_time": "2021-09-08T21:45:51.293Z"
   },
   {
    "duration": 4,
    "start_time": "2021-09-08T21:45:53.092Z"
   },
   {
    "duration": 90,
    "start_time": "2021-09-08T21:45:53.100Z"
   },
   {
    "duration": 14,
    "start_time": "2021-09-08T21:45:53.193Z"
   },
   {
    "duration": 59,
    "start_time": "2021-09-08T21:45:53.209Z"
   },
   {
    "duration": 24,
    "start_time": "2021-09-08T21:45:53.271Z"
   },
   {
    "duration": 18,
    "start_time": "2021-09-08T21:45:53.297Z"
   },
   {
    "duration": 64,
    "start_time": "2021-09-08T21:45:53.320Z"
   },
   {
    "duration": 2256,
    "start_time": "2021-09-08T21:45:53.388Z"
   },
   {
    "duration": 486,
    "start_time": "2021-09-08T21:45:55.647Z"
   },
   {
    "duration": 37,
    "start_time": "2021-09-08T21:45:56.136Z"
   },
   {
    "duration": 687,
    "start_time": "2021-09-08T21:45:56.176Z"
   },
   {
    "duration": 14,
    "start_time": "2021-09-08T21:45:56.868Z"
   },
   {
    "duration": 7,
    "start_time": "2021-09-08T21:45:56.885Z"
   },
   {
    "duration": 9,
    "start_time": "2021-09-08T21:45:56.895Z"
   },
   {
    "duration": 6,
    "start_time": "2021-09-08T21:45:56.906Z"
   },
   {
    "duration": 12,
    "start_time": "2021-09-08T21:45:56.914Z"
   },
   {
    "duration": 304,
    "start_time": "2021-09-08T21:45:56.968Z"
   },
   {
    "duration": 19,
    "start_time": "2021-09-08T21:45:57.274Z"
   },
   {
    "duration": 464,
    "start_time": "2021-09-08T21:45:57.367Z"
   },
   {
    "duration": 629,
    "start_time": "2021-09-08T21:45:57.834Z"
   },
   {
    "duration": 333,
    "start_time": "2021-09-08T21:45:58.468Z"
   },
   {
    "duration": 70,
    "start_time": "2021-09-08T21:45:58.809Z"
   },
   {
    "duration": 390,
    "start_time": "2021-09-08T21:45:58.883Z"
   },
   {
    "duration": 3255,
    "start_time": "2021-09-08T21:45:59.276Z"
   },
   {
    "duration": 544,
    "start_time": "2021-09-08T21:46:02.533Z"
   },
   {
    "duration": 368,
    "start_time": "2021-09-08T21:46:03.079Z"
   },
   {
    "duration": 403,
    "start_time": "2021-09-08T21:46:03.450Z"
   },
   {
    "duration": 12,
    "start_time": "2021-09-08T21:46:03.856Z"
   },
   {
    "duration": 798,
    "start_time": "2021-09-08T21:46:03.871Z"
   },
   {
    "duration": 332,
    "start_time": "2021-09-08T21:46:04.672Z"
   },
   {
    "duration": 247,
    "start_time": "2021-09-08T21:46:05.006Z"
   },
   {
    "duration": 397,
    "start_time": "2021-09-08T21:46:05.256Z"
   },
   {
    "duration": 13,
    "start_time": "2021-09-08T21:46:05.656Z"
   },
   {
    "duration": 27,
    "start_time": "2021-09-08T21:46:05.671Z"
   },
   {
    "duration": 37,
    "start_time": "2021-09-08T21:46:05.701Z"
   },
   {
    "duration": 51,
    "start_time": "2021-09-08T21:46:05.741Z"
   },
   {
    "duration": 30,
    "start_time": "2021-09-08T21:46:05.795Z"
   },
   {
    "duration": 12,
    "start_time": "2021-09-08T21:46:05.828Z"
   },
   {
    "duration": 16,
    "start_time": "2021-09-08T21:46:05.867Z"
   }
  ],
  "kernelspec": {
   "display_name": "Python 3",
   "language": "python",
   "name": "python3"
  },
  "language_info": {
   "codemirror_mode": {
    "name": "ipython",
    "version": 3
   },
   "file_extension": ".py",
   "mimetype": "text/x-python",
   "name": "python",
   "nbconvert_exporter": "python",
   "pygments_lexer": "ipython3",
   "version": "3.8.5"
  },
  "toc": {
   "base_numbering": 1,
   "nav_menu": {},
   "number_sections": true,
   "sideBar": true,
   "skip_h1_title": true,
   "title_cell": "Содержание",
   "title_sidebar": "Contents",
   "toc_cell": true,
   "toc_position": {
    "height": "calc(100% - 180px)",
    "left": "10px",
    "top": "150px",
    "width": "366.391px"
   },
   "toc_section_display": true,
   "toc_window_display": true
  },
  "varInspector": {
   "cols": {
    "lenName": 16,
    "lenType": 16,
    "lenVar": 40
   },
   "kernels_config": {
    "python": {
     "delete_cmd_postfix": "",
     "delete_cmd_prefix": "del ",
     "library": "var_list.py",
     "varRefreshCmd": "print(var_dic_list())"
    },
    "r": {
     "delete_cmd_postfix": ") ",
     "delete_cmd_prefix": "rm(",
     "library": "var_list.r",
     "varRefreshCmd": "cat(var_dic_list()) "
    }
   },
   "types_to_exclude": [
    "module",
    "function",
    "builtin_function_or_method",
    "instance",
    "_Feature"
   ],
   "window_display": false
  }
 },
 "nbformat": 4,
 "nbformat_minor": 2
}
